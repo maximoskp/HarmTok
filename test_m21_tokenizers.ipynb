{
 "cells": [
  {
   "cell_type": "code",
   "execution_count": 1,
   "metadata": {},
   "outputs": [
    {
     "name": "stderr",
     "output_type": "stream",
     "text": [
      "/home/maximos/anaconda3/envs/midi/lib/python3.11/site-packages/tqdm/auto.py:21: TqdmWarning: IProgress not found. Please update jupyter and ipywidgets. See https://ipywidgets.readthedocs.io/en/stable/user_install.html\n",
      "  from .autonotebook import tqdm as notebook_tqdm\n",
      "None of PyTorch, TensorFlow >= 2.0, or Flax have been found. Models won't be available and only tokenizers, configuration and file/data utilities can be used.\n"
     ]
    }
   ],
   "source": [
    "import os\n",
    "import csv\n",
    "import zlib\n",
    "import numpy as np\n",
    "from harmony_tokenizers_m21 import ChordSymbolTokenizer, RootTypeTokenizer, \\\n",
    "    PitchClassTokenizer, RootPCTokenizer, GCTRootPCTokenizer, \\\n",
    "    GCTSymbolTokenizer, GCTRootTypeTokenizer, MelodyPitchTokenizer, \\\n",
    "    MergedMelHarmTokenizer"
   ]
  },
  {
   "cell_type": "code",
   "execution_count": 2,
   "metadata": {},
   "outputs": [
    {
     "name": "stdout",
     "output_type": "stream",
     "text": [
      "Total files from Hook Theory dataset: 650\n"
     ]
    }
   ],
   "source": [
    "# root_dir = '/media/datadisk/datasets/hooktheory_xmls'\n",
    "root_dir = 'data/gjt_melodies/Library_melodies/'\n",
    "data_files = []\n",
    "\n",
    "# Walk through all subdirectories and files\n",
    "for dirpath, _, filenames in os.walk(root_dir):\n",
    "    for file in filenames:\n",
    "        if file.endswith('.xml') or file.endswith('.mxl'):\n",
    "            full_path = os.path.join(dirpath, file)\n",
    "            data_files.append(full_path)\n",
    "\n",
    "print('Total files from Hook Theory dataset:', len(data_files))"
   ]
  },
  {
   "cell_type": "code",
   "execution_count": 3,
   "metadata": {},
   "outputs": [],
   "source": [
    "# prepare stats\n",
    "stats = {}\n",
    "\n",
    "def compute_compression_rate(array: np.ndarray, compression_method=zlib.compress) -> float:\n",
    "    \"\"\"\n",
    "    Compute the compression rate of a NumPy array.\n",
    "\n",
    "    Parameters:\n",
    "        array (np.ndarray): The NumPy array to compress.\n",
    "        compression_method (callable): The compression method to use. \n",
    "                                       Default is `zlib.compress`.\n",
    "\n",
    "    Returns:\n",
    "        float: The compression rate (compressed size / original size).\n",
    "    \"\"\"\n",
    "    # Convert the array to bytes\n",
    "    array_bytes = array.tobytes()\n",
    "    \n",
    "    # Compress the byte representation\n",
    "    compressed_bytes = compression_method(array_bytes)\n",
    "    \n",
    "    # Compute sizes\n",
    "    original_size = len(array_bytes)\n",
    "    compressed_size = len(compressed_bytes)\n",
    "    \n",
    "    # Calculate compression rate\n",
    "    compression_rate = compressed_size / original_size\n",
    "\n",
    "    return compression_rate\n",
    "\n",
    "def initialize_stats(key, tokenizer):\n",
    "    stats[key] = {\n",
    "        'vocab_size': len(tokenizer.vocab),\n",
    "        'seq_lens': [],\n",
    "        'compression_rates': []\n",
    "    }\n",
    "# end initialize_stats\n",
    "\n",
    "def update_stats(key, toks):\n",
    "    for t in toks['ids']:\n",
    "        stats[key]['seq_lens'].append( len(t) )\n",
    "        stats[key]['compression_rates'].append( compute_compression_rate(np.array(t)) )\n",
    "    stats[key]['mean_len'] = np.mean(stats[key]['seq_lens'])\n",
    "    stats[key]['std_len'] = np.std(stats[key]['seq_lens'])\n",
    "    stats[key]['mean_compression'] = np.mean(stats[key]['compression_rates'])\n",
    "    stats[key]['std_compression'] = np.std(stats[key]['compression_rates'])\n",
    "# end update_stats\n",
    "\n",
    "def print_stats(key):\n",
    "    print('vocab_size: ', stats[key]['vocab_size'])\n",
    "    print('mean len: ', stats[key]['mean_len'])\n",
    "    print('std len: ', stats[key]['std_len'])\n",
    "    print('mean cr: ', stats[key]['mean_compression'])\n",
    "    print('std cr: ', stats[key]['std_compression'])"
   ]
  },
  {
   "cell_type": "code",
   "execution_count": 4,
   "metadata": {},
   "outputs": [
    {
     "name": "stdout",
     "output_type": "stream",
     "text": [
      "ChordSymbolTokenizer_m21\n",
      "len(chordSymbolTokenizer.vocab):  456\n"
     ]
    },
    {
     "name": "stderr",
     "output_type": "stream",
     "text": [
      "Processing Files:   0%|          | 0/650 [00:00<?, ?it/s]/home/maximos/anaconda3/envs/midi/lib/python3.11/site-packages/music21/stream/base.py:3689: Music21DeprecationWarning: .flat is deprecated.  Call .flatten() instead\n",
      "  return self.iter().getElementsByClass(classFilterList)\n",
      "Processing Files:   3%|▎         | 20/650 [00:01<00:53, 11.68it/s]/home/maximos/anaconda3/envs/midi/lib/python3.11/site-packages/music21/stream/base.py:3689: Music21DeprecationWarning: .flat is deprecated.  Call .flatten() instead\n",
      "  return self.iter().getElementsByClass(classFilterList)\n",
      "Processing Files:   5%|▍         | 32/650 [00:02<00:52, 11.67it/s]In /home/maximos/anaconda3/envs/midi/lib/python3.11/site-packages/matplotlib/mpl-data/stylelib/_classic_test_patch.mplstyle: .flat is deprecated.  Call .flatten() instead\n",
      "Processing Files:   5%|▌         | 34/650 [00:02<00:50, 12.13it/s]In /home/maximos/anaconda3/envs/midi/lib/python3.11/site-packages/matplotlib/mpl-data/stylelib/seaborn-v0_8-whitegrid.mplstyle: .flat is deprecated.  Call .flatten() instead\n",
      "In /home/maximos/anaconda3/envs/midi/lib/python3.11/site-packages/matplotlib/mpl-data/stylelib/seaborn-v0_8-dark-palette.mplstyle: .flat is deprecated.  Call .flatten() instead\n",
      "Processing Files:   6%|▌         | 36/650 [00:02<00:47, 12.90it/s]In /home/maximos/anaconda3/envs/midi/lib/python3.11/site-packages/matplotlib/mpl-data/stylelib/classic.mplstyle: .flat is deprecated.  Call .flatten() instead\n",
      "/home/maximos/anaconda3/envs/midi/lib/python3.11/site-packages/music21/stream/base.py:3689: Music21DeprecationWarning: .flat is deprecated.  Call .flatten() instead\n",
      "  return self.iter().getElementsByClass(classFilterList)\n",
      "Processing Files: 100%|██████████| 650/650 [00:48<00:00, 13.50it/s]"
     ]
    },
    {
     "name": "stdout",
     "output_type": "stream",
     "text": [
      "example sentence length:  90\n",
      "['<h>', '<bar>', 'position_0x00', 'A:min7', '<bar>', 'position_0x00', 'D:7', '<bar>', 'position_0x00', 'A:min7', '<bar>', 'position_0x00', 'D:7', '<bar>', 'position_0x00', 'G:maj7', '<bar>', 'position_0x00', 'C:7(#11)', '<bar>', 'position_0x00', 'B:min7', '<bar>', 'position_0x00', 'E:min7', '<bar>', 'position_0x00', 'B:maj7', 'position_2x00', 'F#:7', '<bar>', 'position_0x00', 'B:maj6', '<bar>', 'position_0x00', 'D:min7', '<bar>', 'position_0x00', 'G:7', '<bar>', 'position_0x00', 'D:min7', '<bar>', 'position_0x00', 'G:7', '<bar>', 'position_0x00', 'C:maj7', '<bar>', 'position_0x00', 'F:7', '<bar>', 'position_0x00', 'E:min7', 'position_2x00', 'A:7', '<bar>', 'position_0x00', 'A:min7', 'position_2x00', 'D:7', '<bar>', 'position_0x00', 'A:min7', '<bar>', 'position_0x00', 'D:7', '<bar>', 'position_0x00', 'G:maj7', 'position_2x00', 'F:7', '<bar>', 'position_0x00', 'E:7(b9)', '<bar>', 'position_0x00', 'A:min7', '<bar>', 'position_0x00', 'F:7', '<bar>', 'position_0x00', 'A:min7', 'position_2x00', 'D:7', '<bar>', 'position_0x00', 'G:maj6', '</s>']\n",
      "[7, 6, 8, 377, 6, 8, 172, 6, 8, 377, 6, 8, 172, 6, 8, 318, 6, 8, 135, 6, 8, 435, 6, 8, 232, 6, 8, 434, 24, 288, 6, 8, 437, 6, 8, 174, 6, 8, 317, 6, 8, 174, 6, 8, 317, 6, 8, 115, 6, 8, 259, 6, 8, 232, 24, 375, 6, 8, 377, 24, 172, 6, 8, 377, 6, 8, 172, 6, 8, 318, 24, 259, 6, 8, 249, 6, 8, 377, 6, 8, 259, 6, 8, 377, 24, 172, 6, 8, 321, 3]\n",
      "vocab_size:  456\n",
      "mean len:  105.60307692307693\n",
      "std len:  34.29661552815949\n",
      "mean cr:  0.11662560907221063\n",
      "std cr:  0.025056749639804442\n"
     ]
    },
    {
     "name": "stderr",
     "output_type": "stream",
     "text": [
      "\n"
     ]
    }
   ],
   "source": [
    "print('ChordSymbolTokenizer_m21')\n",
    "chordSymbolTokenizer = ChordSymbolTokenizer()\n",
    "print('len(chordSymbolTokenizer.vocab): ', len(chordSymbolTokenizer.vocab))\n",
    "initialize_stats('ChordSymbolTokenizer', chordSymbolTokenizer)\n",
    "toks_cs = chordSymbolTokenizer(data_files)\n",
    "print('example sentence length: ', len(toks_cs['tokens'][0]))\n",
    "print(toks_cs['tokens'][0])\n",
    "print(toks_cs['ids'][0])\n",
    "update_stats('ChordSymbolTokenizer', toks_cs)\n",
    "print_stats('ChordSymbolTokenizer')"
   ]
  },
  {
   "cell_type": "code",
   "execution_count": 5,
   "metadata": {},
   "outputs": [
    {
     "name": "stdout",
     "output_type": "stream",
     "text": [
      "{'<unk>': 0, '<pad>': 1, '<s>': 2, '</s>': 3, '<emp>': 4, '<mask>': 5, '<bar>': 6, '<h>': 7, 'position_0x00': 8, 'position_0x16': 9, 'position_0x25': 10, 'position_0x33': 11, 'position_0x50': 12, 'position_0x66': 13, 'position_0x75': 14, 'position_0x83': 15, 'position_1x00': 16, 'position_1x16': 17, 'position_1x25': 18, 'position_1x33': 19, 'position_1x50': 20, 'position_1x66': 21, 'position_1x75': 22, 'position_1x83': 23, 'position_2x00': 24, 'position_2x16': 25, 'position_2x25': 26, 'position_2x33': 27, 'position_2x50': 28, 'position_2x66': 29, 'position_2x75': 30, 'position_2x83': 31, 'position_3x00': 32, 'position_3x16': 33, 'position_3x25': 34, 'position_3x33': 35, 'position_3x50': 36, 'position_3x66': 37, 'position_3x75': 38, 'position_3x83': 39, 'position_4x00': 40, 'position_4x16': 41, 'position_4x25': 42, 'position_4x33': 43, 'position_4x50': 44, 'position_4x66': 45, 'position_4x75': 46, 'position_4x83': 47, 'position_5x00': 48, 'position_5x16': 49, 'position_5x25': 50, 'position_5x33': 51, 'position_5x50': 52, 'position_5x66': 53, 'position_5x75': 54, 'position_5x83': 55, 'position_6x00': 56, 'position_6x16': 57, 'position_6x25': 58, 'position_6x33': 59, 'position_6x50': 60, 'position_6x66': 61, 'position_6x75': 62, 'position_6x83': 63, 'position_7x00': 64, 'position_7x16': 65, 'position_7x25': 66, 'position_7x33': 67, 'position_7x50': 68, 'position_7x66': 69, 'position_7x75': 70, 'position_7x83': 71, 'position_8x00': 72, 'position_8x16': 73, 'position_8x25': 74, 'position_8x33': 75, 'position_8x50': 76, 'position_8x66': 77, 'position_8x75': 78, 'position_8x83': 79, 'position_9x00': 80, 'position_9x16': 81, 'position_9x25': 82, 'position_9x33': 83, 'position_9x50': 84, 'position_9x66': 85, 'position_9x75': 86, 'position_9x83': 87, 'ts_1x4': 88, 'ts_1x8': 89, 'ts_2x4': 90, 'ts_3x4': 91, 'ts_3x8': 92, 'ts_4x4': 93, 'ts_5x4': 94, 'ts_5x8': 95, 'ts_6x4': 96, 'ts_7x4': 97, 'ts_7x8': 98, 'ts_8x4': 99, 'ts_9x4': 100, 'ts_9x8': 101, 'ts_10x4': 102, 'ts_11x8': 103, 'ts_13x8': 104, 'ts_15x8': 105, 'ts_17x8': 106, 'ts_19x8': 107, 'C:maj': 108, 'C:min': 109, 'C:aug': 110, 'C:dim': 111, 'C:sus4': 112, 'C:sus2': 113, 'C:7': 114, 'C:maj7': 115, 'C:min7': 116, 'C:minmaj7': 117, 'C:maj6': 118, 'C:min6': 119, 'C:dim7': 120, 'C:hdim7': 121, 'C:maj9': 122, 'C:min9': 123, 'C:9': 124, 'C:min11': 125, 'C:11': 126, 'C:maj13': 127, 'C:min13': 128, 'C:13': 129, 'C:1': 130, 'C:5': 131, 'C:': 132, 'C:7(b9)': 133, 'C:7(#9)': 134, 'C:7(#11)': 135, 'C:7(b13)': 136, 'C#:maj': 137, 'C#:min': 138, 'C#:aug': 139, 'C#:dim': 140, 'C#:sus4': 141, 'C#:sus2': 142, 'C#:7': 143, 'C#:maj7': 144, 'C#:min7': 145, 'C#:minmaj7': 146, 'C#:maj6': 147, 'C#:min6': 148, 'C#:dim7': 149, 'C#:hdim7': 150, 'C#:maj9': 151, 'C#:min9': 152, 'C#:9': 153, 'C#:min11': 154, 'C#:11': 155, 'C#:maj13': 156, 'C#:min13': 157, 'C#:13': 158, 'C#:1': 159, 'C#:5': 160, 'C#:': 161, 'C#:7(b9)': 162, 'C#:7(#9)': 163, 'C#:7(#11)': 164, 'C#:7(b13)': 165, 'D:maj': 166, 'D:min': 167, 'D:aug': 168, 'D:dim': 169, 'D:sus4': 170, 'D:sus2': 171, 'D:7': 172, 'D:maj7': 173, 'D:min7': 174, 'D:minmaj7': 175, 'D:maj6': 176, 'D:min6': 177, 'D:dim7': 178, 'D:hdim7': 179, 'D:maj9': 180, 'D:min9': 181, 'D:9': 182, 'D:min11': 183, 'D:11': 184, 'D:maj13': 185, 'D:min13': 186, 'D:13': 187, 'D:1': 188, 'D:5': 189, 'D:': 190, 'D:7(b9)': 191, 'D:7(#9)': 192, 'D:7(#11)': 193, 'D:7(b13)': 194, 'D#:maj': 195, 'D#:min': 196, 'D#:aug': 197, 'D#:dim': 198, 'D#:sus4': 199, 'D#:sus2': 200, 'D#:7': 201, 'D#:maj7': 202, 'D#:min7': 203, 'D#:minmaj7': 204, 'D#:maj6': 205, 'D#:min6': 206, 'D#:dim7': 207, 'D#:hdim7': 208, 'D#:maj9': 209, 'D#:min9': 210, 'D#:9': 211, 'D#:min11': 212, 'D#:11': 213, 'D#:maj13': 214, 'D#:min13': 215, 'D#:13': 216, 'D#:1': 217, 'D#:5': 218, 'D#:': 219, 'D#:7(b9)': 220, 'D#:7(#9)': 221, 'D#:7(#11)': 222, 'D#:7(b13)': 223, 'E:maj': 224, 'E:min': 225, 'E:aug': 226, 'E:dim': 227, 'E:sus4': 228, 'E:sus2': 229, 'E:7': 230, 'E:maj7': 231, 'E:min7': 232, 'E:minmaj7': 233, 'E:maj6': 234, 'E:min6': 235, 'E:dim7': 236, 'E:hdim7': 237, 'E:maj9': 238, 'E:min9': 239, 'E:9': 240, 'E:min11': 241, 'E:11': 242, 'E:maj13': 243, 'E:min13': 244, 'E:13': 245, 'E:1': 246, 'E:5': 247, 'E:': 248, 'E:7(b9)': 249, 'E:7(#9)': 250, 'E:7(#11)': 251, 'E:7(b13)': 252, 'F:maj': 253, 'F:min': 254, 'F:aug': 255, 'F:dim': 256, 'F:sus4': 257, 'F:sus2': 258, 'F:7': 259, 'F:maj7': 260, 'F:min7': 261, 'F:minmaj7': 262, 'F:maj6': 263, 'F:min6': 264, 'F:dim7': 265, 'F:hdim7': 266, 'F:maj9': 267, 'F:min9': 268, 'F:9': 269, 'F:min11': 270, 'F:11': 271, 'F:maj13': 272, 'F:min13': 273, 'F:13': 274, 'F:1': 275, 'F:5': 276, 'F:': 277, 'F:7(b9)': 278, 'F:7(#9)': 279, 'F:7(#11)': 280, 'F:7(b13)': 281, 'F#:maj': 282, 'F#:min': 283, 'F#:aug': 284, 'F#:dim': 285, 'F#:sus4': 286, 'F#:sus2': 287, 'F#:7': 288, 'F#:maj7': 289, 'F#:min7': 290, 'F#:minmaj7': 291, 'F#:maj6': 292, 'F#:min6': 293, 'F#:dim7': 294, 'F#:hdim7': 295, 'F#:maj9': 296, 'F#:min9': 297, 'F#:9': 298, 'F#:min11': 299, 'F#:11': 300, 'F#:maj13': 301, 'F#:min13': 302, 'F#:13': 303, 'F#:1': 304, 'F#:5': 305, 'F#:': 306, 'F#:7(b9)': 307, 'F#:7(#9)': 308, 'F#:7(#11)': 309, 'F#:7(b13)': 310, 'G:maj': 311, 'G:min': 312, 'G:aug': 313, 'G:dim': 314, 'G:sus4': 315, 'G:sus2': 316, 'G:7': 317, 'G:maj7': 318, 'G:min7': 319, 'G:minmaj7': 320, 'G:maj6': 321, 'G:min6': 322, 'G:dim7': 323, 'G:hdim7': 324, 'G:maj9': 325, 'G:min9': 326, 'G:9': 327, 'G:min11': 328, 'G:11': 329, 'G:maj13': 330, 'G:min13': 331, 'G:13': 332, 'G:1': 333, 'G:5': 334, 'G:': 335, 'G:7(b9)': 336, 'G:7(#9)': 337, 'G:7(#11)': 338, 'G:7(b13)': 339, 'G#:maj': 340, 'G#:min': 341, 'G#:aug': 342, 'G#:dim': 343, 'G#:sus4': 344, 'G#:sus2': 345, 'G#:7': 346, 'G#:maj7': 347, 'G#:min7': 348, 'G#:minmaj7': 349, 'G#:maj6': 350, 'G#:min6': 351, 'G#:dim7': 352, 'G#:hdim7': 353, 'G#:maj9': 354, 'G#:min9': 355, 'G#:9': 356, 'G#:min11': 357, 'G#:11': 358, 'G#:maj13': 359, 'G#:min13': 360, 'G#:13': 361, 'G#:1': 362, 'G#:5': 363, 'G#:': 364, 'G#:7(b9)': 365, 'G#:7(#9)': 366, 'G#:7(#11)': 367, 'G#:7(b13)': 368, 'A:maj': 369, 'A:min': 370, 'A:aug': 371, 'A:dim': 372, 'A:sus4': 373, 'A:sus2': 374, 'A:7': 375, 'A:maj7': 376, 'A:min7': 377, 'A:minmaj7': 378, 'A:maj6': 379, 'A:min6': 380, 'A:dim7': 381, 'A:hdim7': 382, 'A:maj9': 383, 'A:min9': 384, 'A:9': 385, 'A:min11': 386, 'A:11': 387, 'A:maj13': 388, 'A:min13': 389, 'A:13': 390, 'A:1': 391, 'A:5': 392, 'A:': 393, 'A:7(b9)': 394, 'A:7(#9)': 395, 'A:7(#11)': 396, 'A:7(b13)': 397, 'A#:maj': 398, 'A#:min': 399, 'A#:aug': 400, 'A#:dim': 401, 'A#:sus4': 402, 'A#:sus2': 403, 'A#:7': 404, 'A#:maj7': 405, 'A#:min7': 406, 'A#:minmaj7': 407, 'A#:maj6': 408, 'A#:min6': 409, 'A#:dim7': 410, 'A#:hdim7': 411, 'A#:maj9': 412, 'A#:min9': 413, 'A#:9': 414, 'A#:min11': 415, 'A#:11': 416, 'A#:maj13': 417, 'A#:min13': 418, 'A#:13': 419, 'A#:1': 420, 'A#:5': 421, 'A#:': 422, 'A#:7(b9)': 423, 'A#:7(#9)': 424, 'A#:7(#11)': 425, 'A#:7(b13)': 426, 'B:maj': 427, 'B:min': 428, 'B:aug': 429, 'B:dim': 430, 'B:sus4': 431, 'B:sus2': 432, 'B:7': 433, 'B:maj7': 434, 'B:min7': 435, 'B:minmaj7': 436, 'B:maj6': 437, 'B:min6': 438, 'B:dim7': 439, 'B:hdim7': 440, 'B:maj9': 441, 'B:min9': 442, 'B:9': 443, 'B:min11': 444, 'B:11': 445, 'B:maj13': 446, 'B:min13': 447, 'B:13': 448, 'B:1': 449, 'B:5': 450, 'B:': 451, 'B:7(b9)': 452, 'B:7(#9)': 453, 'B:7(#11)': 454, 'B:7(b13)': 455}\n"
     ]
    }
   ],
   "source": [
    "chordSymbolTokenizer.save_pretrained('saved_tokenizers/ChordSymbolTokenizer')\n",
    "chordSymbolTokenizer.from_pretrained('saved_tokenizers/ChordSymbolTokenizer')\n",
    "print(chordSymbolTokenizer.vocab)"
   ]
  },
  {
   "cell_type": "code",
   "execution_count": 6,
   "metadata": {},
   "outputs": [
    {
     "name": "stdout",
     "output_type": "stream",
     "text": [
      "RootTypeTokenizer\n",
      "len(rootTypeTokenizer.vocab):  149\n"
     ]
    },
    {
     "name": "stderr",
     "output_type": "stream",
     "text": [
      "Processing Files: 100%|██████████| 650/650 [00:47<00:00, 13.55it/s]"
     ]
    },
    {
     "name": "stdout",
     "output_type": "stream",
     "text": [
      "example sentence length:  90\n",
      "['<h>', '<bar>', 'position_0x00', '<unk>', '<bar>', 'position_0x00', '<unk>', '<bar>', 'position_0x00', '<unk>', '<bar>', 'position_0x00', '<unk>', '<bar>', 'position_0x00', '<unk>', '<bar>', 'position_0x00', '<unk>', '<bar>', 'position_0x00', '<unk>', '<bar>', 'position_0x00', '<unk>', '<bar>', 'position_0x00', '<unk>', 'position_2x00', '<unk>', '<bar>', 'position_0x00', '<unk>', '<bar>', 'position_0x00', '<unk>', '<bar>', 'position_0x00', '<unk>', '<bar>', 'position_0x00', '<unk>', '<bar>', 'position_0x00', '<unk>', '<bar>', 'position_0x00', '<unk>', '<bar>', 'position_0x00', '<unk>', '<bar>', 'position_0x00', '<unk>', 'position_2x00', '<unk>', '<bar>', 'position_0x00', '<unk>', 'position_2x00', '<unk>', '<bar>', 'position_0x00', '<unk>', '<bar>', 'position_0x00', '<unk>', '<bar>', 'position_0x00', '<unk>', 'position_2x00', '<unk>', '<bar>', 'position_0x00', '<unk>', '<bar>', 'position_0x00', '<unk>', '<bar>', 'position_0x00', '<unk>', '<bar>', 'position_0x00', '<unk>', 'position_2x00', '<unk>', '<bar>', 'position_0x00', '<unk>', '</s>']\n",
      "[7, 6, 8, 0, 6, 8, 0, 6, 8, 0, 6, 8, 0, 6, 8, 0, 6, 8, 0, 6, 8, 0, 6, 8, 0, 6, 8, 0, 24, 0, 6, 8, 0, 6, 8, 0, 6, 8, 0, 6, 8, 0, 6, 8, 0, 6, 8, 0, 6, 8, 0, 6, 8, 0, 24, 0, 6, 8, 0, 24, 0, 6, 8, 0, 6, 8, 0, 6, 8, 0, 24, 0, 6, 8, 0, 6, 8, 0, 6, 8, 0, 6, 8, 0, 24, 0, 6, 8, 0, 3]\n",
      "vocab_size:  149\n",
      "mean len:  105.60307692307693\n",
      "std len:  34.29661552815949\n",
      "mean cr:  0.04821517523192153\n",
      "std cr:  0.013265698737073667\n"
     ]
    },
    {
     "name": "stderr",
     "output_type": "stream",
     "text": [
      "\n"
     ]
    }
   ],
   "source": [
    "print('RootTypeTokenizer')\n",
    "rootTypeTokenizer = RootTypeTokenizer()\n",
    "print('len(rootTypeTokenizer.vocab): ', len(rootTypeTokenizer.vocab))\n",
    "initialize_stats('RootTypeTokenizer', rootTypeTokenizer)\n",
    "toks_rt = rootTypeTokenizer(data_files)\n",
    "print('example sentence length: ', len(toks_rt['tokens'][0]))\n",
    "print(toks_rt['tokens'][0])\n",
    "print(toks_rt['ids'][0])\n",
    "update_stats('RootTypeTokenizer', toks_rt)\n",
    "print_stats('RootTypeTokenizer')"
   ]
  },
  {
   "cell_type": "code",
   "execution_count": 7,
   "metadata": {},
   "outputs": [
    {
     "name": "stdout",
     "output_type": "stream",
     "text": [
      "{'<unk>': 0, '<pad>': 1, '<s>': 2, '</s>': 3, '<emp>': 4, '<mask>': 5, '<bar>': 6, '<h>': 7, 'position_0x00': 8, 'position_0x16': 9, 'position_0x25': 10, 'position_0x33': 11, 'position_0x50': 12, 'position_0x66': 13, 'position_0x75': 14, 'position_0x83': 15, 'position_1x00': 16, 'position_1x16': 17, 'position_1x25': 18, 'position_1x33': 19, 'position_1x50': 20, 'position_1x66': 21, 'position_1x75': 22, 'position_1x83': 23, 'position_2x00': 24, 'position_2x16': 25, 'position_2x25': 26, 'position_2x33': 27, 'position_2x50': 28, 'position_2x66': 29, 'position_2x75': 30, 'position_2x83': 31, 'position_3x00': 32, 'position_3x16': 33, 'position_3x25': 34, 'position_3x33': 35, 'position_3x50': 36, 'position_3x66': 37, 'position_3x75': 38, 'position_3x83': 39, 'position_4x00': 40, 'position_4x16': 41, 'position_4x25': 42, 'position_4x33': 43, 'position_4x50': 44, 'position_4x66': 45, 'position_4x75': 46, 'position_4x83': 47, 'position_5x00': 48, 'position_5x16': 49, 'position_5x25': 50, 'position_5x33': 51, 'position_5x50': 52, 'position_5x66': 53, 'position_5x75': 54, 'position_5x83': 55, 'position_6x00': 56, 'position_6x16': 57, 'position_6x25': 58, 'position_6x33': 59, 'position_6x50': 60, 'position_6x66': 61, 'position_6x75': 62, 'position_6x83': 63, 'position_7x00': 64, 'position_7x16': 65, 'position_7x25': 66, 'position_7x33': 67, 'position_7x50': 68, 'position_7x66': 69, 'position_7x75': 70, 'position_7x83': 71, 'position_8x00': 72, 'position_8x16': 73, 'position_8x25': 74, 'position_8x33': 75, 'position_8x50': 76, 'position_8x66': 77, 'position_8x75': 78, 'position_8x83': 79, 'position_9x00': 80, 'position_9x16': 81, 'position_9x25': 82, 'position_9x33': 83, 'position_9x50': 84, 'position_9x66': 85, 'position_9x75': 86, 'position_9x83': 87, 'ts_1x4': 88, 'ts_1x8': 89, 'ts_2x4': 90, 'ts_3x4': 91, 'ts_3x8': 92, 'ts_4x4': 93, 'ts_5x4': 94, 'ts_5x8': 95, 'ts_6x4': 96, 'ts_7x4': 97, 'ts_7x8': 98, 'ts_8x4': 99, 'ts_9x4': 100, 'ts_9x8': 101, 'ts_10x4': 102, 'ts_11x8': 103, 'ts_13x8': 104, 'ts_15x8': 105, 'ts_17x8': 106, 'ts_19x8': 107, 'C': 108, 'C#': 109, 'D': 110, 'D#': 111, 'E': 112, 'F': 113, 'F#': 114, 'G': 115, 'G#': 116, 'A': 117, 'A#': 118, 'B': 119, 'maj': 120, 'min': 121, 'aug': 122, 'dim': 123, 'sus4': 124, 'sus2': 125, '7': 126, 'maj7': 127, 'min7': 128, 'minmaj7': 129, 'maj6': 130, 'min6': 131, 'dim7': 132, 'hdim7': 133, 'maj9': 134, 'min9': 135, '9': 136, 'min11': 137, '11': 138, 'maj13': 139, 'min13': 140, '13': 141, '1': 142, '5': 143, '': 144, '7(b9)': 145, '7(#9)': 146, '7(#11)': 147, '7(b13)': 148}\n"
     ]
    }
   ],
   "source": [
    "rootTypeTokenizer.save_pretrained('saved_tokenizers/RootTypeTokenizer')\n",
    "rootTypeTokenizer.from_pretrained('saved_tokenizers/RootTypeTokenizer')\n",
    "print(rootTypeTokenizer.vocab)"
   ]
  },
  {
   "cell_type": "code",
   "execution_count": 8,
   "metadata": {},
   "outputs": [
    {
     "name": "stdout",
     "output_type": "stream",
     "text": [
      "PitchClassTokenizer\n",
      "len(pitchClassTokenizer.vocab):  120\n"
     ]
    },
    {
     "name": "stderr",
     "output_type": "stream",
     "text": [
      "Processing Files: 100%|██████████| 650/650 [00:48<00:00, 13.51it/s]"
     ]
    },
    {
     "name": "stdout",
     "output_type": "stream",
     "text": [
      "example sentence length:  90\n",
      "['<h>', '<bar>', 'position_0x00', '<unk>', '<bar>', 'position_0x00', '<unk>', '<bar>', 'position_0x00', '<unk>', '<bar>', 'position_0x00', '<unk>', '<bar>', 'position_0x00', '<unk>', '<bar>', 'position_0x00', '<unk>', '<bar>', 'position_0x00', '<unk>', '<bar>', 'position_0x00', '<unk>', '<bar>', 'position_0x00', '<unk>', 'position_2x00', '<unk>', '<bar>', 'position_0x00', '<unk>', '<bar>', 'position_0x00', '<unk>', '<bar>', 'position_0x00', '<unk>', '<bar>', 'position_0x00', '<unk>', '<bar>', 'position_0x00', '<unk>', '<bar>', 'position_0x00', '<unk>', '<bar>', 'position_0x00', '<unk>', '<bar>', 'position_0x00', '<unk>', 'position_2x00', '<unk>', '<bar>', 'position_0x00', '<unk>', 'position_2x00', '<unk>', '<bar>', 'position_0x00', '<unk>', '<bar>', 'position_0x00', '<unk>', '<bar>', 'position_0x00', '<unk>', 'position_2x00', '<unk>', '<bar>', 'position_0x00', '<unk>', '<bar>', 'position_0x00', '<unk>', '<bar>', 'position_0x00', '<unk>', '<bar>', 'position_0x00', '<unk>', 'position_2x00', '<unk>', '<bar>', 'position_0x00', '<unk>', '</s>']\n",
      "[7, 6, 8, 0, 6, 8, 0, 6, 8, 0, 6, 8, 0, 6, 8, 0, 6, 8, 0, 6, 8, 0, 6, 8, 0, 6, 8, 0, 24, 0, 6, 8, 0, 6, 8, 0, 6, 8, 0, 6, 8, 0, 6, 8, 0, 6, 8, 0, 6, 8, 0, 6, 8, 0, 24, 0, 6, 8, 0, 24, 0, 6, 8, 0, 6, 8, 0, 6, 8, 0, 24, 0, 6, 8, 0, 6, 8, 0, 6, 8, 0, 6, 8, 0, 24, 0, 6, 8, 0, 3]\n",
      "vocab_size:  120\n",
      "mean len:  105.60307692307693\n",
      "std len:  34.29661552815949\n",
      "mean cr:  0.04821517523192153\n",
      "std cr:  0.013265698737073667\n"
     ]
    },
    {
     "name": "stderr",
     "output_type": "stream",
     "text": [
      "\n"
     ]
    }
   ],
   "source": [
    "print('PitchClassTokenizer')\n",
    "pitchClassTokenizer = PitchClassTokenizer()\n",
    "print('len(pitchClassTokenizer.vocab): ', len(pitchClassTokenizer.vocab))\n",
    "initialize_stats('PitchClassTokenizer', pitchClassTokenizer)\n",
    "toks_pc = pitchClassTokenizer(data_files)\n",
    "print('example sentence length: ', len(toks_pc['tokens'][0]))\n",
    "print(toks_pc['tokens'][0])\n",
    "print(toks_pc['ids'][0])\n",
    "update_stats('PitchClassTokenizer', toks_pc)\n",
    "print_stats('PitchClassTokenizer')"
   ]
  },
  {
   "cell_type": "code",
   "execution_count": 9,
   "metadata": {},
   "outputs": [
    {
     "name": "stdout",
     "output_type": "stream",
     "text": [
      "{'<unk>': 0, '<pad>': 1, '<s>': 2, '</s>': 3, '<emp>': 4, '<mask>': 5, '<bar>': 6, '<h>': 7, 'position_0x00': 8, 'position_0x16': 9, 'position_0x25': 10, 'position_0x33': 11, 'position_0x50': 12, 'position_0x66': 13, 'position_0x75': 14, 'position_0x83': 15, 'position_1x00': 16, 'position_1x16': 17, 'position_1x25': 18, 'position_1x33': 19, 'position_1x50': 20, 'position_1x66': 21, 'position_1x75': 22, 'position_1x83': 23, 'position_2x00': 24, 'position_2x16': 25, 'position_2x25': 26, 'position_2x33': 27, 'position_2x50': 28, 'position_2x66': 29, 'position_2x75': 30, 'position_2x83': 31, 'position_3x00': 32, 'position_3x16': 33, 'position_3x25': 34, 'position_3x33': 35, 'position_3x50': 36, 'position_3x66': 37, 'position_3x75': 38, 'position_3x83': 39, 'position_4x00': 40, 'position_4x16': 41, 'position_4x25': 42, 'position_4x33': 43, 'position_4x50': 44, 'position_4x66': 45, 'position_4x75': 46, 'position_4x83': 47, 'position_5x00': 48, 'position_5x16': 49, 'position_5x25': 50, 'position_5x33': 51, 'position_5x50': 52, 'position_5x66': 53, 'position_5x75': 54, 'position_5x83': 55, 'position_6x00': 56, 'position_6x16': 57, 'position_6x25': 58, 'position_6x33': 59, 'position_6x50': 60, 'position_6x66': 61, 'position_6x75': 62, 'position_6x83': 63, 'position_7x00': 64, 'position_7x16': 65, 'position_7x25': 66, 'position_7x33': 67, 'position_7x50': 68, 'position_7x66': 69, 'position_7x75': 70, 'position_7x83': 71, 'position_8x00': 72, 'position_8x16': 73, 'position_8x25': 74, 'position_8x33': 75, 'position_8x50': 76, 'position_8x66': 77, 'position_8x75': 78, 'position_8x83': 79, 'position_9x00': 80, 'position_9x16': 81, 'position_9x25': 82, 'position_9x33': 83, 'position_9x50': 84, 'position_9x66': 85, 'position_9x75': 86, 'position_9x83': 87, 'ts_1x4': 88, 'ts_1x8': 89, 'ts_2x4': 90, 'ts_3x4': 91, 'ts_3x8': 92, 'ts_4x4': 93, 'ts_5x4': 94, 'ts_5x8': 95, 'ts_6x4': 96, 'ts_7x4': 97, 'ts_7x8': 98, 'ts_8x4': 99, 'ts_9x4': 100, 'ts_9x8': 101, 'ts_10x4': 102, 'ts_11x8': 103, 'ts_13x8': 104, 'ts_15x8': 105, 'ts_17x8': 106, 'ts_19x8': 107, 'chord_pc_0': 108, 'chord_pc_1': 109, 'chord_pc_2': 110, 'chord_pc_3': 111, 'chord_pc_4': 112, 'chord_pc_5': 113, 'chord_pc_6': 114, 'chord_pc_7': 115, 'chord_pc_8': 116, 'chord_pc_9': 117, 'chord_pc_10': 118, 'chord_pc_11': 119}\n"
     ]
    }
   ],
   "source": [
    "pitchClassTokenizer.save_pretrained('saved_tokenizers/PitchClassTokenizer')\n",
    "pitchClassTokenizer.from_pretrained('saved_tokenizers/PitchClassTokenizer')\n",
    "print(pitchClassTokenizer.vocab)"
   ]
  },
  {
   "cell_type": "code",
   "execution_count": 10,
   "metadata": {},
   "outputs": [
    {
     "name": "stdout",
     "output_type": "stream",
     "text": [
      "RootPCTokenizer\n",
      "len(rootPCTokenizer.vocab):  132\n"
     ]
    },
    {
     "name": "stderr",
     "output_type": "stream",
     "text": [
      "Processing Files: 100%|██████████| 650/650 [00:48<00:00, 13.46it/s]"
     ]
    },
    {
     "name": "stdout",
     "output_type": "stream",
     "text": [
      "example sentence length:  90\n",
      "['<h>', '<bar>', 'position_0x00', '<unk>', '<bar>', 'position_0x00', '<unk>', '<bar>', 'position_0x00', '<unk>', '<bar>', 'position_0x00', '<unk>', '<bar>', 'position_0x00', '<unk>', '<bar>', 'position_0x00', '<unk>', '<bar>', 'position_0x00', '<unk>', '<bar>', 'position_0x00', '<unk>', '<bar>', 'position_0x00', '<unk>', 'position_2x00', '<unk>', '<bar>', 'position_0x00', '<unk>', '<bar>', 'position_0x00', '<unk>', '<bar>', 'position_0x00', '<unk>', '<bar>', 'position_0x00', '<unk>', '<bar>', 'position_0x00', '<unk>', '<bar>', 'position_0x00', '<unk>', '<bar>', 'position_0x00', '<unk>', '<bar>', 'position_0x00', '<unk>', 'position_2x00', '<unk>', '<bar>', 'position_0x00', '<unk>', 'position_2x00', '<unk>', '<bar>', 'position_0x00', '<unk>', '<bar>', 'position_0x00', '<unk>', '<bar>', 'position_0x00', '<unk>', 'position_2x00', '<unk>', '<bar>', 'position_0x00', '<unk>', '<bar>', 'position_0x00', '<unk>', '<bar>', 'position_0x00', '<unk>', '<bar>', 'position_0x00', '<unk>', 'position_2x00', '<unk>', '<bar>', 'position_0x00', '<unk>', '</s>']\n",
      "[7, 6, 8, 0, 6, 8, 0, 6, 8, 0, 6, 8, 0, 6, 8, 0, 6, 8, 0, 6, 8, 0, 6, 8, 0, 6, 8, 0, 24, 0, 6, 8, 0, 6, 8, 0, 6, 8, 0, 6, 8, 0, 6, 8, 0, 6, 8, 0, 6, 8, 0, 6, 8, 0, 24, 0, 6, 8, 0, 24, 0, 6, 8, 0, 6, 8, 0, 6, 8, 0, 24, 0, 6, 8, 0, 6, 8, 0, 6, 8, 0, 6, 8, 0, 24, 0, 6, 8, 0, 3]\n",
      "vocab_size:  132\n",
      "mean len:  105.60307692307693\n",
      "std len:  34.29661552815949\n",
      "mean cr:  0.04821517523192153\n",
      "std cr:  0.013265698737073667\n"
     ]
    },
    {
     "name": "stderr",
     "output_type": "stream",
     "text": [
      "\n"
     ]
    }
   ],
   "source": [
    "print('RootPCTokenizer')\n",
    "rootPCTokenizer = RootPCTokenizer()\n",
    "print('len(rootPCTokenizer.vocab): ', len(rootPCTokenizer.vocab))\n",
    "initialize_stats('RootPCTokenizer', rootPCTokenizer)\n",
    "toks_rpc = rootPCTokenizer(data_files)\n",
    "print('example sentence length: ', len(toks_rpc['tokens'][0]))\n",
    "print(toks_rpc['tokens'][0])\n",
    "print(toks_rpc['ids'][0])\n",
    "update_stats('RootPCTokenizer', toks_rpc)\n",
    "print_stats('RootPCTokenizer')"
   ]
  },
  {
   "cell_type": "code",
   "execution_count": 11,
   "metadata": {},
   "outputs": [
    {
     "name": "stdout",
     "output_type": "stream",
     "text": [
      "{'<unk>': 0, '<pad>': 1, '<s>': 2, '</s>': 3, '<emp>': 4, '<mask>': 5, '<bar>': 6, '<h>': 7, 'position_0x00': 8, 'position_0x16': 9, 'position_0x25': 10, 'position_0x33': 11, 'position_0x50': 12, 'position_0x66': 13, 'position_0x75': 14, 'position_0x83': 15, 'position_1x00': 16, 'position_1x16': 17, 'position_1x25': 18, 'position_1x33': 19, 'position_1x50': 20, 'position_1x66': 21, 'position_1x75': 22, 'position_1x83': 23, 'position_2x00': 24, 'position_2x16': 25, 'position_2x25': 26, 'position_2x33': 27, 'position_2x50': 28, 'position_2x66': 29, 'position_2x75': 30, 'position_2x83': 31, 'position_3x00': 32, 'position_3x16': 33, 'position_3x25': 34, 'position_3x33': 35, 'position_3x50': 36, 'position_3x66': 37, 'position_3x75': 38, 'position_3x83': 39, 'position_4x00': 40, 'position_4x16': 41, 'position_4x25': 42, 'position_4x33': 43, 'position_4x50': 44, 'position_4x66': 45, 'position_4x75': 46, 'position_4x83': 47, 'position_5x00': 48, 'position_5x16': 49, 'position_5x25': 50, 'position_5x33': 51, 'position_5x50': 52, 'position_5x66': 53, 'position_5x75': 54, 'position_5x83': 55, 'position_6x00': 56, 'position_6x16': 57, 'position_6x25': 58, 'position_6x33': 59, 'position_6x50': 60, 'position_6x66': 61, 'position_6x75': 62, 'position_6x83': 63, 'position_7x00': 64, 'position_7x16': 65, 'position_7x25': 66, 'position_7x33': 67, 'position_7x50': 68, 'position_7x66': 69, 'position_7x75': 70, 'position_7x83': 71, 'position_8x00': 72, 'position_8x16': 73, 'position_8x25': 74, 'position_8x33': 75, 'position_8x50': 76, 'position_8x66': 77, 'position_8x75': 78, 'position_8x83': 79, 'position_9x00': 80, 'position_9x16': 81, 'position_9x25': 82, 'position_9x33': 83, 'position_9x50': 84, 'position_9x66': 85, 'position_9x75': 86, 'position_9x83': 87, 'ts_1x4': 88, 'ts_1x8': 89, 'ts_2x4': 90, 'ts_3x4': 91, 'ts_3x8': 92, 'ts_4x4': 93, 'ts_5x4': 94, 'ts_5x8': 95, 'ts_6x4': 96, 'ts_7x4': 97, 'ts_7x8': 98, 'ts_8x4': 99, 'ts_9x4': 100, 'ts_9x8': 101, 'ts_10x4': 102, 'ts_11x8': 103, 'ts_13x8': 104, 'ts_15x8': 105, 'ts_17x8': 106, 'ts_19x8': 107, 'chord_root_0': 108, 'chord_root_1': 109, 'chord_root_2': 110, 'chord_root_3': 111, 'chord_root_4': 112, 'chord_root_5': 113, 'chord_root_6': 114, 'chord_root_7': 115, 'chord_root_8': 116, 'chord_root_9': 117, 'chord_root_10': 118, 'chord_root_11': 119, 'chord_pc_0': 120, 'chord_pc_1': 121, 'chord_pc_2': 122, 'chord_pc_3': 123, 'chord_pc_4': 124, 'chord_pc_5': 125, 'chord_pc_6': 126, 'chord_pc_7': 127, 'chord_pc_8': 128, 'chord_pc_9': 129, 'chord_pc_10': 130, 'chord_pc_11': 131}\n"
     ]
    }
   ],
   "source": [
    "rootPCTokenizer.save_pretrained('saved_tokenizers/RootPCTokenizer')\n",
    "rootPCTokenizer.from_pretrained('saved_tokenizers/RootPCTokenizer')\n",
    "print(rootPCTokenizer.vocab)"
   ]
  },
  {
   "cell_type": "code",
   "execution_count": 12,
   "metadata": {},
   "outputs": [
    {
     "name": "stdout",
     "output_type": "stream",
     "text": [
      "GCTRootPCTokenizer\n",
      "len(gctRootPCTokenizer.vocab):  132\n"
     ]
    },
    {
     "name": "stderr",
     "output_type": "stream",
     "text": [
      "Processing Files: 100%|██████████| 650/650 [00:48<00:00, 13.43it/s]"
     ]
    },
    {
     "name": "stdout",
     "output_type": "stream",
     "text": [
      "example sentence length:  90\n",
      "['<h>', '<bar>', 'position_0x00', '<unk>', '<bar>', 'position_0x00', '<unk>', '<bar>', 'position_0x00', '<unk>', '<bar>', 'position_0x00', '<unk>', '<bar>', 'position_0x00', '<unk>', '<bar>', 'position_0x00', '<unk>', '<bar>', 'position_0x00', '<unk>', '<bar>', 'position_0x00', '<unk>', '<bar>', 'position_0x00', '<unk>', 'position_2x00', '<unk>', '<bar>', 'position_0x00', '<unk>', '<bar>', 'position_0x00', '<unk>', '<bar>', 'position_0x00', '<unk>', '<bar>', 'position_0x00', '<unk>', '<bar>', 'position_0x00', '<unk>', '<bar>', 'position_0x00', '<unk>', '<bar>', 'position_0x00', '<unk>', '<bar>', 'position_0x00', '<unk>', 'position_2x00', '<unk>', '<bar>', 'position_0x00', '<unk>', 'position_2x00', '<unk>', '<bar>', 'position_0x00', '<unk>', '<bar>', 'position_0x00', '<unk>', '<bar>', 'position_0x00', '<unk>', 'position_2x00', '<unk>', '<bar>', 'position_0x00', '<unk>', '<bar>', 'position_0x00', '<unk>', '<bar>', 'position_0x00', '<unk>', '<bar>', 'position_0x00', '<unk>', 'position_2x00', '<unk>', '<bar>', 'position_0x00', '<unk>', '</s>']\n",
      "[7, 6, 8, 0, 6, 8, 0, 6, 8, 0, 6, 8, 0, 6, 8, 0, 6, 8, 0, 6, 8, 0, 6, 8, 0, 6, 8, 0, 24, 0, 6, 8, 0, 6, 8, 0, 6, 8, 0, 6, 8, 0, 6, 8, 0, 6, 8, 0, 6, 8, 0, 6, 8, 0, 24, 0, 6, 8, 0, 24, 0, 6, 8, 0, 6, 8, 0, 6, 8, 0, 24, 0, 6, 8, 0, 6, 8, 0, 6, 8, 0, 6, 8, 0, 24, 0, 6, 8, 0, 3]\n",
      "vocab_size:  132\n",
      "mean len:  105.60307692307693\n",
      "std len:  34.29661552815949\n",
      "mean cr:  0.04821517523192153\n",
      "std cr:  0.013265698737073667\n"
     ]
    },
    {
     "name": "stderr",
     "output_type": "stream",
     "text": [
      "\n"
     ]
    }
   ],
   "source": [
    "print('GCTRootPCTokenizer')\n",
    "gctRootPCTokenizer = GCTRootPCTokenizer()\n",
    "print('len(gctRootPCTokenizer.vocab): ', len(gctRootPCTokenizer.vocab))\n",
    "initialize_stats('GCTRootPCTokenizer', gctRootPCTokenizer)\n",
    "toks_gct_rpc = gctRootPCTokenizer(data_files)\n",
    "print('example sentence length: ', len(toks_gct_rpc['tokens'][0]))\n",
    "print(toks_gct_rpc['tokens'][0])\n",
    "print(toks_gct_rpc['ids'][0])\n",
    "update_stats('GCTRootPCTokenizer', toks_gct_rpc)\n",
    "print_stats('GCTRootPCTokenizer')"
   ]
  },
  {
   "cell_type": "code",
   "execution_count": 13,
   "metadata": {},
   "outputs": [
    {
     "name": "stdout",
     "output_type": "stream",
     "text": [
      "{'<unk>': 0, '<pad>': 1, '<s>': 2, '</s>': 3, '<emp>': 4, '<mask>': 5, '<bar>': 6, '<h>': 7, 'position_0x00': 8, 'position_0x16': 9, 'position_0x25': 10, 'position_0x33': 11, 'position_0x50': 12, 'position_0x66': 13, 'position_0x75': 14, 'position_0x83': 15, 'position_1x00': 16, 'position_1x16': 17, 'position_1x25': 18, 'position_1x33': 19, 'position_1x50': 20, 'position_1x66': 21, 'position_1x75': 22, 'position_1x83': 23, 'position_2x00': 24, 'position_2x16': 25, 'position_2x25': 26, 'position_2x33': 27, 'position_2x50': 28, 'position_2x66': 29, 'position_2x75': 30, 'position_2x83': 31, 'position_3x00': 32, 'position_3x16': 33, 'position_3x25': 34, 'position_3x33': 35, 'position_3x50': 36, 'position_3x66': 37, 'position_3x75': 38, 'position_3x83': 39, 'position_4x00': 40, 'position_4x16': 41, 'position_4x25': 42, 'position_4x33': 43, 'position_4x50': 44, 'position_4x66': 45, 'position_4x75': 46, 'position_4x83': 47, 'position_5x00': 48, 'position_5x16': 49, 'position_5x25': 50, 'position_5x33': 51, 'position_5x50': 52, 'position_5x66': 53, 'position_5x75': 54, 'position_5x83': 55, 'position_6x00': 56, 'position_6x16': 57, 'position_6x25': 58, 'position_6x33': 59, 'position_6x50': 60, 'position_6x66': 61, 'position_6x75': 62, 'position_6x83': 63, 'position_7x00': 64, 'position_7x16': 65, 'position_7x25': 66, 'position_7x33': 67, 'position_7x50': 68, 'position_7x66': 69, 'position_7x75': 70, 'position_7x83': 71, 'position_8x00': 72, 'position_8x16': 73, 'position_8x25': 74, 'position_8x33': 75, 'position_8x50': 76, 'position_8x66': 77, 'position_8x75': 78, 'position_8x83': 79, 'position_9x00': 80, 'position_9x16': 81, 'position_9x25': 82, 'position_9x33': 83, 'position_9x50': 84, 'position_9x66': 85, 'position_9x75': 86, 'position_9x83': 87, 'ts_1x4': 88, 'ts_1x8': 89, 'ts_2x4': 90, 'ts_3x4': 91, 'ts_3x8': 92, 'ts_4x4': 93, 'ts_5x4': 94, 'ts_5x8': 95, 'ts_6x4': 96, 'ts_7x4': 97, 'ts_7x8': 98, 'ts_8x4': 99, 'ts_9x4': 100, 'ts_9x8': 101, 'ts_10x4': 102, 'ts_11x8': 103, 'ts_13x8': 104, 'ts_15x8': 105, 'ts_17x8': 106, 'ts_19x8': 107, 'chord_root_0': 108, 'chord_root_1': 109, 'chord_root_2': 110, 'chord_root_3': 111, 'chord_root_4': 112, 'chord_root_5': 113, 'chord_root_6': 114, 'chord_root_7': 115, 'chord_root_8': 116, 'chord_root_9': 117, 'chord_root_10': 118, 'chord_root_11': 119, 'chord_pc_0': 120, 'chord_pc_1': 121, 'chord_pc_2': 122, 'chord_pc_3': 123, 'chord_pc_4': 124, 'chord_pc_5': 125, 'chord_pc_6': 126, 'chord_pc_7': 127, 'chord_pc_8': 128, 'chord_pc_9': 129, 'chord_pc_10': 130, 'chord_pc_11': 131}\n"
     ]
    }
   ],
   "source": [
    "gctRootPCTokenizer.save_pretrained('saved_tokenizers/GCTRootPCTokenizer')\n",
    "gctRootPCTokenizer.from_pretrained('saved_tokenizers/GCTRootPCTokenizer')\n",
    "print(gctRootPCTokenizer.vocab)"
   ]
  },
  {
   "cell_type": "code",
   "execution_count": 14,
   "metadata": {},
   "outputs": [
    {
     "name": "stdout",
     "output_type": "stream",
     "text": [
      "GCTSymbolTokenizer\n",
      "training\n"
     ]
    },
    {
     "name": "stderr",
     "output_type": "stream",
     "text": [
      "Processing Files: 100%|██████████| 650/650 [01:04<00:00, 10.07it/s]\n"
     ]
    },
    {
     "name": "stdout",
     "output_type": "stream",
     "text": [
      "len(gctSymbolTokenizer.vocab):  336\n"
     ]
    },
    {
     "name": "stderr",
     "output_type": "stream",
     "text": [
      "Processing Files: 100%|██████████| 650/650 [00:48<00:00, 13.44it/s]"
     ]
    },
    {
     "name": "stdout",
     "output_type": "stream",
     "text": [
      "example sentence length:  90\n",
      "['<h>', '<bar>', 'position_0x00', '<unk>', '<bar>', 'position_0x00', '<unk>', '<bar>', 'position_0x00', '<unk>', '<bar>', 'position_0x00', '<unk>', '<bar>', 'position_0x00', '<unk>', '<bar>', 'position_0x00', '<unk>', '<bar>', 'position_0x00', '<unk>', '<bar>', 'position_0x00', '<unk>', '<bar>', 'position_0x00', '<unk>', 'position_2x00', '<unk>', '<bar>', 'position_0x00', '<unk>', '<bar>', 'position_0x00', '<unk>', '<bar>', 'position_0x00', '<unk>', '<bar>', 'position_0x00', '<unk>', '<bar>', 'position_0x00', '<unk>', '<bar>', 'position_0x00', '<unk>', '<bar>', 'position_0x00', '<unk>', '<bar>', 'position_0x00', '<unk>', 'position_2x00', '<unk>', '<bar>', 'position_0x00', '<unk>', 'position_2x00', '<unk>', '<bar>', 'position_0x00', '<unk>', '<bar>', 'position_0x00', '<unk>', '<bar>', 'position_0x00', '<unk>', 'position_2x00', '<unk>', '<bar>', 'position_0x00', '<unk>', '<bar>', 'position_0x00', '<unk>', '<bar>', 'position_0x00', '<unk>', '<bar>', 'position_0x00', '<unk>', 'position_2x00', '<unk>', '<bar>', 'position_0x00', '<unk>', '</s>']\n",
      "[7, 6, 8, 0, 6, 8, 0, 6, 8, 0, 6, 8, 0, 6, 8, 0, 6, 8, 0, 6, 8, 0, 6, 8, 0, 6, 8, 0, 24, 0, 6, 8, 0, 6, 8, 0, 6, 8, 0, 6, 8, 0, 6, 8, 0, 6, 8, 0, 6, 8, 0, 6, 8, 0, 24, 0, 6, 8, 0, 24, 0, 6, 8, 0, 6, 8, 0, 6, 8, 0, 24, 0, 6, 8, 0, 6, 8, 0, 6, 8, 0, 6, 8, 0, 24, 0, 6, 8, 0, 3]\n",
      "vocab_size:  336\n",
      "mean len:  105.60307692307693\n",
      "std len:  34.29661552815949\n",
      "mean cr:  0.04821517523192153\n",
      "std cr:  0.013265698737073667\n"
     ]
    },
    {
     "name": "stderr",
     "output_type": "stream",
     "text": [
      "\n"
     ]
    }
   ],
   "source": [
    "print('GCTSymbolTokenizer')\n",
    "gctSymbolTokenizer = GCTSymbolTokenizer()\n",
    "print('training')\n",
    "gctSymbolTokenizer.fit( data_files )\n",
    "print('len(gctSymbolTokenizer.vocab): ', len(gctSymbolTokenizer.vocab))\n",
    "initialize_stats('GCTSymbolTokenizer', gctSymbolTokenizer)\n",
    "toks_gct_symb = gctSymbolTokenizer(data_files)\n",
    "print('example sentence length: ', len(toks_gct_symb['tokens'][0]))\n",
    "print(toks_gct_symb['tokens'][0])\n",
    "print(toks_gct_symb['ids'][0])\n",
    "update_stats('GCTSymbolTokenizer', toks_gct_symb)\n",
    "print_stats('GCTSymbolTokenizer')"
   ]
  },
  {
   "cell_type": "code",
   "execution_count": 15,
   "metadata": {},
   "outputs": [
    {
     "name": "stdout",
     "output_type": "stream",
     "text": [
      "{'<unk>': 0, '<pad>': 1, '<s>': 2, '</s>': 3, '<emp>': 4, '<mask>': 5, '<bar>': 6, '<h>': 7, 'position_0x00': 8, 'position_0x16': 9, 'position_0x25': 10, 'position_0x33': 11, 'position_0x50': 12, 'position_0x66': 13, 'position_0x75': 14, 'position_0x83': 15, 'position_1x00': 16, 'position_1x16': 17, 'position_1x25': 18, 'position_1x33': 19, 'position_1x50': 20, 'position_1x66': 21, 'position_1x75': 22, 'position_1x83': 23, 'position_2x00': 24, 'position_2x16': 25, 'position_2x25': 26, 'position_2x33': 27, 'position_2x50': 28, 'position_2x66': 29, 'position_2x75': 30, 'position_2x83': 31, 'position_3x00': 32, 'position_3x16': 33, 'position_3x25': 34, 'position_3x33': 35, 'position_3x50': 36, 'position_3x66': 37, 'position_3x75': 38, 'position_3x83': 39, 'position_4x00': 40, 'position_4x16': 41, 'position_4x25': 42, 'position_4x33': 43, 'position_4x50': 44, 'position_4x66': 45, 'position_4x75': 46, 'position_4x83': 47, 'position_5x00': 48, 'position_5x16': 49, 'position_5x25': 50, 'position_5x33': 51, 'position_5x50': 52, 'position_5x66': 53, 'position_5x75': 54, 'position_5x83': 55, 'position_6x00': 56, 'position_6x16': 57, 'position_6x25': 58, 'position_6x33': 59, 'position_6x50': 60, 'position_6x66': 61, 'position_6x75': 62, 'position_6x83': 63, 'position_7x00': 64, 'position_7x16': 65, 'position_7x25': 66, 'position_7x33': 67, 'position_7x50': 68, 'position_7x66': 69, 'position_7x75': 70, 'position_7x83': 71, 'position_8x00': 72, 'position_8x16': 73, 'position_8x25': 74, 'position_8x33': 75, 'position_8x50': 76, 'position_8x66': 77, 'position_8x75': 78, 'position_8x83': 79, 'position_9x00': 80, 'position_9x16': 81, 'position_9x25': 82, 'position_9x33': 83, 'position_9x50': 84, 'position_9x66': 85, 'position_9x75': 86, 'position_9x83': 87, 'ts_1x4': 88, 'ts_1x8': 89, 'ts_2x4': 90, 'ts_3x4': 91, 'ts_3x8': 92, 'ts_4x4': 93, 'ts_5x4': 94, 'ts_5x8': 95, 'ts_6x4': 96, 'ts_7x4': 97, 'ts_7x8': 98, 'ts_8x4': 99, 'ts_9x4': 100, 'ts_9x8': 101, 'ts_10x4': 102, 'ts_11x8': 103, 'ts_13x8': 104, 'ts_15x8': 105, 'ts_17x8': 106, 'ts_19x8': 107, '[0 0 4 7 9]': 108, '[ 2  0  4  7 10]': 109, '[ 7  0  4  7 11]': 110, '[ 0  0  4  7 10 18]': 111, '[2 0 4 7 9]': 112, '[7 0 4 7 9]': 113, '[11  0  4  7 11]': 114, '[ 6  0  4  7 10]': 115, '[ 8  0  3  7 10]': 116, '[5 0 4 7 9]': 117, '[ 7  0  4  7 10]': 118, '[4 0 3 7 8]': 119, '[ 5  0  4  7 10]': 120, '[ 9  0  4  7 10]': 121, '[ 4  0  4  7 10 13]': 122, '[10  0  4  7 10 14]': 123, '[2 0 3 6 9]': 124, '[ 0  0  4  7 10]': 125, '[10  0  4  7  9]': 126, '[2 0 3 7 8]': 127, '[5 0 4 7]': 128, '[0 0 3 7 9]': 129, '[10  0  3  7  9]': 130, '[ 0  0  3  7 10]': 131, '[1 0 4 7 9]': 132, '[6 0 4 8]': 133, '[10  0  3  7  8 17]': 134, '[4 0 4 8]': 135, '[ 4  0  4  7  9 11]': 136, '[ 4  0  4  7 10 14]': 137, '[ 3  0  4  7 10 14]': 138, '[ 9  0  3  7  9 17]': 139, '[ 7  0  4  7 10 13]': 140, '[6 0 4 7 9]': 141, '[ 8  0  4  7 10]': 142, '[5 0 3 7 8]': 143, '[5 0 3 7 9]': 144, '[5 0 4 8]': 145, '[ 5  0  3  7  8 17]': 146, '[ 3  0  4  7 10 13]': 147, '[ 5  0  3  7 10]': 148, '[1 0 3 7 9]': 149, '[7 0 4 8]': 150, '[ 5  0  4  7 10 18]': 151, '[4 0 3 6 9]': 152, '[10  0  4  7  9 10 14 17]': 153, '[7 0 3 7 8]': 154, '[0 0 3 7 8]': 155, '[ 9  0  4  7 10 18]': 156, '[ 8  0  4  7 10 14]': 157, '[ 4  0  3  7  8 10 13 17]': 158, '[ 4  0  4  7  9 13]': 159, '[0 0 5 7]': 160, '[ 0  0  4  7 10 13]': 161, '[ 8  0  3  7 10 14]': 162, '[ 1  0  4  7 10 14]': 163, '[ 5  0  3  7 10 14]': 164, '[ 4  0  4  7  9 11 14 18]': 165, '[9 0 3 7 8]': 166, '[7 0 3 7 9]': 167, '[ 9  0  4  7 10 13]': 168, '[2 0 3 7]': 169, '[2 0 3 7 9]': 170, '[ 2  0  4  7 10 13]': 171, '[ 4  0  4  7 10]': 172, '[10  0  4  7 10]': 173, '[ 9  0  4  7 11]': 174, '[4 0 4 7 9]': 175, '[ 2  0  4  7  9 13]': 176, '[ 8  0  4  7 10 18]': 177, '[10  0  3  7  8]': 178, '[9 0 4 7 9]': 179, '[8 0 3 7 9]': 180, '[10  0  4  7 10 13]': 181, '[3 0 3 7 9]': 182, '[10  0]': 183, '[10  0  4  7  9 17]': 184, '[ 3  0  4  7 10]': 185, '[11  0  4  7 10]': 186, '[ 1  0  4  7 10 18]': 187, '[ 2  0  3  7  8 10 13 17]': 188, '[ 5  0  4  7  8 10]': 189, '[7 0 3 7]': 190, '[9 0 3 6 9]': 191, '[ 2  0  4  7 11]': 192, '[ 7  0  4  7  9 13]': 193, '[ 5  0  4  7  9 11 14]': 194, '[ 5  0  3  7  8 10 13 17]': 195, '[ 1  0  3  7  9 17]': 196, '[ 5  0  4  7 10 13]': 197, '[ 5  0  4  7  9 13]': 198, '[5 0 3 7]': 199, '[ 2  0  4  7  9 11 14]': 200, '[ 5  0  3  7  8 10 14 17]': 201, '[ 0  0  3  7  8 10]': 202, '[10  0  3  7  8 10]': 203, '[4 0 5 7]': 204, '[8 0]': 205, '[2 0 5 7]': 206, '[ 1  0  4  7 10]': 207, '[4 0 3 7 9]': 208, '[ 6  0  4  7 10 13]': 209, '[ 9  0  4  7  8 10]': 210, '[ 4  0  4  7  8 10]': 211, '[ 5  0  4  7 10 14]': 212, '[ 6  0  3  7  9 17]': 213, '[ 5  0  5 10]': 214, '[0 0 4 7]': 215, '[ 6  0  4  7 10 18]': 216, '[ 0  0  4  7 10 14]': 217, '[ 2  0  3  7  8 10 14 17]': 218, '[ 5  0  4  7 10 15]': 219, '[9 0 3 7 9]': 220, '[11  0  4  7 10 13]': 221, '[10  0  4  7 10 18]': 222, '[ 9  0  3  7 11]': 223, '[ 0  0  4  7  9 13]': 224, '[ 2  0  4  7 10 18]': 225, '[ 4  0  4  7 10 18]': 226, '[ 9  0  4  7  9 11 14]': 227, '[7 0 5 7]': 228, '[ 4  0  3  7  8 10]': 229, '[9 0]': 230, '[ 0  0  4  7  9 11]': 231, '[ 9  0  3  7  8 10]': 232, '[ 5  0  4  7  9 11]': 233, '[ 8  0  3  7 10 14 17]': 234, '[ 2  0  3  7  8 10 17]': 235, '[9 0 3 7]': 236, '[ 0  0  3  7 11]': 237, '[ 8  0  3  7  9 10 14 17]': 238, '[5 0]': 239, '[1 0]': 240, '[6 0 3 7 9]': 241, '[0 0]': 242, '[ 3  0  4  7 10 18]': 243, '[11  0  5  7]': 244, '[9 0 5 7]': 245, '[3 0 3 7]': 246, '[ 5  0  4  8 17]': 247, '[ 4  0  3  7  9 17]': 248, '[ 9  0  3  7  9 10 14 17]': 249, '[ 4  0  4  7 11]': 250, '[0 0 3 7]': 251, '[3 0 5 7]': 252, '[10  0  4  7  9 14 17]': 253, '[ 0  0  3  7 10 14]': 254, '[10  0  3  7]': 255, '[11  0  4  7 10 18]': 256, '[ 0  0  4  7  8 10]': 257, '[10  0  4  7  8 10]': 258, '[ 0  0  4  7 10 15]': 259, '[ 2  0  4  7  8 10]': 260, '[ 7  0  4  7  9 11 14]': 261, '[ 0  0  5 10]': 262, '[ 4  0  4  7  9 10 14 17]': 263, '[8 0 4 7]': 264, '[8 0 3 7]': 265, '[ 7  0  4  7 10 14]': 266, '[ 7  0  3  7 11]': 267, '[ 2  0  4  7  9 11]': 268, '[ 7  0  4  7  9 11]': 269, '[ 2  0  3  7  8 17]': 270, '[ 5  0  3  7 10 14 17]': 271, '[ 9  0  4  7  9 11]': 272, '[ 5  0  3  7  8 10 17]': 273, '[9 0 3 9]': 274, '[3 0 4 7]': 275, '[10  0  3  7  8 10 17]': 276, '[ 7  0  4  7  8 10]': 277, '[ 7  0  4  7 11 14]': 278, '[3 0]': 279, '[ 1  0  4  7 10 13]': 280, '[ 4  0  4  7  9 11 14 17]': 281, '[1 0 4 7]': 282, '[ 5  0  3  7 11]': 283, '[8 0 5 7]': 284, '[ 9  0  4  7  9 13]': 285, '[ 7  0  4  7 10 18]': 286, '[ 2  0  3  7 11]': 287, '[ 8  0  4  7 10 13]': 288, '[11  0  3  7]': 289, '[7 0 3 6]': 290, '[10  0  4  7]': 291, '[10  0  4  7 10 15]': 292, '[6 0]': 293, '[ 3  0  4  7 10 15]': 294, '[4 0 4 7]': 295, '[7 0]': 296, '[1 0 3 9]': 297, '[2 0]': 298, '[ 8  0  4  7 10 15]': 299, '[ 7  0  4  8 11 14]': 300, '[ 4  0  3  7  9 10 14 17]': 301, '[6 0 4 7]': 302, '[11  0  4  7]': 303, '[ 0  0  4  7  9 11 14]': 304, '[9 0 4 7]': 305, '[2 0 4 7]': 306, '[1 0 7]': 307, '[4 0 3 7]': 308, '[ 4  0  3  7 11]': 309, '[ 7  0  4  7 10 15]': 310, '[11  0  4  7 11 14]': 311, '[ 4  0  4  7 11 14]': 312, '[7 0 4 7]': 313, '[11  0  3  7  9]': 314, '[6 0 3 7]': 315, '[6 0 5 7]': 316, '[4 0 4 8 9]': 317, '[1 0 5 7]': 318, '[4 0]': 319, '[ 2  0  4  7 11 14]': 320, '[11  0]': 321, '[1 0 3 7]': 322, '[ 5  0  3  7  8 10]': 323, '[ 7  0  4  8 13]': 324, '[ 2  0  3  7  8 10]': 325, '[11  0  3  9]': 326, '[4 0 3 9]': 327, '[ 9  0  4  7 11 14]': 328, '[6 0 3 9]': 329, '[ 4  0  4  8 11 14]': 330, '[2 0 3 6]': 331, '[ 5  0  4  8 15 18]': 332, '[11  0  3  6]': 333, '[ 5  0  4  8 13]': 334, '[11  0  3  7 11]': 335}\n"
     ]
    }
   ],
   "source": [
    "gctSymbolTokenizer.save_pretrained('saved_tokenizers/GCTSymbolTokenizer')\n",
    "gctSymbolTokenizer.from_pretrained('saved_tokenizers/GCTSymbolTokenizer')\n",
    "print(gctSymbolTokenizer.vocab)"
   ]
  },
  {
   "cell_type": "code",
   "execution_count": 16,
   "metadata": {},
   "outputs": [
    {
     "name": "stdout",
     "output_type": "stream",
     "text": [
      "GCTRootTypeTokenizer\n",
      "training\n"
     ]
    },
    {
     "name": "stderr",
     "output_type": "stream",
     "text": [
      "Processing Files: 100%|██████████| 650/650 [01:04<00:00, 10.04it/s]\n"
     ]
    },
    {
     "name": "stdout",
     "output_type": "stream",
     "text": [
      "len(gctRootTypeTokenizer.vocab):  165\n"
     ]
    },
    {
     "name": "stderr",
     "output_type": "stream",
     "text": [
      "Processing Files: 100%|██████████| 650/650 [00:48<00:00, 13.32it/s]"
     ]
    },
    {
     "name": "stdout",
     "output_type": "stream",
     "text": [
      "example sentence length:  90\n",
      "['<h>', '<bar>', 'position_0x00', '<unk>', '<bar>', 'position_0x00', '<unk>', '<bar>', 'position_0x00', '<unk>', '<bar>', 'position_0x00', '<unk>', '<bar>', 'position_0x00', '<unk>', '<bar>', 'position_0x00', '<unk>', '<bar>', 'position_0x00', '<unk>', '<bar>', 'position_0x00', '<unk>', '<bar>', 'position_0x00', '<unk>', 'position_2x00', '<unk>', '<bar>', 'position_0x00', '<unk>', '<bar>', 'position_0x00', '<unk>', '<bar>', 'position_0x00', '<unk>', '<bar>', 'position_0x00', '<unk>', '<bar>', 'position_0x00', '<unk>', '<bar>', 'position_0x00', '<unk>', '<bar>', 'position_0x00', '<unk>', '<bar>', 'position_0x00', '<unk>', 'position_2x00', '<unk>', '<bar>', 'position_0x00', '<unk>', 'position_2x00', '<unk>', '<bar>', 'position_0x00', '<unk>', '<bar>', 'position_0x00', '<unk>', '<bar>', 'position_0x00', '<unk>', 'position_2x00', '<unk>', '<bar>', 'position_0x00', '<unk>', '<bar>', 'position_0x00', '<unk>', '<bar>', 'position_0x00', '<unk>', '<bar>', 'position_0x00', '<unk>', 'position_2x00', '<unk>', '<bar>', 'position_0x00', '<unk>', '</s>']\n",
      "[7, 6, 8, 0, 6, 8, 0, 6, 8, 0, 6, 8, 0, 6, 8, 0, 6, 8, 0, 6, 8, 0, 6, 8, 0, 6, 8, 0, 24, 0, 6, 8, 0, 6, 8, 0, 6, 8, 0, 6, 8, 0, 6, 8, 0, 6, 8, 0, 6, 8, 0, 6, 8, 0, 24, 0, 6, 8, 0, 24, 0, 6, 8, 0, 6, 8, 0, 6, 8, 0, 24, 0, 6, 8, 0, 6, 8, 0, 6, 8, 0, 6, 8, 0, 24, 0, 6, 8, 0, 3]\n",
      "vocab_size:  165\n",
      "mean len:  105.60307692307693\n",
      "std len:  34.29661552815949\n",
      "mean cr:  0.04821517523192153\n",
      "std cr:  0.013265698737073667\n"
     ]
    },
    {
     "name": "stderr",
     "output_type": "stream",
     "text": [
      "\n"
     ]
    }
   ],
   "source": [
    "print('GCTRootTypeTokenizer')\n",
    "gctRootTypeTokenizer = GCTRootTypeTokenizer()\n",
    "print('training')\n",
    "gctRootTypeTokenizer.fit( data_files )\n",
    "print('len(gctRootTypeTokenizer.vocab): ', len(gctRootTypeTokenizer.vocab))\n",
    "initialize_stats('GCTRootTypeTokenizer', gctRootTypeTokenizer)\n",
    "toks_gct_rt = gctRootTypeTokenizer(data_files)\n",
    "print('example sentence length: ', len(toks_gct_rt['tokens'][0]))\n",
    "print(toks_gct_rt['tokens'][0])\n",
    "print(toks_gct_rt['ids'][0])\n",
    "update_stats('GCTRootTypeTokenizer', toks_gct_rt)\n",
    "print_stats('GCTRootTypeTokenizer')"
   ]
  },
  {
   "cell_type": "code",
   "execution_count": 17,
   "metadata": {},
   "outputs": [
    {
     "name": "stdout",
     "output_type": "stream",
     "text": [
      "{'<unk>': 0, '<pad>': 1, '<s>': 2, '</s>': 3, '<emp>': 4, '<mask>': 5, '<bar>': 6, '<h>': 7, 'position_0x00': 8, 'position_0x16': 9, 'position_0x25': 10, 'position_0x33': 11, 'position_0x50': 12, 'position_0x66': 13, 'position_0x75': 14, 'position_0x83': 15, 'position_1x00': 16, 'position_1x16': 17, 'position_1x25': 18, 'position_1x33': 19, 'position_1x50': 20, 'position_1x66': 21, 'position_1x75': 22, 'position_1x83': 23, 'position_2x00': 24, 'position_2x16': 25, 'position_2x25': 26, 'position_2x33': 27, 'position_2x50': 28, 'position_2x66': 29, 'position_2x75': 30, 'position_2x83': 31, 'position_3x00': 32, 'position_3x16': 33, 'position_3x25': 34, 'position_3x33': 35, 'position_3x50': 36, 'position_3x66': 37, 'position_3x75': 38, 'position_3x83': 39, 'position_4x00': 40, 'position_4x16': 41, 'position_4x25': 42, 'position_4x33': 43, 'position_4x50': 44, 'position_4x66': 45, 'position_4x75': 46, 'position_4x83': 47, 'position_5x00': 48, 'position_5x16': 49, 'position_5x25': 50, 'position_5x33': 51, 'position_5x50': 52, 'position_5x66': 53, 'position_5x75': 54, 'position_5x83': 55, 'position_6x00': 56, 'position_6x16': 57, 'position_6x25': 58, 'position_6x33': 59, 'position_6x50': 60, 'position_6x66': 61, 'position_6x75': 62, 'position_6x83': 63, 'position_7x00': 64, 'position_7x16': 65, 'position_7x25': 66, 'position_7x33': 67, 'position_7x50': 68, 'position_7x66': 69, 'position_7x75': 70, 'position_7x83': 71, 'position_8x00': 72, 'position_8x16': 73, 'position_8x25': 74, 'position_8x33': 75, 'position_8x50': 76, 'position_8x66': 77, 'position_8x75': 78, 'position_8x83': 79, 'position_9x00': 80, 'position_9x16': 81, 'position_9x25': 82, 'position_9x33': 83, 'position_9x50': 84, 'position_9x66': 85, 'position_9x75': 86, 'position_9x83': 87, 'ts_1x4': 88, 'ts_1x8': 89, 'ts_2x4': 90, 'ts_3x4': 91, 'ts_3x8': 92, 'ts_4x4': 93, 'ts_5x4': 94, 'ts_5x8': 95, 'ts_6x4': 96, 'ts_7x4': 97, 'ts_7x8': 98, 'ts_8x4': 99, 'ts_9x4': 100, 'ts_9x8': 101, 'ts_10x4': 102, 'ts_11x8': 103, 'ts_13x8': 104, 'ts_15x8': 105, 'ts_17x8': 106, 'ts_19x8': 107, 'chord_root_0': 108, 'chord_root_1': 109, 'chord_root_2': 110, 'chord_root_3': 111, 'chord_root_4': 112, 'chord_root_5': 113, 'chord_root_6': 114, 'chord_root_7': 115, 'chord_root_8': 116, 'chord_root_9': 117, 'chord_root_10': 118, 'chord_root_11': 119, '[0 4 7 9]': 120, '[ 0  4  7 10]': 121, '[ 0  4  7 11]': 122, '[ 0  4  7 10 18]': 123, '[ 0  3  7 10]': 124, '[0 3 7 8]': 125, '[ 0  4  7 10 13]': 126, '[ 0  4  7 10 14]': 127, '[0 3 6 9]': 128, '[0 4 7]': 129, '[0 3 7 9]': 130, '[0 4 8]': 131, '[ 0  3  7  8 17]': 132, '[ 0  4  7  9 11]': 133, '[ 0  3  7  9 17]': 134, '[ 0  4  7  9 10 14 17]': 135, '[ 0  3  7  8 10 13 17]': 136, '[ 0  4  7  9 13]': 137, '[0 5 7]': 138, '[ 0  3  7 10 14]': 139, '[ 0  4  7  9 11 14 18]': 140, '[0 3 7]': 141, '[0]': 142, '[ 0  4  7  9 17]': 143, '[ 0  4  7  8 10]': 144, '[ 0  4  7  9 11 14]': 145, '[ 0  3  7  8 10 14 17]': 146, '[ 0  3  7  8 10]': 147, '[ 0  5 10]': 148, '[ 0  4  7 10 15]': 149, '[ 0  3  7 11]': 150, '[ 0  3  7 10 14 17]': 151, '[ 0  3  7  8 10 17]': 152, '[ 0  3  7  9 10 14 17]': 153, '[ 0  4  8 17]': 154, '[ 0  4  7  9 14 17]': 155, '[0 3 9]': 156, '[ 0  4  7 11 14]': 157, '[ 0  4  7  9 11 14 17]': 158, '[0 3 6]': 159, '[ 0  4  8 11 14]': 160, '[0 7]': 161, '[0 4 8 9]': 162, '[ 0  4  8 13]': 163, '[ 0  4  8 15 18]': 164}\n"
     ]
    }
   ],
   "source": [
    "gctRootTypeTokenizer.save_pretrained('saved_tokenizers/GCTRootTypeTokenizer')\n",
    "gctRootTypeTokenizer.from_pretrained('saved_tokenizers/GCTRootTypeTokenizer')\n",
    "print(gctRootTypeTokenizer.vocab)"
   ]
  },
  {
   "cell_type": "code",
   "execution_count": 18,
   "metadata": {},
   "outputs": [
    {
     "name": "stdout",
     "output_type": "stream",
     "text": [
      "MelodyPitchTokenizer_m21\n",
      "len(melodyPitchTokenizer.vocab):  195\n"
     ]
    },
    {
     "name": "stderr",
     "output_type": "stream",
     "text": [
      "Processing Melody Files: 100%|██████████| 650/650 [00:33<00:00, 19.54it/s]\n"
     ]
    },
    {
     "name": "stdout",
     "output_type": "stream",
     "text": [
      "example sentence length:  198\n",
      "['<s>', '<bar>', 'position_0x00', 'P:69', 'position_3x00', 'P:64', '<bar>', 'position_0x00', 'P:71', 'position_0x75', 'P:71', 'position_1x00', 'P:71', 'position_3x00', 'P:64', '<bar>', 'position_0x00', 'P:69', 'position_1x00', 'P:71', 'position_2x00', 'P:69', 'position_3x00', 'P:64', '<bar>', 'position_0x00', 'P:71', 'position_3x00', 'P:69', '<bar>', 'position_0x00', 'P:66', 'position_1x00', 'P:67', 'position_1x50', 'P:64', 'position_2x00', 'P:64', '<bar>', 'position_0x00', 'P:66', 'position_1x00', 'P:67', 'position_1x50', 'P:64', 'position_2x00', 'P:64', 'position_3x50', 'P:66', '<bar>', 'position_0x00', 'P:59', 'position_1x00', 'P:62', 'position_2x00', 'P:64', 'position_3x00', 'P:67', '<bar>', 'position_0x00', 'P:66', 'position_0x50', 'P:67', 'position_1x00', 'P:64', 'position_3x00', 'P:62', '<bar>', 'position_0x00', 'P:63', 'position_1x00', 'P:66', 'position_2x00', 'P:68', 'position_3x00', 'P:73', '<bar>', 'position_0x00', 'P:71', 'position_0x50', 'P:73', 'position_1x00', 'P:71', 'position_3x00', 'P:71', '<bar>', 'position_0x00', 'P:74', 'position_3x00', 'P:69', '<bar>', 'position_0x00', 'P:72', 'position_3x00', 'P:71', '<bar>', 'position_0x00', 'P:74', 'position_1x00', 'P:74', 'position_2x00', 'P:74', 'position_3x00', 'P:69', '<bar>', 'position_0x00', 'P:72', 'position_1x00', 'P:72', 'position_3x00', 'P:67', '<bar>', 'position_0x00', 'P:71', 'position_3x00', 'P:67', '<bar>', 'position_0x00', 'P:69', 'position_3x00', 'P:67', '<bar>', 'position_0x00', 'P:71', 'position_1x00', 'P:69', 'position_2x00', 'P:67', 'position_3x00', 'P:66', '<bar>', 'position_0x00', 'P:64', 'position_1x00', 'P:66', 'position_3x00', 'P:62', '<bar>', 'position_0x00', 'P:69', 'position_3x00', 'P:64', '<bar>', 'position_0x00', 'P:71', 'position_0x75', 'P:71', 'position_1x00', 'P:71', 'position_3x00', 'P:69', '<bar>', 'position_0x00', 'P:66', 'position_1x00', 'P:67', 'position_2x00', 'P:69', 'position_3x00', 'P:71', '<bar>', 'position_0x00', 'P:74', 'position_3x00', 'P:71', '<bar>', 'position_0x00', 'P:74', 'position_1x00', 'P:73', 'position_2x00', 'P:72', 'position_3x00', 'P:64', '<bar>', 'position_0x00', 'P:74', 'position_0x50', 'P:73', 'position_1x00', 'P:72', 'position_3x00', 'P:71', '<bar>', 'position_0x00', 'P:69', 'position_1x00', 'P:71', 'position_2x00', 'P:67', 'position_3x00', 'P:69', '<bar>', 'position_0x00', 'P:67', 'position_3x00', '<rest>', '</s>']\n",
      "[2, 6, 95, 55, 119, 50, 6, 95, 57, 101, 57, 103, 57, 119, 50, 6, 95, 55, 103, 57, 111, 55, 119, 50, 6, 95, 57, 119, 55, 6, 95, 52, 103, 53, 107, 50, 111, 50, 6, 95, 52, 103, 53, 107, 50, 111, 50, 123, 52, 6, 95, 45, 103, 48, 111, 50, 119, 53, 6, 95, 52, 99, 53, 103, 50, 119, 48, 6, 95, 49, 103, 52, 111, 54, 119, 59, 6, 95, 57, 99, 59, 103, 57, 119, 57, 6, 95, 60, 119, 55, 6, 95, 58, 119, 57, 6, 95, 60, 103, 60, 111, 60, 119, 55, 6, 95, 58, 103, 58, 119, 53, 6, 95, 57, 119, 53, 6, 95, 55, 119, 53, 6, 95, 57, 103, 55, 111, 53, 119, 52, 6, 95, 50, 103, 52, 119, 48, 6, 95, 55, 119, 50, 6, 95, 57, 101, 57, 103, 57, 119, 55, 6, 95, 52, 103, 53, 111, 55, 119, 57, 6, 95, 60, 119, 57, 6, 95, 60, 103, 59, 111, 58, 119, 50, 6, 95, 60, 99, 59, 103, 58, 119, 57, 6, 95, 55, 103, 57, 111, 53, 119, 55, 6, 95, 53, 119, 4, 3]\n",
      "vocab_size:  195\n",
      "mean len:  243.8323076923077\n",
      "std len:  88.73966003938332\n",
      "mean cr:  0.11382496063337735\n",
      "std cr:  0.02296718744060518\n"
     ]
    }
   ],
   "source": [
    "print('MelodyPitchTokenizer_m21')\n",
    "melodyPitchTokenizer = MelodyPitchTokenizer(min_pitch=21, max_pitch=108) #default range, need to adjust\n",
    "print('len(melodyPitchTokenizer.vocab): ', len(melodyPitchTokenizer.vocab))\n",
    "initialize_stats('MelodyPitchTokenizer', melodyPitchTokenizer)\n",
    "toks_cs = melodyPitchTokenizer(data_files)\n",
    "print('example sentence length: ', len(toks_cs['tokens'][0]))\n",
    "print(toks_cs['tokens'][0])\n",
    "print(toks_cs['ids'][0])\n",
    "update_stats('MelodyPitchTokenizer', toks_cs)\n",
    "print_stats('MelodyPitchTokenizer')"
   ]
  },
  {
   "cell_type": "code",
   "execution_count": 19,
   "metadata": {},
   "outputs": [
    {
     "name": "stdout",
     "output_type": "stream",
     "text": [
      "{'<unk>': 0, '<pad>': 1, '<s>': 2, '</s>': 3, '<rest>': 4, '<mask>': 5, '<bar>': 6, 'P:21': 7, 'P:22': 8, 'P:23': 9, 'P:24': 10, 'P:25': 11, 'P:26': 12, 'P:27': 13, 'P:28': 14, 'P:29': 15, 'P:30': 16, 'P:31': 17, 'P:32': 18, 'P:33': 19, 'P:34': 20, 'P:35': 21, 'P:36': 22, 'P:37': 23, 'P:38': 24, 'P:39': 25, 'P:40': 26, 'P:41': 27, 'P:42': 28, 'P:43': 29, 'P:44': 30, 'P:45': 31, 'P:46': 32, 'P:47': 33, 'P:48': 34, 'P:49': 35, 'P:50': 36, 'P:51': 37, 'P:52': 38, 'P:53': 39, 'P:54': 40, 'P:55': 41, 'P:56': 42, 'P:57': 43, 'P:58': 44, 'P:59': 45, 'P:60': 46, 'P:61': 47, 'P:62': 48, 'P:63': 49, 'P:64': 50, 'P:65': 51, 'P:66': 52, 'P:67': 53, 'P:68': 54, 'P:69': 55, 'P:70': 56, 'P:71': 57, 'P:72': 58, 'P:73': 59, 'P:74': 60, 'P:75': 61, 'P:76': 62, 'P:77': 63, 'P:78': 64, 'P:79': 65, 'P:80': 66, 'P:81': 67, 'P:82': 68, 'P:83': 69, 'P:84': 70, 'P:85': 71, 'P:86': 72, 'P:87': 73, 'P:88': 74, 'P:89': 75, 'P:90': 76, 'P:91': 77, 'P:92': 78, 'P:93': 79, 'P:94': 80, 'P:95': 81, 'P:96': 82, 'P:97': 83, 'P:98': 84, 'P:99': 85, 'P:100': 86, 'P:101': 87, 'P:102': 88, 'P:103': 89, 'P:104': 90, 'P:105': 91, 'P:106': 92, 'P:107': 93, 'P:108': 94, 'position_0x00': 95, 'position_0x16': 96, 'position_0x25': 97, 'position_0x33': 98, 'position_0x50': 99, 'position_0x66': 100, 'position_0x75': 101, 'position_0x83': 102, 'position_1x00': 103, 'position_1x16': 104, 'position_1x25': 105, 'position_1x33': 106, 'position_1x50': 107, 'position_1x66': 108, 'position_1x75': 109, 'position_1x83': 110, 'position_2x00': 111, 'position_2x16': 112, 'position_2x25': 113, 'position_2x33': 114, 'position_2x50': 115, 'position_2x66': 116, 'position_2x75': 117, 'position_2x83': 118, 'position_3x00': 119, 'position_3x16': 120, 'position_3x25': 121, 'position_3x33': 122, 'position_3x50': 123, 'position_3x66': 124, 'position_3x75': 125, 'position_3x83': 126, 'position_4x00': 127, 'position_4x16': 128, 'position_4x25': 129, 'position_4x33': 130, 'position_4x50': 131, 'position_4x66': 132, 'position_4x75': 133, 'position_4x83': 134, 'position_5x00': 135, 'position_5x16': 136, 'position_5x25': 137, 'position_5x33': 138, 'position_5x50': 139, 'position_5x66': 140, 'position_5x75': 141, 'position_5x83': 142, 'position_6x00': 143, 'position_6x16': 144, 'position_6x25': 145, 'position_6x33': 146, 'position_6x50': 147, 'position_6x66': 148, 'position_6x75': 149, 'position_6x83': 150, 'position_7x00': 151, 'position_7x16': 152, 'position_7x25': 153, 'position_7x33': 154, 'position_7x50': 155, 'position_7x66': 156, 'position_7x75': 157, 'position_7x83': 158, 'position_8x00': 159, 'position_8x16': 160, 'position_8x25': 161, 'position_8x33': 162, 'position_8x50': 163, 'position_8x66': 164, 'position_8x75': 165, 'position_8x83': 166, 'position_9x00': 167, 'position_9x16': 168, 'position_9x25': 169, 'position_9x33': 170, 'position_9x50': 171, 'position_9x66': 172, 'position_9x75': 173, 'position_9x83': 174, 'ts_1x4': 175, 'ts_1x8': 176, 'ts_2x4': 177, 'ts_3x4': 178, 'ts_3x8': 179, 'ts_4x4': 180, 'ts_5x4': 181, 'ts_5x8': 182, 'ts_6x4': 183, 'ts_7x4': 184, 'ts_7x8': 185, 'ts_8x4': 186, 'ts_9x4': 187, 'ts_9x8': 188, 'ts_10x4': 189, 'ts_11x8': 190, 'ts_13x8': 191, 'ts_15x8': 192, 'ts_17x8': 193, 'ts_19x8': 194}\n"
     ]
    }
   ],
   "source": [
    "melodyPitchTokenizer.save_pretrained('saved_tokenizers/MelodyPitchTokenizer')\n",
    "melodyPitchTokenizer.from_pretrained('saved_tokenizers/MelodyPitchTokenizer')\n",
    "print(melodyPitchTokenizer.vocab)"
   ]
  },
  {
   "cell_type": "code",
   "execution_count": 20,
   "metadata": {},
   "outputs": [],
   "source": [
    "# print stats\n",
    "tokenizers = ['ChordSymbolTokenizer', 'GCTSymbolTokenizer', \\\n",
    "    'RootTypeTokenizer', 'GCTRootTypeTokenizer',\\\n",
    "    'RootPCTokenizer', 'GCTRootPCTokenizer', \\\n",
    "    'PitchClassTokenizer', 'MelodyPitchTokenizer'\n",
    "]\n",
    "\n",
    "results_path = 'vocab_stats_hk_m21.csv' #for hook theory\n",
    "\n",
    "result_fields = ['Tokenizer_m21', 'vocab_size'] + list( stats['ChordSymbolTokenizer'].keys() )[3:]\n",
    "\n",
    "with open( results_path, 'w' ) as f:\n",
    "    writer = csv.writer(f)\n",
    "    writer.writerow( result_fields )\n",
    "\n",
    "for tok in tokenizers:\n",
    "    with open( results_path, 'a' ) as f:\n",
    "            writer = csv.writer(f)\n",
    "            writer.writerow( [tok] + [stats[tok]['vocab_size']] + list( stats[tok].values() )[3:] )"
   ]
  },
  {
   "cell_type": "code",
   "execution_count": 4,
   "metadata": {},
   "outputs": [],
   "source": [
    "chordSymbolTokenizer = ChordSymbolTokenizer.from_pretrained('saved_tokenizers/ChordSymbolTokenizer')\n",
    "rootTypeTokenizer = RootTypeTokenizer.from_pretrained('saved_tokenizers/RootTypeTokenizer')\n",
    "pitchClassTokenizer = PitchClassTokenizer.from_pretrained('saved_tokenizers/PitchClassTokenizer')\n",
    "rootPCTokenizer = RootPCTokenizer.from_pretrained('saved_tokenizers/RootPCTokenizer')\n",
    "gctRootPCTokenizer = GCTRootPCTokenizer.from_pretrained('saved_tokenizers/GCTRootPCTokenizer')\n",
    "gctSymbolTokenizer = GCTSymbolTokenizer.from_pretrained('saved_tokenizers/GCTSymbolTokenizer')\n",
    "gctRootTypeTokenizer = GCTRootTypeTokenizer.from_pretrained('saved_tokenizers/GCTRootTypeTokenizer')\n",
    "melodyPitchTokenizer = MelodyPitchTokenizer.from_pretrained('saved_tokenizers/MelodyPitchTokenizer')"
   ]
  },
  {
   "cell_type": "code",
   "execution_count": 5,
   "metadata": {},
   "outputs": [
    {
     "name": "stdout",
     "output_type": "stream",
     "text": [
      "Merging harmony vocab\n"
     ]
    }
   ],
   "source": [
    "m_chordSymbolTokenizer = MergedMelHarmTokenizer(melodyPitchTokenizer, chordSymbolTokenizer, verbose=1)\n",
    "m_rootTypeTokenizer = MergedMelHarmTokenizer(melodyPitchTokenizer, rootTypeTokenizer)\n",
    "m_pitchClassTokenizer = MergedMelHarmTokenizer(melodyPitchTokenizer, pitchClassTokenizer)\n",
    "m_rootPCTokenizer = MergedMelHarmTokenizer(melodyPitchTokenizer, rootPCTokenizer)\n",
    "m_gctRootPCTokenizer = MergedMelHarmTokenizer(melodyPitchTokenizer, gctRootPCTokenizer)\n",
    "m_gctSymbolTokenizer = MergedMelHarmTokenizer(melodyPitchTokenizer, gctSymbolTokenizer)\n",
    "m_gctRootTypeTokenizer = MergedMelHarmTokenizer(melodyPitchTokenizer, gctRootTypeTokenizer)"
   ]
  },
  {
   "cell_type": "code",
   "execution_count": 23,
   "metadata": {},
   "outputs": [
    {
     "name": "stdout",
     "output_type": "stream",
     "text": [
      "Length of combined vocab: 883\n",
      "Combined vocab: {'<unk>': 0, '<pad>': 1, '<s>': 2, '</s>': 3, '<rest>': 4, '<mask>': 5, '<bar>': 6, 'P:21': 7, 'P:22': 8, 'P:23': 9, 'P:24': 10, 'P:25': 11, 'P:26': 12, 'P:27': 13, 'P:28': 14, 'P:29': 15, 'P:30': 16, 'P:31': 17, 'P:32': 18, 'P:33': 19, 'P:34': 20, 'P:35': 21, 'P:36': 22, 'P:37': 23, 'P:38': 24, 'P:39': 25, 'P:40': 26, 'P:41': 27, 'P:42': 28, 'P:43': 29, 'P:44': 30, 'P:45': 31, 'P:46': 32, 'P:47': 33, 'P:48': 34, 'P:49': 35, 'P:50': 36, 'P:51': 37, 'P:52': 38, 'P:53': 39, 'P:54': 40, 'P:55': 41, 'P:56': 42, 'P:57': 43, 'P:58': 44, 'P:59': 45, 'P:60': 46, 'P:61': 47, 'P:62': 48, 'P:63': 49, 'P:64': 50, 'P:65': 51, 'P:66': 52, 'P:67': 53, 'P:68': 54, 'P:69': 55, 'P:70': 56, 'P:71': 57, 'P:72': 58, 'P:73': 59, 'P:74': 60, 'P:75': 61, 'P:76': 62, 'P:77': 63, 'P:78': 64, 'P:79': 65, 'P:80': 66, 'P:81': 67, 'P:82': 68, 'P:83': 69, 'P:84': 70, 'P:85': 71, 'P:86': 72, 'P:87': 73, 'P:88': 74, 'P:89': 75, 'P:90': 76, 'P:91': 77, 'P:92': 78, 'P:93': 79, 'P:94': 80, 'P:95': 81, 'P:96': 82, 'P:97': 83, 'P:98': 84, 'P:99': 85, 'P:100': 86, 'P:101': 87, 'P:102': 88, 'P:103': 89, 'P:104': 90, 'P:105': 91, 'P:106': 92, 'P:107': 93, 'P:108': 94, 'position_0x00': 95, 'position_0x16': 96, 'position_0x25': 97, 'position_0x33': 98, 'position_0x50': 99, 'position_0x66': 100, 'position_0x75': 101, 'position_0x83': 102, 'position_1x00': 103, 'position_1x16': 104, 'position_1x25': 105, 'position_1x33': 106, 'position_1x50': 107, 'position_1x66': 108, 'position_1x75': 109, 'position_1x83': 110, 'position_2x00': 111, 'position_2x16': 112, 'position_2x25': 113, 'position_2x33': 114, 'position_2x50': 115, 'position_2x66': 116, 'position_2x75': 117, 'position_2x83': 118, 'position_3x00': 119, 'position_3x16': 120, 'position_3x25': 121, 'position_3x33': 122, 'position_3x50': 123, 'position_3x66': 124, 'position_3x75': 125, 'position_3x83': 126, 'position_4x00': 127, 'position_4x16': 128, 'position_4x25': 129, 'position_4x33': 130, 'position_4x50': 131, 'position_4x66': 132, 'position_4x75': 133, 'position_4x83': 134, 'position_5x00': 135, 'position_5x16': 136, 'position_5x25': 137, 'position_5x33': 138, 'position_5x50': 139, 'position_5x66': 140, 'position_5x75': 141, 'position_5x83': 142, 'position_6x00': 143, 'position_6x16': 144, 'position_6x25': 145, 'position_6x33': 146, 'position_6x50': 147, 'position_6x66': 148, 'position_6x75': 149, 'position_6x83': 150, 'position_7x00': 151, 'position_7x16': 152, 'position_7x25': 153, 'position_7x33': 154, 'position_7x50': 155, 'position_7x66': 156, 'position_7x75': 157, 'position_7x83': 158, 'position_8x00': 159, 'position_8x16': 160, 'position_8x25': 161, 'position_8x33': 162, 'position_8x50': 163, 'position_8x66': 164, 'position_8x75': 165, 'position_8x83': 166, 'position_9x00': 167, 'position_9x16': 168, 'position_9x25': 169, 'position_9x33': 170, 'position_9x50': 171, 'position_9x66': 172, 'position_9x75': 173, 'position_9x83': 174, 'ts_1x4': 175, 'ts_1x8': 176, 'ts_2x4': 177, 'ts_3x4': 178, 'ts_3x8': 179, 'ts_4x4': 180, 'ts_5x4': 181, 'ts_5x8': 182, 'ts_6x4': 183, 'ts_7x4': 184, 'ts_7x8': 185, 'ts_8x4': 186, 'ts_9x4': 187, 'ts_9x8': 188, 'ts_10x4': 189, 'ts_11x8': 190, 'ts_13x8': 191, 'ts_15x8': 192, 'ts_17x8': 193, 'ts_19x8': 194, '<emp>': 195, '<h>': 196, 'C:maj': 197, 'C:min': 198, 'C:aug': 199, 'C:dim': 200, 'C:sus4': 201, 'C:sus2': 202, 'C:7': 203, 'C:maj7': 204, 'C:min7': 205, 'C:minmaj7': 206, 'C:maj6': 207, 'C:min6': 208, 'C:dim7': 209, 'C:hdim7': 210, 'C:maj9': 211, 'C:min9': 212, 'C:9': 213, 'C:min11': 214, 'C:11': 215, 'C:maj13': 216, 'C:min13': 217, 'C:13': 218, 'C:1': 219, 'C:5': 220, 'C:': 221, 'C:7(b9)': 222, 'C:7(#9)': 223, 'C:7(#11)': 224, 'C:7(b13)': 225, 'C#:maj': 226, 'C#:min': 227, 'C#:aug': 228, 'C#:dim': 229, 'C#:sus4': 230, 'C#:sus2': 231, 'C#:7': 232, 'C#:maj7': 233, 'C#:min7': 234, 'C#:minmaj7': 235, 'C#:maj6': 236, 'C#:min6': 237, 'C#:dim7': 238, 'C#:hdim7': 239, 'C#:maj9': 240, 'C#:min9': 241, 'C#:9': 242, 'C#:min11': 243, 'C#:11': 244, 'C#:maj13': 245, 'C#:min13': 246, 'C#:13': 247, 'C#:1': 248, 'C#:5': 249, 'C#:': 250, 'C#:7(b9)': 251, 'C#:7(#9)': 252, 'C#:7(#11)': 253, 'C#:7(b13)': 254, 'D:maj': 255, 'D:min': 256, 'D:aug': 257, 'D:dim': 258, 'D:sus4': 259, 'D:sus2': 260, 'D:7': 261, 'D:maj7': 262, 'D:min7': 263, 'D:minmaj7': 264, 'D:maj6': 265, 'D:min6': 266, 'D:dim7': 267, 'D:hdim7': 268, 'D:maj9': 269, 'D:min9': 270, 'D:9': 271, 'D:min11': 272, 'D:11': 273, 'D:maj13': 274, 'D:min13': 275, 'D:13': 276, 'D:1': 277, 'D:5': 278, 'D:': 279, 'D:7(b9)': 280, 'D:7(#9)': 281, 'D:7(#11)': 282, 'D:7(b13)': 283, 'D#:maj': 284, 'D#:min': 285, 'D#:aug': 286, 'D#:dim': 287, 'D#:sus4': 288, 'D#:sus2': 289, 'D#:7': 290, 'D#:maj7': 291, 'D#:min7': 292, 'D#:minmaj7': 293, 'D#:maj6': 294, 'D#:min6': 295, 'D#:dim7': 296, 'D#:hdim7': 297, 'D#:maj9': 298, 'D#:min9': 299, 'D#:9': 300, 'D#:min11': 301, 'D#:11': 302, 'D#:maj13': 303, 'D#:min13': 304, 'D#:13': 305, 'D#:1': 306, 'D#:5': 307, 'D#:': 308, 'D#:7(b9)': 309, 'D#:7(#9)': 310, 'D#:7(#11)': 311, 'D#:7(b13)': 312, 'E:maj': 313, 'E:min': 314, 'E:aug': 315, 'E:dim': 316, 'E:sus4': 317, 'E:sus2': 318, 'E:7': 319, 'E:maj7': 320, 'E:min7': 321, 'E:minmaj7': 322, 'E:maj6': 323, 'E:min6': 324, 'E:dim7': 325, 'E:hdim7': 326, 'E:maj9': 327, 'E:min9': 328, 'E:9': 329, 'E:min11': 330, 'E:11': 331, 'E:maj13': 332, 'E:min13': 333, 'E:13': 334, 'E:1': 335, 'E:5': 336, 'E:': 337, 'E:7(b9)': 338, 'E:7(#9)': 339, 'E:7(#11)': 340, 'E:7(b13)': 341, 'F:maj': 342, 'F:min': 343, 'F:aug': 344, 'F:dim': 345, 'F:sus4': 346, 'F:sus2': 347, 'F:7': 348, 'F:maj7': 349, 'F:min7': 350, 'F:minmaj7': 351, 'F:maj6': 352, 'F:min6': 353, 'F:dim7': 354, 'F:hdim7': 355, 'F:maj9': 356, 'F:min9': 357, 'F:9': 358, 'F:min11': 359, 'F:11': 360, 'F:maj13': 361, 'F:min13': 362, 'F:13': 363, 'F:1': 364, 'F:5': 365, 'F:': 366, 'F:7(b9)': 367, 'F:7(#9)': 368, 'F:7(#11)': 369, 'F:7(b13)': 370, 'F#:maj': 371, 'F#:min': 372, 'F#:aug': 373, 'F#:dim': 374, 'F#:sus4': 375, 'F#:sus2': 376, 'F#:7': 377, 'F#:maj7': 378, 'F#:min7': 379, 'F#:minmaj7': 380, 'F#:maj6': 381, 'F#:min6': 382, 'F#:dim7': 383, 'F#:hdim7': 384, 'F#:maj9': 385, 'F#:min9': 386, 'F#:9': 387, 'F#:min11': 388, 'F#:11': 389, 'F#:maj13': 390, 'F#:min13': 391, 'F#:13': 392, 'F#:1': 393, 'F#:5': 394, 'F#:': 395, 'F#:7(b9)': 396, 'F#:7(#9)': 397, 'F#:7(#11)': 398, 'F#:7(b13)': 399, 'G:maj': 400, 'G:min': 401, 'G:aug': 402, 'G:dim': 403, 'G:sus4': 404, 'G:sus2': 405, 'G:7': 406, 'G:maj7': 407, 'G:min7': 408, 'G:minmaj7': 409, 'G:maj6': 410, 'G:min6': 411, 'G:dim7': 412, 'G:hdim7': 413, 'G:maj9': 414, 'G:min9': 415, 'G:9': 416, 'G:min11': 417, 'G:11': 418, 'G:maj13': 419, 'G:min13': 420, 'G:13': 421, 'G:1': 422, 'G:5': 423, 'G:': 424, 'G:7(b9)': 425, 'G:7(#9)': 426, 'G:7(#11)': 427, 'G:7(b13)': 428, 'G#:maj': 429, 'G#:min': 430, 'G#:aug': 431, 'G#:dim': 432, 'G#:sus4': 433, 'G#:sus2': 434, 'G#:7': 435, 'G#:maj7': 436, 'G#:min7': 437, 'G#:minmaj7': 438, 'G#:maj6': 439, 'G#:min6': 440, 'G#:dim7': 441, 'G#:hdim7': 442, 'G#:maj9': 443, 'G#:min9': 444, 'G#:9': 445, 'G#:min11': 446, 'G#:11': 447, 'G#:maj13': 448, 'G#:min13': 449, 'G#:13': 450, 'G#:1': 451, 'G#:5': 452, 'G#:': 453, 'G#:7(b9)': 454, 'G#:7(#9)': 455, 'G#:7(#11)': 456, 'G#:7(b13)': 457, 'A:maj': 458, 'A:min': 459, 'A:aug': 460, 'A:dim': 461, 'A:sus4': 462, 'A:sus2': 463, 'A:7': 464, 'A:maj7': 465, 'A:min7': 466, 'A:minmaj7': 467, 'A:maj6': 468, 'A:min6': 469, 'A:dim7': 470, 'A:hdim7': 471, 'A:maj9': 472, 'A:min9': 473, 'A:9': 474, 'A:min11': 475, 'A:11': 476, 'A:maj13': 477, 'A:min13': 478, 'A:13': 479, 'A:1': 480, 'A:5': 481, 'A:': 482, 'A:7(b9)': 483, 'A:7(#9)': 484, 'A:7(#11)': 485, 'A:7(b13)': 486, 'A#:maj': 487, 'A#:min': 488, 'A#:aug': 489, 'A#:dim': 490, 'A#:sus4': 491, 'A#:sus2': 492, 'A#:7': 493, 'A#:maj7': 494, 'A#:min7': 495, 'A#:minmaj7': 496, 'A#:maj6': 497, 'A#:min6': 498, 'A#:dim7': 499, 'A#:hdim7': 500, 'A#:maj9': 501, 'A#:min9': 502, 'A#:9': 503, 'A#:min11': 504, 'A#:11': 505, 'A#:maj13': 506, 'A#:min13': 507, 'A#:13': 508, 'A#:1': 509, 'A#:5': 510, 'A#:': 511, 'A#:7(b9)': 512, 'A#:7(#9)': 513, 'A#:7(#11)': 514, 'A#:7(b13)': 515, 'B:maj': 516, 'B:min': 517, 'B:aug': 518, 'B:dim': 519, 'B:sus4': 520, 'B:sus2': 521, 'B:7': 522, 'B:maj7': 523, 'B:min7': 524, 'B:minmaj7': 525, 'B:maj6': 526, 'B:min6': 527, 'B:dim7': 528, 'B:hdim7': 529, 'B:maj9': 530, 'B:min9': 531, 'B:9': 532, 'B:min11': 533, 'B:11': 534, 'B:maj13': 535, 'B:min13': 536, 'B:13': 537, 'B:1': 538, 'B:5': 539, 'B:': 540, 'B:7(b9)': 541, 'B:7(#9)': 542, 'B:7(#11)': 543, 'B:7(b13)': 544, 'C': 545, 'C#': 546, 'D': 547, 'D#': 548, 'E': 549, 'F': 550, 'F#': 551, 'G': 552, 'G#': 553, 'A': 554, 'A#': 555, 'B': 556, 'maj': 557, 'min': 558, 'aug': 559, 'dim': 560, 'sus4': 561, 'sus2': 562, '7': 563, 'maj7': 564, 'min7': 565, 'minmaj7': 566, 'maj6': 567, 'min6': 568, 'dim7': 569, 'hdim7': 570, 'maj9': 571, 'min9': 572, '9': 573, 'min11': 574, '11': 575, 'maj13': 576, 'min13': 577, '13': 578, '1': 579, '5': 580, '': 581, '7(b9)': 582, '7(#9)': 583, '7(#11)': 584, '7(b13)': 585, 'chord_pc_0': 586, 'chord_pc_1': 587, 'chord_pc_2': 588, 'chord_pc_3': 589, 'chord_pc_4': 590, 'chord_pc_5': 591, 'chord_pc_6': 592, 'chord_pc_7': 593, 'chord_pc_8': 594, 'chord_pc_9': 595, 'chord_pc_10': 596, 'chord_pc_11': 597, 'chord_root_0': 598, 'chord_root_1': 599, 'chord_root_2': 600, 'chord_root_3': 601, 'chord_root_4': 602, 'chord_root_5': 603, 'chord_root_6': 604, 'chord_root_7': 605, 'chord_root_8': 606, 'chord_root_9': 607, 'chord_root_10': 608, 'chord_root_11': 609, '[0 0 4 7 9]': 610, '[ 2  0  4  7 10]': 611, '[ 7  0  4  7 11]': 612, '[ 0  0  4  7 10 18]': 613, '[2 0 4 7 9]': 614, '[7 0 4 7 9]': 615, '[11  0  4  7 11]': 616, '[ 6  0  4  7 10]': 617, '[ 8  0  3  7 10]': 618, '[5 0 4 7 9]': 619, '[ 7  0  4  7 10]': 620, '[4 0 3 7 8]': 621, '[ 5  0  4  7 10]': 622, '[ 9  0  4  7 10]': 623, '[ 4  0  4  7 10 13]': 624, '[10  0  4  7 10 14]': 625, '[2 0 3 6 9]': 626, '[ 0  0  4  7 10]': 627, '[10  0  4  7  9]': 628, '[2 0 3 7 8]': 629, '[5 0 4 7]': 630, '[0 0 3 7 9]': 631, '[10  0  3  7  9]': 632, '[ 0  0  3  7 10]': 633, '[1 0 4 7 9]': 634, '[6 0 4 8]': 635, '[10  0  3  7  8 17]': 636, '[4 0 4 8]': 637, '[ 4  0  4  7  9 11]': 638, '[ 4  0  4  7 10 14]': 639, '[ 3  0  4  7 10 14]': 640, '[ 9  0  3  7  9 17]': 641, '[ 7  0  4  7 10 13]': 642, '[6 0 4 7 9]': 643, '[ 8  0  4  7 10]': 644, '[5 0 3 7 8]': 645, '[5 0 3 7 9]': 646, '[5 0 4 8]': 647, '[ 5  0  3  7  8 17]': 648, '[ 3  0  4  7 10 13]': 649, '[ 5  0  3  7 10]': 650, '[1 0 3 7 9]': 651, '[7 0 4 8]': 652, '[ 5  0  4  7 10 18]': 653, '[4 0 3 6 9]': 654, '[10  0  4  7  9 10 14 17]': 655, '[7 0 3 7 8]': 656, '[0 0 3 7 8]': 657, '[ 9  0  4  7 10 18]': 658, '[ 8  0  4  7 10 14]': 659, '[ 4  0  3  7  8 10 13 17]': 660, '[ 4  0  4  7  9 13]': 661, '[0 0 5 7]': 662, '[ 0  0  4  7 10 13]': 663, '[ 8  0  3  7 10 14]': 664, '[ 1  0  4  7 10 14]': 665, '[ 5  0  3  7 10 14]': 666, '[ 4  0  4  7  9 11 14 18]': 667, '[9 0 3 7 8]': 668, '[7 0 3 7 9]': 669, '[ 9  0  4  7 10 13]': 670, '[2 0 3 7]': 671, '[2 0 3 7 9]': 672, '[ 2  0  4  7 10 13]': 673, '[ 4  0  4  7 10]': 674, '[10  0  4  7 10]': 675, '[ 9  0  4  7 11]': 676, '[4 0 4 7 9]': 677, '[ 2  0  4  7  9 13]': 678, '[ 8  0  4  7 10 18]': 679, '[10  0  3  7  8]': 680, '[9 0 4 7 9]': 681, '[8 0 3 7 9]': 682, '[10  0  4  7 10 13]': 683, '[3 0 3 7 9]': 684, '[10  0]': 685, '[10  0  4  7  9 17]': 686, '[ 3  0  4  7 10]': 687, '[11  0  4  7 10]': 688, '[ 1  0  4  7 10 18]': 689, '[ 2  0  3  7  8 10 13 17]': 690, '[ 5  0  4  7  8 10]': 691, '[7 0 3 7]': 692, '[9 0 3 6 9]': 693, '[ 2  0  4  7 11]': 694, '[ 7  0  4  7  9 13]': 695, '[ 5  0  4  7  9 11 14]': 696, '[ 5  0  3  7  8 10 13 17]': 697, '[ 1  0  3  7  9 17]': 698, '[ 5  0  4  7 10 13]': 699, '[ 5  0  4  7  9 13]': 700, '[5 0 3 7]': 701, '[ 2  0  4  7  9 11 14]': 702, '[ 5  0  3  7  8 10 14 17]': 703, '[ 0  0  3  7  8 10]': 704, '[10  0  3  7  8 10]': 705, '[4 0 5 7]': 706, '[8 0]': 707, '[2 0 5 7]': 708, '[ 1  0  4  7 10]': 709, '[4 0 3 7 9]': 710, '[ 6  0  4  7 10 13]': 711, '[ 9  0  4  7  8 10]': 712, '[ 4  0  4  7  8 10]': 713, '[ 5  0  4  7 10 14]': 714, '[ 6  0  3  7  9 17]': 715, '[ 5  0  5 10]': 716, '[0 0 4 7]': 717, '[ 6  0  4  7 10 18]': 718, '[ 0  0  4  7 10 14]': 719, '[ 2  0  3  7  8 10 14 17]': 720, '[ 5  0  4  7 10 15]': 721, '[9 0 3 7 9]': 722, '[11  0  4  7 10 13]': 723, '[10  0  4  7 10 18]': 724, '[ 9  0  3  7 11]': 725, '[ 0  0  4  7  9 13]': 726, '[ 2  0  4  7 10 18]': 727, '[ 4  0  4  7 10 18]': 728, '[ 9  0  4  7  9 11 14]': 729, '[7 0 5 7]': 730, '[ 4  0  3  7  8 10]': 731, '[9 0]': 732, '[ 0  0  4  7  9 11]': 733, '[ 9  0  3  7  8 10]': 734, '[ 5  0  4  7  9 11]': 735, '[ 8  0  3  7 10 14 17]': 736, '[ 2  0  3  7  8 10 17]': 737, '[9 0 3 7]': 738, '[ 0  0  3  7 11]': 739, '[ 8  0  3  7  9 10 14 17]': 740, '[5 0]': 741, '[1 0]': 742, '[6 0 3 7 9]': 743, '[0 0]': 744, '[ 3  0  4  7 10 18]': 745, '[11  0  5  7]': 746, '[9 0 5 7]': 747, '[3 0 3 7]': 748, '[ 5  0  4  8 17]': 749, '[ 4  0  3  7  9 17]': 750, '[ 9  0  3  7  9 10 14 17]': 751, '[ 4  0  4  7 11]': 752, '[0 0 3 7]': 753, '[3 0 5 7]': 754, '[10  0  4  7  9 14 17]': 755, '[ 0  0  3  7 10 14]': 756, '[10  0  3  7]': 757, '[11  0  4  7 10 18]': 758, '[ 0  0  4  7  8 10]': 759, '[10  0  4  7  8 10]': 760, '[ 0  0  4  7 10 15]': 761, '[ 2  0  4  7  8 10]': 762, '[ 7  0  4  7  9 11 14]': 763, '[ 0  0  5 10]': 764, '[ 4  0  4  7  9 10 14 17]': 765, '[8 0 4 7]': 766, '[8 0 3 7]': 767, '[ 7  0  4  7 10 14]': 768, '[ 7  0  3  7 11]': 769, '[ 2  0  4  7  9 11]': 770, '[ 7  0  4  7  9 11]': 771, '[ 2  0  3  7  8 17]': 772, '[ 5  0  3  7 10 14 17]': 773, '[ 9  0  4  7  9 11]': 774, '[ 5  0  3  7  8 10 17]': 775, '[9 0 3 9]': 776, '[3 0 4 7]': 777, '[10  0  3  7  8 10 17]': 778, '[ 7  0  4  7  8 10]': 779, '[ 7  0  4  7 11 14]': 780, '[3 0]': 781, '[ 1  0  4  7 10 13]': 782, '[ 4  0  4  7  9 11 14 17]': 783, '[1 0 4 7]': 784, '[ 5  0  3  7 11]': 785, '[8 0 5 7]': 786, '[ 9  0  4  7  9 13]': 787, '[ 7  0  4  7 10 18]': 788, '[ 2  0  3  7 11]': 789, '[ 8  0  4  7 10 13]': 790, '[11  0  3  7]': 791, '[7 0 3 6]': 792, '[10  0  4  7]': 793, '[10  0  4  7 10 15]': 794, '[6 0]': 795, '[ 3  0  4  7 10 15]': 796, '[4 0 4 7]': 797, '[7 0]': 798, '[1 0 3 9]': 799, '[2 0]': 800, '[ 8  0  4  7 10 15]': 801, '[ 7  0  4  8 11 14]': 802, '[ 4  0  3  7  9 10 14 17]': 803, '[6 0 4 7]': 804, '[11  0  4  7]': 805, '[ 0  0  4  7  9 11 14]': 806, '[9 0 4 7]': 807, '[2 0 4 7]': 808, '[1 0 7]': 809, '[4 0 3 7]': 810, '[ 4  0  3  7 11]': 811, '[ 7  0  4  7 10 15]': 812, '[11  0  4  7 11 14]': 813, '[ 4  0  4  7 11 14]': 814, '[7 0 4 7]': 815, '[11  0  3  7  9]': 816, '[6 0 3 7]': 817, '[6 0 5 7]': 818, '[4 0 4 8 9]': 819, '[1 0 5 7]': 820, '[4 0]': 821, '[ 2  0  4  7 11 14]': 822, '[11  0]': 823, '[1 0 3 7]': 824, '[ 5  0  3  7  8 10]': 825, '[ 7  0  4  8 13]': 826, '[ 2  0  3  7  8 10]': 827, '[11  0  3  9]': 828, '[4 0 3 9]': 829, '[ 9  0  4  7 11 14]': 830, '[6 0 3 9]': 831, '[ 4  0  4  8 11 14]': 832, '[2 0 3 6]': 833, '[ 5  0  4  8 15 18]': 834, '[11  0  3  6]': 835, '[ 5  0  4  8 13]': 836, '[11  0  3  7 11]': 837, '[0 4 7 9]': 838, '[ 0  4  7 10]': 839, '[ 0  4  7 11]': 840, '[ 0  4  7 10 18]': 841, '[ 0  3  7 10]': 842, '[0 3 7 8]': 843, '[ 0  4  7 10 13]': 844, '[ 0  4  7 10 14]': 845, '[0 3 6 9]': 846, '[0 4 7]': 847, '[0 3 7 9]': 848, '[0 4 8]': 849, '[ 0  3  7  8 17]': 850, '[ 0  4  7  9 11]': 851, '[ 0  3  7  9 17]': 852, '[ 0  4  7  9 10 14 17]': 853, '[ 0  3  7  8 10 13 17]': 854, '[ 0  4  7  9 13]': 855, '[0 5 7]': 856, '[ 0  3  7 10 14]': 857, '[ 0  4  7  9 11 14 18]': 858, '[0 3 7]': 859, '[0]': 860, '[ 0  4  7  9 17]': 861, '[ 0  4  7  8 10]': 862, '[ 0  4  7  9 11 14]': 863, '[ 0  3  7  8 10 14 17]': 864, '[ 0  3  7  8 10]': 865, '[ 0  5 10]': 866, '[ 0  4  7 10 15]': 867, '[ 0  3  7 11]': 868, '[ 0  3  7 10 14 17]': 869, '[ 0  3  7  8 10 17]': 870, '[ 0  3  7  9 10 14 17]': 871, '[ 0  4  8 17]': 872, '[ 0  4  7  9 14 17]': 873, '[0 3 9]': 874, '[ 0  4  7 11 14]': 875, '[ 0  4  7  9 11 14 17]': 876, '[0 3 6]': 877, '[ 0  4  8 11 14]': 878, '[0 7]': 879, '[0 4 8 9]': 880, '[ 0  4  8 13]': 881, '[ 0  4  8 15 18]': 882}\n",
      "Training melody tokenizer\n",
      "Merging melody vocab\n",
      "Training harmony tokenizer\n",
      "Merging harmony vocab\n",
      "Processing melody\n"
     ]
    },
    {
     "name": "stderr",
     "output_type": "stream",
     "text": [
      "Processing Melody Files: 100%|██████████| 650/650 [00:33<00:00, 19.31it/s]\n"
     ]
    },
    {
     "name": "stdout",
     "output_type": "stream",
     "text": [
      "Processing harmony\n"
     ]
    },
    {
     "name": "stderr",
     "output_type": "stream",
     "text": [
      "Processing Files: 100%|██████████| 650/650 [00:49<00:00, 13.13it/s]"
     ]
    },
    {
     "name": "stdout",
     "output_type": "stream",
     "text": [
      "example sentence length:  288\n",
      "['<s>', '<bar>', 'position_0x00', 'P:69', 'position_3x00', 'P:64', '<bar>', 'position_0x00', 'P:71', 'position_0x75', 'P:71', 'position_1x00', 'P:71', 'position_3x00', 'P:64', '<bar>', 'position_0x00', 'P:69', 'position_1x00', 'P:71', 'position_2x00', 'P:69', 'position_3x00', 'P:64', '<bar>', 'position_0x00', 'P:71', 'position_3x00', 'P:69', '<bar>', 'position_0x00', 'P:66', 'position_1x00', 'P:67', 'position_1x50', 'P:64', 'position_2x00', 'P:64', '<bar>', 'position_0x00', 'P:66', 'position_1x00', 'P:67', 'position_1x50', 'P:64', 'position_2x00', 'P:64', 'position_3x50', 'P:66', '<bar>', 'position_0x00', 'P:59', 'position_1x00', 'P:62', 'position_2x00', 'P:64', 'position_3x00', 'P:67', '<bar>', 'position_0x00', 'P:66', 'position_0x50', 'P:67', 'position_1x00', 'P:64', 'position_3x00', 'P:62', '<bar>', 'position_0x00', 'P:63', 'position_1x00', 'P:66', 'position_2x00', 'P:68', 'position_3x00', 'P:73', '<bar>', 'position_0x00', 'P:71', 'position_0x50', 'P:73', 'position_1x00', 'P:71', 'position_3x00', 'P:71', '<bar>', 'position_0x00', 'P:74', 'position_3x00', 'P:69', '<bar>', 'position_0x00', 'P:72', 'position_3x00', 'P:71', '<bar>', 'position_0x00', 'P:74', 'position_1x00', 'P:74', 'position_2x00', 'P:74', 'position_3x00', 'P:69', '<bar>', 'position_0x00', 'P:72', 'position_1x00', 'P:72', 'position_3x00', 'P:67', '<bar>', 'position_0x00', 'P:71', 'position_3x00', 'P:67', '<bar>', 'position_0x00', 'P:69', 'position_3x00', 'P:67', '<bar>', 'position_0x00', 'P:71', 'position_1x00', 'P:69', 'position_2x00', 'P:67', 'position_3x00', 'P:66', '<bar>', 'position_0x00', 'P:64', 'position_1x00', 'P:66', 'position_3x00', 'P:62', '<bar>', 'position_0x00', 'P:69', 'position_3x00', 'P:64', '<bar>', 'position_0x00', 'P:71', 'position_0x75', 'P:71', 'position_1x00', 'P:71', 'position_3x00', 'P:69', '<bar>', 'position_0x00', 'P:66', 'position_1x00', 'P:67', 'position_2x00', 'P:69', 'position_3x00', 'P:71', '<bar>', 'position_0x00', 'P:74', 'position_3x00', 'P:71', '<bar>', 'position_0x00', 'P:74', 'position_1x00', 'P:73', 'position_2x00', 'P:72', 'position_3x00', 'P:64', '<bar>', 'position_0x00', 'P:74', 'position_0x50', 'P:73', 'position_1x00', 'P:72', 'position_3x00', 'P:71', '<bar>', 'position_0x00', 'P:69', 'position_1x00', 'P:71', 'position_2x00', 'P:67', 'position_3x00', 'P:69', '<bar>', 'position_0x00', 'P:67', 'position_3x00', '<rest>', '</s>', '<h>', '<bar>', 'position_0x00', 'A:min7', '<bar>', 'position_0x00', 'D:7', '<bar>', 'position_0x00', 'A:min7', '<bar>', 'position_0x00', 'D:7', '<bar>', 'position_0x00', 'G:maj7', '<bar>', 'position_0x00', 'C:7(#11)', '<bar>', 'position_0x00', 'B:min7', '<bar>', 'position_0x00', 'E:min7', '<bar>', 'position_0x00', 'B:maj7', 'position_2x00', 'F#:7', '<bar>', 'position_0x00', 'B:maj6', '<bar>', 'position_0x00', 'D:min7', '<bar>', 'position_0x00', 'G:7', '<bar>', 'position_0x00', 'D:min7', '<bar>', 'position_0x00', 'G:7', '<bar>', 'position_0x00', 'C:maj7', '<bar>', 'position_0x00', 'F:7', '<bar>', 'position_0x00', 'E:min7', 'position_2x00', 'A:7', '<bar>', 'position_0x00', 'A:min7', 'position_2x00', 'D:7', '<bar>', 'position_0x00', 'A:min7', '<bar>', 'position_0x00', 'D:7', '<bar>', 'position_0x00', 'G:maj7', 'position_2x00', 'F:7', '<bar>', 'position_0x00', 'E:7(b9)', '<bar>', 'position_0x00', 'A:min7', '<bar>', 'position_0x00', 'F:7', '<bar>', 'position_0x00', 'A:min7', 'position_2x00', 'D:7', '<bar>', 'position_0x00', 'G:maj6', '</s>']\n",
      "[2, 6, 95, 55, 119, 50, 6, 95, 57, 101, 57, 103, 57, 119, 50, 6, 95, 55, 103, 57, 111, 55, 119, 50, 6, 95, 57, 119, 55, 6, 95, 52, 103, 53, 107, 50, 111, 50, 6, 95, 52, 103, 53, 107, 50, 111, 50, 123, 52, 6, 95, 45, 103, 48, 111, 50, 119, 53, 6, 95, 52, 99, 53, 103, 50, 119, 48, 6, 95, 49, 103, 52, 111, 54, 119, 59, 6, 95, 57, 99, 59, 103, 57, 119, 57, 6, 95, 60, 119, 55, 6, 95, 58, 119, 57, 6, 95, 60, 103, 60, 111, 60, 119, 55, 6, 95, 58, 103, 58, 119, 53, 6, 95, 57, 119, 53, 6, 95, 55, 119, 53, 6, 95, 57, 103, 55, 111, 53, 119, 52, 6, 95, 50, 103, 52, 119, 48, 6, 95, 55, 119, 50, 6, 95, 57, 101, 57, 103, 57, 119, 55, 6, 95, 52, 103, 53, 111, 55, 119, 57, 6, 95, 60, 119, 57, 6, 95, 60, 103, 59, 111, 58, 119, 50, 6, 95, 60, 99, 59, 103, 58, 119, 57, 6, 95, 55, 103, 57, 111, 53, 119, 55, 6, 95, 53, 119, 4, 3, 7, 6, 8, 377, 6, 8, 172, 6, 8, 377, 6, 8, 172, 6, 8, 318, 6, 8, 135, 6, 8, 435, 6, 8, 232, 6, 8, 434, 24, 288, 6, 8, 437, 6, 8, 174, 6, 8, 317, 6, 8, 174, 6, 8, 317, 6, 8, 115, 6, 8, 259, 6, 8, 232, 24, 375, 6, 8, 377, 24, 172, 6, 8, 377, 6, 8, 172, 6, 8, 318, 24, 259, 6, 8, 249, 6, 8, 377, 6, 8, 259, 6, 8, 377, 24, 172, 6, 8, 321, 3]\n"
     ]
    },
    {
     "name": "stderr",
     "output_type": "stream",
     "text": [
      "\n"
     ]
    }
   ],
   "source": [
    "# Fixing combined MergedMelHarmTokenizer\n",
    "print('Length of combined vocab:', len(m_chordSymbolTokenizer.vocab))\n",
    "print('Combined vocab:', m_chordSymbolTokenizer.vocab)\n",
    "\n",
    "m_chordSymbolTokenizer.fit( data_files )\n",
    "toks_symb_m = m_chordSymbolTokenizer(data_files)\n",
    "print('example sentence length: ', len(toks_symb_m['tokens'][0]))\n",
    "print(toks_symb_m['tokens'][0])\n",
    "print(toks_symb_m['ids'][0])\n",
    "\n"
   ]
  },
  {
   "cell_type": "code",
   "execution_count": 24,
   "metadata": {},
   "outputs": [
    {
     "name": "stdout",
     "output_type": "stream",
     "text": [
      "[5, 203]\n",
      "[180, 154]\n"
     ]
    }
   ],
   "source": [
    "print(m_chordSymbolTokenizer.convert_tokens_to_ids(['<mask>', 'C:7']))\n",
    "print(m_chordSymbolTokenizer.convert_tokens_to_ids(['ts_4x4', 'position_7x33']))"
   ]
  },
  {
   "cell_type": "code",
   "execution_count": 7,
   "metadata": {},
   "outputs": [
    {
     "name": "stdout",
     "output_type": "stream",
     "text": [
      "Processing melody\n",
      "Processing harmony\n",
      "['<s>', '<bar>', 'position_0x00', 'P:69', 'position_2x00', 'P:66', '<bar>', 'position_0x00', 'P:66', 'position_2x00', 'P:62', 'position_2x50', 'P:59', 'position_3x00', 'P:62', 'position_3x50', 'P:66', '<bar>', 'position_0x00', 'P:69', 'position_2x00', 'P:66', '<bar>', 'position_0x00', 'P:66', 'position_2x00', 'P:58', 'position_3x00', 'P:62', '<bar>', 'position_0x00', 'P:69', 'position_2x00', 'P:66', '<bar>', 'position_0x00', 'P:66', 'position_2x00', 'P:66', '<bar>', 'position_0x00', 'P:62', '<bar>', 'position_0x00', 'P:62', 'position_2x00', 'P:64', 'position_3x00', 'P:67', '<bar>', 'position_0x00', 'P:74', 'position_2x00', 'P:71', '<bar>', 'position_0x00', 'P:71', 'position_2x00', 'P:67', 'position_2x50', 'P:64', 'position_3x00', 'P:67', 'position_3x50', 'P:71', '<bar>', 'position_0x00', 'P:74', 'position_2x00', 'P:71', '<bar>', 'position_0x00', 'P:71', 'position_2x00', 'P:61', 'position_3x00', 'P:62', '<bar>', 'position_0x00', 'P:69', 'position_2x00', 'P:68', 'position_3x00', 'P:67', '<bar>', 'position_0x00', 'P:66', 'position_1x00', 'P:69', 'position_3x00', 'P:67', '<bar>', 'position_0x00', 'P:72', 'position_2x00', 'P:74', 'position_3x00', 'P:71', '<bar>', 'position_0x00', 'P:69', 'position_2x00', 'P:71', 'position_3x00', 'P:72', '<bar>', 'position_0x00', 'P:74', 'position_2x00', 'P:69', '<bar>', 'position_0x00', 'P:69', 'position_2x00', 'P:71', 'position_3x00', 'P:72', '<bar>', 'position_0x00', 'P:74', 'position_0x50', 'P:76', 'position_1x00', 'P:74', 'position_1x50', 'P:69', 'position_2x00', 'P:72', '<bar>', 'position_0x00', 'P:72', 'position_2x00', 'P:67', 'position_3x00', 'P:69', '<bar>', 'position_0x00', 'P:71', 'position_1x00', 'P:64', 'position_2x00', 'P:67', 'position_3x00', 'P:69', '<bar>', 'position_0x00', 'P:71', 'position_1x00', 'P:64', 'position_2x00', 'P:67', 'position_3x00', 'P:69', '<bar>', 'position_0x00', 'P:71', 'position_0x50', 'P:70', 'position_1x00', 'P:71', 'position_1x50', 'P:66', 'position_2x00', 'P:64', '<bar>', 'position_0x00', 'P:64', 'position_1x00', 'P:58', 'position_2x00', 'P:59', 'position_3x00', 'P:62', '<bar>', 'position_0x00', 'P:69', 'position_2x00', 'P:66', '<bar>', 'position_0x00', 'P:66', 'position_2x00', 'P:67', 'position_3x00', 'P:71', '<bar>', 'position_0x00', 'P:76', 'position_2x00', 'P:71', '<bar>', 'position_0x00', 'P:71', 'position_2x00', 'P:70', 'position_3x00', 'P:71', '<bar>', 'position_0x00', 'P:72', 'position_2x00', 'P:71', '<bar>', 'position_0x00', 'P:67', 'position_1x00', 'P:72', 'position_3x00', 'P:71', '<bar>', 'position_0x00', 'P:67', '<bar>', 'position_0x00', 'P:69', '<bar>', 'position_0x00', 'P:67', '<bar>', 'position_0x00', 'P:67', '<h>', '<bar>', 'position_0x00', 'G:maj7', '<bar>', 'position_0x00', 'G:maj7', '<bar>', 'position_0x00', 'C:7(#11)', '<bar>', 'position_0x00', 'C:7(#11)', '<bar>', 'position_0x00', 'G:maj7', '<bar>', 'position_0x00', 'G:maj7', '<bar>', 'position_0x00', 'B:min7', '<bar>', 'position_0x00', 'E:7(b9)', '<bar>', 'position_0x00', 'A:min7', '<bar>', 'position_0x00', 'A:min7', '<bar>', 'position_0x00', 'F:7(#11)', '<bar>', 'position_0x00', 'F:7(#11)', '<bar>', 'position_0x00', 'B:min7', '<bar>', 'position_0x00', 'A#:dim7', '<bar>', 'position_0x00', 'A:min7', '<bar>', 'position_0x00', 'D:7', '<bar>', 'position_0x00', 'D:min7', '<bar>', 'position_0x00', 'G:7', '<bar>', 'position_0x00', 'D:min7', '<bar>', 'position_0x00', 'G:7', '<bar>', 'position_0x00', 'C:maj7', '<bar>', 'position_0x00', 'A:7', '<bar>', 'position_0x00', 'A:min7', '<bar>', 'position_0x00', 'D:7', '<bar>', 'position_0x00', 'G:maj7', '<bar>', 'position_0x00', 'G:maj7', '<bar>', 'position_0x00', 'B:min7', '<bar>', 'position_0x00', 'E:7(b9)', '<bar>', 'position_0x00', 'A:min7', 'position_2x00', 'B:min7', '<bar>', 'position_0x00', 'C:maj7', 'position_2x00', 'B:min7', '<bar>', 'position_0x00', 'A:min7', '<bar>', 'position_0x00', 'D:7', '<bar>', 'position_0x00', 'G:maj6', '<bar>', 'position_0x00', 'G:maj6', '<pad>', '<pad>', '<pad>', '<pad>', '<pad>', '<pad>', '<pad>', '<pad>', '<pad>', '<pad>', '<pad>', '<pad>', '<pad>', '<pad>', '<pad>', '<pad>', '<pad>', '<pad>', '<pad>', '<pad>', '<pad>', '<pad>', '<pad>', '<pad>', '<pad>', '<pad>', '<pad>', '<pad>', '<pad>', '<pad>', '<pad>', '<pad>', '<pad>', '<pad>', '<pad>', '<pad>', '<pad>', '<pad>', '<pad>', '<pad>', '<pad>', '<pad>', '<pad>', '<pad>', '<pad>', '<pad>', '<pad>', '<pad>', '<pad>', '<pad>', '<pad>', '<pad>', '<pad>', '<pad>', '<pad>', '<pad>', '<pad>', '<pad>', '<pad>', '<pad>', '<pad>', '<pad>', '<pad>', '<pad>', '<pad>', '<pad>', '<pad>', '<pad>', '<pad>', '<pad>', '<pad>', '<pad>', '<pad>', '<pad>', '<pad>', '<pad>', '<pad>', '<pad>', '<pad>', '<pad>', '<pad>', '<pad>', '<pad>', '<pad>', '<pad>', '<pad>', '<pad>', '<pad>', '<pad>', '<pad>', '<pad>', '<pad>', '<pad>', '<pad>', '<pad>', '<pad>', '<pad>', '<pad>', '<pad>', '<pad>', '<pad>', '<pad>', '<pad>', '<pad>', '<pad>', '<pad>', '<pad>', '<pad>', '<pad>', '<pad>', '<pad>', '<pad>', '<pad>', '<pad>', '<pad>', '<pad>', '<pad>', '<pad>', '<pad>', '<pad>', '<pad>', '<pad>', '<pad>', '<pad>', '<pad>', '<pad>', '<pad>', '<pad>', '<pad>', '<pad>', '<pad>', '<pad>', '<pad>', '<pad>', '<pad>', '<pad>', '<pad>', '<pad>', '<pad>', '<pad>', '<pad>', '<pad>', '<pad>', '<pad>', '<pad>', '<pad>', '<pad>', '<pad>', '<pad>', '<pad>', '<pad>', '<pad>', '<pad>', '<pad>', '<pad>', '<pad>', '<pad>', '<pad>', '<pad>', '<pad>', '<pad>', '<pad>', '<pad>', '<pad>', '<pad>', '<pad>', '<pad>', '<pad>', '<pad>', '<pad>', '<pad>', '<pad>', '<pad>', '<pad>', '<pad>', '<pad>', '<pad>', '<pad>', '<pad>', '<pad>', '<pad>', '<pad>', '<pad>', '<pad>', '<pad>', '<pad>', '<pad>', '<pad>', '<pad>', '<pad>', '<pad>', '<pad>', '<pad>', '<pad>', '<pad>', '<pad>', '<pad>', '<pad>', '<pad>', '<pad>', '<pad>', '<pad>', '<pad>', '<pad>', '<pad>', '<pad>', '<pad>', '<pad>', '<pad>', '<pad>', '<pad>', '<pad>', '<pad>', '<pad>', '<pad>', '<pad>', '<pad>', '<pad>', '<pad>', '<pad>', '<pad>', '<pad>', '<pad>', '<pad>', '<pad>', '<pad>', '<pad>', '<pad>', '<pad>', '<pad>', '<pad>', '<pad>', '<pad>', '<pad>', '<pad>', '<pad>', '<pad>', '<pad>', '<pad>', '<pad>', '<pad>', '<pad>', '<pad>', '<pad>', '<pad>', '<pad>', '<pad>', '<pad>', '<pad>', '<pad>', '<pad>', '<pad>', '<pad>', '<pad>', '<pad>', '<pad>', '<pad>', '<pad>', '<pad>', '<pad>', '<pad>', '<pad>', '<pad>', '<pad>', '<pad>', '<pad>', '<pad>', '<pad>', '<pad>', '<pad>', '<pad>', '<pad>', '<pad>', '<pad>', '<pad>', '<pad>', '<pad>', '<pad>', '<pad>', '<pad>', '<pad>', '<pad>', '<pad>', '<pad>', '<pad>', '<pad>', '<pad>', '<pad>', '<pad>', '<pad>', '<pad>', '<pad>', '<pad>', '<pad>', '<pad>', '<pad>', '<pad>', '<pad>', '<pad>', '<pad>', '<pad>', '<pad>', '<pad>', '<pad>', '<pad>', '<pad>', '<pad>', '<pad>', '<pad>', '<pad>', '<pad>', '<pad>', '<pad>', '<pad>', '<pad>', '<pad>', '<pad>', '<pad>', '<pad>', '<pad>', '<pad>', '<pad>', '<pad>', '<pad>', '<pad>', '<pad>', '<pad>', '<pad>', '<pad>', '<pad>', '<pad>', '<pad>', '<pad>', '<pad>', '<pad>', '<pad>', '<pad>', '<pad>', '<pad>', '<pad>', '<pad>', '<pad>', '<pad>', '<pad>', '<pad>', '<pad>', '<pad>', '<pad>', '<pad>', '<pad>', '<pad>', '<pad>', '<pad>', '<pad>', '<pad>', '<pad>', '<pad>', '<pad>', '<pad>', '<pad>', '<pad>', '<pad>', '<pad>', '<pad>', '<pad>', '<pad>', '<pad>', '<pad>', '<pad>', '<pad>', '<pad>', '<pad>', '<pad>', '<pad>', '<pad>', '<pad>', '<pad>', '<pad>', '<pad>', '<pad>', '<pad>', '<pad>', '<pad>', '<pad>', '<pad>', '<pad>', '<pad>', '<pad>', '<pad>', '<pad>', '<pad>', '<pad>', '<pad>', '<pad>', '<pad>', '<pad>', '<pad>', '<pad>', '<pad>', '<pad>', '<pad>', '<pad>', '<pad>', '<pad>', '<pad>', '<pad>', '<pad>', '<pad>', '<pad>', '<pad>', '<pad>', '<pad>', '<pad>', '<pad>', '<pad>', '<pad>', '<pad>', '<pad>', '<pad>', '<pad>', '<pad>', '<pad>', '<pad>', '<pad>', '<pad>', '<pad>', '<pad>', '<pad>', '<pad>', '<pad>', '<pad>', '<pad>', '<pad>', '<pad>', '<pad>', '<pad>', '<pad>', '<pad>', '<pad>', '<pad>', '<pad>', '<pad>', '<pad>', '<pad>', '<pad>', '<pad>', '<pad>', '<pad>', '<pad>', '<pad>', '<pad>', '<pad>', '<pad>', '<pad>', '<pad>', '<pad>', '<pad>', '<pad>', '<pad>', '<pad>', '<pad>', '<pad>', '<pad>', '<pad>', '<pad>', '<pad>', '<pad>', '<pad>', '<pad>', '<pad>', '<pad>', '<pad>', '<pad>', '<pad>', '<pad>', '<pad>', '<pad>', '<pad>', '<pad>', '<pad>', '<pad>', '<pad>', '<pad>', '<pad>', '<pad>', '<pad>', '<pad>', '<pad>', '<pad>', '<pad>', '<pad>', '<pad>', '<pad>', '<pad>', '<pad>', '<pad>', '<pad>', '<pad>', '<pad>', '<pad>', '<pad>', '<pad>', '<pad>', '<pad>', '<pad>', '<pad>', '<pad>', '<pad>', '<pad>', '<pad>', '<pad>', '<pad>', '<pad>', '<pad>', '<pad>', '<pad>', '<pad>', '<pad>', '<pad>', '<pad>', '<pad>', '<pad>', '<pad>', '<pad>', '<pad>', '<pad>', '<pad>', '<pad>', '<pad>', '<pad>', '<pad>', '<pad>', '<pad>', '<pad>', '<pad>', '<pad>', '<pad>', '<pad>', '<pad>', '<pad>', '<pad>', '<pad>', '<pad>', '<pad>', '<pad>', '<pad>', '<pad>', '<pad>', '<pad>', '<pad>', '<pad>', '<pad>', '<pad>', '<pad>', '<pad>', '<pad>', '<pad>', '<pad>', '<pad>', '<pad>', '<pad>', '<pad>', '<pad>', '<pad>', '<pad>', '<pad>', '<pad>', '<pad>', '<pad>', '<pad>', '<pad>', '<pad>', '<pad>', '<pad>', '<pad>', '<pad>', '<pad>', '<pad>', '<pad>', '<pad>', '<pad>', '<pad>', '<pad>', '<pad>', '<pad>', '<pad>', '<pad>', '<pad>', '<pad>', '<pad>', '<pad>', '<pad>', '<pad>', '<pad>', '<pad>', '<pad>', '<pad>', '<pad>', '<pad>', '<pad>', '<pad>', '<pad>', '<pad>', '<pad>', '<pad>', '<pad>', '<pad>', '<pad>', '<pad>', '<pad>', '<pad>', '<pad>', '<pad>', '<pad>', '<pad>', '<pad>', '<pad>', '<pad>', '<pad>', '<pad>', '<pad>', '<pad>', '<pad>', '<pad>', '<pad>', '<pad>', '<pad>', '<pad>', '<pad>', '<pad>', '<pad>', '<pad>', '<pad>', '<pad>', '<pad>', '<pad>', '<pad>', '<pad>', '<pad>', '<pad>', '<pad>', '<pad>', '<pad>', '<pad>', '<pad>', '<pad>', '<pad>', '<pad>', '<pad>', '<pad>', '<pad>', '<pad>', '<pad>', '<pad>', '<pad>', '<pad>', '<pad>', '<pad>', '<pad>', '<pad>', '<pad>', '<pad>', '<pad>', '<pad>', '<pad>', '<pad>', '<pad>', '<pad>', '<pad>', '<pad>', '<pad>', '<pad>', '<pad>', '<pad>', '<pad>', '<pad>', '<pad>', '<pad>', '<pad>', '<pad>', '<pad>', '<pad>', '<pad>', '<pad>', '<pad>', '<pad>', '<pad>', '<pad>', '<pad>', '<pad>', '<pad>', '<pad>', '<pad>', '<pad>', '<pad>', '<pad>']\n",
      "[2, 6, 95, 55, 111, 52, 6, 95, 52, 111, 48, 115, 45, 119, 48, 123, 52, 6, 95, 55, 111, 52, 6, 95, 52, 111, 44, 119, 48, 6, 95, 55, 111, 52, 6, 95, 52, 111, 52, 6, 95, 48, 6, 95, 48, 111, 50, 119, 53, 6, 95, 60, 111, 57, 6, 95, 57, 111, 53, 115, 50, 119, 53, 123, 57, 6, 95, 60, 111, 57, 6, 95, 57, 111, 47, 119, 48, 6, 95, 55, 111, 54, 119, 53, 6, 95, 52, 103, 55, 119, 53, 6, 95, 58, 111, 60, 119, 57, 6, 95, 55, 111, 57, 119, 58, 6, 95, 60, 111, 55, 6, 95, 55, 111, 57, 119, 58, 6, 95, 60, 99, 62, 103, 60, 107, 55, 111, 58, 6, 95, 58, 111, 53, 119, 55, 6, 95, 57, 103, 50, 111, 53, 119, 55, 6, 95, 57, 103, 50, 111, 53, 119, 55, 6, 95, 57, 99, 56, 103, 57, 107, 52, 111, 50, 6, 95, 50, 103, 44, 111, 45, 119, 48, 6, 95, 55, 111, 52, 6, 95, 52, 111, 53, 119, 57, 6, 95, 62, 111, 57, 6, 95, 57, 111, 56, 119, 57, 6, 95, 58, 111, 57, 6, 95, 53, 103, 58, 119, 57, 6, 95, 53, 6, 95, 55, 6, 95, 53, 6, 95, 53, 7, 6, 8, 318, 6, 8, 318, 6, 8, 135, 6, 8, 135, 6, 8, 318, 6, 8, 318, 6, 8, 435, 6, 8, 249, 6, 8, 377, 6, 8, 377, 6, 8, 280, 6, 8, 280, 6, 8, 435, 6, 8, 410, 6, 8, 377, 6, 8, 172, 6, 8, 174, 6, 8, 317, 6, 8, 174, 6, 8, 317, 6, 8, 115, 6, 8, 375, 6, 8, 377, 6, 8, 172, 6, 8, 318, 6, 8, 318, 6, 8, 435, 6, 8, 249, 6, 8, 377, 24, 435, 6, 8, 115, 24, 435, 6, 8, 377, 6, 8, 172, 6, 8, 321, 6, 8, 321, 1, 1, 1, 1, 1, 1, 1, 1, 1, 1, 1, 1, 1, 1, 1, 1, 1, 1, 1, 1, 1, 1, 1, 1, 1, 1, 1, 1, 1, 1, 1, 1, 1, 1, 1, 1, 1, 1, 1, 1, 1, 1, 1, 1, 1, 1, 1, 1, 1, 1, 1, 1, 1, 1, 1, 1, 1, 1, 1, 1, 1, 1, 1, 1, 1, 1, 1, 1, 1, 1, 1, 1, 1, 1, 1, 1, 1, 1, 1, 1, 1, 1, 1, 1, 1, 1, 1, 1, 1, 1, 1, 1, 1, 1, 1, 1, 1, 1, 1, 1, 1, 1, 1, 1, 1, 1, 1, 1, 1, 1, 1, 1, 1, 1, 1, 1, 1, 1, 1, 1, 1, 1, 1, 1, 1, 1, 1, 1, 1, 1, 1, 1, 1, 1, 1, 1, 1, 1, 1, 1, 1, 1, 1, 1, 1, 1, 1, 1, 1, 1, 1, 1, 1, 1, 1, 1, 1, 1, 1, 1, 1, 1, 1, 1, 1, 1, 1, 1, 1, 1, 1, 1, 1, 1, 1, 1, 1, 1, 1, 1, 1, 1, 1, 1, 1, 1, 1, 1, 1, 1, 1, 1, 1, 1, 1, 1, 1, 1, 1, 1, 1, 1, 1, 1, 1, 1, 1, 1, 1, 1, 1, 1, 1, 1, 1, 1, 1, 1, 1, 1, 1, 1, 1, 1, 1, 1, 1, 1, 1, 1, 1, 1, 1, 1, 1, 1, 1, 1, 1, 1, 1, 1, 1, 1, 1, 1, 1, 1, 1, 1, 1, 1, 1, 1, 1, 1, 1, 1, 1, 1, 1, 1, 1, 1, 1, 1, 1, 1, 1, 1, 1, 1, 1, 1, 1, 1, 1, 1, 1, 1, 1, 1, 1, 1, 1, 1, 1, 1, 1, 1, 1, 1, 1, 1, 1, 1, 1, 1, 1, 1, 1, 1, 1, 1, 1, 1, 1, 1, 1, 1, 1, 1, 1, 1, 1, 1, 1, 1, 1, 1, 1, 1, 1, 1, 1, 1, 1, 1, 1, 1, 1, 1, 1, 1, 1, 1, 1, 1, 1, 1, 1, 1, 1, 1, 1, 1, 1, 1, 1, 1, 1, 1, 1, 1, 1, 1, 1, 1, 1, 1, 1, 1, 1, 1, 1, 1, 1, 1, 1, 1, 1, 1, 1, 1, 1, 1, 1, 1, 1, 1, 1, 1, 1, 1, 1, 1, 1, 1, 1, 1, 1, 1, 1, 1, 1, 1, 1, 1, 1, 1, 1, 1, 1, 1, 1, 1, 1, 1, 1, 1, 1, 1, 1, 1, 1, 1, 1, 1, 1, 1, 1, 1, 1, 1, 1, 1, 1, 1, 1, 1, 1, 1, 1, 1, 1, 1, 1, 1, 1, 1, 1, 1, 1, 1, 1, 1, 1, 1, 1, 1, 1, 1, 1, 1, 1, 1, 1, 1, 1, 1, 1, 1, 1, 1, 1, 1, 1, 1, 1, 1, 1, 1, 1, 1, 1, 1, 1, 1, 1, 1, 1, 1, 1, 1, 1, 1, 1, 1, 1, 1, 1, 1, 1, 1, 1, 1, 1, 1, 1, 1, 1, 1, 1, 1, 1, 1, 1, 1, 1, 1, 1, 1, 1, 1, 1, 1, 1, 1, 1, 1, 1, 1, 1, 1, 1, 1, 1, 1, 1, 1, 1, 1, 1, 1, 1, 1, 1, 1, 1, 1, 1, 1, 1, 1, 1, 1, 1, 1, 1, 1, 1, 1, 1, 1, 1, 1, 1, 1, 1, 1, 1, 1, 1, 1, 1, 1, 1, 1, 1, 1, 1, 1, 1, 1, 1, 1, 1, 1, 1, 1, 1, 1, 1, 1, 1, 1, 1, 1, 1, 1, 1, 1, 1, 1, 1, 1, 1, 1, 1, 1, 1, 1, 1, 1, 1, 1, 1, 1, 1, 1, 1, 1, 1, 1, 1, 1, 1, 1, 1, 1, 1, 1, 1, 1, 1, 1, 1, 1, 1, 1, 1, 1, 1, 1, 1, 1, 1, 1, 1, 1, 1, 1, 1, 1, 1, 1, 1, 1, 1, 1, 1, 1, 1, 1, 1, 1, 1, 1, 1, 1, 1, 1, 1, 1, 1, 1, 1, 1, 1, 1, 1, 1, 1, 1, 1, 1, 1, 1, 1, 1, 1, 1, 1, 1, 1, 1, 1, 1, 1, 1, 1, 1, 1, 1, 1, 1]\n",
      "[1, 1, 1, 1, 1, 1, 1, 1, 1, 1, 1, 1, 1, 1, 1, 1, 1, 1, 1, 1, 1, 1, 1, 1, 1, 1, 1, 1, 1, 1, 1, 1, 1, 1, 1, 1, 1, 1, 1, 1, 1, 1, 1, 1, 1, 1, 1, 1, 1, 1, 1, 1, 1, 1, 1, 1, 1, 1, 1, 1, 1, 1, 1, 1, 1, 1, 1, 1, 1, 1, 1, 1, 1, 1, 1, 1, 1, 1, 1, 1, 1, 1, 1, 1, 1, 1, 1, 1, 1, 1, 1, 1, 1, 1, 1, 1, 1, 1, 1, 1, 1, 1, 1, 1, 1, 1, 1, 1, 1, 1, 1, 1, 1, 1, 1, 1, 1, 1, 1, 1, 1, 1, 1, 1, 1, 1, 1, 1, 1, 1, 1, 1, 1, 1, 1, 1, 1, 1, 1, 1, 1, 1, 1, 1, 1, 1, 1, 1, 1, 1, 1, 1, 1, 1, 1, 1, 1, 1, 1, 1, 1, 1, 1, 1, 1, 1, 1, 1, 1, 1, 1, 1, 1, 1, 1, 1, 1, 1, 1, 1, 1, 1, 1, 1, 1, 1, 1, 1, 1, 1, 1, 1, 1, 1, 1, 1, 1, 1, 1, 1, 1, 1, 1, 1, 1, 1, 1, 1, 1, 1, 1, 1, 1, 1, 1, 1, 1, 1, 1, 1, 1, 1, 1, 1, 1, 1, 1, 1, 1, 1, 1, 1, 1, 1, 1, 1, 1, 1, 1, 1, 1, 1, 1, 1, 1, 1, 1, 1, 1, 1, 1, 1, 1, 1, 1, 1, 1, 1, 1, 1, 1, 1, 1, 1, 1, 1, 1, 1, 1, 1, 1, 1, 1, 1, 1, 1, 1, 1, 1, 1, 1, 1, 1, 1, 1, 1, 1, 1, 1, 1, 1, 1, 1, 1, 1, 1, 1, 1, 1, 1, 1, 1, 1, 1, 1, 1, 1, 1, 1, 1, 1, 1, 1, 1, 1, 1, 1, 1, 1, 1, 1, 1, 1, 1, 1, 1, 1, 1, 0, 0, 0, 0, 0, 0, 0, 0, 0, 0, 0, 0, 0, 0, 0, 0, 0, 0, 0, 0, 0, 0, 0, 0, 0, 0, 0, 0, 0, 0, 0, 0, 0, 0, 0, 0, 0, 0, 0, 0, 0, 0, 0, 0, 0, 0, 0, 0, 0, 0, 0, 0, 0, 0, 0, 0, 0, 0, 0, 0, 0, 0, 0, 0, 0, 0, 0, 0, 0, 0, 0, 0, 0, 0, 0, 0, 0, 0, 0, 0, 0, 0, 0, 0, 0, 0, 0, 0, 0, 0, 0, 0, 0, 0, 0, 0, 0, 0, 0, 0, 0, 0, 0, 0, 0, 0, 0, 0, 0, 0, 0, 0, 0, 0, 0, 0, 0, 0, 0, 0, 0, 0, 0, 0, 0, 0, 0, 0, 0, 0, 0, 0, 0, 0, 0, 0, 0, 0, 0, 0, 0, 0, 0, 0, 0, 0, 0, 0, 0, 0, 0, 0, 0, 0, 0, 0, 0, 0, 0, 0, 0, 0, 0, 0, 0, 0, 0, 0, 0, 0, 0, 0, 0, 0, 0, 0, 0, 0, 0, 0, 0, 0, 0, 0, 0, 0, 0, 0, 0, 0, 0, 0, 0, 0, 0, 0, 0, 0, 0, 0, 0, 0, 0, 0, 0, 0, 0, 0, 0, 0, 0, 0, 0, 0, 0, 0, 0, 0, 0, 0, 0, 0, 0, 0, 0, 0, 0, 0, 0, 0, 0, 0, 0, 0, 0, 0, 0, 0, 0, 0, 0, 0, 0, 0, 0, 0, 0, 0, 0, 0, 0, 0, 0, 0, 0, 0, 0, 0, 0, 0, 0, 0, 0, 0, 0, 0, 0, 0, 0, 0, 0, 0, 0, 0, 0, 0, 0, 0, 0, 0, 0, 0, 0, 0, 0, 0, 0, 0, 0, 0, 0, 0, 0, 0, 0, 0, 0, 0, 0, 0, 0, 0, 0, 0, 0, 0, 0, 0, 0, 0, 0, 0, 0, 0, 0, 0, 0, 0, 0, 0, 0, 0, 0, 0, 0, 0, 0, 0, 0, 0, 0, 0, 0, 0, 0, 0, 0, 0, 0, 0, 0, 0, 0, 0, 0, 0, 0, 0, 0, 0, 0, 0, 0, 0, 0, 0, 0, 0, 0, 0, 0, 0, 0, 0, 0, 0, 0, 0, 0, 0, 0, 0, 0, 0, 0, 0, 0, 0, 0, 0, 0, 0, 0, 0, 0, 0, 0, 0, 0, 0, 0, 0, 0, 0, 0, 0, 0, 0, 0, 0, 0, 0, 0, 0, 0, 0, 0, 0, 0, 0, 0, 0, 0, 0, 0, 0, 0, 0, 0, 0, 0, 0, 0, 0, 0, 0, 0, 0, 0, 0, 0, 0, 0, 0, 0, 0, 0, 0, 0, 0, 0, 0, 0, 0, 0, 0, 0, 0, 0, 0, 0, 0, 0, 0, 0, 0, 0, 0, 0, 0, 0, 0, 0, 0, 0, 0, 0, 0, 0, 0, 0, 0, 0, 0, 0, 0, 0, 0, 0, 0, 0, 0, 0, 0, 0, 0, 0, 0, 0, 0, 0, 0, 0, 0, 0, 0, 0, 0, 0, 0, 0, 0, 0, 0, 0, 0, 0, 0, 0, 0, 0, 0, 0, 0, 0, 0, 0, 0, 0, 0, 0, 0, 0, 0, 0, 0, 0, 0, 0, 0, 0, 0, 0, 0, 0, 0, 0, 0, 0, 0, 0, 0, 0, 0, 0, 0, 0, 0, 0, 0, 0, 0, 0, 0, 0, 0, 0, 0, 0, 0, 0, 0, 0, 0, 0, 0, 0, 0, 0, 0, 0, 0, 0, 0, 0, 0, 0, 0, 0, 0, 0, 0, 0, 0, 0, 0, 0, 0, 0, 0, 0, 0, 0, 0, 0, 0, 0, 0, 0, 0, 0, 0, 0, 0, 0, 0, 0, 0, 0, 0, 0, 0, 0, 0, 0, 0, 0, 0, 0, 0, 0, 0, 0, 0, 0, 0, 0, 0, 0, 0, 0, 0, 0, 0, 0, 0, 0, 0, 0, 0, 0, 0, 0, 0, 0, 0, 0, 0, 0, 0, 0, 0, 0, 0, 0, 0, 0, 0, 0, 0, 0, 0, 0, 0, 0, 0, 0, 0, 0, 0, 0, 0, 0, 0, 0, 0, 0, 0, 0, 0, 0, 0, 0, 0, 0, 0, 0, 0, 0, 0, 0, 0, 0, 0, 0, 0]\n",
      "1024\n",
      "1024\n",
      "1024\n"
     ]
    },
    {
     "name": "stderr",
     "output_type": "stream",
     "text": [
      "/home/maximos/anaconda3/envs/midi/lib/python3.11/site-packages/music21/stream/base.py:3689: Music21DeprecationWarning: .flat is deprecated.  Call .flatten() instead\n",
      "  return self.iter().getElementsByClass(classFilterList)\n"
     ]
    }
   ],
   "source": [
    "x = m_chordSymbolTokenizer.encode(data_files[3], max_length=1024, pad_to_max_length=True)\n",
    "print(x['input_tokens'])\n",
    "print(x['input_ids'])\n",
    "print(x['attention_mask'])\n",
    "print(len(x['input_tokens']))\n",
    "print(len(x['input_ids']))\n",
    "print(len(x['attention_mask']))"
   ]
  }
 ],
 "metadata": {
  "kernelspec": {
   "display_name": "midi",
   "language": "python",
   "name": "python3"
  },
  "language_info": {
   "codemirror_mode": {
    "name": "ipython",
    "version": 3
   },
   "file_extension": ".py",
   "mimetype": "text/x-python",
   "name": "python",
   "nbconvert_exporter": "python",
   "pygments_lexer": "ipython3",
   "version": "3.11.5"
  }
 },
 "nbformat": 4,
 "nbformat_minor": 2
}
