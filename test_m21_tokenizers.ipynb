{
 "cells": [
  {
   "cell_type": "code",
   "execution_count": 1,
   "metadata": {},
   "outputs": [],
   "source": [
    "import os\n",
    "import csv\n",
    "import zlib\n",
    "import numpy as np\n",
    "from harmony_tokenizers_m21 import ChordSymbolTokenizer, RootTypeTokenizer, \\\n",
    "    PitchClassTokenizer, RootPCTokenizer, GCTRootPCTokenizer, \\\n",
    "    GCTSymbolTokenizer, GCTRootTypeTokenizer, MelodyPitchTokenizer, \\\n",
    "    MergedMelHarmTokenizer"
   ]
  },
  {
   "cell_type": "code",
   "execution_count": 2,
   "metadata": {},
   "outputs": [
    {
     "name": "stdout",
     "output_type": "stream",
     "text": [
      "Total files from Hook Theory dataset: 650\n"
     ]
    }
   ],
   "source": [
    "# root_dir = '/media/datadisk/datasets/hooktheory_xmls'\n",
    "root_dir = 'data/gjt_melodies/Library_melodies/'\n",
    "data_files = []\n",
    "\n",
    "# Walk through all subdirectories and files\n",
    "for dirpath, _, filenames in os.walk(root_dir):\n",
    "    for file in filenames:\n",
    "        if file.endswith('.xml') or file.endswith('.mxl'):\n",
    "            full_path = os.path.join(dirpath, file)\n",
    "            data_files.append(full_path)\n",
    "\n",
    "print('Total files from Hook Theory dataset:', len(data_files))"
   ]
  },
  {
   "cell_type": "code",
   "execution_count": 3,
   "metadata": {},
   "outputs": [],
   "source": [
    "# prepare stats\n",
    "stats = {}\n",
    "\n",
    "def compute_compression_rate(array: np.ndarray, compression_method=zlib.compress) -> float:\n",
    "    \"\"\"\n",
    "    Compute the compression rate of a NumPy array.\n",
    "\n",
    "    Parameters:\n",
    "        array (np.ndarray): The NumPy array to compress.\n",
    "        compression_method (callable): The compression method to use. \n",
    "                                       Default is `zlib.compress`.\n",
    "\n",
    "    Returns:\n",
    "        float: The compression rate (compressed size / original size).\n",
    "    \"\"\"\n",
    "    # Convert the array to bytes\n",
    "    array_bytes = array.tobytes()\n",
    "    \n",
    "    # Compress the byte representation\n",
    "    compressed_bytes = compression_method(array_bytes)\n",
    "    \n",
    "    # Compute sizes\n",
    "    original_size = len(array_bytes)\n",
    "    compressed_size = len(compressed_bytes)\n",
    "    \n",
    "    # Calculate compression rate\n",
    "    compression_rate = compressed_size / original_size\n",
    "\n",
    "    return compression_rate\n",
    "\n",
    "def initialize_stats(key, tokenizer):\n",
    "    stats[key] = {\n",
    "        'vocab_size': len(tokenizer.vocab),\n",
    "        'seq_lens': [],\n",
    "        'compression_rates': []\n",
    "    }\n",
    "# end initialize_stats\n",
    "\n",
    "def update_stats(key, toks):\n",
    "    for t in toks['ids']:\n",
    "        stats[key]['seq_lens'].append( len(t) )\n",
    "        stats[key]['compression_rates'].append( compute_compression_rate(np.array(t)) )\n",
    "    stats[key]['mean_len'] = np.mean(stats[key]['seq_lens'])\n",
    "    stats[key]['std_len'] = np.std(stats[key]['seq_lens'])\n",
    "    stats[key]['max_len'] = np.max(stats[key]['seq_lens'])\n",
    "    stats[key]['mean_compression'] = np.mean(stats[key]['compression_rates'])\n",
    "    stats[key]['std_compression'] = np.std(stats[key]['compression_rates'])\n",
    "# end update_stats\n",
    "\n",
    "def print_stats(key):\n",
    "    print('vocab_size: ', stats[key]['vocab_size'])\n",
    "    print('mean len: ', stats[key]['mean_len'])\n",
    "    print('std len: ', stats[key]['std_len'])\n",
    "    print('max len: ', stats[key]['max_len'])\n",
    "    print('mean cr: ', stats[key]['mean_compression'])\n",
    "    print('std cr: ', stats[key]['std_compression'])"
   ]
  },
  {
   "cell_type": "code",
   "execution_count": 4,
   "metadata": {},
   "outputs": [
    {
     "name": "stdout",
     "output_type": "stream",
     "text": [
      "ChordSymbolTokenizer_m21\n",
      "len(chordSymbolTokenizer.vocab):  436\n"
     ]
    },
    {
     "name": "stderr",
     "output_type": "stream",
     "text": [
      "Processing Files:   0%|          | 0/650 [00:00<?, ?it/s]C:\\Users\\dimak\\AppData\\Roaming\\Python\\Python311\\site-packages\\music21\\stream\\base.py:3689: Music21DeprecationWarning: .flat is deprecated.  Call .flatten() instead\n",
      "  return self.iter().getElementsByClass(classFilterList)\n",
      "Processing Files: 100%|██████████| 650/650 [00:36<00:00, 17.91it/s]"
     ]
    },
    {
     "name": "stdout",
     "output_type": "stream",
     "text": [
      "example sentence length:  58\n",
      "['<h>', '<bar>', 'position_0x00', 'F:min7', '<bar>', 'position_0x00', 'G:min7', '<bar>', 'position_0x00', 'G#:maj7', 'position_1x50', 'G:min7', '<bar>', 'position_0x00', 'F:min7', '<bar>', 'position_0x00', 'F:min7', '<bar>', 'position_0x00', 'G:min7', '<bar>', 'position_0x00', 'G#:maj7', 'position_1x50', 'G:min7', '<bar>', 'position_0x00', 'F:min7', '<bar>', 'position_0x00', 'D#:maj', '<bar>', 'position_0x00', 'D#:maj', '<bar>', 'position_0x00', 'C#:maj', 'position_1x50', 'D#:maj', '<bar>', 'position_0x00', 'F:min7', '<bar>', 'position_0x00', 'D#:maj', '<bar>', 'position_0x00', 'D#:maj', '<bar>', 'position_0x00', 'C#:maj', 'position_1x50', 'D#:maj', '<bar>', 'position_0x00', 'F:min7', '</s>']\n",
      "[7, 6, 8, 241, 6, 8, 299, 6, 8, 327, 20, 299, 6, 8, 241, 6, 8, 241, 6, 8, 299, 6, 8, 327, 20, 299, 6, 8, 241, 6, 8, 175, 6, 8, 175, 6, 8, 117, 20, 175, 6, 8, 241, 6, 8, 175, 6, 8, 175, 6, 8, 117, 20, 175, 6, 8, 241, 3]\n",
      "vocab_size:  436\n",
      "mean len:  105.60307692307693\n",
      "std len:  34.296615528159485\n",
      "max len:  318\n",
      "mean cr:  0.21026091050938642\n",
      "std cr:  0.047336737720226695\n"
     ]
    },
    {
     "name": "stderr",
     "output_type": "stream",
     "text": [
      "\n"
     ]
    }
   ],
   "source": [
    "print('ChordSymbolTokenizer_m21')\n",
    "chordSymbolTokenizer = ChordSymbolTokenizer()\n",
    "print('len(chordSymbolTokenizer.vocab): ', len(chordSymbolTokenizer.vocab))\n",
    "initialize_stats('ChordSymbolTokenizer', chordSymbolTokenizer)\n",
    "toks_cs = chordSymbolTokenizer(data_files)\n",
    "print('example sentence length: ', len(toks_cs['tokens'][0]))\n",
    "print(toks_cs['tokens'][0])\n",
    "print(toks_cs['ids'][0])\n",
    "update_stats('ChordSymbolTokenizer', toks_cs)\n",
    "print_stats('ChordSymbolTokenizer')"
   ]
  },
  {
   "cell_type": "code",
   "execution_count": 5,
   "metadata": {},
   "outputs": [
    {
     "name": "stdout",
     "output_type": "stream",
     "text": [
      "{'<unk>': 0, '<pad>': 1, '<s>': 2, '</s>': 3, '<emp>': 4, '<mask>': 5, '<bar>': 6, '<h>': 7, 'position_0x00': 8, 'position_0x16': 9, 'position_0x25': 10, 'position_0x33': 11, 'position_0x50': 12, 'position_0x66': 13, 'position_0x75': 14, 'position_0x83': 15, 'position_1x00': 16, 'position_1x16': 17, 'position_1x25': 18, 'position_1x33': 19, 'position_1x50': 20, 'position_1x66': 21, 'position_1x75': 22, 'position_1x83': 23, 'position_2x00': 24, 'position_2x16': 25, 'position_2x25': 26, 'position_2x33': 27, 'position_2x50': 28, 'position_2x66': 29, 'position_2x75': 30, 'position_2x83': 31, 'position_3x00': 32, 'position_3x16': 33, 'position_3x25': 34, 'position_3x33': 35, 'position_3x50': 36, 'position_3x66': 37, 'position_3x75': 38, 'position_3x83': 39, 'position_4x00': 40, 'position_4x16': 41, 'position_4x25': 42, 'position_4x33': 43, 'position_4x50': 44, 'position_4x66': 45, 'position_4x75': 46, 'position_4x83': 47, 'position_5x00': 48, 'position_5x16': 49, 'position_5x25': 50, 'position_5x33': 51, 'position_5x50': 52, 'position_5x66': 53, 'position_5x75': 54, 'position_5x83': 55, 'position_6x00': 56, 'position_6x16': 57, 'position_6x25': 58, 'position_6x33': 59, 'position_6x50': 60, 'position_6x66': 61, 'position_6x75': 62, 'position_6x83': 63, 'position_7x00': 64, 'position_7x16': 65, 'position_7x25': 66, 'position_7x33': 67, 'position_7x50': 68, 'position_7x66': 69, 'position_7x75': 70, 'position_7x83': 71, 'position_8x00': 72, 'position_8x16': 73, 'position_8x25': 74, 'position_8x33': 75, 'position_8x50': 76, 'position_8x66': 77, 'position_8x75': 78, 'position_8x83': 79, 'position_9x00': 80, 'position_9x16': 81, 'position_9x25': 82, 'position_9x33': 83, 'position_9x50': 84, 'position_9x66': 85, 'position_9x75': 86, 'position_9x83': 87, 'C:maj': 88, 'C:min': 89, 'C:aug': 90, 'C:dim': 91, 'C:sus4': 92, 'C:sus2': 93, 'C:7': 94, 'C:maj7': 95, 'C:min7': 96, 'C:minmaj7': 97, 'C:maj6': 98, 'C:min6': 99, 'C:dim7': 100, 'C:hdim7': 101, 'C:maj9': 102, 'C:min9': 103, 'C:9': 104, 'C:min11': 105, 'C:11': 106, 'C:maj13': 107, 'C:min13': 108, 'C:13': 109, 'C:1': 110, 'C:5': 111, 'C:': 112, 'C:7(b9)': 113, 'C:7(#9)': 114, 'C:7(#11)': 115, 'C:7(b13)': 116, 'C#:maj': 117, 'C#:min': 118, 'C#:aug': 119, 'C#:dim': 120, 'C#:sus4': 121, 'C#:sus2': 122, 'C#:7': 123, 'C#:maj7': 124, 'C#:min7': 125, 'C#:minmaj7': 126, 'C#:maj6': 127, 'C#:min6': 128, 'C#:dim7': 129, 'C#:hdim7': 130, 'C#:maj9': 131, 'C#:min9': 132, 'C#:9': 133, 'C#:min11': 134, 'C#:11': 135, 'C#:maj13': 136, 'C#:min13': 137, 'C#:13': 138, 'C#:1': 139, 'C#:5': 140, 'C#:': 141, 'C#:7(b9)': 142, 'C#:7(#9)': 143, 'C#:7(#11)': 144, 'C#:7(b13)': 145, 'D:maj': 146, 'D:min': 147, 'D:aug': 148, 'D:dim': 149, 'D:sus4': 150, 'D:sus2': 151, 'D:7': 152, 'D:maj7': 153, 'D:min7': 154, 'D:minmaj7': 155, 'D:maj6': 156, 'D:min6': 157, 'D:dim7': 158, 'D:hdim7': 159, 'D:maj9': 160, 'D:min9': 161, 'D:9': 162, 'D:min11': 163, 'D:11': 164, 'D:maj13': 165, 'D:min13': 166, 'D:13': 167, 'D:1': 168, 'D:5': 169, 'D:': 170, 'D:7(b9)': 171, 'D:7(#9)': 172, 'D:7(#11)': 173, 'D:7(b13)': 174, 'D#:maj': 175, 'D#:min': 176, 'D#:aug': 177, 'D#:dim': 178, 'D#:sus4': 179, 'D#:sus2': 180, 'D#:7': 181, 'D#:maj7': 182, 'D#:min7': 183, 'D#:minmaj7': 184, 'D#:maj6': 185, 'D#:min6': 186, 'D#:dim7': 187, 'D#:hdim7': 188, 'D#:maj9': 189, 'D#:min9': 190, 'D#:9': 191, 'D#:min11': 192, 'D#:11': 193, 'D#:maj13': 194, 'D#:min13': 195, 'D#:13': 196, 'D#:1': 197, 'D#:5': 198, 'D#:': 199, 'D#:7(b9)': 200, 'D#:7(#9)': 201, 'D#:7(#11)': 202, 'D#:7(b13)': 203, 'E:maj': 204, 'E:min': 205, 'E:aug': 206, 'E:dim': 207, 'E:sus4': 208, 'E:sus2': 209, 'E:7': 210, 'E:maj7': 211, 'E:min7': 212, 'E:minmaj7': 213, 'E:maj6': 214, 'E:min6': 215, 'E:dim7': 216, 'E:hdim7': 217, 'E:maj9': 218, 'E:min9': 219, 'E:9': 220, 'E:min11': 221, 'E:11': 222, 'E:maj13': 223, 'E:min13': 224, 'E:13': 225, 'E:1': 226, 'E:5': 227, 'E:': 228, 'E:7(b9)': 229, 'E:7(#9)': 230, 'E:7(#11)': 231, 'E:7(b13)': 232, 'F:maj': 233, 'F:min': 234, 'F:aug': 235, 'F:dim': 236, 'F:sus4': 237, 'F:sus2': 238, 'F:7': 239, 'F:maj7': 240, 'F:min7': 241, 'F:minmaj7': 242, 'F:maj6': 243, 'F:min6': 244, 'F:dim7': 245, 'F:hdim7': 246, 'F:maj9': 247, 'F:min9': 248, 'F:9': 249, 'F:min11': 250, 'F:11': 251, 'F:maj13': 252, 'F:min13': 253, 'F:13': 254, 'F:1': 255, 'F:5': 256, 'F:': 257, 'F:7(b9)': 258, 'F:7(#9)': 259, 'F:7(#11)': 260, 'F:7(b13)': 261, 'F#:maj': 262, 'F#:min': 263, 'F#:aug': 264, 'F#:dim': 265, 'F#:sus4': 266, 'F#:sus2': 267, 'F#:7': 268, 'F#:maj7': 269, 'F#:min7': 270, 'F#:minmaj7': 271, 'F#:maj6': 272, 'F#:min6': 273, 'F#:dim7': 274, 'F#:hdim7': 275, 'F#:maj9': 276, 'F#:min9': 277, 'F#:9': 278, 'F#:min11': 279, 'F#:11': 280, 'F#:maj13': 281, 'F#:min13': 282, 'F#:13': 283, 'F#:1': 284, 'F#:5': 285, 'F#:': 286, 'F#:7(b9)': 287, 'F#:7(#9)': 288, 'F#:7(#11)': 289, 'F#:7(b13)': 290, 'G:maj': 291, 'G:min': 292, 'G:aug': 293, 'G:dim': 294, 'G:sus4': 295, 'G:sus2': 296, 'G:7': 297, 'G:maj7': 298, 'G:min7': 299, 'G:minmaj7': 300, 'G:maj6': 301, 'G:min6': 302, 'G:dim7': 303, 'G:hdim7': 304, 'G:maj9': 305, 'G:min9': 306, 'G:9': 307, 'G:min11': 308, 'G:11': 309, 'G:maj13': 310, 'G:min13': 311, 'G:13': 312, 'G:1': 313, 'G:5': 314, 'G:': 315, 'G:7(b9)': 316, 'G:7(#9)': 317, 'G:7(#11)': 318, 'G:7(b13)': 319, 'G#:maj': 320, 'G#:min': 321, 'G#:aug': 322, 'G#:dim': 323, 'G#:sus4': 324, 'G#:sus2': 325, 'G#:7': 326, 'G#:maj7': 327, 'G#:min7': 328, 'G#:minmaj7': 329, 'G#:maj6': 330, 'G#:min6': 331, 'G#:dim7': 332, 'G#:hdim7': 333, 'G#:maj9': 334, 'G#:min9': 335, 'G#:9': 336, 'G#:min11': 337, 'G#:11': 338, 'G#:maj13': 339, 'G#:min13': 340, 'G#:13': 341, 'G#:1': 342, 'G#:5': 343, 'G#:': 344, 'G#:7(b9)': 345, 'G#:7(#9)': 346, 'G#:7(#11)': 347, 'G#:7(b13)': 348, 'A:maj': 349, 'A:min': 350, 'A:aug': 351, 'A:dim': 352, 'A:sus4': 353, 'A:sus2': 354, 'A:7': 355, 'A:maj7': 356, 'A:min7': 357, 'A:minmaj7': 358, 'A:maj6': 359, 'A:min6': 360, 'A:dim7': 361, 'A:hdim7': 362, 'A:maj9': 363, 'A:min9': 364, 'A:9': 365, 'A:min11': 366, 'A:11': 367, 'A:maj13': 368, 'A:min13': 369, 'A:13': 370, 'A:1': 371, 'A:5': 372, 'A:': 373, 'A:7(b9)': 374, 'A:7(#9)': 375, 'A:7(#11)': 376, 'A:7(b13)': 377, 'A#:maj': 378, 'A#:min': 379, 'A#:aug': 380, 'A#:dim': 381, 'A#:sus4': 382, 'A#:sus2': 383, 'A#:7': 384, 'A#:maj7': 385, 'A#:min7': 386, 'A#:minmaj7': 387, 'A#:maj6': 388, 'A#:min6': 389, 'A#:dim7': 390, 'A#:hdim7': 391, 'A#:maj9': 392, 'A#:min9': 393, 'A#:9': 394, 'A#:min11': 395, 'A#:11': 396, 'A#:maj13': 397, 'A#:min13': 398, 'A#:13': 399, 'A#:1': 400, 'A#:5': 401, 'A#:': 402, 'A#:7(b9)': 403, 'A#:7(#9)': 404, 'A#:7(#11)': 405, 'A#:7(b13)': 406, 'B:maj': 407, 'B:min': 408, 'B:aug': 409, 'B:dim': 410, 'B:sus4': 411, 'B:sus2': 412, 'B:7': 413, 'B:maj7': 414, 'B:min7': 415, 'B:minmaj7': 416, 'B:maj6': 417, 'B:min6': 418, 'B:dim7': 419, 'B:hdim7': 420, 'B:maj9': 421, 'B:min9': 422, 'B:9': 423, 'B:min11': 424, 'B:11': 425, 'B:maj13': 426, 'B:min13': 427, 'B:13': 428, 'B:1': 429, 'B:5': 430, 'B:': 431, 'B:7(b9)': 432, 'B:7(#9)': 433, 'B:7(#11)': 434, 'B:7(b13)': 435}\n"
     ]
    }
   ],
   "source": [
    "chordSymbolTokenizer.save_pretrained('saved_tokenizers/ChordSymbolTokenizer')\n",
    "chordSymbolTokenizer.from_pretrained('saved_tokenizers/ChordSymbolTokenizer')\n",
    "print(chordSymbolTokenizer.vocab)"
   ]
  },
  {
   "cell_type": "code",
   "execution_count": 6,
   "metadata": {},
   "outputs": [
    {
     "name": "stdout",
     "output_type": "stream",
     "text": [
      "RootTypeTokenizer\n",
      "len(rootTypeTokenizer.vocab):  149\n"
     ]
    },
    {
     "name": "stderr",
     "output_type": "stream",
     "text": [
      "Processing Files: 100%|██████████| 650/650 [00:48<00:00, 13.53it/s]"
     ]
    },
    {
     "name": "stdout",
     "output_type": "stream",
     "text": [
      "example sentence length:  121\n",
      "['<h>', '<bar>', 'position_0x00', 'A', 'min7', '<bar>', 'position_0x00', 'D', '7', '<bar>', 'position_0x00', 'A', 'min7', '<bar>', 'position_0x00', 'D', '7', '<bar>', 'position_0x00', 'G', 'maj7', '<bar>', 'position_0x00', 'C', '7(#11)', '<bar>', 'position_0x00', 'B', 'min7', '<bar>', 'position_0x00', 'E', 'min7', '<bar>', 'position_0x00', 'B', 'maj7', 'position_2x00', 'F#', '7', '<bar>', 'position_0x00', 'B', 'maj6', '<bar>', 'position_0x00', 'D', 'min7', '<bar>', 'position_0x00', 'G', '7', '<bar>', 'position_0x00', 'D', 'min7', '<bar>', 'position_0x00', 'G', '7', '<bar>', 'position_0x00', 'C', 'maj7', '<bar>', 'position_0x00', 'F', '7', '<bar>', 'position_0x00', 'E', 'min7', 'position_2x00', 'A', '7', '<bar>', 'position_0x00', 'A', 'min7', 'position_2x00', 'D', '7', '<bar>', 'position_0x00', 'A', 'min7', '<bar>', 'position_0x00', 'D', '7', '<bar>', 'position_0x00', 'G', 'maj7', 'position_2x00', 'F', '7', '<bar>', 'position_0x00', 'E', '7(b9)', '<bar>', 'position_0x00', 'A', 'min7', '<bar>', 'position_0x00', 'F', '7', '<bar>', 'position_0x00', 'A', 'min7', 'position_2x00', 'D', '7', '<bar>', 'position_0x00', 'G', 'maj6', '</s>']\n",
      "[7, 6, 8, 117, 128, 6, 8, 110, 126, 6, 8, 117, 128, 6, 8, 110, 126, 6, 8, 115, 127, 6, 8, 108, 147, 6, 8, 119, 128, 6, 8, 112, 128, 6, 8, 119, 127, 24, 114, 126, 6, 8, 119, 130, 6, 8, 110, 128, 6, 8, 115, 126, 6, 8, 110, 128, 6, 8, 115, 126, 6, 8, 108, 127, 6, 8, 113, 126, 6, 8, 112, 128, 24, 117, 126, 6, 8, 117, 128, 24, 110, 126, 6, 8, 117, 128, 6, 8, 110, 126, 6, 8, 115, 127, 24, 113, 126, 6, 8, 112, 145, 6, 8, 117, 128, 6, 8, 113, 126, 6, 8, 117, 128, 24, 110, 126, 6, 8, 115, 130, 3]\n",
      "vocab_size:  149\n",
      "mean len:  143.68769230769232\n",
      "std len:  47.76576826296714\n",
      "max len:  447\n",
      "mean cr:  0.10243200892097049\n",
      "std cr:  0.022254121274397486\n"
     ]
    },
    {
     "name": "stderr",
     "output_type": "stream",
     "text": [
      "\n"
     ]
    }
   ],
   "source": [
    "print('RootTypeTokenizer')\n",
    "rootTypeTokenizer = RootTypeTokenizer()\n",
    "print('len(rootTypeTokenizer.vocab): ', len(rootTypeTokenizer.vocab))\n",
    "initialize_stats('RootTypeTokenizer', rootTypeTokenizer)\n",
    "toks_rt = rootTypeTokenizer(data_files)\n",
    "print('example sentence length: ', len(toks_rt['tokens'][0]))\n",
    "print(toks_rt['tokens'][0])\n",
    "print(toks_rt['ids'][0])\n",
    "update_stats('RootTypeTokenizer', toks_rt)\n",
    "print_stats('RootTypeTokenizer')"
   ]
  },
  {
   "cell_type": "code",
   "execution_count": 7,
   "metadata": {},
   "outputs": [
    {
     "name": "stdout",
     "output_type": "stream",
     "text": [
      "{'<unk>': 0, '<pad>': 1, '<s>': 2, '</s>': 3, '<emp>': 4, '<mask>': 5, '<bar>': 6, '<h>': 7, 'position_0x00': 8, 'position_0x16': 9, 'position_0x25': 10, 'position_0x33': 11, 'position_0x50': 12, 'position_0x66': 13, 'position_0x75': 14, 'position_0x83': 15, 'position_1x00': 16, 'position_1x16': 17, 'position_1x25': 18, 'position_1x33': 19, 'position_1x50': 20, 'position_1x66': 21, 'position_1x75': 22, 'position_1x83': 23, 'position_2x00': 24, 'position_2x16': 25, 'position_2x25': 26, 'position_2x33': 27, 'position_2x50': 28, 'position_2x66': 29, 'position_2x75': 30, 'position_2x83': 31, 'position_3x00': 32, 'position_3x16': 33, 'position_3x25': 34, 'position_3x33': 35, 'position_3x50': 36, 'position_3x66': 37, 'position_3x75': 38, 'position_3x83': 39, 'position_4x00': 40, 'position_4x16': 41, 'position_4x25': 42, 'position_4x33': 43, 'position_4x50': 44, 'position_4x66': 45, 'position_4x75': 46, 'position_4x83': 47, 'position_5x00': 48, 'position_5x16': 49, 'position_5x25': 50, 'position_5x33': 51, 'position_5x50': 52, 'position_5x66': 53, 'position_5x75': 54, 'position_5x83': 55, 'position_6x00': 56, 'position_6x16': 57, 'position_6x25': 58, 'position_6x33': 59, 'position_6x50': 60, 'position_6x66': 61, 'position_6x75': 62, 'position_6x83': 63, 'position_7x00': 64, 'position_7x16': 65, 'position_7x25': 66, 'position_7x33': 67, 'position_7x50': 68, 'position_7x66': 69, 'position_7x75': 70, 'position_7x83': 71, 'position_8x00': 72, 'position_8x16': 73, 'position_8x25': 74, 'position_8x33': 75, 'position_8x50': 76, 'position_8x66': 77, 'position_8x75': 78, 'position_8x83': 79, 'position_9x00': 80, 'position_9x16': 81, 'position_9x25': 82, 'position_9x33': 83, 'position_9x50': 84, 'position_9x66': 85, 'position_9x75': 86, 'position_9x83': 87, 'ts_1x4': 88, 'ts_1x8': 89, 'ts_2x4': 90, 'ts_3x4': 91, 'ts_3x8': 92, 'ts_4x4': 93, 'ts_5x4': 94, 'ts_5x8': 95, 'ts_6x4': 96, 'ts_7x4': 97, 'ts_7x8': 98, 'ts_8x4': 99, 'ts_9x4': 100, 'ts_9x8': 101, 'ts_10x4': 102, 'ts_11x8': 103, 'ts_13x8': 104, 'ts_15x8': 105, 'ts_17x8': 106, 'ts_19x8': 107, 'C': 108, 'C#': 109, 'D': 110, 'D#': 111, 'E': 112, 'F': 113, 'F#': 114, 'G': 115, 'G#': 116, 'A': 117, 'A#': 118, 'B': 119, 'maj': 120, 'min': 121, 'aug': 122, 'dim': 123, 'sus4': 124, 'sus2': 125, '7': 126, 'maj7': 127, 'min7': 128, 'minmaj7': 129, 'maj6': 130, 'min6': 131, 'dim7': 132, 'hdim7': 133, 'maj9': 134, 'min9': 135, '9': 136, 'min11': 137, '11': 138, 'maj13': 139, 'min13': 140, '13': 141, '1': 142, '5': 143, '': 144, '7(b9)': 145, '7(#9)': 146, '7(#11)': 147, '7(b13)': 148}\n"
     ]
    }
   ],
   "source": [
    "rootTypeTokenizer.save_pretrained('saved_tokenizers/RootTypeTokenizer')\n",
    "rootTypeTokenizer.from_pretrained('saved_tokenizers/RootTypeTokenizer')\n",
    "print(rootTypeTokenizer.vocab)"
   ]
  },
  {
   "cell_type": "code",
   "execution_count": 8,
   "metadata": {},
   "outputs": [
    {
     "name": "stdout",
     "output_type": "stream",
     "text": [
      "PitchClassTokenizer\n",
      "len(pitchClassTokenizer.vocab):  120\n"
     ]
    },
    {
     "name": "stderr",
     "output_type": "stream",
     "text": [
      "Processing Files: 100%|██████████| 650/650 [00:49<00:00, 13.24it/s]"
     ]
    },
    {
     "name": "stdout",
     "output_type": "stream",
     "text": [
      "example sentence length:  185\n",
      "['<h>', '<bar>', 'position_0x00', 'chord_pc_9', 'chord_pc_0', 'chord_pc_4', 'chord_pc_7', '<bar>', 'position_0x00', 'chord_pc_2', 'chord_pc_6', 'chord_pc_9', 'chord_pc_0', '<bar>', 'position_0x00', 'chord_pc_9', 'chord_pc_0', 'chord_pc_4', 'chord_pc_7', '<bar>', 'position_0x00', 'chord_pc_2', 'chord_pc_6', 'chord_pc_9', 'chord_pc_0', '<bar>', 'position_0x00', 'chord_pc_7', 'chord_pc_11', 'chord_pc_2', 'chord_pc_6', '<bar>', 'position_0x00', 'chord_pc_0', 'chord_pc_4', 'chord_pc_6', 'chord_pc_7', 'chord_pc_10', '<bar>', 'position_0x00', 'chord_pc_11', 'chord_pc_2', 'chord_pc_6', 'chord_pc_9', '<bar>', 'position_0x00', 'chord_pc_4', 'chord_pc_7', 'chord_pc_11', 'chord_pc_2', '<bar>', 'position_0x00', 'chord_pc_11', 'chord_pc_3', 'chord_pc_6', 'chord_pc_10', 'position_2x00', 'chord_pc_6', 'chord_pc_10', 'chord_pc_1', 'chord_pc_4', '<bar>', 'position_0x00', 'chord_pc_11', 'chord_pc_3', 'chord_pc_6', 'chord_pc_8', '<bar>', 'position_0x00', 'chord_pc_2', 'chord_pc_5', 'chord_pc_9', 'chord_pc_0', '<bar>', 'position_0x00', 'chord_pc_7', 'chord_pc_11', 'chord_pc_2', 'chord_pc_5', '<bar>', 'position_0x00', 'chord_pc_2', 'chord_pc_5', 'chord_pc_9', 'chord_pc_0', '<bar>', 'position_0x00', 'chord_pc_7', 'chord_pc_11', 'chord_pc_2', 'chord_pc_5', '<bar>', 'position_0x00', 'chord_pc_0', 'chord_pc_4', 'chord_pc_7', 'chord_pc_11', '<bar>', 'position_0x00', 'chord_pc_5', 'chord_pc_9', 'chord_pc_0', 'chord_pc_3', '<bar>', 'position_0x00', 'chord_pc_4', 'chord_pc_7', 'chord_pc_11', 'chord_pc_2', 'position_2x00', 'chord_pc_9', 'chord_pc_1', 'chord_pc_4', 'chord_pc_7', '<bar>', 'position_0x00', 'chord_pc_9', 'chord_pc_0', 'chord_pc_4', 'chord_pc_7', 'position_2x00', 'chord_pc_2', 'chord_pc_6', 'chord_pc_9', 'chord_pc_0', '<bar>', 'position_0x00', 'chord_pc_9', 'chord_pc_0', 'chord_pc_4', 'chord_pc_7', '<bar>', 'position_0x00', 'chord_pc_2', 'chord_pc_6', 'chord_pc_9', 'chord_pc_0', '<bar>', 'position_0x00', 'chord_pc_7', 'chord_pc_11', 'chord_pc_2', 'chord_pc_6', 'position_2x00', 'chord_pc_5', 'chord_pc_9', 'chord_pc_0', 'chord_pc_3', '<bar>', 'position_0x00', 'chord_pc_4', 'chord_pc_5', 'chord_pc_8', 'chord_pc_11', 'chord_pc_2', '<bar>', 'position_0x00', 'chord_pc_9', 'chord_pc_0', 'chord_pc_4', 'chord_pc_7', '<bar>', 'position_0x00', 'chord_pc_5', 'chord_pc_9', 'chord_pc_0', 'chord_pc_3', '<bar>', 'position_0x00', 'chord_pc_9', 'chord_pc_0', 'chord_pc_4', 'chord_pc_7', 'position_2x00', 'chord_pc_2', 'chord_pc_6', 'chord_pc_9', 'chord_pc_0', '<bar>', 'position_0x00', 'chord_pc_7', 'chord_pc_11', 'chord_pc_2', 'chord_pc_4', '</s>']\n",
      "[7, 6, 8, 117, 108, 112, 115, 6, 8, 110, 114, 117, 108, 6, 8, 117, 108, 112, 115, 6, 8, 110, 114, 117, 108, 6, 8, 115, 119, 110, 114, 6, 8, 108, 112, 114, 115, 118, 6, 8, 119, 110, 114, 117, 6, 8, 112, 115, 119, 110, 6, 8, 119, 111, 114, 118, 24, 114, 118, 109, 112, 6, 8, 119, 111, 114, 116, 6, 8, 110, 113, 117, 108, 6, 8, 115, 119, 110, 113, 6, 8, 110, 113, 117, 108, 6, 8, 115, 119, 110, 113, 6, 8, 108, 112, 115, 119, 6, 8, 113, 117, 108, 111, 6, 8, 112, 115, 119, 110, 24, 117, 109, 112, 115, 6, 8, 117, 108, 112, 115, 24, 110, 114, 117, 108, 6, 8, 117, 108, 112, 115, 6, 8, 110, 114, 117, 108, 6, 8, 115, 119, 110, 114, 24, 113, 117, 108, 111, 6, 8, 112, 113, 116, 119, 110, 6, 8, 117, 108, 112, 115, 6, 8, 113, 117, 108, 111, 6, 8, 117, 108, 112, 115, 24, 110, 114, 117, 108, 6, 8, 115, 119, 110, 112, 3]\n",
      "vocab_size:  120\n",
      "mean len:  223.54461538461538\n",
      "std len:  76.19775088699592\n",
      "max len:  712\n",
      "mean cr:  0.08599345269541217\n",
      "std cr:  0.01936698091183769\n"
     ]
    },
    {
     "name": "stderr",
     "output_type": "stream",
     "text": [
      "\n"
     ]
    }
   ],
   "source": [
    "print('PitchClassTokenizer')\n",
    "pitchClassTokenizer = PitchClassTokenizer()\n",
    "print('len(pitchClassTokenizer.vocab): ', len(pitchClassTokenizer.vocab))\n",
    "initialize_stats('PitchClassTokenizer', pitchClassTokenizer)\n",
    "toks_pc = pitchClassTokenizer(data_files)\n",
    "print('example sentence length: ', len(toks_pc['tokens'][0]))\n",
    "print(toks_pc['tokens'][0])\n",
    "print(toks_pc['ids'][0])\n",
    "update_stats('PitchClassTokenizer', toks_pc)\n",
    "print_stats('PitchClassTokenizer')"
   ]
  },
  {
   "cell_type": "code",
   "execution_count": 9,
   "metadata": {},
   "outputs": [
    {
     "name": "stdout",
     "output_type": "stream",
     "text": [
      "{'<unk>': 0, '<pad>': 1, '<s>': 2, '</s>': 3, '<emp>': 4, '<mask>': 5, '<bar>': 6, '<h>': 7, 'position_0x00': 8, 'position_0x16': 9, 'position_0x25': 10, 'position_0x33': 11, 'position_0x50': 12, 'position_0x66': 13, 'position_0x75': 14, 'position_0x83': 15, 'position_1x00': 16, 'position_1x16': 17, 'position_1x25': 18, 'position_1x33': 19, 'position_1x50': 20, 'position_1x66': 21, 'position_1x75': 22, 'position_1x83': 23, 'position_2x00': 24, 'position_2x16': 25, 'position_2x25': 26, 'position_2x33': 27, 'position_2x50': 28, 'position_2x66': 29, 'position_2x75': 30, 'position_2x83': 31, 'position_3x00': 32, 'position_3x16': 33, 'position_3x25': 34, 'position_3x33': 35, 'position_3x50': 36, 'position_3x66': 37, 'position_3x75': 38, 'position_3x83': 39, 'position_4x00': 40, 'position_4x16': 41, 'position_4x25': 42, 'position_4x33': 43, 'position_4x50': 44, 'position_4x66': 45, 'position_4x75': 46, 'position_4x83': 47, 'position_5x00': 48, 'position_5x16': 49, 'position_5x25': 50, 'position_5x33': 51, 'position_5x50': 52, 'position_5x66': 53, 'position_5x75': 54, 'position_5x83': 55, 'position_6x00': 56, 'position_6x16': 57, 'position_6x25': 58, 'position_6x33': 59, 'position_6x50': 60, 'position_6x66': 61, 'position_6x75': 62, 'position_6x83': 63, 'position_7x00': 64, 'position_7x16': 65, 'position_7x25': 66, 'position_7x33': 67, 'position_7x50': 68, 'position_7x66': 69, 'position_7x75': 70, 'position_7x83': 71, 'position_8x00': 72, 'position_8x16': 73, 'position_8x25': 74, 'position_8x33': 75, 'position_8x50': 76, 'position_8x66': 77, 'position_8x75': 78, 'position_8x83': 79, 'position_9x00': 80, 'position_9x16': 81, 'position_9x25': 82, 'position_9x33': 83, 'position_9x50': 84, 'position_9x66': 85, 'position_9x75': 86, 'position_9x83': 87, 'ts_1x4': 88, 'ts_1x8': 89, 'ts_2x4': 90, 'ts_3x4': 91, 'ts_3x8': 92, 'ts_4x4': 93, 'ts_5x4': 94, 'ts_5x8': 95, 'ts_6x4': 96, 'ts_7x4': 97, 'ts_7x8': 98, 'ts_8x4': 99, 'ts_9x4': 100, 'ts_9x8': 101, 'ts_10x4': 102, 'ts_11x8': 103, 'ts_13x8': 104, 'ts_15x8': 105, 'ts_17x8': 106, 'ts_19x8': 107, 'chord_pc_0': 108, 'chord_pc_1': 109, 'chord_pc_2': 110, 'chord_pc_3': 111, 'chord_pc_4': 112, 'chord_pc_5': 113, 'chord_pc_6': 114, 'chord_pc_7': 115, 'chord_pc_8': 116, 'chord_pc_9': 117, 'chord_pc_10': 118, 'chord_pc_11': 119}\n"
     ]
    }
   ],
   "source": [
    "pitchClassTokenizer.save_pretrained('saved_tokenizers/PitchClassTokenizer')\n",
    "pitchClassTokenizer.from_pretrained('saved_tokenizers/PitchClassTokenizer')\n",
    "print(pitchClassTokenizer.vocab)"
   ]
  },
  {
   "cell_type": "code",
   "execution_count": 10,
   "metadata": {},
   "outputs": [
    {
     "name": "stdout",
     "output_type": "stream",
     "text": [
      "RootPCTokenizer\n",
      "len(rootPCTokenizer.vocab):  132\n"
     ]
    },
    {
     "name": "stderr",
     "output_type": "stream",
     "text": [
      "Processing Files: 100%|██████████| 650/650 [00:49<00:00, 13.07it/s]"
     ]
    },
    {
     "name": "stdout",
     "output_type": "stream",
     "text": [
      "example sentence length:  185\n",
      "['<h>', '<bar>', 'position_0x00', 'chord_root_9', 'chord_pc_0', 'chord_pc_4', 'chord_pc_7', '<bar>', 'position_0x00', 'chord_root_2', 'chord_pc_6', 'chord_pc_9', 'chord_pc_0', '<bar>', 'position_0x00', 'chord_root_9', 'chord_pc_0', 'chord_pc_4', 'chord_pc_7', '<bar>', 'position_0x00', 'chord_root_2', 'chord_pc_6', 'chord_pc_9', 'chord_pc_0', '<bar>', 'position_0x00', 'chord_root_7', 'chord_pc_11', 'chord_pc_2', 'chord_pc_6', '<bar>', 'position_0x00', 'chord_root_0', 'chord_pc_4', 'chord_pc_6', 'chord_pc_7', 'chord_pc_10', '<bar>', 'position_0x00', 'chord_root_11', 'chord_pc_2', 'chord_pc_6', 'chord_pc_9', '<bar>', 'position_0x00', 'chord_root_4', 'chord_pc_7', 'chord_pc_11', 'chord_pc_2', '<bar>', 'position_0x00', 'chord_root_11', 'chord_pc_3', 'chord_pc_6', 'chord_pc_10', 'position_2x00', 'chord_root_6', 'chord_pc_10', 'chord_pc_1', 'chord_pc_4', '<bar>', 'position_0x00', 'chord_root_11', 'chord_pc_3', 'chord_pc_6', 'chord_pc_8', '<bar>', 'position_0x00', 'chord_root_2', 'chord_pc_5', 'chord_pc_9', 'chord_pc_0', '<bar>', 'position_0x00', 'chord_root_7', 'chord_pc_11', 'chord_pc_2', 'chord_pc_5', '<bar>', 'position_0x00', 'chord_root_2', 'chord_pc_5', 'chord_pc_9', 'chord_pc_0', '<bar>', 'position_0x00', 'chord_root_7', 'chord_pc_11', 'chord_pc_2', 'chord_pc_5', '<bar>', 'position_0x00', 'chord_root_0', 'chord_pc_4', 'chord_pc_7', 'chord_pc_11', '<bar>', 'position_0x00', 'chord_root_5', 'chord_pc_9', 'chord_pc_0', 'chord_pc_3', '<bar>', 'position_0x00', 'chord_root_4', 'chord_pc_7', 'chord_pc_11', 'chord_pc_2', 'position_2x00', 'chord_root_9', 'chord_pc_1', 'chord_pc_4', 'chord_pc_7', '<bar>', 'position_0x00', 'chord_root_9', 'chord_pc_0', 'chord_pc_4', 'chord_pc_7', 'position_2x00', 'chord_root_2', 'chord_pc_6', 'chord_pc_9', 'chord_pc_0', '<bar>', 'position_0x00', 'chord_root_9', 'chord_pc_0', 'chord_pc_4', 'chord_pc_7', '<bar>', 'position_0x00', 'chord_root_2', 'chord_pc_6', 'chord_pc_9', 'chord_pc_0', '<bar>', 'position_0x00', 'chord_root_7', 'chord_pc_11', 'chord_pc_2', 'chord_pc_6', 'position_2x00', 'chord_root_5', 'chord_pc_9', 'chord_pc_0', 'chord_pc_3', '<bar>', 'position_0x00', 'chord_root_4', 'chord_pc_5', 'chord_pc_8', 'chord_pc_11', 'chord_pc_2', '<bar>', 'position_0x00', 'chord_root_9', 'chord_pc_0', 'chord_pc_4', 'chord_pc_7', '<bar>', 'position_0x00', 'chord_root_5', 'chord_pc_9', 'chord_pc_0', 'chord_pc_3', '<bar>', 'position_0x00', 'chord_root_9', 'chord_pc_0', 'chord_pc_4', 'chord_pc_7', 'position_2x00', 'chord_root_2', 'chord_pc_6', 'chord_pc_9', 'chord_pc_0', '<bar>', 'position_0x00', 'chord_root_7', 'chord_pc_11', 'chord_pc_2', 'chord_pc_4', '</s>']\n",
      "[7, 6, 8, 117, 120, 124, 127, 6, 8, 110, 126, 129, 120, 6, 8, 117, 120, 124, 127, 6, 8, 110, 126, 129, 120, 6, 8, 115, 131, 122, 126, 6, 8, 108, 124, 126, 127, 130, 6, 8, 119, 122, 126, 129, 6, 8, 112, 127, 131, 122, 6, 8, 119, 123, 126, 130, 24, 114, 130, 121, 124, 6, 8, 119, 123, 126, 128, 6, 8, 110, 125, 129, 120, 6, 8, 115, 131, 122, 125, 6, 8, 110, 125, 129, 120, 6, 8, 115, 131, 122, 125, 6, 8, 108, 124, 127, 131, 6, 8, 113, 129, 120, 123, 6, 8, 112, 127, 131, 122, 24, 117, 121, 124, 127, 6, 8, 117, 120, 124, 127, 24, 110, 126, 129, 120, 6, 8, 117, 120, 124, 127, 6, 8, 110, 126, 129, 120, 6, 8, 115, 131, 122, 126, 24, 113, 129, 120, 123, 6, 8, 112, 125, 128, 131, 122, 6, 8, 117, 120, 124, 127, 6, 8, 113, 129, 120, 123, 6, 8, 117, 120, 124, 127, 24, 110, 126, 129, 120, 6, 8, 115, 131, 122, 124, 3]\n",
      "vocab_size:  132\n",
      "mean len:  223.54461538461538\n",
      "std len:  76.19775088699592\n",
      "max len:  712\n",
      "mean cr:  0.09333638875058752\n",
      "std cr:  0.021394706301361144\n"
     ]
    },
    {
     "name": "stderr",
     "output_type": "stream",
     "text": [
      "\n"
     ]
    }
   ],
   "source": [
    "print('RootPCTokenizer')\n",
    "rootPCTokenizer = RootPCTokenizer()\n",
    "print('len(rootPCTokenizer.vocab): ', len(rootPCTokenizer.vocab))\n",
    "initialize_stats('RootPCTokenizer', rootPCTokenizer)\n",
    "toks_rpc = rootPCTokenizer(data_files)\n",
    "print('example sentence length: ', len(toks_rpc['tokens'][0]))\n",
    "print(toks_rpc['tokens'][0])\n",
    "print(toks_rpc['ids'][0])\n",
    "update_stats('RootPCTokenizer', toks_rpc)\n",
    "print_stats('RootPCTokenizer')"
   ]
  },
  {
   "cell_type": "code",
   "execution_count": 11,
   "metadata": {},
   "outputs": [
    {
     "name": "stdout",
     "output_type": "stream",
     "text": [
      "{'<unk>': 0, '<pad>': 1, '<s>': 2, '</s>': 3, '<emp>': 4, '<mask>': 5, '<bar>': 6, '<h>': 7, 'position_0x00': 8, 'position_0x16': 9, 'position_0x25': 10, 'position_0x33': 11, 'position_0x50': 12, 'position_0x66': 13, 'position_0x75': 14, 'position_0x83': 15, 'position_1x00': 16, 'position_1x16': 17, 'position_1x25': 18, 'position_1x33': 19, 'position_1x50': 20, 'position_1x66': 21, 'position_1x75': 22, 'position_1x83': 23, 'position_2x00': 24, 'position_2x16': 25, 'position_2x25': 26, 'position_2x33': 27, 'position_2x50': 28, 'position_2x66': 29, 'position_2x75': 30, 'position_2x83': 31, 'position_3x00': 32, 'position_3x16': 33, 'position_3x25': 34, 'position_3x33': 35, 'position_3x50': 36, 'position_3x66': 37, 'position_3x75': 38, 'position_3x83': 39, 'position_4x00': 40, 'position_4x16': 41, 'position_4x25': 42, 'position_4x33': 43, 'position_4x50': 44, 'position_4x66': 45, 'position_4x75': 46, 'position_4x83': 47, 'position_5x00': 48, 'position_5x16': 49, 'position_5x25': 50, 'position_5x33': 51, 'position_5x50': 52, 'position_5x66': 53, 'position_5x75': 54, 'position_5x83': 55, 'position_6x00': 56, 'position_6x16': 57, 'position_6x25': 58, 'position_6x33': 59, 'position_6x50': 60, 'position_6x66': 61, 'position_6x75': 62, 'position_6x83': 63, 'position_7x00': 64, 'position_7x16': 65, 'position_7x25': 66, 'position_7x33': 67, 'position_7x50': 68, 'position_7x66': 69, 'position_7x75': 70, 'position_7x83': 71, 'position_8x00': 72, 'position_8x16': 73, 'position_8x25': 74, 'position_8x33': 75, 'position_8x50': 76, 'position_8x66': 77, 'position_8x75': 78, 'position_8x83': 79, 'position_9x00': 80, 'position_9x16': 81, 'position_9x25': 82, 'position_9x33': 83, 'position_9x50': 84, 'position_9x66': 85, 'position_9x75': 86, 'position_9x83': 87, 'ts_1x4': 88, 'ts_1x8': 89, 'ts_2x4': 90, 'ts_3x4': 91, 'ts_3x8': 92, 'ts_4x4': 93, 'ts_5x4': 94, 'ts_5x8': 95, 'ts_6x4': 96, 'ts_7x4': 97, 'ts_7x8': 98, 'ts_8x4': 99, 'ts_9x4': 100, 'ts_9x8': 101, 'ts_10x4': 102, 'ts_11x8': 103, 'ts_13x8': 104, 'ts_15x8': 105, 'ts_17x8': 106, 'ts_19x8': 107, 'chord_root_0': 108, 'chord_root_1': 109, 'chord_root_2': 110, 'chord_root_3': 111, 'chord_root_4': 112, 'chord_root_5': 113, 'chord_root_6': 114, 'chord_root_7': 115, 'chord_root_8': 116, 'chord_root_9': 117, 'chord_root_10': 118, 'chord_root_11': 119, 'chord_pc_0': 120, 'chord_pc_1': 121, 'chord_pc_2': 122, 'chord_pc_3': 123, 'chord_pc_4': 124, 'chord_pc_5': 125, 'chord_pc_6': 126, 'chord_pc_7': 127, 'chord_pc_8': 128, 'chord_pc_9': 129, 'chord_pc_10': 130, 'chord_pc_11': 131}\n"
     ]
    }
   ],
   "source": [
    "rootPCTokenizer.save_pretrained('saved_tokenizers/RootPCTokenizer')\n",
    "rootPCTokenizer.from_pretrained('saved_tokenizers/RootPCTokenizer')\n",
    "print(rootPCTokenizer.vocab)"
   ]
  },
  {
   "cell_type": "code",
   "execution_count": 12,
   "metadata": {},
   "outputs": [
    {
     "name": "stdout",
     "output_type": "stream",
     "text": [
      "GCTRootPCTokenizer\n",
      "len(gctRootPCTokenizer.vocab):  132\n"
     ]
    },
    {
     "name": "stderr",
     "output_type": "stream",
     "text": [
      "Processing Files: 100%|██████████| 650/650 [01:04<00:00, 10.13it/s]"
     ]
    },
    {
     "name": "stdout",
     "output_type": "stream",
     "text": [
      "example sentence length:  185\n",
      "['<h>', '<bar>', 'position_0x00', 'chord_root_0', 'chord_pc_4', 'chord_pc_7', 'chord_pc_9', '<bar>', 'position_0x00', 'chord_root_2', 'chord_pc_6', 'chord_pc_9', 'chord_pc_0', '<bar>', 'position_0x00', 'chord_root_0', 'chord_pc_4', 'chord_pc_7', 'chord_pc_9', '<bar>', 'position_0x00', 'chord_root_2', 'chord_pc_6', 'chord_pc_9', 'chord_pc_0', '<bar>', 'position_0x00', 'chord_root_7', 'chord_pc_11', 'chord_pc_2', 'chord_pc_6', '<bar>', 'position_0x00', 'chord_root_0', 'chord_pc_4', 'chord_pc_7', 'chord_pc_10', 'chord_pc_6', '<bar>', 'position_0x00', 'chord_root_2', 'chord_pc_6', 'chord_pc_9', 'chord_pc_11', '<bar>', 'position_0x00', 'chord_root_7', 'chord_pc_11', 'chord_pc_2', 'chord_pc_4', '<bar>', 'position_0x00', 'chord_root_11', 'chord_pc_3', 'chord_pc_6', 'chord_pc_10', 'position_2x00', 'chord_root_6', 'chord_pc_10', 'chord_pc_1', 'chord_pc_4', '<bar>', 'position_0x00', 'chord_root_8', 'chord_pc_11', 'chord_pc_3', 'chord_pc_6', '<bar>', 'position_0x00', 'chord_root_5', 'chord_pc_9', 'chord_pc_0', 'chord_pc_2', '<bar>', 'position_0x00', 'chord_root_7', 'chord_pc_11', 'chord_pc_2', 'chord_pc_5', '<bar>', 'position_0x00', 'chord_root_5', 'chord_pc_9', 'chord_pc_0', 'chord_pc_2', '<bar>', 'position_0x00', 'chord_root_7', 'chord_pc_11', 'chord_pc_2', 'chord_pc_5', '<bar>', 'position_0x00', 'chord_root_4', 'chord_pc_7', 'chord_pc_11', 'chord_pc_0', '<bar>', 'position_0x00', 'chord_root_5', 'chord_pc_9', 'chord_pc_0', 'chord_pc_3', '<bar>', 'position_0x00', 'chord_root_7', 'chord_pc_11', 'chord_pc_2', 'chord_pc_4', 'position_2x00', 'chord_root_9', 'chord_pc_1', 'chord_pc_4', 'chord_pc_7', '<bar>', 'position_0x00', 'chord_root_0', 'chord_pc_4', 'chord_pc_7', 'chord_pc_9', 'position_2x00', 'chord_root_2', 'chord_pc_6', 'chord_pc_9', 'chord_pc_0', '<bar>', 'position_0x00', 'chord_root_0', 'chord_pc_4', 'chord_pc_7', 'chord_pc_9', '<bar>', 'position_0x00', 'chord_root_2', 'chord_pc_6', 'chord_pc_9', 'chord_pc_0', '<bar>', 'position_0x00', 'chord_root_7', 'chord_pc_11', 'chord_pc_2', 'chord_pc_6', 'position_2x00', 'chord_root_5', 'chord_pc_9', 'chord_pc_0', 'chord_pc_3', '<bar>', 'position_0x00', 'chord_root_4', 'chord_pc_8', 'chord_pc_11', 'chord_pc_2', 'chord_pc_5', '<bar>', 'position_0x00', 'chord_root_0', 'chord_pc_4', 'chord_pc_7', 'chord_pc_9', '<bar>', 'position_0x00', 'chord_root_5', 'chord_pc_9', 'chord_pc_0', 'chord_pc_3', '<bar>', 'position_0x00', 'chord_root_0', 'chord_pc_4', 'chord_pc_7', 'chord_pc_9', 'position_2x00', 'chord_root_2', 'chord_pc_6', 'chord_pc_9', 'chord_pc_0', '<bar>', 'position_0x00', 'chord_root_7', 'chord_pc_11', 'chord_pc_2', 'chord_pc_4', '</s>']\n",
      "[7, 6, 8, 108, 124, 127, 129, 6, 8, 110, 126, 129, 120, 6, 8, 108, 124, 127, 129, 6, 8, 110, 126, 129, 120, 6, 8, 115, 131, 122, 126, 6, 8, 108, 124, 127, 130, 126, 6, 8, 110, 126, 129, 131, 6, 8, 115, 131, 122, 124, 6, 8, 119, 123, 126, 130, 24, 114, 130, 121, 124, 6, 8, 116, 131, 123, 126, 6, 8, 113, 129, 120, 122, 6, 8, 115, 131, 122, 125, 6, 8, 113, 129, 120, 122, 6, 8, 115, 131, 122, 125, 6, 8, 112, 127, 131, 120, 6, 8, 113, 129, 120, 123, 6, 8, 115, 131, 122, 124, 24, 117, 121, 124, 127, 6, 8, 108, 124, 127, 129, 24, 110, 126, 129, 120, 6, 8, 108, 124, 127, 129, 6, 8, 110, 126, 129, 120, 6, 8, 115, 131, 122, 126, 24, 113, 129, 120, 123, 6, 8, 112, 128, 131, 122, 125, 6, 8, 108, 124, 127, 129, 6, 8, 113, 129, 120, 123, 6, 8, 108, 124, 127, 129, 24, 110, 126, 129, 120, 6, 8, 115, 131, 122, 124, 3]\n",
      "vocab_size:  132\n",
      "mean len:  223.54461538461538\n",
      "std len:  76.19775088699592\n",
      "max len:  712\n",
      "mean cr:  0.09170076705541169\n",
      "std cr:  0.02078358221180022\n"
     ]
    },
    {
     "name": "stderr",
     "output_type": "stream",
     "text": [
      "\n"
     ]
    }
   ],
   "source": [
    "print('GCTRootPCTokenizer')\n",
    "gctRootPCTokenizer = GCTRootPCTokenizer()\n",
    "print('len(gctRootPCTokenizer.vocab): ', len(gctRootPCTokenizer.vocab))\n",
    "initialize_stats('GCTRootPCTokenizer', gctRootPCTokenizer)\n",
    "toks_gct_rpc = gctRootPCTokenizer(data_files)\n",
    "print('example sentence length: ', len(toks_gct_rpc['tokens'][0]))\n",
    "print(toks_gct_rpc['tokens'][0])\n",
    "print(toks_gct_rpc['ids'][0])\n",
    "update_stats('GCTRootPCTokenizer', toks_gct_rpc)\n",
    "print_stats('GCTRootPCTokenizer')"
   ]
  },
  {
   "cell_type": "code",
   "execution_count": 13,
   "metadata": {},
   "outputs": [
    {
     "name": "stdout",
     "output_type": "stream",
     "text": [
      "{'<unk>': 0, '<pad>': 1, '<s>': 2, '</s>': 3, '<emp>': 4, '<mask>': 5, '<bar>': 6, '<h>': 7, 'position_0x00': 8, 'position_0x16': 9, 'position_0x25': 10, 'position_0x33': 11, 'position_0x50': 12, 'position_0x66': 13, 'position_0x75': 14, 'position_0x83': 15, 'position_1x00': 16, 'position_1x16': 17, 'position_1x25': 18, 'position_1x33': 19, 'position_1x50': 20, 'position_1x66': 21, 'position_1x75': 22, 'position_1x83': 23, 'position_2x00': 24, 'position_2x16': 25, 'position_2x25': 26, 'position_2x33': 27, 'position_2x50': 28, 'position_2x66': 29, 'position_2x75': 30, 'position_2x83': 31, 'position_3x00': 32, 'position_3x16': 33, 'position_3x25': 34, 'position_3x33': 35, 'position_3x50': 36, 'position_3x66': 37, 'position_3x75': 38, 'position_3x83': 39, 'position_4x00': 40, 'position_4x16': 41, 'position_4x25': 42, 'position_4x33': 43, 'position_4x50': 44, 'position_4x66': 45, 'position_4x75': 46, 'position_4x83': 47, 'position_5x00': 48, 'position_5x16': 49, 'position_5x25': 50, 'position_5x33': 51, 'position_5x50': 52, 'position_5x66': 53, 'position_5x75': 54, 'position_5x83': 55, 'position_6x00': 56, 'position_6x16': 57, 'position_6x25': 58, 'position_6x33': 59, 'position_6x50': 60, 'position_6x66': 61, 'position_6x75': 62, 'position_6x83': 63, 'position_7x00': 64, 'position_7x16': 65, 'position_7x25': 66, 'position_7x33': 67, 'position_7x50': 68, 'position_7x66': 69, 'position_7x75': 70, 'position_7x83': 71, 'position_8x00': 72, 'position_8x16': 73, 'position_8x25': 74, 'position_8x33': 75, 'position_8x50': 76, 'position_8x66': 77, 'position_8x75': 78, 'position_8x83': 79, 'position_9x00': 80, 'position_9x16': 81, 'position_9x25': 82, 'position_9x33': 83, 'position_9x50': 84, 'position_9x66': 85, 'position_9x75': 86, 'position_9x83': 87, 'ts_1x4': 88, 'ts_1x8': 89, 'ts_2x4': 90, 'ts_3x4': 91, 'ts_3x8': 92, 'ts_4x4': 93, 'ts_5x4': 94, 'ts_5x8': 95, 'ts_6x4': 96, 'ts_7x4': 97, 'ts_7x8': 98, 'ts_8x4': 99, 'ts_9x4': 100, 'ts_9x8': 101, 'ts_10x4': 102, 'ts_11x8': 103, 'ts_13x8': 104, 'ts_15x8': 105, 'ts_17x8': 106, 'ts_19x8': 107, 'chord_root_0': 108, 'chord_root_1': 109, 'chord_root_2': 110, 'chord_root_3': 111, 'chord_root_4': 112, 'chord_root_5': 113, 'chord_root_6': 114, 'chord_root_7': 115, 'chord_root_8': 116, 'chord_root_9': 117, 'chord_root_10': 118, 'chord_root_11': 119, 'chord_pc_0': 120, 'chord_pc_1': 121, 'chord_pc_2': 122, 'chord_pc_3': 123, 'chord_pc_4': 124, 'chord_pc_5': 125, 'chord_pc_6': 126, 'chord_pc_7': 127, 'chord_pc_8': 128, 'chord_pc_9': 129, 'chord_pc_10': 130, 'chord_pc_11': 131}\n"
     ]
    }
   ],
   "source": [
    "gctRootPCTokenizer.save_pretrained('saved_tokenizers/GCTRootPCTokenizer')\n",
    "gctRootPCTokenizer.from_pretrained('saved_tokenizers/GCTRootPCTokenizer')\n",
    "print(gctRootPCTokenizer.vocab)"
   ]
  },
  {
   "cell_type": "code",
   "execution_count": 14,
   "metadata": {},
   "outputs": [
    {
     "name": "stdout",
     "output_type": "stream",
     "text": [
      "GCTSymbolTokenizer\n",
      "training\n"
     ]
    },
    {
     "name": "stderr",
     "output_type": "stream",
     "text": [
      "Processing Files: 100%|██████████| 650/650 [01:05<00:00,  9.99it/s]\n"
     ]
    },
    {
     "name": "stdout",
     "output_type": "stream",
     "text": [
      "len(gctSymbolTokenizer.vocab):  336\n"
     ]
    },
    {
     "name": "stderr",
     "output_type": "stream",
     "text": [
      "Processing Files: 100%|██████████| 650/650 [01:05<00:00,  9.91it/s]\n"
     ]
    },
    {
     "name": "stdout",
     "output_type": "stream",
     "text": [
      "example sentence length:  90\n",
      "['<h>', '<bar>', 'position_0x00', '[0 0 4 7 9]', '<bar>', 'position_0x00', '[ 2  0  4  7 10]', '<bar>', 'position_0x00', '[0 0 4 7 9]', '<bar>', 'position_0x00', '[ 2  0  4  7 10]', '<bar>', 'position_0x00', '[ 7  0  4  7 11]', '<bar>', 'position_0x00', '[ 0  0  4  7 10 18]', '<bar>', 'position_0x00', '[2 0 4 7 9]', '<bar>', 'position_0x00', '[7 0 4 7 9]', '<bar>', 'position_0x00', '[11  0  4  7 11]', 'position_2x00', '[ 6  0  4  7 10]', '<bar>', 'position_0x00', '[ 8  0  3  7 10]', '<bar>', 'position_0x00', '[5 0 4 7 9]', '<bar>', 'position_0x00', '[ 7  0  4  7 10]', '<bar>', 'position_0x00', '[5 0 4 7 9]', '<bar>', 'position_0x00', '[ 7  0  4  7 10]', '<bar>', 'position_0x00', '[4 0 3 7 8]', '<bar>', 'position_0x00', '[ 5  0  4  7 10]', '<bar>', 'position_0x00', '[7 0 4 7 9]', 'position_2x00', '[ 9  0  4  7 10]', '<bar>', 'position_0x00', '[0 0 4 7 9]', 'position_2x00', '[ 2  0  4  7 10]', '<bar>', 'position_0x00', '[0 0 4 7 9]', '<bar>', 'position_0x00', '[ 2  0  4  7 10]', '<bar>', 'position_0x00', '[ 7  0  4  7 11]', 'position_2x00', '[ 5  0  4  7 10]', '<bar>', 'position_0x00', '[ 4  0  4  7 10 13]', '<bar>', 'position_0x00', '[0 0 4 7 9]', '<bar>', 'position_0x00', '[ 5  0  4  7 10]', '<bar>', 'position_0x00', '[0 0 4 7 9]', 'position_2x00', '[ 2  0  4  7 10]', '<bar>', 'position_0x00', '[7 0 4 7 9]', '</s>']\n",
      "[7, 6, 8, 108, 6, 8, 109, 6, 8, 108, 6, 8, 109, 6, 8, 110, 6, 8, 111, 6, 8, 112, 6, 8, 113, 6, 8, 114, 24, 115, 6, 8, 116, 6, 8, 117, 6, 8, 118, 6, 8, 117, 6, 8, 118, 6, 8, 119, 6, 8, 120, 6, 8, 113, 24, 121, 6, 8, 108, 24, 109, 6, 8, 108, 6, 8, 109, 6, 8, 110, 24, 120, 6, 8, 122, 6, 8, 108, 6, 8, 120, 6, 8, 108, 24, 109, 6, 8, 113, 3]\n",
      "vocab_size:  336\n",
      "mean len:  105.60307692307693\n",
      "std len:  34.29661552815949\n",
      "max len:  318\n",
      "mean cr:  0.1107119888470622\n",
      "std cr:  0.024290870874\n"
     ]
    }
   ],
   "source": [
    "print('GCTSymbolTokenizer')\n",
    "gctSymbolTokenizer = GCTSymbolTokenizer()\n",
    "print('training')\n",
    "gctSymbolTokenizer.fit( data_files )\n",
    "print('len(gctSymbolTokenizer.vocab): ', len(gctSymbolTokenizer.vocab))\n",
    "initialize_stats('GCTSymbolTokenizer', gctSymbolTokenizer)\n",
    "toks_gct_symb = gctSymbolTokenizer(data_files)\n",
    "print('example sentence length: ', len(toks_gct_symb['tokens'][0]))\n",
    "print(toks_gct_symb['tokens'][0])\n",
    "print(toks_gct_symb['ids'][0])\n",
    "update_stats('GCTSymbolTokenizer', toks_gct_symb)\n",
    "print_stats('GCTSymbolTokenizer')"
   ]
  },
  {
   "cell_type": "code",
   "execution_count": 15,
   "metadata": {},
   "outputs": [
    {
     "name": "stdout",
     "output_type": "stream",
     "text": [
      "{'<unk>': 0, '<pad>': 1, '<s>': 2, '</s>': 3, '<emp>': 4, '<mask>': 5, '<bar>': 6, '<h>': 7, 'position_0x00': 8, 'position_0x16': 9, 'position_0x25': 10, 'position_0x33': 11, 'position_0x50': 12, 'position_0x66': 13, 'position_0x75': 14, 'position_0x83': 15, 'position_1x00': 16, 'position_1x16': 17, 'position_1x25': 18, 'position_1x33': 19, 'position_1x50': 20, 'position_1x66': 21, 'position_1x75': 22, 'position_1x83': 23, 'position_2x00': 24, 'position_2x16': 25, 'position_2x25': 26, 'position_2x33': 27, 'position_2x50': 28, 'position_2x66': 29, 'position_2x75': 30, 'position_2x83': 31, 'position_3x00': 32, 'position_3x16': 33, 'position_3x25': 34, 'position_3x33': 35, 'position_3x50': 36, 'position_3x66': 37, 'position_3x75': 38, 'position_3x83': 39, 'position_4x00': 40, 'position_4x16': 41, 'position_4x25': 42, 'position_4x33': 43, 'position_4x50': 44, 'position_4x66': 45, 'position_4x75': 46, 'position_4x83': 47, 'position_5x00': 48, 'position_5x16': 49, 'position_5x25': 50, 'position_5x33': 51, 'position_5x50': 52, 'position_5x66': 53, 'position_5x75': 54, 'position_5x83': 55, 'position_6x00': 56, 'position_6x16': 57, 'position_6x25': 58, 'position_6x33': 59, 'position_6x50': 60, 'position_6x66': 61, 'position_6x75': 62, 'position_6x83': 63, 'position_7x00': 64, 'position_7x16': 65, 'position_7x25': 66, 'position_7x33': 67, 'position_7x50': 68, 'position_7x66': 69, 'position_7x75': 70, 'position_7x83': 71, 'position_8x00': 72, 'position_8x16': 73, 'position_8x25': 74, 'position_8x33': 75, 'position_8x50': 76, 'position_8x66': 77, 'position_8x75': 78, 'position_8x83': 79, 'position_9x00': 80, 'position_9x16': 81, 'position_9x25': 82, 'position_9x33': 83, 'position_9x50': 84, 'position_9x66': 85, 'position_9x75': 86, 'position_9x83': 87, 'ts_1x4': 88, 'ts_1x8': 89, 'ts_2x4': 90, 'ts_3x4': 91, 'ts_3x8': 92, 'ts_4x4': 93, 'ts_5x4': 94, 'ts_5x8': 95, 'ts_6x4': 96, 'ts_7x4': 97, 'ts_7x8': 98, 'ts_8x4': 99, 'ts_9x4': 100, 'ts_9x8': 101, 'ts_10x4': 102, 'ts_11x8': 103, 'ts_13x8': 104, 'ts_15x8': 105, 'ts_17x8': 106, 'ts_19x8': 107, '[0 0 4 7 9]': 108, '[ 2  0  4  7 10]': 109, '[ 7  0  4  7 11]': 110, '[ 0  0  4  7 10 18]': 111, '[2 0 4 7 9]': 112, '[7 0 4 7 9]': 113, '[11  0  4  7 11]': 114, '[ 6  0  4  7 10]': 115, '[ 8  0  3  7 10]': 116, '[5 0 4 7 9]': 117, '[ 7  0  4  7 10]': 118, '[4 0 3 7 8]': 119, '[ 5  0  4  7 10]': 120, '[ 9  0  4  7 10]': 121, '[ 4  0  4  7 10 13]': 122, '[10  0  4  7 10 14]': 123, '[2 0 3 6 9]': 124, '[ 0  0  4  7 10]': 125, '[10  0  4  7  9]': 126, '[2 0 3 7 8]': 127, '[5 0 4 7]': 128, '[0 0 3 7 9]': 129, '[10  0  3  7  9]': 130, '[ 0  0  3  7 10]': 131, '[1 0 4 7 9]': 132, '[6 0 4 8]': 133, '[10  0  3  7  8 17]': 134, '[4 0 4 8]': 135, '[ 4  0  4  7  9 11]': 136, '[ 4  0  4  7 10 14]': 137, '[ 3  0  4  7 10 14]': 138, '[ 9  0  3  7  9 17]': 139, '[ 7  0  4  7 10 13]': 140, '[6 0 4 7 9]': 141, '[ 8  0  4  7 10]': 142, '[5 0 3 7 8]': 143, '[5 0 3 7 9]': 144, '[5 0 4 8]': 145, '[ 5  0  3  7  8 17]': 146, '[ 3  0  4  7 10 13]': 147, '[ 5  0  3  7 10]': 148, '[1 0 3 7 9]': 149, '[7 0 4 8]': 150, '[ 5  0  4  7 10 18]': 151, '[4 0 3 6 9]': 152, '[10  0  4  7  9 10 14 17]': 153, '[7 0 3 7 8]': 154, '[0 0 3 7 8]': 155, '[ 9  0  4  7 10 18]': 156, '[ 8  0  4  7 10 14]': 157, '[ 4  0  3  7  8 10 13 17]': 158, '[ 4  0  4  7  9 13]': 159, '[0 0 5 7]': 160, '[ 0  0  4  7 10 13]': 161, '[ 8  0  3  7 10 14]': 162, '[ 1  0  4  7 10 14]': 163, '[ 5  0  3  7 10 14]': 164, '[ 4  0  4  7  9 11 14 18]': 165, '[9 0 3 7 8]': 166, '[7 0 3 7 9]': 167, '[ 9  0  4  7 10 13]': 168, '[2 0 3 7]': 169, '[2 0 3 7 9]': 170, '[ 2  0  4  7 10 13]': 171, '[ 4  0  4  7 10]': 172, '[10  0  4  7 10]': 173, '[ 9  0  4  7 11]': 174, '[4 0 4 7 9]': 175, '[ 2  0  4  7  9 13]': 176, '[ 8  0  4  7 10 18]': 177, '[10  0  3  7  8]': 178, '[9 0 4 7 9]': 179, '[8 0 3 7 9]': 180, '[10  0  4  7 10 13]': 181, '[3 0 3 7 9]': 182, '[10  0]': 183, '[10  0  4  7  9 17]': 184, '[ 3  0  4  7 10]': 185, '[11  0  4  7 10]': 186, '[ 1  0  4  7 10 18]': 187, '[ 2  0  3  7  8 10 13 17]': 188, '[ 5  0  4  7  8 10]': 189, '[7 0 3 7]': 190, '[9 0 3 6 9]': 191, '[ 2  0  4  7 11]': 192, '[ 7  0  4  7  9 13]': 193, '[ 5  0  4  7  9 11 14]': 194, '[ 5  0  3  7  8 10 13 17]': 195, '[ 1  0  3  7  9 17]': 196, '[ 5  0  4  7 10 13]': 197, '[ 5  0  4  7  9 13]': 198, '[5 0 3 7]': 199, '[ 2  0  4  7  9 11 14]': 200, '[ 5  0  3  7  8 10 14 17]': 201, '[ 0  0  3  7  8 10]': 202, '[10  0  3  7  8 10]': 203, '[4 0 5 7]': 204, '[8 0]': 205, '[2 0 5 7]': 206, '[ 1  0  4  7 10]': 207, '[4 0 3 7 9]': 208, '[ 6  0  4  7 10 13]': 209, '[ 9  0  4  7  8 10]': 210, '[ 4  0  4  7  8 10]': 211, '[ 5  0  4  7 10 14]': 212, '[ 6  0  3  7  9 17]': 213, '[ 5  0  5 10]': 214, '[0 0 4 7]': 215, '[ 6  0  4  7 10 18]': 216, '[ 0  0  4  7 10 14]': 217, '[ 2  0  3  7  8 10 14 17]': 218, '[ 5  0  4  7 10 15]': 219, '[9 0 3 7 9]': 220, '[11  0  4  7 10 13]': 221, '[10  0  4  7 10 18]': 222, '[ 9  0  3  7 11]': 223, '[ 0  0  4  7  9 13]': 224, '[ 2  0  4  7 10 18]': 225, '[ 4  0  4  7 10 18]': 226, '[ 9  0  4  7  9 11 14]': 227, '[7 0 5 7]': 228, '[ 4  0  3  7  8 10]': 229, '[9 0]': 230, '[ 0  0  4  7  9 11]': 231, '[ 9  0  3  7  8 10]': 232, '[ 5  0  4  7  9 11]': 233, '[ 8  0  3  7 10 14 17]': 234, '[ 2  0  3  7  8 10 17]': 235, '[9 0 3 7]': 236, '[ 0  0  3  7 11]': 237, '[ 8  0  3  7  9 10 14 17]': 238, '[5 0]': 239, '[1 0]': 240, '[6 0 3 7 9]': 241, '[0 0]': 242, '[ 3  0  4  7 10 18]': 243, '[11  0  5  7]': 244, '[9 0 5 7]': 245, '[3 0 3 7]': 246, '[ 5  0  4  8 17]': 247, '[ 4  0  3  7  9 17]': 248, '[ 9  0  3  7  9 10 14 17]': 249, '[ 4  0  4  7 11]': 250, '[0 0 3 7]': 251, '[3 0 5 7]': 252, '[10  0  4  7  9 14 17]': 253, '[ 0  0  3  7 10 14]': 254, '[10  0  3  7]': 255, '[11  0  4  7 10 18]': 256, '[ 0  0  4  7  8 10]': 257, '[10  0  4  7  8 10]': 258, '[ 0  0  4  7 10 15]': 259, '[ 2  0  4  7  8 10]': 260, '[ 7  0  4  7  9 11 14]': 261, '[ 0  0  5 10]': 262, '[ 4  0  4  7  9 10 14 17]': 263, '[8 0 4 7]': 264, '[8 0 3 7]': 265, '[ 7  0  4  7 10 14]': 266, '[ 7  0  3  7 11]': 267, '[ 2  0  4  7  9 11]': 268, '[ 7  0  4  7  9 11]': 269, '[ 2  0  3  7  8 17]': 270, '[ 5  0  3  7 10 14 17]': 271, '[ 9  0  4  7  9 11]': 272, '[ 5  0  3  7  8 10 17]': 273, '[9 0 3 9]': 274, '[3 0 4 7]': 275, '[10  0  3  7  8 10 17]': 276, '[ 7  0  4  7  8 10]': 277, '[ 7  0  4  7 11 14]': 278, '[3 0]': 279, '[ 1  0  4  7 10 13]': 280, '[ 4  0  4  7  9 11 14 17]': 281, '[1 0 4 7]': 282, '[ 5  0  3  7 11]': 283, '[8 0 5 7]': 284, '[ 9  0  4  7  9 13]': 285, '[ 7  0  4  7 10 18]': 286, '[ 2  0  3  7 11]': 287, '[ 8  0  4  7 10 13]': 288, '[11  0  3  7]': 289, '[7 0 3 6]': 290, '[10  0  4  7]': 291, '[10  0  4  7 10 15]': 292, '[6 0]': 293, '[ 3  0  4  7 10 15]': 294, '[4 0 4 7]': 295, '[7 0]': 296, '[1 0 3 9]': 297, '[2 0]': 298, '[ 8  0  4  7 10 15]': 299, '[ 7  0  4  8 11 14]': 300, '[ 4  0  3  7  9 10 14 17]': 301, '[6 0 4 7]': 302, '[11  0  4  7]': 303, '[ 0  0  4  7  9 11 14]': 304, '[9 0 4 7]': 305, '[2 0 4 7]': 306, '[1 0 7]': 307, '[4 0 3 7]': 308, '[ 4  0  3  7 11]': 309, '[ 7  0  4  7 10 15]': 310, '[11  0  4  7 11 14]': 311, '[ 4  0  4  7 11 14]': 312, '[7 0 4 7]': 313, '[11  0  3  7  9]': 314, '[6 0 3 7]': 315, '[6 0 5 7]': 316, '[4 0 4 8 9]': 317, '[1 0 5 7]': 318, '[4 0]': 319, '[ 2  0  4  7 11 14]': 320, '[11  0]': 321, '[1 0 3 7]': 322, '[ 5  0  3  7  8 10]': 323, '[ 7  0  4  8 13]': 324, '[ 2  0  3  7  8 10]': 325, '[11  0  3  9]': 326, '[4 0 3 9]': 327, '[ 9  0  4  7 11 14]': 328, '[6 0 3 9]': 329, '[ 4  0  4  8 11 14]': 330, '[2 0 3 6]': 331, '[ 5  0  4  8 15 18]': 332, '[11  0  3  6]': 333, '[ 5  0  4  8 13]': 334, '[11  0  3  7 11]': 335}\n"
     ]
    }
   ],
   "source": [
    "gctSymbolTokenizer.save_pretrained('saved_tokenizers/GCTSymbolTokenizer')\n",
    "gctSymbolTokenizer.from_pretrained('saved_tokenizers/GCTSymbolTokenizer')\n",
    "print(gctSymbolTokenizer.vocab)"
   ]
  },
  {
   "cell_type": "code",
   "execution_count": 16,
   "metadata": {},
   "outputs": [
    {
     "name": "stdout",
     "output_type": "stream",
     "text": [
      "GCTRootTypeTokenizer\n",
      "training\n"
     ]
    },
    {
     "name": "stderr",
     "output_type": "stream",
     "text": [
      "Processing Files: 100%|██████████| 650/650 [01:05<00:00,  9.92it/s]\n"
     ]
    },
    {
     "name": "stdout",
     "output_type": "stream",
     "text": [
      "len(gctRootTypeTokenizer.vocab):  165\n"
     ]
    },
    {
     "name": "stderr",
     "output_type": "stream",
     "text": [
      "Processing Files: 100%|██████████| 650/650 [01:06<00:00,  9.82it/s]"
     ]
    },
    {
     "name": "stdout",
     "output_type": "stream",
     "text": [
      "example sentence length:  121\n",
      "['<h>', '<bar>', 'position_0x00', 'chord_root_0', '[0 4 7 9]', '<bar>', 'position_0x00', 'chord_root_2', '[ 0  4  7 10]', '<bar>', 'position_0x00', 'chord_root_0', '[0 4 7 9]', '<bar>', 'position_0x00', 'chord_root_2', '[ 0  4  7 10]', '<bar>', 'position_0x00', 'chord_root_7', '[ 0  4  7 11]', '<bar>', 'position_0x00', 'chord_root_0', '[ 0  4  7 10 18]', '<bar>', 'position_0x00', 'chord_root_2', '[0 4 7 9]', '<bar>', 'position_0x00', 'chord_root_7', '[0 4 7 9]', '<bar>', 'position_0x00', 'chord_root_11', '[ 0  4  7 11]', 'position_2x00', 'chord_root_6', '[ 0  4  7 10]', '<bar>', 'position_0x00', 'chord_root_8', '[ 0  3  7 10]', '<bar>', 'position_0x00', 'chord_root_5', '[0 4 7 9]', '<bar>', 'position_0x00', 'chord_root_7', '[ 0  4  7 10]', '<bar>', 'position_0x00', 'chord_root_5', '[0 4 7 9]', '<bar>', 'position_0x00', 'chord_root_7', '[ 0  4  7 10]', '<bar>', 'position_0x00', 'chord_root_4', '[0 3 7 8]', '<bar>', 'position_0x00', 'chord_root_5', '[ 0  4  7 10]', '<bar>', 'position_0x00', 'chord_root_7', '[0 4 7 9]', 'position_2x00', 'chord_root_9', '[ 0  4  7 10]', '<bar>', 'position_0x00', 'chord_root_0', '[0 4 7 9]', 'position_2x00', 'chord_root_2', '[ 0  4  7 10]', '<bar>', 'position_0x00', 'chord_root_0', '[0 4 7 9]', '<bar>', 'position_0x00', 'chord_root_2', '[ 0  4  7 10]', '<bar>', 'position_0x00', 'chord_root_7', '[ 0  4  7 11]', 'position_2x00', 'chord_root_5', '[ 0  4  7 10]', '<bar>', 'position_0x00', 'chord_root_4', '[ 0  4  7 10 13]', '<bar>', 'position_0x00', 'chord_root_0', '[0 4 7 9]', '<bar>', 'position_0x00', 'chord_root_5', '[ 0  4  7 10]', '<bar>', 'position_0x00', 'chord_root_0', '[0 4 7 9]', 'position_2x00', 'chord_root_2', '[ 0  4  7 10]', '<bar>', 'position_0x00', 'chord_root_7', '[0 4 7 9]', '</s>']\n",
      "[7, 6, 8, 108, 120, 6, 8, 110, 121, 6, 8, 108, 120, 6, 8, 110, 121, 6, 8, 115, 122, 6, 8, 108, 123, 6, 8, 110, 120, 6, 8, 115, 120, 6, 8, 119, 122, 24, 114, 121, 6, 8, 116, 124, 6, 8, 113, 120, 6, 8, 115, 121, 6, 8, 113, 120, 6, 8, 115, 121, 6, 8, 112, 125, 6, 8, 113, 121, 6, 8, 115, 120, 24, 117, 121, 6, 8, 108, 120, 24, 110, 121, 6, 8, 108, 120, 6, 8, 110, 121, 6, 8, 115, 122, 24, 113, 121, 6, 8, 112, 126, 6, 8, 108, 120, 6, 8, 113, 121, 6, 8, 108, 120, 24, 110, 121, 6, 8, 115, 120, 3]\n",
      "vocab_size:  165\n",
      "mean len:  143.68769230769232\n",
      "std len:  47.76576826296714\n",
      "max len:  447\n",
      "mean cr:  0.10142582761609996\n",
      "std cr:  0.022468559189895293\n"
     ]
    },
    {
     "name": "stderr",
     "output_type": "stream",
     "text": [
      "\n"
     ]
    }
   ],
   "source": [
    "print('GCTRootTypeTokenizer')\n",
    "gctRootTypeTokenizer = GCTRootTypeTokenizer()\n",
    "print('training')\n",
    "gctRootTypeTokenizer.fit( data_files )\n",
    "print('len(gctRootTypeTokenizer.vocab): ', len(gctRootTypeTokenizer.vocab))\n",
    "initialize_stats('GCTRootTypeTokenizer', gctRootTypeTokenizer)\n",
    "toks_gct_rt = gctRootTypeTokenizer(data_files)\n",
    "print('example sentence length: ', len(toks_gct_rt['tokens'][0]))\n",
    "print(toks_gct_rt['tokens'][0])\n",
    "print(toks_gct_rt['ids'][0])\n",
    "update_stats('GCTRootTypeTokenizer', toks_gct_rt)\n",
    "print_stats('GCTRootTypeTokenizer')"
   ]
  },
  {
   "cell_type": "code",
   "execution_count": 17,
   "metadata": {},
   "outputs": [
    {
     "name": "stdout",
     "output_type": "stream",
     "text": [
      "{'<unk>': 0, '<pad>': 1, '<s>': 2, '</s>': 3, '<emp>': 4, '<mask>': 5, '<bar>': 6, '<h>': 7, 'position_0x00': 8, 'position_0x16': 9, 'position_0x25': 10, 'position_0x33': 11, 'position_0x50': 12, 'position_0x66': 13, 'position_0x75': 14, 'position_0x83': 15, 'position_1x00': 16, 'position_1x16': 17, 'position_1x25': 18, 'position_1x33': 19, 'position_1x50': 20, 'position_1x66': 21, 'position_1x75': 22, 'position_1x83': 23, 'position_2x00': 24, 'position_2x16': 25, 'position_2x25': 26, 'position_2x33': 27, 'position_2x50': 28, 'position_2x66': 29, 'position_2x75': 30, 'position_2x83': 31, 'position_3x00': 32, 'position_3x16': 33, 'position_3x25': 34, 'position_3x33': 35, 'position_3x50': 36, 'position_3x66': 37, 'position_3x75': 38, 'position_3x83': 39, 'position_4x00': 40, 'position_4x16': 41, 'position_4x25': 42, 'position_4x33': 43, 'position_4x50': 44, 'position_4x66': 45, 'position_4x75': 46, 'position_4x83': 47, 'position_5x00': 48, 'position_5x16': 49, 'position_5x25': 50, 'position_5x33': 51, 'position_5x50': 52, 'position_5x66': 53, 'position_5x75': 54, 'position_5x83': 55, 'position_6x00': 56, 'position_6x16': 57, 'position_6x25': 58, 'position_6x33': 59, 'position_6x50': 60, 'position_6x66': 61, 'position_6x75': 62, 'position_6x83': 63, 'position_7x00': 64, 'position_7x16': 65, 'position_7x25': 66, 'position_7x33': 67, 'position_7x50': 68, 'position_7x66': 69, 'position_7x75': 70, 'position_7x83': 71, 'position_8x00': 72, 'position_8x16': 73, 'position_8x25': 74, 'position_8x33': 75, 'position_8x50': 76, 'position_8x66': 77, 'position_8x75': 78, 'position_8x83': 79, 'position_9x00': 80, 'position_9x16': 81, 'position_9x25': 82, 'position_9x33': 83, 'position_9x50': 84, 'position_9x66': 85, 'position_9x75': 86, 'position_9x83': 87, 'ts_1x4': 88, 'ts_1x8': 89, 'ts_2x4': 90, 'ts_3x4': 91, 'ts_3x8': 92, 'ts_4x4': 93, 'ts_5x4': 94, 'ts_5x8': 95, 'ts_6x4': 96, 'ts_7x4': 97, 'ts_7x8': 98, 'ts_8x4': 99, 'ts_9x4': 100, 'ts_9x8': 101, 'ts_10x4': 102, 'ts_11x8': 103, 'ts_13x8': 104, 'ts_15x8': 105, 'ts_17x8': 106, 'ts_19x8': 107, 'chord_root_0': 108, 'chord_root_1': 109, 'chord_root_2': 110, 'chord_root_3': 111, 'chord_root_4': 112, 'chord_root_5': 113, 'chord_root_6': 114, 'chord_root_7': 115, 'chord_root_8': 116, 'chord_root_9': 117, 'chord_root_10': 118, 'chord_root_11': 119, '[0 4 7 9]': 120, '[ 0  4  7 10]': 121, '[ 0  4  7 11]': 122, '[ 0  4  7 10 18]': 123, '[ 0  3  7 10]': 124, '[0 3 7 8]': 125, '[ 0  4  7 10 13]': 126, '[ 0  4  7 10 14]': 127, '[0 3 6 9]': 128, '[0 4 7]': 129, '[0 3 7 9]': 130, '[0 4 8]': 131, '[ 0  3  7  8 17]': 132, '[ 0  4  7  9 11]': 133, '[ 0  3  7  9 17]': 134, '[ 0  4  7  9 10 14 17]': 135, '[ 0  3  7  8 10 13 17]': 136, '[ 0  4  7  9 13]': 137, '[0 5 7]': 138, '[ 0  3  7 10 14]': 139, '[ 0  4  7  9 11 14 18]': 140, '[0 3 7]': 141, '[0]': 142, '[ 0  4  7  9 17]': 143, '[ 0  4  7  8 10]': 144, '[ 0  4  7  9 11 14]': 145, '[ 0  3  7  8 10 14 17]': 146, '[ 0  3  7  8 10]': 147, '[ 0  5 10]': 148, '[ 0  4  7 10 15]': 149, '[ 0  3  7 11]': 150, '[ 0  3  7 10 14 17]': 151, '[ 0  3  7  8 10 17]': 152, '[ 0  3  7  9 10 14 17]': 153, '[ 0  4  8 17]': 154, '[ 0  4  7  9 14 17]': 155, '[0 3 9]': 156, '[ 0  4  7 11 14]': 157, '[ 0  4  7  9 11 14 17]': 158, '[0 3 6]': 159, '[ 0  4  8 11 14]': 160, '[0 7]': 161, '[0 4 8 9]': 162, '[ 0  4  8 13]': 163, '[ 0  4  8 15 18]': 164}\n"
     ]
    }
   ],
   "source": [
    "gctRootTypeTokenizer.save_pretrained('saved_tokenizers/GCTRootTypeTokenizer')\n",
    "gctRootTypeTokenizer.from_pretrained('saved_tokenizers/GCTRootTypeTokenizer')\n",
    "print(gctRootTypeTokenizer.vocab)"
   ]
  },
  {
   "cell_type": "code",
   "execution_count": 6,
   "metadata": {},
   "outputs": [
    {
     "name": "stdout",
     "output_type": "stream",
     "text": [
      "MelodyPitchTokenizer_m21\n",
      "len(melodyPitchTokenizer.vocab):  195\n"
     ]
    },
    {
     "name": "stderr",
     "output_type": "stream",
     "text": [
      "Processing Melody Files: 100%|██████████| 650/650 [00:23<00:00, 27.71it/s]"
     ]
    },
    {
     "name": "stdout",
     "output_type": "stream",
     "text": [
      "example sentence length:  79\n",
      "['<s>', '<bar>', 'ts_3x4', 'position_0x00', 'P:65', 'position_1x00', 'P:72', 'position_2x50', 'P:68', '<bar>', 'position_0x00', 'P:70', '<bar>', 'position_0x00', 'P:68', 'position_1x50', 'P:70', '<bar>', 'position_0x00', 'P:65', 'position_2x00', '<rest>', 'position_2x50', 'P:60', '<bar>', 'position_0x00', 'P:65', 'position_1x00', 'P:72', 'position_2x50', 'P:68', '<bar>', 'position_0x00', 'P:70', '<bar>', 'position_0x00', 'P:68', 'position_1x50', 'P:70', '<bar>', 'position_0x00', 'P:65', '<bar>', 'position_0x00', 'P:63', 'position_1x00', 'P:63', 'position_2x00', 'P:67', '<bar>', 'position_0x00', 'P:63', '<bar>', 'position_0x00', 'P:61', 'position_1x50', 'P:63', '<bar>', 'position_0x00', 'P:65', '<bar>', 'position_0x00', 'P:63', 'position_1x00', 'P:63', 'position_2x00', 'P:67', '<bar>', 'position_0x00', 'P:63', '<bar>', 'position_0x00', 'P:61', 'position_1x50', 'P:68', '<bar>', 'position_0x00', 'P:65', '</s>']\n",
      "[2, 6, 178, 95, 51, 103, 58, 115, 54, 6, 95, 56, 6, 95, 54, 107, 56, 6, 95, 51, 111, 4, 115, 46, 6, 95, 51, 103, 58, 115, 54, 6, 95, 56, 6, 95, 54, 107, 56, 6, 95, 51, 6, 95, 49, 103, 49, 111, 53, 6, 95, 49, 6, 95, 47, 107, 49, 6, 95, 51, 6, 95, 49, 103, 49, 111, 53, 6, 95, 49, 6, 95, 47, 107, 54, 6, 95, 51, 3]\n",
      "vocab_size:  195\n",
      "mean len:  244.83384615384617\n",
      "std len:  88.73987964299509\n",
      "max len:  717\n",
      "mean cr:  0.2006540742142312\n",
      "std cr:  0.042470986411844\n"
     ]
    },
    {
     "name": "stderr",
     "output_type": "stream",
     "text": [
      "\n"
     ]
    }
   ],
   "source": [
    "print('MelodyPitchTokenizer_m21')\n",
    "melodyPitchTokenizer = MelodyPitchTokenizer(min_pitch=21, max_pitch=108) #default range, need to adjust\n",
    "print('len(melodyPitchTokenizer.vocab): ', len(melodyPitchTokenizer.vocab))\n",
    "initialize_stats('MelodyPitchTokenizer', melodyPitchTokenizer)\n",
    "toks_cs = melodyPitchTokenizer(data_files)\n",
    "print('example sentence length: ', len(toks_cs['tokens'][0]))\n",
    "print(toks_cs['tokens'][0])\n",
    "print(toks_cs['ids'][0])\n",
    "update_stats('MelodyPitchTokenizer', toks_cs)\n",
    "print_stats('MelodyPitchTokenizer')"
   ]
  },
  {
   "cell_type": "code",
   "execution_count": 7,
   "metadata": {},
   "outputs": [
    {
     "name": "stdout",
     "output_type": "stream",
     "text": [
      "Testing Decoding function for MelodyPitchTokenizer\n",
      "['<s>', '<bar>', 'ts_3x4', 'position_0x00', 'P:65', 'position_1x00', 'P:72', 'position_2x50', 'P:68', '<bar>', 'position_0x00', 'P:70', '<bar>', 'position_0x00', 'P:68', 'position_1x50', 'P:70', '<bar>', 'position_0x00', 'P:65', 'position_2x00', '<rest>', 'position_2x50', 'P:60', '<bar>', 'position_0x00', 'P:65', 'position_1x00', 'P:72', 'position_2x50', 'P:68', '<bar>', 'position_0x00', 'P:70', '<bar>', 'position_0x00', 'P:68', 'position_1x50', 'P:70', '<bar>', 'position_0x00', 'P:65', '<bar>', 'position_0x00', 'P:63', 'position_1x00', 'P:63', 'position_2x00', 'P:67', '<bar>', 'position_0x00', 'P:63', '<bar>', 'position_0x00', 'P:61', 'position_1x50', 'P:63', '<bar>', 'position_0x00', 'P:65', '<bar>', 'position_0x00', 'P:63', 'position_1x00', 'P:63', 'position_2x00', 'P:67', '<bar>', 'position_0x00', 'P:63', '<bar>', 'position_0x00', 'P:61', 'position_1x50', 'P:68', '<bar>', 'position_0x00', 'P:65', '</s>']\n",
      "\n",
      "--\n",
      "\n",
      "{0.0} <music21.stream.Measure 1 offset=0.0>\n",
      "    {0.0} <music21.meter.TimeSignature 3/4>\n",
      "    {0.0} <music21.note.Note F>\n",
      "    {1.0} <music21.note.Note C>\n",
      "    {2.5} <music21.note.Note G#>\n",
      "{3.0} <music21.stream.Measure 2 offset=3.0>\n",
      "    {0.0} <music21.note.Note B->\n",
      "{6.0} <music21.stream.Measure 3 offset=6.0>\n",
      "    {0.0} <music21.note.Note G#>\n",
      "    {1.5} <music21.note.Note B->\n",
      "{9.0} <music21.stream.Measure 4 offset=9.0>\n",
      "    {0.0} <music21.note.Note F>\n",
      "    {2.0} <music21.note.Rest eighth>\n",
      "    {2.5} <music21.note.Note C>\n",
      "{12.0} <music21.stream.Measure 5 offset=12.0>\n",
      "    {0.0} <music21.note.Note F>\n",
      "    {1.0} <music21.note.Note C>\n",
      "    {2.5} <music21.note.Note G#>\n",
      "{15.0} <music21.stream.Measure 6 offset=15.0>\n",
      "    {0.0} <music21.note.Note B->\n",
      "{18.0} <music21.stream.Measure 7 offset=18.0>\n",
      "    {0.0} <music21.note.Note G#>\n",
      "    {1.5} <music21.note.Note B->\n",
      "{21.0} <music21.stream.Measure 8 offset=21.0>\n",
      "    {0.0} <music21.note.Note F>\n",
      "{24.0} <music21.stream.Measure 9 offset=24.0>\n",
      "    {0.0} <music21.note.Note E->\n",
      "    {1.0} <music21.note.Note E->\n",
      "    {2.0} <music21.note.Note G>\n",
      "{27.0} <music21.stream.Measure 10 offset=27.0>\n",
      "    {0.0} <music21.note.Note E->\n",
      "{30.0} <music21.stream.Measure 11 offset=30.0>\n",
      "    {0.0} <music21.note.Note C#>\n",
      "    {1.5} <music21.note.Note E->\n",
      "{33.0} <music21.stream.Measure 12 offset=33.0>\n",
      "    {0.0} <music21.note.Note F>\n",
      "{36.0} <music21.stream.Measure 13 offset=36.0>\n",
      "    {0.0} <music21.note.Note E->\n",
      "    {1.0} <music21.note.Note E->\n",
      "    {2.0} <music21.note.Note G>\n",
      "{39.0} <music21.stream.Measure 14 offset=39.0>\n",
      "    {0.0} <music21.note.Note E->\n",
      "{42.0} <music21.stream.Measure 15 offset=42.0>\n",
      "    {0.0} <music21.note.Note C#>\n",
      "    {1.5} <music21.note.Note G#>\n",
      "{45.0} <music21.stream.Measure 16 offset=45.0>\n",
      "    {0.0} <music21.note.Note F>\n"
     ]
    }
   ],
   "source": [
    "print('Testing Decoding function for MelodyPitchTokenizer')\n",
    "melody_tokens = toks_cs['tokens'][0]\n",
    "print(melody_tokens)\n",
    "print('\\n--\\n')\n",
    "m21_tokens = melodyPitchTokenizer.decode(melody_tokens)\n",
    "m21_tokens.show('text')"
   ]
  },
  {
   "cell_type": "code",
   "execution_count": 8,
   "metadata": {},
   "outputs": [
    {
     "name": "stdout",
     "output_type": "stream",
     "text": [
      "{'<unk>': 0, '<pad>': 1, '<s>': 2, '</s>': 3, '<rest>': 4, '<mask>': 5, '<bar>': 6, 'P:21': 7, 'P:22': 8, 'P:23': 9, 'P:24': 10, 'P:25': 11, 'P:26': 12, 'P:27': 13, 'P:28': 14, 'P:29': 15, 'P:30': 16, 'P:31': 17, 'P:32': 18, 'P:33': 19, 'P:34': 20, 'P:35': 21, 'P:36': 22, 'P:37': 23, 'P:38': 24, 'P:39': 25, 'P:40': 26, 'P:41': 27, 'P:42': 28, 'P:43': 29, 'P:44': 30, 'P:45': 31, 'P:46': 32, 'P:47': 33, 'P:48': 34, 'P:49': 35, 'P:50': 36, 'P:51': 37, 'P:52': 38, 'P:53': 39, 'P:54': 40, 'P:55': 41, 'P:56': 42, 'P:57': 43, 'P:58': 44, 'P:59': 45, 'P:60': 46, 'P:61': 47, 'P:62': 48, 'P:63': 49, 'P:64': 50, 'P:65': 51, 'P:66': 52, 'P:67': 53, 'P:68': 54, 'P:69': 55, 'P:70': 56, 'P:71': 57, 'P:72': 58, 'P:73': 59, 'P:74': 60, 'P:75': 61, 'P:76': 62, 'P:77': 63, 'P:78': 64, 'P:79': 65, 'P:80': 66, 'P:81': 67, 'P:82': 68, 'P:83': 69, 'P:84': 70, 'P:85': 71, 'P:86': 72, 'P:87': 73, 'P:88': 74, 'P:89': 75, 'P:90': 76, 'P:91': 77, 'P:92': 78, 'P:93': 79, 'P:94': 80, 'P:95': 81, 'P:96': 82, 'P:97': 83, 'P:98': 84, 'P:99': 85, 'P:100': 86, 'P:101': 87, 'P:102': 88, 'P:103': 89, 'P:104': 90, 'P:105': 91, 'P:106': 92, 'P:107': 93, 'P:108': 94, 'position_0x00': 95, 'position_0x16': 96, 'position_0x25': 97, 'position_0x33': 98, 'position_0x50': 99, 'position_0x66': 100, 'position_0x75': 101, 'position_0x83': 102, 'position_1x00': 103, 'position_1x16': 104, 'position_1x25': 105, 'position_1x33': 106, 'position_1x50': 107, 'position_1x66': 108, 'position_1x75': 109, 'position_1x83': 110, 'position_2x00': 111, 'position_2x16': 112, 'position_2x25': 113, 'position_2x33': 114, 'position_2x50': 115, 'position_2x66': 116, 'position_2x75': 117, 'position_2x83': 118, 'position_3x00': 119, 'position_3x16': 120, 'position_3x25': 121, 'position_3x33': 122, 'position_3x50': 123, 'position_3x66': 124, 'position_3x75': 125, 'position_3x83': 126, 'position_4x00': 127, 'position_4x16': 128, 'position_4x25': 129, 'position_4x33': 130, 'position_4x50': 131, 'position_4x66': 132, 'position_4x75': 133, 'position_4x83': 134, 'position_5x00': 135, 'position_5x16': 136, 'position_5x25': 137, 'position_5x33': 138, 'position_5x50': 139, 'position_5x66': 140, 'position_5x75': 141, 'position_5x83': 142, 'position_6x00': 143, 'position_6x16': 144, 'position_6x25': 145, 'position_6x33': 146, 'position_6x50': 147, 'position_6x66': 148, 'position_6x75': 149, 'position_6x83': 150, 'position_7x00': 151, 'position_7x16': 152, 'position_7x25': 153, 'position_7x33': 154, 'position_7x50': 155, 'position_7x66': 156, 'position_7x75': 157, 'position_7x83': 158, 'position_8x00': 159, 'position_8x16': 160, 'position_8x25': 161, 'position_8x33': 162, 'position_8x50': 163, 'position_8x66': 164, 'position_8x75': 165, 'position_8x83': 166, 'position_9x00': 167, 'position_9x16': 168, 'position_9x25': 169, 'position_9x33': 170, 'position_9x50': 171, 'position_9x66': 172, 'position_9x75': 173, 'position_9x83': 174, 'ts_1x4': 175, 'ts_1x8': 176, 'ts_2x4': 177, 'ts_3x4': 178, 'ts_3x8': 179, 'ts_4x4': 180, 'ts_5x4': 181, 'ts_5x8': 182, 'ts_6x4': 183, 'ts_7x4': 184, 'ts_7x8': 185, 'ts_8x4': 186, 'ts_9x4': 187, 'ts_9x8': 188, 'ts_10x4': 189, 'ts_11x8': 190, 'ts_13x8': 191, 'ts_15x8': 192, 'ts_17x8': 193, 'ts_19x8': 194}\n"
     ]
    }
   ],
   "source": [
    "melodyPitchTokenizer.save_pretrained('saved_tokenizers/MelodyPitchTokenizer')\n",
    "melodyPitchTokenizer.from_pretrained('saved_tokenizers/MelodyPitchTokenizer')\n",
    "print(melodyPitchTokenizer.vocab)"
   ]
  },
  {
   "cell_type": "code",
   "execution_count": 20,
   "metadata": {},
   "outputs": [],
   "source": [
    "# print stats\n",
    "tokenizers = ['ChordSymbolTokenizer', 'GCTSymbolTokenizer', \\\n",
    "    'RootTypeTokenizer', 'GCTRootTypeTokenizer',\\\n",
    "    'RootPCTokenizer', 'GCTRootPCTokenizer', \\\n",
    "    'PitchClassTokenizer', 'MelodyPitchTokenizer'\n",
    "]\n",
    "\n",
    "results_path = 'vocab_stats_hk_m21.csv' #for hook theory\n",
    "\n",
    "result_fields = ['Tokenizer_m21', 'vocab_size'] + list( stats['ChordSymbolTokenizer'].keys() )[3:]\n",
    "\n",
    "with open( results_path, 'w' ) as f:\n",
    "    writer = csv.writer(f)\n",
    "    writer.writerow( result_fields )\n",
    "\n",
    "for tok in tokenizers:\n",
    "    with open( results_path, 'a' ) as f:\n",
    "            writer = csv.writer(f)\n",
    "            writer.writerow( [tok] + [stats[tok]['vocab_size']] + list( stats[tok].values() )[3:] )"
   ]
  },
  {
   "cell_type": "code",
   "execution_count": 9,
   "metadata": {},
   "outputs": [],
   "source": [
    "chordSymbolTokenizer = ChordSymbolTokenizer.from_pretrained('saved_tokenizers/ChordSymbolTokenizer')\n",
    "#rootTypeTokenizer = RootTypeTokenizer.from_pretrained('saved_tokenizers/RootTypeTokenizer')\n",
    "#pitchClassTokenizer = PitchClassTokenizer.from_pretrained('saved_tokenizers/PitchClassTokenizer')\n",
    "#rootPCTokenizer = RootPCTokenizer.from_pretrained('saved_tokenizers/RootPCTokenizer')\n",
    "#gctRootPCTokenizer = GCTRootPCTokenizer.from_pretrained('saved_tokenizers/GCTRootPCTokenizer')\n",
    "#gctSymbolTokenizer = GCTSymbolTokenizer.from_pretrained('saved_tokenizers/GCTSymbolTokenizer')\n",
    "#gctRootTypeTokenizer = GCTRootTypeTokenizer.from_pretrained('saved_tokenizers/GCTRootTypeTokenizer')\n",
    "melodyPitchTokenizer = MelodyPitchTokenizer.from_pretrained('saved_tokenizers/MelodyPitchTokenizer')"
   ]
  },
  {
   "cell_type": "code",
   "execution_count": 10,
   "metadata": {},
   "outputs": [
    {
     "name": "stdout",
     "output_type": "stream",
     "text": [
      "Merging harmony vocab\n"
     ]
    }
   ],
   "source": [
    "m_chordSymbolTokenizer = MergedMelHarmTokenizer(melodyPitchTokenizer, chordSymbolTokenizer, verbose=1)\n",
    "#m_rootTypeTokenizer = MergedMelHarmTokenizer(melodyPitchTokenizer, rootTypeTokenizer)\n",
    "#m_pitchClassTokenizer = MergedMelHarmTokenizer(melodyPitchTokenizer, pitchClassTokenizer)\n",
    "#m_rootPCTokenizer = MergedMelHarmTokenizer(melodyPitchTokenizer, rootPCTokenizer)\n",
    "#m_gctRootPCTokenizer = MergedMelHarmTokenizer(melodyPitchTokenizer, gctRootPCTokenizer)\n",
    "#m_gctSymbolTokenizer = MergedMelHarmTokenizer(melodyPitchTokenizer, gctSymbolTokenizer)\n",
    "#m_gctRootTypeTokenizer = MergedMelHarmTokenizer(melodyPitchTokenizer, gctRootTypeTokenizer)"
   ]
  },
  {
   "cell_type": "code",
   "execution_count": 11,
   "metadata": {},
   "outputs": [
    {
     "name": "stdout",
     "output_type": "stream",
     "text": [
      "436\n",
      "195\n",
      "545\n"
     ]
    }
   ],
   "source": [
    "print(len(chordSymbolTokenizer.vocab))\n",
    "print(len(melodyPitchTokenizer.vocab))\n",
    "print(len(m_chordSymbolTokenizer.vocab))"
   ]
  },
  {
   "cell_type": "code",
   "execution_count": 12,
   "metadata": {},
   "outputs": [
    {
     "name": "stdout",
     "output_type": "stream",
     "text": [
      "Length of combined vocab: 545\n",
      "Combined vocab: {'<unk>': 0, '<pad>': 1, '<s>': 2, '</s>': 3, '<rest>': 4, '<mask>': 5, '<bar>': 6, 'P:21': 7, 'P:22': 8, 'P:23': 9, 'P:24': 10, 'P:25': 11, 'P:26': 12, 'P:27': 13, 'P:28': 14, 'P:29': 15, 'P:30': 16, 'P:31': 17, 'P:32': 18, 'P:33': 19, 'P:34': 20, 'P:35': 21, 'P:36': 22, 'P:37': 23, 'P:38': 24, 'P:39': 25, 'P:40': 26, 'P:41': 27, 'P:42': 28, 'P:43': 29, 'P:44': 30, 'P:45': 31, 'P:46': 32, 'P:47': 33, 'P:48': 34, 'P:49': 35, 'P:50': 36, 'P:51': 37, 'P:52': 38, 'P:53': 39, 'P:54': 40, 'P:55': 41, 'P:56': 42, 'P:57': 43, 'P:58': 44, 'P:59': 45, 'P:60': 46, 'P:61': 47, 'P:62': 48, 'P:63': 49, 'P:64': 50, 'P:65': 51, 'P:66': 52, 'P:67': 53, 'P:68': 54, 'P:69': 55, 'P:70': 56, 'P:71': 57, 'P:72': 58, 'P:73': 59, 'P:74': 60, 'P:75': 61, 'P:76': 62, 'P:77': 63, 'P:78': 64, 'P:79': 65, 'P:80': 66, 'P:81': 67, 'P:82': 68, 'P:83': 69, 'P:84': 70, 'P:85': 71, 'P:86': 72, 'P:87': 73, 'P:88': 74, 'P:89': 75, 'P:90': 76, 'P:91': 77, 'P:92': 78, 'P:93': 79, 'P:94': 80, 'P:95': 81, 'P:96': 82, 'P:97': 83, 'P:98': 84, 'P:99': 85, 'P:100': 86, 'P:101': 87, 'P:102': 88, 'P:103': 89, 'P:104': 90, 'P:105': 91, 'P:106': 92, 'P:107': 93, 'P:108': 94, 'position_0x00': 95, 'position_0x16': 96, 'position_0x25': 97, 'position_0x33': 98, 'position_0x50': 99, 'position_0x66': 100, 'position_0x75': 101, 'position_0x83': 102, 'position_1x00': 103, 'position_1x16': 104, 'position_1x25': 105, 'position_1x33': 106, 'position_1x50': 107, 'position_1x66': 108, 'position_1x75': 109, 'position_1x83': 110, 'position_2x00': 111, 'position_2x16': 112, 'position_2x25': 113, 'position_2x33': 114, 'position_2x50': 115, 'position_2x66': 116, 'position_2x75': 117, 'position_2x83': 118, 'position_3x00': 119, 'position_3x16': 120, 'position_3x25': 121, 'position_3x33': 122, 'position_3x50': 123, 'position_3x66': 124, 'position_3x75': 125, 'position_3x83': 126, 'position_4x00': 127, 'position_4x16': 128, 'position_4x25': 129, 'position_4x33': 130, 'position_4x50': 131, 'position_4x66': 132, 'position_4x75': 133, 'position_4x83': 134, 'position_5x00': 135, 'position_5x16': 136, 'position_5x25': 137, 'position_5x33': 138, 'position_5x50': 139, 'position_5x66': 140, 'position_5x75': 141, 'position_5x83': 142, 'position_6x00': 143, 'position_6x16': 144, 'position_6x25': 145, 'position_6x33': 146, 'position_6x50': 147, 'position_6x66': 148, 'position_6x75': 149, 'position_6x83': 150, 'position_7x00': 151, 'position_7x16': 152, 'position_7x25': 153, 'position_7x33': 154, 'position_7x50': 155, 'position_7x66': 156, 'position_7x75': 157, 'position_7x83': 158, 'position_8x00': 159, 'position_8x16': 160, 'position_8x25': 161, 'position_8x33': 162, 'position_8x50': 163, 'position_8x66': 164, 'position_8x75': 165, 'position_8x83': 166, 'position_9x00': 167, 'position_9x16': 168, 'position_9x25': 169, 'position_9x33': 170, 'position_9x50': 171, 'position_9x66': 172, 'position_9x75': 173, 'position_9x83': 174, 'ts_1x4': 175, 'ts_1x8': 176, 'ts_2x4': 177, 'ts_3x4': 178, 'ts_3x8': 179, 'ts_4x4': 180, 'ts_5x4': 181, 'ts_5x8': 182, 'ts_6x4': 183, 'ts_7x4': 184, 'ts_7x8': 185, 'ts_8x4': 186, 'ts_9x4': 187, 'ts_9x8': 188, 'ts_10x4': 189, 'ts_11x8': 190, 'ts_13x8': 191, 'ts_15x8': 192, 'ts_17x8': 193, 'ts_19x8': 194, '<emp>': 195, '<h>': 196, 'C:maj': 197, 'C:min': 198, 'C:aug': 199, 'C:dim': 200, 'C:sus4': 201, 'C:sus2': 202, 'C:7': 203, 'C:maj7': 204, 'C:min7': 205, 'C:minmaj7': 206, 'C:maj6': 207, 'C:min6': 208, 'C:dim7': 209, 'C:hdim7': 210, 'C:maj9': 211, 'C:min9': 212, 'C:9': 213, 'C:min11': 214, 'C:11': 215, 'C:maj13': 216, 'C:min13': 217, 'C:13': 218, 'C:1': 219, 'C:5': 220, 'C:': 221, 'C:7(b9)': 222, 'C:7(#9)': 223, 'C:7(#11)': 224, 'C:7(b13)': 225, 'C#:maj': 226, 'C#:min': 227, 'C#:aug': 228, 'C#:dim': 229, 'C#:sus4': 230, 'C#:sus2': 231, 'C#:7': 232, 'C#:maj7': 233, 'C#:min7': 234, 'C#:minmaj7': 235, 'C#:maj6': 236, 'C#:min6': 237, 'C#:dim7': 238, 'C#:hdim7': 239, 'C#:maj9': 240, 'C#:min9': 241, 'C#:9': 242, 'C#:min11': 243, 'C#:11': 244, 'C#:maj13': 245, 'C#:min13': 246, 'C#:13': 247, 'C#:1': 248, 'C#:5': 249, 'C#:': 250, 'C#:7(b9)': 251, 'C#:7(#9)': 252, 'C#:7(#11)': 253, 'C#:7(b13)': 254, 'D:maj': 255, 'D:min': 256, 'D:aug': 257, 'D:dim': 258, 'D:sus4': 259, 'D:sus2': 260, 'D:7': 261, 'D:maj7': 262, 'D:min7': 263, 'D:minmaj7': 264, 'D:maj6': 265, 'D:min6': 266, 'D:dim7': 267, 'D:hdim7': 268, 'D:maj9': 269, 'D:min9': 270, 'D:9': 271, 'D:min11': 272, 'D:11': 273, 'D:maj13': 274, 'D:min13': 275, 'D:13': 276, 'D:1': 277, 'D:5': 278, 'D:': 279, 'D:7(b9)': 280, 'D:7(#9)': 281, 'D:7(#11)': 282, 'D:7(b13)': 283, 'D#:maj': 284, 'D#:min': 285, 'D#:aug': 286, 'D#:dim': 287, 'D#:sus4': 288, 'D#:sus2': 289, 'D#:7': 290, 'D#:maj7': 291, 'D#:min7': 292, 'D#:minmaj7': 293, 'D#:maj6': 294, 'D#:min6': 295, 'D#:dim7': 296, 'D#:hdim7': 297, 'D#:maj9': 298, 'D#:min9': 299, 'D#:9': 300, 'D#:min11': 301, 'D#:11': 302, 'D#:maj13': 303, 'D#:min13': 304, 'D#:13': 305, 'D#:1': 306, 'D#:5': 307, 'D#:': 308, 'D#:7(b9)': 309, 'D#:7(#9)': 310, 'D#:7(#11)': 311, 'D#:7(b13)': 312, 'E:maj': 313, 'E:min': 314, 'E:aug': 315, 'E:dim': 316, 'E:sus4': 317, 'E:sus2': 318, 'E:7': 319, 'E:maj7': 320, 'E:min7': 321, 'E:minmaj7': 322, 'E:maj6': 323, 'E:min6': 324, 'E:dim7': 325, 'E:hdim7': 326, 'E:maj9': 327, 'E:min9': 328, 'E:9': 329, 'E:min11': 330, 'E:11': 331, 'E:maj13': 332, 'E:min13': 333, 'E:13': 334, 'E:1': 335, 'E:5': 336, 'E:': 337, 'E:7(b9)': 338, 'E:7(#9)': 339, 'E:7(#11)': 340, 'E:7(b13)': 341, 'F:maj': 342, 'F:min': 343, 'F:aug': 344, 'F:dim': 345, 'F:sus4': 346, 'F:sus2': 347, 'F:7': 348, 'F:maj7': 349, 'F:min7': 350, 'F:minmaj7': 351, 'F:maj6': 352, 'F:min6': 353, 'F:dim7': 354, 'F:hdim7': 355, 'F:maj9': 356, 'F:min9': 357, 'F:9': 358, 'F:min11': 359, 'F:11': 360, 'F:maj13': 361, 'F:min13': 362, 'F:13': 363, 'F:1': 364, 'F:5': 365, 'F:': 366, 'F:7(b9)': 367, 'F:7(#9)': 368, 'F:7(#11)': 369, 'F:7(b13)': 370, 'F#:maj': 371, 'F#:min': 372, 'F#:aug': 373, 'F#:dim': 374, 'F#:sus4': 375, 'F#:sus2': 376, 'F#:7': 377, 'F#:maj7': 378, 'F#:min7': 379, 'F#:minmaj7': 380, 'F#:maj6': 381, 'F#:min6': 382, 'F#:dim7': 383, 'F#:hdim7': 384, 'F#:maj9': 385, 'F#:min9': 386, 'F#:9': 387, 'F#:min11': 388, 'F#:11': 389, 'F#:maj13': 390, 'F#:min13': 391, 'F#:13': 392, 'F#:1': 393, 'F#:5': 394, 'F#:': 395, 'F#:7(b9)': 396, 'F#:7(#9)': 397, 'F#:7(#11)': 398, 'F#:7(b13)': 399, 'G:maj': 400, 'G:min': 401, 'G:aug': 402, 'G:dim': 403, 'G:sus4': 404, 'G:sus2': 405, 'G:7': 406, 'G:maj7': 407, 'G:min7': 408, 'G:minmaj7': 409, 'G:maj6': 410, 'G:min6': 411, 'G:dim7': 412, 'G:hdim7': 413, 'G:maj9': 414, 'G:min9': 415, 'G:9': 416, 'G:min11': 417, 'G:11': 418, 'G:maj13': 419, 'G:min13': 420, 'G:13': 421, 'G:1': 422, 'G:5': 423, 'G:': 424, 'G:7(b9)': 425, 'G:7(#9)': 426, 'G:7(#11)': 427, 'G:7(b13)': 428, 'G#:maj': 429, 'G#:min': 430, 'G#:aug': 431, 'G#:dim': 432, 'G#:sus4': 433, 'G#:sus2': 434, 'G#:7': 435, 'G#:maj7': 436, 'G#:min7': 437, 'G#:minmaj7': 438, 'G#:maj6': 439, 'G#:min6': 440, 'G#:dim7': 441, 'G#:hdim7': 442, 'G#:maj9': 443, 'G#:min9': 444, 'G#:9': 445, 'G#:min11': 446, 'G#:11': 447, 'G#:maj13': 448, 'G#:min13': 449, 'G#:13': 450, 'G#:1': 451, 'G#:5': 452, 'G#:': 453, 'G#:7(b9)': 454, 'G#:7(#9)': 455, 'G#:7(#11)': 456, 'G#:7(b13)': 457, 'A:maj': 458, 'A:min': 459, 'A:aug': 460, 'A:dim': 461, 'A:sus4': 462, 'A:sus2': 463, 'A:7': 464, 'A:maj7': 465, 'A:min7': 466, 'A:minmaj7': 467, 'A:maj6': 468, 'A:min6': 469, 'A:dim7': 470, 'A:hdim7': 471, 'A:maj9': 472, 'A:min9': 473, 'A:9': 474, 'A:min11': 475, 'A:11': 476, 'A:maj13': 477, 'A:min13': 478, 'A:13': 479, 'A:1': 480, 'A:5': 481, 'A:': 482, 'A:7(b9)': 483, 'A:7(#9)': 484, 'A:7(#11)': 485, 'A:7(b13)': 486, 'A#:maj': 487, 'A#:min': 488, 'A#:aug': 489, 'A#:dim': 490, 'A#:sus4': 491, 'A#:sus2': 492, 'A#:7': 493, 'A#:maj7': 494, 'A#:min7': 495, 'A#:minmaj7': 496, 'A#:maj6': 497, 'A#:min6': 498, 'A#:dim7': 499, 'A#:hdim7': 500, 'A#:maj9': 501, 'A#:min9': 502, 'A#:9': 503, 'A#:min11': 504, 'A#:11': 505, 'A#:maj13': 506, 'A#:min13': 507, 'A#:13': 508, 'A#:1': 509, 'A#:5': 510, 'A#:': 511, 'A#:7(b9)': 512, 'A#:7(#9)': 513, 'A#:7(#11)': 514, 'A#:7(b13)': 515, 'B:maj': 516, 'B:min': 517, 'B:aug': 518, 'B:dim': 519, 'B:sus4': 520, 'B:sus2': 521, 'B:7': 522, 'B:maj7': 523, 'B:min7': 524, 'B:minmaj7': 525, 'B:maj6': 526, 'B:min6': 527, 'B:dim7': 528, 'B:hdim7': 529, 'B:maj9': 530, 'B:min9': 531, 'B:9': 532, 'B:min11': 533, 'B:11': 534, 'B:maj13': 535, 'B:min13': 536, 'B:13': 537, 'B:1': 538, 'B:5': 539, 'B:': 540, 'B:7(b9)': 541, 'B:7(#9)': 542, 'B:7(#11)': 543, 'B:7(b13)': 544}\n",
      "Training melody tokenizer\n",
      "Merging melody vocab\n",
      "Training harmony tokenizer\n",
      "Merging harmony vocab\n",
      "Processing melody\n"
     ]
    },
    {
     "name": "stderr",
     "output_type": "stream",
     "text": [
      "Processing Melody Files: 100%|██████████| 650/650 [00:24<00:00, 26.96it/s]\n"
     ]
    },
    {
     "name": "stdout",
     "output_type": "stream",
     "text": [
      "Processing harmony\n"
     ]
    },
    {
     "name": "stderr",
     "output_type": "stream",
     "text": [
      "Processing Files: 100%|██████████| 650/650 [00:47<00:00, 13.62it/s]"
     ]
    },
    {
     "name": "stdout",
     "output_type": "stream",
     "text": [
      "example sentence length:  137\n",
      "['<s>', '<bar>', 'ts_3x4', 'position_0x00', 'P:65', 'position_1x00', 'P:72', 'position_2x50', 'P:68', '<bar>', 'position_0x00', 'P:70', '<bar>', 'position_0x00', 'P:68', 'position_1x50', 'P:70', '<bar>', 'position_0x00', 'P:65', 'position_2x00', '<rest>', 'position_2x50', 'P:60', '<bar>', 'position_0x00', 'P:65', 'position_1x00', 'P:72', 'position_2x50', 'P:68', '<bar>', 'position_0x00', 'P:70', '<bar>', 'position_0x00', 'P:68', 'position_1x50', 'P:70', '<bar>', 'position_0x00', 'P:65', '<bar>', 'position_0x00', 'P:63', 'position_1x00', 'P:63', 'position_2x00', 'P:67', '<bar>', 'position_0x00', 'P:63', '<bar>', 'position_0x00', 'P:61', 'position_1x50', 'P:63', '<bar>', 'position_0x00', 'P:65', '<bar>', 'position_0x00', 'P:63', 'position_1x00', 'P:63', 'position_2x00', 'P:67', '<bar>', 'position_0x00', 'P:63', '<bar>', 'position_0x00', 'P:61', 'position_1x50', 'P:68', '<bar>', 'position_0x00', 'P:65', '</s>', '<h>', '<bar>', 'position_0x00', 'F:min7', '<bar>', 'position_0x00', 'G:min7', '<bar>', 'position_0x00', 'G#:maj7', 'position_1x50', 'G:min7', '<bar>', 'position_0x00', 'F:min7', '<bar>', 'position_0x00', 'F:min7', '<bar>', 'position_0x00', 'G:min7', '<bar>', 'position_0x00', 'G#:maj7', 'position_1x50', 'G:min7', '<bar>', 'position_0x00', 'F:min7', '<bar>', 'position_0x00', 'D#:maj', '<bar>', 'position_0x00', 'D#:maj', '<bar>', 'position_0x00', 'C#:maj', 'position_1x50', 'D#:maj', '<bar>', 'position_0x00', 'F:min7', '<bar>', 'position_0x00', 'D#:maj', '<bar>', 'position_0x00', 'D#:maj', '<bar>', 'position_0x00', 'C#:maj', 'position_1x50', 'D#:maj', '<bar>', 'position_0x00', 'F:min7', '</s>']\n",
      "[2, 6, 178, 95, 51, 103, 58, 115, 54, 6, 95, 56, 6, 95, 54, 107, 56, 6, 95, 51, 111, 4, 115, 46, 6, 95, 51, 103, 58, 115, 54, 6, 95, 56, 6, 95, 54, 107, 56, 6, 95, 51, 6, 95, 49, 103, 49, 111, 53, 6, 95, 49, 6, 95, 47, 107, 49, 6, 95, 51, 6, 95, 49, 103, 49, 111, 53, 6, 95, 49, 6, 95, 47, 107, 54, 6, 95, 51, 3, 7, 6, 8, 241, 6, 8, 299, 6, 8, 327, 20, 299, 6, 8, 241, 6, 8, 241, 6, 8, 299, 6, 8, 327, 20, 299, 6, 8, 241, 6, 8, 175, 6, 8, 175, 6, 8, 117, 20, 175, 6, 8, 241, 6, 8, 175, 6, 8, 175, 6, 8, 117, 20, 175, 6, 8, 241, 3]\n"
     ]
    },
    {
     "name": "stderr",
     "output_type": "stream",
     "text": [
      "\n"
     ]
    }
   ],
   "source": [
    "# Fixing combined MergedMelHarmTokenizer\n",
    "print('Length of combined vocab:', len(m_chordSymbolTokenizer.vocab))\n",
    "print('Combined vocab:', m_chordSymbolTokenizer.vocab)\n",
    "\n",
    "m_chordSymbolTokenizer.fit( data_files )\n",
    "toks_symb_m = m_chordSymbolTokenizer(data_files)\n",
    "print('example sentence length: ', len(toks_symb_m['tokens'][0]))\n",
    "print(toks_symb_m['tokens'][0])\n",
    "print(toks_symb_m['ids'][0])\n",
    "\n"
   ]
  },
  {
   "cell_type": "code",
   "execution_count": 13,
   "metadata": {},
   "outputs": [
    {
     "name": "stdout",
     "output_type": "stream",
     "text": [
      "[5, 203]\n",
      "[180, 154]\n"
     ]
    }
   ],
   "source": [
    "print(m_chordSymbolTokenizer.convert_tokens_to_ids(['<mask>', 'C:7']))\n",
    "print(m_chordSymbolTokenizer.convert_tokens_to_ids(['ts_4x4', 'position_7x33']))"
   ]
  },
  {
   "cell_type": "code",
   "execution_count": 16,
   "metadata": {},
   "outputs": [
    {
     "name": "stdout",
     "output_type": "stream",
     "text": [
      "Processing melody\n",
      "Processing harmony\n",
      "['<s>', '<bar>', 'ts_4x4', 'position_0x00', '<rest>', 'position_0x50', 'P:60', 'position_1x00', 'P:62', 'position_1x50', 'P:60', 'position_2x00', 'P:67', 'position_2x50', 'P:67', '<bar>', 'position_0x00', '<rest>', 'position_0x50', 'P:62', 'position_1x00', 'P:64', 'position_1x50', 'P:62', 'position_2x00', 'P:69', '<bar>', 'position_0x00', '<rest>', 'position_0x50', 'P:67', 'position_1x00', 'P:69', 'position_1x50', 'P:67', 'position_2x00', 'P:72', 'position_2x50', 'P:72', 'position_3x50', 'P:71', '<bar>', 'position_0x00', 'P:74', 'position_0x50', 'P:72', 'position_1x00', 'P:69', 'position_1x50', 'P:64', 'position_2x00', 'P:64', 'position_2x50', 'P:63', 'position_3x00', 'P:62', '<bar>', 'position_0x00', '<rest>', 'position_0x50', 'P:60', 'position_1x00', 'P:62', 'position_1x50', 'P:60', 'position_2x00', 'P:67', 'position_2x50', 'P:67', '<bar>', 'position_0x00', '<rest>', 'position_0x50', 'P:62', 'position_1x00', 'P:64', 'position_1x50', 'P:62', 'position_2x00', 'P:69', 'position_2x50', 'P:69', 'position_3x50', 'P:67', '<bar>', 'position_0x00', 'P:64', 'position_0x00', 'P:61', 'position_1x00', 'P:60', 'position_2x00', 'P:59', 'position_3x00', 'P:58', '<bar>', 'position_0x00', 'P:64', 'position_0x00', 'P:59', 'position_1x00', 'P:58', 'position_2x00', 'P:57', 'position_3x00', 'P:56', '<bar>', 'position_0x00', 'P:60', '<bar>', 'position_0x00', 'P:60', 'position_3x00', '<rest>', '<bar>', 'position_0x00', '<rest>', 'position_1x00', 'P:72', 'position_1x50', 'P:69', 'position_2x00', 'P:72', 'position_2x50', 'P:69', 'position_3x00', 'P:69', '<bar>', 'position_0x00', '<rest>', 'position_1x00', 'P:72', 'position_1x50', 'P:69', 'position_2x00', 'P:72', 'position_2x50', 'P:69', 'position_3x00', 'P:69', '<bar>', 'position_0x00', '<rest>', 'position_1x00', 'P:72', 'position_1x50', 'P:69', 'position_2x00', 'P:72', 'position_2x50', 'P:69', 'position_3x00', 'P:69', '<bar>', 'position_0x00', '<rest>', 'position_1x00', 'P:73', 'position_1x50', 'P:69', 'position_2x00', 'P:73', 'position_2x50', 'P:69', 'position_3x00', 'P:69', '<bar>', 'position_0x00', '<rest>', 'position_1x00', 'P:74', 'position_2x00', 'P:74', 'position_3x00', 'P:74', '<bar>', 'position_0x00', 'P:74', 'position_1x00', 'P:72', 'position_2x00', 'P:71', 'position_3x00', 'P:69', '<bar>', 'position_0x00', 'P:67', 'position_2x00', 'P:69', '<bar>', 'position_0x00', 'P:64', 'position_2x00', 'P:62', '<bar>', 'position_0x00', '<rest>', 'position_0x50', 'P:60', 'position_1x00', 'P:62', 'position_1x50', 'P:60', 'position_2x00', 'P:67', 'position_2x50', 'P:67', '<bar>', 'position_0x00', '<rest>', 'position_0x50', 'P:62', 'position_1x00', 'P:64', 'position_1x50', 'P:62', 'position_2x00', 'P:69', '<bar>', 'position_0x00', '<rest>', 'position_0x50', 'P:67', 'position_1x00', 'P:69', 'position_1x50', 'P:67', 'position_2x00', 'P:72', 'position_2x50', 'P:72', 'position_3x50', 'P:71', '<bar>', 'position_0x00', 'P:74', 'position_0x50', 'P:72', 'position_1x00', 'P:69', 'position_1x50', 'P:64', 'position_2x00', 'P:64', 'position_2x50', 'P:63', 'position_3x00', 'P:62', '<bar>', 'position_0x00', '<rest>', 'position_0x50', 'P:60', 'position_1x00', 'P:62', 'position_1x50', 'P:60', 'position_2x00', 'P:67', 'position_2x50', 'P:67', '<bar>', 'position_0x00', '<rest>', 'position_0x50', 'P:62', 'position_1x00', 'P:64', 'position_1x50', 'P:62', 'position_2x00', 'P:69', 'position_2x50', 'P:69', 'position_3x50', 'P:67', '<bar>', 'position_0x00', 'P:72', '<bar>', 'position_0x00', '<rest>', 'position_2x00', '<rest>', '<h>', '<bar>', 'position_0x00', 'C:maj6', 'position_2x00', 'A:7', '<bar>', 'position_0x00', 'D:min7', 'position_2x00', 'G:7', '<bar>', 'position_0x00', 'C:maj6', 'position_2x00', 'E:aug', '<bar>', 'position_0x00', 'F:maj6', 'position_2x00', 'F:min6', '<bar>', 'position_0x00', 'C:maj6', 'position_2x00', 'A:7', '<bar>', 'position_0x00', 'D:min7', 'position_2x00', 'G:7', '<bar>', 'position_0x00', 'E:7', 'position_2x00', 'A:7', '<bar>', 'position_0x00', 'D:9', 'position_2x00', 'G:7', '<bar>', 'position_0x00', 'C:maj6', 'position_2x00', 'F:maj6', 'position_3x00', 'F:min6', '<bar>', 'position_0x00', 'C:maj6', 'position_2x00', 'E:7', '<bar>', 'position_0x00', 'A:min', '<bar>', 'position_0x00', 'F:7', '<bar>', 'position_0x00', 'D:7', '<bar>', 'position_0x00', 'A:7', '<bar>', 'position_0x00', 'G:maj6', 'position_2x00', 'E:7', '<bar>', 'position_0x00', 'A:min7', 'position_2x00', 'D:7', '<bar>', 'position_0x00', 'G:7', 'position_2x00', 'A:7', '<bar>', 'position_0x00', 'D:min7', 'position_2x00', 'G:7', '<bar>', 'position_0x00', 'C:maj6', 'position_2x00', 'A:7', '<bar>', 'position_0x00', 'D:min7', 'position_2x00', 'G:7', '<bar>', 'position_0x00', 'C:maj6', 'position_2x00', 'E:aug', '<bar>', 'position_0x00', 'F:maj6', 'position_2x00', 'F:min6', '<bar>', 'position_0x00', 'C:maj6', 'position_2x00', 'A:7', '<bar>', 'position_0x00', 'D:min7', 'position_2x00', 'G:7', '<bar>', 'position_0x00', 'C:maj6', 'position_2x00', 'A:min7', '<bar>', 'position_0x00', 'D:min7', 'position_2x00', 'G:7', '<pad>', '<pad>', '<pad>', '<pad>', '<pad>', '<pad>', '<pad>', '<pad>', '<pad>', '<pad>', '<pad>', '<pad>', '<pad>', '<pad>', '<pad>', '<pad>', '<pad>', '<pad>', '<pad>', '<pad>', '<pad>', '<pad>', '<pad>', '<pad>', '<pad>', '<pad>', '<pad>', '<pad>', '<pad>', '<pad>', '<pad>', '<pad>', '<pad>', '<pad>', '<pad>', '<pad>', '<pad>', '<pad>', '<pad>', '<pad>', '<pad>', '<pad>', '<pad>', '<pad>', '<pad>', '<pad>', '<pad>', '<pad>', '<pad>', '<pad>', '<pad>', '<pad>', '<pad>', '<pad>', '<pad>', '<pad>', '<pad>', '<pad>', '<pad>', '<pad>', '<pad>', '<pad>', '<pad>', '<pad>', '<pad>', '<pad>', '<pad>', '<pad>', '<pad>', '<pad>', '<pad>', '<pad>', '<pad>', '<pad>', '<pad>', '<pad>', '<pad>', '<pad>', '<pad>', '<pad>', '<pad>', '<pad>', '<pad>', '<pad>', '<pad>', '<pad>', '<pad>', '<pad>', '<pad>', '<pad>', '<pad>', '<pad>', '<pad>', '<pad>', '<pad>', '<pad>', '<pad>', '<pad>', '<pad>', '<pad>', '<pad>', '<pad>', '<pad>', '<pad>', '<pad>', '<pad>', '<pad>', '<pad>', '<pad>', '<pad>', '<pad>', '<pad>', '<pad>', '<pad>', '<pad>', '<pad>', '<pad>', '<pad>', '<pad>', '<pad>', '<pad>', '<pad>', '<pad>', '<pad>', '<pad>', '<pad>', '<pad>', '<pad>', '<pad>', '<pad>', '<pad>', '<pad>', '<pad>', '<pad>', '<pad>', '<pad>', '<pad>', '<pad>', '<pad>', '<pad>', '<pad>', '<pad>', '<pad>', '<pad>', '<pad>', '<pad>', '<pad>', '<pad>', '<pad>', '<pad>', '<pad>', '<pad>', '<pad>', '<pad>', '<pad>', '<pad>', '<pad>', '<pad>', '<pad>', '<pad>', '<pad>', '<pad>', '<pad>', '<pad>', '<pad>', '<pad>', '<pad>', '<pad>', '<pad>', '<pad>', '<pad>', '<pad>', '<pad>', '<pad>', '<pad>', '<pad>', '<pad>', '<pad>', '<pad>', '<pad>', '<pad>', '<pad>', '<pad>', '<pad>', '<pad>', '<pad>', '<pad>', '<pad>', '<pad>', '<pad>', '<pad>', '<pad>', '<pad>', '<pad>', '<pad>', '<pad>', '<pad>', '<pad>', '<pad>', '<pad>', '<pad>', '<pad>', '<pad>', '<pad>', '<pad>', '<pad>', '<pad>', '<pad>', '<pad>', '<pad>', '<pad>', '<pad>', '<pad>', '<pad>', '<pad>', '<pad>', '<pad>', '<pad>', '<pad>', '<pad>', '<pad>', '<pad>', '<pad>', '<pad>', '<pad>', '<pad>', '<pad>', '<pad>', '<pad>', '<pad>', '<pad>', '<pad>', '<pad>', '<pad>', '<pad>', '<pad>', '<pad>', '<pad>', '<pad>', '<pad>', '<pad>', '<pad>', '<pad>', '<pad>', '<pad>', '<pad>', '<pad>', '<pad>', '<pad>', '<pad>', '<pad>', '<pad>', '<pad>', '<pad>', '<pad>', '<pad>', '<pad>', '<pad>', '<pad>', '<pad>', '<pad>', '<pad>', '<pad>', '<pad>', '<pad>', '<pad>', '<pad>', '<pad>', '<pad>', '<pad>', '<pad>', '<pad>', '<pad>', '<pad>', '<pad>', '<pad>', '<pad>', '<pad>', '<pad>', '<pad>', '<pad>', '<pad>', '<pad>', '<pad>', '<pad>', '<pad>', '<pad>', '<pad>', '<pad>', '<pad>', '<pad>', '<pad>', '<pad>', '<pad>', '<pad>', '<pad>', '<pad>', '<pad>', '<pad>', '<pad>', '<pad>', '<pad>', '<pad>', '<pad>', '<pad>', '<pad>', '<pad>', '<pad>', '<pad>', '<pad>', '<pad>', '<pad>', '<pad>', '<pad>', '<pad>', '<pad>', '<pad>', '<pad>', '<pad>', '<pad>', '<pad>', '<pad>', '<pad>', '<pad>', '<pad>', '<pad>', '<pad>', '<pad>', '<pad>', '<pad>', '<pad>', '<pad>', '<pad>', '<pad>', '<pad>', '<pad>', '<pad>', '<pad>', '<pad>', '<pad>', '<pad>', '<pad>', '<pad>', '<pad>', '<pad>', '<pad>', '<pad>', '<pad>', '<pad>', '<pad>', '<pad>', '<pad>', '<pad>', '<pad>', '<pad>', '<pad>', '<pad>', '<pad>', '<pad>', '<pad>', '<pad>', '<pad>', '<pad>', '<pad>', '<pad>', '<pad>', '<pad>', '<pad>', '<pad>', '<pad>', '<pad>', '<pad>', '<pad>', '<pad>', '<pad>', '<pad>', '<pad>', '<pad>', '<pad>', '<pad>', '<pad>', '<pad>', '<pad>', '<pad>', '<pad>', '<pad>', '<pad>', '<pad>', '<pad>', '<pad>', '<pad>', '<pad>', '<pad>', '<pad>', '<pad>', '<pad>', '<pad>', '<pad>', '<pad>', '<pad>', '<pad>', '<pad>', '<pad>', '<pad>', '<pad>', '<pad>', '<pad>', '<pad>', '<pad>', '<pad>', '<pad>', '<pad>', '<pad>', '<pad>', '<pad>', '<pad>', '<pad>', '<pad>', '<pad>', '<pad>', '<pad>', '<pad>', '<pad>', '<pad>', '<pad>', '<pad>', '<pad>', '<pad>', '<pad>', '<pad>', '<pad>', '<pad>', '<pad>', '<pad>', '<pad>', '<pad>', '<pad>', '<pad>', '<pad>', '<pad>', '<pad>', '<pad>', '<pad>', '<pad>', '<pad>', '<pad>', '<pad>', '<pad>', '<pad>', '<pad>', '<pad>', '<pad>', '<pad>', '<pad>', '<pad>', '<pad>', '<pad>', '<pad>', '<pad>', '<pad>', '<pad>', '<pad>', '<pad>', '<pad>', '<pad>', '<pad>', '<pad>', '<pad>', '<pad>', '<pad>', '<pad>', '<pad>', '<pad>', '<pad>', '<pad>', '<pad>', '<pad>', '<pad>', '<pad>', '<pad>', '<pad>', '<pad>', '<pad>', '<pad>', '<pad>', '<pad>', '<pad>', '<pad>', '<pad>', '<pad>', '<pad>', '<pad>', '<pad>', '<pad>', '<pad>', '<pad>', '<pad>', '<pad>', '<pad>', '<pad>', '<pad>', '<pad>', '<pad>', '<pad>', '<pad>', '<pad>', '<pad>', '<pad>', '<pad>', '<pad>', '<pad>', '<pad>', '<pad>', '<pad>', '<pad>', '<pad>', '<pad>', '<pad>', '<pad>', '<pad>', '<pad>', '<pad>', '<pad>', '<pad>', '<pad>', '<pad>', '<pad>', '<pad>', '<pad>', '<pad>', '<pad>', '<pad>', '<pad>', '<pad>', '<pad>', '<pad>', '<pad>', '<pad>', '<pad>', '<pad>', '<pad>', '<pad>', '<pad>', '<pad>', '<pad>', '<pad>', '<pad>', '<pad>', '<pad>', '<pad>', '<pad>', '<pad>', '<pad>', '<pad>', '<pad>', '<pad>', '<pad>', '<pad>', '<pad>', '<pad>', '<pad>', '<pad>', '<pad>', '<pad>', '<pad>', '<pad>', '<pad>', '<pad>', '<pad>', '<pad>', '<pad>', '<pad>', '<pad>', '<pad>', '<pad>', '<pad>', '<pad>', '<pad>', '<pad>', '<pad>', '<pad>', '<pad>', '<pad>', '<pad>', '<pad>', '<pad>', '<pad>', '<pad>', '<pad>', '<pad>', '<pad>', '<pad>', '<pad>', '<pad>', '<pad>', '<pad>', '<pad>', '<pad>', '<pad>', '<pad>', '<pad>', '<pad>', '<pad>', '<pad>', '<pad>', '<pad>', '<pad>', '<pad>', '<pad>', '<pad>', '<pad>', '<pad>', '<pad>', '<pad>', '<pad>']\n",
      "[2, 6, 180, 95, 4, 99, 46, 103, 48, 107, 46, 111, 53, 115, 53, 6, 95, 4, 99, 48, 103, 50, 107, 48, 111, 55, 6, 95, 4, 99, 53, 103, 55, 107, 53, 111, 58, 115, 58, 123, 57, 6, 95, 60, 99, 58, 103, 55, 107, 50, 111, 50, 115, 49, 119, 48, 6, 95, 4, 99, 46, 103, 48, 107, 46, 111, 53, 115, 53, 6, 95, 4, 99, 48, 103, 50, 107, 48, 111, 55, 115, 55, 123, 53, 6, 95, 50, 95, 47, 103, 46, 111, 45, 119, 44, 6, 95, 50, 95, 45, 103, 44, 111, 43, 119, 42, 6, 95, 46, 6, 95, 46, 119, 4, 6, 95, 4, 103, 58, 107, 55, 111, 58, 115, 55, 119, 55, 6, 95, 4, 103, 58, 107, 55, 111, 58, 115, 55, 119, 55, 6, 95, 4, 103, 58, 107, 55, 111, 58, 115, 55, 119, 55, 6, 95, 4, 103, 59, 107, 55, 111, 59, 115, 55, 119, 55, 6, 95, 4, 103, 60, 111, 60, 119, 60, 6, 95, 60, 103, 58, 111, 57, 119, 55, 6, 95, 53, 111, 55, 6, 95, 50, 111, 48, 6, 95, 4, 99, 46, 103, 48, 107, 46, 111, 53, 115, 53, 6, 95, 4, 99, 48, 103, 50, 107, 48, 111, 55, 6, 95, 4, 99, 53, 103, 55, 107, 53, 111, 58, 115, 58, 123, 57, 6, 95, 60, 99, 58, 103, 55, 107, 50, 111, 50, 115, 49, 119, 48, 6, 95, 4, 99, 46, 103, 48, 107, 46, 111, 53, 115, 53, 6, 95, 4, 99, 48, 103, 50, 107, 48, 111, 55, 115, 55, 123, 53, 6, 95, 58, 6, 95, 4, 111, 4, 7, 6, 8, 98, 24, 355, 6, 8, 154, 24, 297, 6, 8, 98, 24, 206, 6, 8, 243, 24, 244, 6, 8, 98, 24, 355, 6, 8, 154, 24, 297, 6, 8, 210, 24, 355, 6, 8, 162, 24, 297, 6, 8, 98, 24, 243, 32, 244, 6, 8, 98, 24, 210, 6, 8, 350, 6, 8, 239, 6, 8, 152, 6, 8, 355, 6, 8, 301, 24, 210, 6, 8, 357, 24, 152, 6, 8, 297, 24, 355, 6, 8, 154, 24, 297, 6, 8, 98, 24, 355, 6, 8, 154, 24, 297, 6, 8, 98, 24, 206, 6, 8, 243, 24, 244, 6, 8, 98, 24, 355, 6, 8, 154, 24, 297, 6, 8, 98, 24, 357, 6, 8, 154, 24, 297, 1, 1, 1, 1, 1, 1, 1, 1, 1, 1, 1, 1, 1, 1, 1, 1, 1, 1, 1, 1, 1, 1, 1, 1, 1, 1, 1, 1, 1, 1, 1, 1, 1, 1, 1, 1, 1, 1, 1, 1, 1, 1, 1, 1, 1, 1, 1, 1, 1, 1, 1, 1, 1, 1, 1, 1, 1, 1, 1, 1, 1, 1, 1, 1, 1, 1, 1, 1, 1, 1, 1, 1, 1, 1, 1, 1, 1, 1, 1, 1, 1, 1, 1, 1, 1, 1, 1, 1, 1, 1, 1, 1, 1, 1, 1, 1, 1, 1, 1, 1, 1, 1, 1, 1, 1, 1, 1, 1, 1, 1, 1, 1, 1, 1, 1, 1, 1, 1, 1, 1, 1, 1, 1, 1, 1, 1, 1, 1, 1, 1, 1, 1, 1, 1, 1, 1, 1, 1, 1, 1, 1, 1, 1, 1, 1, 1, 1, 1, 1, 1, 1, 1, 1, 1, 1, 1, 1, 1, 1, 1, 1, 1, 1, 1, 1, 1, 1, 1, 1, 1, 1, 1, 1, 1, 1, 1, 1, 1, 1, 1, 1, 1, 1, 1, 1, 1, 1, 1, 1, 1, 1, 1, 1, 1, 1, 1, 1, 1, 1, 1, 1, 1, 1, 1, 1, 1, 1, 1, 1, 1, 1, 1, 1, 1, 1, 1, 1, 1, 1, 1, 1, 1, 1, 1, 1, 1, 1, 1, 1, 1, 1, 1, 1, 1, 1, 1, 1, 1, 1, 1, 1, 1, 1, 1, 1, 1, 1, 1, 1, 1, 1, 1, 1, 1, 1, 1, 1, 1, 1, 1, 1, 1, 1, 1, 1, 1, 1, 1, 1, 1, 1, 1, 1, 1, 1, 1, 1, 1, 1, 1, 1, 1, 1, 1, 1, 1, 1, 1, 1, 1, 1, 1, 1, 1, 1, 1, 1, 1, 1, 1, 1, 1, 1, 1, 1, 1, 1, 1, 1, 1, 1, 1, 1, 1, 1, 1, 1, 1, 1, 1, 1, 1, 1, 1, 1, 1, 1, 1, 1, 1, 1, 1, 1, 1, 1, 1, 1, 1, 1, 1, 1, 1, 1, 1, 1, 1, 1, 1, 1, 1, 1, 1, 1, 1, 1, 1, 1, 1, 1, 1, 1, 1, 1, 1, 1, 1, 1, 1, 1, 1, 1, 1, 1, 1, 1, 1, 1, 1, 1, 1, 1, 1, 1, 1, 1, 1, 1, 1, 1, 1, 1, 1, 1, 1, 1, 1, 1, 1, 1, 1, 1, 1, 1, 1, 1, 1, 1, 1, 1, 1, 1, 1, 1, 1, 1, 1, 1, 1, 1, 1, 1, 1, 1, 1, 1, 1, 1, 1, 1, 1, 1, 1, 1, 1, 1, 1, 1, 1, 1, 1, 1, 1, 1, 1, 1, 1, 1, 1, 1, 1, 1, 1, 1, 1, 1, 1, 1, 1, 1, 1, 1, 1, 1, 1, 1, 1, 1, 1, 1, 1, 1, 1, 1, 1, 1, 1, 1, 1, 1, 1, 1, 1, 1, 1, 1, 1, 1, 1, 1, 1, 1, 1, 1, 1, 1, 1, 1, 1, 1, 1, 1, 1, 1, 1, 1, 1, 1, 1, 1, 1, 1, 1, 1, 1, 1, 1, 1, 1, 1, 1, 1, 1, 1, 1, 1, 1, 1, 1, 1, 1, 1, 1, 1, 1, 1, 1, 1, 1, 1, 1, 1, 1, 1, 1, 1, 1, 1, 1, 1, 1, 1, 1, 1, 1, 1, 1, 1, 1, 1, 1, 1, 1, 1, 1, 1, 1, 1, 1, 1, 1, 1, 1, 1, 1, 1, 1, 1, 1, 1, 1, 1, 1, 1, 1, 1, 1, 1, 1, 1, 1, 1, 1, 1, 1, 1, 1, 1, 1, 1, 1, 1, 1, 1, 1, 1, 1, 1, 1, 1, 1, 1, 1, 1, 1, 1]\n",
      "[1, 1, 1, 1, 1, 1, 1, 1, 1, 1, 1, 1, 1, 1, 1, 1, 1, 1, 1, 1, 1, 1, 1, 1, 1, 1, 1, 1, 1, 1, 1, 1, 1, 1, 1, 1, 1, 1, 1, 1, 1, 1, 1, 1, 1, 1, 1, 1, 1, 1, 1, 1, 1, 1, 1, 1, 1, 1, 1, 1, 1, 1, 1, 1, 1, 1, 1, 1, 1, 1, 1, 1, 1, 1, 1, 1, 1, 1, 1, 1, 1, 1, 1, 1, 1, 1, 1, 1, 1, 1, 1, 1, 1, 1, 1, 1, 1, 1, 1, 1, 1, 1, 1, 1, 1, 1, 1, 1, 1, 1, 1, 1, 1, 1, 1, 1, 1, 1, 1, 1, 1, 1, 1, 1, 1, 1, 1, 1, 1, 1, 1, 1, 1, 1, 1, 1, 1, 1, 1, 1, 1, 1, 1, 1, 1, 1, 1, 1, 1, 1, 1, 1, 1, 1, 1, 1, 1, 1, 1, 1, 1, 1, 1, 1, 1, 1, 1, 1, 1, 1, 1, 1, 1, 1, 1, 1, 1, 1, 1, 1, 1, 1, 1, 1, 1, 1, 1, 1, 1, 1, 1, 1, 1, 1, 1, 1, 1, 1, 1, 1, 1, 1, 1, 1, 1, 1, 1, 1, 1, 1, 1, 1, 1, 1, 1, 1, 1, 1, 1, 1, 1, 1, 1, 1, 1, 1, 1, 1, 1, 1, 1, 1, 1, 1, 1, 1, 1, 1, 1, 1, 1, 1, 1, 1, 1, 1, 1, 1, 1, 1, 1, 1, 1, 1, 1, 1, 1, 1, 1, 1, 1, 1, 1, 1, 1, 1, 1, 1, 1, 1, 1, 1, 1, 1, 1, 1, 1, 1, 1, 1, 1, 1, 1, 1, 1, 1, 1, 1, 1, 1, 1, 1, 1, 1, 1, 1, 1, 1, 1, 1, 1, 1, 1, 1, 1, 1, 1, 1, 1, 1, 1, 1, 1, 1, 1, 1, 1, 1, 1, 1, 1, 1, 1, 1, 1, 1, 1, 1, 1, 1, 1, 1, 1, 1, 1, 1, 1, 1, 1, 1, 1, 1, 1, 1, 1, 1, 1, 1, 1, 1, 1, 1, 1, 1, 1, 1, 1, 1, 1, 1, 1, 1, 1, 1, 1, 1, 1, 1, 1, 1, 1, 1, 1, 1, 1, 1, 1, 1, 1, 1, 1, 1, 1, 1, 1, 1, 1, 1, 1, 1, 1, 1, 1, 1, 1, 1, 1, 1, 1, 1, 1, 1, 1, 1, 1, 1, 1, 1, 1, 0, 0, 0, 0, 0, 0, 0, 0, 0, 0, 0, 0, 0, 0, 0, 0, 0, 0, 0, 0, 0, 0, 0, 0, 0, 0, 0, 0, 0, 0, 0, 0, 0, 0, 0, 0, 0, 0, 0, 0, 0, 0, 0, 0, 0, 0, 0, 0, 0, 0, 0, 0, 0, 0, 0, 0, 0, 0, 0, 0, 0, 0, 0, 0, 0, 0, 0, 0, 0, 0, 0, 0, 0, 0, 0, 0, 0, 0, 0, 0, 0, 0, 0, 0, 0, 0, 0, 0, 0, 0, 0, 0, 0, 0, 0, 0, 0, 0, 0, 0, 0, 0, 0, 0, 0, 0, 0, 0, 0, 0, 0, 0, 0, 0, 0, 0, 0, 0, 0, 0, 0, 0, 0, 0, 0, 0, 0, 0, 0, 0, 0, 0, 0, 0, 0, 0, 0, 0, 0, 0, 0, 0, 0, 0, 0, 0, 0, 0, 0, 0, 0, 0, 0, 0, 0, 0, 0, 0, 0, 0, 0, 0, 0, 0, 0, 0, 0, 0, 0, 0, 0, 0, 0, 0, 0, 0, 0, 0, 0, 0, 0, 0, 0, 0, 0, 0, 0, 0, 0, 0, 0, 0, 0, 0, 0, 0, 0, 0, 0, 0, 0, 0, 0, 0, 0, 0, 0, 0, 0, 0, 0, 0, 0, 0, 0, 0, 0, 0, 0, 0, 0, 0, 0, 0, 0, 0, 0, 0, 0, 0, 0, 0, 0, 0, 0, 0, 0, 0, 0, 0, 0, 0, 0, 0, 0, 0, 0, 0, 0, 0, 0, 0, 0, 0, 0, 0, 0, 0, 0, 0, 0, 0, 0, 0, 0, 0, 0, 0, 0, 0, 0, 0, 0, 0, 0, 0, 0, 0, 0, 0, 0, 0, 0, 0, 0, 0, 0, 0, 0, 0, 0, 0, 0, 0, 0, 0, 0, 0, 0, 0, 0, 0, 0, 0, 0, 0, 0, 0, 0, 0, 0, 0, 0, 0, 0, 0, 0, 0, 0, 0, 0, 0, 0, 0, 0, 0, 0, 0, 0, 0, 0, 0, 0, 0, 0, 0, 0, 0, 0, 0, 0, 0, 0, 0, 0, 0, 0, 0, 0, 0, 0, 0, 0, 0, 0, 0, 0, 0, 0, 0, 0, 0, 0, 0, 0, 0, 0, 0, 0, 0, 0, 0, 0, 0, 0, 0, 0, 0, 0, 0, 0, 0, 0, 0, 0, 0, 0, 0, 0, 0, 0, 0, 0, 0, 0, 0, 0, 0, 0, 0, 0, 0, 0, 0, 0, 0, 0, 0, 0, 0, 0, 0, 0, 0, 0, 0, 0, 0, 0, 0, 0, 0, 0, 0, 0, 0, 0, 0, 0, 0, 0, 0, 0, 0, 0, 0, 0, 0, 0, 0, 0, 0, 0, 0, 0, 0, 0, 0, 0, 0, 0, 0, 0, 0, 0, 0, 0, 0, 0, 0, 0, 0, 0, 0, 0, 0, 0, 0, 0, 0, 0, 0, 0, 0, 0, 0, 0, 0, 0, 0, 0, 0, 0, 0, 0, 0, 0, 0, 0, 0, 0, 0, 0, 0, 0, 0, 0, 0, 0, 0, 0, 0, 0, 0, 0, 0, 0, 0, 0, 0, 0, 0, 0, 0, 0, 0, 0, 0, 0, 0, 0, 0, 0, 0, 0, 0, 0, 0, 0, 0, 0, 0, 0, 0, 0, 0, 0, 0, 0, 0, 0, 0, 0, 0, 0, 0, 0, 0, 0, 0, 0, 0, 0, 0, 0, 0, 0, 0, 0, 0, 0, 0, 0, 0, 0, 0, 0, 0, 0, 0, 0, 0, 0, 0, 0, 0, 0, 0, 0, 0, 0, 0, 0, 0, 0, 0, 0, 0, 0, 0, 0, 0, 0, 0, 0, 0, 0, 0, 0, 0, 0, 0, 0, 0, 0, 0, 0, 0, 0, 0, 0, 0, 0, 0, 0]\n",
      "1024\n",
      "1024\n",
      "1024\n"
     ]
    },
    {
     "name": "stderr",
     "output_type": "stream",
     "text": [
      "C:\\Users\\dimak\\AppData\\Roaming\\Python\\Python311\\site-packages\\music21\\stream\\base.py:3689: Music21DeprecationWarning: .flat is deprecated.  Call .flatten() instead\n",
      "  return self.iter().getElementsByClass(classFilterList)\n"
     ]
    },
    {
     "name": "stdout",
     "output_type": "stream",
     "text": [
      "{0.0} <music21.stream.Measure 1 offset=0.0>\n",
      "    {0.0} <music21.meter.TimeSignature 4/4>\n",
      "    {0.0} <music21.harmony.ChordSymbol C6>\n",
      "    {0.0} <music21.note.Rest eighth>\n",
      "    {0.5} <music21.note.Note C>\n",
      "    {1.0} <music21.note.Note D>\n",
      "    {1.5} <music21.note.Note C>\n",
      "    {2.0} <music21.harmony.ChordSymbol A7>\n",
      "    {2.0} <music21.note.Note G>\n",
      "    {2.5} <music21.note.Note G>\n",
      "{4.0} <music21.stream.Measure 2 offset=4.0>\n",
      "    {0.0} <music21.harmony.ChordSymbol Dm7>\n",
      "    {0.0} <music21.note.Rest eighth>\n",
      "    {0.5} <music21.note.Note D>\n",
      "    {1.0} <music21.note.Note E>\n",
      "    {1.5} <music21.note.Note D>\n",
      "    {2.0} <music21.harmony.ChordSymbol G7>\n",
      "    {2.0} <music21.note.Note A>\n",
      "{8.0} <music21.stream.Measure 3 offset=8.0>\n",
      "    {0.0} <music21.harmony.ChordSymbol C6>\n",
      "    {0.0} <music21.note.Rest eighth>\n",
      "    {0.5} <music21.note.Note G>\n",
      "    {1.0} <music21.note.Note A>\n",
      "    {1.5} <music21.note.Note G>\n",
      "    {2.0} <music21.harmony.ChordSymbol E+>\n",
      "    {2.0} <music21.note.Note C>\n",
      "    {2.5} <music21.note.Note C>\n",
      "    {3.5} <music21.note.Note B>\n",
      "{12.0} <music21.stream.Measure 4 offset=12.0>\n",
      "    {0.0} <music21.harmony.ChordSymbol F6>\n",
      "    {0.0} <music21.note.Note D>\n",
      "    {0.5} <music21.note.Note C>\n",
      "    {1.0} <music21.note.Note A>\n",
      "    {1.5} <music21.note.Note E>\n",
      "    {2.0} <music21.harmony.ChordSymbol Fm6>\n",
      "    {2.0} <music21.note.Note E>\n",
      "    {2.5} <music21.note.Note E->\n",
      "    {3.0} <music21.note.Note D>\n",
      "{16.0} <music21.stream.Measure 5 offset=16.0>\n",
      "    {0.0} <music21.harmony.ChordSymbol C6>\n",
      "    {0.0} <music21.note.Rest eighth>\n",
      "    {0.5} <music21.note.Note C>\n",
      "    {1.0} <music21.note.Note D>\n",
      "    {1.5} <music21.note.Note C>\n",
      "    {2.0} <music21.harmony.ChordSymbol A7>\n",
      "    {2.0} <music21.note.Note G>\n",
      "    {2.5} <music21.note.Note G>\n",
      "{20.0} <music21.stream.Measure 6 offset=20.0>\n",
      "    {0.0} <music21.harmony.ChordSymbol Dm7>\n",
      "    {0.0} <music21.note.Rest eighth>\n",
      "    {0.5} <music21.note.Note D>\n",
      "    {1.0} <music21.note.Note E>\n",
      "    {1.5} <music21.note.Note D>\n",
      "    {2.0} <music21.harmony.ChordSymbol G7>\n",
      "    {2.0} <music21.note.Note A>\n",
      "    {2.5} <music21.note.Note A>\n",
      "    {3.5} <music21.note.Note G>\n",
      "{24.0} <music21.stream.Measure 7 offset=24.0>\n",
      "    {0.0} <music21.harmony.ChordSymbol E7>\n",
      "    {0.0} <music21.note.Note E>\n",
      "    {1.0} <music21.note.Note C#>\n",
      "    {2.0} <music21.harmony.ChordSymbol A7>\n",
      "    {2.0} <music21.note.Note C>\n",
      "    {3.0} <music21.note.Note B>\n",
      "    {4.0} <music21.note.Note B->\n",
      "{29.0} <music21.stream.Measure 8 offset=29.0>\n",
      "    {0.0} <music21.harmony.ChordSymbol D9>\n",
      "    {0.0} <music21.note.Note E>\n",
      "    {1.0} <music21.note.Note B>\n",
      "    {2.0} <music21.harmony.ChordSymbol G7>\n",
      "    {2.0} <music21.note.Note B->\n",
      "    {3.0} <music21.note.Note A>\n",
      "    {4.0} <music21.note.Note G#>\n",
      "{34.0} <music21.stream.Measure 9 offset=34.0>\n",
      "    {0.0} <music21.harmony.ChordSymbol C6>\n",
      "    {0.0} <music21.note.Note C>\n",
      "    {2.0} <music21.harmony.ChordSymbol F6>\n",
      "    {3.0} <music21.harmony.ChordSymbol Fm6>\n",
      "{38.0} <music21.stream.Measure 10 offset=38.0>\n",
      "    {0.0} <music21.harmony.ChordSymbol C6>\n",
      "    {0.0} <music21.note.Note C>\n",
      "    {2.0} <music21.harmony.ChordSymbol E7>\n",
      "    {3.0} <music21.note.Rest quarter>\n",
      "{42.0} <music21.stream.Measure 11 offset=42.0>\n",
      "    {0.0} <music21.harmony.ChordSymbol Am>\n",
      "    {0.0} <music21.note.Rest quarter>\n",
      "    {1.0} <music21.note.Note C>\n",
      "    {1.5} <music21.note.Note A>\n",
      "    {2.0} <music21.note.Note C>\n",
      "    {2.5} <music21.note.Note A>\n",
      "    {3.0} <music21.note.Note A>\n",
      "{46.0} <music21.stream.Measure 12 offset=46.0>\n",
      "    {0.0} <music21.harmony.ChordSymbol F7>\n",
      "    {0.0} <music21.note.Rest quarter>\n",
      "    {1.0} <music21.note.Note C>\n",
      "    {1.5} <music21.note.Note A>\n",
      "    {2.0} <music21.note.Note C>\n",
      "    {2.5} <music21.note.Note A>\n",
      "    {3.0} <music21.note.Note A>\n",
      "{50.0} <music21.stream.Measure 13 offset=50.0>\n",
      "    {0.0} <music21.harmony.ChordSymbol D7>\n",
      "    {0.0} <music21.note.Rest quarter>\n",
      "    {1.0} <music21.note.Note C>\n",
      "    {1.5} <music21.note.Note A>\n",
      "    {2.0} <music21.note.Note C>\n",
      "    {2.5} <music21.note.Note A>\n",
      "    {3.0} <music21.note.Note A>\n",
      "{54.0} <music21.stream.Measure 14 offset=54.0>\n",
      "    {0.0} <music21.harmony.ChordSymbol A7>\n",
      "    {0.0} <music21.note.Rest quarter>\n",
      "    {1.0} <music21.note.Note C#>\n",
      "    {1.5} <music21.note.Note A>\n",
      "    {2.0} <music21.note.Note C#>\n",
      "    {2.5} <music21.note.Note A>\n",
      "    {3.0} <music21.note.Note A>\n",
      "{58.0} <music21.stream.Measure 15 offset=58.0>\n",
      "    {0.0} <music21.harmony.ChordSymbol G6>\n",
      "    {0.0} <music21.note.Rest quarter>\n",
      "    {1.0} <music21.note.Note D>\n",
      "    {2.0} <music21.harmony.ChordSymbol E7>\n",
      "    {2.0} <music21.note.Note D>\n",
      "    {3.0} <music21.note.Note D>\n",
      "{62.0} <music21.stream.Measure 16 offset=62.0>\n",
      "    {0.0} <music21.harmony.ChordSymbol Am7>\n",
      "    {0.0} <music21.note.Note D>\n",
      "    {1.0} <music21.note.Note C>\n",
      "    {2.0} <music21.harmony.ChordSymbol D7>\n",
      "    {2.0} <music21.note.Note B>\n",
      "    {3.0} <music21.note.Note A>\n",
      "{66.0} <music21.stream.Measure 17 offset=66.0>\n",
      "    {0.0} <music21.harmony.ChordSymbol G7>\n",
      "    {0.0} <music21.note.Note G>\n",
      "    {2.0} <music21.harmony.ChordSymbol A7>\n",
      "    {2.0} <music21.note.Note A>\n",
      "{70.0} <music21.stream.Measure 18 offset=70.0>\n",
      "    {0.0} <music21.harmony.ChordSymbol Dm7>\n",
      "    {0.0} <music21.note.Note E>\n",
      "    {2.0} <music21.harmony.ChordSymbol G7>\n",
      "    {2.0} <music21.note.Note D>\n",
      "{74.0} <music21.stream.Measure 19 offset=74.0>\n",
      "    {0.0} <music21.harmony.ChordSymbol C6>\n",
      "    {0.0} <music21.note.Rest eighth>\n",
      "    {0.5} <music21.note.Note C>\n",
      "    {1.0} <music21.note.Note D>\n",
      "    {1.5} <music21.note.Note C>\n",
      "    {2.0} <music21.harmony.ChordSymbol A7>\n",
      "    {2.0} <music21.note.Note G>\n",
      "    {2.5} <music21.note.Note G>\n",
      "{78.0} <music21.stream.Measure 20 offset=78.0>\n",
      "    {0.0} <music21.harmony.ChordSymbol Dm7>\n",
      "    {0.0} <music21.note.Rest eighth>\n",
      "    {0.5} <music21.note.Note D>\n",
      "    {1.0} <music21.note.Note E>\n",
      "    {1.5} <music21.note.Note D>\n",
      "    {2.0} <music21.harmony.ChordSymbol G7>\n",
      "    {2.0} <music21.note.Note A>\n",
      "{82.0} <music21.stream.Measure 21 offset=82.0>\n",
      "    {0.0} <music21.harmony.ChordSymbol C6>\n",
      "    {0.0} <music21.note.Rest eighth>\n",
      "    {0.5} <music21.note.Note G>\n",
      "    {1.0} <music21.note.Note A>\n",
      "    {1.5} <music21.note.Note G>\n",
      "    {2.0} <music21.harmony.ChordSymbol E+>\n",
      "    {2.0} <music21.note.Note C>\n",
      "    {2.5} <music21.note.Note C>\n",
      "    {3.5} <music21.note.Note B>\n",
      "{86.0} <music21.stream.Measure 22 offset=86.0>\n",
      "    {0.0} <music21.harmony.ChordSymbol F6>\n",
      "    {0.0} <music21.note.Note D>\n",
      "    {0.5} <music21.note.Note C>\n",
      "    {1.0} <music21.note.Note A>\n",
      "    {1.5} <music21.note.Note E>\n",
      "    {2.0} <music21.harmony.ChordSymbol Fm6>\n",
      "    {2.0} <music21.note.Note E>\n",
      "    {2.5} <music21.note.Note E->\n",
      "    {3.0} <music21.note.Note D>\n",
      "{90.0} <music21.stream.Measure 23 offset=90.0>\n",
      "    {0.0} <music21.harmony.ChordSymbol C6>\n",
      "    {0.0} <music21.note.Rest eighth>\n",
      "    {0.5} <music21.note.Note C>\n",
      "    {1.0} <music21.note.Note D>\n",
      "    {1.5} <music21.note.Note C>\n",
      "    {2.0} <music21.harmony.ChordSymbol A7>\n",
      "    {2.0} <music21.note.Note G>\n",
      "    {2.5} <music21.note.Note G>\n",
      "{94.0} <music21.stream.Measure 24 offset=94.0>\n",
      "    {0.0} <music21.harmony.ChordSymbol Dm7>\n",
      "    {0.0} <music21.note.Rest eighth>\n",
      "    {0.5} <music21.note.Note D>\n",
      "    {1.0} <music21.note.Note E>\n",
      "    {1.5} <music21.note.Note D>\n",
      "    {2.0} <music21.harmony.ChordSymbol G7>\n",
      "    {2.0} <music21.note.Note A>\n",
      "    {2.5} <music21.note.Note A>\n",
      "    {3.5} <music21.note.Note G>\n",
      "{98.0} <music21.stream.Measure 25 offset=98.0>\n",
      "    {0.0} <music21.harmony.ChordSymbol C6>\n",
      "    {0.0} <music21.note.Note C>\n",
      "    {2.0} <music21.harmony.ChordSymbol Am7>\n",
      "{102.0} <music21.stream.Measure 26 offset=102.0>\n",
      "    {0.0} <music21.harmony.ChordSymbol Dm7>\n",
      "    {0.0} <music21.note.Rest half>\n",
      "    {2.0} <music21.harmony.ChordSymbol G7>\n",
      "    {2.0} <music21.note.Rest quarter>\n",
      "Saved as test.mxl\n"
     ]
    }
   ],
   "source": [
    "x = m_chordSymbolTokenizer.encode(data_files[3], max_length=1024, pad_to_max_length=True)\n",
    "print(x['input_tokens'])\n",
    "print(x['input_ids'])\n",
    "print(x['attention_mask'])\n",
    "print(len(x['input_tokens']))\n",
    "print(len(x['input_ids']))\n",
    "print(len(x['attention_mask']))\n",
    "\n",
    "#decode\n",
    "m_chordSymbolTokenizer.decode(x['input_tokens'], output_format='text')\n",
    "m_chordSymbolTokenizer.decode(x['input_tokens'], output_format='file', output_path='test.mxl')"
   ]
  }
 ],
 "metadata": {
  "kernelspec": {
   "display_name": "Python 3",
   "language": "python",
   "name": "python3"
  },
  "language_info": {
   "codemirror_mode": {
    "name": "ipython",
    "version": 3
   },
   "file_extension": ".py",
   "mimetype": "text/x-python",
   "name": "python",
   "nbconvert_exporter": "python",
   "pygments_lexer": "ipython3",
   "version": "3.11.4"
  }
 },
 "nbformat": 4,
 "nbformat_minor": 2
}
