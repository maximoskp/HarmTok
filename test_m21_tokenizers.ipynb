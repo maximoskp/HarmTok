{
 "cells": [
  {
   "cell_type": "code",
   "execution_count": 1,
   "metadata": {},
   "outputs": [
    {
     "name": "stderr",
     "output_type": "stream",
     "text": [
      "/home/maximos/anaconda3/envs/midi/lib/python3.11/site-packages/tqdm/auto.py:21: TqdmWarning: IProgress not found. Please update jupyter and ipywidgets. See https://ipywidgets.readthedocs.io/en/stable/user_install.html\n",
      "  from .autonotebook import tqdm as notebook_tqdm\n",
      "None of PyTorch, TensorFlow >= 2.0, or Flax have been found. Models won't be available and only tokenizers, configuration and file/data utilities can be used.\n"
     ]
    }
   ],
   "source": [
    "import os\n",
    "import csv\n",
    "import zlib\n",
    "import numpy as np\n",
    "from harmony_tokenizers_m21 import ChordSymbolTokenizer, RootTypeTokenizer, \\\n",
    "    PitchClassTokenizer, RootPCTokenizer, GCTRootPCTokenizer, \\\n",
    "    GCTSymbolTokenizer, GCTRootTypeTokenizer, MelodyPitchTokenizer"
   ]
  },
  {
   "cell_type": "code",
   "execution_count": 2,
   "metadata": {},
   "outputs": [
    {
     "name": "stdout",
     "output_type": "stream",
     "text": [
      "Total files from Hook Theory dataset: 650\n"
     ]
    }
   ],
   "source": [
    "# root_dir = '/media/datadisk/datasets/hooktheory_xmls'\n",
    "root_dir = 'data/gjt_melodies/Library_melodies/'\n",
    "data_files = []\n",
    "\n",
    "# Walk through all subdirectories and files\n",
    "for dirpath, _, filenames in os.walk(root_dir):\n",
    "    for file in filenames:\n",
    "        if file.endswith('.xml') or file.endswith('.mxl'):\n",
    "            full_path = os.path.join(dirpath, file)\n",
    "            data_files.append(full_path)\n",
    "\n",
    "print('Total files from Hook Theory dataset:', len(data_files))"
   ]
  },
  {
   "cell_type": "code",
   "execution_count": 3,
   "metadata": {},
   "outputs": [],
   "source": [
    "# prepare stats\n",
    "stats = {}\n",
    "\n",
    "def compute_compression_rate(array: np.ndarray, compression_method=zlib.compress) -> float:\n",
    "    \"\"\"\n",
    "    Compute the compression rate of a NumPy array.\n",
    "\n",
    "    Parameters:\n",
    "        array (np.ndarray): The NumPy array to compress.\n",
    "        compression_method (callable): The compression method to use. \n",
    "                                       Default is `zlib.compress`.\n",
    "\n",
    "    Returns:\n",
    "        float: The compression rate (compressed size / original size).\n",
    "    \"\"\"\n",
    "    # Convert the array to bytes\n",
    "    array_bytes = array.tobytes()\n",
    "    \n",
    "    # Compress the byte representation\n",
    "    compressed_bytes = compression_method(array_bytes)\n",
    "    \n",
    "    # Compute sizes\n",
    "    original_size = len(array_bytes)\n",
    "    compressed_size = len(compressed_bytes)\n",
    "    \n",
    "    # Calculate compression rate\n",
    "    compression_rate = compressed_size / original_size\n",
    "\n",
    "    return compression_rate\n",
    "\n",
    "def initialize_stats(key, tokenizer):\n",
    "    stats[key] = {\n",
    "        'vocab_size': len(tokenizer.vocab),\n",
    "        'seq_lens': [],\n",
    "        'compression_rates': []\n",
    "    }\n",
    "# end initialize_stats\n",
    "\n",
    "def update_stats(key, toks):\n",
    "    for t in toks['ids']:\n",
    "        stats[key]['seq_lens'].append( len(t) )\n",
    "        stats[key]['compression_rates'].append( compute_compression_rate(np.array(t)) )\n",
    "    stats[key]['mean_len'] = np.mean(stats[key]['seq_lens'])\n",
    "    stats[key]['std_len'] = np.std(stats[key]['seq_lens'])\n",
    "    stats[key]['mean_compression'] = np.mean(stats[key]['compression_rates'])\n",
    "    stats[key]['std_compression'] = np.std(stats[key]['compression_rates'])\n",
    "# end update_stats\n",
    "\n",
    "def print_stats(key):\n",
    "    print('vocab_size: ', stats[key]['vocab_size'])\n",
    "    print('mean len: ', stats[key]['mean_len'])\n",
    "    print('std len: ', stats[key]['std_len'])\n",
    "    print('mean cr: ', stats[key]['mean_compression'])\n",
    "    print('std cr: ', stats[key]['std_compression'])"
   ]
  },
  {
   "cell_type": "code",
   "execution_count": 4,
   "metadata": {},
   "outputs": [
    {
     "name": "stdout",
     "output_type": "stream",
     "text": [
      "ChordSymbolTokenizer_m21\n",
      "len(chordSymbolTokenizer.vocab):  444\n"
     ]
    },
    {
     "name": "stderr",
     "output_type": "stream",
     "text": [
      "Processing Files:   0%|          | 0/650 [00:00<?, ?it/s]/home/maximos/anaconda3/envs/midi/lib/python3.11/site-packages/music21/stream/base.py:3689: Music21DeprecationWarning: .flat is deprecated.  Call .flatten() instead\n",
      "  return self.iter().getElementsByClass(classFilterList)\n",
      "Processing Files:   3%|▎         | 20/650 [00:01<00:53, 11.68it/s]/home/maximos/anaconda3/envs/midi/lib/python3.11/site-packages/music21/stream/base.py:3689: Music21DeprecationWarning: .flat is deprecated.  Call .flatten() instead\n",
      "  return self.iter().getElementsByClass(classFilterList)\n",
      "Processing Files:   5%|▌         | 34/650 [00:02<00:53, 11.55it/s]In /home/maximos/anaconda3/envs/midi/lib/python3.11/site-packages/matplotlib/mpl-data/stylelib/seaborn-v0_8-colorblind.mplstyle: .flat is deprecated.  Call .flatten() instead\n",
      "In /home/maximos/anaconda3/envs/midi/lib/python3.11/site-packages/matplotlib/mpl-data/stylelib/_classic_test_patch.mplstyle: .flat is deprecated.  Call .flatten() instead\n",
      "In /home/maximos/anaconda3/envs/midi/lib/python3.11/site-packages/matplotlib/mpl-data/stylelib/dark_background.mplstyle: .flat is deprecated.  Call .flatten() instead\n",
      "Processing Files:   6%|▌         | 37/650 [00:02<00:49, 12.36it/s]In /home/maximos/anaconda3/envs/midi/lib/python3.11/site-packages/matplotlib/mpl-data/stylelib/fast.mplstyle: .flat is deprecated.  Call .flatten() instead\n",
      "In /home/maximos/anaconda3/envs/midi/lib/python3.11/site-packages/matplotlib/mpl-data/stylelib/seaborn-v0_8-white.mplstyle: .flat is deprecated.  Call .flatten() instead\n",
      "Processing Files:   6%|▌         | 39/650 [00:02<00:48, 12.55it/s]/home/maximos/anaconda3/envs/midi/lib/python3.11/site-packages/music21/stream/base.py:3689: Music21DeprecationWarning: .flat is deprecated.  Call .flatten() instead\n",
      "  return self.iter().getElementsByClass(classFilterList)\n",
      "Processing Files: 100%|██████████| 650/650 [00:48<00:00, 13.40it/s]"
     ]
    },
    {
     "name": "stdout",
     "output_type": "stream",
     "text": [
      "example sentence length:  88\n",
      "['bar', 'position_0x00', 'A:min7', 'bar', 'position_0x00', 'D:7', 'bar', 'position_0x00', 'A:min7', 'bar', 'position_0x00', 'D:7', 'bar', 'position_0x00', 'G:maj7', 'bar', 'position_0x00', 'C:7(#11)', 'bar', 'position_0x00', 'B:min7', 'bar', 'position_0x00', 'E:min7', 'bar', 'position_0x00', 'B:maj7', 'position_2x00', 'F#:7', 'bar', 'position_0x00', 'B:maj6', 'bar', 'position_0x00', 'D:min7', 'bar', 'position_0x00', 'G:7', 'bar', 'position_0x00', 'D:min7', 'bar', 'position_0x00', 'G:7', 'bar', 'position_0x00', 'C:maj7', 'bar', 'position_0x00', 'F:7', 'bar', 'position_0x00', 'E:min7', 'position_2x00', 'A:7', 'bar', 'position_0x00', 'A:min7', 'position_2x00', 'D:7', 'bar', 'position_0x00', 'A:min7', 'bar', 'position_0x00', 'D:7', 'bar', 'position_0x00', 'G:maj7', 'position_2x00', 'F:7', 'bar', 'position_0x00', 'E:7(b9)', 'bar', 'position_0x00', 'A:min7', 'bar', 'position_0x00', 'F:7', 'bar', 'position_0x00', 'A:min7', 'position_2x00', 'D:7', 'bar', 'position_0x00', 'G:maj6']\n",
      "[5, 6, 365, 5, 6, 160, 5, 6, 365, 5, 6, 160, 5, 6, 306, 5, 6, 123, 5, 6, 423, 5, 6, 220, 5, 6, 422, 24, 276, 5, 6, 425, 5, 6, 162, 5, 6, 305, 5, 6, 162, 5, 6, 305, 5, 6, 103, 5, 6, 247, 5, 6, 220, 24, 363, 5, 6, 365, 24, 160, 5, 6, 365, 5, 6, 160, 5, 6, 306, 24, 247, 5, 6, 237, 5, 6, 365, 5, 6, 247, 5, 6, 365, 24, 160, 5, 6, 309]\n",
      "vocab_size:  444\n",
      "mean len:  103.60307692307693\n",
      "std len:  34.29661552815949\n",
      "mean cr:  0.11675020033137182\n",
      "std cr:  0.025943086298484744\n"
     ]
    },
    {
     "name": "stderr",
     "output_type": "stream",
     "text": [
      "\n"
     ]
    }
   ],
   "source": [
    "print('ChordSymbolTokenizer_m21')\n",
    "chordSymbolTokenizer = ChordSymbolTokenizer()\n",
    "print('len(chordSymbolTokenizer.vocab): ', len(chordSymbolTokenizer.vocab))\n",
    "initialize_stats('ChordSymbolTokenizer', chordSymbolTokenizer)\n",
    "toks_cs = chordSymbolTokenizer(data_files)\n",
    "print('example sentence length: ', len(toks_cs['tokens'][0]))\n",
    "print(toks_cs['tokens'][0])\n",
    "print(toks_cs['ids'][0])\n",
    "update_stats('ChordSymbolTokenizer', toks_cs)\n",
    "print_stats('ChordSymbolTokenizer')"
   ]
  },
  {
   "cell_type": "code",
   "execution_count": 5,
   "metadata": {},
   "outputs": [
    {
     "name": "stdout",
     "output_type": "stream",
     "text": [
      "RootTypeTokenizer\n",
      "len(rootTypeTokenizer.vocab):  137\n"
     ]
    },
    {
     "name": "stderr",
     "output_type": "stream",
     "text": [
      "Processing Files: 100%|██████████| 650/650 [00:48<00:00, 13.41it/s]"
     ]
    },
    {
     "name": "stdout",
     "output_type": "stream",
     "text": [
      "example sentence length:  119\n",
      "['bar', 'position_0x00', 'A', 'min7', 'bar', 'position_0x00', 'D', '7', 'bar', 'position_0x00', 'A', 'min7', 'bar', 'position_0x00', 'D', '7', 'bar', 'position_0x00', 'G', 'maj7', 'bar', 'position_0x00', 'C', '7(#11)', 'bar', 'position_0x00', 'B', 'min7', 'bar', 'position_0x00', 'E', 'min7', 'bar', 'position_0x00', 'B', 'maj7', 'position_2x00', 'F#', '7', 'bar', 'position_0x00', 'B', 'maj6', 'bar', 'position_0x00', 'D', 'min7', 'bar', 'position_0x00', 'G', '7', 'bar', 'position_0x00', 'D', 'min7', 'bar', 'position_0x00', 'G', '7', 'bar', 'position_0x00', 'C', 'maj7', 'bar', 'position_0x00', 'F', '7', 'bar', 'position_0x00', 'E', 'min7', 'position_2x00', 'A', '7', 'bar', 'position_0x00', 'A', 'min7', 'position_2x00', 'D', '7', 'bar', 'position_0x00', 'A', 'min7', 'bar', 'position_0x00', 'D', '7', 'bar', 'position_0x00', 'G', 'maj7', 'position_2x00', 'F', '7', 'bar', 'position_0x00', 'E', '7(b9)', 'bar', 'position_0x00', 'A', 'min7', 'bar', 'position_0x00', 'F', '7', 'bar', 'position_0x00', 'A', 'min7', 'position_2x00', 'D', '7', 'bar', 'position_0x00', 'G', 'maj6']\n",
      "[5, 6, 105, 116, 5, 6, 98, 114, 5, 6, 105, 116, 5, 6, 98, 114, 5, 6, 103, 115, 5, 6, 96, 135, 5, 6, 107, 116, 5, 6, 100, 116, 5, 6, 107, 115, 24, 102, 114, 5, 6, 107, 118, 5, 6, 98, 116, 5, 6, 103, 114, 5, 6, 98, 116, 5, 6, 103, 114, 5, 6, 96, 115, 5, 6, 101, 114, 5, 6, 100, 116, 24, 105, 114, 5, 6, 105, 116, 24, 98, 114, 5, 6, 105, 116, 5, 6, 98, 114, 5, 6, 103, 115, 24, 101, 114, 5, 6, 100, 133, 5, 6, 105, 116, 5, 6, 101, 114, 5, 6, 105, 116, 24, 98, 114, 5, 6, 103, 118]\n",
      "vocab_size:  137\n",
      "mean len:  141.68769230769232\n",
      "std len:  47.76576826296714\n",
      "mean cr:  0.10193202365080004\n",
      "std cr:  0.022437982066015244\n"
     ]
    },
    {
     "name": "stderr",
     "output_type": "stream",
     "text": [
      "\n"
     ]
    }
   ],
   "source": [
    "print('RootTypeTokenizer')\n",
    "rootTypeTokenizer = RootTypeTokenizer()\n",
    "print('len(rootTypeTokenizer.vocab): ', len(rootTypeTokenizer.vocab))\n",
    "initialize_stats('RootTypeTokenizer', rootTypeTokenizer)\n",
    "toks_rt = rootTypeTokenizer(data_files)\n",
    "print('example sentence length: ', len(toks_rt['tokens'][0]))\n",
    "print(toks_rt['tokens'][0])\n",
    "print(toks_rt['ids'][0])\n",
    "update_stats('RootTypeTokenizer', toks_rt)\n",
    "print_stats('RootTypeTokenizer')"
   ]
  },
  {
   "cell_type": "code",
   "execution_count": 4,
   "metadata": {},
   "outputs": [
    {
     "name": "stdout",
     "output_type": "stream",
     "text": [
      "PitchClassTokenizer\n",
      "len(pitchClassTokenizer.vocab):  108\n"
     ]
    },
    {
     "name": "stderr",
     "output_type": "stream",
     "text": [
      "Processing Files:   0%|          | 0/650 [00:00<?, ?it/s]/home/maximos/anaconda3/envs/midi/lib/python3.11/site-packages/music21/stream/base.py:3689: Music21DeprecationWarning: .flat is deprecated.  Call .flatten() instead\n",
      "  return self.iter().getElementsByClass(classFilterList)\n",
      "Processing Files: 100%|██████████| 650/650 [00:48<00:00, 13.29it/s]"
     ]
    },
    {
     "name": "stdout",
     "output_type": "stream",
     "text": [
      "example sentence length:  183\n",
      "['bar', 'position_0x00', 'chord_pc_9', 'chord_pc_0', 'chord_pc_4', 'chord_pc_7', 'bar', 'position_0x00', 'chord_pc_2', 'chord_pc_6', 'chord_pc_9', 'chord_pc_0', 'bar', 'position_0x00', 'chord_pc_9', 'chord_pc_0', 'chord_pc_4', 'chord_pc_7', 'bar', 'position_0x00', 'chord_pc_2', 'chord_pc_6', 'chord_pc_9', 'chord_pc_0', 'bar', 'position_0x00', 'chord_pc_7', 'chord_pc_11', 'chord_pc_2', 'chord_pc_6', 'bar', 'position_0x00', 'chord_pc_0', 'chord_pc_4', 'chord_pc_6', 'chord_pc_7', 'chord_pc_10', 'bar', 'position_0x00', 'chord_pc_11', 'chord_pc_2', 'chord_pc_6', 'chord_pc_9', 'bar', 'position_0x00', 'chord_pc_4', 'chord_pc_7', 'chord_pc_11', 'chord_pc_2', 'bar', 'position_0x00', 'chord_pc_11', 'chord_pc_3', 'chord_pc_6', 'chord_pc_10', 'position_2x00', 'chord_pc_6', 'chord_pc_10', 'chord_pc_1', 'chord_pc_4', 'bar', 'position_0x00', 'chord_pc_11', 'chord_pc_3', 'chord_pc_6', 'chord_pc_8', 'bar', 'position_0x00', 'chord_pc_2', 'chord_pc_5', 'chord_pc_9', 'chord_pc_0', 'bar', 'position_0x00', 'chord_pc_7', 'chord_pc_11', 'chord_pc_2', 'chord_pc_5', 'bar', 'position_0x00', 'chord_pc_2', 'chord_pc_5', 'chord_pc_9', 'chord_pc_0', 'bar', 'position_0x00', 'chord_pc_7', 'chord_pc_11', 'chord_pc_2', 'chord_pc_5', 'bar', 'position_0x00', 'chord_pc_0', 'chord_pc_4', 'chord_pc_7', 'chord_pc_11', 'bar', 'position_0x00', 'chord_pc_5', 'chord_pc_9', 'chord_pc_0', 'chord_pc_3', 'bar', 'position_0x00', 'chord_pc_4', 'chord_pc_7', 'chord_pc_11', 'chord_pc_2', 'position_2x00', 'chord_pc_9', 'chord_pc_1', 'chord_pc_4', 'chord_pc_7', 'bar', 'position_0x00', 'chord_pc_9', 'chord_pc_0', 'chord_pc_4', 'chord_pc_7', 'position_2x00', 'chord_pc_2', 'chord_pc_6', 'chord_pc_9', 'chord_pc_0', 'bar', 'position_0x00', 'chord_pc_9', 'chord_pc_0', 'chord_pc_4', 'chord_pc_7', 'bar', 'position_0x00', 'chord_pc_2', 'chord_pc_6', 'chord_pc_9', 'chord_pc_0', 'bar', 'position_0x00', 'chord_pc_7', 'chord_pc_11', 'chord_pc_2', 'chord_pc_6', 'position_2x00', 'chord_pc_5', 'chord_pc_9', 'chord_pc_0', 'chord_pc_3', 'bar', 'position_0x00', 'chord_pc_4', 'chord_pc_5', 'chord_pc_8', 'chord_pc_11', 'chord_pc_2', 'bar', 'position_0x00', 'chord_pc_9', 'chord_pc_0', 'chord_pc_4', 'chord_pc_7', 'bar', 'position_0x00', 'chord_pc_5', 'chord_pc_9', 'chord_pc_0', 'chord_pc_3', 'bar', 'position_0x00', 'chord_pc_9', 'chord_pc_0', 'chord_pc_4', 'chord_pc_7', 'position_2x00', 'chord_pc_2', 'chord_pc_6', 'chord_pc_9', 'chord_pc_0', 'bar', 'position_0x00', 'chord_pc_7', 'chord_pc_11', 'chord_pc_2', 'chord_pc_4']\n",
      "[5, 6, 105, 96, 100, 103, 5, 6, 98, 102, 105, 96, 5, 6, 105, 96, 100, 103, 5, 6, 98, 102, 105, 96, 5, 6, 103, 107, 98, 102, 5, 6, 96, 100, 102, 103, 106, 5, 6, 107, 98, 102, 105, 5, 6, 100, 103, 107, 98, 5, 6, 107, 99, 102, 106, 24, 102, 106, 97, 100, 5, 6, 107, 99, 102, 104, 5, 6, 98, 101, 105, 96, 5, 6, 103, 107, 98, 101, 5, 6, 98, 101, 105, 96, 5, 6, 103, 107, 98, 101, 5, 6, 96, 100, 103, 107, 5, 6, 101, 105, 96, 99, 5, 6, 100, 103, 107, 98, 24, 105, 97, 100, 103, 5, 6, 105, 96, 100, 103, 24, 98, 102, 105, 96, 5, 6, 105, 96, 100, 103, 5, 6, 98, 102, 105, 96, 5, 6, 103, 107, 98, 102, 24, 101, 105, 96, 99, 5, 6, 100, 101, 104, 107, 98, 5, 6, 105, 96, 100, 103, 5, 6, 101, 105, 96, 99, 5, 6, 105, 96, 100, 103, 24, 98, 102, 105, 96, 5, 6, 103, 107, 98, 100]\n",
      "vocab_size:  108\n",
      "mean len:  221.54461538461538\n",
      "std len:  76.19775088699592\n",
      "mean cr:  0.08633365140478433\n",
      "std cr:  0.019627991556314325\n"
     ]
    },
    {
     "name": "stderr",
     "output_type": "stream",
     "text": [
      "\n"
     ]
    }
   ],
   "source": [
    "print('PitchClassTokenizer')\n",
    "pitchClassTokenizer = PitchClassTokenizer()\n",
    "print('len(pitchClassTokenizer.vocab): ', len(pitchClassTokenizer.vocab))\n",
    "initialize_stats('PitchClassTokenizer', pitchClassTokenizer)\n",
    "toks_pc = pitchClassTokenizer(data_files)\n",
    "print('example sentence length: ', len(toks_pc['tokens'][0]))\n",
    "print(toks_pc['tokens'][0])\n",
    "print(toks_pc['ids'][0])\n",
    "update_stats('PitchClassTokenizer', toks_pc)\n",
    "print_stats('PitchClassTokenizer')"
   ]
  },
  {
   "cell_type": "code",
   "execution_count": 4,
   "metadata": {},
   "outputs": [
    {
     "name": "stdout",
     "output_type": "stream",
     "text": [
      "RootPCTokenizer\n",
      "len(rootPCTokenizer.vocab):  120\n"
     ]
    },
    {
     "name": "stderr",
     "output_type": "stream",
     "text": [
      "Processing Files:   0%|          | 0/650 [00:00<?, ?it/s]/home/maximos/anaconda3/envs/midi/lib/python3.11/site-packages/music21/stream/base.py:3689: Music21DeprecationWarning: .flat is deprecated.  Call .flatten() instead\n",
      "  return self.iter().getElementsByClass(classFilterList)\n",
      "Processing Files: 100%|██████████| 650/650 [00:48<00:00, 13.42it/s]"
     ]
    },
    {
     "name": "stdout",
     "output_type": "stream",
     "text": [
      "example sentence length:  183\n",
      "['bar', 'position_0x00', 'chord_root_9', 'chord_pc_0', 'chord_pc_4', 'chord_pc_7', 'bar', 'position_0x00', 'chord_root_2', 'chord_pc_6', 'chord_pc_9', 'chord_pc_0', 'bar', 'position_0x00', 'chord_root_9', 'chord_pc_0', 'chord_pc_4', 'chord_pc_7', 'bar', 'position_0x00', 'chord_root_2', 'chord_pc_6', 'chord_pc_9', 'chord_pc_0', 'bar', 'position_0x00', 'chord_root_7', 'chord_pc_11', 'chord_pc_2', 'chord_pc_6', 'bar', 'position_0x00', 'chord_root_0', 'chord_pc_4', 'chord_pc_6', 'chord_pc_7', 'chord_pc_10', 'bar', 'position_0x00', 'chord_root_11', 'chord_pc_2', 'chord_pc_6', 'chord_pc_9', 'bar', 'position_0x00', 'chord_root_4', 'chord_pc_7', 'chord_pc_11', 'chord_pc_2', 'bar', 'position_0x00', 'chord_root_11', 'chord_pc_3', 'chord_pc_6', 'chord_pc_10', 'position_2x00', 'chord_root_6', 'chord_pc_10', 'chord_pc_1', 'chord_pc_4', 'bar', 'position_0x00', 'chord_root_11', 'chord_pc_3', 'chord_pc_6', 'chord_pc_8', 'bar', 'position_0x00', 'chord_root_2', 'chord_pc_5', 'chord_pc_9', 'chord_pc_0', 'bar', 'position_0x00', 'chord_root_7', 'chord_pc_11', 'chord_pc_2', 'chord_pc_5', 'bar', 'position_0x00', 'chord_root_2', 'chord_pc_5', 'chord_pc_9', 'chord_pc_0', 'bar', 'position_0x00', 'chord_root_7', 'chord_pc_11', 'chord_pc_2', 'chord_pc_5', 'bar', 'position_0x00', 'chord_root_0', 'chord_pc_4', 'chord_pc_7', 'chord_pc_11', 'bar', 'position_0x00', 'chord_root_5', 'chord_pc_9', 'chord_pc_0', 'chord_pc_3', 'bar', 'position_0x00', 'chord_root_4', 'chord_pc_7', 'chord_pc_11', 'chord_pc_2', 'position_2x00', 'chord_root_9', 'chord_pc_1', 'chord_pc_4', 'chord_pc_7', 'bar', 'position_0x00', 'chord_root_9', 'chord_pc_0', 'chord_pc_4', 'chord_pc_7', 'position_2x00', 'chord_root_2', 'chord_pc_6', 'chord_pc_9', 'chord_pc_0', 'bar', 'position_0x00', 'chord_root_9', 'chord_pc_0', 'chord_pc_4', 'chord_pc_7', 'bar', 'position_0x00', 'chord_root_2', 'chord_pc_6', 'chord_pc_9', 'chord_pc_0', 'bar', 'position_0x00', 'chord_root_7', 'chord_pc_11', 'chord_pc_2', 'chord_pc_6', 'position_2x00', 'chord_root_5', 'chord_pc_9', 'chord_pc_0', 'chord_pc_3', 'bar', 'position_0x00', 'chord_root_4', 'chord_pc_5', 'chord_pc_8', 'chord_pc_11', 'chord_pc_2', 'bar', 'position_0x00', 'chord_root_9', 'chord_pc_0', 'chord_pc_4', 'chord_pc_7', 'bar', 'position_0x00', 'chord_root_5', 'chord_pc_9', 'chord_pc_0', 'chord_pc_3', 'bar', 'position_0x00', 'chord_root_9', 'chord_pc_0', 'chord_pc_4', 'chord_pc_7', 'position_2x00', 'chord_root_2', 'chord_pc_6', 'chord_pc_9', 'chord_pc_0', 'bar', 'position_0x00', 'chord_root_7', 'chord_pc_11', 'chord_pc_2', 'chord_pc_4']\n",
      "[5, 6, 105, 108, 112, 115, 5, 6, 98, 114, 117, 108, 5, 6, 105, 108, 112, 115, 5, 6, 98, 114, 117, 108, 5, 6, 103, 119, 110, 114, 5, 6, 96, 112, 114, 115, 118, 5, 6, 107, 110, 114, 117, 5, 6, 100, 115, 119, 110, 5, 6, 107, 111, 114, 118, 24, 102, 118, 109, 112, 5, 6, 107, 111, 114, 116, 5, 6, 98, 113, 117, 108, 5, 6, 103, 119, 110, 113, 5, 6, 98, 113, 117, 108, 5, 6, 103, 119, 110, 113, 5, 6, 96, 112, 115, 119, 5, 6, 101, 117, 108, 111, 5, 6, 100, 115, 119, 110, 24, 105, 109, 112, 115, 5, 6, 105, 108, 112, 115, 24, 98, 114, 117, 108, 5, 6, 105, 108, 112, 115, 5, 6, 98, 114, 117, 108, 5, 6, 103, 119, 110, 114, 24, 101, 117, 108, 111, 5, 6, 100, 113, 116, 119, 110, 5, 6, 105, 108, 112, 115, 5, 6, 101, 117, 108, 111, 5, 6, 105, 108, 112, 115, 24, 98, 114, 117, 108, 5, 6, 103, 119, 110, 112]\n",
      "vocab_size:  120\n",
      "mean len:  221.54461538461538\n",
      "std len:  76.19775088699592\n",
      "mean cr:  0.093245169352101\n",
      "std cr:  0.021545758990988904\n"
     ]
    },
    {
     "name": "stderr",
     "output_type": "stream",
     "text": [
      "\n"
     ]
    }
   ],
   "source": [
    "print('RootPCTokenizer')\n",
    "rootPCTokenizer = RootPCTokenizer()\n",
    "print('len(rootPCTokenizer.vocab): ', len(rootPCTokenizer.vocab))\n",
    "initialize_stats('RootPCTokenizer', rootPCTokenizer)\n",
    "toks_rpc = rootPCTokenizer(data_files)\n",
    "print('example sentence length: ', len(toks_rpc['tokens'][0]))\n",
    "print(toks_rpc['tokens'][0])\n",
    "print(toks_rpc['ids'][0])\n",
    "update_stats('RootPCTokenizer', toks_rpc)\n",
    "print_stats('RootPCTokenizer')"
   ]
  },
  {
   "cell_type": "code",
   "execution_count": 5,
   "metadata": {},
   "outputs": [
    {
     "name": "stdout",
     "output_type": "stream",
     "text": [
      "GCTRootPCTokenizer\n",
      "len(gctRootPCTokenizer.vocab):  120\n"
     ]
    },
    {
     "name": "stderr",
     "output_type": "stream",
     "text": [
      "Processing Files:   0%|          | 0/650 [00:00<?, ?it/s]/home/maximos/anaconda3/envs/midi/lib/python3.11/site-packages/music21/stream/base.py:3689: Music21DeprecationWarning: .flat is deprecated.  Call .flatten() instead\n",
      "  return self.iter().getElementsByClass(classFilterList)\n",
      "Processing Files: 100%|██████████| 650/650 [01:02<00:00, 10.34it/s]\n"
     ]
    },
    {
     "name": "stdout",
     "output_type": "stream",
     "text": [
      "example sentence length:  183\n",
      "['bar', 'position_0x00', 'chord_root_0', 'chord_pc_4', 'chord_pc_7', 'chord_pc_9', 'bar', 'position_0x00', 'chord_root_2', 'chord_pc_6', 'chord_pc_9', 'chord_pc_0', 'bar', 'position_0x00', 'chord_root_0', 'chord_pc_4', 'chord_pc_7', 'chord_pc_9', 'bar', 'position_0x00', 'chord_root_2', 'chord_pc_6', 'chord_pc_9', 'chord_pc_0', 'bar', 'position_0x00', 'chord_root_7', 'chord_pc_11', 'chord_pc_2', 'chord_pc_6', 'bar', 'position_0x00', 'chord_root_0', 'chord_pc_4', 'chord_pc_7', 'chord_pc_10', 'chord_pc_6', 'bar', 'position_0x00', 'chord_root_2', 'chord_pc_6', 'chord_pc_9', 'chord_pc_11', 'bar', 'position_0x00', 'chord_root_7', 'chord_pc_11', 'chord_pc_2', 'chord_pc_4', 'bar', 'position_0x00', 'chord_root_11', 'chord_pc_3', 'chord_pc_6', 'chord_pc_10', 'position_2x00', 'chord_root_6', 'chord_pc_10', 'chord_pc_1', 'chord_pc_4', 'bar', 'position_0x00', 'chord_root_8', 'chord_pc_11', 'chord_pc_3', 'chord_pc_6', 'bar', 'position_0x00', 'chord_root_5', 'chord_pc_9', 'chord_pc_0', 'chord_pc_2', 'bar', 'position_0x00', 'chord_root_7', 'chord_pc_11', 'chord_pc_2', 'chord_pc_5', 'bar', 'position_0x00', 'chord_root_5', 'chord_pc_9', 'chord_pc_0', 'chord_pc_2', 'bar', 'position_0x00', 'chord_root_7', 'chord_pc_11', 'chord_pc_2', 'chord_pc_5', 'bar', 'position_0x00', 'chord_root_4', 'chord_pc_7', 'chord_pc_11', 'chord_pc_0', 'bar', 'position_0x00', 'chord_root_5', 'chord_pc_9', 'chord_pc_0', 'chord_pc_3', 'bar', 'position_0x00', 'chord_root_7', 'chord_pc_11', 'chord_pc_2', 'chord_pc_4', 'position_2x00', 'chord_root_9', 'chord_pc_1', 'chord_pc_4', 'chord_pc_7', 'bar', 'position_0x00', 'chord_root_0', 'chord_pc_4', 'chord_pc_7', 'chord_pc_9', 'position_2x00', 'chord_root_2', 'chord_pc_6', 'chord_pc_9', 'chord_pc_0', 'bar', 'position_0x00', 'chord_root_0', 'chord_pc_4', 'chord_pc_7', 'chord_pc_9', 'bar', 'position_0x00', 'chord_root_2', 'chord_pc_6', 'chord_pc_9', 'chord_pc_0', 'bar', 'position_0x00', 'chord_root_7', 'chord_pc_11', 'chord_pc_2', 'chord_pc_6', 'position_2x00', 'chord_root_5', 'chord_pc_9', 'chord_pc_0', 'chord_pc_3', 'bar', 'position_0x00', 'chord_root_4', 'chord_pc_8', 'chord_pc_11', 'chord_pc_2', 'chord_pc_5', 'bar', 'position_0x00', 'chord_root_0', 'chord_pc_4', 'chord_pc_7', 'chord_pc_9', 'bar', 'position_0x00', 'chord_root_5', 'chord_pc_9', 'chord_pc_0', 'chord_pc_3', 'bar', 'position_0x00', 'chord_root_0', 'chord_pc_4', 'chord_pc_7', 'chord_pc_9', 'position_2x00', 'chord_root_2', 'chord_pc_6', 'chord_pc_9', 'chord_pc_0', 'bar', 'position_0x00', 'chord_root_7', 'chord_pc_11', 'chord_pc_2', 'chord_pc_4']\n",
      "[5, 6, 96, 112, 115, 117, 5, 6, 98, 114, 117, 108, 5, 6, 96, 112, 115, 117, 5, 6, 98, 114, 117, 108, 5, 6, 103, 119, 110, 114, 5, 6, 96, 112, 115, 118, 114, 5, 6, 98, 114, 117, 119, 5, 6, 103, 119, 110, 112, 5, 6, 107, 111, 114, 118, 24, 102, 118, 109, 112, 5, 6, 104, 119, 111, 114, 5, 6, 101, 117, 108, 110, 5, 6, 103, 119, 110, 113, 5, 6, 101, 117, 108, 110, 5, 6, 103, 119, 110, 113, 5, 6, 100, 115, 119, 108, 5, 6, 101, 117, 108, 111, 5, 6, 103, 119, 110, 112, 24, 105, 109, 112, 115, 5, 6, 96, 112, 115, 117, 24, 98, 114, 117, 108, 5, 6, 96, 112, 115, 117, 5, 6, 98, 114, 117, 108, 5, 6, 103, 119, 110, 114, 24, 101, 117, 108, 111, 5, 6, 100, 116, 119, 110, 113, 5, 6, 96, 112, 115, 117, 5, 6, 101, 117, 108, 111, 5, 6, 96, 112, 115, 117, 24, 98, 114, 117, 108, 5, 6, 103, 119, 110, 112]\n",
      "vocab_size:  120\n",
      "mean len:  221.54461538461538\n",
      "std len:  76.19775088699592\n",
      "mean cr:  0.09200214123363351\n",
      "std cr:  0.020959198907088306\n"
     ]
    }
   ],
   "source": [
    "print('GCTRootPCTokenizer')\n",
    "gctRootPCTokenizer = GCTRootPCTokenizer()\n",
    "print('len(gctRootPCTokenizer.vocab): ', len(gctRootPCTokenizer.vocab))\n",
    "initialize_stats('GCTRootPCTokenizer', gctRootPCTokenizer)\n",
    "toks_gct_rpc = gctRootPCTokenizer(data_files)\n",
    "print('example sentence length: ', len(toks_gct_rpc['tokens'][0]))\n",
    "print(toks_gct_rpc['tokens'][0])\n",
    "print(toks_gct_rpc['ids'][0])\n",
    "update_stats('GCTRootPCTokenizer', toks_gct_rpc)\n",
    "print_stats('GCTRootPCTokenizer')"
   ]
  },
  {
   "cell_type": "code",
   "execution_count": 4,
   "metadata": {},
   "outputs": [
    {
     "name": "stdout",
     "output_type": "stream",
     "text": [
      "GCTSymbolTokenizer\n",
      "training\n"
     ]
    },
    {
     "name": "stderr",
     "output_type": "stream",
     "text": [
      "Processing Files:   0%|          | 0/650 [00:00<?, ?it/s]/home/maximos/anaconda3/envs/midi/lib/python3.11/site-packages/music21/stream/base.py:3689: Music21DeprecationWarning: .flat is deprecated.  Call .flatten() instead\n",
      "  return self.iter().getElementsByClass(classFilterList)\n",
      "Processing Files: 100%|██████████| 650/650 [01:03<00:00, 10.20it/s]\n"
     ]
    },
    {
     "name": "stdout",
     "output_type": "stream",
     "text": [
      "len(gctSymbolTokenizer.vocab):  324\n"
     ]
    },
    {
     "name": "stderr",
     "output_type": "stream",
     "text": [
      "Processing Files: 100%|██████████| 650/650 [01:04<00:00, 10.09it/s]"
     ]
    },
    {
     "name": "stdout",
     "output_type": "stream",
     "text": [
      "example sentence length:  88\n",
      "['bar', 'position_0x00', '[0 0 4 7 9]', 'bar', 'position_0x00', '[ 2  0  4  7 10]', 'bar', 'position_0x00', '[0 0 4 7 9]', 'bar', 'position_0x00', '[ 2  0  4  7 10]', 'bar', 'position_0x00', '[ 7  0  4  7 11]', 'bar', 'position_0x00', '[ 0  0  4  7 10 18]', 'bar', 'position_0x00', '[2 0 4 7 9]', 'bar', 'position_0x00', '[7 0 4 7 9]', 'bar', 'position_0x00', '[11  0  4  7 11]', 'position_2x00', '[ 6  0  4  7 10]', 'bar', 'position_0x00', '[ 8  0  3  7 10]', 'bar', 'position_0x00', '[5 0 4 7 9]', 'bar', 'position_0x00', '[ 7  0  4  7 10]', 'bar', 'position_0x00', '[5 0 4 7 9]', 'bar', 'position_0x00', '[ 7  0  4  7 10]', 'bar', 'position_0x00', '[4 0 3 7 8]', 'bar', 'position_0x00', '[ 5  0  4  7 10]', 'bar', 'position_0x00', '[7 0 4 7 9]', 'position_2x00', '[ 9  0  4  7 10]', 'bar', 'position_0x00', '[0 0 4 7 9]', 'position_2x00', '[ 2  0  4  7 10]', 'bar', 'position_0x00', '[0 0 4 7 9]', 'bar', 'position_0x00', '[ 2  0  4  7 10]', 'bar', 'position_0x00', '[ 7  0  4  7 11]', 'position_2x00', '[ 5  0  4  7 10]', 'bar', 'position_0x00', '[ 4  0  4  7 10 13]', 'bar', 'position_0x00', '[0 0 4 7 9]', 'bar', 'position_0x00', '[ 5  0  4  7 10]', 'bar', 'position_0x00', '[0 0 4 7 9]', 'position_2x00', '[ 2  0  4  7 10]', 'bar', 'position_0x00', '[7 0 4 7 9]']\n",
      "[5, 6, 96, 5, 6, 97, 5, 6, 96, 5, 6, 97, 5, 6, 98, 5, 6, 99, 5, 6, 100, 5, 6, 101, 5, 6, 102, 24, 103, 5, 6, 104, 5, 6, 105, 5, 6, 106, 5, 6, 105, 5, 6, 106, 5, 6, 107, 5, 6, 108, 5, 6, 101, 24, 109, 5, 6, 96, 24, 97, 5, 6, 96, 5, 6, 97, 5, 6, 98, 24, 108, 5, 6, 110, 5, 6, 96, 5, 6, 108, 5, 6, 96, 24, 97, 5, 6, 101]\n",
      "vocab_size:  324\n",
      "mean len:  103.60307692307693\n",
      "std len:  34.29661552815949\n",
      "mean cr:  0.11050461021034852\n",
      "std cr:  0.024958655793046375\n"
     ]
    },
    {
     "name": "stderr",
     "output_type": "stream",
     "text": [
      "\n"
     ]
    }
   ],
   "source": [
    "print('GCTSymbolTokenizer')\n",
    "gctSymbolTokenizer = GCTSymbolTokenizer()\n",
    "print('training')\n",
    "gctSymbolTokenizer.fit( data_files )\n",
    "print('len(gctSymbolTokenizer.vocab): ', len(gctSymbolTokenizer.vocab))\n",
    "initialize_stats('GCTSymbolTokenizer', gctSymbolTokenizer)\n",
    "toks_gct_symb = gctSymbolTokenizer(data_files)\n",
    "print('example sentence length: ', len(toks_gct_symb['tokens'][0]))\n",
    "print(toks_gct_symb['tokens'][0])\n",
    "print(toks_gct_symb['ids'][0])\n",
    "update_stats('GCTSymbolTokenizer', toks_gct_symb)\n",
    "print_stats('GCTSymbolTokenizer')"
   ]
  },
  {
   "cell_type": "code",
   "execution_count": 4,
   "metadata": {},
   "outputs": [
    {
     "name": "stdout",
     "output_type": "stream",
     "text": [
      "GCTRootTypeTokenizer\n",
      "training\n"
     ]
    },
    {
     "name": "stderr",
     "output_type": "stream",
     "text": [
      "Processing Files:   0%|          | 0/650 [00:00<?, ?it/s]/home/maximos/anaconda3/envs/midi/lib/python3.11/site-packages/music21/stream/base.py:3689: Music21DeprecationWarning: .flat is deprecated.  Call .flatten() instead\n",
      "  return self.iter().getElementsByClass(classFilterList)\n",
      "Processing Files: 100%|██████████| 650/650 [01:03<00:00, 10.27it/s]\n"
     ]
    },
    {
     "name": "stdout",
     "output_type": "stream",
     "text": [
      "len(gctRootTypeTokenizer.vocab):  153\n"
     ]
    },
    {
     "ename": "NameError",
     "evalue": "name 'chordSymbolTokenizer' is not defined",
     "output_type": "error",
     "traceback": [
      "\u001b[0;31m---------------------------------------------------------------------------\u001b[0m",
      "\u001b[0;31mNameError\u001b[0m                                 Traceback (most recent call last)",
      "Cell \u001b[0;32mIn[4], line 6\u001b[0m\n\u001b[1;32m      4\u001b[0m gctRootTypeTokenizer\u001b[38;5;241m.\u001b[39mfit( data_files )\n\u001b[1;32m      5\u001b[0m \u001b[38;5;28mprint\u001b[39m(\u001b[38;5;124m'\u001b[39m\u001b[38;5;124mlen(gctRootTypeTokenizer.vocab): \u001b[39m\u001b[38;5;124m'\u001b[39m, \u001b[38;5;28mlen\u001b[39m(gctRootTypeTokenizer\u001b[38;5;241m.\u001b[39mvocab))\n\u001b[0;32m----> 6\u001b[0m initialize_stats(\u001b[38;5;124m'\u001b[39m\u001b[38;5;124mGCTRootTypeTokenizer\u001b[39m\u001b[38;5;124m'\u001b[39m, \u001b[43mchordSymbolTokenizer\u001b[49m)\n\u001b[1;32m      7\u001b[0m toks_gct_rt \u001b[38;5;241m=\u001b[39m gctRootTypeTokenizer(data_files)\n\u001b[1;32m      8\u001b[0m \u001b[38;5;28mprint\u001b[39m(\u001b[38;5;124m'\u001b[39m\u001b[38;5;124mexample sentence length: \u001b[39m\u001b[38;5;124m'\u001b[39m, \u001b[38;5;28mlen\u001b[39m(toks_gct_rt[\u001b[38;5;124m'\u001b[39m\u001b[38;5;124mtokens\u001b[39m\u001b[38;5;124m'\u001b[39m][\u001b[38;5;241m0\u001b[39m]))\n",
      "\u001b[0;31mNameError\u001b[0m: name 'chordSymbolTokenizer' is not defined"
     ]
    }
   ],
   "source": [
    "print('GCTRootTypeTokenizer')\n",
    "gctRootTypeTokenizer = GCTRootTypeTokenizer()\n",
    "print('training')\n",
    "gctRootTypeTokenizer.fit( data_files )\n",
    "print('len(gctRootTypeTokenizer.vocab): ', len(gctRootTypeTokenizer.vocab))\n",
    "initialize_stats('GCTRootTypeTokenizer', gctRootTypeTokenizer)\n",
    "toks_gct_rt = gctRootTypeTokenizer(data_files)\n",
    "print('example sentence length: ', len(toks_gct_rt['tokens'][0]))\n",
    "print(toks_gct_rt['tokens'][0])\n",
    "print(toks_gct_rt['ids'][0])\n",
    "update_stats('GCTRootTypeTokenizer', toks_gct_rt)\n",
    "print_stats('GCTRootTypeTokenizer')"
   ]
  },
  {
   "cell_type": "code",
   "execution_count": 8,
   "metadata": {},
   "outputs": [
    {
     "name": "stdout",
     "output_type": "stream",
     "text": [
      "MelodyPitchTokenizer_m21\n",
      "len(melodyPitchTokenizer.vocab):  184\n"
     ]
    },
    {
     "name": "stderr",
     "output_type": "stream",
     "text": [
      "Processing Melody Files: 100%|██████████| 650/650 [00:32<00:00, 19.75it/s]"
     ]
    },
    {
     "name": "stdout",
     "output_type": "stream",
     "text": [
      "example sentence length:  196\n",
      "['bar', 'position_0x00', 'P:69', 'position_3x00', 'P:64', 'bar', 'position_0x00', 'P:71', 'position_0x75', 'P:71', 'position_1x00', 'P:71', 'position_3x00', 'P:64', 'bar', 'position_0x00', 'P:69', 'position_1x00', 'P:71', 'position_2x00', 'P:69', 'position_3x00', 'P:64', 'bar', 'position_0x00', 'P:71', 'position_3x00', 'P:69', 'bar', 'position_0x00', 'P:66', 'position_1x00', 'P:67', 'position_1x50', 'P:64', 'position_2x00', 'P:64', 'bar', 'position_0x00', 'P:66', 'position_1x00', 'P:67', 'position_1x50', 'P:64', 'position_2x00', 'P:64', 'position_3x50', 'P:66', 'bar', 'position_0x00', 'P:59', 'position_1x00', 'P:62', 'position_2x00', 'P:64', 'position_3x00', 'P:67', 'bar', 'position_0x00', 'P:66', 'position_0x50', 'P:67', 'position_1x00', 'P:64', 'position_3x00', 'P:62', 'bar', 'position_0x00', 'P:63', 'position_1x00', 'P:66', 'position_2x00', 'P:68', 'position_3x00', 'P:73', 'bar', 'position_0x00', 'P:71', 'position_0x50', 'P:73', 'position_1x00', 'P:71', 'position_3x00', 'P:71', 'bar', 'position_0x00', 'P:74', 'position_3x00', 'P:69', 'bar', 'position_0x00', 'P:72', 'position_3x00', 'P:71', 'bar', 'position_0x00', 'P:74', 'position_1x00', 'P:74', 'position_2x00', 'P:74', 'position_3x00', 'P:69', 'bar', 'position_0x00', 'P:72', 'position_1x00', 'P:72', 'position_3x00', 'P:67', 'bar', 'position_0x00', 'P:71', 'position_3x00', 'P:67', 'bar', 'position_0x00', 'P:69', 'position_3x00', 'P:67', 'bar', 'position_0x00', 'P:71', 'position_1x00', 'P:69', 'position_2x00', 'P:67', 'position_3x00', 'P:66', 'bar', 'position_0x00', 'P:64', 'position_1x00', 'P:66', 'position_3x00', 'P:62', 'bar', 'position_0x00', 'P:69', 'position_3x00', 'P:64', 'bar', 'position_0x00', 'P:71', 'position_0x75', 'P:71', 'position_1x00', 'P:71', 'position_3x00', 'P:69', 'bar', 'position_0x00', 'P:66', 'position_1x00', 'P:67', 'position_2x00', 'P:69', 'position_3x00', 'P:71', 'bar', 'position_0x00', 'P:74', 'position_3x00', 'P:71', 'bar', 'position_0x00', 'P:74', 'position_1x00', 'P:73', 'position_2x00', 'P:72', 'position_3x00', 'P:64', 'bar', 'position_0x00', 'P:74', 'position_0x50', 'P:73', 'position_1x00', 'P:72', 'position_3x00', 'P:71', 'bar', 'position_0x00', 'P:69', 'position_1x00', 'P:71', 'position_2x00', 'P:67', 'position_3x00', 'P:69', 'bar', 'position_0x00', 'P:67', 'position_3x00', 'Rest']\n",
      "[5, 94, 54, 121, 49, 5, 94, 56, 101, 56, 103, 56, 121, 49, 5, 94, 54, 103, 56, 112, 54, 121, 49, 5, 94, 56, 121, 54, 5, 94, 51, 103, 52, 108, 49, 112, 49, 5, 94, 51, 103, 52, 108, 49, 112, 49, 126, 51, 5, 94, 44, 103, 47, 112, 49, 121, 52, 5, 94, 51, 99, 52, 103, 49, 121, 47, 5, 94, 48, 103, 51, 112, 53, 121, 58, 5, 94, 56, 99, 58, 103, 56, 121, 56, 5, 94, 59, 121, 54, 5, 94, 57, 121, 56, 5, 94, 59, 103, 59, 112, 59, 121, 54, 5, 94, 57, 103, 57, 121, 52, 5, 94, 56, 121, 52, 5, 94, 54, 121, 52, 5, 94, 56, 103, 54, 112, 52, 121, 51, 5, 94, 49, 103, 51, 121, 47, 5, 94, 54, 121, 49, 5, 94, 56, 101, 56, 103, 56, 121, 54, 5, 94, 51, 103, 52, 112, 54, 121, 56, 5, 94, 59, 121, 56, 5, 94, 59, 103, 58, 112, 57, 121, 49, 5, 94, 59, 99, 58, 103, 57, 121, 56, 5, 94, 54, 103, 56, 112, 52, 121, 54, 5, 94, 52, 121, 4]\n",
      "vocab_size:  184\n",
      "mean len:  241.8323076923077\n",
      "std len:  88.73966003938332\n",
      "mean cr:  0.11353269972158636\n",
      "std cr:  0.02323730549065121\n"
     ]
    },
    {
     "name": "stderr",
     "output_type": "stream",
     "text": [
      "\n"
     ]
    }
   ],
   "source": [
    "print('MelodyPitchTokenizer_m21')\n",
    "melodyPitchTokenizer = MelodyPitchTokenizer(min_pitch=21, max_pitch=108) #default range, need to adjust\n",
    "print('len(melodyPitchTokenizer.vocab): ', len(melodyPitchTokenizer.vocab))\n",
    "initialize_stats('MelodyPitchTokenizer', melodyPitchTokenizer)\n",
    "toks_cs = melodyPitchTokenizer(data_files)\n",
    "print('example sentence length: ', len(toks_cs['tokens'][0]))\n",
    "print(toks_cs['tokens'][0])\n",
    "print(toks_cs['ids'][0])\n",
    "update_stats('MelodyPitchTokenizer', toks_cs)\n",
    "print_stats('MelodyPitchTokenizer')"
   ]
  },
  {
   "cell_type": "code",
   "execution_count": 9,
   "metadata": {},
   "outputs": [],
   "source": [
    "# print stats\n",
    "tokenizers = ['ChordSymbolTokenizer', 'MelodyPitchTokenizer'\n",
    "              ]\n",
    "\n",
    "results_path = 'vocab_stats_hk_m21.csv' #for hook theory\n",
    "\n",
    "result_fields = ['Tokenizer_m21', 'vocab_size'] + list( stats['ChordSymbolTokenizer'].keys() )[3:]\n",
    "\n",
    "with open( results_path, 'w' ) as f:\n",
    "    writer = csv.writer(f)\n",
    "    writer.writerow( result_fields )\n",
    "\n",
    "for tok in tokenizers:\n",
    "    with open( results_path, 'a' ) as f:\n",
    "            writer = csv.writer(f)\n",
    "            writer.writerow( [tok] + [stats[tok]['vocab_size']] + list( stats[tok].values() )[3:] )"
   ]
  }
 ],
 "metadata": {
  "kernelspec": {
   "display_name": "midi",
   "language": "python",
   "name": "python3"
  },
  "language_info": {
   "codemirror_mode": {
    "name": "ipython",
    "version": 3
   },
   "file_extension": ".py",
   "mimetype": "text/x-python",
   "name": "python",
   "nbconvert_exporter": "python",
   "pygments_lexer": "ipython3",
   "version": "3.11.5"
  }
 },
 "nbformat": 4,
 "nbformat_minor": 2
}
