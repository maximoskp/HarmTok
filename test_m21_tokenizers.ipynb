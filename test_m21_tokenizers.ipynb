{
 "cells": [
  {
   "cell_type": "code",
   "execution_count": 1,
   "metadata": {},
   "outputs": [
    {
     "name": "stderr",
     "output_type": "stream",
     "text": [
      "/home/maximos/anaconda3/envs/midi/lib/python3.11/site-packages/tqdm/auto.py:21: TqdmWarning: IProgress not found. Please update jupyter and ipywidgets. See https://ipywidgets.readthedocs.io/en/stable/user_install.html\n",
      "  from .autonotebook import tqdm as notebook_tqdm\n",
      "None of PyTorch, TensorFlow >= 2.0, or Flax have been found. Models won't be available and only tokenizers, configuration and file/data utilities can be used.\n"
     ]
    }
   ],
   "source": [
    "import os\n",
    "import csv\n",
    "import zlib\n",
    "import numpy as np\n",
    "from harmony_tokenizers_m21 import ChordSymbolTokenizer, RootTypeTokenizer, \\\n",
    "    PitchClassTokenizer, RootPCTokenizer, GCTRootPCTokenizer, \\\n",
    "    GCTSymbolTokenizer, GCTRootTypeTokenizer, MelodyPitchTokenizer, \\\n",
    "    MergedMelHarmTokenizer"
   ]
  },
  {
   "cell_type": "code",
   "execution_count": 2,
   "metadata": {},
   "outputs": [
    {
     "name": "stdout",
     "output_type": "stream",
     "text": [
      "Total files from Hook Theory dataset: 650\n"
     ]
    }
   ],
   "source": [
    "# root_dir = '/media/datadisk/datasets/hooktheory_xmls'\n",
    "root_dir = 'data/gjt_melodies/Library_melodies/'\n",
    "data_files = []\n",
    "\n",
    "# Walk through all subdirectories and files\n",
    "for dirpath, _, filenames in os.walk(root_dir):\n",
    "    for file in filenames:\n",
    "        if file.endswith('.xml') or file.endswith('.mxl'):\n",
    "            full_path = os.path.join(dirpath, file)\n",
    "            data_files.append(full_path)\n",
    "\n",
    "print('Total files from Hook Theory dataset:', len(data_files))"
   ]
  },
  {
   "cell_type": "code",
   "execution_count": 3,
   "metadata": {},
   "outputs": [],
   "source": [
    "# prepare stats\n",
    "stats = {}\n",
    "\n",
    "def compute_compression_rate(array: np.ndarray, compression_method=zlib.compress) -> float:\n",
    "    \"\"\"\n",
    "    Compute the compression rate of a NumPy array.\n",
    "\n",
    "    Parameters:\n",
    "        array (np.ndarray): The NumPy array to compress.\n",
    "        compression_method (callable): The compression method to use. \n",
    "                                       Default is `zlib.compress`.\n",
    "\n",
    "    Returns:\n",
    "        float: The compression rate (compressed size / original size).\n",
    "    \"\"\"\n",
    "    # Convert the array to bytes\n",
    "    array_bytes = array.tobytes()\n",
    "    \n",
    "    # Compress the byte representation\n",
    "    compressed_bytes = compression_method(array_bytes)\n",
    "    \n",
    "    # Compute sizes\n",
    "    original_size = len(array_bytes)\n",
    "    compressed_size = len(compressed_bytes)\n",
    "    \n",
    "    # Calculate compression rate\n",
    "    compression_rate = compressed_size / original_size\n",
    "\n",
    "    return compression_rate\n",
    "\n",
    "def initialize_stats(key, tokenizer):\n",
    "    stats[key] = {\n",
    "        'vocab_size': len(tokenizer.vocab),\n",
    "        'seq_lens': [],\n",
    "        'compression_rates': []\n",
    "    }\n",
    "# end initialize_stats\n",
    "\n",
    "def update_stats(key, toks):\n",
    "    for t in toks['ids']:\n",
    "        stats[key]['seq_lens'].append( len(t) )\n",
    "        stats[key]['compression_rates'].append( compute_compression_rate(np.array(t)) )\n",
    "    stats[key]['mean_len'] = np.mean(stats[key]['seq_lens'])\n",
    "    stats[key]['std_len'] = np.std(stats[key]['seq_lens'])\n",
    "    stats[key]['mean_compression'] = np.mean(stats[key]['compression_rates'])\n",
    "    stats[key]['std_compression'] = np.std(stats[key]['compression_rates'])\n",
    "# end update_stats\n",
    "\n",
    "def print_stats(key):\n",
    "    print('vocab_size: ', stats[key]['vocab_size'])\n",
    "    print('mean len: ', stats[key]['mean_len'])\n",
    "    print('std len: ', stats[key]['std_len'])\n",
    "    print('mean cr: ', stats[key]['mean_compression'])\n",
    "    print('std cr: ', stats[key]['std_compression'])"
   ]
  },
  {
   "cell_type": "code",
   "execution_count": 4,
   "metadata": {},
   "outputs": [
    {
     "name": "stdout",
     "output_type": "stream",
     "text": [
      "ChordSymbolTokenizer_m21\n",
      "len(chordSymbolTokenizer.vocab):  445\n"
     ]
    },
    {
     "name": "stderr",
     "output_type": "stream",
     "text": [
      "Processing Files:   0%|          | 0/650 [00:00<?, ?it/s]/home/maximos/anaconda3/envs/midi/lib/python3.11/site-packages/music21/stream/base.py:3689: Music21DeprecationWarning: .flat is deprecated.  Call .flatten() instead\n",
      "  return self.iter().getElementsByClass(classFilterList)\n",
      "Processing Files:   3%|▎         | 20/650 [00:01<00:54, 11.50it/s]/home/maximos/anaconda3/envs/midi/lib/python3.11/site-packages/music21/stream/base.py:3689: Music21DeprecationWarning: .flat is deprecated.  Call .flatten() instead\n",
      "  return self.iter().getElementsByClass(classFilterList)\n",
      "Processing Files:   5%|▍         | 32/650 [00:02<00:53, 11.61it/s]In /home/maximos/anaconda3/envs/midi/lib/python3.11/site-packages/matplotlib/mpl-data/stylelib/seaborn-v0_8-deep.mplstyle: .flat is deprecated.  Call .flatten() instead\n",
      "Processing Files:   5%|▌         | 34/650 [00:02<00:51, 12.06it/s]In /home/maximos/anaconda3/envs/midi/lib/python3.11/site-packages/matplotlib/mpl-data/stylelib/seaborn-v0_8-dark.mplstyle: .flat is deprecated.  Call .flatten() instead\n",
      "In /home/maximos/anaconda3/envs/midi/lib/python3.11/site-packages/matplotlib/mpl-data/stylelib/petroff10.mplstyle: .flat is deprecated.  Call .flatten() instead\n",
      "Processing Files:   6%|▌         | 36/650 [00:02<00:47, 12.81it/s]In /home/maximos/anaconda3/envs/midi/lib/python3.11/site-packages/matplotlib/mpl-data/stylelib/bmh.mplstyle: .flat is deprecated.  Call .flatten() instead\n",
      "In /home/maximos/anaconda3/envs/midi/lib/python3.11/site-packages/matplotlib/mpl-data/stylelib/classic.mplstyle: .flat is deprecated.  Call .flatten() instead\n",
      "Processing Files:   6%|▌         | 38/650 [00:02<00:48, 12.58it/s]/home/maximos/anaconda3/envs/midi/lib/python3.11/site-packages/music21/stream/base.py:3689: Music21DeprecationWarning: .flat is deprecated.  Call .flatten() instead\n",
      "  return self.iter().getElementsByClass(classFilterList)\n",
      "Processing Files: 100%|██████████| 650/650 [00:48<00:00, 13.35it/s]"
     ]
    },
    {
     "name": "stdout",
     "output_type": "stream",
     "text": [
      "example sentence length:  88\n",
      "['<bar>', 'position_0x00', 'A:min7', '<bar>', 'position_0x00', 'D:7', '<bar>', 'position_0x00', 'A:min7', '<bar>', 'position_0x00', 'D:7', '<bar>', 'position_0x00', 'G:maj7', '<bar>', 'position_0x00', 'C:7(#11)', '<bar>', 'position_0x00', 'B:min7', '<bar>', 'position_0x00', 'E:min7', '<bar>', 'position_0x00', 'B:maj7', 'position_2x00', 'F#:7', '<bar>', 'position_0x00', 'B:maj6', '<bar>', 'position_0x00', 'D:min7', '<bar>', 'position_0x00', 'G:7', '<bar>', 'position_0x00', 'D:min7', '<bar>', 'position_0x00', 'G:7', '<bar>', 'position_0x00', 'C:maj7', '<bar>', 'position_0x00', 'F:7', '<bar>', 'position_0x00', 'E:min7', 'position_2x00', 'A:7', '<bar>', 'position_0x00', 'A:min7', 'position_2x00', 'D:7', '<bar>', 'position_0x00', 'A:min7', '<bar>', 'position_0x00', 'D:7', '<bar>', 'position_0x00', 'G:maj7', 'position_2x00', 'F:7', '<bar>', 'position_0x00', 'E:7(b9)', '<bar>', 'position_0x00', 'A:min7', '<bar>', 'position_0x00', 'F:7', '<bar>', 'position_0x00', 'A:min7', 'position_2x00', 'D:7', '<bar>', 'position_0x00', 'G:maj6']\n",
      "[6, 7, 366, 6, 7, 161, 6, 7, 366, 6, 7, 161, 6, 7, 307, 6, 7, 124, 6, 7, 424, 6, 7, 221, 6, 7, 423, 25, 277, 6, 7, 426, 6, 7, 163, 6, 7, 306, 6, 7, 163, 6, 7, 306, 6, 7, 104, 6, 7, 248, 6, 7, 221, 25, 364, 6, 7, 366, 25, 161, 6, 7, 366, 6, 7, 161, 6, 7, 307, 25, 248, 6, 7, 238, 6, 7, 366, 6, 7, 248, 6, 7, 366, 25, 161, 6, 7, 310]\n",
      "vocab_size:  445\n",
      "mean len:  103.60307692307693\n",
      "std len:  34.29661552815949\n",
      "mean cr:  0.1166268864593518\n",
      "std cr:  0.02595736037453388\n"
     ]
    },
    {
     "name": "stderr",
     "output_type": "stream",
     "text": [
      "\n"
     ]
    }
   ],
   "source": [
    "print('ChordSymbolTokenizer_m21')\n",
    "chordSymbolTokenizer = ChordSymbolTokenizer()\n",
    "print('len(chordSymbolTokenizer.vocab): ', len(chordSymbolTokenizer.vocab))\n",
    "initialize_stats('ChordSymbolTokenizer', chordSymbolTokenizer)\n",
    "toks_cs = chordSymbolTokenizer(data_files)\n",
    "print('example sentence length: ', len(toks_cs['tokens'][0]))\n",
    "print(toks_cs['tokens'][0])\n",
    "print(toks_cs['ids'][0])\n",
    "update_stats('ChordSymbolTokenizer', toks_cs)\n",
    "print_stats('ChordSymbolTokenizer')"
   ]
  },
  {
   "cell_type": "code",
   "execution_count": 5,
   "metadata": {},
   "outputs": [
    {
     "name": "stdout",
     "output_type": "stream",
     "text": [
      "RootTypeTokenizer\n",
      "len(rootTypeTokenizer.vocab):  137\n"
     ]
    },
    {
     "name": "stderr",
     "output_type": "stream",
     "text": [
      "Processing Files: 100%|██████████| 650/650 [00:48<00:00, 13.43it/s]"
     ]
    },
    {
     "name": "stdout",
     "output_type": "stream",
     "text": [
      "example sentence length:  119\n",
      "['bar', 'position_0x00', 'A', 'min7', 'bar', 'position_0x00', 'D', '7', 'bar', 'position_0x00', 'A', 'min7', 'bar', 'position_0x00', 'D', '7', 'bar', 'position_0x00', 'G', 'maj7', 'bar', 'position_0x00', 'C', '7(#11)', 'bar', 'position_0x00', 'B', 'min7', 'bar', 'position_0x00', 'E', 'min7', 'bar', 'position_0x00', 'B', 'maj7', 'position_2x00', 'F#', '7', 'bar', 'position_0x00', 'B', 'maj6', 'bar', 'position_0x00', 'D', 'min7', 'bar', 'position_0x00', 'G', '7', 'bar', 'position_0x00', 'D', 'min7', 'bar', 'position_0x00', 'G', '7', 'bar', 'position_0x00', 'C', 'maj7', 'bar', 'position_0x00', 'F', '7', 'bar', 'position_0x00', 'E', 'min7', 'position_2x00', 'A', '7', 'bar', 'position_0x00', 'A', 'min7', 'position_2x00', 'D', '7', 'bar', 'position_0x00', 'A', 'min7', 'bar', 'position_0x00', 'D', '7', 'bar', 'position_0x00', 'G', 'maj7', 'position_2x00', 'F', '7', 'bar', 'position_0x00', 'E', '7(b9)', 'bar', 'position_0x00', 'A', 'min7', 'bar', 'position_0x00', 'F', '7', 'bar', 'position_0x00', 'A', 'min7', 'position_2x00', 'D', '7', 'bar', 'position_0x00', 'G', 'maj6']\n",
      "[5, 6, 105, 116, 5, 6, 98, 114, 5, 6, 105, 116, 5, 6, 98, 114, 5, 6, 103, 115, 5, 6, 96, 135, 5, 6, 107, 116, 5, 6, 100, 116, 5, 6, 107, 115, 24, 102, 114, 5, 6, 107, 118, 5, 6, 98, 116, 5, 6, 103, 114, 5, 6, 98, 116, 5, 6, 103, 114, 5, 6, 96, 115, 5, 6, 101, 114, 5, 6, 100, 116, 24, 105, 114, 5, 6, 105, 116, 24, 98, 114, 5, 6, 105, 116, 5, 6, 98, 114, 5, 6, 103, 115, 24, 101, 114, 5, 6, 100, 133, 5, 6, 105, 116, 5, 6, 101, 114, 5, 6, 105, 116, 24, 98, 114, 5, 6, 103, 118]\n",
      "vocab_size:  137\n",
      "mean len:  141.68769230769232\n",
      "std len:  47.76576826296714\n",
      "mean cr:  0.10193202365080004\n",
      "std cr:  0.022437982066015244\n"
     ]
    },
    {
     "name": "stderr",
     "output_type": "stream",
     "text": [
      "\n"
     ]
    }
   ],
   "source": [
    "print('RootTypeTokenizer')\n",
    "rootTypeTokenizer = RootTypeTokenizer()\n",
    "print('len(rootTypeTokenizer.vocab): ', len(rootTypeTokenizer.vocab))\n",
    "initialize_stats('RootTypeTokenizer', rootTypeTokenizer)\n",
    "toks_rt = rootTypeTokenizer(data_files)\n",
    "print('example sentence length: ', len(toks_rt['tokens'][0]))\n",
    "print(toks_rt['tokens'][0])\n",
    "print(toks_rt['ids'][0])\n",
    "update_stats('RootTypeTokenizer', toks_rt)\n",
    "print_stats('RootTypeTokenizer')"
   ]
  },
  {
   "cell_type": "code",
   "execution_count": 6,
   "metadata": {},
   "outputs": [
    {
     "name": "stdout",
     "output_type": "stream",
     "text": [
      "PitchClassTokenizer\n",
      "len(pitchClassTokenizer.vocab):  108\n"
     ]
    },
    {
     "name": "stderr",
     "output_type": "stream",
     "text": [
      "Processing Files: 100%|██████████| 650/650 [00:49<00:00, 13.09it/s]"
     ]
    },
    {
     "name": "stdout",
     "output_type": "stream",
     "text": [
      "example sentence length:  183\n",
      "['bar', 'position_0x00', 'chord_pc_9', 'chord_pc_0', 'chord_pc_4', 'chord_pc_7', 'bar', 'position_0x00', 'chord_pc_2', 'chord_pc_6', 'chord_pc_9', 'chord_pc_0', 'bar', 'position_0x00', 'chord_pc_9', 'chord_pc_0', 'chord_pc_4', 'chord_pc_7', 'bar', 'position_0x00', 'chord_pc_2', 'chord_pc_6', 'chord_pc_9', 'chord_pc_0', 'bar', 'position_0x00', 'chord_pc_7', 'chord_pc_11', 'chord_pc_2', 'chord_pc_6', 'bar', 'position_0x00', 'chord_pc_0', 'chord_pc_4', 'chord_pc_6', 'chord_pc_7', 'chord_pc_10', 'bar', 'position_0x00', 'chord_pc_11', 'chord_pc_2', 'chord_pc_6', 'chord_pc_9', 'bar', 'position_0x00', 'chord_pc_4', 'chord_pc_7', 'chord_pc_11', 'chord_pc_2', 'bar', 'position_0x00', 'chord_pc_11', 'chord_pc_3', 'chord_pc_6', 'chord_pc_10', 'position_2x00', 'chord_pc_6', 'chord_pc_10', 'chord_pc_1', 'chord_pc_4', 'bar', 'position_0x00', 'chord_pc_11', 'chord_pc_3', 'chord_pc_6', 'chord_pc_8', 'bar', 'position_0x00', 'chord_pc_2', 'chord_pc_5', 'chord_pc_9', 'chord_pc_0', 'bar', 'position_0x00', 'chord_pc_7', 'chord_pc_11', 'chord_pc_2', 'chord_pc_5', 'bar', 'position_0x00', 'chord_pc_2', 'chord_pc_5', 'chord_pc_9', 'chord_pc_0', 'bar', 'position_0x00', 'chord_pc_7', 'chord_pc_11', 'chord_pc_2', 'chord_pc_5', 'bar', 'position_0x00', 'chord_pc_0', 'chord_pc_4', 'chord_pc_7', 'chord_pc_11', 'bar', 'position_0x00', 'chord_pc_5', 'chord_pc_9', 'chord_pc_0', 'chord_pc_3', 'bar', 'position_0x00', 'chord_pc_4', 'chord_pc_7', 'chord_pc_11', 'chord_pc_2', 'position_2x00', 'chord_pc_9', 'chord_pc_1', 'chord_pc_4', 'chord_pc_7', 'bar', 'position_0x00', 'chord_pc_9', 'chord_pc_0', 'chord_pc_4', 'chord_pc_7', 'position_2x00', 'chord_pc_2', 'chord_pc_6', 'chord_pc_9', 'chord_pc_0', 'bar', 'position_0x00', 'chord_pc_9', 'chord_pc_0', 'chord_pc_4', 'chord_pc_7', 'bar', 'position_0x00', 'chord_pc_2', 'chord_pc_6', 'chord_pc_9', 'chord_pc_0', 'bar', 'position_0x00', 'chord_pc_7', 'chord_pc_11', 'chord_pc_2', 'chord_pc_6', 'position_2x00', 'chord_pc_5', 'chord_pc_9', 'chord_pc_0', 'chord_pc_3', 'bar', 'position_0x00', 'chord_pc_4', 'chord_pc_5', 'chord_pc_8', 'chord_pc_11', 'chord_pc_2', 'bar', 'position_0x00', 'chord_pc_9', 'chord_pc_0', 'chord_pc_4', 'chord_pc_7', 'bar', 'position_0x00', 'chord_pc_5', 'chord_pc_9', 'chord_pc_0', 'chord_pc_3', 'bar', 'position_0x00', 'chord_pc_9', 'chord_pc_0', 'chord_pc_4', 'chord_pc_7', 'position_2x00', 'chord_pc_2', 'chord_pc_6', 'chord_pc_9', 'chord_pc_0', 'bar', 'position_0x00', 'chord_pc_7', 'chord_pc_11', 'chord_pc_2', 'chord_pc_4']\n",
      "[5, 6, 105, 96, 100, 103, 5, 6, 98, 102, 105, 96, 5, 6, 105, 96, 100, 103, 5, 6, 98, 102, 105, 96, 5, 6, 103, 107, 98, 102, 5, 6, 96, 100, 102, 103, 106, 5, 6, 107, 98, 102, 105, 5, 6, 100, 103, 107, 98, 5, 6, 107, 99, 102, 106, 24, 102, 106, 97, 100, 5, 6, 107, 99, 102, 104, 5, 6, 98, 101, 105, 96, 5, 6, 103, 107, 98, 101, 5, 6, 98, 101, 105, 96, 5, 6, 103, 107, 98, 101, 5, 6, 96, 100, 103, 107, 5, 6, 101, 105, 96, 99, 5, 6, 100, 103, 107, 98, 24, 105, 97, 100, 103, 5, 6, 105, 96, 100, 103, 24, 98, 102, 105, 96, 5, 6, 105, 96, 100, 103, 5, 6, 98, 102, 105, 96, 5, 6, 103, 107, 98, 102, 24, 101, 105, 96, 99, 5, 6, 100, 101, 104, 107, 98, 5, 6, 105, 96, 100, 103, 5, 6, 101, 105, 96, 99, 5, 6, 105, 96, 100, 103, 24, 98, 102, 105, 96, 5, 6, 103, 107, 98, 100]\n",
      "vocab_size:  108\n",
      "mean len:  221.54461538461538\n",
      "std len:  76.19775088699592\n",
      "mean cr:  0.08633365140478433\n",
      "std cr:  0.019627991556314325\n"
     ]
    },
    {
     "name": "stderr",
     "output_type": "stream",
     "text": [
      "\n"
     ]
    }
   ],
   "source": [
    "print('PitchClassTokenizer')\n",
    "pitchClassTokenizer = PitchClassTokenizer()\n",
    "print('len(pitchClassTokenizer.vocab): ', len(pitchClassTokenizer.vocab))\n",
    "initialize_stats('PitchClassTokenizer', pitchClassTokenizer)\n",
    "toks_pc = pitchClassTokenizer(data_files)\n",
    "print('example sentence length: ', len(toks_pc['tokens'][0]))\n",
    "print(toks_pc['tokens'][0])\n",
    "print(toks_pc['ids'][0])\n",
    "update_stats('PitchClassTokenizer', toks_pc)\n",
    "print_stats('PitchClassTokenizer')"
   ]
  },
  {
   "cell_type": "code",
   "execution_count": 7,
   "metadata": {},
   "outputs": [
    {
     "name": "stdout",
     "output_type": "stream",
     "text": [
      "RootPCTokenizer\n",
      "len(rootPCTokenizer.vocab):  120\n"
     ]
    },
    {
     "name": "stderr",
     "output_type": "stream",
     "text": [
      "Processing Files: 100%|██████████| 650/650 [00:32<00:00, 20.22it/s]"
     ]
    },
    {
     "name": "stdout",
     "output_type": "stream",
     "text": [
      "example sentence length:  183\n",
      "['bar', 'position_0x00', 'chord_root_9', 'chord_pc_0', 'chord_pc_4', 'chord_pc_7', 'bar', 'position_0x00', 'chord_root_2', 'chord_pc_6', 'chord_pc_9', 'chord_pc_0', 'bar', 'position_0x00', 'chord_root_9', 'chord_pc_0', 'chord_pc_4', 'chord_pc_7', 'bar', 'position_0x00', 'chord_root_2', 'chord_pc_6', 'chord_pc_9', 'chord_pc_0', 'bar', 'position_0x00', 'chord_root_7', 'chord_pc_11', 'chord_pc_2', 'chord_pc_6', 'bar', 'position_0x00', 'chord_root_0', 'chord_pc_4', 'chord_pc_6', 'chord_pc_7', 'chord_pc_10', 'bar', 'position_0x00', 'chord_root_11', 'chord_pc_2', 'chord_pc_6', 'chord_pc_9', 'bar', 'position_0x00', 'chord_root_4', 'chord_pc_7', 'chord_pc_11', 'chord_pc_2', 'bar', 'position_0x00', 'chord_root_11', 'chord_pc_3', 'chord_pc_6', 'chord_pc_10', 'position_2x00', 'chord_root_6', 'chord_pc_10', 'chord_pc_1', 'chord_pc_4', 'bar', 'position_0x00', 'chord_root_11', 'chord_pc_3', 'chord_pc_6', 'chord_pc_8', 'bar', 'position_0x00', 'chord_root_2', 'chord_pc_5', 'chord_pc_9', 'chord_pc_0', 'bar', 'position_0x00', 'chord_root_7', 'chord_pc_11', 'chord_pc_2', 'chord_pc_5', 'bar', 'position_0x00', 'chord_root_2', 'chord_pc_5', 'chord_pc_9', 'chord_pc_0', 'bar', 'position_0x00', 'chord_root_7', 'chord_pc_11', 'chord_pc_2', 'chord_pc_5', 'bar', 'position_0x00', 'chord_root_0', 'chord_pc_4', 'chord_pc_7', 'chord_pc_11', 'bar', 'position_0x00', 'chord_root_5', 'chord_pc_9', 'chord_pc_0', 'chord_pc_3', 'bar', 'position_0x00', 'chord_root_4', 'chord_pc_7', 'chord_pc_11', 'chord_pc_2', 'position_2x00', 'chord_root_9', 'chord_pc_1', 'chord_pc_4', 'chord_pc_7', 'bar', 'position_0x00', 'chord_root_9', 'chord_pc_0', 'chord_pc_4', 'chord_pc_7', 'position_2x00', 'chord_root_2', 'chord_pc_6', 'chord_pc_9', 'chord_pc_0', 'bar', 'position_0x00', 'chord_root_9', 'chord_pc_0', 'chord_pc_4', 'chord_pc_7', 'bar', 'position_0x00', 'chord_root_2', 'chord_pc_6', 'chord_pc_9', 'chord_pc_0', 'bar', 'position_0x00', 'chord_root_7', 'chord_pc_11', 'chord_pc_2', 'chord_pc_6', 'position_2x00', 'chord_root_5', 'chord_pc_9', 'chord_pc_0', 'chord_pc_3', 'bar', 'position_0x00', 'chord_root_4', 'chord_pc_5', 'chord_pc_8', 'chord_pc_11', 'chord_pc_2', 'bar', 'position_0x00', 'chord_root_9', 'chord_pc_0', 'chord_pc_4', 'chord_pc_7', 'bar', 'position_0x00', 'chord_root_5', 'chord_pc_9', 'chord_pc_0', 'chord_pc_3', 'bar', 'position_0x00', 'chord_root_9', 'chord_pc_0', 'chord_pc_4', 'chord_pc_7', 'position_2x00', 'chord_root_2', 'chord_pc_6', 'chord_pc_9', 'chord_pc_0', 'bar', 'position_0x00', 'chord_root_7', 'chord_pc_11', 'chord_pc_2', 'chord_pc_4']\n",
      "[5, 6, 105, 108, 112, 115, 5, 6, 98, 114, 117, 108, 5, 6, 105, 108, 112, 115, 5, 6, 98, 114, 117, 108, 5, 6, 103, 119, 110, 114, 5, 6, 96, 112, 114, 115, 118, 5, 6, 107, 110, 114, 117, 5, 6, 100, 115, 119, 110, 5, 6, 107, 111, 114, 118, 24, 102, 118, 109, 112, 5, 6, 107, 111, 114, 116, 5, 6, 98, 113, 117, 108, 5, 6, 103, 119, 110, 113, 5, 6, 98, 113, 117, 108, 5, 6, 103, 119, 110, 113, 5, 6, 96, 112, 115, 119, 5, 6, 101, 117, 108, 111, 5, 6, 100, 115, 119, 110, 24, 105, 109, 112, 115, 5, 6, 105, 108, 112, 115, 24, 98, 114, 117, 108, 5, 6, 105, 108, 112, 115, 5, 6, 98, 114, 117, 108, 5, 6, 103, 119, 110, 114, 24, 101, 117, 108, 111, 5, 6, 100, 113, 116, 119, 110, 5, 6, 105, 108, 112, 115, 5, 6, 101, 117, 108, 111, 5, 6, 105, 108, 112, 115, 24, 98, 114, 117, 108, 5, 6, 103, 119, 110, 112]\n",
      "vocab_size:  120\n",
      "mean len:  221.54461538461538\n",
      "std len:  76.19775088699592\n",
      "mean cr:  0.093245169352101\n",
      "std cr:  0.021545758990988904\n"
     ]
    },
    {
     "name": "stderr",
     "output_type": "stream",
     "text": [
      "\n"
     ]
    }
   ],
   "source": [
    "print('RootPCTokenizer')\n",
    "rootPCTokenizer = RootPCTokenizer()\n",
    "print('len(rootPCTokenizer.vocab): ', len(rootPCTokenizer.vocab))\n",
    "initialize_stats('RootPCTokenizer', rootPCTokenizer)\n",
    "toks_rpc = rootPCTokenizer(data_files)\n",
    "print('example sentence length: ', len(toks_rpc['tokens'][0]))\n",
    "print(toks_rpc['tokens'][0])\n",
    "print(toks_rpc['ids'][0])\n",
    "update_stats('RootPCTokenizer', toks_rpc)\n",
    "print_stats('RootPCTokenizer')"
   ]
  },
  {
   "cell_type": "code",
   "execution_count": 8,
   "metadata": {},
   "outputs": [
    {
     "name": "stdout",
     "output_type": "stream",
     "text": [
      "GCTRootPCTokenizer\n",
      "len(gctRootPCTokenizer.vocab):  120\n"
     ]
    },
    {
     "name": "stderr",
     "output_type": "stream",
     "text": [
      "Processing Files: 100%|██████████| 650/650 [01:03<00:00, 10.22it/s]"
     ]
    },
    {
     "name": "stdout",
     "output_type": "stream",
     "text": [
      "example sentence length:  183\n",
      "['bar', 'position_0x00', 'chord_root_0', 'chord_pc_4', 'chord_pc_7', 'chord_pc_9', 'bar', 'position_0x00', 'chord_root_2', 'chord_pc_6', 'chord_pc_9', 'chord_pc_0', 'bar', 'position_0x00', 'chord_root_0', 'chord_pc_4', 'chord_pc_7', 'chord_pc_9', 'bar', 'position_0x00', 'chord_root_2', 'chord_pc_6', 'chord_pc_9', 'chord_pc_0', 'bar', 'position_0x00', 'chord_root_7', 'chord_pc_11', 'chord_pc_2', 'chord_pc_6', 'bar', 'position_0x00', 'chord_root_0', 'chord_pc_4', 'chord_pc_7', 'chord_pc_10', 'chord_pc_6', 'bar', 'position_0x00', 'chord_root_2', 'chord_pc_6', 'chord_pc_9', 'chord_pc_11', 'bar', 'position_0x00', 'chord_root_7', 'chord_pc_11', 'chord_pc_2', 'chord_pc_4', 'bar', 'position_0x00', 'chord_root_11', 'chord_pc_3', 'chord_pc_6', 'chord_pc_10', 'position_2x00', 'chord_root_6', 'chord_pc_10', 'chord_pc_1', 'chord_pc_4', 'bar', 'position_0x00', 'chord_root_8', 'chord_pc_11', 'chord_pc_3', 'chord_pc_6', 'bar', 'position_0x00', 'chord_root_5', 'chord_pc_9', 'chord_pc_0', 'chord_pc_2', 'bar', 'position_0x00', 'chord_root_7', 'chord_pc_11', 'chord_pc_2', 'chord_pc_5', 'bar', 'position_0x00', 'chord_root_5', 'chord_pc_9', 'chord_pc_0', 'chord_pc_2', 'bar', 'position_0x00', 'chord_root_7', 'chord_pc_11', 'chord_pc_2', 'chord_pc_5', 'bar', 'position_0x00', 'chord_root_4', 'chord_pc_7', 'chord_pc_11', 'chord_pc_0', 'bar', 'position_0x00', 'chord_root_5', 'chord_pc_9', 'chord_pc_0', 'chord_pc_3', 'bar', 'position_0x00', 'chord_root_7', 'chord_pc_11', 'chord_pc_2', 'chord_pc_4', 'position_2x00', 'chord_root_9', 'chord_pc_1', 'chord_pc_4', 'chord_pc_7', 'bar', 'position_0x00', 'chord_root_0', 'chord_pc_4', 'chord_pc_7', 'chord_pc_9', 'position_2x00', 'chord_root_2', 'chord_pc_6', 'chord_pc_9', 'chord_pc_0', 'bar', 'position_0x00', 'chord_root_0', 'chord_pc_4', 'chord_pc_7', 'chord_pc_9', 'bar', 'position_0x00', 'chord_root_2', 'chord_pc_6', 'chord_pc_9', 'chord_pc_0', 'bar', 'position_0x00', 'chord_root_7', 'chord_pc_11', 'chord_pc_2', 'chord_pc_6', 'position_2x00', 'chord_root_5', 'chord_pc_9', 'chord_pc_0', 'chord_pc_3', 'bar', 'position_0x00', 'chord_root_4', 'chord_pc_8', 'chord_pc_11', 'chord_pc_2', 'chord_pc_5', 'bar', 'position_0x00', 'chord_root_0', 'chord_pc_4', 'chord_pc_7', 'chord_pc_9', 'bar', 'position_0x00', 'chord_root_5', 'chord_pc_9', 'chord_pc_0', 'chord_pc_3', 'bar', 'position_0x00', 'chord_root_0', 'chord_pc_4', 'chord_pc_7', 'chord_pc_9', 'position_2x00', 'chord_root_2', 'chord_pc_6', 'chord_pc_9', 'chord_pc_0', 'bar', 'position_0x00', 'chord_root_7', 'chord_pc_11', 'chord_pc_2', 'chord_pc_4']\n",
      "[5, 6, 96, 112, 115, 117, 5, 6, 98, 114, 117, 108, 5, 6, 96, 112, 115, 117, 5, 6, 98, 114, 117, 108, 5, 6, 103, 119, 110, 114, 5, 6, 96, 112, 115, 118, 114, 5, 6, 98, 114, 117, 119, 5, 6, 103, 119, 110, 112, 5, 6, 107, 111, 114, 118, 24, 102, 118, 109, 112, 5, 6, 104, 119, 111, 114, 5, 6, 101, 117, 108, 110, 5, 6, 103, 119, 110, 113, 5, 6, 101, 117, 108, 110, 5, 6, 103, 119, 110, 113, 5, 6, 100, 115, 119, 108, 5, 6, 101, 117, 108, 111, 5, 6, 103, 119, 110, 112, 24, 105, 109, 112, 115, 5, 6, 96, 112, 115, 117, 24, 98, 114, 117, 108, 5, 6, 96, 112, 115, 117, 5, 6, 98, 114, 117, 108, 5, 6, 103, 119, 110, 114, 24, 101, 117, 108, 111, 5, 6, 100, 116, 119, 110, 113, 5, 6, 96, 112, 115, 117, 5, 6, 101, 117, 108, 111, 5, 6, 96, 112, 115, 117, 24, 98, 114, 117, 108, 5, 6, 103, 119, 110, 112]\n",
      "vocab_size:  120\n",
      "mean len:  221.54461538461538\n",
      "std len:  76.19775088699592\n",
      "mean cr:  0.09200214123363351\n",
      "std cr:  0.020959198907088306\n"
     ]
    },
    {
     "name": "stderr",
     "output_type": "stream",
     "text": [
      "\n"
     ]
    }
   ],
   "source": [
    "print('GCTRootPCTokenizer')\n",
    "gctRootPCTokenizer = GCTRootPCTokenizer()\n",
    "print('len(gctRootPCTokenizer.vocab): ', len(gctRootPCTokenizer.vocab))\n",
    "initialize_stats('GCTRootPCTokenizer', gctRootPCTokenizer)\n",
    "toks_gct_rpc = gctRootPCTokenizer(data_files)\n",
    "print('example sentence length: ', len(toks_gct_rpc['tokens'][0]))\n",
    "print(toks_gct_rpc['tokens'][0])\n",
    "print(toks_gct_rpc['ids'][0])\n",
    "update_stats('GCTRootPCTokenizer', toks_gct_rpc)\n",
    "print_stats('GCTRootPCTokenizer')"
   ]
  },
  {
   "cell_type": "code",
   "execution_count": 9,
   "metadata": {},
   "outputs": [
    {
     "name": "stdout",
     "output_type": "stream",
     "text": [
      "GCTSymbolTokenizer\n",
      "training\n"
     ]
    },
    {
     "name": "stderr",
     "output_type": "stream",
     "text": [
      "Processing Files: 100%|██████████| 650/650 [01:05<00:00,  9.90it/s]\n"
     ]
    },
    {
     "name": "stdout",
     "output_type": "stream",
     "text": [
      "len(gctSymbolTokenizer.vocab):  324\n"
     ]
    },
    {
     "name": "stderr",
     "output_type": "stream",
     "text": [
      "Processing Files: 100%|██████████| 650/650 [01:06<00:00,  9.82it/s]"
     ]
    },
    {
     "name": "stdout",
     "output_type": "stream",
     "text": [
      "example sentence length:  88\n",
      "['bar', 'position_0x00', '[0 0 4 7 9]', 'bar', 'position_0x00', '[ 2  0  4  7 10]', 'bar', 'position_0x00', '[0 0 4 7 9]', 'bar', 'position_0x00', '[ 2  0  4  7 10]', 'bar', 'position_0x00', '[ 7  0  4  7 11]', 'bar', 'position_0x00', '[ 0  0  4  7 10 18]', 'bar', 'position_0x00', '[2 0 4 7 9]', 'bar', 'position_0x00', '[7 0 4 7 9]', 'bar', 'position_0x00', '[11  0  4  7 11]', 'position_2x00', '[ 6  0  4  7 10]', 'bar', 'position_0x00', '[ 8  0  3  7 10]', 'bar', 'position_0x00', '[5 0 4 7 9]', 'bar', 'position_0x00', '[ 7  0  4  7 10]', 'bar', 'position_0x00', '[5 0 4 7 9]', 'bar', 'position_0x00', '[ 7  0  4  7 10]', 'bar', 'position_0x00', '[4 0 3 7 8]', 'bar', 'position_0x00', '[ 5  0  4  7 10]', 'bar', 'position_0x00', '[7 0 4 7 9]', 'position_2x00', '[ 9  0  4  7 10]', 'bar', 'position_0x00', '[0 0 4 7 9]', 'position_2x00', '[ 2  0  4  7 10]', 'bar', 'position_0x00', '[0 0 4 7 9]', 'bar', 'position_0x00', '[ 2  0  4  7 10]', 'bar', 'position_0x00', '[ 7  0  4  7 11]', 'position_2x00', '[ 5  0  4  7 10]', 'bar', 'position_0x00', '[ 4  0  4  7 10 13]', 'bar', 'position_0x00', '[0 0 4 7 9]', 'bar', 'position_0x00', '[ 5  0  4  7 10]', 'bar', 'position_0x00', '[0 0 4 7 9]', 'position_2x00', '[ 2  0  4  7 10]', 'bar', 'position_0x00', '[7 0 4 7 9]']\n",
      "[5, 6, 96, 5, 6, 97, 5, 6, 96, 5, 6, 97, 5, 6, 98, 5, 6, 99, 5, 6, 100, 5, 6, 101, 5, 6, 102, 24, 103, 5, 6, 104, 5, 6, 105, 5, 6, 106, 5, 6, 105, 5, 6, 106, 5, 6, 107, 5, 6, 108, 5, 6, 101, 24, 109, 5, 6, 96, 24, 97, 5, 6, 96, 5, 6, 97, 5, 6, 98, 24, 108, 5, 6, 110, 5, 6, 96, 5, 6, 108, 5, 6, 96, 24, 97, 5, 6, 101]\n",
      "vocab_size:  324\n",
      "mean len:  103.60307692307693\n",
      "std len:  34.29661552815949\n",
      "mean cr:  0.11050461021034852\n",
      "std cr:  0.024958655793046375\n"
     ]
    },
    {
     "name": "stderr",
     "output_type": "stream",
     "text": [
      "\n"
     ]
    }
   ],
   "source": [
    "print('GCTSymbolTokenizer')\n",
    "gctSymbolTokenizer = GCTSymbolTokenizer()\n",
    "print('training')\n",
    "gctSymbolTokenizer.fit( data_files )\n",
    "print('len(gctSymbolTokenizer.vocab): ', len(gctSymbolTokenizer.vocab))\n",
    "initialize_stats('GCTSymbolTokenizer', gctSymbolTokenizer)\n",
    "toks_gct_symb = gctSymbolTokenizer(data_files)\n",
    "print('example sentence length: ', len(toks_gct_symb['tokens'][0]))\n",
    "print(toks_gct_symb['tokens'][0])\n",
    "print(toks_gct_symb['ids'][0])\n",
    "update_stats('GCTSymbolTokenizer', toks_gct_symb)\n",
    "print_stats('GCTSymbolTokenizer')"
   ]
  },
  {
   "cell_type": "code",
   "execution_count": 10,
   "metadata": {},
   "outputs": [
    {
     "name": "stdout",
     "output_type": "stream",
     "text": [
      "GCTRootTypeTokenizer\n",
      "training\n"
     ]
    },
    {
     "name": "stderr",
     "output_type": "stream",
     "text": [
      "Processing Files: 100%|██████████| 650/650 [01:05<00:00,  9.86it/s]\n"
     ]
    },
    {
     "name": "stdout",
     "output_type": "stream",
     "text": [
      "len(gctRootTypeTokenizer.vocab):  153\n"
     ]
    },
    {
     "name": "stderr",
     "output_type": "stream",
     "text": [
      "Processing Files: 100%|██████████| 650/650 [01:06<00:00,  9.79it/s]"
     ]
    },
    {
     "name": "stdout",
     "output_type": "stream",
     "text": [
      "example sentence length:  119\n",
      "['bar', 'position_0x00', 'chord_root_0', '[0 4 7 9]', 'bar', 'position_0x00', 'chord_root_2', '[ 0  4  7 10]', 'bar', 'position_0x00', 'chord_root_0', '[0 4 7 9]', 'bar', 'position_0x00', 'chord_root_2', '[ 0  4  7 10]', 'bar', 'position_0x00', 'chord_root_7', '[ 0  4  7 11]', 'bar', 'position_0x00', 'chord_root_0', '[ 0  4  7 10 18]', 'bar', 'position_0x00', 'chord_root_2', '[0 4 7 9]', 'bar', 'position_0x00', 'chord_root_7', '[0 4 7 9]', 'bar', 'position_0x00', 'chord_root_11', '[ 0  4  7 11]', 'position_2x00', 'chord_root_6', '[ 0  4  7 10]', 'bar', 'position_0x00', 'chord_root_8', '[ 0  3  7 10]', 'bar', 'position_0x00', 'chord_root_5', '[0 4 7 9]', 'bar', 'position_0x00', 'chord_root_7', '[ 0  4  7 10]', 'bar', 'position_0x00', 'chord_root_5', '[0 4 7 9]', 'bar', 'position_0x00', 'chord_root_7', '[ 0  4  7 10]', 'bar', 'position_0x00', 'chord_root_4', '[0 3 7 8]', 'bar', 'position_0x00', 'chord_root_5', '[ 0  4  7 10]', 'bar', 'position_0x00', 'chord_root_7', '[0 4 7 9]', 'position_2x00', 'chord_root_9', '[ 0  4  7 10]', 'bar', 'position_0x00', 'chord_root_0', '[0 4 7 9]', 'position_2x00', 'chord_root_2', '[ 0  4  7 10]', 'bar', 'position_0x00', 'chord_root_0', '[0 4 7 9]', 'bar', 'position_0x00', 'chord_root_2', '[ 0  4  7 10]', 'bar', 'position_0x00', 'chord_root_7', '[ 0  4  7 11]', 'position_2x00', 'chord_root_5', '[ 0  4  7 10]', 'bar', 'position_0x00', 'chord_root_4', '[ 0  4  7 10 13]', 'bar', 'position_0x00', 'chord_root_0', '[0 4 7 9]', 'bar', 'position_0x00', 'chord_root_5', '[ 0  4  7 10]', 'bar', 'position_0x00', 'chord_root_0', '[0 4 7 9]', 'position_2x00', 'chord_root_2', '[ 0  4  7 10]', 'bar', 'position_0x00', 'chord_root_7', '[0 4 7 9]']\n",
      "[5, 6, 96, 108, 5, 6, 98, 109, 5, 6, 96, 108, 5, 6, 98, 109, 5, 6, 103, 110, 5, 6, 96, 111, 5, 6, 98, 108, 5, 6, 103, 108, 5, 6, 107, 110, 24, 102, 109, 5, 6, 104, 112, 5, 6, 101, 108, 5, 6, 103, 109, 5, 6, 101, 108, 5, 6, 103, 109, 5, 6, 100, 113, 5, 6, 101, 109, 5, 6, 103, 108, 24, 105, 109, 5, 6, 96, 108, 24, 98, 109, 5, 6, 96, 108, 5, 6, 98, 109, 5, 6, 103, 110, 24, 101, 109, 5, 6, 100, 114, 5, 6, 96, 108, 5, 6, 101, 109, 5, 6, 96, 108, 24, 98, 109, 5, 6, 103, 108]\n",
      "vocab_size:  153\n",
      "mean len:  141.68769230769232\n",
      "std len:  47.76576826296714\n",
      "mean cr:  0.10137530646118449\n",
      "std cr:  0.022655743531154782\n"
     ]
    },
    {
     "name": "stderr",
     "output_type": "stream",
     "text": [
      "\n"
     ]
    }
   ],
   "source": [
    "print('GCTRootTypeTokenizer')\n",
    "gctRootTypeTokenizer = GCTRootTypeTokenizer()\n",
    "print('training')\n",
    "gctRootTypeTokenizer.fit( data_files )\n",
    "print('len(gctRootTypeTokenizer.vocab): ', len(gctRootTypeTokenizer.vocab))\n",
    "initialize_stats('GCTRootTypeTokenizer', gctRootTypeTokenizer)\n",
    "toks_gct_rt = gctRootTypeTokenizer(data_files)\n",
    "print('example sentence length: ', len(toks_gct_rt['tokens'][0]))\n",
    "print(toks_gct_rt['tokens'][0])\n",
    "print(toks_gct_rt['ids'][0])\n",
    "update_stats('GCTRootTypeTokenizer', toks_gct_rt)\n",
    "print_stats('GCTRootTypeTokenizer')"
   ]
  },
  {
   "cell_type": "code",
   "execution_count": 5,
   "metadata": {},
   "outputs": [
    {
     "name": "stdout",
     "output_type": "stream",
     "text": [
      "MelodyPitchTokenizer_m21\n",
      "len(melodyPitchTokenizer.vocab):  185\n"
     ]
    },
    {
     "name": "stderr",
     "output_type": "stream",
     "text": [
      "Processing Melody Files: 100%|██████████| 650/650 [00:33<00:00, 19.67it/s]"
     ]
    },
    {
     "name": "stdout",
     "output_type": "stream",
     "text": [
      "example sentence length:  196\n",
      "['<bar>', 'position_0x00', 'P:69', 'position_3x00', 'P:64', '<bar>', 'position_0x00', 'P:71', 'position_0x75', 'P:71', 'position_1x00', 'P:71', 'position_3x00', 'P:64', '<bar>', 'position_0x00', 'P:69', 'position_1x00', 'P:71', 'position_2x00', 'P:69', 'position_3x00', 'P:64', '<bar>', 'position_0x00', 'P:71', 'position_3x00', 'P:69', '<bar>', 'position_0x00', 'P:66', 'position_1x00', 'P:67', 'position_1x50', 'P:64', 'position_2x00', 'P:64', '<bar>', 'position_0x00', 'P:66', 'position_1x00', 'P:67', 'position_1x50', 'P:64', 'position_2x00', 'P:64', 'position_3x50', 'P:66', '<bar>', 'position_0x00', 'P:59', 'position_1x00', 'P:62', 'position_2x00', 'P:64', 'position_3x00', 'P:67', '<bar>', 'position_0x00', 'P:66', 'position_0x50', 'P:67', 'position_1x00', 'P:64', 'position_3x00', 'P:62', '<bar>', 'position_0x00', 'P:63', 'position_1x00', 'P:66', 'position_2x00', 'P:68', 'position_3x00', 'P:73', '<bar>', 'position_0x00', 'P:71', 'position_0x50', 'P:73', 'position_1x00', 'P:71', 'position_3x00', 'P:71', '<bar>', 'position_0x00', 'P:74', 'position_3x00', 'P:69', '<bar>', 'position_0x00', 'P:72', 'position_3x00', 'P:71', '<bar>', 'position_0x00', 'P:74', 'position_1x00', 'P:74', 'position_2x00', 'P:74', 'position_3x00', 'P:69', '<bar>', 'position_0x00', 'P:72', 'position_1x00', 'P:72', 'position_3x00', 'P:67', '<bar>', 'position_0x00', 'P:71', 'position_3x00', 'P:67', '<bar>', 'position_0x00', 'P:69', 'position_3x00', 'P:67', '<bar>', 'position_0x00', 'P:71', 'position_1x00', 'P:69', 'position_2x00', 'P:67', 'position_3x00', 'P:66', '<bar>', 'position_0x00', 'P:64', 'position_1x00', 'P:66', 'position_3x00', 'P:62', '<bar>', 'position_0x00', 'P:69', 'position_3x00', 'P:64', '<bar>', 'position_0x00', 'P:71', 'position_0x75', 'P:71', 'position_1x00', 'P:71', 'position_3x00', 'P:69', '<bar>', 'position_0x00', 'P:66', 'position_1x00', 'P:67', 'position_2x00', 'P:69', 'position_3x00', 'P:71', '<bar>', 'position_0x00', 'P:74', 'position_3x00', 'P:71', '<bar>', 'position_0x00', 'P:74', 'position_1x00', 'P:73', 'position_2x00', 'P:72', 'position_3x00', 'P:64', '<bar>', 'position_0x00', 'P:74', 'position_0x50', 'P:73', 'position_1x00', 'P:72', 'position_3x00', 'P:71', '<bar>', 'position_0x00', 'P:69', 'position_1x00', 'P:71', 'position_2x00', 'P:67', 'position_3x00', 'P:69', '<bar>', 'position_0x00', 'P:67', 'position_3x00', '<rest>']\n",
      "[6, 95, 55, 122, 50, 6, 95, 57, 102, 57, 104, 57, 122, 50, 6, 95, 55, 104, 57, 113, 55, 122, 50, 6, 95, 57, 122, 55, 6, 95, 52, 104, 53, 109, 50, 113, 50, 6, 95, 52, 104, 53, 109, 50, 113, 50, 127, 52, 6, 95, 45, 104, 48, 113, 50, 122, 53, 6, 95, 52, 100, 53, 104, 50, 122, 48, 6, 95, 49, 104, 52, 113, 54, 122, 59, 6, 95, 57, 100, 59, 104, 57, 122, 57, 6, 95, 60, 122, 55, 6, 95, 58, 122, 57, 6, 95, 60, 104, 60, 113, 60, 122, 55, 6, 95, 58, 104, 58, 122, 53, 6, 95, 57, 122, 53, 6, 95, 55, 122, 53, 6, 95, 57, 104, 55, 113, 53, 122, 52, 6, 95, 50, 104, 52, 122, 48, 6, 95, 55, 122, 50, 6, 95, 57, 102, 57, 104, 57, 122, 55, 6, 95, 52, 104, 53, 113, 55, 122, 57, 6, 95, 60, 122, 57, 6, 95, 60, 104, 59, 113, 58, 122, 50, 6, 95, 60, 100, 59, 104, 58, 122, 57, 6, 95, 55, 104, 57, 113, 53, 122, 55, 6, 95, 53, 122, 4]\n",
      "vocab_size:  185\n",
      "mean len:  241.8323076923077\n",
      "std len:  88.73966003938332\n",
      "mean cr:  0.1136954136170877\n",
      "std cr:  0.023267557320480862\n"
     ]
    },
    {
     "name": "stderr",
     "output_type": "stream",
     "text": [
      "\n"
     ]
    }
   ],
   "source": [
    "print('MelodyPitchTokenizer_m21')\n",
    "melodyPitchTokenizer = MelodyPitchTokenizer(min_pitch=21, max_pitch=108) #default range, need to adjust\n",
    "print('len(melodyPitchTokenizer.vocab): ', len(melodyPitchTokenizer.vocab))\n",
    "initialize_stats('MelodyPitchTokenizer', melodyPitchTokenizer)\n",
    "toks_cs = melodyPitchTokenizer(data_files)\n",
    "print('example sentence length: ', len(toks_cs['tokens'][0]))\n",
    "print(toks_cs['tokens'][0])\n",
    "print(toks_cs['ids'][0])\n",
    "update_stats('MelodyPitchTokenizer', toks_cs)\n",
    "print_stats('MelodyPitchTokenizer')"
   ]
  },
  {
   "cell_type": "code",
   "execution_count": 12,
   "metadata": {},
   "outputs": [],
   "source": [
    "# print stats\n",
    "tokenizers = ['ChordSymbolTokenizer', 'MelodyPitchTokenizer'\n",
    "              ]\n",
    "\n",
    "results_path = 'vocab_stats_hk_m21.csv' #for hook theory\n",
    "\n",
    "result_fields = ['Tokenizer_m21', 'vocab_size'] + list( stats['ChordSymbolTokenizer'].keys() )[3:]\n",
    "\n",
    "with open( results_path, 'w' ) as f:\n",
    "    writer = csv.writer(f)\n",
    "    writer.writerow( result_fields )\n",
    "\n",
    "for tok in tokenizers:\n",
    "    with open( results_path, 'a' ) as f:\n",
    "            writer = csv.writer(f)\n",
    "            writer.writerow( [tok] + [stats[tok]['vocab_size']] + list( stats[tok].values() )[3:] )"
   ]
  },
  {
   "cell_type": "code",
   "execution_count": 6,
   "metadata": {},
   "outputs": [
    {
     "name": "stdout",
     "output_type": "stream",
     "text": [
      "Merging harmony vocab\n"
     ]
    }
   ],
   "source": [
    "m_chordSymbolTokenizer = MergedMelHarmTokenizer(melodyPitchTokenizer, chordSymbolTokenizer, verbose=1)\n",
    "m_rootTypeTokenizer = MergedMelHarmTokenizer(melodyPitchTokenizer, rootTypeTokenizer)\n",
    "m_pitchClassTokenizer = MergedMelHarmTokenizer(melodyPitchTokenizer, pitchClassTokenizer)\n",
    "m_rootPCTokenizer = MergedMelHarmTokenizer(melodyPitchTokenizer, rootPCTokenizer)\n",
    "m_gctRootPCTokenizer = MergedMelHarmTokenizer(melodyPitchTokenizer, gctRootPCTokenizer)\n",
    "m_gctSymbolTokenizer = MergedMelHarmTokenizer(melodyPitchTokenizer, gctSymbolTokenizer)\n",
    "m_gctRootTypeTokenizer = MergedMelHarmTokenizer(melodyPitchTokenizer, gctRootTypeTokenizer)"
   ]
  },
  {
   "cell_type": "code",
   "execution_count": 7,
   "metadata": {},
   "outputs": [
    {
     "name": "stdout",
     "output_type": "stream",
     "text": [
      "{'<unk>': 0, '<pad>': 1, '<s>': 2, '</s>': 3, '<rest>': 4, '<mask>': 5, '<bar>': 6, 'P:21': 7, 'P:22': 8, 'P:23': 9, 'P:24': 10, 'P:25': 11, 'P:26': 12, 'P:27': 13, 'P:28': 14, 'P:29': 15, 'P:30': 16, 'P:31': 17, 'P:32': 18, 'P:33': 19, 'P:34': 20, 'P:35': 21, 'P:36': 22, 'P:37': 23, 'P:38': 24, 'P:39': 25, 'P:40': 26, 'P:41': 27, 'P:42': 28, 'P:43': 29, 'P:44': 30, 'P:45': 31, 'P:46': 32, 'P:47': 33, 'P:48': 34, 'P:49': 35, 'P:50': 36, 'P:51': 37, 'P:52': 38, 'P:53': 39, 'P:54': 40, 'P:55': 41, 'P:56': 42, 'P:57': 43, 'P:58': 44, 'P:59': 45, 'P:60': 46, 'P:61': 47, 'P:62': 48, 'P:63': 49, 'P:64': 50, 'P:65': 51, 'P:66': 52, 'P:67': 53, 'P:68': 54, 'P:69': 55, 'P:70': 56, 'P:71': 57, 'P:72': 58, 'P:73': 59, 'P:74': 60, 'P:75': 61, 'P:76': 62, 'P:77': 63, 'P:78': 64, 'P:79': 65, 'P:80': 66, 'P:81': 67, 'P:82': 68, 'P:83': 69, 'P:84': 70, 'P:85': 71, 'P:86': 72, 'P:87': 73, 'P:88': 74, 'P:89': 75, 'P:90': 76, 'P:91': 77, 'P:92': 78, 'P:93': 79, 'P:94': 80, 'P:95': 81, 'P:96': 82, 'P:97': 83, 'P:98': 84, 'P:99': 85, 'P:100': 86, 'P:101': 87, 'P:102': 88, 'P:103': 89, 'P:104': 90, 'P:105': 91, 'P:106': 92, 'P:107': 93, 'P:108': 94, 'position_0x00': 95, 'position_0x10': 96, 'position_0x20': 97, 'position_0x25': 98, 'position_0x33': 99, 'position_0x50': 100, 'position_0x66': 101, 'position_0x75': 102, 'position_0x90': 103, 'position_1x00': 104, 'position_1x10': 105, 'position_1x20': 106, 'position_1x25': 107, 'position_1x33': 108, 'position_1x50': 109, 'position_1x66': 110, 'position_1x75': 111, 'position_1x90': 112, 'position_2x00': 113, 'position_2x10': 114, 'position_2x20': 115, 'position_2x25': 116, 'position_2x33': 117, 'position_2x50': 118, 'position_2x66': 119, 'position_2x75': 120, 'position_2x90': 121, 'position_3x00': 122, 'position_3x10': 123, 'position_3x20': 124, 'position_3x25': 125, 'position_3x33': 126, 'position_3x50': 127, 'position_3x66': 128, 'position_3x75': 129, 'position_3x90': 130, 'position_4x00': 131, 'position_4x10': 132, 'position_4x20': 133, 'position_4x25': 134, 'position_4x33': 135, 'position_4x50': 136, 'position_4x66': 137, 'position_4x75': 138, 'position_4x90': 139, 'position_5x00': 140, 'position_5x10': 141, 'position_5x20': 142, 'position_5x25': 143, 'position_5x33': 144, 'position_5x50': 145, 'position_5x66': 146, 'position_5x75': 147, 'position_5x90': 148, 'position_6x00': 149, 'position_6x10': 150, 'position_6x20': 151, 'position_6x25': 152, 'position_6x33': 153, 'position_6x50': 154, 'position_6x66': 155, 'position_6x75': 156, 'position_6x90': 157, 'position_7x00': 158, 'position_7x10': 159, 'position_7x20': 160, 'position_7x25': 161, 'position_7x33': 162, 'position_7x50': 163, 'position_7x66': 164, 'position_7x75': 165, 'position_7x90': 166, 'position_8x00': 167, 'position_8x10': 168, 'position_8x20': 169, 'position_8x25': 170, 'position_8x33': 171, 'position_8x50': 172, 'position_8x66': 173, 'position_8x75': 174, 'position_8x90': 175, 'position_9x00': 176, 'position_9x10': 177, 'position_9x20': 178, 'position_9x25': 179, 'position_9x33': 180, 'position_9x50': 181, 'position_9x66': 182, 'position_9x75': 183, 'position_9x90': 184, '<emp>': 185, 'C:maj': 186, 'C:min': 187, 'C:aug': 188, 'C:dim': 189, 'C:sus4': 190, 'C:sus2': 191, 'C:7': 192, 'C:maj7': 193, 'C:min7': 194, 'C:minmaj7': 195, 'C:maj6': 196, 'C:min6': 197, 'C:dim7': 198, 'C:hdim7': 199, 'C:maj9': 200, 'C:min9': 201, 'C:9': 202, 'C:min11': 203, 'C:11': 204, 'C:maj13': 205, 'C:min13': 206, 'C:13': 207, 'C:1': 208, 'C:5': 209, 'C:': 210, 'C:7(b9)': 211, 'C:7(#9)': 212, 'C:7(#11)': 213, 'C:7(b13)': 214, 'C#:maj': 215, 'C#:min': 216, 'C#:aug': 217, 'C#:dim': 218, 'C#:sus4': 219, 'C#:sus2': 220, 'C#:7': 221, 'C#:maj7': 222, 'C#:min7': 223, 'C#:minmaj7': 224, 'C#:maj6': 225, 'C#:min6': 226, 'C#:dim7': 227, 'C#:hdim7': 228, 'C#:maj9': 229, 'C#:min9': 230, 'C#:9': 231, 'C#:min11': 232, 'C#:11': 233, 'C#:maj13': 234, 'C#:min13': 235, 'C#:13': 236, 'C#:1': 237, 'C#:5': 238, 'C#:': 239, 'C#:7(b9)': 240, 'C#:7(#9)': 241, 'C#:7(#11)': 242, 'C#:7(b13)': 243, 'D:maj': 244, 'D:min': 245, 'D:aug': 246, 'D:dim': 247, 'D:sus4': 248, 'D:sus2': 249, 'D:7': 250, 'D:maj7': 251, 'D:min7': 252, 'D:minmaj7': 253, 'D:maj6': 254, 'D:min6': 255, 'D:dim7': 256, 'D:hdim7': 257, 'D:maj9': 258, 'D:min9': 259, 'D:9': 260, 'D:min11': 261, 'D:11': 262, 'D:maj13': 263, 'D:min13': 264, 'D:13': 265, 'D:1': 266, 'D:5': 267, 'D:': 268, 'D:7(b9)': 269, 'D:7(#9)': 270, 'D:7(#11)': 271, 'D:7(b13)': 272, 'D#:maj': 273, 'D#:min': 274, 'D#:aug': 275, 'D#:dim': 276, 'D#:sus4': 277, 'D#:sus2': 278, 'D#:7': 279, 'D#:maj7': 280, 'D#:min7': 281, 'D#:minmaj7': 282, 'D#:maj6': 283, 'D#:min6': 284, 'D#:dim7': 285, 'D#:hdim7': 286, 'D#:maj9': 287, 'D#:min9': 288, 'D#:9': 289, 'D#:min11': 290, 'D#:11': 291, 'D#:maj13': 292, 'D#:min13': 293, 'D#:13': 294, 'D#:1': 295, 'D#:5': 296, 'D#:': 297, 'D#:7(b9)': 298, 'D#:7(#9)': 299, 'D#:7(#11)': 300, 'D#:7(b13)': 301, 'E:maj': 302, 'E:min': 303, 'E:aug': 304, 'E:dim': 305, 'E:sus4': 306, 'E:sus2': 307, 'E:7': 308, 'E:maj7': 309, 'E:min7': 310, 'E:minmaj7': 311, 'E:maj6': 312, 'E:min6': 313, 'E:dim7': 314, 'E:hdim7': 315, 'E:maj9': 316, 'E:min9': 317, 'E:9': 318, 'E:min11': 319, 'E:11': 320, 'E:maj13': 321, 'E:min13': 322, 'E:13': 323, 'E:1': 324, 'E:5': 325, 'E:': 326, 'E:7(b9)': 327, 'E:7(#9)': 328, 'E:7(#11)': 329, 'E:7(b13)': 330, 'F:maj': 331, 'F:min': 332, 'F:aug': 333, 'F:dim': 334, 'F:sus4': 335, 'F:sus2': 336, 'F:7': 337, 'F:maj7': 338, 'F:min7': 339, 'F:minmaj7': 340, 'F:maj6': 341, 'F:min6': 342, 'F:dim7': 343, 'F:hdim7': 344, 'F:maj9': 345, 'F:min9': 346, 'F:9': 347, 'F:min11': 348, 'F:11': 349, 'F:maj13': 350, 'F:min13': 351, 'F:13': 352, 'F:1': 353, 'F:5': 354, 'F:': 355, 'F:7(b9)': 356, 'F:7(#9)': 357, 'F:7(#11)': 358, 'F:7(b13)': 359, 'F#:maj': 360, 'F#:min': 361, 'F#:aug': 362, 'F#:dim': 363, 'F#:sus4': 364, 'F#:sus2': 365, 'F#:7': 366, 'F#:maj7': 367, 'F#:min7': 368, 'F#:minmaj7': 369, 'F#:maj6': 370, 'F#:min6': 371, 'F#:dim7': 372, 'F#:hdim7': 373, 'F#:maj9': 374, 'F#:min9': 375, 'F#:9': 376, 'F#:min11': 377, 'F#:11': 378, 'F#:maj13': 379, 'F#:min13': 380, 'F#:13': 381, 'F#:1': 382, 'F#:5': 383, 'F#:': 384, 'F#:7(b9)': 385, 'F#:7(#9)': 386, 'F#:7(#11)': 387, 'F#:7(b13)': 388, 'G:maj': 389, 'G:min': 390, 'G:aug': 391, 'G:dim': 392, 'G:sus4': 393, 'G:sus2': 394, 'G:7': 395, 'G:maj7': 396, 'G:min7': 397, 'G:minmaj7': 398, 'G:maj6': 399, 'G:min6': 400, 'G:dim7': 401, 'G:hdim7': 402, 'G:maj9': 403, 'G:min9': 404, 'G:9': 405, 'G:min11': 406, 'G:11': 407, 'G:maj13': 408, 'G:min13': 409, 'G:13': 410, 'G:1': 411, 'G:5': 412, 'G:': 413, 'G:7(b9)': 414, 'G:7(#9)': 415, 'G:7(#11)': 416, 'G:7(b13)': 417, 'G#:maj': 418, 'G#:min': 419, 'G#:aug': 420, 'G#:dim': 421, 'G#:sus4': 422, 'G#:sus2': 423, 'G#:7': 424, 'G#:maj7': 425, 'G#:min7': 426, 'G#:minmaj7': 427, 'G#:maj6': 428, 'G#:min6': 429, 'G#:dim7': 430, 'G#:hdim7': 431, 'G#:maj9': 432, 'G#:min9': 433, 'G#:9': 434, 'G#:min11': 435, 'G#:11': 436, 'G#:maj13': 437, 'G#:min13': 438, 'G#:13': 439, 'G#:1': 440, 'G#:5': 441, 'G#:': 442, 'G#:7(b9)': 443, 'G#:7(#9)': 444, 'G#:7(#11)': 445, 'G#:7(b13)': 446, 'A:maj': 447, 'A:min': 448, 'A:aug': 449, 'A:dim': 450, 'A:sus4': 451, 'A:sus2': 452, 'A:7': 453, 'A:maj7': 454, 'A:min7': 455, 'A:minmaj7': 456, 'A:maj6': 457, 'A:min6': 458, 'A:dim7': 459, 'A:hdim7': 460, 'A:maj9': 461, 'A:min9': 462, 'A:9': 463, 'A:min11': 464, 'A:11': 465, 'A:maj13': 466, 'A:min13': 467, 'A:13': 468, 'A:1': 469, 'A:5': 470, 'A:': 471, 'A:7(b9)': 472, 'A:7(#9)': 473, 'A:7(#11)': 474, 'A:7(b13)': 475, 'A#:maj': 476, 'A#:min': 477, 'A#:aug': 478, 'A#:dim': 479, 'A#:sus4': 480, 'A#:sus2': 481, 'A#:7': 482, 'A#:maj7': 483, 'A#:min7': 484, 'A#:minmaj7': 485, 'A#:maj6': 486, 'A#:min6': 487, 'A#:dim7': 488, 'A#:hdim7': 489, 'A#:maj9': 490, 'A#:min9': 491, 'A#:9': 492, 'A#:min11': 493, 'A#:11': 494, 'A#:maj13': 495, 'A#:min13': 496, 'A#:13': 497, 'A#:1': 498, 'A#:5': 499, 'A#:': 500, 'A#:7(b9)': 501, 'A#:7(#9)': 502, 'A#:7(#11)': 503, 'A#:7(b13)': 504, 'B:maj': 505, 'B:min': 506, 'B:aug': 507, 'B:dim': 508, 'B:sus4': 509, 'B:sus2': 510, 'B:7': 511, 'B:maj7': 512, 'B:min7': 513, 'B:minmaj7': 514, 'B:maj6': 515, 'B:min6': 516, 'B:dim7': 517, 'B:hdim7': 518, 'B:maj9': 519, 'B:min9': 520, 'B:9': 521, 'B:min11': 522, 'B:11': 523, 'B:maj13': 524, 'B:min13': 525, 'B:13': 526, 'B:1': 527, 'B:5': 528, 'B:': 529, 'B:7(b9)': 530, 'B:7(#9)': 531, 'B:7(#11)': 532, 'B:7(b13)': 533}\n"
     ]
    }
   ],
   "source": [
    "print(m_chordSymbolTokenizer.vocab)"
   ]
  },
  {
   "cell_type": "code",
   "execution_count": 8,
   "metadata": {},
   "outputs": [
    {
     "name": "stdout",
     "output_type": "stream",
     "text": [
      "[5, 192]\n"
     ]
    }
   ],
   "source": [
    "print(m_chordSymbolTokenizer.convert_tokens_to_ids(['<mask>', 'C:7']))"
   ]
  }
 ],
 "metadata": {
  "kernelspec": {
   "display_name": "midi",
   "language": "python",
   "name": "python3"
  },
  "language_info": {
   "codemirror_mode": {
    "name": "ipython",
    "version": 3
   },
   "file_extension": ".py",
   "mimetype": "text/x-python",
   "name": "python",
   "nbconvert_exporter": "python",
   "pygments_lexer": "ipython3",
   "version": "3.11.5"
  }
 },
 "nbformat": 4,
 "nbformat_minor": 2
}
