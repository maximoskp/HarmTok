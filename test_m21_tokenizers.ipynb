{
 "cells": [
  {
   "cell_type": "code",
   "execution_count": 1,
   "metadata": {},
   "outputs": [
    {
     "name": "stderr",
     "output_type": "stream",
     "text": [
      "/home/maximos/anaconda3/envs/midi/lib/python3.11/site-packages/tqdm/auto.py:21: TqdmWarning: IProgress not found. Please update jupyter and ipywidgets. See https://ipywidgets.readthedocs.io/en/stable/user_install.html\n",
      "  from .autonotebook import tqdm as notebook_tqdm\n",
      "None of PyTorch, TensorFlow >= 2.0, or Flax have been found. Models won't be available and only tokenizers, configuration and file/data utilities can be used.\n"
     ]
    }
   ],
   "source": [
    "import os\n",
    "import csv\n",
    "import zlib\n",
    "import numpy as np\n",
    "from harmony_tokenizers_m21 import ChordSymbolTokenizer, RootTypeTokenizer, \\\n",
    "    PitchClassTokenizer, RootPCTokenizer, GCTRootPCTokenizer, \\\n",
    "    GCTSymbolTokenizer, GCTRootTypeTokenizer, MelodyPitchTokenizer, \\\n",
    "    MergedMelHarmTokenizer"
   ]
  },
  {
   "cell_type": "code",
   "execution_count": 2,
   "metadata": {},
   "outputs": [
    {
     "name": "stdout",
     "output_type": "stream",
     "text": [
      "Total files from Hook Theory dataset: 650\n"
     ]
    }
   ],
   "source": [
    "# root_dir = '/media/datadisk/datasets/hooktheory_xmls'\n",
    "root_dir = 'data/gjt_melodies/Library_melodies/'\n",
    "data_files = []\n",
    "\n",
    "# Walk through all subdirectories and files\n",
    "for dirpath, _, filenames in os.walk(root_dir):\n",
    "    for file in filenames:\n",
    "        if file.endswith('.xml') or file.endswith('.mxl'):\n",
    "            full_path = os.path.join(dirpath, file)\n",
    "            data_files.append(full_path)\n",
    "\n",
    "print('Total files from Hook Theory dataset:', len(data_files))"
   ]
  },
  {
   "cell_type": "code",
   "execution_count": 3,
   "metadata": {},
   "outputs": [],
   "source": [
    "# prepare stats\n",
    "stats = {}\n",
    "\n",
    "def compute_compression_rate(array: np.ndarray, compression_method=zlib.compress) -> float:\n",
    "    \"\"\"\n",
    "    Compute the compression rate of a NumPy array.\n",
    "\n",
    "    Parameters:\n",
    "        array (np.ndarray): The NumPy array to compress.\n",
    "        compression_method (callable): The compression method to use. \n",
    "                                       Default is `zlib.compress`.\n",
    "\n",
    "    Returns:\n",
    "        float: The compression rate (compressed size / original size).\n",
    "    \"\"\"\n",
    "    # Convert the array to bytes\n",
    "    array_bytes = array.tobytes()\n",
    "    \n",
    "    # Compress the byte representation\n",
    "    compressed_bytes = compression_method(array_bytes)\n",
    "    \n",
    "    # Compute sizes\n",
    "    original_size = len(array_bytes)\n",
    "    compressed_size = len(compressed_bytes)\n",
    "    \n",
    "    # Calculate compression rate\n",
    "    compression_rate = compressed_size / original_size\n",
    "\n",
    "    return compression_rate\n",
    "\n",
    "def initialize_stats(key, tokenizer):\n",
    "    stats[key] = {\n",
    "        'vocab_size': len(tokenizer.vocab),\n",
    "        'seq_lens': [],\n",
    "        'compression_rates': []\n",
    "    }\n",
    "# end initialize_stats\n",
    "\n",
    "def update_stats(key, toks):\n",
    "    for t in toks['ids']:\n",
    "        stats[key]['seq_lens'].append( len(t) )\n",
    "        stats[key]['compression_rates'].append( compute_compression_rate(np.array(t)) )\n",
    "    stats[key]['mean_len'] = np.mean(stats[key]['seq_lens'])\n",
    "    stats[key]['std_len'] = np.std(stats[key]['seq_lens'])\n",
    "    stats[key]['mean_compression'] = np.mean(stats[key]['compression_rates'])\n",
    "    stats[key]['std_compression'] = np.std(stats[key]['compression_rates'])\n",
    "# end update_stats\n",
    "\n",
    "def print_stats(key):\n",
    "    print('vocab_size: ', stats[key]['vocab_size'])\n",
    "    print('mean len: ', stats[key]['mean_len'])\n",
    "    print('std len: ', stats[key]['std_len'])\n",
    "    print('mean cr: ', stats[key]['mean_compression'])\n",
    "    print('std cr: ', stats[key]['std_compression'])"
   ]
  },
  {
   "cell_type": "code",
   "execution_count": 4,
   "metadata": {},
   "outputs": [
    {
     "name": "stdout",
     "output_type": "stream",
     "text": [
      "ChordSymbolTokenizer_m21\n",
      "len(chordSymbolTokenizer.vocab):  444\n"
     ]
    },
    {
     "name": "stderr",
     "output_type": "stream",
     "text": [
      "Processing Files:   0%|          | 0/650 [00:00<?, ?it/s]/home/maximos/anaconda3/envs/midi/lib/python3.11/site-packages/music21/stream/base.py:3689: Music21DeprecationWarning: .flat is deprecated.  Call .flatten() instead\n",
      "  return self.iter().getElementsByClass(classFilterList)\n",
      "Processing Files:   3%|▎         | 20/650 [00:01<00:54, 11.64it/s]/home/maximos/anaconda3/envs/midi/lib/python3.11/site-packages/music21/stream/base.py:3689: Music21DeprecationWarning: .flat is deprecated.  Call .flatten() instead\n",
      "  return self.iter().getElementsByClass(classFilterList)\n",
      "Processing Files:   5%|▌         | 34/650 [00:02<00:51, 11.98it/s]In /home/maximos/anaconda3/envs/midi/lib/python3.11/site-packages/matplotlib/mpl-data/stylelib/tableau-colorblind10.mplstyle: .flat is deprecated.  Call .flatten() instead\n",
      "In /home/maximos/anaconda3/envs/midi/lib/python3.11/site-packages/matplotlib/mpl-data/stylelib/fivethirtyeight.mplstyle: .flat is deprecated.  Call .flatten() instead\n",
      "Processing Files:   6%|▌         | 36/650 [00:02<00:48, 12.64it/s]/home/maximos/anaconda3/envs/midi/lib/python3.11/site-packages/music21/stream/base.py:3689: Music21DeprecationWarning: .flat is deprecated.  Call .flatten() instead\n",
      "  return self.iter().getElementsByClass(classFilterList)\n",
      "Processing Files: 100%|██████████| 650/650 [00:48<00:00, 13.45it/s]"
     ]
    },
    {
     "name": "stdout",
     "output_type": "stream",
     "text": [
      "example sentence length:  88\n",
      "['bar', 'position_0x00', 'A:min7', 'bar', 'position_0x00', 'D:7', 'bar', 'position_0x00', 'A:min7', 'bar', 'position_0x00', 'D:7', 'bar', 'position_0x00', 'G:maj7', 'bar', 'position_0x00', 'C:7(#11)', 'bar', 'position_0x00', 'B:min7', 'bar', 'position_0x00', 'E:min7', 'bar', 'position_0x00', 'B:maj7', 'position_2x00', 'F#:7', 'bar', 'position_0x00', 'B:maj6', 'bar', 'position_0x00', 'D:min7', 'bar', 'position_0x00', 'G:7', 'bar', 'position_0x00', 'D:min7', 'bar', 'position_0x00', 'G:7', 'bar', 'position_0x00', 'C:maj7', 'bar', 'position_0x00', 'F:7', 'bar', 'position_0x00', 'E:min7', 'position_2x00', 'A:7', 'bar', 'position_0x00', 'A:min7', 'position_2x00', 'D:7', 'bar', 'position_0x00', 'A:min7', 'bar', 'position_0x00', 'D:7', 'bar', 'position_0x00', 'G:maj7', 'position_2x00', 'F:7', 'bar', 'position_0x00', 'E:7(b9)', 'bar', 'position_0x00', 'A:min7', 'bar', 'position_0x00', 'F:7', 'bar', 'position_0x00', 'A:min7', 'position_2x00', 'D:7', 'bar', 'position_0x00', 'G:maj6']\n",
      "[5, 6, 365, 5, 6, 160, 5, 6, 365, 5, 6, 160, 5, 6, 306, 5, 6, 123, 5, 6, 423, 5, 6, 220, 5, 6, 422, 24, 276, 5, 6, 425, 5, 6, 162, 5, 6, 305, 5, 6, 162, 5, 6, 305, 5, 6, 103, 5, 6, 247, 5, 6, 220, 24, 363, 5, 6, 365, 24, 160, 5, 6, 365, 5, 6, 160, 5, 6, 306, 24, 247, 5, 6, 237, 5, 6, 365, 5, 6, 247, 5, 6, 365, 24, 160, 5, 6, 309]\n",
      "vocab_size:  444\n",
      "mean len:  103.60307692307693\n",
      "std len:  34.29661552815949\n",
      "mean cr:  0.11675020033137182\n",
      "std cr:  0.025943086298484744\n"
     ]
    },
    {
     "name": "stderr",
     "output_type": "stream",
     "text": [
      "\n"
     ]
    }
   ],
   "source": [
    "print('ChordSymbolTokenizer_m21')\n",
    "chordSymbolTokenizer = ChordSymbolTokenizer()\n",
    "print('len(chordSymbolTokenizer.vocab): ', len(chordSymbolTokenizer.vocab))\n",
    "initialize_stats('ChordSymbolTokenizer', chordSymbolTokenizer)\n",
    "toks_cs = chordSymbolTokenizer(data_files)\n",
    "print('example sentence length: ', len(toks_cs['tokens'][0]))\n",
    "print(toks_cs['tokens'][0])\n",
    "print(toks_cs['ids'][0])\n",
    "update_stats('ChordSymbolTokenizer', toks_cs)\n",
    "print_stats('ChordSymbolTokenizer')"
   ]
  },
  {
   "cell_type": "code",
   "execution_count": 5,
   "metadata": {},
   "outputs": [
    {
     "name": "stdout",
     "output_type": "stream",
     "text": [
      "RootTypeTokenizer\n",
      "len(rootTypeTokenizer.vocab):  137\n"
     ]
    },
    {
     "name": "stderr",
     "output_type": "stream",
     "text": [
      "Processing Files: 100%|██████████| 650/650 [00:48<00:00, 13.43it/s]"
     ]
    },
    {
     "name": "stdout",
     "output_type": "stream",
     "text": [
      "example sentence length:  119\n",
      "['bar', 'position_0x00', 'A', 'min7', 'bar', 'position_0x00', 'D', '7', 'bar', 'position_0x00', 'A', 'min7', 'bar', 'position_0x00', 'D', '7', 'bar', 'position_0x00', 'G', 'maj7', 'bar', 'position_0x00', 'C', '7(#11)', 'bar', 'position_0x00', 'B', 'min7', 'bar', 'position_0x00', 'E', 'min7', 'bar', 'position_0x00', 'B', 'maj7', 'position_2x00', 'F#', '7', 'bar', 'position_0x00', 'B', 'maj6', 'bar', 'position_0x00', 'D', 'min7', 'bar', 'position_0x00', 'G', '7', 'bar', 'position_0x00', 'D', 'min7', 'bar', 'position_0x00', 'G', '7', 'bar', 'position_0x00', 'C', 'maj7', 'bar', 'position_0x00', 'F', '7', 'bar', 'position_0x00', 'E', 'min7', 'position_2x00', 'A', '7', 'bar', 'position_0x00', 'A', 'min7', 'position_2x00', 'D', '7', 'bar', 'position_0x00', 'A', 'min7', 'bar', 'position_0x00', 'D', '7', 'bar', 'position_0x00', 'G', 'maj7', 'position_2x00', 'F', '7', 'bar', 'position_0x00', 'E', '7(b9)', 'bar', 'position_0x00', 'A', 'min7', 'bar', 'position_0x00', 'F', '7', 'bar', 'position_0x00', 'A', 'min7', 'position_2x00', 'D', '7', 'bar', 'position_0x00', 'G', 'maj6']\n",
      "[5, 6, 105, 116, 5, 6, 98, 114, 5, 6, 105, 116, 5, 6, 98, 114, 5, 6, 103, 115, 5, 6, 96, 135, 5, 6, 107, 116, 5, 6, 100, 116, 5, 6, 107, 115, 24, 102, 114, 5, 6, 107, 118, 5, 6, 98, 116, 5, 6, 103, 114, 5, 6, 98, 116, 5, 6, 103, 114, 5, 6, 96, 115, 5, 6, 101, 114, 5, 6, 100, 116, 24, 105, 114, 5, 6, 105, 116, 24, 98, 114, 5, 6, 105, 116, 5, 6, 98, 114, 5, 6, 103, 115, 24, 101, 114, 5, 6, 100, 133, 5, 6, 105, 116, 5, 6, 101, 114, 5, 6, 105, 116, 24, 98, 114, 5, 6, 103, 118]\n",
      "vocab_size:  137\n",
      "mean len:  141.68769230769232\n",
      "std len:  47.76576826296714\n",
      "mean cr:  0.10193202365080004\n",
      "std cr:  0.022437982066015244\n"
     ]
    },
    {
     "name": "stderr",
     "output_type": "stream",
     "text": [
      "\n"
     ]
    }
   ],
   "source": [
    "print('RootTypeTokenizer')\n",
    "rootTypeTokenizer = RootTypeTokenizer()\n",
    "print('len(rootTypeTokenizer.vocab): ', len(rootTypeTokenizer.vocab))\n",
    "initialize_stats('RootTypeTokenizer', rootTypeTokenizer)\n",
    "toks_rt = rootTypeTokenizer(data_files)\n",
    "print('example sentence length: ', len(toks_rt['tokens'][0]))\n",
    "print(toks_rt['tokens'][0])\n",
    "print(toks_rt['ids'][0])\n",
    "update_stats('RootTypeTokenizer', toks_rt)\n",
    "print_stats('RootTypeTokenizer')"
   ]
  },
  {
   "cell_type": "code",
   "execution_count": 6,
   "metadata": {},
   "outputs": [
    {
     "name": "stdout",
     "output_type": "stream",
     "text": [
      "PitchClassTokenizer\n",
      "len(pitchClassTokenizer.vocab):  108\n"
     ]
    },
    {
     "name": "stderr",
     "output_type": "stream",
     "text": [
      "Processing Files: 100%|██████████| 650/650 [00:49<00:00, 13.09it/s]"
     ]
    },
    {
     "name": "stdout",
     "output_type": "stream",
     "text": [
      "example sentence length:  183\n",
      "['bar', 'position_0x00', 'chord_pc_9', 'chord_pc_0', 'chord_pc_4', 'chord_pc_7', 'bar', 'position_0x00', 'chord_pc_2', 'chord_pc_6', 'chord_pc_9', 'chord_pc_0', 'bar', 'position_0x00', 'chord_pc_9', 'chord_pc_0', 'chord_pc_4', 'chord_pc_7', 'bar', 'position_0x00', 'chord_pc_2', 'chord_pc_6', 'chord_pc_9', 'chord_pc_0', 'bar', 'position_0x00', 'chord_pc_7', 'chord_pc_11', 'chord_pc_2', 'chord_pc_6', 'bar', 'position_0x00', 'chord_pc_0', 'chord_pc_4', 'chord_pc_6', 'chord_pc_7', 'chord_pc_10', 'bar', 'position_0x00', 'chord_pc_11', 'chord_pc_2', 'chord_pc_6', 'chord_pc_9', 'bar', 'position_0x00', 'chord_pc_4', 'chord_pc_7', 'chord_pc_11', 'chord_pc_2', 'bar', 'position_0x00', 'chord_pc_11', 'chord_pc_3', 'chord_pc_6', 'chord_pc_10', 'position_2x00', 'chord_pc_6', 'chord_pc_10', 'chord_pc_1', 'chord_pc_4', 'bar', 'position_0x00', 'chord_pc_11', 'chord_pc_3', 'chord_pc_6', 'chord_pc_8', 'bar', 'position_0x00', 'chord_pc_2', 'chord_pc_5', 'chord_pc_9', 'chord_pc_0', 'bar', 'position_0x00', 'chord_pc_7', 'chord_pc_11', 'chord_pc_2', 'chord_pc_5', 'bar', 'position_0x00', 'chord_pc_2', 'chord_pc_5', 'chord_pc_9', 'chord_pc_0', 'bar', 'position_0x00', 'chord_pc_7', 'chord_pc_11', 'chord_pc_2', 'chord_pc_5', 'bar', 'position_0x00', 'chord_pc_0', 'chord_pc_4', 'chord_pc_7', 'chord_pc_11', 'bar', 'position_0x00', 'chord_pc_5', 'chord_pc_9', 'chord_pc_0', 'chord_pc_3', 'bar', 'position_0x00', 'chord_pc_4', 'chord_pc_7', 'chord_pc_11', 'chord_pc_2', 'position_2x00', 'chord_pc_9', 'chord_pc_1', 'chord_pc_4', 'chord_pc_7', 'bar', 'position_0x00', 'chord_pc_9', 'chord_pc_0', 'chord_pc_4', 'chord_pc_7', 'position_2x00', 'chord_pc_2', 'chord_pc_6', 'chord_pc_9', 'chord_pc_0', 'bar', 'position_0x00', 'chord_pc_9', 'chord_pc_0', 'chord_pc_4', 'chord_pc_7', 'bar', 'position_0x00', 'chord_pc_2', 'chord_pc_6', 'chord_pc_9', 'chord_pc_0', 'bar', 'position_0x00', 'chord_pc_7', 'chord_pc_11', 'chord_pc_2', 'chord_pc_6', 'position_2x00', 'chord_pc_5', 'chord_pc_9', 'chord_pc_0', 'chord_pc_3', 'bar', 'position_0x00', 'chord_pc_4', 'chord_pc_5', 'chord_pc_8', 'chord_pc_11', 'chord_pc_2', 'bar', 'position_0x00', 'chord_pc_9', 'chord_pc_0', 'chord_pc_4', 'chord_pc_7', 'bar', 'position_0x00', 'chord_pc_5', 'chord_pc_9', 'chord_pc_0', 'chord_pc_3', 'bar', 'position_0x00', 'chord_pc_9', 'chord_pc_0', 'chord_pc_4', 'chord_pc_7', 'position_2x00', 'chord_pc_2', 'chord_pc_6', 'chord_pc_9', 'chord_pc_0', 'bar', 'position_0x00', 'chord_pc_7', 'chord_pc_11', 'chord_pc_2', 'chord_pc_4']\n",
      "[5, 6, 105, 96, 100, 103, 5, 6, 98, 102, 105, 96, 5, 6, 105, 96, 100, 103, 5, 6, 98, 102, 105, 96, 5, 6, 103, 107, 98, 102, 5, 6, 96, 100, 102, 103, 106, 5, 6, 107, 98, 102, 105, 5, 6, 100, 103, 107, 98, 5, 6, 107, 99, 102, 106, 24, 102, 106, 97, 100, 5, 6, 107, 99, 102, 104, 5, 6, 98, 101, 105, 96, 5, 6, 103, 107, 98, 101, 5, 6, 98, 101, 105, 96, 5, 6, 103, 107, 98, 101, 5, 6, 96, 100, 103, 107, 5, 6, 101, 105, 96, 99, 5, 6, 100, 103, 107, 98, 24, 105, 97, 100, 103, 5, 6, 105, 96, 100, 103, 24, 98, 102, 105, 96, 5, 6, 105, 96, 100, 103, 5, 6, 98, 102, 105, 96, 5, 6, 103, 107, 98, 102, 24, 101, 105, 96, 99, 5, 6, 100, 101, 104, 107, 98, 5, 6, 105, 96, 100, 103, 5, 6, 101, 105, 96, 99, 5, 6, 105, 96, 100, 103, 24, 98, 102, 105, 96, 5, 6, 103, 107, 98, 100]\n",
      "vocab_size:  108\n",
      "mean len:  221.54461538461538\n",
      "std len:  76.19775088699592\n",
      "mean cr:  0.08633365140478433\n",
      "std cr:  0.019627991556314325\n"
     ]
    },
    {
     "name": "stderr",
     "output_type": "stream",
     "text": [
      "\n"
     ]
    }
   ],
   "source": [
    "print('PitchClassTokenizer')\n",
    "pitchClassTokenizer = PitchClassTokenizer()\n",
    "print('len(pitchClassTokenizer.vocab): ', len(pitchClassTokenizer.vocab))\n",
    "initialize_stats('PitchClassTokenizer', pitchClassTokenizer)\n",
    "toks_pc = pitchClassTokenizer(data_files)\n",
    "print('example sentence length: ', len(toks_pc['tokens'][0]))\n",
    "print(toks_pc['tokens'][0])\n",
    "print(toks_pc['ids'][0])\n",
    "update_stats('PitchClassTokenizer', toks_pc)\n",
    "print_stats('PitchClassTokenizer')"
   ]
  },
  {
   "cell_type": "code",
   "execution_count": 7,
   "metadata": {},
   "outputs": [
    {
     "name": "stdout",
     "output_type": "stream",
     "text": [
      "RootPCTokenizer\n",
      "len(rootPCTokenizer.vocab):  120\n"
     ]
    },
    {
     "name": "stderr",
     "output_type": "stream",
     "text": [
      "Processing Files: 100%|██████████| 650/650 [00:32<00:00, 20.22it/s]"
     ]
    },
    {
     "name": "stdout",
     "output_type": "stream",
     "text": [
      "example sentence length:  183\n",
      "['bar', 'position_0x00', 'chord_root_9', 'chord_pc_0', 'chord_pc_4', 'chord_pc_7', 'bar', 'position_0x00', 'chord_root_2', 'chord_pc_6', 'chord_pc_9', 'chord_pc_0', 'bar', 'position_0x00', 'chord_root_9', 'chord_pc_0', 'chord_pc_4', 'chord_pc_7', 'bar', 'position_0x00', 'chord_root_2', 'chord_pc_6', 'chord_pc_9', 'chord_pc_0', 'bar', 'position_0x00', 'chord_root_7', 'chord_pc_11', 'chord_pc_2', 'chord_pc_6', 'bar', 'position_0x00', 'chord_root_0', 'chord_pc_4', 'chord_pc_6', 'chord_pc_7', 'chord_pc_10', 'bar', 'position_0x00', 'chord_root_11', 'chord_pc_2', 'chord_pc_6', 'chord_pc_9', 'bar', 'position_0x00', 'chord_root_4', 'chord_pc_7', 'chord_pc_11', 'chord_pc_2', 'bar', 'position_0x00', 'chord_root_11', 'chord_pc_3', 'chord_pc_6', 'chord_pc_10', 'position_2x00', 'chord_root_6', 'chord_pc_10', 'chord_pc_1', 'chord_pc_4', 'bar', 'position_0x00', 'chord_root_11', 'chord_pc_3', 'chord_pc_6', 'chord_pc_8', 'bar', 'position_0x00', 'chord_root_2', 'chord_pc_5', 'chord_pc_9', 'chord_pc_0', 'bar', 'position_0x00', 'chord_root_7', 'chord_pc_11', 'chord_pc_2', 'chord_pc_5', 'bar', 'position_0x00', 'chord_root_2', 'chord_pc_5', 'chord_pc_9', 'chord_pc_0', 'bar', 'position_0x00', 'chord_root_7', 'chord_pc_11', 'chord_pc_2', 'chord_pc_5', 'bar', 'position_0x00', 'chord_root_0', 'chord_pc_4', 'chord_pc_7', 'chord_pc_11', 'bar', 'position_0x00', 'chord_root_5', 'chord_pc_9', 'chord_pc_0', 'chord_pc_3', 'bar', 'position_0x00', 'chord_root_4', 'chord_pc_7', 'chord_pc_11', 'chord_pc_2', 'position_2x00', 'chord_root_9', 'chord_pc_1', 'chord_pc_4', 'chord_pc_7', 'bar', 'position_0x00', 'chord_root_9', 'chord_pc_0', 'chord_pc_4', 'chord_pc_7', 'position_2x00', 'chord_root_2', 'chord_pc_6', 'chord_pc_9', 'chord_pc_0', 'bar', 'position_0x00', 'chord_root_9', 'chord_pc_0', 'chord_pc_4', 'chord_pc_7', 'bar', 'position_0x00', 'chord_root_2', 'chord_pc_6', 'chord_pc_9', 'chord_pc_0', 'bar', 'position_0x00', 'chord_root_7', 'chord_pc_11', 'chord_pc_2', 'chord_pc_6', 'position_2x00', 'chord_root_5', 'chord_pc_9', 'chord_pc_0', 'chord_pc_3', 'bar', 'position_0x00', 'chord_root_4', 'chord_pc_5', 'chord_pc_8', 'chord_pc_11', 'chord_pc_2', 'bar', 'position_0x00', 'chord_root_9', 'chord_pc_0', 'chord_pc_4', 'chord_pc_7', 'bar', 'position_0x00', 'chord_root_5', 'chord_pc_9', 'chord_pc_0', 'chord_pc_3', 'bar', 'position_0x00', 'chord_root_9', 'chord_pc_0', 'chord_pc_4', 'chord_pc_7', 'position_2x00', 'chord_root_2', 'chord_pc_6', 'chord_pc_9', 'chord_pc_0', 'bar', 'position_0x00', 'chord_root_7', 'chord_pc_11', 'chord_pc_2', 'chord_pc_4']\n",
      "[5, 6, 105, 108, 112, 115, 5, 6, 98, 114, 117, 108, 5, 6, 105, 108, 112, 115, 5, 6, 98, 114, 117, 108, 5, 6, 103, 119, 110, 114, 5, 6, 96, 112, 114, 115, 118, 5, 6, 107, 110, 114, 117, 5, 6, 100, 115, 119, 110, 5, 6, 107, 111, 114, 118, 24, 102, 118, 109, 112, 5, 6, 107, 111, 114, 116, 5, 6, 98, 113, 117, 108, 5, 6, 103, 119, 110, 113, 5, 6, 98, 113, 117, 108, 5, 6, 103, 119, 110, 113, 5, 6, 96, 112, 115, 119, 5, 6, 101, 117, 108, 111, 5, 6, 100, 115, 119, 110, 24, 105, 109, 112, 115, 5, 6, 105, 108, 112, 115, 24, 98, 114, 117, 108, 5, 6, 105, 108, 112, 115, 5, 6, 98, 114, 117, 108, 5, 6, 103, 119, 110, 114, 24, 101, 117, 108, 111, 5, 6, 100, 113, 116, 119, 110, 5, 6, 105, 108, 112, 115, 5, 6, 101, 117, 108, 111, 5, 6, 105, 108, 112, 115, 24, 98, 114, 117, 108, 5, 6, 103, 119, 110, 112]\n",
      "vocab_size:  120\n",
      "mean len:  221.54461538461538\n",
      "std len:  76.19775088699592\n",
      "mean cr:  0.093245169352101\n",
      "std cr:  0.021545758990988904\n"
     ]
    },
    {
     "name": "stderr",
     "output_type": "stream",
     "text": [
      "\n"
     ]
    }
   ],
   "source": [
    "print('RootPCTokenizer')\n",
    "rootPCTokenizer = RootPCTokenizer()\n",
    "print('len(rootPCTokenizer.vocab): ', len(rootPCTokenizer.vocab))\n",
    "initialize_stats('RootPCTokenizer', rootPCTokenizer)\n",
    "toks_rpc = rootPCTokenizer(data_files)\n",
    "print('example sentence length: ', len(toks_rpc['tokens'][0]))\n",
    "print(toks_rpc['tokens'][0])\n",
    "print(toks_rpc['ids'][0])\n",
    "update_stats('RootPCTokenizer', toks_rpc)\n",
    "print_stats('RootPCTokenizer')"
   ]
  },
  {
   "cell_type": "code",
   "execution_count": 8,
   "metadata": {},
   "outputs": [
    {
     "name": "stdout",
     "output_type": "stream",
     "text": [
      "GCTRootPCTokenizer\n",
      "len(gctRootPCTokenizer.vocab):  120\n"
     ]
    },
    {
     "name": "stderr",
     "output_type": "stream",
     "text": [
      "Processing Files: 100%|██████████| 650/650 [01:03<00:00, 10.22it/s]"
     ]
    },
    {
     "name": "stdout",
     "output_type": "stream",
     "text": [
      "example sentence length:  183\n",
      "['bar', 'position_0x00', 'chord_root_0', 'chord_pc_4', 'chord_pc_7', 'chord_pc_9', 'bar', 'position_0x00', 'chord_root_2', 'chord_pc_6', 'chord_pc_9', 'chord_pc_0', 'bar', 'position_0x00', 'chord_root_0', 'chord_pc_4', 'chord_pc_7', 'chord_pc_9', 'bar', 'position_0x00', 'chord_root_2', 'chord_pc_6', 'chord_pc_9', 'chord_pc_0', 'bar', 'position_0x00', 'chord_root_7', 'chord_pc_11', 'chord_pc_2', 'chord_pc_6', 'bar', 'position_0x00', 'chord_root_0', 'chord_pc_4', 'chord_pc_7', 'chord_pc_10', 'chord_pc_6', 'bar', 'position_0x00', 'chord_root_2', 'chord_pc_6', 'chord_pc_9', 'chord_pc_11', 'bar', 'position_0x00', 'chord_root_7', 'chord_pc_11', 'chord_pc_2', 'chord_pc_4', 'bar', 'position_0x00', 'chord_root_11', 'chord_pc_3', 'chord_pc_6', 'chord_pc_10', 'position_2x00', 'chord_root_6', 'chord_pc_10', 'chord_pc_1', 'chord_pc_4', 'bar', 'position_0x00', 'chord_root_8', 'chord_pc_11', 'chord_pc_3', 'chord_pc_6', 'bar', 'position_0x00', 'chord_root_5', 'chord_pc_9', 'chord_pc_0', 'chord_pc_2', 'bar', 'position_0x00', 'chord_root_7', 'chord_pc_11', 'chord_pc_2', 'chord_pc_5', 'bar', 'position_0x00', 'chord_root_5', 'chord_pc_9', 'chord_pc_0', 'chord_pc_2', 'bar', 'position_0x00', 'chord_root_7', 'chord_pc_11', 'chord_pc_2', 'chord_pc_5', 'bar', 'position_0x00', 'chord_root_4', 'chord_pc_7', 'chord_pc_11', 'chord_pc_0', 'bar', 'position_0x00', 'chord_root_5', 'chord_pc_9', 'chord_pc_0', 'chord_pc_3', 'bar', 'position_0x00', 'chord_root_7', 'chord_pc_11', 'chord_pc_2', 'chord_pc_4', 'position_2x00', 'chord_root_9', 'chord_pc_1', 'chord_pc_4', 'chord_pc_7', 'bar', 'position_0x00', 'chord_root_0', 'chord_pc_4', 'chord_pc_7', 'chord_pc_9', 'position_2x00', 'chord_root_2', 'chord_pc_6', 'chord_pc_9', 'chord_pc_0', 'bar', 'position_0x00', 'chord_root_0', 'chord_pc_4', 'chord_pc_7', 'chord_pc_9', 'bar', 'position_0x00', 'chord_root_2', 'chord_pc_6', 'chord_pc_9', 'chord_pc_0', 'bar', 'position_0x00', 'chord_root_7', 'chord_pc_11', 'chord_pc_2', 'chord_pc_6', 'position_2x00', 'chord_root_5', 'chord_pc_9', 'chord_pc_0', 'chord_pc_3', 'bar', 'position_0x00', 'chord_root_4', 'chord_pc_8', 'chord_pc_11', 'chord_pc_2', 'chord_pc_5', 'bar', 'position_0x00', 'chord_root_0', 'chord_pc_4', 'chord_pc_7', 'chord_pc_9', 'bar', 'position_0x00', 'chord_root_5', 'chord_pc_9', 'chord_pc_0', 'chord_pc_3', 'bar', 'position_0x00', 'chord_root_0', 'chord_pc_4', 'chord_pc_7', 'chord_pc_9', 'position_2x00', 'chord_root_2', 'chord_pc_6', 'chord_pc_9', 'chord_pc_0', 'bar', 'position_0x00', 'chord_root_7', 'chord_pc_11', 'chord_pc_2', 'chord_pc_4']\n",
      "[5, 6, 96, 112, 115, 117, 5, 6, 98, 114, 117, 108, 5, 6, 96, 112, 115, 117, 5, 6, 98, 114, 117, 108, 5, 6, 103, 119, 110, 114, 5, 6, 96, 112, 115, 118, 114, 5, 6, 98, 114, 117, 119, 5, 6, 103, 119, 110, 112, 5, 6, 107, 111, 114, 118, 24, 102, 118, 109, 112, 5, 6, 104, 119, 111, 114, 5, 6, 101, 117, 108, 110, 5, 6, 103, 119, 110, 113, 5, 6, 101, 117, 108, 110, 5, 6, 103, 119, 110, 113, 5, 6, 100, 115, 119, 108, 5, 6, 101, 117, 108, 111, 5, 6, 103, 119, 110, 112, 24, 105, 109, 112, 115, 5, 6, 96, 112, 115, 117, 24, 98, 114, 117, 108, 5, 6, 96, 112, 115, 117, 5, 6, 98, 114, 117, 108, 5, 6, 103, 119, 110, 114, 24, 101, 117, 108, 111, 5, 6, 100, 116, 119, 110, 113, 5, 6, 96, 112, 115, 117, 5, 6, 101, 117, 108, 111, 5, 6, 96, 112, 115, 117, 24, 98, 114, 117, 108, 5, 6, 103, 119, 110, 112]\n",
      "vocab_size:  120\n",
      "mean len:  221.54461538461538\n",
      "std len:  76.19775088699592\n",
      "mean cr:  0.09200214123363351\n",
      "std cr:  0.020959198907088306\n"
     ]
    },
    {
     "name": "stderr",
     "output_type": "stream",
     "text": [
      "\n"
     ]
    }
   ],
   "source": [
    "print('GCTRootPCTokenizer')\n",
    "gctRootPCTokenizer = GCTRootPCTokenizer()\n",
    "print('len(gctRootPCTokenizer.vocab): ', len(gctRootPCTokenizer.vocab))\n",
    "initialize_stats('GCTRootPCTokenizer', gctRootPCTokenizer)\n",
    "toks_gct_rpc = gctRootPCTokenizer(data_files)\n",
    "print('example sentence length: ', len(toks_gct_rpc['tokens'][0]))\n",
    "print(toks_gct_rpc['tokens'][0])\n",
    "print(toks_gct_rpc['ids'][0])\n",
    "update_stats('GCTRootPCTokenizer', toks_gct_rpc)\n",
    "print_stats('GCTRootPCTokenizer')"
   ]
  },
  {
   "cell_type": "code",
   "execution_count": 9,
   "metadata": {},
   "outputs": [
    {
     "name": "stdout",
     "output_type": "stream",
     "text": [
      "GCTSymbolTokenizer\n",
      "training\n"
     ]
    },
    {
     "name": "stderr",
     "output_type": "stream",
     "text": [
      "Processing Files: 100%|██████████| 650/650 [01:05<00:00,  9.90it/s]\n"
     ]
    },
    {
     "name": "stdout",
     "output_type": "stream",
     "text": [
      "len(gctSymbolTokenizer.vocab):  324\n"
     ]
    },
    {
     "name": "stderr",
     "output_type": "stream",
     "text": [
      "Processing Files: 100%|██████████| 650/650 [01:06<00:00,  9.82it/s]"
     ]
    },
    {
     "name": "stdout",
     "output_type": "stream",
     "text": [
      "example sentence length:  88\n",
      "['bar', 'position_0x00', '[0 0 4 7 9]', 'bar', 'position_0x00', '[ 2  0  4  7 10]', 'bar', 'position_0x00', '[0 0 4 7 9]', 'bar', 'position_0x00', '[ 2  0  4  7 10]', 'bar', 'position_0x00', '[ 7  0  4  7 11]', 'bar', 'position_0x00', '[ 0  0  4  7 10 18]', 'bar', 'position_0x00', '[2 0 4 7 9]', 'bar', 'position_0x00', '[7 0 4 7 9]', 'bar', 'position_0x00', '[11  0  4  7 11]', 'position_2x00', '[ 6  0  4  7 10]', 'bar', 'position_0x00', '[ 8  0  3  7 10]', 'bar', 'position_0x00', '[5 0 4 7 9]', 'bar', 'position_0x00', '[ 7  0  4  7 10]', 'bar', 'position_0x00', '[5 0 4 7 9]', 'bar', 'position_0x00', '[ 7  0  4  7 10]', 'bar', 'position_0x00', '[4 0 3 7 8]', 'bar', 'position_0x00', '[ 5  0  4  7 10]', 'bar', 'position_0x00', '[7 0 4 7 9]', 'position_2x00', '[ 9  0  4  7 10]', 'bar', 'position_0x00', '[0 0 4 7 9]', 'position_2x00', '[ 2  0  4  7 10]', 'bar', 'position_0x00', '[0 0 4 7 9]', 'bar', 'position_0x00', '[ 2  0  4  7 10]', 'bar', 'position_0x00', '[ 7  0  4  7 11]', 'position_2x00', '[ 5  0  4  7 10]', 'bar', 'position_0x00', '[ 4  0  4  7 10 13]', 'bar', 'position_0x00', '[0 0 4 7 9]', 'bar', 'position_0x00', '[ 5  0  4  7 10]', 'bar', 'position_0x00', '[0 0 4 7 9]', 'position_2x00', '[ 2  0  4  7 10]', 'bar', 'position_0x00', '[7 0 4 7 9]']\n",
      "[5, 6, 96, 5, 6, 97, 5, 6, 96, 5, 6, 97, 5, 6, 98, 5, 6, 99, 5, 6, 100, 5, 6, 101, 5, 6, 102, 24, 103, 5, 6, 104, 5, 6, 105, 5, 6, 106, 5, 6, 105, 5, 6, 106, 5, 6, 107, 5, 6, 108, 5, 6, 101, 24, 109, 5, 6, 96, 24, 97, 5, 6, 96, 5, 6, 97, 5, 6, 98, 24, 108, 5, 6, 110, 5, 6, 96, 5, 6, 108, 5, 6, 96, 24, 97, 5, 6, 101]\n",
      "vocab_size:  324\n",
      "mean len:  103.60307692307693\n",
      "std len:  34.29661552815949\n",
      "mean cr:  0.11050461021034852\n",
      "std cr:  0.024958655793046375\n"
     ]
    },
    {
     "name": "stderr",
     "output_type": "stream",
     "text": [
      "\n"
     ]
    }
   ],
   "source": [
    "print('GCTSymbolTokenizer')\n",
    "gctSymbolTokenizer = GCTSymbolTokenizer()\n",
    "print('training')\n",
    "gctSymbolTokenizer.fit( data_files )\n",
    "print('len(gctSymbolTokenizer.vocab): ', len(gctSymbolTokenizer.vocab))\n",
    "initialize_stats('GCTSymbolTokenizer', gctSymbolTokenizer)\n",
    "toks_gct_symb = gctSymbolTokenizer(data_files)\n",
    "print('example sentence length: ', len(toks_gct_symb['tokens'][0]))\n",
    "print(toks_gct_symb['tokens'][0])\n",
    "print(toks_gct_symb['ids'][0])\n",
    "update_stats('GCTSymbolTokenizer', toks_gct_symb)\n",
    "print_stats('GCTSymbolTokenizer')"
   ]
  },
  {
   "cell_type": "code",
   "execution_count": 10,
   "metadata": {},
   "outputs": [
    {
     "name": "stdout",
     "output_type": "stream",
     "text": [
      "GCTRootTypeTokenizer\n",
      "training\n"
     ]
    },
    {
     "name": "stderr",
     "output_type": "stream",
     "text": [
      "Processing Files: 100%|██████████| 650/650 [01:05<00:00,  9.86it/s]\n"
     ]
    },
    {
     "name": "stdout",
     "output_type": "stream",
     "text": [
      "len(gctRootTypeTokenizer.vocab):  153\n"
     ]
    },
    {
     "name": "stderr",
     "output_type": "stream",
     "text": [
      "Processing Files: 100%|██████████| 650/650 [01:06<00:00,  9.79it/s]"
     ]
    },
    {
     "name": "stdout",
     "output_type": "stream",
     "text": [
      "example sentence length:  119\n",
      "['bar', 'position_0x00', 'chord_root_0', '[0 4 7 9]', 'bar', 'position_0x00', 'chord_root_2', '[ 0  4  7 10]', 'bar', 'position_0x00', 'chord_root_0', '[0 4 7 9]', 'bar', 'position_0x00', 'chord_root_2', '[ 0  4  7 10]', 'bar', 'position_0x00', 'chord_root_7', '[ 0  4  7 11]', 'bar', 'position_0x00', 'chord_root_0', '[ 0  4  7 10 18]', 'bar', 'position_0x00', 'chord_root_2', '[0 4 7 9]', 'bar', 'position_0x00', 'chord_root_7', '[0 4 7 9]', 'bar', 'position_0x00', 'chord_root_11', '[ 0  4  7 11]', 'position_2x00', 'chord_root_6', '[ 0  4  7 10]', 'bar', 'position_0x00', 'chord_root_8', '[ 0  3  7 10]', 'bar', 'position_0x00', 'chord_root_5', '[0 4 7 9]', 'bar', 'position_0x00', 'chord_root_7', '[ 0  4  7 10]', 'bar', 'position_0x00', 'chord_root_5', '[0 4 7 9]', 'bar', 'position_0x00', 'chord_root_7', '[ 0  4  7 10]', 'bar', 'position_0x00', 'chord_root_4', '[0 3 7 8]', 'bar', 'position_0x00', 'chord_root_5', '[ 0  4  7 10]', 'bar', 'position_0x00', 'chord_root_7', '[0 4 7 9]', 'position_2x00', 'chord_root_9', '[ 0  4  7 10]', 'bar', 'position_0x00', 'chord_root_0', '[0 4 7 9]', 'position_2x00', 'chord_root_2', '[ 0  4  7 10]', 'bar', 'position_0x00', 'chord_root_0', '[0 4 7 9]', 'bar', 'position_0x00', 'chord_root_2', '[ 0  4  7 10]', 'bar', 'position_0x00', 'chord_root_7', '[ 0  4  7 11]', 'position_2x00', 'chord_root_5', '[ 0  4  7 10]', 'bar', 'position_0x00', 'chord_root_4', '[ 0  4  7 10 13]', 'bar', 'position_0x00', 'chord_root_0', '[0 4 7 9]', 'bar', 'position_0x00', 'chord_root_5', '[ 0  4  7 10]', 'bar', 'position_0x00', 'chord_root_0', '[0 4 7 9]', 'position_2x00', 'chord_root_2', '[ 0  4  7 10]', 'bar', 'position_0x00', 'chord_root_7', '[0 4 7 9]']\n",
      "[5, 6, 96, 108, 5, 6, 98, 109, 5, 6, 96, 108, 5, 6, 98, 109, 5, 6, 103, 110, 5, 6, 96, 111, 5, 6, 98, 108, 5, 6, 103, 108, 5, 6, 107, 110, 24, 102, 109, 5, 6, 104, 112, 5, 6, 101, 108, 5, 6, 103, 109, 5, 6, 101, 108, 5, 6, 103, 109, 5, 6, 100, 113, 5, 6, 101, 109, 5, 6, 103, 108, 24, 105, 109, 5, 6, 96, 108, 24, 98, 109, 5, 6, 96, 108, 5, 6, 98, 109, 5, 6, 103, 110, 24, 101, 109, 5, 6, 100, 114, 5, 6, 96, 108, 5, 6, 101, 109, 5, 6, 96, 108, 24, 98, 109, 5, 6, 103, 108]\n",
      "vocab_size:  153\n",
      "mean len:  141.68769230769232\n",
      "std len:  47.76576826296714\n",
      "mean cr:  0.10137530646118449\n",
      "std cr:  0.022655743531154782\n"
     ]
    },
    {
     "name": "stderr",
     "output_type": "stream",
     "text": [
      "\n"
     ]
    }
   ],
   "source": [
    "print('GCTRootTypeTokenizer')\n",
    "gctRootTypeTokenizer = GCTRootTypeTokenizer()\n",
    "print('training')\n",
    "gctRootTypeTokenizer.fit( data_files )\n",
    "print('len(gctRootTypeTokenizer.vocab): ', len(gctRootTypeTokenizer.vocab))\n",
    "initialize_stats('GCTRootTypeTokenizer', gctRootTypeTokenizer)\n",
    "toks_gct_rt = gctRootTypeTokenizer(data_files)\n",
    "print('example sentence length: ', len(toks_gct_rt['tokens'][0]))\n",
    "print(toks_gct_rt['tokens'][0])\n",
    "print(toks_gct_rt['ids'][0])\n",
    "update_stats('GCTRootTypeTokenizer', toks_gct_rt)\n",
    "print_stats('GCTRootTypeTokenizer')"
   ]
  },
  {
   "cell_type": "code",
   "execution_count": 5,
   "metadata": {},
   "outputs": [
    {
     "name": "stdout",
     "output_type": "stream",
     "text": [
      "MelodyPitchTokenizer_m21\n",
      "len(melodyPitchTokenizer.vocab):  184\n"
     ]
    },
    {
     "name": "stderr",
     "output_type": "stream",
     "text": [
      "Processing Melody Files: 100%|██████████| 650/650 [00:32<00:00, 19.75it/s]"
     ]
    },
    {
     "name": "stdout",
     "output_type": "stream",
     "text": [
      "example sentence length:  196\n",
      "['bar', 'position_0x00', 'P:69', 'position_3x00', 'P:64', 'bar', 'position_0x00', 'P:71', 'position_0x75', 'P:71', 'position_1x00', 'P:71', 'position_3x00', 'P:64', 'bar', 'position_0x00', 'P:69', 'position_1x00', 'P:71', 'position_2x00', 'P:69', 'position_3x00', 'P:64', 'bar', 'position_0x00', 'P:71', 'position_3x00', 'P:69', 'bar', 'position_0x00', 'P:66', 'position_1x00', 'P:67', 'position_1x50', 'P:64', 'position_2x00', 'P:64', 'bar', 'position_0x00', 'P:66', 'position_1x00', 'P:67', 'position_1x50', 'P:64', 'position_2x00', 'P:64', 'position_3x50', 'P:66', 'bar', 'position_0x00', 'P:59', 'position_1x00', 'P:62', 'position_2x00', 'P:64', 'position_3x00', 'P:67', 'bar', 'position_0x00', 'P:66', 'position_0x50', 'P:67', 'position_1x00', 'P:64', 'position_3x00', 'P:62', 'bar', 'position_0x00', 'P:63', 'position_1x00', 'P:66', 'position_2x00', 'P:68', 'position_3x00', 'P:73', 'bar', 'position_0x00', 'P:71', 'position_0x50', 'P:73', 'position_1x00', 'P:71', 'position_3x00', 'P:71', 'bar', 'position_0x00', 'P:74', 'position_3x00', 'P:69', 'bar', 'position_0x00', 'P:72', 'position_3x00', 'P:71', 'bar', 'position_0x00', 'P:74', 'position_1x00', 'P:74', 'position_2x00', 'P:74', 'position_3x00', 'P:69', 'bar', 'position_0x00', 'P:72', 'position_1x00', 'P:72', 'position_3x00', 'P:67', 'bar', 'position_0x00', 'P:71', 'position_3x00', 'P:67', 'bar', 'position_0x00', 'P:69', 'position_3x00', 'P:67', 'bar', 'position_0x00', 'P:71', 'position_1x00', 'P:69', 'position_2x00', 'P:67', 'position_3x00', 'P:66', 'bar', 'position_0x00', 'P:64', 'position_1x00', 'P:66', 'position_3x00', 'P:62', 'bar', 'position_0x00', 'P:69', 'position_3x00', 'P:64', 'bar', 'position_0x00', 'P:71', 'position_0x75', 'P:71', 'position_1x00', 'P:71', 'position_3x00', 'P:69', 'bar', 'position_0x00', 'P:66', 'position_1x00', 'P:67', 'position_2x00', 'P:69', 'position_3x00', 'P:71', 'bar', 'position_0x00', 'P:74', 'position_3x00', 'P:71', 'bar', 'position_0x00', 'P:74', 'position_1x00', 'P:73', 'position_2x00', 'P:72', 'position_3x00', 'P:64', 'bar', 'position_0x00', 'P:74', 'position_0x50', 'P:73', 'position_1x00', 'P:72', 'position_3x00', 'P:71', 'bar', 'position_0x00', 'P:69', 'position_1x00', 'P:71', 'position_2x00', 'P:67', 'position_3x00', 'P:69', 'bar', 'position_0x00', 'P:67', 'position_3x00', 'Rest']\n",
      "[5, 94, 54, 121, 49, 5, 94, 56, 101, 56, 103, 56, 121, 49, 5, 94, 54, 103, 56, 112, 54, 121, 49, 5, 94, 56, 121, 54, 5, 94, 51, 103, 52, 108, 49, 112, 49, 5, 94, 51, 103, 52, 108, 49, 112, 49, 126, 51, 5, 94, 44, 103, 47, 112, 49, 121, 52, 5, 94, 51, 99, 52, 103, 49, 121, 47, 5, 94, 48, 103, 51, 112, 53, 121, 58, 5, 94, 56, 99, 58, 103, 56, 121, 56, 5, 94, 59, 121, 54, 5, 94, 57, 121, 56, 5, 94, 59, 103, 59, 112, 59, 121, 54, 5, 94, 57, 103, 57, 121, 52, 5, 94, 56, 121, 52, 5, 94, 54, 121, 52, 5, 94, 56, 103, 54, 112, 52, 121, 51, 5, 94, 49, 103, 51, 121, 47, 5, 94, 54, 121, 49, 5, 94, 56, 101, 56, 103, 56, 121, 54, 5, 94, 51, 103, 52, 112, 54, 121, 56, 5, 94, 59, 121, 56, 5, 94, 59, 103, 58, 112, 57, 121, 49, 5, 94, 59, 99, 58, 103, 57, 121, 56, 5, 94, 54, 103, 56, 112, 52, 121, 54, 5, 94, 52, 121, 4]\n",
      "vocab_size:  184\n",
      "mean len:  241.8323076923077\n",
      "std len:  88.73966003938332\n",
      "mean cr:  0.11353269972158636\n",
      "std cr:  0.02323730549065121\n"
     ]
    },
    {
     "name": "stderr",
     "output_type": "stream",
     "text": [
      "\n"
     ]
    }
   ],
   "source": [
    "print('MelodyPitchTokenizer_m21')\n",
    "melodyPitchTokenizer = MelodyPitchTokenizer(min_pitch=21, max_pitch=108) #default range, need to adjust\n",
    "print('len(melodyPitchTokenizer.vocab): ', len(melodyPitchTokenizer.vocab))\n",
    "initialize_stats('MelodyPitchTokenizer', melodyPitchTokenizer)\n",
    "toks_cs = melodyPitchTokenizer(data_files)\n",
    "print('example sentence length: ', len(toks_cs['tokens'][0]))\n",
    "print(toks_cs['tokens'][0])\n",
    "print(toks_cs['ids'][0])\n",
    "update_stats('MelodyPitchTokenizer', toks_cs)\n",
    "print_stats('MelodyPitchTokenizer')"
   ]
  },
  {
   "cell_type": "code",
   "execution_count": 12,
   "metadata": {},
   "outputs": [],
   "source": [
    "# print stats\n",
    "tokenizers = ['ChordSymbolTokenizer', 'MelodyPitchTokenizer'\n",
    "              ]\n",
    "\n",
    "results_path = 'vocab_stats_hk_m21.csv' #for hook theory\n",
    "\n",
    "result_fields = ['Tokenizer_m21', 'vocab_size'] + list( stats['ChordSymbolTokenizer'].keys() )[3:]\n",
    "\n",
    "with open( results_path, 'w' ) as f:\n",
    "    writer = csv.writer(f)\n",
    "    writer.writerow( result_fields )\n",
    "\n",
    "for tok in tokenizers:\n",
    "    with open( results_path, 'a' ) as f:\n",
    "            writer = csv.writer(f)\n",
    "            writer.writerow( [tok] + [stats[tok]['vocab_size']] + list( stats[tok].values() )[3:] )"
   ]
  },
  {
   "cell_type": "code",
   "execution_count": 7,
   "metadata": {},
   "outputs": [
    {
     "name": "stdout",
     "output_type": "stream",
     "text": [
      "Merging harmony vocab\n"
     ]
    }
   ],
   "source": [
    "m_chordSymbolTokenizer = MergedMelHarmTokenizer(melodyPitchTokenizer, chordSymbolTokenizer, verbose=1)\n",
    "# m_rootTypeTokenizer = MergedMelHarmTokenizer(melodyPitchTokenizer, rootTypeTokenizer)"
   ]
  },
  {
   "cell_type": "code",
   "execution_count": 8,
   "metadata": {},
   "outputs": [
    {
     "name": "stdout",
     "output_type": "stream",
     "text": [
      "{'unk': 0, 'pad': 1, 'bos': 2, 'eos': 3, 'Rest': 4, 'bar': 5, 'P:21': 6, 'P:22': 7, 'P:23': 8, 'P:24': 9, 'P:25': 10, 'P:26': 11, 'P:27': 12, 'P:28': 13, 'P:29': 14, 'P:30': 15, 'P:31': 16, 'P:32': 17, 'P:33': 18, 'P:34': 19, 'P:35': 20, 'P:36': 21, 'P:37': 22, 'P:38': 23, 'P:39': 24, 'P:40': 25, 'P:41': 26, 'P:42': 27, 'P:43': 28, 'P:44': 29, 'P:45': 30, 'P:46': 31, 'P:47': 32, 'P:48': 33, 'P:49': 34, 'P:50': 35, 'P:51': 36, 'P:52': 37, 'P:53': 38, 'P:54': 39, 'P:55': 40, 'P:56': 41, 'P:57': 42, 'P:58': 43, 'P:59': 44, 'P:60': 45, 'P:61': 46, 'P:62': 47, 'P:63': 48, 'P:64': 49, 'P:65': 50, 'P:66': 51, 'P:67': 52, 'P:68': 53, 'P:69': 54, 'P:70': 55, 'P:71': 56, 'P:72': 57, 'P:73': 58, 'P:74': 59, 'P:75': 60, 'P:76': 61, 'P:77': 62, 'P:78': 63, 'P:79': 64, 'P:80': 65, 'P:81': 66, 'P:82': 67, 'P:83': 68, 'P:84': 69, 'P:85': 70, 'P:86': 71, 'P:87': 72, 'P:88': 73, 'P:89': 74, 'P:90': 75, 'P:91': 76, 'P:92': 77, 'P:93': 78, 'P:94': 79, 'P:95': 80, 'P:96': 81, 'P:97': 82, 'P:98': 83, 'P:99': 84, 'P:100': 85, 'P:101': 86, 'P:102': 87, 'P:103': 88, 'P:104': 89, 'P:105': 90, 'P:106': 91, 'P:107': 92, 'P:108': 93, 'position_0x00': 94, 'position_0x10': 95, 'position_0x20': 96, 'position_0x25': 97, 'position_0x33': 98, 'position_0x50': 99, 'position_0x66': 100, 'position_0x75': 101, 'position_0x90': 102, 'position_1x00': 103, 'position_1x10': 104, 'position_1x20': 105, 'position_1x25': 106, 'position_1x33': 107, 'position_1x50': 108, 'position_1x66': 109, 'position_1x75': 110, 'position_1x90': 111, 'position_2x00': 112, 'position_2x10': 113, 'position_2x20': 114, 'position_2x25': 115, 'position_2x33': 116, 'position_2x50': 117, 'position_2x66': 118, 'position_2x75': 119, 'position_2x90': 120, 'position_3x00': 121, 'position_3x10': 122, 'position_3x20': 123, 'position_3x25': 124, 'position_3x33': 125, 'position_3x50': 126, 'position_3x66': 127, 'position_3x75': 128, 'position_3x90': 129, 'position_4x00': 130, 'position_4x10': 131, 'position_4x20': 132, 'position_4x25': 133, 'position_4x33': 134, 'position_4x50': 135, 'position_4x66': 136, 'position_4x75': 137, 'position_4x90': 138, 'position_5x00': 139, 'position_5x10': 140, 'position_5x20': 141, 'position_5x25': 142, 'position_5x33': 143, 'position_5x50': 144, 'position_5x66': 145, 'position_5x75': 146, 'position_5x90': 147, 'position_6x00': 148, 'position_6x10': 149, 'position_6x20': 150, 'position_6x25': 151, 'position_6x33': 152, 'position_6x50': 153, 'position_6x66': 154, 'position_6x75': 155, 'position_6x90': 156, 'position_7x00': 157, 'position_7x10': 158, 'position_7x20': 159, 'position_7x25': 160, 'position_7x33': 161, 'position_7x50': 162, 'position_7x66': 163, 'position_7x75': 164, 'position_7x90': 165, 'position_8x00': 166, 'position_8x10': 167, 'position_8x20': 168, 'position_8x25': 169, 'position_8x33': 170, 'position_8x50': 171, 'position_8x66': 172, 'position_8x75': 173, 'position_8x90': 174, 'position_9x00': 175, 'position_9x10': 176, 'position_9x20': 177, 'position_9x25': 178, 'position_9x33': 179, 'position_9x50': 180, 'position_9x66': 181, 'position_9x75': 182, 'position_9x90': 183, 'emp': 184, 'C:maj': 185, 'C:min': 186, 'C:aug': 187, 'C:dim': 188, 'C:sus4': 189, 'C:sus2': 190, 'C:7': 191, 'C:maj7': 192, 'C:min7': 193, 'C:minmaj7': 194, 'C:maj6': 195, 'C:min6': 196, 'C:dim7': 197, 'C:hdim7': 198, 'C:maj9': 199, 'C:min9': 200, 'C:9': 201, 'C:min11': 202, 'C:11': 203, 'C:maj13': 204, 'C:min13': 205, 'C:13': 206, 'C:1': 207, 'C:5': 208, 'C:': 209, 'C:7(b9)': 210, 'C:7(#9)': 211, 'C:7(#11)': 212, 'C:7(b13)': 213, 'C#:maj': 214, 'C#:min': 215, 'C#:aug': 216, 'C#:dim': 217, 'C#:sus4': 218, 'C#:sus2': 219, 'C#:7': 220, 'C#:maj7': 221, 'C#:min7': 222, 'C#:minmaj7': 223, 'C#:maj6': 224, 'C#:min6': 225, 'C#:dim7': 226, 'C#:hdim7': 227, 'C#:maj9': 228, 'C#:min9': 229, 'C#:9': 230, 'C#:min11': 231, 'C#:11': 232, 'C#:maj13': 233, 'C#:min13': 234, 'C#:13': 235, 'C#:1': 236, 'C#:5': 237, 'C#:': 238, 'C#:7(b9)': 239, 'C#:7(#9)': 240, 'C#:7(#11)': 241, 'C#:7(b13)': 242, 'D:maj': 243, 'D:min': 244, 'D:aug': 245, 'D:dim': 246, 'D:sus4': 247, 'D:sus2': 248, 'D:7': 249, 'D:maj7': 250, 'D:min7': 251, 'D:minmaj7': 252, 'D:maj6': 253, 'D:min6': 254, 'D:dim7': 255, 'D:hdim7': 256, 'D:maj9': 257, 'D:min9': 258, 'D:9': 259, 'D:min11': 260, 'D:11': 261, 'D:maj13': 262, 'D:min13': 263, 'D:13': 264, 'D:1': 265, 'D:5': 266, 'D:': 267, 'D:7(b9)': 268, 'D:7(#9)': 269, 'D:7(#11)': 270, 'D:7(b13)': 271, 'D#:maj': 272, 'D#:min': 273, 'D#:aug': 274, 'D#:dim': 275, 'D#:sus4': 276, 'D#:sus2': 277, 'D#:7': 278, 'D#:maj7': 279, 'D#:min7': 280, 'D#:minmaj7': 281, 'D#:maj6': 282, 'D#:min6': 283, 'D#:dim7': 284, 'D#:hdim7': 285, 'D#:maj9': 286, 'D#:min9': 287, 'D#:9': 288, 'D#:min11': 289, 'D#:11': 290, 'D#:maj13': 291, 'D#:min13': 292, 'D#:13': 293, 'D#:1': 294, 'D#:5': 295, 'D#:': 296, 'D#:7(b9)': 297, 'D#:7(#9)': 298, 'D#:7(#11)': 299, 'D#:7(b13)': 300, 'E:maj': 301, 'E:min': 302, 'E:aug': 303, 'E:dim': 304, 'E:sus4': 305, 'E:sus2': 306, 'E:7': 307, 'E:maj7': 308, 'E:min7': 309, 'E:minmaj7': 310, 'E:maj6': 311, 'E:min6': 312, 'E:dim7': 313, 'E:hdim7': 314, 'E:maj9': 315, 'E:min9': 316, 'E:9': 317, 'E:min11': 318, 'E:11': 319, 'E:maj13': 320, 'E:min13': 321, 'E:13': 322, 'E:1': 323, 'E:5': 324, 'E:': 325, 'E:7(b9)': 326, 'E:7(#9)': 327, 'E:7(#11)': 328, 'E:7(b13)': 329, 'F:maj': 330, 'F:min': 331, 'F:aug': 332, 'F:dim': 333, 'F:sus4': 334, 'F:sus2': 335, 'F:7': 336, 'F:maj7': 337, 'F:min7': 338, 'F:minmaj7': 339, 'F:maj6': 340, 'F:min6': 341, 'F:dim7': 342, 'F:hdim7': 343, 'F:maj9': 344, 'F:min9': 345, 'F:9': 346, 'F:min11': 347, 'F:11': 348, 'F:maj13': 349, 'F:min13': 350, 'F:13': 351, 'F:1': 352, 'F:5': 353, 'F:': 354, 'F:7(b9)': 355, 'F:7(#9)': 356, 'F:7(#11)': 357, 'F:7(b13)': 358, 'F#:maj': 359, 'F#:min': 360, 'F#:aug': 361, 'F#:dim': 362, 'F#:sus4': 363, 'F#:sus2': 364, 'F#:7': 365, 'F#:maj7': 366, 'F#:min7': 367, 'F#:minmaj7': 368, 'F#:maj6': 369, 'F#:min6': 370, 'F#:dim7': 371, 'F#:hdim7': 372, 'F#:maj9': 373, 'F#:min9': 374, 'F#:9': 375, 'F#:min11': 376, 'F#:11': 377, 'F#:maj13': 378, 'F#:min13': 379, 'F#:13': 380, 'F#:1': 381, 'F#:5': 382, 'F#:': 383, 'F#:7(b9)': 384, 'F#:7(#9)': 385, 'F#:7(#11)': 386, 'F#:7(b13)': 387, 'G:maj': 388, 'G:min': 389, 'G:aug': 390, 'G:dim': 391, 'G:sus4': 392, 'G:sus2': 393, 'G:7': 394, 'G:maj7': 395, 'G:min7': 396, 'G:minmaj7': 397, 'G:maj6': 398, 'G:min6': 399, 'G:dim7': 400, 'G:hdim7': 401, 'G:maj9': 402, 'G:min9': 403, 'G:9': 404, 'G:min11': 405, 'G:11': 406, 'G:maj13': 407, 'G:min13': 408, 'G:13': 409, 'G:1': 410, 'G:5': 411, 'G:': 412, 'G:7(b9)': 413, 'G:7(#9)': 414, 'G:7(#11)': 415, 'G:7(b13)': 416, 'G#:maj': 417, 'G#:min': 418, 'G#:aug': 419, 'G#:dim': 420, 'G#:sus4': 421, 'G#:sus2': 422, 'G#:7': 423, 'G#:maj7': 424, 'G#:min7': 425, 'G#:minmaj7': 426, 'G#:maj6': 427, 'G#:min6': 428, 'G#:dim7': 429, 'G#:hdim7': 430, 'G#:maj9': 431, 'G#:min9': 432, 'G#:9': 433, 'G#:min11': 434, 'G#:11': 435, 'G#:maj13': 436, 'G#:min13': 437, 'G#:13': 438, 'G#:1': 439, 'G#:5': 440, 'G#:': 441, 'G#:7(b9)': 442, 'G#:7(#9)': 443, 'G#:7(#11)': 444, 'G#:7(b13)': 445, 'A:maj': 446, 'A:min': 447, 'A:aug': 448, 'A:dim': 449, 'A:sus4': 450, 'A:sus2': 451, 'A:7': 452, 'A:maj7': 453, 'A:min7': 454, 'A:minmaj7': 455, 'A:maj6': 456, 'A:min6': 457, 'A:dim7': 458, 'A:hdim7': 459, 'A:maj9': 460, 'A:min9': 461, 'A:9': 462, 'A:min11': 463, 'A:11': 464, 'A:maj13': 465, 'A:min13': 466, 'A:13': 467, 'A:1': 468, 'A:5': 469, 'A:': 470, 'A:7(b9)': 471, 'A:7(#9)': 472, 'A:7(#11)': 473, 'A:7(b13)': 474, 'A#:maj': 475, 'A#:min': 476, 'A#:aug': 477, 'A#:dim': 478, 'A#:sus4': 479, 'A#:sus2': 480, 'A#:7': 481, 'A#:maj7': 482, 'A#:min7': 483, 'A#:minmaj7': 484, 'A#:maj6': 485, 'A#:min6': 486, 'A#:dim7': 487, 'A#:hdim7': 488, 'A#:maj9': 489, 'A#:min9': 490, 'A#:9': 491, 'A#:min11': 492, 'A#:11': 493, 'A#:maj13': 494, 'A#:min13': 495, 'A#:13': 496, 'A#:1': 497, 'A#:5': 498, 'A#:': 499, 'A#:7(b9)': 500, 'A#:7(#9)': 501, 'A#:7(#11)': 502, 'A#:7(b13)': 503, 'B:maj': 504, 'B:min': 505, 'B:aug': 506, 'B:dim': 507, 'B:sus4': 508, 'B:sus2': 509, 'B:7': 510, 'B:maj7': 511, 'B:min7': 512, 'B:minmaj7': 513, 'B:maj6': 514, 'B:min6': 515, 'B:dim7': 516, 'B:hdim7': 517, 'B:maj9': 518, 'B:min9': 519, 'B:9': 520, 'B:min11': 521, 'B:11': 522, 'B:maj13': 523, 'B:min13': 524, 'B:13': 525, 'B:1': 526, 'B:5': 527, 'B:': 528, 'B:7(b9)': 529, 'B:7(#9)': 530, 'B:7(#11)': 531, 'B:7(b13)': 532}\n"
     ]
    }
   ],
   "source": [
    "print(m_chordSymbolTokenizer.vocab)"
   ]
  }
 ],
 "metadata": {
  "kernelspec": {
   "display_name": "midi",
   "language": "python",
   "name": "python3"
  },
  "language_info": {
   "codemirror_mode": {
    "name": "ipython",
    "version": 3
   },
   "file_extension": ".py",
   "mimetype": "text/x-python",
   "name": "python",
   "nbconvert_exporter": "python",
   "pygments_lexer": "ipython3",
   "version": "3.11.5"
  }
 },
 "nbformat": 4,
 "nbformat_minor": 2
}
