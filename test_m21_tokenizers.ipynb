{
 "cells": [
  {
   "cell_type": "code",
   "execution_count": 1,
   "metadata": {},
   "outputs": [
    {
     "name": "stderr",
     "output_type": "stream",
     "text": [
      "/home/maximos/anaconda3/envs/midi/lib/python3.11/site-packages/tqdm/auto.py:21: TqdmWarning: IProgress not found. Please update jupyter and ipywidgets. See https://ipywidgets.readthedocs.io/en/stable/user_install.html\n",
      "  from .autonotebook import tqdm as notebook_tqdm\n",
      "None of PyTorch, TensorFlow >= 2.0, or Flax have been found. Models won't be available and only tokenizers, configuration and file/data utilities can be used.\n"
     ]
    }
   ],
   "source": [
    "import os\n",
    "import csv\n",
    "import zlib\n",
    "import numpy as np\n",
    "from harmony_tokenizers_m21 import ChordSymbolTokenizer, RootTypeTokenizer, \\\n",
    "    PitchClassTokenizer, RootPCTokenizer, GCTRootPCTokenizer, \\\n",
    "    GCTSymbolTokenizer, GCTRootTypeTokenizer, MelodyPitchTokenizer, \\\n",
    "    MergedMelHarmTokenizer"
   ]
  },
  {
   "cell_type": "code",
   "execution_count": 2,
   "metadata": {},
   "outputs": [
    {
     "name": "stdout",
     "output_type": "stream",
     "text": [
      "Total files from Hook Theory dataset: 650\n"
     ]
    }
   ],
   "source": [
    "# root_dir = '/media/datadisk/datasets/hooktheory_xmls'\n",
    "root_dir = 'data/gjt_melodies/Library_melodies/'\n",
    "data_files = []\n",
    "\n",
    "# Walk through all subdirectories and files\n",
    "for dirpath, _, filenames in os.walk(root_dir):\n",
    "    for file in filenames:\n",
    "        if file.endswith('.xml') or file.endswith('.mxl'):\n",
    "            full_path = os.path.join(dirpath, file)\n",
    "            data_files.append(full_path)\n",
    "\n",
    "print('Total files from Hook Theory dataset:', len(data_files))"
   ]
  },
  {
   "cell_type": "code",
   "execution_count": 3,
   "metadata": {},
   "outputs": [],
   "source": [
    "# prepare stats\n",
    "stats = {}\n",
    "\n",
    "def compute_compression_rate(array: np.ndarray, compression_method=zlib.compress) -> float:\n",
    "    \"\"\"\n",
    "    Compute the compression rate of a NumPy array.\n",
    "\n",
    "    Parameters:\n",
    "        array (np.ndarray): The NumPy array to compress.\n",
    "        compression_method (callable): The compression method to use. \n",
    "                                       Default is `zlib.compress`.\n",
    "\n",
    "    Returns:\n",
    "        float: The compression rate (compressed size / original size).\n",
    "    \"\"\"\n",
    "    # Convert the array to bytes\n",
    "    array_bytes = array.tobytes()\n",
    "    \n",
    "    # Compress the byte representation\n",
    "    compressed_bytes = compression_method(array_bytes)\n",
    "    \n",
    "    # Compute sizes\n",
    "    original_size = len(array_bytes)\n",
    "    compressed_size = len(compressed_bytes)\n",
    "    \n",
    "    # Calculate compression rate\n",
    "    compression_rate = compressed_size / original_size\n",
    "\n",
    "    return compression_rate\n",
    "\n",
    "def initialize_stats(key, tokenizer):\n",
    "    stats[key] = {\n",
    "        'vocab_size': len(tokenizer.vocab),\n",
    "        'seq_lens': [],\n",
    "        'compression_rates': []\n",
    "    }\n",
    "# end initialize_stats\n",
    "\n",
    "def update_stats(key, toks):\n",
    "    for t in toks['ids']:\n",
    "        stats[key]['seq_lens'].append( len(t) )\n",
    "        stats[key]['compression_rates'].append( compute_compression_rate(np.array(t)) )\n",
    "    stats[key]['mean_len'] = np.mean(stats[key]['seq_lens'])\n",
    "    stats[key]['std_len'] = np.std(stats[key]['seq_lens'])\n",
    "    stats[key]['mean_compression'] = np.mean(stats[key]['compression_rates'])\n",
    "    stats[key]['std_compression'] = np.std(stats[key]['compression_rates'])\n",
    "# end update_stats\n",
    "\n",
    "def print_stats(key):\n",
    "    print('vocab_size: ', stats[key]['vocab_size'])\n",
    "    print('mean len: ', stats[key]['mean_len'])\n",
    "    print('std len: ', stats[key]['std_len'])\n",
    "    print('mean cr: ', stats[key]['mean_compression'])\n",
    "    print('std cr: ', stats[key]['std_compression'])"
   ]
  },
  {
   "cell_type": "code",
   "execution_count": 4,
   "metadata": {},
   "outputs": [
    {
     "name": "stdout",
     "output_type": "stream",
     "text": [
      "ChordSymbolTokenizer_m21\n",
      "len(chordSymbolTokenizer.vocab):  446\n"
     ]
    },
    {
     "name": "stderr",
     "output_type": "stream",
     "text": [
      "Processing Files:   0%|          | 0/650 [00:00<?, ?it/s]/home/maximos/anaconda3/envs/midi/lib/python3.11/site-packages/music21/stream/base.py:3689: Music21DeprecationWarning: .flat is deprecated.  Call .flatten() instead\n",
      "  return self.iter().getElementsByClass(classFilterList)\n",
      "Processing Files:   3%|▎         | 20/650 [00:01<00:55, 11.42it/s]/home/maximos/anaconda3/envs/midi/lib/python3.11/site-packages/music21/stream/base.py:3689: Music21DeprecationWarning: .flat is deprecated.  Call .flatten() instead\n",
      "  return self.iter().getElementsByClass(classFilterList)\n",
      "Processing Files:   5%|▍         | 31/650 [00:02<00:50, 12.29it/s]In /home/maximos/anaconda3/envs/midi/lib/python3.11/site-packages/matplotlib/mpl-data/stylelib/_classic_test_patch.mplstyle: .flat is deprecated.  Call .flatten() instead\n",
      "In /home/maximos/anaconda3/envs/midi/lib/python3.11/site-packages/matplotlib/mpl-data/stylelib/seaborn-v0_8-bright.mplstyle: .flat is deprecated.  Call .flatten() instead\n",
      "Processing Files:   5%|▌         | 33/650 [00:02<00:55, 11.17it/s]In /home/maximos/anaconda3/envs/midi/lib/python3.11/site-packages/matplotlib/mpl-data/stylelib/bmh.mplstyle: .flat is deprecated.  Call .flatten() instead\n",
      "In /home/maximos/anaconda3/envs/midi/lib/python3.11/site-packages/matplotlib/mpl-data/stylelib/ggplot.mplstyle: .flat is deprecated.  Call .flatten() instead\n",
      "/home/maximos/anaconda3/envs/midi/lib/python3.11/site-packages/music21/stream/base.py:3689: Music21DeprecationWarning: .flat is deprecated.  Call .flatten() instead\n",
      "  return self.iter().getElementsByClass(classFilterList)\n",
      "Processing Files: 100%|██████████| 650/650 [00:48<00:00, 13.35it/s]"
     ]
    },
    {
     "name": "stdout",
     "output_type": "stream",
     "text": [
      "example sentence length:  90\n",
      "['<h>', '<bar>', 'position_0x00', 'A:min7', '<bar>', 'position_0x00', 'D:7', '<bar>', 'position_0x00', 'A:min7', '<bar>', 'position_0x00', 'D:7', '<bar>', 'position_0x00', 'G:maj7', '<bar>', 'position_0x00', 'C:7(#11)', '<bar>', 'position_0x00', 'B:min7', '<bar>', 'position_0x00', 'E:min7', '<bar>', 'position_0x00', 'B:maj7', 'position_2x00', 'F#:7', '<bar>', 'position_0x00', 'B:maj6', '<bar>', 'position_0x00', 'D:min7', '<bar>', 'position_0x00', 'G:7', '<bar>', 'position_0x00', 'D:min7', '<bar>', 'position_0x00', 'G:7', '<bar>', 'position_0x00', 'C:maj7', '<bar>', 'position_0x00', 'F:7', '<bar>', 'position_0x00', 'E:min7', 'position_2x00', 'A:7', '<bar>', 'position_0x00', 'A:min7', 'position_2x00', 'D:7', '<bar>', 'position_0x00', 'A:min7', '<bar>', 'position_0x00', 'D:7', '<bar>', 'position_0x00', 'G:maj7', 'position_2x00', 'F:7', '<bar>', 'position_0x00', 'E:7(b9)', '<bar>', 'position_0x00', 'A:min7', '<bar>', 'position_0x00', 'F:7', '<bar>', 'position_0x00', 'A:min7', 'position_2x00', 'D:7', '<bar>', 'position_0x00', 'G:maj6', '</s>']\n",
      "[7, 6, 8, 367, 6, 8, 162, 6, 8, 367, 6, 8, 162, 6, 8, 308, 6, 8, 125, 6, 8, 425, 6, 8, 222, 6, 8, 424, 26, 278, 6, 8, 427, 6, 8, 164, 6, 8, 307, 6, 8, 164, 6, 8, 307, 6, 8, 105, 6, 8, 249, 6, 8, 222, 26, 365, 6, 8, 367, 26, 162, 6, 8, 367, 6, 8, 162, 6, 8, 308, 26, 249, 6, 8, 239, 6, 8, 367, 6, 8, 249, 6, 8, 367, 26, 162, 6, 8, 311, 3]\n",
      "vocab_size:  446\n",
      "mean len:  105.60307692307693\n",
      "std len:  34.29661552815949\n",
      "mean cr:  0.11657297093821267\n",
      "std cr:  0.02496199115531369\n"
     ]
    },
    {
     "name": "stderr",
     "output_type": "stream",
     "text": [
      "\n"
     ]
    }
   ],
   "source": [
    "print('ChordSymbolTokenizer_m21')\n",
    "chordSymbolTokenizer = ChordSymbolTokenizer()\n",
    "print('len(chordSymbolTokenizer.vocab): ', len(chordSymbolTokenizer.vocab))\n",
    "initialize_stats('ChordSymbolTokenizer', chordSymbolTokenizer)\n",
    "toks_cs = chordSymbolTokenizer(data_files)\n",
    "print('example sentence length: ', len(toks_cs['tokens'][0]))\n",
    "print(toks_cs['tokens'][0])\n",
    "print(toks_cs['ids'][0])\n",
    "update_stats('ChordSymbolTokenizer', toks_cs)\n",
    "print_stats('ChordSymbolTokenizer')"
   ]
  },
  {
   "cell_type": "code",
   "execution_count": 5,
   "metadata": {},
   "outputs": [
    {
     "name": "stdout",
     "output_type": "stream",
     "text": [
      "RootTypeTokenizer\n",
      "len(rootTypeTokenizer.vocab):  139\n"
     ]
    },
    {
     "name": "stderr",
     "output_type": "stream",
     "text": [
      "Processing Files: 100%|██████████| 650/650 [00:48<00:00, 13.39it/s]"
     ]
    },
    {
     "name": "stdout",
     "output_type": "stream",
     "text": [
      "example sentence length:  121\n",
      "['<h>', '<bar>', 'position_0x00', 'A', 'min7', '<bar>', 'position_0x00', 'D', '7', '<bar>', 'position_0x00', 'A', 'min7', '<bar>', 'position_0x00', 'D', '7', '<bar>', 'position_0x00', 'G', 'maj7', '<bar>', 'position_0x00', 'C', '7(#11)', '<bar>', 'position_0x00', 'B', 'min7', '<bar>', 'position_0x00', 'E', 'min7', '<bar>', 'position_0x00', 'B', 'maj7', 'position_2x00', 'F#', '7', '<bar>', 'position_0x00', 'B', 'maj6', '<bar>', 'position_0x00', 'D', 'min7', '<bar>', 'position_0x00', 'G', '7', '<bar>', 'position_0x00', 'D', 'min7', '<bar>', 'position_0x00', 'G', '7', '<bar>', 'position_0x00', 'C', 'maj7', '<bar>', 'position_0x00', 'F', '7', '<bar>', 'position_0x00', 'E', 'min7', 'position_2x00', 'A', '7', '<bar>', 'position_0x00', 'A', 'min7', 'position_2x00', 'D', '7', '<bar>', 'position_0x00', 'A', 'min7', '<bar>', 'position_0x00', 'D', '7', '<bar>', 'position_0x00', 'G', 'maj7', 'position_2x00', 'F', '7', '<bar>', 'position_0x00', 'E', '7(b9)', '<bar>', 'position_0x00', 'A', 'min7', '<bar>', 'position_0x00', 'F', '7', '<bar>', 'position_0x00', 'A', 'min7', 'position_2x00', 'D', '7', '<bar>', 'position_0x00', 'G', 'maj6', '</s>']\n",
      "[7, 6, 8, 107, 118, 6, 8, 100, 116, 6, 8, 107, 118, 6, 8, 100, 116, 6, 8, 105, 117, 6, 8, 98, 137, 6, 8, 109, 118, 6, 8, 102, 118, 6, 8, 109, 117, 26, 104, 116, 6, 8, 109, 120, 6, 8, 100, 118, 6, 8, 105, 116, 6, 8, 100, 118, 6, 8, 105, 116, 6, 8, 98, 117, 6, 8, 103, 116, 6, 8, 102, 118, 26, 107, 116, 6, 8, 107, 118, 26, 100, 116, 6, 8, 107, 118, 6, 8, 100, 116, 6, 8, 105, 117, 26, 103, 116, 6, 8, 102, 135, 6, 8, 107, 118, 6, 8, 103, 116, 6, 8, 107, 118, 26, 100, 116, 6, 8, 105, 120, 3]\n",
      "vocab_size:  139\n",
      "mean len:  143.68769230769232\n",
      "std len:  47.76576826296714\n",
      "mean cr:  0.1020625193336282\n",
      "std cr:  0.022282011153462986\n"
     ]
    },
    {
     "name": "stderr",
     "output_type": "stream",
     "text": [
      "\n"
     ]
    }
   ],
   "source": [
    "print('RootTypeTokenizer')\n",
    "rootTypeTokenizer = RootTypeTokenizer()\n",
    "print('len(rootTypeTokenizer.vocab): ', len(rootTypeTokenizer.vocab))\n",
    "initialize_stats('RootTypeTokenizer', rootTypeTokenizer)\n",
    "toks_rt = rootTypeTokenizer(data_files)\n",
    "print('example sentence length: ', len(toks_rt['tokens'][0]))\n",
    "print(toks_rt['tokens'][0])\n",
    "print(toks_rt['ids'][0])\n",
    "update_stats('RootTypeTokenizer', toks_rt)\n",
    "print_stats('RootTypeTokenizer')"
   ]
  },
  {
   "cell_type": "code",
   "execution_count": 6,
   "metadata": {},
   "outputs": [
    {
     "name": "stdout",
     "output_type": "stream",
     "text": [
      "PitchClassTokenizer\n",
      "len(pitchClassTokenizer.vocab):  110\n"
     ]
    },
    {
     "name": "stderr",
     "output_type": "stream",
     "text": [
      "Processing Files: 100%|██████████| 650/650 [00:49<00:00, 13.07it/s]"
     ]
    },
    {
     "name": "stdout",
     "output_type": "stream",
     "text": [
      "example sentence length:  185\n",
      "['<h>', '<bar>', 'position_0x00', 'chord_pc_9', 'chord_pc_0', 'chord_pc_4', 'chord_pc_7', '<bar>', 'position_0x00', 'chord_pc_2', 'chord_pc_6', 'chord_pc_9', 'chord_pc_0', '<bar>', 'position_0x00', 'chord_pc_9', 'chord_pc_0', 'chord_pc_4', 'chord_pc_7', '<bar>', 'position_0x00', 'chord_pc_2', 'chord_pc_6', 'chord_pc_9', 'chord_pc_0', '<bar>', 'position_0x00', 'chord_pc_7', 'chord_pc_11', 'chord_pc_2', 'chord_pc_6', '<bar>', 'position_0x00', 'chord_pc_0', 'chord_pc_4', 'chord_pc_6', 'chord_pc_7', 'chord_pc_10', '<bar>', 'position_0x00', 'chord_pc_11', 'chord_pc_2', 'chord_pc_6', 'chord_pc_9', '<bar>', 'position_0x00', 'chord_pc_4', 'chord_pc_7', 'chord_pc_11', 'chord_pc_2', '<bar>', 'position_0x00', 'chord_pc_11', 'chord_pc_3', 'chord_pc_6', 'chord_pc_10', 'position_2x00', 'chord_pc_6', 'chord_pc_10', 'chord_pc_1', 'chord_pc_4', '<bar>', 'position_0x00', 'chord_pc_11', 'chord_pc_3', 'chord_pc_6', 'chord_pc_8', '<bar>', 'position_0x00', 'chord_pc_2', 'chord_pc_5', 'chord_pc_9', 'chord_pc_0', '<bar>', 'position_0x00', 'chord_pc_7', 'chord_pc_11', 'chord_pc_2', 'chord_pc_5', '<bar>', 'position_0x00', 'chord_pc_2', 'chord_pc_5', 'chord_pc_9', 'chord_pc_0', '<bar>', 'position_0x00', 'chord_pc_7', 'chord_pc_11', 'chord_pc_2', 'chord_pc_5', '<bar>', 'position_0x00', 'chord_pc_0', 'chord_pc_4', 'chord_pc_7', 'chord_pc_11', '<bar>', 'position_0x00', 'chord_pc_5', 'chord_pc_9', 'chord_pc_0', 'chord_pc_3', '<bar>', 'position_0x00', 'chord_pc_4', 'chord_pc_7', 'chord_pc_11', 'chord_pc_2', 'position_2x00', 'chord_pc_9', 'chord_pc_1', 'chord_pc_4', 'chord_pc_7', '<bar>', 'position_0x00', 'chord_pc_9', 'chord_pc_0', 'chord_pc_4', 'chord_pc_7', 'position_2x00', 'chord_pc_2', 'chord_pc_6', 'chord_pc_9', 'chord_pc_0', '<bar>', 'position_0x00', 'chord_pc_9', 'chord_pc_0', 'chord_pc_4', 'chord_pc_7', '<bar>', 'position_0x00', 'chord_pc_2', 'chord_pc_6', 'chord_pc_9', 'chord_pc_0', '<bar>', 'position_0x00', 'chord_pc_7', 'chord_pc_11', 'chord_pc_2', 'chord_pc_6', 'position_2x00', 'chord_pc_5', 'chord_pc_9', 'chord_pc_0', 'chord_pc_3', '<bar>', 'position_0x00', 'chord_pc_4', 'chord_pc_5', 'chord_pc_8', 'chord_pc_11', 'chord_pc_2', '<bar>', 'position_0x00', 'chord_pc_9', 'chord_pc_0', 'chord_pc_4', 'chord_pc_7', '<bar>', 'position_0x00', 'chord_pc_5', 'chord_pc_9', 'chord_pc_0', 'chord_pc_3', '<bar>', 'position_0x00', 'chord_pc_9', 'chord_pc_0', 'chord_pc_4', 'chord_pc_7', 'position_2x00', 'chord_pc_2', 'chord_pc_6', 'chord_pc_9', 'chord_pc_0', '<bar>', 'position_0x00', 'chord_pc_7', 'chord_pc_11', 'chord_pc_2', 'chord_pc_4', '</s>']\n",
      "[7, 6, 8, 107, 98, 102, 105, 6, 8, 100, 104, 107, 98, 6, 8, 107, 98, 102, 105, 6, 8, 100, 104, 107, 98, 6, 8, 105, 109, 100, 104, 6, 8, 98, 102, 104, 105, 108, 6, 8, 109, 100, 104, 107, 6, 8, 102, 105, 109, 100, 6, 8, 109, 101, 104, 108, 26, 104, 108, 99, 102, 6, 8, 109, 101, 104, 106, 6, 8, 100, 103, 107, 98, 6, 8, 105, 109, 100, 103, 6, 8, 100, 103, 107, 98, 6, 8, 105, 109, 100, 103, 6, 8, 98, 102, 105, 109, 6, 8, 103, 107, 98, 101, 6, 8, 102, 105, 109, 100, 26, 107, 99, 102, 105, 6, 8, 107, 98, 102, 105, 26, 100, 104, 107, 98, 6, 8, 107, 98, 102, 105, 6, 8, 100, 104, 107, 98, 6, 8, 105, 109, 100, 104, 26, 103, 107, 98, 101, 6, 8, 102, 103, 106, 109, 100, 6, 8, 107, 98, 102, 105, 6, 8, 103, 107, 98, 101, 6, 8, 107, 98, 102, 105, 26, 100, 104, 107, 98, 6, 8, 105, 109, 100, 102, 3]\n",
      "vocab_size:  110\n",
      "mean len:  223.54461538461538\n",
      "std len:  76.19775088699592\n",
      "mean cr:  0.08634542255348157\n",
      "std cr:  0.019469408909744693\n"
     ]
    },
    {
     "name": "stderr",
     "output_type": "stream",
     "text": [
      "\n"
     ]
    }
   ],
   "source": [
    "print('PitchClassTokenizer')\n",
    "pitchClassTokenizer = PitchClassTokenizer()\n",
    "print('len(pitchClassTokenizer.vocab): ', len(pitchClassTokenizer.vocab))\n",
    "initialize_stats('PitchClassTokenizer', pitchClassTokenizer)\n",
    "toks_pc = pitchClassTokenizer(data_files)\n",
    "print('example sentence length: ', len(toks_pc['tokens'][0]))\n",
    "print(toks_pc['tokens'][0])\n",
    "print(toks_pc['ids'][0])\n",
    "update_stats('PitchClassTokenizer', toks_pc)\n",
    "print_stats('PitchClassTokenizer')"
   ]
  },
  {
   "cell_type": "code",
   "execution_count": 7,
   "metadata": {},
   "outputs": [
    {
     "name": "stdout",
     "output_type": "stream",
     "text": [
      "RootPCTokenizer\n",
      "len(rootPCTokenizer.vocab):  122\n"
     ]
    },
    {
     "name": "stderr",
     "output_type": "stream",
     "text": [
      "Processing Files: 100%|██████████| 650/650 [00:50<00:00, 12.99it/s]"
     ]
    },
    {
     "name": "stdout",
     "output_type": "stream",
     "text": [
      "example sentence length:  185\n",
      "['<h>', '<bar>', 'position_0x00', 'chord_root_9', 'chord_pc_0', 'chord_pc_4', 'chord_pc_7', '<bar>', 'position_0x00', 'chord_root_2', 'chord_pc_6', 'chord_pc_9', 'chord_pc_0', '<bar>', 'position_0x00', 'chord_root_9', 'chord_pc_0', 'chord_pc_4', 'chord_pc_7', '<bar>', 'position_0x00', 'chord_root_2', 'chord_pc_6', 'chord_pc_9', 'chord_pc_0', '<bar>', 'position_0x00', 'chord_root_7', 'chord_pc_11', 'chord_pc_2', 'chord_pc_6', '<bar>', 'position_0x00', 'chord_root_0', 'chord_pc_4', 'chord_pc_6', 'chord_pc_7', 'chord_pc_10', '<bar>', 'position_0x00', 'chord_root_11', 'chord_pc_2', 'chord_pc_6', 'chord_pc_9', '<bar>', 'position_0x00', 'chord_root_4', 'chord_pc_7', 'chord_pc_11', 'chord_pc_2', '<bar>', 'position_0x00', 'chord_root_11', 'chord_pc_3', 'chord_pc_6', 'chord_pc_10', 'position_2x00', 'chord_root_6', 'chord_pc_10', 'chord_pc_1', 'chord_pc_4', '<bar>', 'position_0x00', 'chord_root_11', 'chord_pc_3', 'chord_pc_6', 'chord_pc_8', '<bar>', 'position_0x00', 'chord_root_2', 'chord_pc_5', 'chord_pc_9', 'chord_pc_0', '<bar>', 'position_0x00', 'chord_root_7', 'chord_pc_11', 'chord_pc_2', 'chord_pc_5', '<bar>', 'position_0x00', 'chord_root_2', 'chord_pc_5', 'chord_pc_9', 'chord_pc_0', '<bar>', 'position_0x00', 'chord_root_7', 'chord_pc_11', 'chord_pc_2', 'chord_pc_5', '<bar>', 'position_0x00', 'chord_root_0', 'chord_pc_4', 'chord_pc_7', 'chord_pc_11', '<bar>', 'position_0x00', 'chord_root_5', 'chord_pc_9', 'chord_pc_0', 'chord_pc_3', '<bar>', 'position_0x00', 'chord_root_4', 'chord_pc_7', 'chord_pc_11', 'chord_pc_2', 'position_2x00', 'chord_root_9', 'chord_pc_1', 'chord_pc_4', 'chord_pc_7', '<bar>', 'position_0x00', 'chord_root_9', 'chord_pc_0', 'chord_pc_4', 'chord_pc_7', 'position_2x00', 'chord_root_2', 'chord_pc_6', 'chord_pc_9', 'chord_pc_0', '<bar>', 'position_0x00', 'chord_root_9', 'chord_pc_0', 'chord_pc_4', 'chord_pc_7', '<bar>', 'position_0x00', 'chord_root_2', 'chord_pc_6', 'chord_pc_9', 'chord_pc_0', '<bar>', 'position_0x00', 'chord_root_7', 'chord_pc_11', 'chord_pc_2', 'chord_pc_6', 'position_2x00', 'chord_root_5', 'chord_pc_9', 'chord_pc_0', 'chord_pc_3', '<bar>', 'position_0x00', 'chord_root_4', 'chord_pc_5', 'chord_pc_8', 'chord_pc_11', 'chord_pc_2', '<bar>', 'position_0x00', 'chord_root_9', 'chord_pc_0', 'chord_pc_4', 'chord_pc_7', '<bar>', 'position_0x00', 'chord_root_5', 'chord_pc_9', 'chord_pc_0', 'chord_pc_3', '<bar>', 'position_0x00', 'chord_root_9', 'chord_pc_0', 'chord_pc_4', 'chord_pc_7', 'position_2x00', 'chord_root_2', 'chord_pc_6', 'chord_pc_9', 'chord_pc_0', '<bar>', 'position_0x00', 'chord_root_7', 'chord_pc_11', 'chord_pc_2', 'chord_pc_4', '</s>']\n",
      "[7, 6, 8, 107, 110, 114, 117, 6, 8, 100, 116, 119, 110, 6, 8, 107, 110, 114, 117, 6, 8, 100, 116, 119, 110, 6, 8, 105, 121, 112, 116, 6, 8, 98, 114, 116, 117, 120, 6, 8, 109, 112, 116, 119, 6, 8, 102, 117, 121, 112, 6, 8, 109, 113, 116, 120, 26, 104, 120, 111, 114, 6, 8, 109, 113, 116, 118, 6, 8, 100, 115, 119, 110, 6, 8, 105, 121, 112, 115, 6, 8, 100, 115, 119, 110, 6, 8, 105, 121, 112, 115, 6, 8, 98, 114, 117, 121, 6, 8, 103, 119, 110, 113, 6, 8, 102, 117, 121, 112, 26, 107, 111, 114, 117, 6, 8, 107, 110, 114, 117, 26, 100, 116, 119, 110, 6, 8, 107, 110, 114, 117, 6, 8, 100, 116, 119, 110, 6, 8, 105, 121, 112, 116, 26, 103, 119, 110, 113, 6, 8, 102, 115, 118, 121, 112, 6, 8, 107, 110, 114, 117, 6, 8, 103, 119, 110, 113, 6, 8, 107, 110, 114, 117, 26, 100, 116, 119, 110, 6, 8, 105, 121, 112, 114, 3]\n",
      "vocab_size:  122\n",
      "mean len:  223.54461538461538\n",
      "std len:  76.19775088699592\n",
      "mean cr:  0.09320088198622553\n",
      "std cr:  0.021394764026075055\n"
     ]
    },
    {
     "name": "stderr",
     "output_type": "stream",
     "text": [
      "\n"
     ]
    }
   ],
   "source": [
    "print('RootPCTokenizer')\n",
    "rootPCTokenizer = RootPCTokenizer()\n",
    "print('len(rootPCTokenizer.vocab): ', len(rootPCTokenizer.vocab))\n",
    "initialize_stats('RootPCTokenizer', rootPCTokenizer)\n",
    "toks_rpc = rootPCTokenizer(data_files)\n",
    "print('example sentence length: ', len(toks_rpc['tokens'][0]))\n",
    "print(toks_rpc['tokens'][0])\n",
    "print(toks_rpc['ids'][0])\n",
    "update_stats('RootPCTokenizer', toks_rpc)\n",
    "print_stats('RootPCTokenizer')"
   ]
  },
  {
   "cell_type": "code",
   "execution_count": 8,
   "metadata": {},
   "outputs": [
    {
     "name": "stdout",
     "output_type": "stream",
     "text": [
      "GCTRootPCTokenizer\n",
      "len(gctRootPCTokenizer.vocab):  122\n"
     ]
    },
    {
     "name": "stderr",
     "output_type": "stream",
     "text": [
      "Processing Files: 100%|██████████| 650/650 [01:05<00:00,  9.98it/s]"
     ]
    },
    {
     "name": "stdout",
     "output_type": "stream",
     "text": [
      "example sentence length:  185\n",
      "['<h>', '<bar>', 'position_0x00', 'chord_root_0', 'chord_pc_4', 'chord_pc_7', 'chord_pc_9', '<bar>', 'position_0x00', 'chord_root_2', 'chord_pc_6', 'chord_pc_9', 'chord_pc_0', '<bar>', 'position_0x00', 'chord_root_0', 'chord_pc_4', 'chord_pc_7', 'chord_pc_9', '<bar>', 'position_0x00', 'chord_root_2', 'chord_pc_6', 'chord_pc_9', 'chord_pc_0', '<bar>', 'position_0x00', 'chord_root_7', 'chord_pc_11', 'chord_pc_2', 'chord_pc_6', '<bar>', 'position_0x00', 'chord_root_0', 'chord_pc_4', 'chord_pc_7', 'chord_pc_10', 'chord_pc_6', '<bar>', 'position_0x00', 'chord_root_2', 'chord_pc_6', 'chord_pc_9', 'chord_pc_11', '<bar>', 'position_0x00', 'chord_root_7', 'chord_pc_11', 'chord_pc_2', 'chord_pc_4', '<bar>', 'position_0x00', 'chord_root_11', 'chord_pc_3', 'chord_pc_6', 'chord_pc_10', 'position_2x00', 'chord_root_6', 'chord_pc_10', 'chord_pc_1', 'chord_pc_4', '<bar>', 'position_0x00', 'chord_root_8', 'chord_pc_11', 'chord_pc_3', 'chord_pc_6', '<bar>', 'position_0x00', 'chord_root_5', 'chord_pc_9', 'chord_pc_0', 'chord_pc_2', '<bar>', 'position_0x00', 'chord_root_7', 'chord_pc_11', 'chord_pc_2', 'chord_pc_5', '<bar>', 'position_0x00', 'chord_root_5', 'chord_pc_9', 'chord_pc_0', 'chord_pc_2', '<bar>', 'position_0x00', 'chord_root_7', 'chord_pc_11', 'chord_pc_2', 'chord_pc_5', '<bar>', 'position_0x00', 'chord_root_4', 'chord_pc_7', 'chord_pc_11', 'chord_pc_0', '<bar>', 'position_0x00', 'chord_root_5', 'chord_pc_9', 'chord_pc_0', 'chord_pc_3', '<bar>', 'position_0x00', 'chord_root_7', 'chord_pc_11', 'chord_pc_2', 'chord_pc_4', 'position_2x00', 'chord_root_9', 'chord_pc_1', 'chord_pc_4', 'chord_pc_7', '<bar>', 'position_0x00', 'chord_root_0', 'chord_pc_4', 'chord_pc_7', 'chord_pc_9', 'position_2x00', 'chord_root_2', 'chord_pc_6', 'chord_pc_9', 'chord_pc_0', '<bar>', 'position_0x00', 'chord_root_0', 'chord_pc_4', 'chord_pc_7', 'chord_pc_9', '<bar>', 'position_0x00', 'chord_root_2', 'chord_pc_6', 'chord_pc_9', 'chord_pc_0', '<bar>', 'position_0x00', 'chord_root_7', 'chord_pc_11', 'chord_pc_2', 'chord_pc_6', 'position_2x00', 'chord_root_5', 'chord_pc_9', 'chord_pc_0', 'chord_pc_3', '<bar>', 'position_0x00', 'chord_root_4', 'chord_pc_8', 'chord_pc_11', 'chord_pc_2', 'chord_pc_5', '<bar>', 'position_0x00', 'chord_root_0', 'chord_pc_4', 'chord_pc_7', 'chord_pc_9', '<bar>', 'position_0x00', 'chord_root_5', 'chord_pc_9', 'chord_pc_0', 'chord_pc_3', '<bar>', 'position_0x00', 'chord_root_0', 'chord_pc_4', 'chord_pc_7', 'chord_pc_9', 'position_2x00', 'chord_root_2', 'chord_pc_6', 'chord_pc_9', 'chord_pc_0', '<bar>', 'position_0x00', 'chord_root_7', 'chord_pc_11', 'chord_pc_2', 'chord_pc_4', '</s>']\n",
      "[7, 6, 8, 98, 114, 117, 119, 6, 8, 100, 116, 119, 110, 6, 8, 98, 114, 117, 119, 6, 8, 100, 116, 119, 110, 6, 8, 105, 121, 112, 116, 6, 8, 98, 114, 117, 120, 116, 6, 8, 100, 116, 119, 121, 6, 8, 105, 121, 112, 114, 6, 8, 109, 113, 116, 120, 26, 104, 120, 111, 114, 6, 8, 106, 121, 113, 116, 6, 8, 103, 119, 110, 112, 6, 8, 105, 121, 112, 115, 6, 8, 103, 119, 110, 112, 6, 8, 105, 121, 112, 115, 6, 8, 102, 117, 121, 110, 6, 8, 103, 119, 110, 113, 6, 8, 105, 121, 112, 114, 26, 107, 111, 114, 117, 6, 8, 98, 114, 117, 119, 26, 100, 116, 119, 110, 6, 8, 98, 114, 117, 119, 6, 8, 100, 116, 119, 110, 6, 8, 105, 121, 112, 116, 26, 103, 119, 110, 113, 6, 8, 102, 118, 121, 112, 115, 6, 8, 98, 114, 117, 119, 6, 8, 103, 119, 110, 113, 6, 8, 98, 114, 117, 119, 26, 100, 116, 119, 110, 6, 8, 105, 121, 112, 114, 3]\n",
      "vocab_size:  122\n",
      "mean len:  223.54461538461538\n",
      "std len:  76.19775088699592\n",
      "mean cr:  0.0915848583886041\n",
      "std cr:  0.020859049875070493\n"
     ]
    },
    {
     "name": "stderr",
     "output_type": "stream",
     "text": [
      "\n"
     ]
    }
   ],
   "source": [
    "print('GCTRootPCTokenizer')\n",
    "gctRootPCTokenizer = GCTRootPCTokenizer()\n",
    "print('len(gctRootPCTokenizer.vocab): ', len(gctRootPCTokenizer.vocab))\n",
    "initialize_stats('GCTRootPCTokenizer', gctRootPCTokenizer)\n",
    "toks_gct_rpc = gctRootPCTokenizer(data_files)\n",
    "print('example sentence length: ', len(toks_gct_rpc['tokens'][0]))\n",
    "print(toks_gct_rpc['tokens'][0])\n",
    "print(toks_gct_rpc['ids'][0])\n",
    "update_stats('GCTRootPCTokenizer', toks_gct_rpc)\n",
    "print_stats('GCTRootPCTokenizer')"
   ]
  },
  {
   "cell_type": "code",
   "execution_count": 9,
   "metadata": {},
   "outputs": [
    {
     "name": "stdout",
     "output_type": "stream",
     "text": [
      "GCTSymbolTokenizer\n",
      "training\n"
     ]
    },
    {
     "name": "stderr",
     "output_type": "stream",
     "text": [
      "Processing Files: 100%|██████████| 650/650 [01:05<00:00,  9.85it/s]\n"
     ]
    },
    {
     "name": "stdout",
     "output_type": "stream",
     "text": [
      "len(gctSymbolTokenizer.vocab):  326\n"
     ]
    },
    {
     "name": "stderr",
     "output_type": "stream",
     "text": [
      "Processing Files: 100%|██████████| 650/650 [01:06<00:00,  9.74it/s]"
     ]
    },
    {
     "name": "stdout",
     "output_type": "stream",
     "text": [
      "example sentence length:  90\n",
      "['<h>', '<bar>', 'position_0x00', '[0 0 4 7 9]', '<bar>', 'position_0x00', '[ 2  0  4  7 10]', '<bar>', 'position_0x00', '[0 0 4 7 9]', '<bar>', 'position_0x00', '[ 2  0  4  7 10]', '<bar>', 'position_0x00', '[ 7  0  4  7 11]', '<bar>', 'position_0x00', '[ 0  0  4  7 10 18]', '<bar>', 'position_0x00', '[2 0 4 7 9]', '<bar>', 'position_0x00', '[7 0 4 7 9]', '<bar>', 'position_0x00', '[11  0  4  7 11]', 'position_2x00', '[ 6  0  4  7 10]', '<bar>', 'position_0x00', '[ 8  0  3  7 10]', '<bar>', 'position_0x00', '[5 0 4 7 9]', '<bar>', 'position_0x00', '[ 7  0  4  7 10]', '<bar>', 'position_0x00', '[5 0 4 7 9]', '<bar>', 'position_0x00', '[ 7  0  4  7 10]', '<bar>', 'position_0x00', '[4 0 3 7 8]', '<bar>', 'position_0x00', '[ 5  0  4  7 10]', '<bar>', 'position_0x00', '[7 0 4 7 9]', 'position_2x00', '[ 9  0  4  7 10]', '<bar>', 'position_0x00', '[0 0 4 7 9]', 'position_2x00', '[ 2  0  4  7 10]', '<bar>', 'position_0x00', '[0 0 4 7 9]', '<bar>', 'position_0x00', '[ 2  0  4  7 10]', '<bar>', 'position_0x00', '[ 7  0  4  7 11]', 'position_2x00', '[ 5  0  4  7 10]', '<bar>', 'position_0x00', '[ 4  0  4  7 10 13]', '<bar>', 'position_0x00', '[0 0 4 7 9]', '<bar>', 'position_0x00', '[ 5  0  4  7 10]', '<bar>', 'position_0x00', '[0 0 4 7 9]', 'position_2x00', '[ 2  0  4  7 10]', '<bar>', 'position_0x00', '[7 0 4 7 9]', '</s>']\n",
      "[7, 6, 8, 98, 6, 8, 99, 6, 8, 98, 6, 8, 99, 6, 8, 100, 6, 8, 101, 6, 8, 102, 6, 8, 103, 6, 8, 104, 26, 105, 6, 8, 106, 6, 8, 107, 6, 8, 108, 6, 8, 107, 6, 8, 108, 6, 8, 109, 6, 8, 110, 6, 8, 103, 26, 111, 6, 8, 98, 26, 99, 6, 8, 98, 6, 8, 99, 6, 8, 100, 26, 110, 6, 8, 112, 6, 8, 98, 6, 8, 110, 6, 8, 98, 26, 99, 6, 8, 103, 3]\n",
      "vocab_size:  326\n",
      "mean len:  105.60307692307693\n",
      "std len:  34.29661552815949\n",
      "mean cr:  0.11036031919644149\n",
      "std cr:  0.02423170550229347\n"
     ]
    },
    {
     "name": "stderr",
     "output_type": "stream",
     "text": [
      "\n"
     ]
    }
   ],
   "source": [
    "print('GCTSymbolTokenizer')\n",
    "gctSymbolTokenizer = GCTSymbolTokenizer()\n",
    "print('training')\n",
    "gctSymbolTokenizer.fit( data_files )\n",
    "print('len(gctSymbolTokenizer.vocab): ', len(gctSymbolTokenizer.vocab))\n",
    "initialize_stats('GCTSymbolTokenizer', gctSymbolTokenizer)\n",
    "toks_gct_symb = gctSymbolTokenizer(data_files)\n",
    "print('example sentence length: ', len(toks_gct_symb['tokens'][0]))\n",
    "print(toks_gct_symb['tokens'][0])\n",
    "print(toks_gct_symb['ids'][0])\n",
    "update_stats('GCTSymbolTokenizer', toks_gct_symb)\n",
    "print_stats('GCTSymbolTokenizer')"
   ]
  },
  {
   "cell_type": "code",
   "execution_count": 10,
   "metadata": {},
   "outputs": [
    {
     "name": "stdout",
     "output_type": "stream",
     "text": [
      "GCTRootTypeTokenizer\n",
      "training\n"
     ]
    },
    {
     "name": "stderr",
     "output_type": "stream",
     "text": [
      "Processing Files: 100%|██████████| 650/650 [01:06<00:00,  9.82it/s]\n"
     ]
    },
    {
     "name": "stdout",
     "output_type": "stream",
     "text": [
      "len(gctRootTypeTokenizer.vocab):  155\n"
     ]
    },
    {
     "name": "stderr",
     "output_type": "stream",
     "text": [
      "Processing Files: 100%|██████████| 650/650 [01:07<00:00,  9.69it/s]"
     ]
    },
    {
     "name": "stdout",
     "output_type": "stream",
     "text": [
      "example sentence length:  121\n",
      "['<h>', '<bar>', 'position_0x00', 'chord_root_0', '[0 4 7 9]', '<bar>', 'position_0x00', 'chord_root_2', '[ 0  4  7 10]', '<bar>', 'position_0x00', 'chord_root_0', '[0 4 7 9]', '<bar>', 'position_0x00', 'chord_root_2', '[ 0  4  7 10]', '<bar>', 'position_0x00', 'chord_root_7', '[ 0  4  7 11]', '<bar>', 'position_0x00', 'chord_root_0', '[ 0  4  7 10 18]', '<bar>', 'position_0x00', 'chord_root_2', '[0 4 7 9]', '<bar>', 'position_0x00', 'chord_root_7', '[0 4 7 9]', '<bar>', 'position_0x00', 'chord_root_11', '[ 0  4  7 11]', 'position_2x00', 'chord_root_6', '[ 0  4  7 10]', '<bar>', 'position_0x00', 'chord_root_8', '[ 0  3  7 10]', '<bar>', 'position_0x00', 'chord_root_5', '[0 4 7 9]', '<bar>', 'position_0x00', 'chord_root_7', '[ 0  4  7 10]', '<bar>', 'position_0x00', 'chord_root_5', '[0 4 7 9]', '<bar>', 'position_0x00', 'chord_root_7', '[ 0  4  7 10]', '<bar>', 'position_0x00', 'chord_root_4', '[0 3 7 8]', '<bar>', 'position_0x00', 'chord_root_5', '[ 0  4  7 10]', '<bar>', 'position_0x00', 'chord_root_7', '[0 4 7 9]', 'position_2x00', 'chord_root_9', '[ 0  4  7 10]', '<bar>', 'position_0x00', 'chord_root_0', '[0 4 7 9]', 'position_2x00', 'chord_root_2', '[ 0  4  7 10]', '<bar>', 'position_0x00', 'chord_root_0', '[0 4 7 9]', '<bar>', 'position_0x00', 'chord_root_2', '[ 0  4  7 10]', '<bar>', 'position_0x00', 'chord_root_7', '[ 0  4  7 11]', 'position_2x00', 'chord_root_5', '[ 0  4  7 10]', '<bar>', 'position_0x00', 'chord_root_4', '[ 0  4  7 10 13]', '<bar>', 'position_0x00', 'chord_root_0', '[0 4 7 9]', '<bar>', 'position_0x00', 'chord_root_5', '[ 0  4  7 10]', '<bar>', 'position_0x00', 'chord_root_0', '[0 4 7 9]', 'position_2x00', 'chord_root_2', '[ 0  4  7 10]', '<bar>', 'position_0x00', 'chord_root_7', '[0 4 7 9]', '</s>']\n",
      "[7, 6, 8, 98, 110, 6, 8, 100, 111, 6, 8, 98, 110, 6, 8, 100, 111, 6, 8, 105, 112, 6, 8, 98, 113, 6, 8, 100, 110, 6, 8, 105, 110, 6, 8, 109, 112, 26, 104, 111, 6, 8, 106, 114, 6, 8, 103, 110, 6, 8, 105, 111, 6, 8, 103, 110, 6, 8, 105, 111, 6, 8, 102, 115, 6, 8, 103, 111, 6, 8, 105, 110, 26, 107, 111, 6, 8, 98, 110, 26, 100, 111, 6, 8, 98, 110, 6, 8, 100, 111, 6, 8, 105, 112, 26, 103, 111, 6, 8, 102, 116, 6, 8, 98, 110, 6, 8, 103, 111, 6, 8, 98, 110, 26, 100, 111, 6, 8, 105, 110, 3]\n",
      "vocab_size:  155\n",
      "mean len:  143.68769230769232\n",
      "std len:  47.76576826296714\n",
      "mean cr:  0.10137804787717915\n",
      "std cr:  0.02244738598723283\n"
     ]
    },
    {
     "name": "stderr",
     "output_type": "stream",
     "text": [
      "\n"
     ]
    }
   ],
   "source": [
    "print('GCTRootTypeTokenizer')\n",
    "gctRootTypeTokenizer = GCTRootTypeTokenizer()\n",
    "print('training')\n",
    "gctRootTypeTokenizer.fit( data_files )\n",
    "print('len(gctRootTypeTokenizer.vocab): ', len(gctRootTypeTokenizer.vocab))\n",
    "initialize_stats('GCTRootTypeTokenizer', gctRootTypeTokenizer)\n",
    "toks_gct_rt = gctRootTypeTokenizer(data_files)\n",
    "print('example sentence length: ', len(toks_gct_rt['tokens'][0]))\n",
    "print(toks_gct_rt['tokens'][0])\n",
    "print(toks_gct_rt['ids'][0])\n",
    "update_stats('GCTRootTypeTokenizer', toks_gct_rt)\n",
    "print_stats('GCTRootTypeTokenizer')"
   ]
  },
  {
   "cell_type": "code",
   "execution_count": 11,
   "metadata": {},
   "outputs": [
    {
     "name": "stdout",
     "output_type": "stream",
     "text": [
      "MelodyPitchTokenizer_m21\n",
      "len(melodyPitchTokenizer.vocab):  185\n"
     ]
    },
    {
     "name": "stderr",
     "output_type": "stream",
     "text": [
      "Processing Melody Files: 100%|██████████| 650/650 [00:34<00:00, 18.97it/s]"
     ]
    },
    {
     "name": "stdout",
     "output_type": "stream",
     "text": [
      "example sentence length:  198\n",
      "['<s>', '<bar>', 'position_0x00', 'P:69', 'position_3x00', 'P:64', '<bar>', 'position_0x00', 'P:71', 'position_0x75', 'P:71', 'position_1x00', 'P:71', 'position_3x00', 'P:64', '<bar>', 'position_0x00', 'P:69', 'position_1x00', 'P:71', 'position_2x00', 'P:69', 'position_3x00', 'P:64', '<bar>', 'position_0x00', 'P:71', 'position_3x00', 'P:69', '<bar>', 'position_0x00', 'P:66', 'position_1x00', 'P:67', 'position_1x50', 'P:64', 'position_2x00', 'P:64', '<bar>', 'position_0x00', 'P:66', 'position_1x00', 'P:67', 'position_1x50', 'P:64', 'position_2x00', 'P:64', 'position_3x50', 'P:66', '<bar>', 'position_0x00', 'P:59', 'position_1x00', 'P:62', 'position_2x00', 'P:64', 'position_3x00', 'P:67', '<bar>', 'position_0x00', 'P:66', 'position_0x50', 'P:67', 'position_1x00', 'P:64', 'position_3x00', 'P:62', '<bar>', 'position_0x00', 'P:63', 'position_1x00', 'P:66', 'position_2x00', 'P:68', 'position_3x00', 'P:73', '<bar>', 'position_0x00', 'P:71', 'position_0x50', 'P:73', 'position_1x00', 'P:71', 'position_3x00', 'P:71', '<bar>', 'position_0x00', 'P:74', 'position_3x00', 'P:69', '<bar>', 'position_0x00', 'P:72', 'position_3x00', 'P:71', '<bar>', 'position_0x00', 'P:74', 'position_1x00', 'P:74', 'position_2x00', 'P:74', 'position_3x00', 'P:69', '<bar>', 'position_0x00', 'P:72', 'position_1x00', 'P:72', 'position_3x00', 'P:67', '<bar>', 'position_0x00', 'P:71', 'position_3x00', 'P:67', '<bar>', 'position_0x00', 'P:69', 'position_3x00', 'P:67', '<bar>', 'position_0x00', 'P:71', 'position_1x00', 'P:69', 'position_2x00', 'P:67', 'position_3x00', 'P:66', '<bar>', 'position_0x00', 'P:64', 'position_1x00', 'P:66', 'position_3x00', 'P:62', '<bar>', 'position_0x00', 'P:69', 'position_3x00', 'P:64', '<bar>', 'position_0x00', 'P:71', 'position_0x75', 'P:71', 'position_1x00', 'P:71', 'position_3x00', 'P:69', '<bar>', 'position_0x00', 'P:66', 'position_1x00', 'P:67', 'position_2x00', 'P:69', 'position_3x00', 'P:71', '<bar>', 'position_0x00', 'P:74', 'position_3x00', 'P:71', '<bar>', 'position_0x00', 'P:74', 'position_1x00', 'P:73', 'position_2x00', 'P:72', 'position_3x00', 'P:64', '<bar>', 'position_0x00', 'P:74', 'position_0x50', 'P:73', 'position_1x00', 'P:72', 'position_3x00', 'P:71', '<bar>', 'position_0x00', 'P:69', 'position_1x00', 'P:71', 'position_2x00', 'P:67', 'position_3x00', 'P:69', '<bar>', 'position_0x00', 'P:67', 'position_3x00', '<rest>', '</s>']\n",
      "[2, 6, 95, 55, 122, 50, 6, 95, 57, 102, 57, 104, 57, 122, 50, 6, 95, 55, 104, 57, 113, 55, 122, 50, 6, 95, 57, 122, 55, 6, 95, 52, 104, 53, 109, 50, 113, 50, 6, 95, 52, 104, 53, 109, 50, 113, 50, 127, 52, 6, 95, 45, 104, 48, 113, 50, 122, 53, 6, 95, 52, 100, 53, 104, 50, 122, 48, 6, 95, 49, 104, 52, 113, 54, 122, 59, 6, 95, 57, 100, 59, 104, 57, 122, 57, 6, 95, 60, 122, 55, 6, 95, 58, 122, 57, 6, 95, 60, 104, 60, 113, 60, 122, 55, 6, 95, 58, 104, 58, 122, 53, 6, 95, 57, 122, 53, 6, 95, 55, 122, 53, 6, 95, 57, 104, 55, 113, 53, 122, 52, 6, 95, 50, 104, 52, 122, 48, 6, 95, 55, 122, 50, 6, 95, 57, 102, 57, 104, 57, 122, 55, 6, 95, 52, 104, 53, 113, 55, 122, 57, 6, 95, 60, 122, 57, 6, 95, 60, 104, 59, 113, 58, 122, 50, 6, 95, 60, 100, 59, 104, 58, 122, 57, 6, 95, 55, 104, 57, 113, 53, 122, 55, 6, 95, 53, 122, 4, 3]\n",
      "vocab_size:  185\n",
      "mean len:  243.8323076923077\n",
      "std len:  88.73966003938332\n",
      "mean cr:  0.11392462599192314\n",
      "std cr:  0.02302205177107685\n"
     ]
    },
    {
     "name": "stderr",
     "output_type": "stream",
     "text": [
      "\n"
     ]
    }
   ],
   "source": [
    "print('MelodyPitchTokenizer_m21')\n",
    "melodyPitchTokenizer = MelodyPitchTokenizer(min_pitch=21, max_pitch=108) #default range, need to adjust\n",
    "print('len(melodyPitchTokenizer.vocab): ', len(melodyPitchTokenizer.vocab))\n",
    "initialize_stats('MelodyPitchTokenizer', melodyPitchTokenizer)\n",
    "toks_cs = melodyPitchTokenizer(data_files)\n",
    "print('example sentence length: ', len(toks_cs['tokens'][0]))\n",
    "print(toks_cs['tokens'][0])\n",
    "print(toks_cs['ids'][0])\n",
    "update_stats('MelodyPitchTokenizer', toks_cs)\n",
    "print_stats('MelodyPitchTokenizer')"
   ]
  },
  {
   "cell_type": "code",
   "execution_count": 12,
   "metadata": {},
   "outputs": [],
   "source": [
    "# print stats\n",
    "tokenizers = ['ChordSymbolTokenizer', 'MelodyPitchTokenizer'\n",
    "              ]\n",
    "\n",
    "results_path = 'vocab_stats_hk_m21.csv' #for hook theory\n",
    "\n",
    "result_fields = ['Tokenizer_m21', 'vocab_size'] + list( stats['ChordSymbolTokenizer'].keys() )[3:]\n",
    "\n",
    "with open( results_path, 'w' ) as f:\n",
    "    writer = csv.writer(f)\n",
    "    writer.writerow( result_fields )\n",
    "\n",
    "for tok in tokenizers:\n",
    "    with open( results_path, 'a' ) as f:\n",
    "            writer = csv.writer(f)\n",
    "            writer.writerow( [tok] + [stats[tok]['vocab_size']] + list( stats[tok].values() )[3:] )"
   ]
  },
  {
   "cell_type": "code",
   "execution_count": 13,
   "metadata": {},
   "outputs": [
    {
     "name": "stdout",
     "output_type": "stream",
     "text": [
      "Merging harmony vocab\n"
     ]
    }
   ],
   "source": [
    "m_chordSymbolTokenizer = MergedMelHarmTokenizer(melodyPitchTokenizer, chordSymbolTokenizer, verbose=1)\n",
    "m_rootTypeTokenizer = MergedMelHarmTokenizer(melodyPitchTokenizer, rootTypeTokenizer)\n",
    "m_pitchClassTokenizer = MergedMelHarmTokenizer(melodyPitchTokenizer, pitchClassTokenizer)\n",
    "m_rootPCTokenizer = MergedMelHarmTokenizer(melodyPitchTokenizer, rootPCTokenizer)\n",
    "m_gctRootPCTokenizer = MergedMelHarmTokenizer(melodyPitchTokenizer, gctRootPCTokenizer)\n",
    "m_gctSymbolTokenizer = MergedMelHarmTokenizer(melodyPitchTokenizer, gctSymbolTokenizer)\n",
    "m_gctRootTypeTokenizer = MergedMelHarmTokenizer(melodyPitchTokenizer, gctRootTypeTokenizer)"
   ]
  },
  {
   "cell_type": "code",
   "execution_count": 14,
   "metadata": {},
   "outputs": [
    {
     "name": "stdout",
     "output_type": "stream",
     "text": [
      "{'<unk>': 0, '<pad>': 1, '<s>': 2, '</s>': 3, '<rest>': 4, '<mask>': 5, '<bar>': 6, 'P:21': 7, 'P:22': 8, 'P:23': 9, 'P:24': 10, 'P:25': 11, 'P:26': 12, 'P:27': 13, 'P:28': 14, 'P:29': 15, 'P:30': 16, 'P:31': 17, 'P:32': 18, 'P:33': 19, 'P:34': 20, 'P:35': 21, 'P:36': 22, 'P:37': 23, 'P:38': 24, 'P:39': 25, 'P:40': 26, 'P:41': 27, 'P:42': 28, 'P:43': 29, 'P:44': 30, 'P:45': 31, 'P:46': 32, 'P:47': 33, 'P:48': 34, 'P:49': 35, 'P:50': 36, 'P:51': 37, 'P:52': 38, 'P:53': 39, 'P:54': 40, 'P:55': 41, 'P:56': 42, 'P:57': 43, 'P:58': 44, 'P:59': 45, 'P:60': 46, 'P:61': 47, 'P:62': 48, 'P:63': 49, 'P:64': 50, 'P:65': 51, 'P:66': 52, 'P:67': 53, 'P:68': 54, 'P:69': 55, 'P:70': 56, 'P:71': 57, 'P:72': 58, 'P:73': 59, 'P:74': 60, 'P:75': 61, 'P:76': 62, 'P:77': 63, 'P:78': 64, 'P:79': 65, 'P:80': 66, 'P:81': 67, 'P:82': 68, 'P:83': 69, 'P:84': 70, 'P:85': 71, 'P:86': 72, 'P:87': 73, 'P:88': 74, 'P:89': 75, 'P:90': 76, 'P:91': 77, 'P:92': 78, 'P:93': 79, 'P:94': 80, 'P:95': 81, 'P:96': 82, 'P:97': 83, 'P:98': 84, 'P:99': 85, 'P:100': 86, 'P:101': 87, 'P:102': 88, 'P:103': 89, 'P:104': 90, 'P:105': 91, 'P:106': 92, 'P:107': 93, 'P:108': 94, 'position_0x00': 95, 'position_0x10': 96, 'position_0x20': 97, 'position_0x25': 98, 'position_0x33': 99, 'position_0x50': 100, 'position_0x66': 101, 'position_0x75': 102, 'position_0x90': 103, 'position_1x00': 104, 'position_1x10': 105, 'position_1x20': 106, 'position_1x25': 107, 'position_1x33': 108, 'position_1x50': 109, 'position_1x66': 110, 'position_1x75': 111, 'position_1x90': 112, 'position_2x00': 113, 'position_2x10': 114, 'position_2x20': 115, 'position_2x25': 116, 'position_2x33': 117, 'position_2x50': 118, 'position_2x66': 119, 'position_2x75': 120, 'position_2x90': 121, 'position_3x00': 122, 'position_3x10': 123, 'position_3x20': 124, 'position_3x25': 125, 'position_3x33': 126, 'position_3x50': 127, 'position_3x66': 128, 'position_3x75': 129, 'position_3x90': 130, 'position_4x00': 131, 'position_4x10': 132, 'position_4x20': 133, 'position_4x25': 134, 'position_4x33': 135, 'position_4x50': 136, 'position_4x66': 137, 'position_4x75': 138, 'position_4x90': 139, 'position_5x00': 140, 'position_5x10': 141, 'position_5x20': 142, 'position_5x25': 143, 'position_5x33': 144, 'position_5x50': 145, 'position_5x66': 146, 'position_5x75': 147, 'position_5x90': 148, 'position_6x00': 149, 'position_6x10': 150, 'position_6x20': 151, 'position_6x25': 152, 'position_6x33': 153, 'position_6x50': 154, 'position_6x66': 155, 'position_6x75': 156, 'position_6x90': 157, 'position_7x00': 158, 'position_7x10': 159, 'position_7x20': 160, 'position_7x25': 161, 'position_7x33': 162, 'position_7x50': 163, 'position_7x66': 164, 'position_7x75': 165, 'position_7x90': 166, 'position_8x00': 167, 'position_8x10': 168, 'position_8x20': 169, 'position_8x25': 170, 'position_8x33': 171, 'position_8x50': 172, 'position_8x66': 173, 'position_8x75': 174, 'position_8x90': 175, 'position_9x00': 176, 'position_9x10': 177, 'position_9x20': 178, 'position_9x25': 179, 'position_9x33': 180, 'position_9x50': 181, 'position_9x66': 182, 'position_9x75': 183, 'position_9x90': 184, '<emp>': 185, '<h>': 186, 'C:maj': 187, 'C:min': 188, 'C:aug': 189, 'C:dim': 190, 'C:sus4': 191, 'C:sus2': 192, 'C:7': 193, 'C:maj7': 194, 'C:min7': 195, 'C:minmaj7': 196, 'C:maj6': 197, 'C:min6': 198, 'C:dim7': 199, 'C:hdim7': 200, 'C:maj9': 201, 'C:min9': 202, 'C:9': 203, 'C:min11': 204, 'C:11': 205, 'C:maj13': 206, 'C:min13': 207, 'C:13': 208, 'C:1': 209, 'C:5': 210, 'C:': 211, 'C:7(b9)': 212, 'C:7(#9)': 213, 'C:7(#11)': 214, 'C:7(b13)': 215, 'C#:maj': 216, 'C#:min': 217, 'C#:aug': 218, 'C#:dim': 219, 'C#:sus4': 220, 'C#:sus2': 221, 'C#:7': 222, 'C#:maj7': 223, 'C#:min7': 224, 'C#:minmaj7': 225, 'C#:maj6': 226, 'C#:min6': 227, 'C#:dim7': 228, 'C#:hdim7': 229, 'C#:maj9': 230, 'C#:min9': 231, 'C#:9': 232, 'C#:min11': 233, 'C#:11': 234, 'C#:maj13': 235, 'C#:min13': 236, 'C#:13': 237, 'C#:1': 238, 'C#:5': 239, 'C#:': 240, 'C#:7(b9)': 241, 'C#:7(#9)': 242, 'C#:7(#11)': 243, 'C#:7(b13)': 244, 'D:maj': 245, 'D:min': 246, 'D:aug': 247, 'D:dim': 248, 'D:sus4': 249, 'D:sus2': 250, 'D:7': 251, 'D:maj7': 252, 'D:min7': 253, 'D:minmaj7': 254, 'D:maj6': 255, 'D:min6': 256, 'D:dim7': 257, 'D:hdim7': 258, 'D:maj9': 259, 'D:min9': 260, 'D:9': 261, 'D:min11': 262, 'D:11': 263, 'D:maj13': 264, 'D:min13': 265, 'D:13': 266, 'D:1': 267, 'D:5': 268, 'D:': 269, 'D:7(b9)': 270, 'D:7(#9)': 271, 'D:7(#11)': 272, 'D:7(b13)': 273, 'D#:maj': 274, 'D#:min': 275, 'D#:aug': 276, 'D#:dim': 277, 'D#:sus4': 278, 'D#:sus2': 279, 'D#:7': 280, 'D#:maj7': 281, 'D#:min7': 282, 'D#:minmaj7': 283, 'D#:maj6': 284, 'D#:min6': 285, 'D#:dim7': 286, 'D#:hdim7': 287, 'D#:maj9': 288, 'D#:min9': 289, 'D#:9': 290, 'D#:min11': 291, 'D#:11': 292, 'D#:maj13': 293, 'D#:min13': 294, 'D#:13': 295, 'D#:1': 296, 'D#:5': 297, 'D#:': 298, 'D#:7(b9)': 299, 'D#:7(#9)': 300, 'D#:7(#11)': 301, 'D#:7(b13)': 302, 'E:maj': 303, 'E:min': 304, 'E:aug': 305, 'E:dim': 306, 'E:sus4': 307, 'E:sus2': 308, 'E:7': 309, 'E:maj7': 310, 'E:min7': 311, 'E:minmaj7': 312, 'E:maj6': 313, 'E:min6': 314, 'E:dim7': 315, 'E:hdim7': 316, 'E:maj9': 317, 'E:min9': 318, 'E:9': 319, 'E:min11': 320, 'E:11': 321, 'E:maj13': 322, 'E:min13': 323, 'E:13': 324, 'E:1': 325, 'E:5': 326, 'E:': 327, 'E:7(b9)': 328, 'E:7(#9)': 329, 'E:7(#11)': 330, 'E:7(b13)': 331, 'F:maj': 332, 'F:min': 333, 'F:aug': 334, 'F:dim': 335, 'F:sus4': 336, 'F:sus2': 337, 'F:7': 338, 'F:maj7': 339, 'F:min7': 340, 'F:minmaj7': 341, 'F:maj6': 342, 'F:min6': 343, 'F:dim7': 344, 'F:hdim7': 345, 'F:maj9': 346, 'F:min9': 347, 'F:9': 348, 'F:min11': 349, 'F:11': 350, 'F:maj13': 351, 'F:min13': 352, 'F:13': 353, 'F:1': 354, 'F:5': 355, 'F:': 356, 'F:7(b9)': 357, 'F:7(#9)': 358, 'F:7(#11)': 359, 'F:7(b13)': 360, 'F#:maj': 361, 'F#:min': 362, 'F#:aug': 363, 'F#:dim': 364, 'F#:sus4': 365, 'F#:sus2': 366, 'F#:7': 367, 'F#:maj7': 368, 'F#:min7': 369, 'F#:minmaj7': 370, 'F#:maj6': 371, 'F#:min6': 372, 'F#:dim7': 373, 'F#:hdim7': 374, 'F#:maj9': 375, 'F#:min9': 376, 'F#:9': 377, 'F#:min11': 378, 'F#:11': 379, 'F#:maj13': 380, 'F#:min13': 381, 'F#:13': 382, 'F#:1': 383, 'F#:5': 384, 'F#:': 385, 'F#:7(b9)': 386, 'F#:7(#9)': 387, 'F#:7(#11)': 388, 'F#:7(b13)': 389, 'G:maj': 390, 'G:min': 391, 'G:aug': 392, 'G:dim': 393, 'G:sus4': 394, 'G:sus2': 395, 'G:7': 396, 'G:maj7': 397, 'G:min7': 398, 'G:minmaj7': 399, 'G:maj6': 400, 'G:min6': 401, 'G:dim7': 402, 'G:hdim7': 403, 'G:maj9': 404, 'G:min9': 405, 'G:9': 406, 'G:min11': 407, 'G:11': 408, 'G:maj13': 409, 'G:min13': 410, 'G:13': 411, 'G:1': 412, 'G:5': 413, 'G:': 414, 'G:7(b9)': 415, 'G:7(#9)': 416, 'G:7(#11)': 417, 'G:7(b13)': 418, 'G#:maj': 419, 'G#:min': 420, 'G#:aug': 421, 'G#:dim': 422, 'G#:sus4': 423, 'G#:sus2': 424, 'G#:7': 425, 'G#:maj7': 426, 'G#:min7': 427, 'G#:minmaj7': 428, 'G#:maj6': 429, 'G#:min6': 430, 'G#:dim7': 431, 'G#:hdim7': 432, 'G#:maj9': 433, 'G#:min9': 434, 'G#:9': 435, 'G#:min11': 436, 'G#:11': 437, 'G#:maj13': 438, 'G#:min13': 439, 'G#:13': 440, 'G#:1': 441, 'G#:5': 442, 'G#:': 443, 'G#:7(b9)': 444, 'G#:7(#9)': 445, 'G#:7(#11)': 446, 'G#:7(b13)': 447, 'A:maj': 448, 'A:min': 449, 'A:aug': 450, 'A:dim': 451, 'A:sus4': 452, 'A:sus2': 453, 'A:7': 454, 'A:maj7': 455, 'A:min7': 456, 'A:minmaj7': 457, 'A:maj6': 458, 'A:min6': 459, 'A:dim7': 460, 'A:hdim7': 461, 'A:maj9': 462, 'A:min9': 463, 'A:9': 464, 'A:min11': 465, 'A:11': 466, 'A:maj13': 467, 'A:min13': 468, 'A:13': 469, 'A:1': 470, 'A:5': 471, 'A:': 472, 'A:7(b9)': 473, 'A:7(#9)': 474, 'A:7(#11)': 475, 'A:7(b13)': 476, 'A#:maj': 477, 'A#:min': 478, 'A#:aug': 479, 'A#:dim': 480, 'A#:sus4': 481, 'A#:sus2': 482, 'A#:7': 483, 'A#:maj7': 484, 'A#:min7': 485, 'A#:minmaj7': 486, 'A#:maj6': 487, 'A#:min6': 488, 'A#:dim7': 489, 'A#:hdim7': 490, 'A#:maj9': 491, 'A#:min9': 492, 'A#:9': 493, 'A#:min11': 494, 'A#:11': 495, 'A#:maj13': 496, 'A#:min13': 497, 'A#:13': 498, 'A#:1': 499, 'A#:5': 500, 'A#:': 501, 'A#:7(b9)': 502, 'A#:7(#9)': 503, 'A#:7(#11)': 504, 'A#:7(b13)': 505, 'B:maj': 506, 'B:min': 507, 'B:aug': 508, 'B:dim': 509, 'B:sus4': 510, 'B:sus2': 511, 'B:7': 512, 'B:maj7': 513, 'B:min7': 514, 'B:minmaj7': 515, 'B:maj6': 516, 'B:min6': 517, 'B:dim7': 518, 'B:hdim7': 519, 'B:maj9': 520, 'B:min9': 521, 'B:9': 522, 'B:min11': 523, 'B:11': 524, 'B:maj13': 525, 'B:min13': 526, 'B:13': 527, 'B:1': 528, 'B:5': 529, 'B:': 530, 'B:7(b9)': 531, 'B:7(#9)': 532, 'B:7(#11)': 533, 'B:7(b13)': 534, 'C': 535, 'C#': 536, 'D': 537, 'D#': 538, 'E': 539, 'F': 540, 'F#': 541, 'G': 542, 'G#': 543, 'A': 544, 'A#': 545, 'B': 546, 'maj': 547, 'min': 548, 'aug': 549, 'dim': 550, 'sus4': 551, 'sus2': 552, '7': 553, 'maj7': 554, 'min7': 555, 'minmaj7': 556, 'maj6': 557, 'min6': 558, 'dim7': 559, 'hdim7': 560, 'maj9': 561, 'min9': 562, '9': 563, 'min11': 564, '11': 565, 'maj13': 566, 'min13': 567, '13': 568, '1': 569, '5': 570, '': 571, '7(b9)': 572, '7(#9)': 573, '7(#11)': 574, '7(b13)': 575, 'chord_pc_0': 576, 'chord_pc_1': 577, 'chord_pc_2': 578, 'chord_pc_3': 579, 'chord_pc_4': 580, 'chord_pc_5': 581, 'chord_pc_6': 582, 'chord_pc_7': 583, 'chord_pc_8': 584, 'chord_pc_9': 585, 'chord_pc_10': 586, 'chord_pc_11': 587, 'chord_root_0': 588, 'chord_root_1': 589, 'chord_root_2': 590, 'chord_root_3': 591, 'chord_root_4': 592, 'chord_root_5': 593, 'chord_root_6': 594, 'chord_root_7': 595, 'chord_root_8': 596, 'chord_root_9': 597, 'chord_root_10': 598, 'chord_root_11': 599, '[0 0 4 7 9]': 600, '[ 2  0  4  7 10]': 601, '[ 7  0  4  7 11]': 602, '[ 0  0  4  7 10 18]': 603, '[2 0 4 7 9]': 604, '[7 0 4 7 9]': 605, '[11  0  4  7 11]': 606, '[ 6  0  4  7 10]': 607, '[ 8  0  3  7 10]': 608, '[5 0 4 7 9]': 609, '[ 7  0  4  7 10]': 610, '[4 0 3 7 8]': 611, '[ 5  0  4  7 10]': 612, '[ 9  0  4  7 10]': 613, '[ 4  0  4  7 10 13]': 614, '[10  0  4  7 10 14]': 615, '[2 0 3 6 9]': 616, '[ 0  0  4  7 10]': 617, '[10  0  4  7  9]': 618, '[2 0 3 7 8]': 619, '[5 0 4 7]': 620, '[0 0 3 7 9]': 621, '[10  0  3  7  9]': 622, '[ 0  0  3  7 10]': 623, '[1 0 4 7 9]': 624, '[6 0 4 8]': 625, '[10  0  3  7  8 17]': 626, '[4 0 4 8]': 627, '[ 4  0  4  7  9 11]': 628, '[ 4  0  4  7 10 14]': 629, '[ 3  0  4  7 10 14]': 630, '[ 9  0  3  7  9 17]': 631, '[ 7  0  4  7 10 13]': 632, '[6 0 4 7 9]': 633, '[ 8  0  4  7 10]': 634, '[5 0 3 7 8]': 635, '[5 0 3 7 9]': 636, '[5 0 4 8]': 637, '[ 5  0  3  7  8 17]': 638, '[ 3  0  4  7 10 13]': 639, '[ 5  0  3  7 10]': 640, '[1 0 3 7 9]': 641, '[7 0 4 8]': 642, '[ 5  0  4  7 10 18]': 643, '[4 0 3 6 9]': 644, '[10  0  4  7  9 10 14 17]': 645, '[7 0 3 7 8]': 646, '[0 0 3 7 8]': 647, '[ 9  0  4  7 10 18]': 648, '[ 8  0  4  7 10 14]': 649, '[ 4  0  3  7  8 10 13 17]': 650, '[ 4  0  4  7  9 13]': 651, '[0 0 5 7]': 652, '[ 0  0  4  7 10 13]': 653, '[ 8  0  3  7 10 14]': 654, '[ 1  0  4  7 10 14]': 655, '[ 5  0  3  7 10 14]': 656, '[ 4  0  4  7  9 11 14 18]': 657, '[9 0 3 7 8]': 658, '[7 0 3 7 9]': 659, '[ 9  0  4  7 10 13]': 660, '[2 0 3 7]': 661, '[2 0 3 7 9]': 662, '[ 2  0  4  7 10 13]': 663, '[ 4  0  4  7 10]': 664, '[10  0  4  7 10]': 665, '[ 9  0  4  7 11]': 666, '[4 0 4 7 9]': 667, '[ 2  0  4  7  9 13]': 668, '[ 8  0  4  7 10 18]': 669, '[10  0  3  7  8]': 670, '[9 0 4 7 9]': 671, '[8 0 3 7 9]': 672, '[10  0  4  7 10 13]': 673, '[3 0 3 7 9]': 674, '[10  0]': 675, '[10  0  4  7  9 17]': 676, '[ 3  0  4  7 10]': 677, '[11  0  4  7 10]': 678, '[ 1  0  4  7 10 18]': 679, '[ 2  0  3  7  8 10 13 17]': 680, '[ 5  0  4  7  8 10]': 681, '[7 0 3 7]': 682, '[9 0 3 6 9]': 683, '[ 2  0  4  7 11]': 684, '[ 7  0  4  7  9 13]': 685, '[ 5  0  4  7  9 11 14]': 686, '[ 5  0  3  7  8 10 13 17]': 687, '[ 1  0  3  7  9 17]': 688, '[ 5  0  4  7 10 13]': 689, '[ 5  0  4  7  9 13]': 690, '[5 0 3 7]': 691, '[ 2  0  4  7  9 11 14]': 692, '[ 5  0  3  7  8 10 14 17]': 693, '[ 0  0  3  7  8 10]': 694, '[10  0  3  7  8 10]': 695, '[4 0 5 7]': 696, '[8 0]': 697, '[2 0 5 7]': 698, '[ 1  0  4  7 10]': 699, '[4 0 3 7 9]': 700, '[ 6  0  4  7 10 13]': 701, '[ 9  0  4  7  8 10]': 702, '[ 4  0  4  7  8 10]': 703, '[ 5  0  4  7 10 14]': 704, '[ 6  0  3  7  9 17]': 705, '[ 5  0  5 10]': 706, '[0 0 4 7]': 707, '[ 6  0  4  7 10 18]': 708, '[ 0  0  4  7 10 14]': 709, '[ 2  0  3  7  8 10 14 17]': 710, '[ 5  0  4  7 10 15]': 711, '[9 0 3 7 9]': 712, '[11  0  4  7 10 13]': 713, '[10  0  4  7 10 18]': 714, '[ 9  0  3  7 11]': 715, '[ 0  0  4  7  9 13]': 716, '[ 2  0  4  7 10 18]': 717, '[ 4  0  4  7 10 18]': 718, '[ 9  0  4  7  9 11 14]': 719, '[7 0 5 7]': 720, '[ 4  0  3  7  8 10]': 721, '[9 0]': 722, '[ 0  0  4  7  9 11]': 723, '[ 9  0  3  7  8 10]': 724, '[ 5  0  4  7  9 11]': 725, '[ 8  0  3  7 10 14 17]': 726, '[ 2  0  3  7  8 10 17]': 727, '[9 0 3 7]': 728, '[ 0  0  3  7 11]': 729, '[ 8  0  3  7  9 10 14 17]': 730, '[5 0]': 731, '[1 0]': 732, '[6 0 3 7 9]': 733, '[0 0]': 734, '[ 3  0  4  7 10 18]': 735, '[11  0  5  7]': 736, '[9 0 5 7]': 737, '[3 0 3 7]': 738, '[ 5  0  4  8 17]': 739, '[ 4  0  3  7  9 17]': 740, '[ 9  0  3  7  9 10 14 17]': 741, '[ 4  0  4  7 11]': 742, '[0 0 3 7]': 743, '[3 0 5 7]': 744, '[10  0  4  7  9 14 17]': 745, '[ 0  0  3  7 10 14]': 746, '[10  0  3  7]': 747, '[11  0  4  7 10 18]': 748, '[ 0  0  4  7  8 10]': 749, '[10  0  4  7  8 10]': 750, '[ 0  0  4  7 10 15]': 751, '[ 2  0  4  7  8 10]': 752, '[ 7  0  4  7  9 11 14]': 753, '[ 0  0  5 10]': 754, '[ 4  0  4  7  9 10 14 17]': 755, '[8 0 4 7]': 756, '[8 0 3 7]': 757, '[ 7  0  4  7 10 14]': 758, '[ 7  0  3  7 11]': 759, '[ 2  0  4  7  9 11]': 760, '[ 7  0  4  7  9 11]': 761, '[ 2  0  3  7  8 17]': 762, '[ 5  0  3  7 10 14 17]': 763, '[ 9  0  4  7  9 11]': 764, '[ 5  0  3  7  8 10 17]': 765, '[9 0 3 9]': 766, '[3 0 4 7]': 767, '[10  0  3  7  8 10 17]': 768, '[ 7  0  4  7  8 10]': 769, '[ 7  0  4  7 11 14]': 770, '[3 0]': 771, '[ 1  0  4  7 10 13]': 772, '[ 4  0  4  7  9 11 14 17]': 773, '[1 0 4 7]': 774, '[ 5  0  3  7 11]': 775, '[8 0 5 7]': 776, '[ 9  0  4  7  9 13]': 777, '[ 7  0  4  7 10 18]': 778, '[ 2  0  3  7 11]': 779, '[ 8  0  4  7 10 13]': 780, '[11  0  3  7]': 781, '[7 0 3 6]': 782, '[10  0  4  7]': 783, '[10  0  4  7 10 15]': 784, '[6 0]': 785, '[ 3  0  4  7 10 15]': 786, '[4 0 4 7]': 787, '[7 0]': 788, '[1 0 3 9]': 789, '[2 0]': 790, '[ 8  0  4  7 10 15]': 791, '[ 7  0  4  8 11 14]': 792, '[ 4  0  3  7  9 10 14 17]': 793, '[6 0 4 7]': 794, '[11  0  4  7]': 795, '[ 0  0  4  7  9 11 14]': 796, '[9 0 4 7]': 797, '[2 0 4 7]': 798, '[1 0 7]': 799, '[4 0 3 7]': 800, '[ 4  0  3  7 11]': 801, '[ 7  0  4  7 10 15]': 802, '[11  0  4  7 11 14]': 803, '[ 4  0  4  7 11 14]': 804, '[7 0 4 7]': 805, '[11  0  3  7  9]': 806, '[6 0 3 7]': 807, '[6 0 5 7]': 808, '[4 0 4 8 9]': 809, '[1 0 5 7]': 810, '[4 0]': 811, '[ 2  0  4  7 11 14]': 812, '[11  0]': 813, '[1 0 3 7]': 814, '[ 5  0  3  7  8 10]': 815, '[ 7  0  4  8 13]': 816, '[ 2  0  3  7  8 10]': 817, '[11  0  3  9]': 818, '[4 0 3 9]': 819, '[ 9  0  4  7 11 14]': 820, '[6 0 3 9]': 821, '[ 4  0  4  8 11 14]': 822, '[2 0 3 6]': 823, '[ 5  0  4  8 15 18]': 824, '[11  0  3  6]': 825, '[ 5  0  4  8 13]': 826, '[11  0  3  7 11]': 827, '[0 4 7 9]': 828, '[ 0  4  7 10]': 829, '[ 0  4  7 11]': 830, '[ 0  4  7 10 18]': 831, '[ 0  3  7 10]': 832, '[0 3 7 8]': 833, '[ 0  4  7 10 13]': 834, '[ 0  4  7 10 14]': 835, '[0 3 6 9]': 836, '[0 4 7]': 837, '[0 3 7 9]': 838, '[0 4 8]': 839, '[ 0  3  7  8 17]': 840, '[ 0  4  7  9 11]': 841, '[ 0  3  7  9 17]': 842, '[ 0  4  7  9 10 14 17]': 843, '[ 0  3  7  8 10 13 17]': 844, '[ 0  4  7  9 13]': 845, '[0 5 7]': 846, '[ 0  3  7 10 14]': 847, '[ 0  4  7  9 11 14 18]': 848, '[0 3 7]': 849, '[0]': 850, '[ 0  4  7  9 17]': 851, '[ 0  4  7  8 10]': 852, '[ 0  4  7  9 11 14]': 853, '[ 0  3  7  8 10 14 17]': 854, '[ 0  3  7  8 10]': 855, '[ 0  5 10]': 856, '[ 0  4  7 10 15]': 857, '[ 0  3  7 11]': 858, '[ 0  3  7 10 14 17]': 859, '[ 0  3  7  8 10 17]': 860, '[ 0  3  7  9 10 14 17]': 861, '[ 0  4  8 17]': 862, '[ 0  4  7  9 14 17]': 863, '[0 3 9]': 864, '[ 0  4  7 11 14]': 865, '[ 0  4  7  9 11 14 17]': 866, '[0 3 6]': 867, '[ 0  4  8 11 14]': 868, '[0 7]': 869, '[0 4 8 9]': 870, '[ 0  4  8 13]': 871, '[ 0  4  8 15 18]': 872}\n"
     ]
    }
   ],
   "source": [
    "print(m_chordSymbolTokenizer.vocab)"
   ]
  },
  {
   "cell_type": "code",
   "execution_count": 15,
   "metadata": {},
   "outputs": [
    {
     "name": "stdout",
     "output_type": "stream",
     "text": [
      "[5, 193]\n"
     ]
    }
   ],
   "source": [
    "print(m_chordSymbolTokenizer.convert_tokens_to_ids(['<mask>', 'C:7']))"
   ]
  }
 ],
 "metadata": {
  "kernelspec": {
   "display_name": "midi",
   "language": "python",
   "name": "python3"
  },
  "language_info": {
   "codemirror_mode": {
    "name": "ipython",
    "version": 3
   },
   "file_extension": ".py",
   "mimetype": "text/x-python",
   "name": "python",
   "nbconvert_exporter": "python",
   "pygments_lexer": "ipython3",
   "version": "3.11.5"
  }
 },
 "nbformat": 4,
 "nbformat_minor": 2
}
