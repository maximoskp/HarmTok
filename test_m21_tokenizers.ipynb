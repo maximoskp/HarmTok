{
 "cells": [
  {
   "cell_type": "code",
   "execution_count": 1,
   "metadata": {},
   "outputs": [],
   "source": [
    "import os\n",
    "import csv\n",
    "import zlib\n",
    "import numpy as np\n",
    "from harmony_tokenizers_m21 import ChordSymbolTokenizer, MelodyPitchTokenizer"
   ]
  },
  {
   "cell_type": "code",
   "execution_count": 2,
   "metadata": {},
   "outputs": [
    {
     "name": "stdout",
     "output_type": "stream",
     "text": [
      "Total files from Hook Theory dataset: 17476\n"
     ]
    }
   ],
   "source": [
    "root_dir = './data/hooktheory_dataset/xmls/'\n",
    "data_files = []\n",
    "\n",
    "# Walk through all subdirectories and files\n",
    "for dirpath, _, filenames in os.walk(root_dir):\n",
    "    for file in filenames:\n",
    "        if file.endswith(\".xml\"):\n",
    "            full_path = os.path.join(dirpath, file)\n",
    "            data_files.append(full_path)\n",
    "\n",
    "print('Total files from Hook Theory dataset:', len(data_files))"
   ]
  },
  {
   "cell_type": "code",
   "execution_count": 3,
   "metadata": {},
   "outputs": [],
   "source": [
    "# prepare stats\n",
    "stats = {}\n",
    "\n",
    "def compute_compression_rate(array: np.ndarray, compression_method=zlib.compress) -> float:\n",
    "    \"\"\"\n",
    "    Compute the compression rate of a NumPy array.\n",
    "\n",
    "    Parameters:\n",
    "        array (np.ndarray): The NumPy array to compress.\n",
    "        compression_method (callable): The compression method to use. \n",
    "                                       Default is `zlib.compress`.\n",
    "\n",
    "    Returns:\n",
    "        float: The compression rate (compressed size / original size).\n",
    "    \"\"\"\n",
    "    # Convert the array to bytes\n",
    "    array_bytes = array.tobytes()\n",
    "    \n",
    "    # Compress the byte representation\n",
    "    compressed_bytes = compression_method(array_bytes)\n",
    "    \n",
    "    # Compute sizes\n",
    "    original_size = len(array_bytes)\n",
    "    compressed_size = len(compressed_bytes)\n",
    "    \n",
    "    # Calculate compression rate\n",
    "    compression_rate = compressed_size / original_size\n",
    "\n",
    "    return compression_rate\n",
    "\n",
    "def initialize_stats(key, tokenizer):\n",
    "    stats[key] = {\n",
    "        'vocab_size': len(tokenizer.vocab),\n",
    "        'seq_lens': [],\n",
    "        'compression_rates': []\n",
    "    }\n",
    "# end initialize_stats\n",
    "\n",
    "def update_stats(key, toks):\n",
    "    for t in toks['ids']:\n",
    "        stats[key]['seq_lens'].append( len(t) )\n",
    "        stats[key]['compression_rates'].append( compute_compression_rate(np.array(t)) )\n",
    "    stats[key]['mean_len'] = np.mean(stats[key]['seq_lens'])\n",
    "    stats[key]['std_len'] = np.std(stats[key]['seq_lens'])\n",
    "    stats[key]['mean_compression'] = np.mean(stats[key]['compression_rates'])\n",
    "    stats[key]['std_compression'] = np.std(stats[key]['compression_rates'])\n",
    "# end update_stats\n",
    "\n",
    "def print_stats(key):\n",
    "    print('vocab_size: ', stats[key]['vocab_size'])\n",
    "    print('mean len: ', stats[key]['mean_len'])\n",
    "    print('std len: ', stats[key]['std_len'])\n",
    "    print('mean cr: ', stats[key]['mean_compression'])\n",
    "    print('std cr: ', stats[key]['std_compression'])"
   ]
  },
  {
   "cell_type": "code",
   "execution_count": 5,
   "metadata": {},
   "outputs": [
    {
     "name": "stdout",
     "output_type": "stream",
     "text": [
      "ChordSymbolTokenizer_m21\n",
      "len(chordSymbolTokenizer.vocab):  396\n"
     ]
    },
    {
     "name": "stderr",
     "output_type": "stream",
     "text": [
      "Processing Files: 100%|██████████| 17476/17476 [05:05<00:00, 57.13it/s]\n"
     ]
    },
    {
     "name": "stdout",
     "output_type": "stream",
     "text": [
      "example sentence length:  82\n",
      "['bar', 'position_0x00', 'C:maj', 'position_2x00', 'C:maj', 'position_3x00', 'C:maj', 'bar', 'position_0x50', 'C:maj', 'position_2x00', 'C:maj', 'position_3x00', 'C:maj', 'bar', 'position_0x00', 'A:min', 'position_2x00', 'A:min', 'position_3x00', 'A:min', 'bar', 'position_0x00', 'F:maj', 'position_1x00', 'F:maj', 'position_2x00', 'F:maj', 'bar', 'position_0x00', 'C:maj', 'position_2x00', 'C:maj', 'position_3x00', 'C:maj', 'bar', 'position_0x50', 'C:maj', 'position_2x00', 'C:maj', 'position_3x00', 'C:maj', 'bar', 'position_0x00', 'A:min', 'position_2x00', 'A:min', 'position_3x00', 'A:min', 'bar', 'position_0x00', 'F:maj', 'position_1x00', 'F:maj', 'position_2x00', 'F:maj', 'position_3x00', 'F:maj', 'bar', 'position_0x00', 'C:maj', 'bar', 'position_0x00', 'C:maj', 'bar', 'position_0x00', 'A:min', 'bar', 'position_0x00', 'F:maj', 'bar', 'position_0x00', 'C:maj', 'bar', 'position_0x00', 'C:maj', 'bar', 'position_0x00', 'A:min', 'bar', 'position_0x00', 'F:maj']\n",
      "[5, 6, 96, 24, 96, 33, 96, 5, 11, 96, 24, 96, 33, 96, 5, 6, 322, 24, 322, 33, 322, 5, 6, 221, 15, 221, 24, 221, 5, 6, 96, 24, 96, 33, 96, 5, 11, 96, 24, 96, 33, 96, 5, 6, 322, 24, 322, 33, 322, 5, 6, 221, 15, 221, 24, 221, 33, 221, 5, 6, 96, 5, 6, 96, 5, 6, 322, 5, 6, 221, 5, 6, 96, 5, 6, 96, 5, 6, 322, 5, 6, 221]\n",
      "vocab_size:  396\n",
      "mean len:  47.13761730373083\n",
      "std len:  30.680285665152113\n",
      "mean cr:  0.28931185331451825\n",
      "std cr:  0.10933732993075712\n"
     ]
    }
   ],
   "source": [
    "print('ChordSymbolTokenizer_m21')\n",
    "chordSymbolTokenizer = ChordSymbolTokenizer()\n",
    "print('len(chordSymbolTokenizer.vocab): ', len(chordSymbolTokenizer.vocab))\n",
    "initialize_stats('ChordSymbolTokenizer', chordSymbolTokenizer)\n",
    "toks_cs = chordSymbolTokenizer(data_files)\n",
    "print('example sentence length: ', len(toks_cs['tokens'][0]))\n",
    "print(toks_cs['tokens'][0])\n",
    "print(toks_cs['ids'][0])\n",
    "update_stats('ChordSymbolTokenizer', toks_cs)\n",
    "print_stats('ChordSymbolTokenizer')"
   ]
  },
  {
   "cell_type": "code",
   "execution_count": 6,
   "metadata": {},
   "outputs": [
    {
     "name": "stdout",
     "output_type": "stream",
     "text": [
      "MelodyPitchTokenizer_m21\n",
      "len(melodyPitchTokenizer.vocab):  184\n"
     ]
    },
    {
     "name": "stderr",
     "output_type": "stream",
     "text": [
      "Processing Melody Files: 100%|██████████| 17476/17476 [06:44<00:00, 43.21it/s]\n"
     ]
    },
    {
     "name": "stdout",
     "output_type": "stream",
     "text": [
      "example sentence length:  148\n",
      "['bar', 'position_0x00', 'Rest', 'bar', 'position_0x00', 'Rest', 'bar', 'position_0x00', 'Rest', 'bar', 'position_0x00', 'Rest', 'position_3x00', 'P:41', 'position_3x25', 'P:43', 'position_3x50', 'P:47', 'bar', 'position_0x00', 'Rest', 'bar', 'position_0x00', 'Rest', 'bar', 'position_0x00', 'Rest', 'bar', 'position_0x00', 'Rest', 'bar', 'position_0x00', 'Rest', 'position_1x00', 'P:67', 'position_1x50', 'P:67', 'position_2x00', 'P:67', 'position_2x50', 'P:67', 'position_3x00', 'P:67', 'position_3x25', 'P:67', 'position_3x50', 'P:67', 'bar', 'position_0x00', 'P:64', 'position_0x50', 'P:62', 'position_1x00', 'P:60', 'position_1x50', 'P:62', 'position_1x75', 'P:64', 'position_2x50', 'P:60', 'position_3x00', 'P:60', 'position_3x50', 'P:60', 'bar', 'position_0x00', 'P:64', 'position_0x50', 'P:64', 'position_1x00', 'P:64', 'position_1x50', 'P:62', 'position_2x50', 'P:60', 'position_3x00', 'P:62', 'position_3x50', 'P:60', 'bar', 'position_0x00', 'P:62', 'position_0x50', 'P:62', 'position_1x00', 'P:64', 'position_1x50', 'P:62', 'position_2x50', 'P:60', 'position_3x50', 'P:60', 'bar', 'position_0x00', 'P:60', 'position_0x50', 'P:60', 'position_1x00', 'P:67', 'position_1x50', 'P:67', 'position_2x00', 'P:67', 'position_2x50', 'P:67', 'position_3x00', 'P:67', 'position_3x50', 'P:64', 'bar', 'position_0x00', 'P:67', 'position_0x50', 'P:67', 'position_1x00', 'P:69', 'position_1x50', 'P:67', 'position_2x00', 'P:65', 'position_2x50', 'P:64', 'position_3x50', 'P:62', 'bar', 'position_0x00', 'P:62', 'position_1x00', 'Rest', 'position_2x50', 'P:60', 'position_3x00', 'P:62', 'position_3x50', 'P:60', 'bar', 'position_0x00', 'P:65', 'position_0x50', 'Rest', 'position_1x00', 'P:64', 'position_2x00', 'P:62', 'position_2x50', 'P:60', 'position_3x50', 'P:62']\n",
      "[5, 94, 4, 5, 94, 4, 5, 94, 4, 5, 94, 4, 121, 26, 124, 28, 126, 32, 5, 94, 4, 5, 94, 4, 5, 94, 4, 5, 94, 4, 5, 94, 4, 103, 52, 108, 52, 112, 52, 117, 52, 121, 52, 124, 52, 126, 52, 5, 94, 49, 99, 47, 103, 45, 108, 47, 110, 49, 117, 45, 121, 45, 126, 45, 5, 94, 49, 99, 49, 103, 49, 108, 47, 117, 45, 121, 47, 126, 45, 5, 94, 47, 99, 47, 103, 49, 108, 47, 117, 45, 126, 45, 5, 94, 45, 99, 45, 103, 52, 108, 52, 112, 52, 117, 52, 121, 52, 126, 49, 5, 94, 52, 99, 52, 103, 54, 108, 52, 112, 50, 117, 49, 126, 47, 5, 94, 47, 103, 4, 117, 45, 121, 47, 126, 45, 5, 94, 50, 99, 4, 103, 49, 112, 47, 117, 45, 126, 47]\n",
      "vocab_size:  184\n",
      "mean len:  130.4645799954223\n",
      "std len:  78.01326654548204\n",
      "mean cr:  0.2483346477538557\n",
      "std cr:  0.07704924621175663\n"
     ]
    }
   ],
   "source": [
    "print('MelodyPitchTokenizer_m21')\n",
    "melodyPitchTokenizer = MelodyPitchTokenizer(min_pitch=21, max_pitch=108) #default range, need to adjust\n",
    "print('len(melodyPitchTokenizer.vocab): ', len(melodyPitchTokenizer.vocab))\n",
    "initialize_stats('MelodyPitchTokenizer', melodyPitchTokenizer)\n",
    "toks_cs = melodyPitchTokenizer(data_files)\n",
    "print('example sentence length: ', len(toks_cs['tokens'][0]))\n",
    "print(toks_cs['tokens'][0])\n",
    "print(toks_cs['ids'][0])\n",
    "update_stats('MelodyPitchTokenizer', toks_cs)\n",
    "print_stats('MelodyPitchTokenizer')"
   ]
  },
  {
   "cell_type": "code",
   "execution_count": 7,
   "metadata": {},
   "outputs": [],
   "source": [
    "# print stats\n",
    "tokenizers = ['ChordSymbolTokenizer', 'MelodyPitchTokenizer'\n",
    "              ]\n",
    "\n",
    "results_path = 'vocab_stats_hk_m21.csv' #for hook theory\n",
    "\n",
    "result_fields = ['Tokenizer_m21', 'vocab_size'] + list( stats['ChordSymbolTokenizer'].keys() )[3:]\n",
    "\n",
    "with open( results_path, 'w' ) as f:\n",
    "    writer = csv.writer(f)\n",
    "    writer.writerow( result_fields )\n",
    "\n",
    "for tok in tokenizers:\n",
    "    with open( results_path, 'a' ) as f:\n",
    "            writer = csv.writer(f)\n",
    "            writer.writerow( [tok] + [stats[tok]['vocab_size']] + list( stats[tok].values() )[3:] )"
   ]
  }
 ],
 "metadata": {
  "kernelspec": {
   "display_name": "Python 3",
   "language": "python",
   "name": "python3"
  },
  "language_info": {
   "codemirror_mode": {
    "name": "ipython",
    "version": 3
   },
   "file_extension": ".py",
   "mimetype": "text/x-python",
   "name": "python",
   "nbconvert_exporter": "python",
   "pygments_lexer": "ipython3",
   "version": "3.11.4"
  }
 },
 "nbformat": 4,
 "nbformat_minor": 2
}
