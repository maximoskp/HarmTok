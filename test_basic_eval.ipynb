{
 "cells": [
  {
   "cell_type": "code",
   "execution_count": 6,
   "metadata": {},
   "outputs": [],
   "source": [
    "import pandas as pd"
   ]
  },
  {
   "cell_type": "code",
   "execution_count": 7,
   "metadata": {},
   "outputs": [],
   "source": [
    "def symbol_basic_eval(df, tokenizer_name='ChordSymbolTokenizer'):\n",
    "    total_pieces = len(df['labels'])\n",
    "\n",
    "    correct_bar_predictions = 0\n",
    "    total_bars = 0\n",
    "\n",
    "    correct_new_chord_predictions = 0\n",
    "    total_new_chord_predictions = 0\n",
    "\n",
    "    correct_position_predictions = 0\n",
    "    total_position_predictions = 0\n",
    "\n",
    "    correct_chord_predictions = 0\n",
    "    correct_root_predictions = 0\n",
    "    total_chord_predictions = 0\n",
    "\n",
    "    for p_i in range(total_pieces):\n",
    "        l = df['labels'].iloc[p_i]\n",
    "        p = df['predictions'].iloc[p_i]\n",
    "        # for each token that should have been predicted\n",
    "        l_split = l.split(' ')\n",
    "        p_split = p.split(' ')\n",
    "        for i in range( len (l_split) ):\n",
    "            # how many bars were correctly predicted\n",
    "            if l_split[i] == '<bar>':\n",
    "                total_bars += 1\n",
    "                if p_split[i] == '<bar>':\n",
    "                    correct_bar_predictions += 1\n",
    "            # how many new chords were correctly predicted\n",
    "            if 'position_' in l_split[i]:\n",
    "                total_new_chord_predictions += 1\n",
    "                if 'position_' in p_split[i]:\n",
    "                    correct_new_chord_predictions += 1\n",
    "            # how many correct positions were predicted\n",
    "            if 'position_' in l_split[i]:\n",
    "                total_position_predictions += 1\n",
    "                if p_split[i] == l_split[i]:\n",
    "                    correct_position_predictions += 1\n",
    "            # how many exact chords and roots were predicted\n",
    "            if tokenizer_name == 'ChordSymbolTokenizer':\n",
    "                if ':' in l_split[i]:\n",
    "                    total_chord_predictions += 1\n",
    "                    if p_split[i] == l_split[i]:\n",
    "                        correct_chord_predictions += 1\n",
    "                    l_chord_split = l_split[i].split(':')\n",
    "                    p_chord_split = p_split[i].split(':')\n",
    "                    if l_chord_split[0] == p_chord_split[0]:\n",
    "                        correct_root_predictions += 1\n",
    "            elif tokenizer_name == 'GCTSymbolTokenizer':\n",
    "                if '[' in l_split[i]:\n",
    "                    total_chord_predictions += 1\n",
    "                    if p_split[i] == l_split[i]:\n",
    "                        correct_chord_predictions += 1\n",
    "                    l_chord_split = l_split[i][1:].split('x')\n",
    "                    p_chord_split = p_split[i][1:].split('x')\n",
    "                    if l_chord_split[0] == p_chord_split[0]:\n",
    "                        correct_root_predictions += 1\n",
    "    results = {\n",
    "        'correct_bar_predictions': correct_bar_predictions/total_bars,\n",
    "        'correct_new_chord_predictions': correct_new_chord_predictions/total_new_chord_predictions,\n",
    "        'correct_position_predictions': correct_position_predictions/total_position_predictions,\n",
    "        'correct_chord_predictions': correct_chord_predictions/total_chord_predictions,\n",
    "        'correct_root_predictions': correct_root_predictions/total_chord_predictions\n",
    "    }\n",
    "    return results\n",
    "# end symbol_basic_eval"
   ]
  },
  {
   "cell_type": "code",
   "execution_count": 8,
   "metadata": {},
   "outputs": [],
   "source": [
    "tokenizers = {\n",
    "    'ChordSymbolTokenizer': symbol_basic_eval,\n",
    "    'RootTypeTokenizer': None,\n",
    "    'PitchClassTokenizer': None,\n",
    "    'RootPCTokenizer': None,\n",
    "    'GCTRootPCTokenizer': None,\n",
    "    'GCTSymbolTokenizer': symbol_basic_eval,\n",
    "    'GCTRootTypeTokenizer': None\n",
    "}\n",
    "\n",
    "tokenized_folder = 'tokenized/gen/'\n",
    "\n",
    "results = {}"
   ]
  },
  {
   "cell_type": "code",
   "execution_count": null,
   "metadata": {},
   "outputs": [],
   "source": [
    "for tokenizer_name in tokenizers.keys():\n",
    "    if tokenizers[tokenizer_name] is not None:\n",
    "        df = pd.read_csv( tokenized_folder + tokenizer_name + '.csv' )\n",
    "        results[tokenizer_name] = tokenizers[tokenizer_name](df, tokenizer_name=tokenizer_name)"
   ]
  },
  {
   "cell_type": "code",
   "execution_count": 12,
   "metadata": {},
   "outputs": [
    {
     "name": "stdout",
     "output_type": "stream",
     "text": [
      "{'correct_bar_predictions': 0.9731942575145806, 'correct_new_chord_predictions': 0.7508786103817411, 'correct_position_predictions': 0.7477681276509796, 'correct_chord_predictions': 0.11949101191678449, 'correct_root_predictions': 0.19495051504746516}\n",
      "{'correct_bar_predictions': 0.9344997756841633, 'correct_new_chord_predictions': 0.7916380529186023, 'correct_position_predictions': 0.7857402544940416, 'correct_chord_predictions': 0.16068453051114615, 'correct_root_predictions': 0.335014636343166}\n"
     ]
    }
   ],
   "source": [
    "print(results['ChordSymbolTokenizer'])\n",
    "print(results['GCTSymbolTokenizer'])"
   ]
  },
  {
   "cell_type": "code",
   "execution_count": 10,
   "metadata": {},
   "outputs": [
    {
     "name": "stdout",
     "output_type": "stream",
     "text": [
      "{'ChordSymbolTokenizer': {'correct_bar_predictions': 0.9731942575145806, 'correct_new_chord_predictions': 0.7508786103817411, 'correct_position_predictions': 0.7477681276509796, 'correct_chord_predictions': 0.11949101191678449, 'correct_root_predictions': 0.19495051504746516}, 'GCTSymbolTokenizer': {'correct_bar_predictions': 0.9344997756841633, 'correct_new_chord_predictions': 0.7916380529186023, 'correct_position_predictions': 0.7857402544940416, 'correct_chord_predictions': 0.16068453051114615, 'correct_root_predictions': 0.335014636343166}}\n"
     ]
    }
   ],
   "source": [
    "print(results)"
   ]
  }
 ],
 "metadata": {
  "kernelspec": {
   "display_name": "harmtok",
   "language": "python",
   "name": "python3"
  },
  "language_info": {
   "codemirror_mode": {
    "name": "ipython",
    "version": 3
   },
   "file_extension": ".py",
   "mimetype": "text/x-python",
   "name": "python",
   "nbconvert_exporter": "python",
   "pygments_lexer": "ipython3",
   "version": "3.11.5"
  }
 },
 "nbformat": 4,
 "nbformat_minor": 2
}
