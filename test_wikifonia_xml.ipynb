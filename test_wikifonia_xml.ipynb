{
 "cells": [
  {
   "cell_type": "code",
   "execution_count": 17,
   "metadata": {},
   "outputs": [],
   "source": [
    "import muspy"
   ]
  },
  {
   "cell_type": "code",
   "execution_count": 18,
   "metadata": {},
   "outputs": [
    {
     "name": "stdout",
     "output_type": "stream",
     "text": [
      "Skip downloading as the `.muspy.success` file is found.\n",
      "Skip extracting as the `.muspy.success` file is found.\n"
     ]
    }
   ],
   "source": [
    "w = muspy.WikifoniaDataset('data', download_and_extract=True)\n",
    "piece = w[0]"
   ]
  },
  {
   "cell_type": "code",
   "execution_count": 19,
   "metadata": {},
   "outputs": [],
   "source": [
    "resolution = piece.resolution\n",
    "barlines = piece.barlines"
   ]
  },
  {
   "cell_type": "code",
   "execution_count": 20,
   "metadata": {},
   "outputs": [
    {
     "name": "stdout",
     "output_type": "stream",
     "text": [
      "[Barline(time=0), Barline(time=6), Barline(time=12), Barline(time=18), Barline(time=24), Barline(time=30), Barline(time=36), Barline(time=42), Barline(time=48), Barline(time=54), Barline(time=60), Barline(time=66), Barline(time=72), Barline(time=78), Barline(time=84), Barline(time=90), Barline(time=96), Barline(time=102), Barline(time=108), Barline(time=114), Barline(time=120), Barline(time=126), Barline(time=132), Barline(time=138), Barline(time=144), Barline(time=150), Barline(time=156), Barline(time=162), Barline(time=168), Barline(time=174), Barline(time=180), Barline(time=186), Barline(time=192), Barline(time=198), Barline(time=204), Barline(time=210)]\n"
     ]
    }
   ],
   "source": [
    "print(barlines)"
   ]
  },
  {
   "cell_type": "code",
   "execution_count": 21,
   "metadata": {},
   "outputs": [
    {
     "name": "stdout",
     "output_type": "stream",
     "text": [
      "[ChordSymbol(time=0, root='C', kind='m', degrees=[], binary_xml=array([1, 0, 0, 1, 0, 0, 0, 1, 0, 0, 0, 0]), chord_symbol_xml='Cm', chord_symbol_mir_eval='C:min', binary_mir_eval=array([1, 0, 0, 1, 0, 0, 0, 1, 0, 0, 0, 0]), root_pc=0), ChordSymbol(time=6, root='Ab', kind='9', degrees=[], binary_xml=array([1, 0, 1, 0, 1, 0, 0, 1, 0, 0, 1, 0]), chord_symbol_xml='Ab9', chord_symbol_mir_eval='Ab:9', binary_mir_eval=array([1, 0, 1, 0, 1, 0, 0, 1, 0, 0, 1, 0]), root_pc=8), ChordSymbol(time=12, root='C', kind='m', degrees=[], binary_xml=array([1, 0, 0, 1, 0, 0, 0, 1, 0, 0, 0, 0]), chord_symbol_xml='Cm', chord_symbol_mir_eval='C:min', binary_mir_eval=array([1, 0, 0, 1, 0, 0, 0, 1, 0, 0, 0, 0]), root_pc=0), ChordSymbol(time=18, root='Ab', kind='9', degrees=[], binary_xml=array([1, 0, 1, 0, 1, 0, 0, 1, 0, 0, 1, 0]), chord_symbol_xml='Ab9', chord_symbol_mir_eval='Ab:9', binary_mir_eval=array([1, 0, 1, 0, 1, 0, 0, 1, 0, 0, 1, 0]), root_pc=8), ChordSymbol(time=24, root='F', kind='m7', degrees=[], binary_xml=array([1, 0, 0, 1, 0, 0, 0, 1, 0, 0, 1, 0]), chord_symbol_xml='Fm7', chord_symbol_mir_eval='F:min7', binary_mir_eval=array([1, 0, 0, 1, 0, 0, 0, 1, 0, 0, 1, 0]), root_pc=5), ChordSymbol(time=24, root='Bb', kind='aug7', degrees=[], binary_xml=array([1, 0, 0, 0, 1, 0, 0, 0, 1, 0, 1, 0]), chord_symbol_xml='Bbaug7', chord_symbol_mir_eval='Bb:aug', binary_mir_eval=array([1, 0, 0, 0, 1, 0, 0, 0, 1, 0, 0, 0]), root_pc=10), ChordSymbol(time=48, root='C', kind='m', degrees=[], binary_xml=array([1, 0, 0, 1, 0, 0, 0, 1, 0, 0, 0, 0]), chord_symbol_xml='Cm', chord_symbol_mir_eval='C:min', binary_mir_eval=array([1, 0, 0, 1, 0, 0, 0, 1, 0, 0, 0, 0]), root_pc=0), ChordSymbol(time=54, root='Ab', kind='9', degrees=[], binary_xml=array([1, 0, 1, 0, 1, 0, 0, 1, 0, 0, 1, 0]), chord_symbol_xml='Ab9', chord_symbol_mir_eval='Ab:9', binary_mir_eval=array([1, 0, 1, 0, 1, 0, 0, 1, 0, 0, 1, 0]), root_pc=8), ChordSymbol(time=60, root='C', kind='m', degrees=[], binary_xml=array([1, 0, 0, 1, 0, 0, 0, 1, 0, 0, 0, 0]), chord_symbol_xml='Cm', chord_symbol_mir_eval='C:min', binary_mir_eval=array([1, 0, 0, 1, 0, 0, 0, 1, 0, 0, 0, 0]), root_pc=0), ChordSymbol(time=66, root='Ab', kind='7', degrees=[], binary_xml=array([1, 0, 0, 0, 1, 0, 0, 1, 0, 0, 1, 0]), chord_symbol_xml='Ab7', chord_symbol_mir_eval='Ab:7', binary_mir_eval=array([1, 0, 0, 0, 1, 0, 0, 1, 0, 0, 1, 0]), root_pc=8), ChordSymbol(time=72, root='C', kind='m', degrees=[], binary_xml=array([1, 0, 0, 1, 0, 0, 0, 1, 0, 0, 0, 0]), chord_symbol_xml='Cm', chord_symbol_mir_eval='C:min', binary_mir_eval=array([1, 0, 0, 1, 0, 0, 0, 1, 0, 0, 0, 0]), root_pc=0), ChordSymbol(time=72, root='Bb', kind='aug7', degrees=[], binary_xml=array([1, 0, 0, 0, 1, 0, 0, 0, 1, 0, 1, 0]), chord_symbol_xml='Bbaug7', chord_symbol_mir_eval='Bb:aug', binary_mir_eval=array([1, 0, 0, 0, 1, 0, 0, 0, 1, 0, 0, 0]), root_pc=10), ChordSymbol(time=84, root='F', kind='m6', degrees=[], binary_xml=array([1, 0, 0, 1, 0, 0, 0, 1, 0, 1, 0, 0]), chord_symbol_xml='Fm6', chord_symbol_mir_eval='F:min6', binary_mir_eval=array([1, 0, 0, 1, 0, 0, 0, 1, 0, 1, 0, 0]), root_pc=5), ChordSymbol(time=90, root='C', kind='m', degrees=[], binary_xml=array([1, 0, 0, 1, 0, 0, 0, 1, 0, 0, 0, 0]), chord_symbol_xml='Cm', chord_symbol_mir_eval='C:min', binary_mir_eval=array([1, 0, 0, 1, 0, 0, 0, 1, 0, 0, 0, 0]), root_pc=0), ChordSymbol(time=96, root='C', kind='7', degrees=[], binary_xml=array([1, 0, 0, 0, 1, 0, 0, 1, 0, 0, 1, 0]), chord_symbol_xml='C7', chord_symbol_mir_eval='C:7', binary_mir_eval=array([1, 0, 0, 0, 1, 0, 0, 1, 0, 0, 1, 0]), root_pc=0), ChordSymbol(time=108, root='F', kind='m', degrees=[], binary_xml=array([1, 0, 0, 1, 0, 0, 0, 1, 0, 0, 0, 0]), chord_symbol_xml='Fm', chord_symbol_mir_eval='F:min', binary_mir_eval=array([1, 0, 0, 1, 0, 0, 0, 1, 0, 0, 0, 0]), root_pc=5), ChordSymbol(time=120, root='Bb', kind='7', degrees=[], binary_xml=array([1, 0, 0, 0, 1, 0, 0, 1, 0, 0, 1, 0]), chord_symbol_xml='Bb7', chord_symbol_mir_eval='Bb:7', binary_mir_eval=array([1, 0, 0, 0, 1, 0, 0, 1, 0, 0, 1, 0]), root_pc=10), ChordSymbol(time=132, root='Eb', kind='', degrees=[], binary_xml=array([1, 0, 0, 0, 1, 0, 0, 1, 0, 0, 0, 0]), chord_symbol_xml='Eb', chord_symbol_mir_eval='Eb:maj', binary_mir_eval=array([1, 0, 0, 0, 1, 0, 0, 1, 0, 0, 0, 0]), root_pc=3), ChordSymbol(time=132, root='F', kind='m6', degrees=[], binary_xml=array([1, 0, 0, 1, 0, 0, 0, 1, 0, 1, 0, 0]), chord_symbol_xml='Fm6', chord_symbol_mir_eval='F:min6', binary_mir_eval=array([1, 0, 0, 1, 0, 0, 0, 1, 0, 1, 0, 0]), root_pc=5), ChordSymbol(time=138, root='C', kind='m', degrees=[], binary_xml=array([1, 0, 0, 1, 0, 0, 0, 1, 0, 0, 0, 0]), chord_symbol_xml='Cm', chord_symbol_mir_eval='C:min', binary_mir_eval=array([1, 0, 0, 1, 0, 0, 0, 1, 0, 0, 0, 0]), root_pc=0), ChordSymbol(time=144, root='C', kind='m', degrees=[], binary_xml=array([1, 0, 0, 1, 0, 0, 0, 1, 0, 0, 0, 0]), chord_symbol_xml='Cm', chord_symbol_mir_eval='C:min', binary_mir_eval=array([1, 0, 0, 1, 0, 0, 0, 1, 0, 0, 0, 0]), root_pc=0), ChordSymbol(time=150, root='Ab', kind='9', degrees=[], binary_xml=array([1, 0, 1, 0, 1, 0, 0, 1, 0, 0, 1, 0]), chord_symbol_xml='Ab9', chord_symbol_mir_eval='Ab:9', binary_mir_eval=array([1, 0, 1, 0, 1, 0, 0, 1, 0, 0, 1, 0]), root_pc=8), ChordSymbol(time=156, root='C', kind='m', degrees=[], binary_xml=array([1, 0, 0, 1, 0, 0, 0, 1, 0, 0, 0, 0]), chord_symbol_xml='Cm', chord_symbol_mir_eval='C:min', binary_mir_eval=array([1, 0, 0, 1, 0, 0, 0, 1, 0, 0, 0, 0]), root_pc=0), ChordSymbol(time=162, root='Ab', kind='9', degrees=[], binary_xml=array([1, 0, 1, 0, 1, 0, 0, 1, 0, 0, 1, 0]), chord_symbol_xml='Ab9', chord_symbol_mir_eval='Ab:9', binary_mir_eval=array([1, 0, 1, 0, 1, 0, 0, 1, 0, 0, 1, 0]), root_pc=8), ChordSymbol(time=168, root='F', kind='m7', degrees=[], binary_xml=array([1, 0, 0, 1, 0, 0, 0, 1, 0, 0, 1, 0]), chord_symbol_xml='Fm7', chord_symbol_mir_eval='F:min7', binary_mir_eval=array([1, 0, 0, 1, 0, 0, 0, 1, 0, 0, 1, 0]), root_pc=5), ChordSymbol(time=168, root='Bb', kind='aug7', degrees=[], binary_xml=array([1, 0, 0, 0, 1, 0, 0, 0, 1, 0, 1, 0]), chord_symbol_xml='Bbaug7', chord_symbol_mir_eval='Bb:aug', binary_mir_eval=array([1, 0, 0, 0, 1, 0, 0, 0, 1, 0, 0, 0]), root_pc=10), ChordSymbol(time=180, root='F', kind='m6', degrees=[], binary_xml=array([1, 0, 0, 1, 0, 0, 0, 1, 0, 1, 0, 0]), chord_symbol_xml='Fm6', chord_symbol_mir_eval='F:min6', binary_mir_eval=array([1, 0, 0, 1, 0, 0, 0, 1, 0, 1, 0, 0]), root_pc=5), ChordSymbol(time=180, root='G', kind='aug7', degrees=[], binary_xml=array([1, 0, 0, 0, 1, 0, 0, 0, 1, 0, 1, 0]), chord_symbol_xml='Gaug7', chord_symbol_mir_eval='G:aug', binary_mir_eval=array([1, 0, 0, 0, 1, 0, 0, 0, 1, 0, 0, 0]), root_pc=7), ChordSymbol(time=186, root='C', kind='m', degrees=[], binary_xml=array([1, 0, 0, 1, 0, 0, 0, 1, 0, 0, 0, 0]), chord_symbol_xml='Cm', chord_symbol_mir_eval='C:min', binary_mir_eval=array([1, 0, 0, 1, 0, 0, 0, 1, 0, 0, 0, 0]), root_pc=0), ChordSymbol(time=192, root='F', kind='m', degrees=[], binary_xml=array([1, 0, 0, 1, 0, 0, 0, 1, 0, 0, 0, 0]), chord_symbol_xml='Fm', chord_symbol_mir_eval='F:min', binary_mir_eval=array([1, 0, 0, 1, 0, 0, 0, 1, 0, 0, 0, 0]), root_pc=5), ChordSymbol(time=204, root='C', kind='m', degrees=[], binary_xml=array([1, 0, 0, 1, 0, 0, 0, 1, 0, 0, 0, 0]), chord_symbol_xml='Cm', chord_symbol_mir_eval='C:min', binary_mir_eval=array([1, 0, 0, 1, 0, 0, 0, 1, 0, 0, 0, 0]), root_pc=0)]\n",
      "0\n",
      "6\n",
      "12\n",
      "18\n",
      "24\n",
      "24\n",
      "48\n",
      "54\n",
      "60\n",
      "66\n",
      "72\n",
      "72\n",
      "84\n",
      "90\n",
      "96\n",
      "108\n",
      "120\n",
      "132\n",
      "132\n",
      "138\n",
      "144\n",
      "150\n",
      "156\n",
      "162\n",
      "168\n",
      "168\n",
      "180\n",
      "180\n",
      "186\n",
      "192\n",
      "204\n"
     ]
    }
   ],
   "source": [
    "# get harmony from first track\n",
    "harmony = piece.tracks[0].harmony\n",
    "print(harmony)\n",
    "for h in harmony:\n",
    "    print(h.time)"
   ]
  },
  {
   "cell_type": "code",
   "execution_count": null,
   "metadata": {},
   "outputs": [
    {
     "name": "stdout",
     "output_type": "stream",
     "text": [
      "['bar', 'position_0.0', 'C:min', 'position_0.0', 'Ab:9', 'position_0.0', 'C:min', 'position_0.0', 'Ab:9', 'position_0.0', 'F:min7', 'position_0.0', 'Bb:aug', 'position_0.0', 'C:min', 'position_0.0', 'Ab:9', 'position_0.0', 'C:min', 'position_0.0', 'Ab:7', 'position_0.0', 'C:min', 'position_0.0', 'Bb:aug', 'position_0.0', 'F:min6', 'position_0.0', 'C:min', 'position_0.0', 'C:7', 'position_0.0', 'F:min', 'position_0.0', 'Bb:7', 'position_0.0', 'Eb:maj', 'position_0.0', 'F:min6', 'position_0.0', 'C:min', 'position_0.0', 'C:min', 'position_0.0', 'Ab:9', 'position_0.0', 'C:min', 'position_0.0', 'Ab:9', 'position_0.0', 'F:min7', 'position_0.0', 'Bb:aug', 'position_0.0', 'F:min6', 'position_0.0', 'G:aug', 'position_0.0', 'C:min', 'position_0.0', 'F:min', 'position_0.0', 'C:min']\n"
     ]
    }
   ],
   "source": [
    "# adjust time in each chord symbol\n",
    "bar_idx = 0\n",
    "bar_time = barlines[bar_idx].time\n",
    "\n",
    "# in parallel, create tokens list\n",
    "harmony_tokens = ['bar']\n",
    "\n",
    "for h in harmony:\n",
    "    # check if chord time exceeds next bar time\n",
    "    if bar_idx < len(barlines):\n",
    "        while h.time >= barlines[bar_idx + 1].time:\n",
    "            bar_idx += 1\n",
    "            bar_time = barlines[bar_idx].time\n",
    "            harmony_tokens.append( 'bar' )\n",
    "    h.time -= bar_time # TODO: time to sub-resolution quanta equivalent\n",
    "    harmony_tokens.append( 'position_' + str(h.time/resolution) )\n",
    "    harmony_tokens.append( h.chord_symbol_mir_eval )"
   ]
  },
  {
   "cell_type": "code",
   "execution_count": null,
   "metadata": {},
   "outputs": [],
   "source": [
    "print(harmony_tokens)"
   ]
  }
 ],
 "metadata": {
  "kernelspec": {
   "display_name": "midi",
   "language": "python",
   "name": "python3"
  },
  "language_info": {
   "codemirror_mode": {
    "name": "ipython",
    "version": 3
   },
   "file_extension": ".py",
   "mimetype": "text/x-python",
   "name": "python",
   "nbconvert_exporter": "python",
   "pygments_lexer": "ipython3",
   "version": "3.11.5"
  }
 },
 "nbformat": 4,
 "nbformat_minor": 2
}
