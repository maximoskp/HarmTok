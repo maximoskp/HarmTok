{
 "cells": [
  {
   "cell_type": "code",
   "execution_count": null,
   "metadata": {},
   "outputs": [],
   "source": [
    "import muspy\n",
    "# TODO:\n",
    "# 1. in muspy, fix bass symbols in chord_symbol_xml\n",
    "# 2. find if there is a way to pass bass symbol to mir_eval information\n",
    "# 3. examine in muspy why this wikifonia piece presents double chords:\n",
    "# title=\"That's What Friends Are For\", \n",
    "# creators=[' Burt Bacharach and Carole Bayer Sager', ' Burt Bacharach and Carole Bayer Sager']"
   ]
  },
  {
   "cell_type": "code",
   "execution_count": 39,
   "metadata": {},
   "outputs": [
    {
     "name": "stdout",
     "output_type": "stream",
     "text": [
      "Skip downloading as the `.muspy.success` file is found.\n",
      "Skip extracting as the `.muspy.success` file is found.\n",
      "Music(metadata=Metadata(schema_version='0.2', title=\"That's What Friends Are For\", creators=[' Burt Bacharach and Carole Bayer Sager', ' Burt Bacharach and Carole Bayer Sager'], copyright='All Rights Reserved', source_filename=\" Burt Bacharach and Carole Bayer Sager - That's What Friends Are For.mxl\", source_format='musicxml'), resolution=12, tempos=[Tempo(time=0, qpm=60.0)], key_signatures=[KeySignature(time=0, root=3, mode='major', fifths=-3, root_str='Eb')], time_signatures=[TimeSignature(time=0, numerator=4, denominator=4), TimeSignature(time=384, numerator=2, denominator=4), TimeSignature(time=408, numerator=4, denominator=4), ...], barlines=[Barline(time=0), Barline(time=48), Barline(time=96), ...], beats=[Beat(time=0), Beat(time=12), Beat(time=24), ...], tracks=[Track(program=1, is_drum=False, name='Grand Piano', notes=[Note(time=0, pitch=70, duration=6, velocity=64, pitch_str='Bb4'), Note(time=6, pitch=74, duration=3, velocity=64, pitch_str='D5'), Note(time=9, pitch=75, duration=15, velocity=64, pitch_str='Eb5'), ...], lyrics=[Lyric(time=183, lyric='&'), Lyric(time=192, lyric='I'), Lyric(time=210, lyric='Ne -'), ...], harmony=[ChordSymbol(time=0, root='Eb', kind='maj9', degrees=[], binary_xml=array([1, 0, 1, 0, 1, 0, 0, 1, 0, 0, 0, 1]), chord_symbol_xml='Ebmaj9', chord_symbol_mir_eval='Eb:maj9', binary_mir_eval=array([1, 0, 1, 0, 1, 0, 0, 1, 0, 0, 0, 1]), root_pc=3), ChordSymbol(time=0, root='Eb', kind='', degrees=[], bass='D', binary_xml=array([1, 0, 0, 0, 1, 0, 0, 1, 0, 0, 0, 0]), chord_symbol_xml='EbD', chord_symbol_mir_eval='Eb:maj', binary_mir_eval=array([1, 0, 0, 0, 1, 0, 0, 1, 0, 0, 0, 0]), root_pc=3), ChordSymbol(time=48, root='Ab', kind='', degrees=[], bass='C', binary_xml=array([1, 0, 0, 0, 1, 0, 0, 1, 0, 0, 0, 0]), chord_symbol_xml='AbC', chord_symbol_mir_eval='Ab:maj', binary_mir_eval=array([1, 0, 0, 0, 1, 0, 0, 1, 0, 0, 0, 0]), root_pc=8), ...])])\n"
     ]
    }
   ],
   "source": [
    "w = muspy.WikifoniaDataset('data', download_and_extract=True)\n",
    "piece = w[1]\n",
    "print(piece)"
   ]
  },
  {
   "cell_type": "code",
   "execution_count": 40,
   "metadata": {},
   "outputs": [
    {
     "name": "stdout",
     "output_type": "stream",
     "text": [
      "12\n"
     ]
    }
   ],
   "source": [
    "resolution = piece.resolution\n",
    "barlines = piece.barlines\n",
    "print(resolution)"
   ]
  },
  {
   "cell_type": "code",
   "execution_count": 41,
   "metadata": {},
   "outputs": [
    {
     "name": "stdout",
     "output_type": "stream",
     "text": [
      "[Barline(time=0), Barline(time=48), Barline(time=96), Barline(time=144), Barline(time=192), Barline(time=240), Barline(time=288), Barline(time=336), Barline(time=384), Barline(time=408), Barline(time=456), Barline(time=504), Barline(time=552), Barline(time=600), Barline(time=648), Barline(time=696), Barline(time=744), Barline(time=792), Barline(time=840), Barline(time=888), Barline(time=936), Barline(time=984), Barline(time=1008), Barline(time=1056), Barline(time=1104), Barline(time=1152), Barline(time=1200), Barline(time=1248), Barline(time=1272), Barline(time=1320), Barline(time=1368), Barline(time=1416), Barline(time=1464), Barline(time=1512), Barline(time=1560), Barline(time=1608), Barline(time=1656), Barline(time=1704), Barline(time=1752), Barline(time=1800), Barline(time=1848), Barline(time=1872), Barline(time=1920), Barline(time=1968), Barline(time=2016), Barline(time=2064), Barline(time=2112), Barline(time=2160), Barline(time=2208), Barline(time=2256)]\n"
     ]
    }
   ],
   "source": [
    "print(barlines)"
   ]
  },
  {
   "cell_type": "code",
   "execution_count": 42,
   "metadata": {},
   "outputs": [
    {
     "name": "stdout",
     "output_type": "stream",
     "text": [
      "ChordSymbol(time=0, root='Eb', kind='maj9', degrees=[], binary_xml=array([1, 0, 1, 0, 1, 0, 0, 1, 0, 0, 0, 1]), chord_symbol_xml='Ebmaj9', chord_symbol_mir_eval='Eb:maj9', binary_mir_eval=array([1, 0, 1, 0, 1, 0, 0, 1, 0, 0, 0, 1]), root_pc=3)\n",
      "ChordSymbol(time=0, root='Eb', kind='', degrees=[], bass='D', binary_xml=array([1, 0, 0, 0, 1, 0, 0, 1, 0, 0, 0, 0]), chord_symbol_xml='EbD', chord_symbol_mir_eval='Eb:maj', binary_mir_eval=array([1, 0, 0, 0, 1, 0, 0, 1, 0, 0, 0, 0]), root_pc=3)\n",
      "ChordSymbol(time=48, root='Ab', kind='', degrees=[], bass='C', binary_xml=array([1, 0, 0, 0, 1, 0, 0, 1, 0, 0, 0, 0]), chord_symbol_xml='AbC', chord_symbol_mir_eval='Ab:maj', binary_mir_eval=array([1, 0, 0, 0, 1, 0, 0, 1, 0, 0, 0, 0]), root_pc=8)\n",
      "ChordSymbol(time=96, root='G', kind='m7', degrees=[], binary_xml=array([1, 0, 0, 1, 0, 0, 0, 1, 0, 0, 1, 0]), chord_symbol_xml='Gm7', chord_symbol_mir_eval='G:min7', binary_mir_eval=array([1, 0, 0, 1, 0, 0, 0, 1, 0, 0, 1, 0]), root_pc=7)\n",
      "ChordSymbol(time=96, root='C', kind='m7', degrees=[], binary_xml=array([1, 0, 0, 1, 0, 0, 0, 1, 0, 0, 1, 0]), chord_symbol_xml='Cm7', chord_symbol_mir_eval='C:min7', binary_mir_eval=array([1, 0, 0, 1, 0, 0, 0, 1, 0, 0, 1, 0]), root_pc=0)\n",
      "ChordSymbol(time=144, root='F', kind='m7', degrees=[], binary_xml=array([1, 0, 0, 1, 0, 0, 0, 1, 0, 0, 1, 0]), chord_symbol_xml='Fm7', chord_symbol_mir_eval='F:min7', binary_mir_eval=array([1, 0, 0, 1, 0, 0, 0, 1, 0, 0, 1, 0]), root_pc=5)\n",
      "ChordSymbol(time=144, root='Bb', kind='11', degrees=[], binary_xml=array([1, 0, 1, 0, 1, 1, 0, 1, 0, 0, 1, 0]), chord_symbol_xml='Bb11', chord_symbol_mir_eval='Bb:11', binary_mir_eval=array([1, 0, 1, 0, 1, 1, 0, 1, 0, 0, 1, 0]), root_pc=10)\n",
      "ChordSymbol(time=192, root='Eb', kind='maj9', degrees=[], binary_xml=array([1, 0, 1, 0, 1, 0, 0, 1, 0, 0, 0, 1]), chord_symbol_xml='Ebmaj9', chord_symbol_mir_eval='Eb:maj9', binary_mir_eval=array([1, 0, 1, 0, 1, 0, 0, 1, 0, 0, 0, 1]), root_pc=3)\n",
      "ChordSymbol(time=192, root='G', kind='m7', degrees=[], binary_xml=array([1, 0, 0, 1, 0, 0, 0, 1, 0, 0, 1, 0]), chord_symbol_xml='Gm7', chord_symbol_mir_eval='G:min7', binary_mir_eval=array([1, 0, 0, 1, 0, 0, 0, 1, 0, 0, 1, 0]), root_pc=7)\n",
      "ChordSymbol(time=192, root='C', kind='m7', degrees=[], binary_xml=array([1, 0, 0, 1, 0, 0, 0, 1, 0, 0, 1, 0]), chord_symbol_xml='Cm7', chord_symbol_mir_eval='C:min7', binary_mir_eval=array([1, 0, 0, 1, 0, 0, 0, 1, 0, 0, 1, 0]), root_pc=0)\n",
      "ChordSymbol(time=240, root='F', kind='m7', degrees=[], binary_xml=array([1, 0, 0, 1, 0, 0, 0, 1, 0, 0, 1, 0]), chord_symbol_xml='Fm7', chord_symbol_mir_eval='F:min7', binary_mir_eval=array([1, 0, 0, 1, 0, 0, 0, 1, 0, 0, 1, 0]), root_pc=5)\n",
      "ChordSymbol(time=288, root='G', kind='sus', degrees=['add7'], binary_xml=array([1, 0, 0, 0, 0, 1, 0, 1, 0, 0, 0, 0]), chord_symbol_xml='Gsusadd7', chord_symbol_mir_eval='G:sus4', binary_mir_eval=array([1, 0, 0, 0, 0, 1, 0, 1, 0, 0, 0, 0]), root_pc=7)\n",
      "ChordSymbol(time=288, root='G', kind='7', degrees=[], binary_xml=array([1, 0, 0, 0, 1, 0, 0, 1, 0, 0, 1, 0]), chord_symbol_xml='G7', chord_symbol_mir_eval='G:7', binary_mir_eval=array([1, 0, 0, 0, 1, 0, 0, 1, 0, 0, 1, 0]), root_pc=7)\n",
      "ChordSymbol(time=336, root='C', kind='m7', degrees=[], binary_xml=array([1, 0, 0, 1, 0, 0, 0, 1, 0, 0, 1, 0]), chord_symbol_xml='Cm7', chord_symbol_mir_eval='C:min7', binary_mir_eval=array([1, 0, 0, 1, 0, 0, 0, 1, 0, 0, 1, 0]), root_pc=0)\n",
      "ChordSymbol(time=336, root='Ab', kind='maj7', degrees=[], binary_xml=array([1, 0, 0, 0, 1, 0, 0, 1, 0, 0, 0, 1]), chord_symbol_xml='Abmaj7', chord_symbol_mir_eval='Ab:maj7', binary_mir_eval=array([1, 0, 0, 0, 1, 0, 0, 1, 0, 0, 0, 1]), root_pc=8)\n",
      "ChordSymbol(time=384, root='F', kind='m7', degrees=[], bass='Bb', binary_xml=array([1, 0, 0, 1, 0, 0, 0, 1, 0, 0, 1, 0]), chord_symbol_xml='Fm7Bb', chord_symbol_mir_eval='F:min7', binary_mir_eval=array([1, 0, 0, 1, 0, 0, 0, 1, 0, 0, 1, 0]), root_pc=5)\n",
      "ChordSymbol(time=408, root='Eb', kind='maj9', degrees=[], binary_xml=array([1, 0, 1, 0, 1, 0, 0, 1, 0, 0, 0, 1]), chord_symbol_xml='Ebmaj9', chord_symbol_mir_eval='Eb:maj9', binary_mir_eval=array([1, 0, 1, 0, 1, 0, 0, 1, 0, 0, 0, 1]), root_pc=3)\n",
      "ChordSymbol(time=408, root='G', kind='m7', degrees=[], binary_xml=array([1, 0, 0, 1, 0, 0, 0, 1, 0, 0, 1, 0]), chord_symbol_xml='Gm7', chord_symbol_mir_eval='G:min7', binary_mir_eval=array([1, 0, 0, 1, 0, 0, 0, 1, 0, 0, 1, 0]), root_pc=7)\n",
      "ChordSymbol(time=408, root='C', kind='m7', degrees=[], binary_xml=array([1, 0, 0, 1, 0, 0, 0, 1, 0, 0, 1, 0]), chord_symbol_xml='Cm7', chord_symbol_mir_eval='C:min7', binary_mir_eval=array([1, 0, 0, 1, 0, 0, 0, 1, 0, 0, 1, 0]), root_pc=0)\n",
      "ChordSymbol(time=456, root='F', kind='m7', degrees=[], binary_xml=array([1, 0, 0, 1, 0, 0, 0, 1, 0, 0, 1, 0]), chord_symbol_xml='Fm7', chord_symbol_mir_eval='F:min7', binary_mir_eval=array([1, 0, 0, 1, 0, 0, 0, 1, 0, 0, 1, 0]), root_pc=5)\n",
      "ChordSymbol(time=504, root='G', kind='sus', degrees=['add7'], binary_xml=array([1, 0, 0, 0, 0, 1, 0, 1, 0, 0, 0, 0]), chord_symbol_xml='Gsusadd7', chord_symbol_mir_eval='G:sus4', binary_mir_eval=array([1, 0, 0, 0, 0, 1, 0, 1, 0, 0, 0, 0]), root_pc=7)\n",
      "ChordSymbol(time=504, root='G', kind='7', degrees=[], binary_xml=array([1, 0, 0, 0, 1, 0, 0, 1, 0, 0, 1, 0]), chord_symbol_xml='G7', chord_symbol_mir_eval='G:7', binary_mir_eval=array([1, 0, 0, 0, 1, 0, 0, 1, 0, 0, 1, 0]), root_pc=7)\n",
      "ChordSymbol(time=552, root='C', kind='m7', degrees=[], binary_xml=array([1, 0, 0, 1, 0, 0, 0, 1, 0, 0, 1, 0]), chord_symbol_xml='Cm7', chord_symbol_mir_eval='C:min7', binary_mir_eval=array([1, 0, 0, 1, 0, 0, 0, 1, 0, 0, 1, 0]), root_pc=0)\n",
      "ChordSymbol(time=552, root='Ab', kind='maj7', degrees=[], binary_xml=array([1, 0, 0, 0, 1, 0, 0, 1, 0, 0, 0, 1]), chord_symbol_xml='Abmaj7', chord_symbol_mir_eval='Ab:maj7', binary_mir_eval=array([1, 0, 0, 0, 1, 0, 0, 1, 0, 0, 0, 1]), root_pc=8)\n",
      "ChordSymbol(time=600, root='F', kind='m7', degrees=[], bass='Bb', binary_xml=array([1, 0, 0, 1, 0, 0, 0, 1, 0, 0, 1, 0]), chord_symbol_xml='Fm7Bb', chord_symbol_mir_eval='F:min7', binary_mir_eval=array([1, 0, 0, 1, 0, 0, 0, 1, 0, 0, 1, 0]), root_pc=5)\n",
      "ChordSymbol(time=600, root='Bb', kind='11', degrees=[], binary_xml=array([1, 0, 1, 0, 1, 1, 0, 1, 0, 0, 1, 0]), chord_symbol_xml='Bb11', chord_symbol_mir_eval='Bb:11', binary_mir_eval=array([1, 0, 1, 0, 1, 1, 0, 1, 0, 0, 1, 0]), root_pc=10)\n",
      "ChordSymbol(time=648, root='Eb', kind='maj9', degrees=[], binary_xml=array([1, 0, 1, 0, 1, 0, 0, 1, 0, 0, 0, 1]), chord_symbol_xml='Ebmaj9', chord_symbol_mir_eval='Eb:maj9', binary_mir_eval=array([1, 0, 1, 0, 1, 0, 0, 1, 0, 0, 0, 1]), root_pc=3)\n",
      "ChordSymbol(time=648, root='Eb', kind='', degrees=[], bass='D', binary_xml=array([1, 0, 0, 0, 1, 0, 0, 1, 0, 0, 0, 0]), chord_symbol_xml='EbD', chord_symbol_mir_eval='Eb:maj', binary_mir_eval=array([1, 0, 0, 0, 1, 0, 0, 1, 0, 0, 0, 0]), root_pc=3)\n",
      "ChordSymbol(time=696, root='Ab', kind='maj7', degrees=[], bass='C', binary_xml=array([1, 0, 0, 0, 1, 0, 0, 1, 0, 0, 0, 1]), chord_symbol_xml='Abmaj7C', chord_symbol_mir_eval='Ab:maj7', binary_mir_eval=array([1, 0, 0, 0, 1, 0, 0, 1, 0, 0, 0, 1]), root_pc=8)\n",
      "ChordSymbol(time=696, root='Bb', kind='', degrees=[], bass='Ab', binary_xml=array([1, 0, 0, 0, 1, 0, 0, 1, 0, 0, 0, 0]), chord_symbol_xml='BbAb', chord_symbol_mir_eval='Bb:maj', binary_mir_eval=array([1, 0, 0, 0, 1, 0, 0, 1, 0, 0, 0, 0]), root_pc=10)\n",
      "ChordSymbol(time=744, root='G', kind='m7', degrees=[], binary_xml=array([1, 0, 0, 1, 0, 0, 0, 1, 0, 0, 1, 0]), chord_symbol_xml='Gm7', chord_symbol_mir_eval='G:min7', binary_mir_eval=array([1, 0, 0, 1, 0, 0, 0, 1, 0, 0, 1, 0]), root_pc=7)\n",
      "ChordSymbol(time=744, root='C', kind='m7', degrees=[], binary_xml=array([1, 0, 0, 1, 0, 0, 0, 1, 0, 0, 1, 0]), chord_symbol_xml='Cm7', chord_symbol_mir_eval='C:min7', binary_mir_eval=array([1, 0, 0, 1, 0, 0, 0, 1, 0, 0, 1, 0]), root_pc=0)\n",
      "ChordSymbol(time=792, root='Ab', kind='maj7', degrees=[], binary_xml=array([1, 0, 0, 0, 1, 0, 0, 1, 0, 0, 0, 1]), chord_symbol_xml='Abmaj7', chord_symbol_mir_eval='Ab:maj7', binary_mir_eval=array([1, 0, 0, 0, 1, 0, 0, 1, 0, 0, 0, 1]), root_pc=8)\n",
      "ChordSymbol(time=792, root='F', kind='m7', degrees=[], bass='Bb', binary_xml=array([1, 0, 0, 1, 0, 0, 0, 1, 0, 0, 1, 0]), chord_symbol_xml='Fm7Bb', chord_symbol_mir_eval='F:min7', binary_mir_eval=array([1, 0, 0, 1, 0, 0, 0, 1, 0, 0, 1, 0]), root_pc=5)\n",
      "ChordSymbol(time=792, root='Bb', kind='9', degrees=[], binary_xml=array([1, 0, 1, 0, 1, 0, 0, 1, 0, 0, 1, 0]), chord_symbol_xml='Bb9', chord_symbol_mir_eval='Bb:9', binary_mir_eval=array([1, 0, 1, 0, 1, 0, 0, 1, 0, 0, 1, 0]), root_pc=10)\n",
      "ChordSymbol(time=840, root='Eb', kind='maj9', degrees=[], binary_xml=array([1, 0, 1, 0, 1, 0, 0, 1, 0, 0, 0, 1]), chord_symbol_xml='Ebmaj9', chord_symbol_mir_eval='Eb:maj9', binary_mir_eval=array([1, 0, 1, 0, 1, 0, 0, 1, 0, 0, 0, 1]), root_pc=3)\n",
      "ChordSymbol(time=840, root='Eb', kind='', degrees=[], bass='D', binary_xml=array([1, 0, 0, 0, 1, 0, 0, 1, 0, 0, 0, 0]), chord_symbol_xml='EbD', chord_symbol_mir_eval='Eb:maj', binary_mir_eval=array([1, 0, 0, 0, 1, 0, 0, 1, 0, 0, 0, 0]), root_pc=3)\n",
      "ChordSymbol(time=888, root='Db', kind='6', degrees=[], binary_xml=array([1, 0, 0, 0, 1, 0, 0, 1, 0, 1, 0, 0]), chord_symbol_xml='Db6', chord_symbol_mir_eval='Db:maj6', binary_mir_eval=array([1, 0, 0, 0, 1, 0, 0, 1, 0, 1, 0, 0]), root_pc=1)\n",
      "ChordSymbol(time=888, root='C', kind='sus', degrees=['add7'], binary_xml=array([1, 0, 0, 0, 0, 1, 0, 1, 0, 0, 0, 0]), chord_symbol_xml='Csusadd7', chord_symbol_mir_eval='C:sus4', binary_mir_eval=array([1, 0, 0, 0, 0, 1, 0, 1, 0, 0, 0, 0]), root_pc=0)\n",
      "ChordSymbol(time=888, root='C', kind='7', degrees=[], binary_xml=array([1, 0, 0, 0, 1, 0, 0, 1, 0, 0, 1, 0]), chord_symbol_xml='C7', chord_symbol_mir_eval='C:7', binary_mir_eval=array([1, 0, 0, 0, 1, 0, 0, 1, 0, 0, 1, 0]), root_pc=0)\n",
      "ChordSymbol(time=936, root='Ab', kind='m6', degrees=[], bass='Cb', binary_xml=array([1, 0, 0, 1, 0, 0, 0, 1, 0, 1, 0, 0]), chord_symbol_xml='Abm6Cb', chord_symbol_mir_eval='Ab:min6', binary_mir_eval=array([1, 0, 0, 1, 0, 0, 0, 1, 0, 1, 0, 0]), root_pc=8)\n",
      "ChordSymbol(time=984, root='Bb', kind='sus', degrees=['add7'], binary_xml=array([1, 0, 0, 0, 0, 1, 0, 1, 0, 0, 0, 0]), chord_symbol_xml='Bbsusadd7', chord_symbol_mir_eval='Bb:sus4', binary_mir_eval=array([1, 0, 0, 0, 0, 1, 0, 1, 0, 0, 0, 0]), root_pc=10)\n",
      "ChordSymbol(time=1056, root='Eb', kind='maj9', degrees=[], binary_xml=array([1, 0, 1, 0, 1, 0, 0, 1, 0, 0, 0, 1]), chord_symbol_xml='Ebmaj9', chord_symbol_mir_eval='Eb:maj9', binary_mir_eval=array([1, 0, 1, 0, 1, 0, 0, 1, 0, 0, 0, 1]), root_pc=3)\n",
      "ChordSymbol(time=1056, root='G', kind='m7', degrees=[], binary_xml=array([1, 0, 0, 1, 0, 0, 0, 1, 0, 0, 1, 0]), chord_symbol_xml='Gm7', chord_symbol_mir_eval='G:min7', binary_mir_eval=array([1, 0, 0, 1, 0, 0, 0, 1, 0, 0, 1, 0]), root_pc=7)\n",
      "ChordSymbol(time=1056, root='C', kind='m7', degrees=[], binary_xml=array([1, 0, 0, 1, 0, 0, 0, 1, 0, 0, 1, 0]), chord_symbol_xml='Cm7', chord_symbol_mir_eval='C:min7', binary_mir_eval=array([1, 0, 0, 1, 0, 0, 0, 1, 0, 0, 1, 0]), root_pc=0)\n",
      "ChordSymbol(time=1104, root='F', kind='m7', degrees=[], binary_xml=array([1, 0, 0, 1, 0, 0, 0, 1, 0, 0, 1, 0]), chord_symbol_xml='Fm7', chord_symbol_mir_eval='F:min7', binary_mir_eval=array([1, 0, 0, 1, 0, 0, 0, 1, 0, 0, 1, 0]), root_pc=5)\n",
      "ChordSymbol(time=1152, root='G', kind='sus', degrees=['add7'], binary_xml=array([1, 0, 0, 0, 0, 1, 0, 1, 0, 0, 0, 0]), chord_symbol_xml='Gsusadd7', chord_symbol_mir_eval='G:sus4', binary_mir_eval=array([1, 0, 0, 0, 0, 1, 0, 1, 0, 0, 0, 0]), root_pc=7)\n",
      "ChordSymbol(time=1152, root='G', kind='7', degrees=[], binary_xml=array([1, 0, 0, 0, 1, 0, 0, 1, 0, 0, 1, 0]), chord_symbol_xml='G7', chord_symbol_mir_eval='G:7', binary_mir_eval=array([1, 0, 0, 0, 1, 0, 0, 1, 0, 0, 1, 0]), root_pc=7)\n",
      "ChordSymbol(time=1200, root='C', kind='m7', degrees=[], binary_xml=array([1, 0, 0, 1, 0, 0, 0, 1, 0, 0, 1, 0]), chord_symbol_xml='Cm7', chord_symbol_mir_eval='C:min7', binary_mir_eval=array([1, 0, 0, 1, 0, 0, 0, 1, 0, 0, 1, 0]), root_pc=0)\n",
      "ChordSymbol(time=1200, root='Ab', kind='maj7', degrees=[], binary_xml=array([1, 0, 0, 0, 1, 0, 0, 1, 0, 0, 0, 1]), chord_symbol_xml='Abmaj7', chord_symbol_mir_eval='Ab:maj7', binary_mir_eval=array([1, 0, 0, 0, 1, 0, 0, 1, 0, 0, 0, 1]), root_pc=8)\n",
      "ChordSymbol(time=1248, root='F', kind='m7', degrees=[], bass='Bb', binary_xml=array([1, 0, 0, 1, 0, 0, 0, 1, 0, 0, 1, 0]), chord_symbol_xml='Fm7Bb', chord_symbol_mir_eval='F:min7', binary_mir_eval=array([1, 0, 0, 1, 0, 0, 0, 1, 0, 0, 1, 0]), root_pc=5)\n",
      "ChordSymbol(time=1272, root='Eb', kind='maj9', degrees=[], binary_xml=array([1, 0, 1, 0, 1, 0, 0, 1, 0, 0, 0, 1]), chord_symbol_xml='Ebmaj9', chord_symbol_mir_eval='Eb:maj9', binary_mir_eval=array([1, 0, 1, 0, 1, 0, 0, 1, 0, 0, 0, 1]), root_pc=3)\n",
      "ChordSymbol(time=1272, root='G', kind='m7', degrees=[], binary_xml=array([1, 0, 0, 1, 0, 0, 0, 1, 0, 0, 1, 0]), chord_symbol_xml='Gm7', chord_symbol_mir_eval='G:min7', binary_mir_eval=array([1, 0, 0, 1, 0, 0, 0, 1, 0, 0, 1, 0]), root_pc=7)\n",
      "ChordSymbol(time=1272, root='C', kind='m7', degrees=[], binary_xml=array([1, 0, 0, 1, 0, 0, 0, 1, 0, 0, 1, 0]), chord_symbol_xml='Cm7', chord_symbol_mir_eval='C:min7', binary_mir_eval=array([1, 0, 0, 1, 0, 0, 0, 1, 0, 0, 1, 0]), root_pc=0)\n",
      "ChordSymbol(time=1320, root='F', kind='m7', degrees=[], binary_xml=array([1, 0, 0, 1, 0, 0, 0, 1, 0, 0, 1, 0]), chord_symbol_xml='Fm7', chord_symbol_mir_eval='F:min7', binary_mir_eval=array([1, 0, 0, 1, 0, 0, 0, 1, 0, 0, 1, 0]), root_pc=5)\n",
      "ChordSymbol(time=1368, root='G', kind='sus', degrees=['add7'], binary_xml=array([1, 0, 0, 0, 0, 1, 0, 1, 0, 0, 0, 0]), chord_symbol_xml='Gsusadd7', chord_symbol_mir_eval='G:sus4', binary_mir_eval=array([1, 0, 0, 0, 0, 1, 0, 1, 0, 0, 0, 0]), root_pc=7)\n",
      "ChordSymbol(time=1368, root='G', kind='7', degrees=[], binary_xml=array([1, 0, 0, 0, 1, 0, 0, 1, 0, 0, 1, 0]), chord_symbol_xml='G7', chord_symbol_mir_eval='G:7', binary_mir_eval=array([1, 0, 0, 0, 1, 0, 0, 1, 0, 0, 1, 0]), root_pc=7)\n",
      "ChordSymbol(time=1416, root='C', kind='m7', degrees=[], binary_xml=array([1, 0, 0, 1, 0, 0, 0, 1, 0, 0, 1, 0]), chord_symbol_xml='Cm7', chord_symbol_mir_eval='C:min7', binary_mir_eval=array([1, 0, 0, 1, 0, 0, 0, 1, 0, 0, 1, 0]), root_pc=0)\n",
      "ChordSymbol(time=1416, root='Ab', kind='maj7', degrees=[], binary_xml=array([1, 0, 0, 0, 1, 0, 0, 1, 0, 0, 0, 1]), chord_symbol_xml='Abmaj7', chord_symbol_mir_eval='Ab:maj7', binary_mir_eval=array([1, 0, 0, 0, 1, 0, 0, 1, 0, 0, 0, 1]), root_pc=8)\n",
      "ChordSymbol(time=1464, root='F', kind='m7', degrees=[], bass='Bb', binary_xml=array([1, 0, 0, 1, 0, 0, 0, 1, 0, 0, 1, 0]), chord_symbol_xml='Fm7Bb', chord_symbol_mir_eval='F:min7', binary_mir_eval=array([1, 0, 0, 1, 0, 0, 0, 1, 0, 0, 1, 0]), root_pc=5)\n",
      "ChordSymbol(time=1464, root='Bb', kind='11', degrees=[], binary_xml=array([1, 0, 1, 0, 1, 1, 0, 1, 0, 0, 1, 0]), chord_symbol_xml='Bb11', chord_symbol_mir_eval='Bb:11', binary_mir_eval=array([1, 0, 1, 0, 1, 1, 0, 1, 0, 0, 1, 0]), root_pc=10)\n",
      "ChordSymbol(time=1512, root='Eb', kind='maj9', degrees=[], binary_xml=array([1, 0, 1, 0, 1, 0, 0, 1, 0, 0, 0, 1]), chord_symbol_xml='Ebmaj9', chord_symbol_mir_eval='Eb:maj9', binary_mir_eval=array([1, 0, 1, 0, 1, 0, 0, 1, 0, 0, 0, 1]), root_pc=3)\n",
      "ChordSymbol(time=1512, root='Eb', kind='', degrees=[], bass='D', binary_xml=array([1, 0, 0, 0, 1, 0, 0, 1, 0, 0, 0, 0]), chord_symbol_xml='EbD', chord_symbol_mir_eval='Eb:maj', binary_mir_eval=array([1, 0, 0, 0, 1, 0, 0, 1, 0, 0, 0, 0]), root_pc=3)\n",
      "ChordSymbol(time=1560, root='Ab', kind='maj7', degrees=[], bass='C', binary_xml=array([1, 0, 0, 0, 1, 0, 0, 1, 0, 0, 0, 1]), chord_symbol_xml='Abmaj7C', chord_symbol_mir_eval='Ab:maj7', binary_mir_eval=array([1, 0, 0, 0, 1, 0, 0, 1, 0, 0, 0, 1]), root_pc=8)\n",
      "ChordSymbol(time=1560, root='Bb', kind='', degrees=[], bass='Ab', binary_xml=array([1, 0, 0, 0, 1, 0, 0, 1, 0, 0, 0, 0]), chord_symbol_xml='BbAb', chord_symbol_mir_eval='Bb:maj', binary_mir_eval=array([1, 0, 0, 0, 1, 0, 0, 1, 0, 0, 0, 0]), root_pc=10)\n",
      "ChordSymbol(time=1608, root='G', kind='m7', degrees=[], binary_xml=array([1, 0, 0, 1, 0, 0, 0, 1, 0, 0, 1, 0]), chord_symbol_xml='Gm7', chord_symbol_mir_eval='G:min7', binary_mir_eval=array([1, 0, 0, 1, 0, 0, 0, 1, 0, 0, 1, 0]), root_pc=7)\n",
      "ChordSymbol(time=1608, root='C', kind='m7', degrees=[], binary_xml=array([1, 0, 0, 1, 0, 0, 0, 1, 0, 0, 1, 0]), chord_symbol_xml='Cm7', chord_symbol_mir_eval='C:min7', binary_mir_eval=array([1, 0, 0, 1, 0, 0, 0, 1, 0, 0, 1, 0]), root_pc=0)\n",
      "ChordSymbol(time=1656, root='Ab', kind='maj7', degrees=[], binary_xml=array([1, 0, 0, 0, 1, 0, 0, 1, 0, 0, 0, 1]), chord_symbol_xml='Abmaj7', chord_symbol_mir_eval='Ab:maj7', binary_mir_eval=array([1, 0, 0, 0, 1, 0, 0, 1, 0, 0, 0, 1]), root_pc=8)\n",
      "ChordSymbol(time=1656, root='F', kind='m7', degrees=[], bass='Bb', binary_xml=array([1, 0, 0, 1, 0, 0, 0, 1, 0, 0, 1, 0]), chord_symbol_xml='Fm7Bb', chord_symbol_mir_eval='F:min7', binary_mir_eval=array([1, 0, 0, 1, 0, 0, 0, 1, 0, 0, 1, 0]), root_pc=5)\n",
      "ChordSymbol(time=1656, root='Bb', kind='9', degrees=[], binary_xml=array([1, 0, 1, 0, 1, 0, 0, 1, 0, 0, 1, 0]), chord_symbol_xml='Bb9', chord_symbol_mir_eval='Bb:9', binary_mir_eval=array([1, 0, 1, 0, 1, 0, 0, 1, 0, 0, 1, 0]), root_pc=10)\n",
      "ChordSymbol(time=1704, root='Eb', kind='maj9', degrees=[], binary_xml=array([1, 0, 1, 0, 1, 0, 0, 1, 0, 0, 0, 1]), chord_symbol_xml='Ebmaj9', chord_symbol_mir_eval='Eb:maj9', binary_mir_eval=array([1, 0, 1, 0, 1, 0, 0, 1, 0, 0, 0, 1]), root_pc=3)\n",
      "ChordSymbol(time=1704, root='Eb', kind='', degrees=[], bass='D', binary_xml=array([1, 0, 0, 0, 1, 0, 0, 1, 0, 0, 0, 0]), chord_symbol_xml='EbD', chord_symbol_mir_eval='Eb:maj', binary_mir_eval=array([1, 0, 0, 0, 1, 0, 0, 1, 0, 0, 0, 0]), root_pc=3)\n",
      "ChordSymbol(time=1752, root='Db', kind='6', degrees=[], binary_xml=array([1, 0, 0, 0, 1, 0, 0, 1, 0, 1, 0, 0]), chord_symbol_xml='Db6', chord_symbol_mir_eval='Db:maj6', binary_mir_eval=array([1, 0, 0, 0, 1, 0, 0, 1, 0, 1, 0, 0]), root_pc=1)\n",
      "ChordSymbol(time=1752, root='C', kind='sus', degrees=['add7'], binary_xml=array([1, 0, 0, 0, 0, 1, 0, 1, 0, 0, 0, 0]), chord_symbol_xml='Csusadd7', chord_symbol_mir_eval='C:sus4', binary_mir_eval=array([1, 0, 0, 0, 0, 1, 0, 1, 0, 0, 0, 0]), root_pc=0)\n",
      "ChordSymbol(time=1752, root='C', kind='7', degrees=[], binary_xml=array([1, 0, 0, 0, 1, 0, 0, 1, 0, 0, 1, 0]), chord_symbol_xml='C7', chord_symbol_mir_eval='C:7', binary_mir_eval=array([1, 0, 0, 0, 1, 0, 0, 1, 0, 0, 1, 0]), root_pc=0)\n",
      "ChordSymbol(time=1800, root='Ab', kind='m6', degrees=[], bass='Cb', binary_xml=array([1, 0, 0, 1, 0, 0, 0, 1, 0, 1, 0, 0]), chord_symbol_xml='Abm6Cb', chord_symbol_mir_eval='Ab:min6', binary_mir_eval=array([1, 0, 0, 1, 0, 0, 0, 1, 0, 1, 0, 0]), root_pc=8)\n",
      "ChordSymbol(time=1848, root='Bb', kind='sus', degrees=['add7'], binary_xml=array([1, 0, 0, 0, 0, 1, 0, 1, 0, 0, 0, 0]), chord_symbol_xml='Bbsusadd7', chord_symbol_mir_eval='Bb:sus4', binary_mir_eval=array([1, 0, 0, 0, 0, 1, 0, 1, 0, 0, 0, 0]), root_pc=10)\n",
      "ChordSymbol(time=1920, root='Eb', kind='maj9', degrees=[], binary_xml=array([1, 0, 1, 0, 1, 0, 0, 1, 0, 0, 0, 1]), chord_symbol_xml='Ebmaj9', chord_symbol_mir_eval='Eb:maj9', binary_mir_eval=array([1, 0, 1, 0, 1, 0, 0, 1, 0, 0, 0, 1]), root_pc=3)\n",
      "ChordSymbol(time=1920, root='Eb', kind='', degrees=[], bass='D', binary_xml=array([1, 0, 0, 0, 1, 0, 0, 1, 0, 0, 0, 0]), chord_symbol_xml='EbD', chord_symbol_mir_eval='Eb:maj', binary_mir_eval=array([1, 0, 0, 0, 1, 0, 0, 1, 0, 0, 0, 0]), root_pc=3)\n",
      "ChordSymbol(time=1968, root='Ab', kind='', degrees=[], bass='C', binary_xml=array([1, 0, 0, 0, 1, 0, 0, 1, 0, 0, 0, 0]), chord_symbol_xml='AbC', chord_symbol_mir_eval='Ab:maj', binary_mir_eval=array([1, 0, 0, 0, 1, 0, 0, 1, 0, 0, 0, 0]), root_pc=8)\n",
      "ChordSymbol(time=2016, root='G', kind='m7', degrees=[], binary_xml=array([1, 0, 0, 1, 0, 0, 0, 1, 0, 0, 1, 0]), chord_symbol_xml='Gm7', chord_symbol_mir_eval='G:min7', binary_mir_eval=array([1, 0, 0, 1, 0, 0, 0, 1, 0, 0, 1, 0]), root_pc=7)\n",
      "ChordSymbol(time=2016, root='C', kind='m7', degrees=[], binary_xml=array([1, 0, 0, 1, 0, 0, 0, 1, 0, 0, 1, 0]), chord_symbol_xml='Cm7', chord_symbol_mir_eval='C:min7', binary_mir_eval=array([1, 0, 0, 1, 0, 0, 0, 1, 0, 0, 1, 0]), root_pc=0)\n",
      "ChordSymbol(time=2064, root='F', kind='m7', degrees=[], binary_xml=array([1, 0, 0, 1, 0, 0, 0, 1, 0, 0, 1, 0]), chord_symbol_xml='Fm7', chord_symbol_mir_eval='F:min7', binary_mir_eval=array([1, 0, 0, 1, 0, 0, 0, 1, 0, 0, 1, 0]), root_pc=5)\n",
      "ChordSymbol(time=2064, root='Bb', kind='11', degrees=[], binary_xml=array([1, 0, 1, 0, 1, 1, 0, 1, 0, 0, 1, 0]), chord_symbol_xml='Bb11', chord_symbol_mir_eval='Bb:11', binary_mir_eval=array([1, 0, 1, 0, 1, 1, 0, 1, 0, 0, 1, 0]), root_pc=10)\n",
      "ChordSymbol(time=2112, root='Eb', kind='maj9', degrees=[], binary_xml=array([1, 0, 1, 0, 1, 0, 0, 1, 0, 0, 0, 1]), chord_symbol_xml='Ebmaj9', chord_symbol_mir_eval='Eb:maj9', binary_mir_eval=array([1, 0, 1, 0, 1, 0, 0, 1, 0, 0, 0, 1]), root_pc=3)\n",
      "ChordSymbol(time=2112, root='Eb', kind='', degrees=[], bass='D', binary_xml=array([1, 0, 0, 0, 1, 0, 0, 1, 0, 0, 0, 0]), chord_symbol_xml='EbD', chord_symbol_mir_eval='Eb:maj', binary_mir_eval=array([1, 0, 0, 0, 1, 0, 0, 1, 0, 0, 0, 0]), root_pc=3)\n",
      "ChordSymbol(time=2160, root='Ab', kind='', degrees=[], bass='C', binary_xml=array([1, 0, 0, 0, 1, 0, 0, 1, 0, 0, 0, 0]), chord_symbol_xml='AbC', chord_symbol_mir_eval='Ab:maj', binary_mir_eval=array([1, 0, 0, 0, 1, 0, 0, 1, 0, 0, 0, 0]), root_pc=8)\n",
      "ChordSymbol(time=2208, root='G', kind='m7', degrees=[], binary_xml=array([1, 0, 0, 1, 0, 0, 0, 1, 0, 0, 1, 0]), chord_symbol_xml='Gm7', chord_symbol_mir_eval='G:min7', binary_mir_eval=array([1, 0, 0, 1, 0, 0, 0, 1, 0, 0, 1, 0]), root_pc=7)\n",
      "ChordSymbol(time=2208, root='C', kind='m7', degrees=[], binary_xml=array([1, 0, 0, 1, 0, 0, 0, 1, 0, 0, 1, 0]), chord_symbol_xml='Cm7', chord_symbol_mir_eval='C:min7', binary_mir_eval=array([1, 0, 0, 1, 0, 0, 0, 1, 0, 0, 1, 0]), root_pc=0)\n",
      "ChordSymbol(time=2256, root='F', kind='m7', degrees=[], binary_xml=array([1, 0, 0, 1, 0, 0, 0, 1, 0, 0, 1, 0]), chord_symbol_xml='Fm7', chord_symbol_mir_eval='F:min7', binary_mir_eval=array([1, 0, 0, 1, 0, 0, 0, 1, 0, 0, 1, 0]), root_pc=5)\n",
      "ChordSymbol(time=2256, root='Bb', kind='11', degrees=[], binary_xml=array([1, 0, 1, 0, 1, 1, 0, 1, 0, 0, 1, 0]), chord_symbol_xml='Bb11', chord_symbol_mir_eval='Bb:11', binary_mir_eval=array([1, 0, 1, 0, 1, 1, 0, 1, 0, 0, 1, 0]), root_pc=10)\n"
     ]
    }
   ],
   "source": [
    "# get harmony from first track\n",
    "harmony = piece.tracks[0].harmony\n",
    "for h in harmony:\n",
    "    print(h)"
   ]
  },
  {
   "cell_type": "code",
   "execution_count": 43,
   "metadata": {},
   "outputs": [
    {
     "ename": "IndexError",
     "evalue": "list index out of range",
     "output_type": "error",
     "traceback": [
      "\u001b[0;31m---------------------------------------------------------------------------\u001b[0m",
      "\u001b[0;31mIndexError\u001b[0m                                Traceback (most recent call last)",
      "Cell \u001b[0;32mIn[43], line 11\u001b[0m\n\u001b[1;32m      8\u001b[0m \u001b[38;5;28;01mfor\u001b[39;00m h \u001b[38;5;129;01min\u001b[39;00m harmony:\n\u001b[1;32m      9\u001b[0m     \u001b[38;5;66;03m# check if chord time exceeds next bar time\u001b[39;00m\n\u001b[1;32m     10\u001b[0m     \u001b[38;5;28;01mif\u001b[39;00m bar_idx \u001b[38;5;241m<\u001b[39m \u001b[38;5;28mlen\u001b[39m(barlines):\n\u001b[0;32m---> 11\u001b[0m         \u001b[38;5;28;01mwhile\u001b[39;00m h\u001b[38;5;241m.\u001b[39mtime \u001b[38;5;241m>\u001b[39m\u001b[38;5;241m=\u001b[39m \u001b[43mbarlines\u001b[49m\u001b[43m[\u001b[49m\u001b[43mbar_idx\u001b[49m\u001b[43m \u001b[49m\u001b[38;5;241;43m+\u001b[39;49m\u001b[43m \u001b[49m\u001b[38;5;241;43m1\u001b[39;49m\u001b[43m]\u001b[49m\u001b[38;5;241m.\u001b[39mtime:\n\u001b[1;32m     12\u001b[0m             bar_idx \u001b[38;5;241m+\u001b[39m\u001b[38;5;241m=\u001b[39m \u001b[38;5;241m1\u001b[39m\n\u001b[1;32m     13\u001b[0m             bar_time \u001b[38;5;241m=\u001b[39m barlines[bar_idx]\u001b[38;5;241m.\u001b[39mtime\n",
      "\u001b[0;31mIndexError\u001b[0m: list index out of range"
     ]
    }
   ],
   "source": [
    "# adjust time in each chord symbol\n",
    "bar_idx = 0\n",
    "bar_time = barlines[bar_idx].time\n",
    "\n",
    "# in parallel, create tokens list\n",
    "harmony_tokens = ['bar']\n",
    "\n",
    "for h in harmony:\n",
    "    # check if chord time exceeds next bar time\n",
    "    if bar_idx < len(barlines):\n",
    "        while h.time >= barlines[bar_idx + 1].time:\n",
    "            bar_idx += 1\n",
    "            bar_time = barlines[bar_idx].time\n",
    "            harmony_tokens.append( 'bar' )\n",
    "    tmp_time = h.time - bar_time # TODO: time to sub-resolution quanta equivalent\n",
    "    harmony_tokens.append( 'position_' + str(tmp_time/resolution) )\n",
    "    harmony_tokens.append( h.chord_symbol_mir_eval )"
   ]
  },
  {
   "cell_type": "code",
   "execution_count": null,
   "metadata": {},
   "outputs": [],
   "source": [
    "print(harmony_tokens)"
   ]
  }
 ],
 "metadata": {
  "kernelspec": {
   "display_name": "midi",
   "language": "python",
   "name": "python3"
  },
  "language_info": {
   "codemirror_mode": {
    "name": "ipython",
    "version": 3
   },
   "file_extension": ".py",
   "mimetype": "text/x-python",
   "name": "python",
   "nbconvert_exporter": "python",
   "pygments_lexer": "ipython3",
   "version": "3.11.5"
  }
 },
 "nbformat": 4,
 "nbformat_minor": 2
}
