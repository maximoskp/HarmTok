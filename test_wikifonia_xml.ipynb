{
 "cells": [
  {
   "cell_type": "code",
   "execution_count": null,
   "metadata": {},
   "outputs": [],
   "source": [
    "import muspy\n",
    "# TODO:\n",
    "# 1. Fractional time to 4ths, 8ths (should be more than enough for harmony)"
   ]
  },
  {
   "cell_type": "code",
   "execution_count": 33,
   "metadata": {},
   "outputs": [
    {
     "name": "stdout",
     "output_type": "stream",
     "text": [
      "Skip downloading as the `.muspy.success` file is found.\n",
      "Skip extracting as the `.muspy.success` file is found.\n",
      "Music(metadata=Metadata(schema_version='0.2', title=\"That's What Friends Are For\", creators=[' Burt Bacharach and Carole Bayer Sager', ' Burt Bacharach and Carole Bayer Sager'], copyright='All Rights Reserved', source_filename=\" Burt Bacharach and Carole Bayer Sager - That's What Friends Are For.mxl\", source_format='musicxml'), resolution=12, tempos=[Tempo(time=0, qpm=60.0)], key_signatures=[KeySignature(time=0, root=3, mode='major', fifths=-3, root_str='Eb')], time_signatures=[TimeSignature(time=0, numerator=4, denominator=4), TimeSignature(time=384, numerator=2, denominator=4), TimeSignature(time=408, numerator=4, denominator=4), ...], barlines=[Barline(time=0), Barline(time=48), Barline(time=96), ...], beats=[Beat(time=0), Beat(time=12), Beat(time=24), ...], tracks=[Track(program=1, is_drum=False, name='Grand Piano', notes=[Note(time=0, pitch=70, duration=6, velocity=64, pitch_str='Bb4'), Note(time=6, pitch=74, duration=3, velocity=64, pitch_str='D5'), Note(time=9, pitch=75, duration=15, velocity=64, pitch_str='Eb5'), ...], lyrics=[Lyric(time=183, lyric='&'), Lyric(time=192, lyric='I'), Lyric(time=210, lyric='Ne -'), ...], harmony=[ChordSymbol(time=0, root='Eb', kind='maj9', degrees=[], binary_xml=array([1, 0, 1, 0, 1, 0, 0, 1, 0, 0, 0, 1]), chord_symbol_xml='Ebmaj9', chord_symbol_mir_eval='Eb:maj9', binary_mir_eval=array([1, 0, 1, 0, 1, 0, 0, 1, 0, 0, 0, 1]), root_pc=3), ChordSymbol(time=24, root='Eb', kind='', degrees=[], bass='D', binary_xml=array([1, 0, 0, 0, 1, 0, 0, 1, 0, 0, 0, 0]), chord_symbol_xml='Eb/D', chord_symbol_mir_eval='Eb:maj', binary_mir_eval=array([1, 0, 0, 0, 1, 0, 0, 1, 0, 0, 0, 0]), root_pc=3), ChordSymbol(time=48, root='Ab', kind='', degrees=[], bass='C', binary_xml=array([1, 0, 0, 0, 1, 0, 0, 1, 0, 0, 0, 0]), chord_symbol_xml='Ab/C', chord_symbol_mir_eval='Ab:maj', binary_mir_eval=array([1, 0, 0, 0, 1, 0, 0, 1, 0, 0, 0, 0]), root_pc=8), ...])])\n"
     ]
    }
   ],
   "source": [
    "w = muspy.WikifoniaDataset('data', download_and_extract=True)\n",
    "piece = w[1]\n",
    "print(piece)"
   ]
  },
  {
   "cell_type": "code",
   "execution_count": 34,
   "metadata": {},
   "outputs": [
    {
     "name": "stdout",
     "output_type": "stream",
     "text": [
      "12\n"
     ]
    }
   ],
   "source": [
    "resolution = piece.resolution\n",
    "barlines = piece.barlines\n",
    "print(resolution)"
   ]
  },
  {
   "cell_type": "code",
   "execution_count": 35,
   "metadata": {},
   "outputs": [
    {
     "name": "stdout",
     "output_type": "stream",
     "text": [
      "[Barline(time=0), Barline(time=48), Barline(time=96), Barline(time=144), Barline(time=192), Barline(time=240), Barline(time=288), Barline(time=336), Barline(time=384), Barline(time=408), Barline(time=456), Barline(time=504), Barline(time=552), Barline(time=600), Barline(time=648), Barline(time=696), Barline(time=744), Barline(time=792), Barline(time=840), Barline(time=888), Barline(time=936), Barline(time=984), Barline(time=1008), Barline(time=1056), Barline(time=1104), Barline(time=1152), Barline(time=1200), Barline(time=1248), Barline(time=1272), Barline(time=1320), Barline(time=1368), Barline(time=1416), Barline(time=1464), Barline(time=1512), Barline(time=1560), Barline(time=1608), Barline(time=1656), Barline(time=1704), Barline(time=1752), Barline(time=1800), Barline(time=1848), Barline(time=1872), Barline(time=1920), Barline(time=1968), Barline(time=2016), Barline(time=2064), Barline(time=2112), Barline(time=2160), Barline(time=2208), Barline(time=2256)]\n"
     ]
    }
   ],
   "source": [
    "print(barlines)"
   ]
  },
  {
   "cell_type": "code",
   "execution_count": 36,
   "metadata": {},
   "outputs": [
    {
     "name": "stdout",
     "output_type": "stream",
     "text": [
      "ChordSymbol(time=0, root='Eb', kind='maj9', degrees=[], binary_xml=array([1, 0, 1, 0, 1, 0, 0, 1, 0, 0, 0, 1]), chord_symbol_xml='Ebmaj9', chord_symbol_mir_eval='Eb:maj9', binary_mir_eval=array([1, 0, 1, 0, 1, 0, 0, 1, 0, 0, 0, 1]), root_pc=3)\n",
      "ChordSymbol(time=24, root='Eb', kind='', degrees=[], bass='D', binary_xml=array([1, 0, 0, 0, 1, 0, 0, 1, 0, 0, 0, 0]), chord_symbol_xml='Eb/D', chord_symbol_mir_eval='Eb:maj', binary_mir_eval=array([1, 0, 0, 0, 1, 0, 0, 1, 0, 0, 0, 0]), root_pc=3)\n",
      "ChordSymbol(time=48, root='Ab', kind='', degrees=[], bass='C', binary_xml=array([1, 0, 0, 0, 1, 0, 0, 1, 0, 0, 0, 0]), chord_symbol_xml='Ab/C', chord_symbol_mir_eval='Ab:maj', binary_mir_eval=array([1, 0, 0, 0, 1, 0, 0, 1, 0, 0, 0, 0]), root_pc=8)\n",
      "ChordSymbol(time=96, root='G', kind='m7', degrees=[], binary_xml=array([1, 0, 0, 1, 0, 0, 0, 1, 0, 0, 1, 0]), chord_symbol_xml='Gm7', chord_symbol_mir_eval='G:min7', binary_mir_eval=array([1, 0, 0, 1, 0, 0, 0, 1, 0, 0, 1, 0]), root_pc=7)\n",
      "ChordSymbol(time=120, root='C', kind='m7', degrees=[], binary_xml=array([1, 0, 0, 1, 0, 0, 0, 1, 0, 0, 1, 0]), chord_symbol_xml='Cm7', chord_symbol_mir_eval='C:min7', binary_mir_eval=array([1, 0, 0, 1, 0, 0, 0, 1, 0, 0, 1, 0]), root_pc=0)\n",
      "ChordSymbol(time=144, root='F', kind='m7', degrees=[], binary_xml=array([1, 0, 0, 1, 0, 0, 0, 1, 0, 0, 1, 0]), chord_symbol_xml='Fm7', chord_symbol_mir_eval='F:min7', binary_mir_eval=array([1, 0, 0, 1, 0, 0, 0, 1, 0, 0, 1, 0]), root_pc=5)\n",
      "ChordSymbol(time=168, root='Bb', kind='11', degrees=[], binary_xml=array([1, 0, 1, 0, 1, 1, 0, 1, 0, 0, 1, 0]), chord_symbol_xml='Bb11', chord_symbol_mir_eval='Bb:11', binary_mir_eval=array([1, 0, 1, 0, 1, 1, 0, 1, 0, 0, 1, 0]), root_pc=10)\n",
      "ChordSymbol(time=192, root='Eb', kind='maj9', degrees=[], binary_xml=array([1, 0, 1, 0, 1, 0, 0, 1, 0, 0, 0, 1]), chord_symbol_xml='Ebmaj9', chord_symbol_mir_eval='Eb:maj9', binary_mir_eval=array([1, 0, 1, 0, 1, 0, 0, 1, 0, 0, 0, 1]), root_pc=3)\n",
      "ChordSymbol(time=216, root='G', kind='m7', degrees=[], binary_xml=array([1, 0, 0, 1, 0, 0, 0, 1, 0, 0, 1, 0]), chord_symbol_xml='Gm7', chord_symbol_mir_eval='G:min7', binary_mir_eval=array([1, 0, 0, 1, 0, 0, 0, 1, 0, 0, 1, 0]), root_pc=7)\n",
      "ChordSymbol(time=228, root='C', kind='m7', degrees=[], binary_xml=array([1, 0, 0, 1, 0, 0, 0, 1, 0, 0, 1, 0]), chord_symbol_xml='Cm7', chord_symbol_mir_eval='C:min7', binary_mir_eval=array([1, 0, 0, 1, 0, 0, 0, 1, 0, 0, 1, 0]), root_pc=0)\n",
      "ChordSymbol(time=240, root='F', kind='m7', degrees=[], binary_xml=array([1, 0, 0, 1, 0, 0, 0, 1, 0, 0, 1, 0]), chord_symbol_xml='Fm7', chord_symbol_mir_eval='F:min7', binary_mir_eval=array([1, 0, 0, 1, 0, 0, 0, 1, 0, 0, 1, 0]), root_pc=5)\n",
      "ChordSymbol(time=312, root='G', kind='sus', degrees=['add7'], binary_xml=array([1, 0, 0, 0, 0, 1, 0, 1, 0, 0, 0, 0]), chord_symbol_xml='Gsusadd7', chord_symbol_mir_eval='G:sus4', binary_mir_eval=array([1, 0, 0, 0, 0, 1, 0, 1, 0, 0, 0, 0]), root_pc=7)\n",
      "ChordSymbol(time=324, root='G', kind='7', degrees=[], binary_xml=array([1, 0, 0, 0, 1, 0, 0, 1, 0, 0, 1, 0]), chord_symbol_xml='G7', chord_symbol_mir_eval='G:7', binary_mir_eval=array([1, 0, 0, 0, 1, 0, 0, 1, 0, 0, 1, 0]), root_pc=7)\n",
      "ChordSymbol(time=336, root='C', kind='m7', degrees=[], binary_xml=array([1, 0, 0, 1, 0, 0, 0, 1, 0, 0, 1, 0]), chord_symbol_xml='Cm7', chord_symbol_mir_eval='C:min7', binary_mir_eval=array([1, 0, 0, 1, 0, 0, 0, 1, 0, 0, 1, 0]), root_pc=0)\n",
      "ChordSymbol(time=360, root='Ab', kind='maj7', degrees=[], binary_xml=array([1, 0, 0, 0, 1, 0, 0, 1, 0, 0, 0, 1]), chord_symbol_xml='Abmaj7', chord_symbol_mir_eval='Ab:maj7', binary_mir_eval=array([1, 0, 0, 0, 1, 0, 0, 1, 0, 0, 0, 1]), root_pc=8)\n",
      "ChordSymbol(time=384, root='F', kind='m7', degrees=[], bass='Bb', binary_xml=array([1, 0, 0, 1, 0, 0, 0, 1, 0, 0, 1, 0]), chord_symbol_xml='Fm7/Bb', chord_symbol_mir_eval='F:min7', binary_mir_eval=array([1, 0, 0, 1, 0, 0, 0, 1, 0, 0, 1, 0]), root_pc=5)\n",
      "ChordSymbol(time=408, root='Eb', kind='maj9', degrees=[], binary_xml=array([1, 0, 1, 0, 1, 0, 0, 1, 0, 0, 0, 1]), chord_symbol_xml='Ebmaj9', chord_symbol_mir_eval='Eb:maj9', binary_mir_eval=array([1, 0, 1, 0, 1, 0, 0, 1, 0, 0, 0, 1]), root_pc=3)\n",
      "ChordSymbol(time=432, root='G', kind='m7', degrees=[], binary_xml=array([1, 0, 0, 1, 0, 0, 0, 1, 0, 0, 1, 0]), chord_symbol_xml='Gm7', chord_symbol_mir_eval='G:min7', binary_mir_eval=array([1, 0, 0, 1, 0, 0, 0, 1, 0, 0, 1, 0]), root_pc=7)\n",
      "ChordSymbol(time=444, root='C', kind='m7', degrees=[], binary_xml=array([1, 0, 0, 1, 0, 0, 0, 1, 0, 0, 1, 0]), chord_symbol_xml='Cm7', chord_symbol_mir_eval='C:min7', binary_mir_eval=array([1, 0, 0, 1, 0, 0, 0, 1, 0, 0, 1, 0]), root_pc=0)\n",
      "ChordSymbol(time=456, root='F', kind='m7', degrees=[], binary_xml=array([1, 0, 0, 1, 0, 0, 0, 1, 0, 0, 1, 0]), chord_symbol_xml='Fm7', chord_symbol_mir_eval='F:min7', binary_mir_eval=array([1, 0, 0, 1, 0, 0, 0, 1, 0, 0, 1, 0]), root_pc=5)\n",
      "ChordSymbol(time=528, root='G', kind='sus', degrees=['add7'], binary_xml=array([1, 0, 0, 0, 0, 1, 0, 1, 0, 0, 0, 0]), chord_symbol_xml='Gsusadd7', chord_symbol_mir_eval='G:sus4', binary_mir_eval=array([1, 0, 0, 0, 0, 1, 0, 1, 0, 0, 0, 0]), root_pc=7)\n",
      "ChordSymbol(time=540, root='G', kind='7', degrees=[], binary_xml=array([1, 0, 0, 0, 1, 0, 0, 1, 0, 0, 1, 0]), chord_symbol_xml='G7', chord_symbol_mir_eval='G:7', binary_mir_eval=array([1, 0, 0, 0, 1, 0, 0, 1, 0, 0, 1, 0]), root_pc=7)\n",
      "ChordSymbol(time=552, root='C', kind='m7', degrees=[], binary_xml=array([1, 0, 0, 1, 0, 0, 0, 1, 0, 0, 1, 0]), chord_symbol_xml='Cm7', chord_symbol_mir_eval='C:min7', binary_mir_eval=array([1, 0, 0, 1, 0, 0, 0, 1, 0, 0, 1, 0]), root_pc=0)\n",
      "ChordSymbol(time=576, root='Ab', kind='maj7', degrees=[], binary_xml=array([1, 0, 0, 0, 1, 0, 0, 1, 0, 0, 0, 1]), chord_symbol_xml='Abmaj7', chord_symbol_mir_eval='Ab:maj7', binary_mir_eval=array([1, 0, 0, 0, 1, 0, 0, 1, 0, 0, 0, 1]), root_pc=8)\n",
      "ChordSymbol(time=600, root='F', kind='m7', degrees=[], bass='Bb', binary_xml=array([1, 0, 0, 1, 0, 0, 0, 1, 0, 0, 1, 0]), chord_symbol_xml='Fm7/Bb', chord_symbol_mir_eval='F:min7', binary_mir_eval=array([1, 0, 0, 1, 0, 0, 0, 1, 0, 0, 1, 0]), root_pc=5)\n",
      "ChordSymbol(time=624, root='Bb', kind='11', degrees=[], binary_xml=array([1, 0, 1, 0, 1, 1, 0, 1, 0, 0, 1, 0]), chord_symbol_xml='Bb11', chord_symbol_mir_eval='Bb:11', binary_mir_eval=array([1, 0, 1, 0, 1, 1, 0, 1, 0, 0, 1, 0]), root_pc=10)\n",
      "ChordSymbol(time=648, root='Eb', kind='maj9', degrees=[], binary_xml=array([1, 0, 1, 0, 1, 0, 0, 1, 0, 0, 0, 1]), chord_symbol_xml='Ebmaj9', chord_symbol_mir_eval='Eb:maj9', binary_mir_eval=array([1, 0, 1, 0, 1, 0, 0, 1, 0, 0, 0, 1]), root_pc=3)\n",
      "ChordSymbol(time=672, root='Eb', kind='', degrees=[], bass='D', binary_xml=array([1, 0, 0, 0, 1, 0, 0, 1, 0, 0, 0, 0]), chord_symbol_xml='Eb/D', chord_symbol_mir_eval='Eb:maj', binary_mir_eval=array([1, 0, 0, 0, 1, 0, 0, 1, 0, 0, 0, 0]), root_pc=3)\n",
      "ChordSymbol(time=696, root='Ab', kind='maj7', degrees=[], bass='C', binary_xml=array([1, 0, 0, 0, 1, 0, 0, 1, 0, 0, 0, 1]), chord_symbol_xml='Abmaj7/C', chord_symbol_mir_eval='Ab:maj7', binary_mir_eval=array([1, 0, 0, 0, 1, 0, 0, 1, 0, 0, 0, 1]), root_pc=8)\n",
      "ChordSymbol(time=732, root='Bb', kind='', degrees=[], bass='Ab', binary_xml=array([1, 0, 0, 0, 1, 0, 0, 1, 0, 0, 0, 0]), chord_symbol_xml='Bb/Ab', chord_symbol_mir_eval='Bb:maj', binary_mir_eval=array([1, 0, 0, 0, 1, 0, 0, 1, 0, 0, 0, 0]), root_pc=10)\n",
      "ChordSymbol(time=744, root='G', kind='m7', degrees=[], binary_xml=array([1, 0, 0, 1, 0, 0, 0, 1, 0, 0, 1, 0]), chord_symbol_xml='Gm7', chord_symbol_mir_eval='G:min7', binary_mir_eval=array([1, 0, 0, 1, 0, 0, 0, 1, 0, 0, 1, 0]), root_pc=7)\n",
      "ChordSymbol(time=768, root='C', kind='m7', degrees=[], binary_xml=array([1, 0, 0, 1, 0, 0, 0, 1, 0, 0, 1, 0]), chord_symbol_xml='Cm7', chord_symbol_mir_eval='C:min7', binary_mir_eval=array([1, 0, 0, 1, 0, 0, 0, 1, 0, 0, 1, 0]), root_pc=0)\n",
      "ChordSymbol(time=792, root='Ab', kind='maj7', degrees=[], binary_xml=array([1, 0, 0, 0, 1, 0, 0, 1, 0, 0, 0, 1]), chord_symbol_xml='Abmaj7', chord_symbol_mir_eval='Ab:maj7', binary_mir_eval=array([1, 0, 0, 0, 1, 0, 0, 1, 0, 0, 0, 1]), root_pc=8)\n",
      "ChordSymbol(time=816, root='F', kind='m7', degrees=[], bass='Bb', binary_xml=array([1, 0, 0, 1, 0, 0, 0, 1, 0, 0, 1, 0]), chord_symbol_xml='Fm7/Bb', chord_symbol_mir_eval='F:min7', binary_mir_eval=array([1, 0, 0, 1, 0, 0, 0, 1, 0, 0, 1, 0]), root_pc=5)\n",
      "ChordSymbol(time=828, root='Bb', kind='9', degrees=[], binary_xml=array([1, 0, 1, 0, 1, 0, 0, 1, 0, 0, 1, 0]), chord_symbol_xml='Bb9', chord_symbol_mir_eval='Bb:9', binary_mir_eval=array([1, 0, 1, 0, 1, 0, 0, 1, 0, 0, 1, 0]), root_pc=10)\n",
      "ChordSymbol(time=840, root='Eb', kind='maj9', degrees=[], binary_xml=array([1, 0, 1, 0, 1, 0, 0, 1, 0, 0, 0, 1]), chord_symbol_xml='Ebmaj9', chord_symbol_mir_eval='Eb:maj9', binary_mir_eval=array([1, 0, 1, 0, 1, 0, 0, 1, 0, 0, 0, 1]), root_pc=3)\n",
      "ChordSymbol(time=864, root='Eb', kind='', degrees=[], bass='D', binary_xml=array([1, 0, 0, 0, 1, 0, 0, 1, 0, 0, 0, 0]), chord_symbol_xml='Eb/D', chord_symbol_mir_eval='Eb:maj', binary_mir_eval=array([1, 0, 0, 0, 1, 0, 0, 1, 0, 0, 0, 0]), root_pc=3)\n",
      "ChordSymbol(time=888, root='Db', kind='6', degrees=[], binary_xml=array([1, 0, 0, 0, 1, 0, 0, 1, 0, 1, 0, 0]), chord_symbol_xml='Db6', chord_symbol_mir_eval='Db:maj6', binary_mir_eval=array([1, 0, 0, 0, 1, 0, 0, 1, 0, 1, 0, 0]), root_pc=1)\n",
      "ChordSymbol(time=912, root='C', kind='sus', degrees=['add7'], binary_xml=array([1, 0, 0, 0, 0, 1, 0, 1, 0, 0, 0, 0]), chord_symbol_xml='Csusadd7', chord_symbol_mir_eval='C:sus4', binary_mir_eval=array([1, 0, 0, 0, 0, 1, 0, 1, 0, 0, 0, 0]), root_pc=0)\n",
      "ChordSymbol(time=924, root='C', kind='7', degrees=[], binary_xml=array([1, 0, 0, 0, 1, 0, 0, 1, 0, 0, 1, 0]), chord_symbol_xml='C7', chord_symbol_mir_eval='C:7', binary_mir_eval=array([1, 0, 0, 0, 1, 0, 0, 1, 0, 0, 1, 0]), root_pc=0)\n",
      "ChordSymbol(time=936, root='Ab', kind='m6', degrees=[], bass='Cb', binary_xml=array([1, 0, 0, 1, 0, 0, 0, 1, 0, 1, 0, 0]), chord_symbol_xml='Abm6/Cb', chord_symbol_mir_eval='Ab:min6', binary_mir_eval=array([1, 0, 0, 1, 0, 0, 0, 1, 0, 1, 0, 0]), root_pc=8)\n",
      "ChordSymbol(time=984, root='Bb', kind='sus', degrees=['add7'], binary_xml=array([1, 0, 0, 0, 0, 1, 0, 1, 0, 0, 0, 0]), chord_symbol_xml='Bbsusadd7', chord_symbol_mir_eval='Bb:sus4', binary_mir_eval=array([1, 0, 0, 0, 0, 1, 0, 1, 0, 0, 0, 0]), root_pc=10)\n",
      "ChordSymbol(time=1056, root='Eb', kind='maj9', degrees=[], binary_xml=array([1, 0, 1, 0, 1, 0, 0, 1, 0, 0, 0, 1]), chord_symbol_xml='Ebmaj9', chord_symbol_mir_eval='Eb:maj9', binary_mir_eval=array([1, 0, 1, 0, 1, 0, 0, 1, 0, 0, 0, 1]), root_pc=3)\n",
      "ChordSymbol(time=1080, root='G', kind='m7', degrees=[], binary_xml=array([1, 0, 0, 1, 0, 0, 0, 1, 0, 0, 1, 0]), chord_symbol_xml='Gm7', chord_symbol_mir_eval='G:min7', binary_mir_eval=array([1, 0, 0, 1, 0, 0, 0, 1, 0, 0, 1, 0]), root_pc=7)\n",
      "ChordSymbol(time=1092, root='C', kind='m7', degrees=[], binary_xml=array([1, 0, 0, 1, 0, 0, 0, 1, 0, 0, 1, 0]), chord_symbol_xml='Cm7', chord_symbol_mir_eval='C:min7', binary_mir_eval=array([1, 0, 0, 1, 0, 0, 0, 1, 0, 0, 1, 0]), root_pc=0)\n",
      "ChordSymbol(time=1104, root='F', kind='m7', degrees=[], binary_xml=array([1, 0, 0, 1, 0, 0, 0, 1, 0, 0, 1, 0]), chord_symbol_xml='Fm7', chord_symbol_mir_eval='F:min7', binary_mir_eval=array([1, 0, 0, 1, 0, 0, 0, 1, 0, 0, 1, 0]), root_pc=5)\n",
      "ChordSymbol(time=1176, root='G', kind='sus', degrees=['add7'], binary_xml=array([1, 0, 0, 0, 0, 1, 0, 1, 0, 0, 0, 0]), chord_symbol_xml='Gsusadd7', chord_symbol_mir_eval='G:sus4', binary_mir_eval=array([1, 0, 0, 0, 0, 1, 0, 1, 0, 0, 0, 0]), root_pc=7)\n",
      "ChordSymbol(time=1188, root='G', kind='7', degrees=[], binary_xml=array([1, 0, 0, 0, 1, 0, 0, 1, 0, 0, 1, 0]), chord_symbol_xml='G7', chord_symbol_mir_eval='G:7', binary_mir_eval=array([1, 0, 0, 0, 1, 0, 0, 1, 0, 0, 1, 0]), root_pc=7)\n",
      "ChordSymbol(time=1200, root='C', kind='m7', degrees=[], binary_xml=array([1, 0, 0, 1, 0, 0, 0, 1, 0, 0, 1, 0]), chord_symbol_xml='Cm7', chord_symbol_mir_eval='C:min7', binary_mir_eval=array([1, 0, 0, 1, 0, 0, 0, 1, 0, 0, 1, 0]), root_pc=0)\n",
      "ChordSymbol(time=1224, root='Ab', kind='maj7', degrees=[], binary_xml=array([1, 0, 0, 0, 1, 0, 0, 1, 0, 0, 0, 1]), chord_symbol_xml='Abmaj7', chord_symbol_mir_eval='Ab:maj7', binary_mir_eval=array([1, 0, 0, 0, 1, 0, 0, 1, 0, 0, 0, 1]), root_pc=8)\n",
      "ChordSymbol(time=1248, root='F', kind='m7', degrees=[], bass='Bb', binary_xml=array([1, 0, 0, 1, 0, 0, 0, 1, 0, 0, 1, 0]), chord_symbol_xml='Fm7/Bb', chord_symbol_mir_eval='F:min7', binary_mir_eval=array([1, 0, 0, 1, 0, 0, 0, 1, 0, 0, 1, 0]), root_pc=5)\n",
      "ChordSymbol(time=1272, root='Eb', kind='maj9', degrees=[], binary_xml=array([1, 0, 1, 0, 1, 0, 0, 1, 0, 0, 0, 1]), chord_symbol_xml='Ebmaj9', chord_symbol_mir_eval='Eb:maj9', binary_mir_eval=array([1, 0, 1, 0, 1, 0, 0, 1, 0, 0, 0, 1]), root_pc=3)\n",
      "ChordSymbol(time=1296, root='G', kind='m7', degrees=[], binary_xml=array([1, 0, 0, 1, 0, 0, 0, 1, 0, 0, 1, 0]), chord_symbol_xml='Gm7', chord_symbol_mir_eval='G:min7', binary_mir_eval=array([1, 0, 0, 1, 0, 0, 0, 1, 0, 0, 1, 0]), root_pc=7)\n",
      "ChordSymbol(time=1308, root='C', kind='m7', degrees=[], binary_xml=array([1, 0, 0, 1, 0, 0, 0, 1, 0, 0, 1, 0]), chord_symbol_xml='Cm7', chord_symbol_mir_eval='C:min7', binary_mir_eval=array([1, 0, 0, 1, 0, 0, 0, 1, 0, 0, 1, 0]), root_pc=0)\n",
      "ChordSymbol(time=1320, root='F', kind='m7', degrees=[], binary_xml=array([1, 0, 0, 1, 0, 0, 0, 1, 0, 0, 1, 0]), chord_symbol_xml='Fm7', chord_symbol_mir_eval='F:min7', binary_mir_eval=array([1, 0, 0, 1, 0, 0, 0, 1, 0, 0, 1, 0]), root_pc=5)\n",
      "ChordSymbol(time=1392, root='G', kind='sus', degrees=['add7'], binary_xml=array([1, 0, 0, 0, 0, 1, 0, 1, 0, 0, 0, 0]), chord_symbol_xml='Gsusadd7', chord_symbol_mir_eval='G:sus4', binary_mir_eval=array([1, 0, 0, 0, 0, 1, 0, 1, 0, 0, 0, 0]), root_pc=7)\n",
      "ChordSymbol(time=1404, root='G', kind='7', degrees=[], binary_xml=array([1, 0, 0, 0, 1, 0, 0, 1, 0, 0, 1, 0]), chord_symbol_xml='G7', chord_symbol_mir_eval='G:7', binary_mir_eval=array([1, 0, 0, 0, 1, 0, 0, 1, 0, 0, 1, 0]), root_pc=7)\n",
      "ChordSymbol(time=1416, root='C', kind='m7', degrees=[], binary_xml=array([1, 0, 0, 1, 0, 0, 0, 1, 0, 0, 1, 0]), chord_symbol_xml='Cm7', chord_symbol_mir_eval='C:min7', binary_mir_eval=array([1, 0, 0, 1, 0, 0, 0, 1, 0, 0, 1, 0]), root_pc=0)\n",
      "ChordSymbol(time=1440, root='Ab', kind='maj7', degrees=[], binary_xml=array([1, 0, 0, 0, 1, 0, 0, 1, 0, 0, 0, 1]), chord_symbol_xml='Abmaj7', chord_symbol_mir_eval='Ab:maj7', binary_mir_eval=array([1, 0, 0, 0, 1, 0, 0, 1, 0, 0, 0, 1]), root_pc=8)\n",
      "ChordSymbol(time=1464, root='F', kind='m7', degrees=[], bass='Bb', binary_xml=array([1, 0, 0, 1, 0, 0, 0, 1, 0, 0, 1, 0]), chord_symbol_xml='Fm7/Bb', chord_symbol_mir_eval='F:min7', binary_mir_eval=array([1, 0, 0, 1, 0, 0, 0, 1, 0, 0, 1, 0]), root_pc=5)\n",
      "ChordSymbol(time=1488, root='Bb', kind='11', degrees=[], binary_xml=array([1, 0, 1, 0, 1, 1, 0, 1, 0, 0, 1, 0]), chord_symbol_xml='Bb11', chord_symbol_mir_eval='Bb:11', binary_mir_eval=array([1, 0, 1, 0, 1, 1, 0, 1, 0, 0, 1, 0]), root_pc=10)\n",
      "ChordSymbol(time=1512, root='Eb', kind='maj9', degrees=[], binary_xml=array([1, 0, 1, 0, 1, 0, 0, 1, 0, 0, 0, 1]), chord_symbol_xml='Ebmaj9', chord_symbol_mir_eval='Eb:maj9', binary_mir_eval=array([1, 0, 1, 0, 1, 0, 0, 1, 0, 0, 0, 1]), root_pc=3)\n",
      "ChordSymbol(time=1536, root='Eb', kind='', degrees=[], bass='D', binary_xml=array([1, 0, 0, 0, 1, 0, 0, 1, 0, 0, 0, 0]), chord_symbol_xml='Eb/D', chord_symbol_mir_eval='Eb:maj', binary_mir_eval=array([1, 0, 0, 0, 1, 0, 0, 1, 0, 0, 0, 0]), root_pc=3)\n",
      "ChordSymbol(time=1560, root='Ab', kind='maj7', degrees=[], bass='C', binary_xml=array([1, 0, 0, 0, 1, 0, 0, 1, 0, 0, 0, 1]), chord_symbol_xml='Abmaj7/C', chord_symbol_mir_eval='Ab:maj7', binary_mir_eval=array([1, 0, 0, 0, 1, 0, 0, 1, 0, 0, 0, 1]), root_pc=8)\n",
      "ChordSymbol(time=1596, root='Bb', kind='', degrees=[], bass='Ab', binary_xml=array([1, 0, 0, 0, 1, 0, 0, 1, 0, 0, 0, 0]), chord_symbol_xml='Bb/Ab', chord_symbol_mir_eval='Bb:maj', binary_mir_eval=array([1, 0, 0, 0, 1, 0, 0, 1, 0, 0, 0, 0]), root_pc=10)\n",
      "ChordSymbol(time=1608, root='G', kind='m7', degrees=[], binary_xml=array([1, 0, 0, 1, 0, 0, 0, 1, 0, 0, 1, 0]), chord_symbol_xml='Gm7', chord_symbol_mir_eval='G:min7', binary_mir_eval=array([1, 0, 0, 1, 0, 0, 0, 1, 0, 0, 1, 0]), root_pc=7)\n",
      "ChordSymbol(time=1632, root='C', kind='m7', degrees=[], binary_xml=array([1, 0, 0, 1, 0, 0, 0, 1, 0, 0, 1, 0]), chord_symbol_xml='Cm7', chord_symbol_mir_eval='C:min7', binary_mir_eval=array([1, 0, 0, 1, 0, 0, 0, 1, 0, 0, 1, 0]), root_pc=0)\n",
      "ChordSymbol(time=1656, root='Ab', kind='maj7', degrees=[], binary_xml=array([1, 0, 0, 0, 1, 0, 0, 1, 0, 0, 0, 1]), chord_symbol_xml='Abmaj7', chord_symbol_mir_eval='Ab:maj7', binary_mir_eval=array([1, 0, 0, 0, 1, 0, 0, 1, 0, 0, 0, 1]), root_pc=8)\n",
      "ChordSymbol(time=1680, root='F', kind='m7', degrees=[], bass='Bb', binary_xml=array([1, 0, 0, 1, 0, 0, 0, 1, 0, 0, 1, 0]), chord_symbol_xml='Fm7/Bb', chord_symbol_mir_eval='F:min7', binary_mir_eval=array([1, 0, 0, 1, 0, 0, 0, 1, 0, 0, 1, 0]), root_pc=5)\n",
      "ChordSymbol(time=1692, root='Bb', kind='9', degrees=[], binary_xml=array([1, 0, 1, 0, 1, 0, 0, 1, 0, 0, 1, 0]), chord_symbol_xml='Bb9', chord_symbol_mir_eval='Bb:9', binary_mir_eval=array([1, 0, 1, 0, 1, 0, 0, 1, 0, 0, 1, 0]), root_pc=10)\n",
      "ChordSymbol(time=1704, root='Eb', kind='maj9', degrees=[], binary_xml=array([1, 0, 1, 0, 1, 0, 0, 1, 0, 0, 0, 1]), chord_symbol_xml='Ebmaj9', chord_symbol_mir_eval='Eb:maj9', binary_mir_eval=array([1, 0, 1, 0, 1, 0, 0, 1, 0, 0, 0, 1]), root_pc=3)\n",
      "ChordSymbol(time=1728, root='Eb', kind='', degrees=[], bass='D', binary_xml=array([1, 0, 0, 0, 1, 0, 0, 1, 0, 0, 0, 0]), chord_symbol_xml='Eb/D', chord_symbol_mir_eval='Eb:maj', binary_mir_eval=array([1, 0, 0, 0, 1, 0, 0, 1, 0, 0, 0, 0]), root_pc=3)\n",
      "ChordSymbol(time=1752, root='Db', kind='6', degrees=[], binary_xml=array([1, 0, 0, 0, 1, 0, 0, 1, 0, 1, 0, 0]), chord_symbol_xml='Db6', chord_symbol_mir_eval='Db:maj6', binary_mir_eval=array([1, 0, 0, 0, 1, 0, 0, 1, 0, 1, 0, 0]), root_pc=1)\n",
      "ChordSymbol(time=1776, root='C', kind='sus', degrees=['add7'], binary_xml=array([1, 0, 0, 0, 0, 1, 0, 1, 0, 0, 0, 0]), chord_symbol_xml='Csusadd7', chord_symbol_mir_eval='C:sus4', binary_mir_eval=array([1, 0, 0, 0, 0, 1, 0, 1, 0, 0, 0, 0]), root_pc=0)\n",
      "ChordSymbol(time=1788, root='C', kind='7', degrees=[], binary_xml=array([1, 0, 0, 0, 1, 0, 0, 1, 0, 0, 1, 0]), chord_symbol_xml='C7', chord_symbol_mir_eval='C:7', binary_mir_eval=array([1, 0, 0, 0, 1, 0, 0, 1, 0, 0, 1, 0]), root_pc=0)\n",
      "ChordSymbol(time=1800, root='Ab', kind='m6', degrees=[], bass='Cb', binary_xml=array([1, 0, 0, 1, 0, 0, 0, 1, 0, 1, 0, 0]), chord_symbol_xml='Abm6/Cb', chord_symbol_mir_eval='Ab:min6', binary_mir_eval=array([1, 0, 0, 1, 0, 0, 0, 1, 0, 1, 0, 0]), root_pc=8)\n",
      "ChordSymbol(time=1848, root='Bb', kind='sus', degrees=['add7'], binary_xml=array([1, 0, 0, 0, 0, 1, 0, 1, 0, 0, 0, 0]), chord_symbol_xml='Bbsusadd7', chord_symbol_mir_eval='Bb:sus4', binary_mir_eval=array([1, 0, 0, 0, 0, 1, 0, 1, 0, 0, 0, 0]), root_pc=10)\n",
      "ChordSymbol(time=1920, root='Eb', kind='maj9', degrees=[], binary_xml=array([1, 0, 1, 0, 1, 0, 0, 1, 0, 0, 0, 1]), chord_symbol_xml='Ebmaj9', chord_symbol_mir_eval='Eb:maj9', binary_mir_eval=array([1, 0, 1, 0, 1, 0, 0, 1, 0, 0, 0, 1]), root_pc=3)\n",
      "ChordSymbol(time=1944, root='Eb', kind='', degrees=[], bass='D', binary_xml=array([1, 0, 0, 0, 1, 0, 0, 1, 0, 0, 0, 0]), chord_symbol_xml='Eb/D', chord_symbol_mir_eval='Eb:maj', binary_mir_eval=array([1, 0, 0, 0, 1, 0, 0, 1, 0, 0, 0, 0]), root_pc=3)\n",
      "ChordSymbol(time=1968, root='Ab', kind='', degrees=[], bass='C', binary_xml=array([1, 0, 0, 0, 1, 0, 0, 1, 0, 0, 0, 0]), chord_symbol_xml='Ab/C', chord_symbol_mir_eval='Ab:maj', binary_mir_eval=array([1, 0, 0, 0, 1, 0, 0, 1, 0, 0, 0, 0]), root_pc=8)\n",
      "ChordSymbol(time=2016, root='G', kind='m7', degrees=[], binary_xml=array([1, 0, 0, 1, 0, 0, 0, 1, 0, 0, 1, 0]), chord_symbol_xml='Gm7', chord_symbol_mir_eval='G:min7', binary_mir_eval=array([1, 0, 0, 1, 0, 0, 0, 1, 0, 0, 1, 0]), root_pc=7)\n",
      "ChordSymbol(time=2040, root='C', kind='m7', degrees=[], binary_xml=array([1, 0, 0, 1, 0, 0, 0, 1, 0, 0, 1, 0]), chord_symbol_xml='Cm7', chord_symbol_mir_eval='C:min7', binary_mir_eval=array([1, 0, 0, 1, 0, 0, 0, 1, 0, 0, 1, 0]), root_pc=0)\n",
      "ChordSymbol(time=2064, root='F', kind='m7', degrees=[], binary_xml=array([1, 0, 0, 1, 0, 0, 0, 1, 0, 0, 1, 0]), chord_symbol_xml='Fm7', chord_symbol_mir_eval='F:min7', binary_mir_eval=array([1, 0, 0, 1, 0, 0, 0, 1, 0, 0, 1, 0]), root_pc=5)\n",
      "ChordSymbol(time=2088, root='Bb', kind='11', degrees=[], binary_xml=array([1, 0, 1, 0, 1, 1, 0, 1, 0, 0, 1, 0]), chord_symbol_xml='Bb11', chord_symbol_mir_eval='Bb:11', binary_mir_eval=array([1, 0, 1, 0, 1, 1, 0, 1, 0, 0, 1, 0]), root_pc=10)\n",
      "ChordSymbol(time=2112, root='Eb', kind='maj9', degrees=[], binary_xml=array([1, 0, 1, 0, 1, 0, 0, 1, 0, 0, 0, 1]), chord_symbol_xml='Ebmaj9', chord_symbol_mir_eval='Eb:maj9', binary_mir_eval=array([1, 0, 1, 0, 1, 0, 0, 1, 0, 0, 0, 1]), root_pc=3)\n",
      "ChordSymbol(time=2136, root='Eb', kind='', degrees=[], bass='D', binary_xml=array([1, 0, 0, 0, 1, 0, 0, 1, 0, 0, 0, 0]), chord_symbol_xml='Eb/D', chord_symbol_mir_eval='Eb:maj', binary_mir_eval=array([1, 0, 0, 0, 1, 0, 0, 1, 0, 0, 0, 0]), root_pc=3)\n",
      "ChordSymbol(time=2160, root='Ab', kind='', degrees=[], bass='C', binary_xml=array([1, 0, 0, 0, 1, 0, 0, 1, 0, 0, 0, 0]), chord_symbol_xml='Ab/C', chord_symbol_mir_eval='Ab:maj', binary_mir_eval=array([1, 0, 0, 0, 1, 0, 0, 1, 0, 0, 0, 0]), root_pc=8)\n",
      "ChordSymbol(time=2208, root='G', kind='m7', degrees=[], binary_xml=array([1, 0, 0, 1, 0, 0, 0, 1, 0, 0, 1, 0]), chord_symbol_xml='Gm7', chord_symbol_mir_eval='G:min7', binary_mir_eval=array([1, 0, 0, 1, 0, 0, 0, 1, 0, 0, 1, 0]), root_pc=7)\n",
      "ChordSymbol(time=2232, root='C', kind='m7', degrees=[], binary_xml=array([1, 0, 0, 1, 0, 0, 0, 1, 0, 0, 1, 0]), chord_symbol_xml='Cm7', chord_symbol_mir_eval='C:min7', binary_mir_eval=array([1, 0, 0, 1, 0, 0, 0, 1, 0, 0, 1, 0]), root_pc=0)\n",
      "ChordSymbol(time=2256, root='F', kind='m7', degrees=[], binary_xml=array([1, 0, 0, 1, 0, 0, 0, 1, 0, 0, 1, 0]), chord_symbol_xml='Fm7', chord_symbol_mir_eval='F:min7', binary_mir_eval=array([1, 0, 0, 1, 0, 0, 0, 1, 0, 0, 1, 0]), root_pc=5)\n",
      "ChordSymbol(time=2280, root='Bb', kind='11', degrees=[], binary_xml=array([1, 0, 1, 0, 1, 1, 0, 1, 0, 0, 1, 0]), chord_symbol_xml='Bb11', chord_symbol_mir_eval='Bb:11', binary_mir_eval=array([1, 0, 1, 0, 1, 1, 0, 1, 0, 0, 1, 0]), root_pc=10)\n"
     ]
    }
   ],
   "source": [
    "# get harmony from first track\n",
    "harmony = piece.tracks[0].harmony\n",
    "for h in harmony:\n",
    "    print(h)"
   ]
  },
  {
   "cell_type": "code",
   "execution_count": null,
   "metadata": {},
   "outputs": [
    {
     "name": "stdout",
     "output_type": "stream",
     "text": [
      "50  -  0\n",
      "50  -  0\n",
      "50  -  0\n",
      "50  -  1\n",
      "50  -  2\n",
      "50  -  2\n",
      "50  -  3\n",
      "50  -  3\n",
      "50  -  4\n",
      "50  -  4\n",
      "50  -  4\n",
      "50  -  5\n",
      "50  -  6\n",
      "50  -  6\n",
      "50  -  7\n",
      "50  -  7\n",
      "50  -  8\n",
      "50  -  9\n",
      "50  -  9\n",
      "50  -  9\n",
      "50  -  10\n",
      "50  -  11\n",
      "50  -  11\n",
      "50  -  12\n",
      "50  -  12\n",
      "50  -  13\n",
      "50  -  13\n",
      "50  -  14\n",
      "50  -  14\n",
      "50  -  15\n",
      "50  -  15\n",
      "50  -  16\n",
      "50  -  16\n",
      "50  -  17\n",
      "50  -  17\n",
      "50  -  17\n",
      "50  -  18\n",
      "50  -  18\n",
      "50  -  19\n",
      "50  -  19\n",
      "50  -  19\n",
      "50  -  20\n",
      "50  -  21\n",
      "50  -  23\n",
      "50  -  23\n",
      "50  -  23\n",
      "50  -  24\n",
      "50  -  25\n",
      "50  -  25\n",
      "50  -  26\n",
      "50  -  26\n",
      "50  -  27\n",
      "50  -  28\n",
      "50  -  28\n",
      "50  -  28\n",
      "50  -  29\n",
      "50  -  30\n",
      "50  -  30\n",
      "50  -  31\n",
      "50  -  31\n",
      "50  -  32\n",
      "50  -  32\n",
      "50  -  33\n",
      "50  -  33\n",
      "50  -  34\n",
      "50  -  34\n",
      "50  -  35\n",
      "50  -  35\n",
      "50  -  36\n",
      "50  -  36\n",
      "50  -  36\n",
      "50  -  37\n",
      "50  -  37\n",
      "50  -  38\n",
      "50  -  38\n",
      "50  -  38\n",
      "50  -  39\n",
      "50  -  40\n",
      "50  -  42\n",
      "50  -  42\n",
      "50  -  43\n",
      "50  -  44\n",
      "50  -  44\n",
      "50  -  45\n",
      "50  -  45\n",
      "50  -  46\n",
      "50  -  46\n",
      "50  -  47\n",
      "50  -  48\n",
      "50  -  48\n"
     ]
    }
   ],
   "source": [
    "# adjust time in each chord symbol\n",
    "bar_idx = 0\n",
    "bar_time = barlines[bar_idx].time\n",
    "\n",
    "# in parallel, create tokens list\n",
    "harmony_tokens = ['bar']\n",
    "\n",
    "for h in harmony:\n",
    "    # check if chord time exceeds next bar time\n",
    "    if bar_idx+1 < len(barlines):\n",
    "        while h.time >= barlines[bar_idx + 1].time:\n",
    "            bar_idx += 1\n",
    "            bar_time = barlines[bar_idx].time\n",
    "            harmony_tokens.append( 'bar' )\n",
    "            if bar_idx+1 >= len(barlines):\n",
    "                break\n",
    "    tmp_time = h.time - bar_time # TODO: time to sub-resolution quanta equivalent\n",
    "    harmony_tokens.append( 'position_' + str(tmp_time/resolution) )\n",
    "    harmony_tokens.append( h.chord_symbol_mir_eval )"
   ]
  },
  {
   "cell_type": "code",
   "execution_count": 38,
   "metadata": {},
   "outputs": [
    {
     "name": "stdout",
     "output_type": "stream",
     "text": [
      "['bar', 'position_0.0', 'Eb:maj9', 'position_2.0', 'Eb:maj', 'bar', 'position_0.0', 'Ab:maj', 'bar', 'position_0.0', 'G:min7', 'position_2.0', 'C:min7', 'bar', 'position_0.0', 'F:min7', 'position_2.0', 'Bb:11', 'bar', 'position_0.0', 'Eb:maj9', 'position_2.0', 'G:min7', 'position_3.0', 'C:min7', 'bar', 'position_0.0', 'F:min7', 'bar', 'position_2.0', 'G:sus4', 'position_3.0', 'G:7', 'bar', 'position_0.0', 'C:min7', 'position_2.0', 'Ab:maj7', 'bar', 'position_0.0', 'F:min7', 'bar', 'position_0.0', 'Eb:maj9', 'position_2.0', 'G:min7', 'position_3.0', 'C:min7', 'bar', 'position_0.0', 'F:min7', 'bar', 'position_2.0', 'G:sus4', 'position_3.0', 'G:7', 'bar', 'position_0.0', 'C:min7', 'position_2.0', 'Ab:maj7', 'bar', 'position_0.0', 'F:min7', 'position_2.0', 'Bb:11', 'bar', 'position_0.0', 'Eb:maj9', 'position_2.0', 'Eb:maj', 'bar', 'position_0.0', 'Ab:maj7', 'position_3.0', 'Bb:maj', 'bar', 'position_0.0', 'G:min7', 'position_2.0', 'C:min7', 'bar', 'position_0.0', 'Ab:maj7', 'position_2.0', 'F:min7', 'position_3.0', 'Bb:9', 'bar', 'position_0.0', 'Eb:maj9', 'position_2.0', 'Eb:maj', 'bar', 'position_0.0', 'Db:maj6', 'position_2.0', 'C:sus4', 'position_3.0', 'C:7', 'bar', 'position_0.0', 'Ab:min6', 'bar', 'position_0.0', 'Bb:sus4', 'bar', 'bar', 'position_0.0', 'Eb:maj9', 'position_2.0', 'G:min7', 'position_3.0', 'C:min7', 'bar', 'position_0.0', 'F:min7', 'bar', 'position_2.0', 'G:sus4', 'position_3.0', 'G:7', 'bar', 'position_0.0', 'C:min7', 'position_2.0', 'Ab:maj7', 'bar', 'position_0.0', 'F:min7', 'bar', 'position_0.0', 'Eb:maj9', 'position_2.0', 'G:min7', 'position_3.0', 'C:min7', 'bar', 'position_0.0', 'F:min7', 'bar', 'position_2.0', 'G:sus4', 'position_3.0', 'G:7', 'bar', 'position_0.0', 'C:min7', 'position_2.0', 'Ab:maj7', 'bar', 'position_0.0', 'F:min7', 'position_2.0', 'Bb:11', 'bar', 'position_0.0', 'Eb:maj9', 'position_2.0', 'Eb:maj', 'bar', 'position_0.0', 'Ab:maj7', 'position_3.0', 'Bb:maj', 'bar', 'position_0.0', 'G:min7', 'position_2.0', 'C:min7', 'bar', 'position_0.0', 'Ab:maj7', 'position_2.0', 'F:min7', 'position_3.0', 'Bb:9', 'bar', 'position_0.0', 'Eb:maj9', 'position_2.0', 'Eb:maj', 'bar', 'position_0.0', 'Db:maj6', 'position_2.0', 'C:sus4', 'position_3.0', 'C:7', 'bar', 'position_0.0', 'Ab:min6', 'bar', 'position_0.0', 'Bb:sus4', 'bar', 'bar', 'position_0.0', 'Eb:maj9', 'position_2.0', 'Eb:maj', 'bar', 'position_0.0', 'Ab:maj', 'bar', 'position_0.0', 'G:min7', 'position_2.0', 'C:min7', 'bar', 'position_0.0', 'F:min7', 'position_2.0', 'Bb:11', 'bar', 'position_0.0', 'Eb:maj9', 'position_2.0', 'Eb:maj', 'bar', 'position_0.0', 'Ab:maj', 'bar', 'position_0.0', 'G:min7', 'position_2.0', 'C:min7', 'bar', 'position_0.0', 'F:min7', 'position_2.0', 'Bb:11']\n"
     ]
    }
   ],
   "source": [
    "print(harmony_tokens)"
   ]
  }
 ],
 "metadata": {
  "kernelspec": {
   "display_name": "midi",
   "language": "python",
   "name": "python3"
  },
  "language_info": {
   "codemirror_mode": {
    "name": "ipython",
    "version": 3
   },
   "file_extension": ".py",
   "mimetype": "text/x-python",
   "name": "python",
   "nbconvert_exporter": "python",
   "pygments_lexer": "ipython3",
   "version": "3.11.5"
  }
 },
 "nbformat": 4,
 "nbformat_minor": 2
}
