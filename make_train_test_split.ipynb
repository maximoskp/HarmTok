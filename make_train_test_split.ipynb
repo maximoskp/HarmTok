{
 "cells": [
  {
   "cell_type": "code",
   "execution_count": 1,
   "metadata": {},
   "outputs": [],
   "source": [
    "import os\n",
    "import random\n",
    "import shutil"
   ]
  },
  {
   "cell_type": "code",
   "execution_count": 2,
   "metadata": {},
   "outputs": [],
   "source": [
    "def split_dataset(input_root, train_root, test_root, train_ratio=0.9):\n",
    "    \"\"\"\n",
    "    Splits a folder with subfolders and files into train and test sets, preserving the folder structure.\n",
    "\n",
    "    Args:\n",
    "        input_root (str): Path to the root folder containing the original dataset.\n",
    "        train_root (str): Path to the root folder to save the training dataset.\n",
    "        test_root (str): Path to the root folder to save the testing dataset.\n",
    "        train_ratio (float): Ratio of files to include in the training set (default: 0.9).\n",
    "    \"\"\"\n",
    "    # Collect all files with their relative paths\n",
    "    all_files = []\n",
    "    for root, _, files in os.walk(input_root):\n",
    "        for file in files:\n",
    "            input_path = os.path.join(root, file)\n",
    "            relative_path = os.path.relpath(input_path, input_root)  # Path relative to input_root\n",
    "            all_files.append(relative_path)\n",
    "    \n",
    "    # Shuffle files and split into train and test\n",
    "    random.shuffle(all_files)\n",
    "    split_index = int(len(all_files) * train_ratio)\n",
    "    train_files = all_files[:split_index]\n",
    "    test_files = all_files[split_index:]\n",
    "    \n",
    "    # Copy files to train and test directories\n",
    "    for relative_path in train_files:\n",
    "        copy_file_to_output(input_root, train_root, relative_path)\n",
    "    \n",
    "    for relative_path in test_files:\n",
    "        copy_file_to_output(input_root, test_root, relative_path)\n",
    "    \n",
    "    print(f\"Dataset split completed: {len(train_files)} files in train, {len(test_files)} files in test.\")\n",
    "# end split_dataset\n",
    "\n",
    "def copy_file_to_output(input_root, output_root, relative_path):\n",
    "    \"\"\"\n",
    "    Copies a file from the input folder to the output folder, preserving the folder structure.\n",
    "\n",
    "    Args:\n",
    "        input_root (str): Root directory of the original dataset.\n",
    "        output_root (str): Root directory for the output dataset.\n",
    "        relative_path (str): Path of the file relative to the input root.\n",
    "    \"\"\"\n",
    "    input_path = os.path.join(input_root, relative_path)\n",
    "    output_path = os.path.join(output_root, relative_path)\n",
    "    os.makedirs(os.path.dirname(output_path), exist_ok=True)  # Create necessary subfolders\n",
    "    shutil.copy2(input_path, output_path)  # Copy file while preserving metadata (e.g., modification time)\n",
    "# end copy_file_to_output"
   ]
  },
  {
   "cell_type": "code",
   "execution_count": null,
   "metadata": {},
   "outputs": [
    {
     "name": "stdout",
     "output_type": "stream",
     "text": [
      "Dataset split completed: 13680 files in train, 1520 files in test.\n"
     ]
    }
   ],
   "source": [
    "# Example usage\n",
    "input_root = '/media/datadisk/datasets/hooktheory_xmls_transposed'\n",
    "train_root = '/media/datadisk/datasets/hooktheory_train'\n",
    "test_root = '/media/datadisk/datasets/hooktheory_test'\n",
    "split_dataset(input_root, train_root, test_root, train_ratio=0.9)"
   ]
  }
 ],
 "metadata": {
  "kernelspec": {
   "display_name": "torch",
   "language": "python",
   "name": "python3"
  },
  "language_info": {
   "codemirror_mode": {
    "name": "ipython",
    "version": 3
   },
   "file_extension": ".py",
   "mimetype": "text/x-python",
   "name": "python",
   "nbconvert_exporter": "python",
   "pygments_lexer": "ipython3",
   "version": "3.11.5"
  }
 },
 "nbformat": 4,
 "nbformat_minor": 2
}
