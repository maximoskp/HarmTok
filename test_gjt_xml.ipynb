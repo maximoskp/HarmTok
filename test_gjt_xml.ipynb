{
 "cells": [
  {
   "cell_type": "code",
   "execution_count": 1,
   "metadata": {},
   "outputs": [
    {
     "name": "stderr",
     "output_type": "stream",
     "text": [
      "/home/maximos/miniconda/envs/midi/lib/python3.11/site-packages/tqdm/auto.py:21: TqdmWarning: IProgress not found. Please update jupyter and ipywidgets. See https://ipywidgets.readthedocs.io/en/stable/user_install.html\n",
      "  from .autonotebook import tqdm as notebook_tqdm\n",
      "None of PyTorch, TensorFlow >= 2.0, or Flax have been found. Models won't be available and only tokenizers, configuration and file/data utilities can be used.\n"
     ]
    }
   ],
   "source": [
    "import muspy\n",
    "from harmony_tokenizers import ChordSymbolTokenizer, RootTypeTokenizer\n",
    "from tqdm import tqdm\n",
    "import os"
   ]
  },
  {
   "cell_type": "code",
   "execution_count": 2,
   "metadata": {},
   "outputs": [
    {
     "name": "stdout",
     "output_type": "stream",
     "text": [
      "650\n"
     ]
    }
   ],
   "source": [
    "gjt_path = '/media/maximos/9C33-6BBD/data/gjt_melodies/Library_melodies/'\n",
    "gjt_list = os.listdir(gjt_path)\n",
    "print(len(gjt_list))"
   ]
  },
  {
   "cell_type": "code",
   "execution_count": 3,
   "metadata": {},
   "outputs": [
    {
     "name": "stderr",
     "output_type": "stream",
     "text": [
      "100%|██████████| 650/650 [00:04<00:00, 134.95it/s]\n"
     ]
    }
   ],
   "source": [
    "gjt_pieces = []\n",
    "for i in tqdm(range(len(gjt_list))):\n",
    "    g = muspy.read_musicxml(gjt_path + gjt_list[i])\n",
    "    gjt_pieces.append(g)"
   ]
  },
  {
   "cell_type": "code",
   "execution_count": 4,
   "metadata": {},
   "outputs": [
    {
     "name": "stdout",
     "output_type": "stream",
     "text": [
      "650\n"
     ]
    }
   ],
   "source": [
    "print(len(gjt_pieces))"
   ]
  },
  {
   "cell_type": "code",
   "execution_count": null,
   "metadata": {},
   "outputs": [
    {
     "name": "stdout",
     "output_type": "stream",
     "text": [
      "ChordSymbolTokenizer\n",
      "len(chordSymbolTokenizer.vocab):  370\n",
      "650\n",
      "example sentence length:  110\n",
      "['bar', 'position_0x0', 'G:min7', 'bar', 'position_0x0', 'C:7', 'bar', 'position_0x0', 'F:maj7', 'bar', 'position_0x0', 'F:maj7', 'bar', 'position_0x0', 'G:min7', 'bar', 'position_0x0', 'C:7', 'bar', 'position_0x0', 'F:maj7', 'bar', 'position_0x0', 'F:maj7', 'bar', 'position_0x0', 'E:min7', 'bar', 'position_0x0', 'A:7', 'bar', 'position_0x0', 'D:min7', 'bar', 'position_0x0', 'G:7', 'bar', 'position_0x0', 'C:maj7', 'bar', 'position_0x0', 'D:min7', 'position_2x0', 'G:7', 'bar', 'position_0x0', 'G:min7', 'position_0x0', 'C:7', 'position_0x0', 'F:maj', 'bar', 'position_0x0', 'C:7', 'bar', 'position_0x0', 'G:min7', 'bar', 'position_0x0', 'C:7', 'bar', 'position_0x0', 'F:maj7', 'bar', 'position_0x0', 'F:maj7', 'bar', 'position_0x0', 'G:min7', 'bar', 'position_0x0', 'C:7', 'bar', 'position_0x0', 'F:maj7', 'bar', 'position_0x0', 'F:maj7', 'bar', 'position_0x0', 'A:maj7', 'position_2x0', 'A#:maj7', 'bar', 'position_0x0', 'D:7', 'bar', 'position_0x0', 'G:min7', 'bar', 'position_0x0', 'A#:min6', 'position_2x0', 'A:7', 'bar', 'position_0x0', 'F:maj7', 'position_2x0', 'D:min7', 'bar', 'position_0x0', 'G:min7', 'position_2x0', 'C:7', 'bar', 'position_0x0', 'F:maj7', 'bar', 'position_0x0', 'F:maj7']\n",
      "[5, [6], [233], [5], [6], [28], [5], [6], [174], [5], [6], [174], [5], [6], [233], [5], [6], [28], [5], [6], [174], [5], [6], [174], [5], [6], [146], [5], [6], [289], [5], [6], [88], [5], [6], [231], [5], [6], [29], [5], [6], [88], [10], [231], [5], [6], [233], [6], [28], [6], [167], [5], [6], [28], [5], [6], [233], [5], [6], [28], [5], [6], [174], [5], [6], [174], [5], [6], [233], [5], [6], [28], [5], [6], [174], [5], [6], [174], [5], [6], [290], [10], [319], [5], [6], [86], [5], [6], [233], [5], [6], [323], [10], [289], [5], [6], [174], [10], [88], [5], [6], [233], [10], [28], [5], [6], [174], [5], [6], [174]]\n"
     ]
    }
   ],
   "source": [
    "print('ChordSymbolTokenizer')\n",
    "chordSymbolTokenizer = ChordSymbolTokenizer()\n",
    "print('len(chordSymbolTokenizer.vocab): ', len(chordSymbolTokenizer.vocab))\n",
    "toks_cs = chordSymbolTokenizer(gjt_pieces)\n",
    "print('example sentence length: ', len(toks_cs['tokens'][0]))\n",
    "print(toks_cs['tokens'][0])\n",
    "print(toks_cs['ids'][0])"
   ]
  },
  {
   "cell_type": "code",
   "execution_count": 6,
   "metadata": {},
   "outputs": [
    {
     "name": "stdout",
     "output_type": "stream",
     "text": [
      "RootTypeTokenizer\n",
      "len(rootTypeTokenizer.vocab):  63\n",
      "example sentence length:  149\n",
      "['bar', 'position_0x0', 'G', 'min7', 'bar', 'position_0x0', 'C', '7', 'bar', 'position_0x0', 'F', 'maj7', 'bar', 'position_0x0', 'F', 'maj7', 'bar', 'position_0x0', 'G', 'min7', 'bar', 'position_0x0', 'C', '7', 'bar', 'position_0x0', 'F', 'maj7', 'bar', 'position_0x0', 'F', 'maj7', 'bar', 'position_0x0', 'E', 'min7', 'bar', 'position_0x0', 'A', '7', 'bar', 'position_0x0', 'D', 'min7', 'bar', 'position_0x0', 'G', '7', 'bar', 'position_0x0', 'C', 'maj7', 'bar', 'position_0x0', 'D', 'min7', 'position_2x0', 'G', '7', 'bar', 'position_0x0', 'G', 'min7', 'position_0x0', 'C', '7', 'position_0x0', 'F', 'maj', 'bar', 'position_0x0', 'C', '7', 'bar', 'position_0x0', 'G', 'min7', 'bar', 'position_0x0', 'C', '7', 'bar', 'position_0x0', 'F', 'maj7', 'bar', 'position_0x0', 'F', 'maj7', 'bar', 'position_0x0', 'G', 'min7', 'bar', 'position_0x0', 'C', '7', 'bar', 'position_0x0', 'F', 'maj7', 'bar', 'position_0x0', 'F', 'maj7', 'bar', 'position_0x0', 'A', 'maj7', 'position_2x0', 'A#', 'maj7', 'bar', 'position_0x0', 'D', '7', 'bar', 'position_0x0', 'G', 'min7', 'bar', 'position_0x0', 'A#', 'min6', 'position_2x0', 'A', '7', 'bar', 'position_0x0', 'F', 'maj7', 'position_2x0', 'D', 'min7', 'bar', 'position_0x0', 'G', 'min7', 'position_2x0', 'C', '7', 'bar', 'position_0x0', 'F', 'maj7', 'bar', 'position_0x0', 'F', 'maj7']\n",
      "[5, [6], [29], [42], [5], [6], [22], [40], [5], [6], [27], [41], [5], [6], [27], [41], [5], [6], [29], [42], [5], [6], [22], [40], [5], [6], [27], [41], [5], [6], [27], [41], [5], [6], [26], [42], [5], [6], [31], [40], [5], [6], [24], [42], [5], [6], [29], [40], [5], [6], [22], [41], [5], [6], [24], [42], [10], [29], [40], [5], [6], [29], [42], [6], [22], [40], [6], [27], [34], [5], [6], [22], [40], [5], [6], [29], [42], [5], [6], [22], [40], [5], [6], [27], [41], [5], [6], [27], [41], [5], [6], [29], [42], [5], [6], [22], [40], [5], [6], [27], [41], [5], [6], [27], [41], [5], [6], [31], [41], [10], [32], [41], [5], [6], [24], [40], [5], [6], [29], [42], [5], [6], [32], [45], [10], [31], [40], [5], [6], [27], [41], [10], [24], [42], [5], [6], [29], [42], [10], [22], [40], [5], [6], [27], [41], [5], [6], [27], [41]]\n"
     ]
    }
   ],
   "source": [
    "print('RootTypeTokenizer')\n",
    "rootTypeTokenizer = RootTypeTokenizer()\n",
    "print('len(rootTypeTokenizer.vocab): ', len(rootTypeTokenizer.vocab))\n",
    "toks_rt = rootTypeTokenizer(gjt_pieces)\n",
    "print('example sentence length: ', len(toks_rt['tokens'][0]))\n",
    "print(toks_rt['tokens'][0])\n",
    "print(toks_rt['ids'][0])"
   ]
  }
 ],
 "metadata": {
  "kernelspec": {
   "display_name": "midi",
   "language": "python",
   "name": "python3"
  },
  "language_info": {
   "codemirror_mode": {
    "name": "ipython",
    "version": 3
   },
   "file_extension": ".py",
   "mimetype": "text/x-python",
   "name": "python",
   "nbconvert_exporter": "python",
   "pygments_lexer": "ipython3",
   "version": "3.11.7"
  }
 },
 "nbformat": 4,
 "nbformat_minor": 2
}
