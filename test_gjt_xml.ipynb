{
 "cells": [
  {
   "cell_type": "code",
   "execution_count": 1,
   "metadata": {},
   "outputs": [
    {
     "name": "stderr",
     "output_type": "stream",
     "text": [
      "/home/maximos/miniconda/envs/midi/lib/python3.11/site-packages/tqdm/auto.py:21: TqdmWarning: IProgress not found. Please update jupyter and ipywidgets. See https://ipywidgets.readthedocs.io/en/stable/user_install.html\n",
      "  from .autonotebook import tqdm as notebook_tqdm\n",
      "None of PyTorch, TensorFlow >= 2.0, or Flax have been found. Models won't be available and only tokenizers, configuration and file/data utilities can be used.\n"
     ]
    }
   ],
   "source": [
    "import muspy\n",
    "from harmony_tokenizers import ChordSymbolTokenizer, RootTypeTokenizer, \\\n",
    "    PitchClassTokenizer, RootPCTokenizer, \\\n",
    "    GCTRootPCTokenizer, GCTSymbolTokenizer, GCTRootTypeTokenizer\n",
    "from tqdm import tqdm\n",
    "import os"
   ]
  },
  {
   "cell_type": "code",
   "execution_count": 2,
   "metadata": {},
   "outputs": [
    {
     "name": "stdout",
     "output_type": "stream",
     "text": [
      "650\n"
     ]
    }
   ],
   "source": [
    "gjt_path = '/media/maximos/9C33-6BBD/data/gjt_melodies/Library_melodies/'\n",
    "gjt_list = os.listdir(gjt_path)\n",
    "print(len(gjt_list))"
   ]
  },
  {
   "cell_type": "code",
   "execution_count": 3,
   "metadata": {},
   "outputs": [
    {
     "name": "stderr",
     "output_type": "stream",
     "text": [
      "100%|██████████| 650/650 [00:04<00:00, 139.22it/s]\n"
     ]
    }
   ],
   "source": [
    "gjt_pieces = []\n",
    "for i in tqdm(range(len(gjt_list))):\n",
    "    g = muspy.read_musicxml(gjt_path + gjt_list[i])\n",
    "    gjt_pieces.append(g)"
   ]
  },
  {
   "cell_type": "code",
   "execution_count": null,
   "metadata": {},
   "outputs": [
    {
     "name": "stdout",
     "output_type": "stream",
     "text": [
      "650\n"
     ]
    }
   ],
   "source": [
    "print(len(gjt_pieces))"
   ]
  },
  {
   "cell_type": "code",
   "execution_count": null,
   "metadata": {},
   "outputs": [],
   "source": [
    "# prepare stats\n",
    "stats = {}"
   ]
  },
  {
   "cell_type": "code",
   "execution_count": null,
   "metadata": {},
   "outputs": [
    {
     "name": "stdout",
     "output_type": "stream",
     "text": [
      "ChordSymbolTokenizer\n",
      "len(chordSymbolTokenizer.vocab):  370\n",
      "example sentence length:  110\n",
      "['bar', 'position_0x0', 'G:min7', 'bar', 'position_0x0', 'C:7', 'bar', 'position_0x0', 'F:maj7', 'bar', 'position_0x0', 'F:maj7', 'bar', 'position_0x0', 'G:min7', 'bar', 'position_0x0', 'C:7', 'bar', 'position_0x0', 'F:maj7', 'bar', 'position_0x0', 'F:maj7', 'bar', 'position_0x0', 'E:min7', 'bar', 'position_0x0', 'A:7', 'bar', 'position_0x0', 'D:min7', 'bar', 'position_0x0', 'G:7', 'bar', 'position_0x0', 'C:maj7', 'bar', 'position_0x0', 'D:min7', 'position_2x0', 'G:7', 'bar', 'position_0x0', 'G:min7', 'position_0x0', 'C:7', 'position_0x0', 'F:maj', 'bar', 'position_0x0', 'C:7', 'bar', 'position_0x0', 'G:min7', 'bar', 'position_0x0', 'C:7', 'bar', 'position_0x0', 'F:maj7', 'bar', 'position_0x0', 'F:maj7', 'bar', 'position_0x0', 'G:min7', 'bar', 'position_0x0', 'C:7', 'bar', 'position_0x0', 'F:maj7', 'bar', 'position_0x0', 'F:maj7', 'bar', 'position_0x0', 'A:maj7', 'position_2x0', 'A#:maj7', 'bar', 'position_0x0', 'D:7', 'bar', 'position_0x0', 'G:min7', 'bar', 'position_0x0', 'A#:min6', 'position_2x0', 'A:7', 'bar', 'position_0x0', 'F:maj7', 'position_2x0', 'D:min7', 'bar', 'position_0x0', 'G:min7', 'position_2x0', 'C:7', 'bar', 'position_0x0', 'F:maj7', 'bar', 'position_0x0', 'F:maj7']\n",
      "[5, 6, 233, 5, 6, 28, 5, 6, 174, 5, 6, 174, 5, 6, 233, 5, 6, 28, 5, 6, 174, 5, 6, 174, 5, 6, 146, 5, 6, 289, 5, 6, 88, 5, 6, 231, 5, 6, 29, 5, 6, 88, 10, 231, 5, 6, 233, 6, 28, 6, 167, 5, 6, 28, 5, 6, 233, 5, 6, 28, 5, 6, 174, 5, 6, 174, 5, 6, 233, 5, 6, 28, 5, 6, 174, 5, 6, 174, 5, 6, 290, 10, 319, 5, 6, 86, 5, 6, 233, 5, 6, 323, 10, 289, 5, 6, 174, 10, 88, 5, 6, 233, 10, 28, 5, 6, 174, 5, 6, 174]\n"
     ]
    }
   ],
   "source": [
    "print('ChordSymbolTokenizer')\n",
    "chordSymbolTokenizer = ChordSymbolTokenizer()\n",
    "print('len(chordSymbolTokenizer.vocab): ', len(chordSymbolTokenizer.vocab))\n",
    "toks_cs = chordSymbolTokenizer(gjt_pieces)\n",
    "print('example sentence length: ', len(toks_cs['tokens'][0]))\n",
    "print(toks_cs['tokens'][0])\n",
    "print(toks_cs['ids'][0])\n",
    "stats['ChordSymbolTokenizer'] = {\n",
    "    'vocab_size': len(chordSymbolTokenizer.vocab),\n",
    "    'seq_len': len(toks_cs['tokens'][0])\n",
    "}"
   ]
  },
  {
   "cell_type": "code",
   "execution_count": 6,
   "metadata": {},
   "outputs": [
    {
     "name": "stdout",
     "output_type": "stream",
     "text": [
      "RootTypeTokenizer\n",
      "len(rootTypeTokenizer.vocab):  63\n",
      "example sentence length:  149\n",
      "['bar', 'position_0x0', 'G', 'min7', 'bar', 'position_0x0', 'C', '7', 'bar', 'position_0x0', 'F', 'maj7', 'bar', 'position_0x0', 'F', 'maj7', 'bar', 'position_0x0', 'G', 'min7', 'bar', 'position_0x0', 'C', '7', 'bar', 'position_0x0', 'F', 'maj7', 'bar', 'position_0x0', 'F', 'maj7', 'bar', 'position_0x0', 'E', 'min7', 'bar', 'position_0x0', 'A', '7', 'bar', 'position_0x0', 'D', 'min7', 'bar', 'position_0x0', 'G', '7', 'bar', 'position_0x0', 'C', 'maj7', 'bar', 'position_0x0', 'D', 'min7', 'position_2x0', 'G', '7', 'bar', 'position_0x0', 'G', 'min7', 'position_0x0', 'C', '7', 'position_0x0', 'F', 'maj', 'bar', 'position_0x0', 'C', '7', 'bar', 'position_0x0', 'G', 'min7', 'bar', 'position_0x0', 'C', '7', 'bar', 'position_0x0', 'F', 'maj7', 'bar', 'position_0x0', 'F', 'maj7', 'bar', 'position_0x0', 'G', 'min7', 'bar', 'position_0x0', 'C', '7', 'bar', 'position_0x0', 'F', 'maj7', 'bar', 'position_0x0', 'F', 'maj7', 'bar', 'position_0x0', 'A', 'maj7', 'position_2x0', 'A#', 'maj7', 'bar', 'position_0x0', 'D', '7', 'bar', 'position_0x0', 'G', 'min7', 'bar', 'position_0x0', 'A#', 'min6', 'position_2x0', 'A', '7', 'bar', 'position_0x0', 'F', 'maj7', 'position_2x0', 'D', 'min7', 'bar', 'position_0x0', 'G', 'min7', 'position_2x0', 'C', '7', 'bar', 'position_0x0', 'F', 'maj7', 'bar', 'position_0x0', 'F', 'maj7']\n",
      "[5, 6, 29, 42, 5, 6, 22, 40, 5, 6, 27, 41, 5, 6, 27, 41, 5, 6, 29, 42, 5, 6, 22, 40, 5, 6, 27, 41, 5, 6, 27, 41, 5, 6, 26, 42, 5, 6, 31, 40, 5, 6, 24, 42, 5, 6, 29, 40, 5, 6, 22, 41, 5, 6, 24, 42, 10, 29, 40, 5, 6, 29, 42, 6, 22, 40, 6, 27, 34, 5, 6, 22, 40, 5, 6, 29, 42, 5, 6, 22, 40, 5, 6, 27, 41, 5, 6, 27, 41, 5, 6, 29, 42, 5, 6, 22, 40, 5, 6, 27, 41, 5, 6, 27, 41, 5, 6, 31, 41, 10, 32, 41, 5, 6, 24, 40, 5, 6, 29, 42, 5, 6, 32, 45, 10, 31, 40, 5, 6, 27, 41, 10, 24, 42, 5, 6, 29, 42, 10, 22, 40, 5, 6, 27, 41, 5, 6, 27, 41]\n"
     ]
    }
   ],
   "source": [
    "print('RootTypeTokenizer')\n",
    "rootTypeTokenizer = RootTypeTokenizer()\n",
    "print('len(rootTypeTokenizer.vocab): ', len(rootTypeTokenizer.vocab))\n",
    "toks_rt = rootTypeTokenizer(gjt_pieces)\n",
    "print('example sentence length: ', len(toks_rt['tokens'][0]))\n",
    "print(toks_rt['tokens'][0])\n",
    "print(toks_rt['ids'][0])"
   ]
  },
  {
   "cell_type": "code",
   "execution_count": 7,
   "metadata": {},
   "outputs": [
    {
     "name": "stdout",
     "output_type": "stream",
     "text": [
      "PitchClassTokenizer\n",
      "len(pitchClassTokenizer.vocab):  34\n",
      "example sentence length:  226\n",
      "['bar', 'position_0x0', 'chord_pc_7', 'chord_pc_10', 'chord_pc_2', 'chord_pc_5', 'bar', 'position_0x0', 'chord_pc_0', 'chord_pc_4', 'chord_pc_7', 'chord_pc_10', 'bar', 'position_0x0', 'chord_pc_5', 'chord_pc_9', 'chord_pc_0', 'chord_pc_4', 'bar', 'position_0x0', 'chord_pc_5', 'chord_pc_9', 'chord_pc_0', 'chord_pc_4', 'bar', 'position_0x0', 'chord_pc_7', 'chord_pc_10', 'chord_pc_2', 'chord_pc_5', 'bar', 'position_0x0', 'chord_pc_0', 'chord_pc_4', 'chord_pc_7', 'chord_pc_10', 'bar', 'position_0x0', 'chord_pc_5', 'chord_pc_9', 'chord_pc_0', 'chord_pc_4', 'bar', 'position_0x0', 'chord_pc_5', 'chord_pc_9', 'chord_pc_0', 'chord_pc_4', 'bar', 'position_0x0', 'chord_pc_4', 'chord_pc_7', 'chord_pc_11', 'chord_pc_2', 'bar', 'position_0x0', 'chord_pc_9', 'chord_pc_1', 'chord_pc_4', 'chord_pc_7', 'bar', 'position_0x0', 'chord_pc_2', 'chord_pc_5', 'chord_pc_9', 'chord_pc_0', 'bar', 'position_0x0', 'chord_pc_7', 'chord_pc_11', 'chord_pc_2', 'chord_pc_5', 'bar', 'position_0x0', 'chord_pc_0', 'chord_pc_4', 'chord_pc_7', 'chord_pc_11', 'bar', 'position_0x0', 'chord_pc_2', 'chord_pc_5', 'chord_pc_9', 'chord_pc_0', 'position_2x0', 'chord_pc_7', 'chord_pc_11', 'chord_pc_2', 'chord_pc_5', 'bar', 'position_0x0', 'chord_pc_7', 'chord_pc_10', 'chord_pc_2', 'chord_pc_5', 'position_0x0', 'chord_pc_0', 'chord_pc_4', 'chord_pc_7', 'chord_pc_10', 'position_0x0', 'chord_pc_5', 'chord_pc_9', 'chord_pc_0', 'bar', 'position_0x0', 'chord_pc_0', 'chord_pc_4', 'chord_pc_7', 'chord_pc_10', 'bar', 'position_0x0', 'chord_pc_7', 'chord_pc_10', 'chord_pc_2', 'chord_pc_5', 'bar', 'position_0x0', 'chord_pc_0', 'chord_pc_4', 'chord_pc_7', 'chord_pc_10', 'bar', 'position_0x0', 'chord_pc_5', 'chord_pc_9', 'chord_pc_0', 'chord_pc_4', 'bar', 'position_0x0', 'chord_pc_5', 'chord_pc_9', 'chord_pc_0', 'chord_pc_4', 'bar', 'position_0x0', 'chord_pc_7', 'chord_pc_10', 'chord_pc_2', 'chord_pc_5', 'bar', 'position_0x0', 'chord_pc_0', 'chord_pc_4', 'chord_pc_7', 'chord_pc_10', 'bar', 'position_0x0', 'chord_pc_5', 'chord_pc_9', 'chord_pc_0', 'chord_pc_4', 'bar', 'position_0x0', 'chord_pc_5', 'chord_pc_9', 'chord_pc_0', 'chord_pc_4', 'bar', 'position_0x0', 'chord_pc_9', 'chord_pc_1', 'chord_pc_4', 'chord_pc_8', 'position_2x0', 'chord_pc_10', 'chord_pc_2', 'chord_pc_5', 'chord_pc_9', 'bar', 'position_0x0', 'chord_pc_2', 'chord_pc_6', 'chord_pc_9', 'chord_pc_0', 'bar', 'position_0x0', 'chord_pc_7', 'chord_pc_10', 'chord_pc_2', 'chord_pc_5', 'bar', 'position_0x0', 'chord_pc_10', 'chord_pc_1', 'chord_pc_5', 'chord_pc_7', 'position_2x0', 'chord_pc_9', 'chord_pc_1', 'chord_pc_4', 'chord_pc_7', 'bar', 'position_0x0', 'chord_pc_5', 'chord_pc_9', 'chord_pc_0', 'chord_pc_4', 'position_2x0', 'chord_pc_2', 'chord_pc_5', 'chord_pc_9', 'chord_pc_0', 'bar', 'position_0x0', 'chord_pc_7', 'chord_pc_10', 'chord_pc_2', 'chord_pc_5', 'position_2x0', 'chord_pc_0', 'chord_pc_4', 'chord_pc_7', 'chord_pc_10', 'bar', 'position_0x0', 'chord_pc_5', 'chord_pc_9', 'chord_pc_0', 'chord_pc_4', 'bar', 'position_0x0', 'chord_pc_5', 'chord_pc_9', 'chord_pc_0', 'chord_pc_4']\n",
      "[5, 7, 30, 33, 25, 28, 5, 7, 23, 27, 30, 33, 5, 7, 28, 32, 23, 27, 5, 7, 28, 32, 23, 27, 5, 7, 30, 33, 25, 28, 5, 7, 23, 27, 30, 33, 5, 7, 28, 32, 23, 27, 5, 7, 28, 32, 23, 27, 5, 7, 27, 30, 34, 25, 5, 7, 32, 24, 27, 30, 5, 7, 25, 28, 32, 23, 5, 7, 30, 34, 25, 28, 5, 7, 23, 27, 30, 34, 5, 7, 25, 28, 32, 23, 11, 30, 34, 25, 28, 5, 7, 30, 33, 25, 28, 7, 23, 27, 30, 33, 7, 28, 32, 23, 5, 7, 23, 27, 30, 33, 5, 7, 30, 33, 25, 28, 5, 7, 23, 27, 30, 33, 5, 7, 28, 32, 23, 27, 5, 7, 28, 32, 23, 27, 5, 7, 30, 33, 25, 28, 5, 7, 23, 27, 30, 33, 5, 7, 28, 32, 23, 27, 5, 7, 28, 32, 23, 27, 5, 7, 32, 24, 27, 31, 11, 33, 25, 28, 32, 5, 7, 25, 29, 32, 23, 5, 7, 30, 33, 25, 28, 5, 7, 33, 24, 28, 30, 11, 32, 24, 27, 30, 5, 7, 28, 32, 23, 27, 11, 25, 28, 32, 23, 5, 7, 30, 33, 25, 28, 11, 23, 27, 30, 33, 5, 7, 28, 32, 23, 27, 5, 7, 28, 32, 23, 27]\n"
     ]
    }
   ],
   "source": [
    "print('PitchClassTokenizer')\n",
    "pitchClassTokenizer = PitchClassTokenizer()\n",
    "print('len(pitchClassTokenizer.vocab): ', len(pitchClassTokenizer.vocab))\n",
    "toks_pc = pitchClassTokenizer(gjt_pieces)\n",
    "print('example sentence length: ', len(toks_pc['tokens'][0]))\n",
    "print(toks_pc['tokens'][0])\n",
    "print(toks_pc['ids'][0])"
   ]
  },
  {
   "cell_type": "code",
   "execution_count": 8,
   "metadata": {},
   "outputs": [
    {
     "name": "stdout",
     "output_type": "stream",
     "text": [
      "RootPCTokenizer\n",
      "len(rootPCTokenizer.vocab):  46\n",
      "example sentence length:  226\n",
      "['bar', 'position_0x0', 'chord_root_7', 'chord_pc_10', 'chord_pc_2', 'chord_pc_5', 'bar', 'position_0x0', 'chord_root_0', 'chord_pc_4', 'chord_pc_7', 'chord_pc_10', 'bar', 'position_0x0', 'chord_root_5', 'chord_pc_9', 'chord_pc_0', 'chord_pc_4', 'bar', 'position_0x0', 'chord_root_5', 'chord_pc_9', 'chord_pc_0', 'chord_pc_4', 'bar', 'position_0x0', 'chord_root_7', 'chord_pc_10', 'chord_pc_2', 'chord_pc_5', 'bar', 'position_0x0', 'chord_root_0', 'chord_pc_4', 'chord_pc_7', 'chord_pc_10', 'bar', 'position_0x0', 'chord_root_5', 'chord_pc_9', 'chord_pc_0', 'chord_pc_4', 'bar', 'position_0x0', 'chord_root_5', 'chord_pc_9', 'chord_pc_0', 'chord_pc_4', 'bar', 'position_0x0', 'chord_root_4', 'chord_pc_7', 'chord_pc_11', 'chord_pc_2', 'bar', 'position_0x0', 'chord_root_9', 'chord_pc_1', 'chord_pc_4', 'chord_pc_7', 'bar', 'position_0x0', 'chord_root_2', 'chord_pc_5', 'chord_pc_9', 'chord_pc_0', 'bar', 'position_0x0', 'chord_root_7', 'chord_pc_11', 'chord_pc_2', 'chord_pc_5', 'bar', 'position_0x0', 'chord_root_0', 'chord_pc_4', 'chord_pc_7', 'chord_pc_11', 'bar', 'position_0x0', 'chord_root_2', 'chord_pc_5', 'chord_pc_9', 'chord_pc_0', 'position_2x0', 'chord_root_7', 'chord_pc_11', 'chord_pc_2', 'chord_pc_5', 'bar', 'position_0x0', 'chord_root_7', 'chord_pc_10', 'chord_pc_2', 'chord_pc_5', 'position_0x0', 'chord_root_0', 'chord_pc_4', 'chord_pc_7', 'chord_pc_10', 'position_0x0', 'chord_root_5', 'chord_pc_9', 'chord_pc_0', 'bar', 'position_0x0', 'chord_root_0', 'chord_pc_4', 'chord_pc_7', 'chord_pc_10', 'bar', 'position_0x0', 'chord_root_7', 'chord_pc_10', 'chord_pc_2', 'chord_pc_5', 'bar', 'position_0x0', 'chord_root_0', 'chord_pc_4', 'chord_pc_7', 'chord_pc_10', 'bar', 'position_0x0', 'chord_root_5', 'chord_pc_9', 'chord_pc_0', 'chord_pc_4', 'bar', 'position_0x0', 'chord_root_5', 'chord_pc_9', 'chord_pc_0', 'chord_pc_4', 'bar', 'position_0x0', 'chord_root_7', 'chord_pc_10', 'chord_pc_2', 'chord_pc_5', 'bar', 'position_0x0', 'chord_root_0', 'chord_pc_4', 'chord_pc_7', 'chord_pc_10', 'bar', 'position_0x0', 'chord_root_5', 'chord_pc_9', 'chord_pc_0', 'chord_pc_4', 'bar', 'position_0x0', 'chord_root_5', 'chord_pc_9', 'chord_pc_0', 'chord_pc_4', 'bar', 'position_0x0', 'chord_root_9', 'chord_pc_1', 'chord_pc_4', 'chord_pc_8', 'position_2x0', 'chord_root_10', 'chord_pc_2', 'chord_pc_5', 'chord_pc_9', 'bar', 'position_0x0', 'chord_root_2', 'chord_pc_6', 'chord_pc_9', 'chord_pc_0', 'bar', 'position_0x0', 'chord_root_7', 'chord_pc_10', 'chord_pc_2', 'chord_pc_5', 'bar', 'position_0x0', 'chord_root_10', 'chord_pc_1', 'chord_pc_5', 'chord_pc_7', 'position_2x0', 'chord_root_9', 'chord_pc_1', 'chord_pc_4', 'chord_pc_7', 'bar', 'position_0x0', 'chord_root_5', 'chord_pc_9', 'chord_pc_0', 'chord_pc_4', 'position_2x0', 'chord_root_2', 'chord_pc_5', 'chord_pc_9', 'chord_pc_0', 'bar', 'position_0x0', 'chord_root_7', 'chord_pc_10', 'chord_pc_2', 'chord_pc_5', 'position_2x0', 'chord_root_0', 'chord_pc_4', 'chord_pc_7', 'chord_pc_10', 'bar', 'position_0x0', 'chord_root_5', 'chord_pc_9', 'chord_pc_0', 'chord_pc_4', 'bar', 'position_0x0', 'chord_root_5', 'chord_pc_9', 'chord_pc_0', 'chord_pc_4']\n",
      "[5, 7, 30, 45, 37, 40, 5, 7, 23, 39, 42, 45, 5, 7, 28, 44, 35, 39, 5, 7, 28, 44, 35, 39, 5, 7, 30, 45, 37, 40, 5, 7, 23, 39, 42, 45, 5, 7, 28, 44, 35, 39, 5, 7, 28, 44, 35, 39, 5, 7, 27, 42, 46, 37, 5, 7, 32, 36, 39, 42, 5, 7, 25, 40, 44, 35, 5, 7, 30, 46, 37, 40, 5, 7, 23, 39, 42, 46, 5, 7, 25, 40, 44, 35, 11, 30, 46, 37, 40, 5, 7, 30, 45, 37, 40, 7, 23, 39, 42, 45, 7, 28, 44, 35, 5, 7, 23, 39, 42, 45, 5, 7, 30, 45, 37, 40, 5, 7, 23, 39, 42, 45, 5, 7, 28, 44, 35, 39, 5, 7, 28, 44, 35, 39, 5, 7, 30, 45, 37, 40, 5, 7, 23, 39, 42, 45, 5, 7, 28, 44, 35, 39, 5, 7, 28, 44, 35, 39, 5, 7, 32, 36, 39, 43, 11, 33, 37, 40, 44, 5, 7, 25, 41, 44, 35, 5, 7, 30, 45, 37, 40, 5, 7, 33, 36, 40, 42, 11, 32, 36, 39, 42, 5, 7, 28, 44, 35, 39, 11, 25, 40, 44, 35, 5, 7, 30, 45, 37, 40, 11, 23, 39, 42, 45, 5, 7, 28, 44, 35, 39, 5, 7, 28, 44, 35, 39]\n"
     ]
    }
   ],
   "source": [
    "print('RootPCTokenizer')\n",
    "rootPCTokenizer = RootPCTokenizer()\n",
    "print('len(rootPCTokenizer.vocab): ', len(rootPCTokenizer.vocab))\n",
    "toks_rpc = rootPCTokenizer(gjt_pieces)\n",
    "print('example sentence length: ', len(toks_rpc['tokens'][0]))\n",
    "print(toks_rpc['tokens'][0])\n",
    "print(toks_rpc['ids'][0])"
   ]
  },
  {
   "cell_type": "code",
   "execution_count": 9,
   "metadata": {},
   "outputs": [
    {
     "name": "stdout",
     "output_type": "stream",
     "text": [
      "GCTRootTypeTokenizer\n",
      "len(gctRootTypeTokenizer.vocab):  46\n",
      "example sentence length:  226\n",
      "['bar', 'position_0x0', 'chord_root_10', 'chord_pc_2', 'chord_pc_5', 'chord_pc_7', 'bar', 'position_0x0', 'chord_root_0', 'chord_pc_4', 'chord_pc_7', 'chord_pc_10', 'bar', 'position_0x0', 'chord_root_9', 'chord_pc_0', 'chord_pc_4', 'chord_pc_5', 'bar', 'position_0x0', 'chord_root_9', 'chord_pc_0', 'chord_pc_4', 'chord_pc_5', 'bar', 'position_0x0', 'chord_root_10', 'chord_pc_2', 'chord_pc_5', 'chord_pc_7', 'bar', 'position_0x0', 'chord_root_0', 'chord_pc_4', 'chord_pc_7', 'chord_pc_10', 'bar', 'position_0x0', 'chord_root_9', 'chord_pc_0', 'chord_pc_4', 'chord_pc_5', 'bar', 'position_0x0', 'chord_root_9', 'chord_pc_0', 'chord_pc_4', 'chord_pc_5', 'bar', 'position_0x0', 'chord_root_7', 'chord_pc_11', 'chord_pc_2', 'chord_pc_4', 'bar', 'position_0x0', 'chord_root_9', 'chord_pc_1', 'chord_pc_4', 'chord_pc_7', 'bar', 'position_0x0', 'chord_root_5', 'chord_pc_9', 'chord_pc_0', 'chord_pc_2', 'bar', 'position_0x0', 'chord_root_7', 'chord_pc_11', 'chord_pc_2', 'chord_pc_5', 'bar', 'position_0x0', 'chord_root_4', 'chord_pc_7', 'chord_pc_11', 'chord_pc_0', 'bar', 'position_0x0', 'chord_root_5', 'chord_pc_9', 'chord_pc_0', 'chord_pc_2', 'position_2x0', 'chord_root_7', 'chord_pc_11', 'chord_pc_2', 'chord_pc_5', 'bar', 'position_0x0', 'chord_root_10', 'chord_pc_2', 'chord_pc_5', 'chord_pc_7', 'position_0x0', 'chord_root_0', 'chord_pc_4', 'chord_pc_7', 'chord_pc_10', 'position_0x0', 'chord_root_5', 'chord_pc_9', 'chord_pc_0', 'bar', 'position_0x0', 'chord_root_0', 'chord_pc_4', 'chord_pc_7', 'chord_pc_10', 'bar', 'position_0x0', 'chord_root_10', 'chord_pc_2', 'chord_pc_5', 'chord_pc_7', 'bar', 'position_0x0', 'chord_root_0', 'chord_pc_4', 'chord_pc_7', 'chord_pc_10', 'bar', 'position_0x0', 'chord_root_9', 'chord_pc_0', 'chord_pc_4', 'chord_pc_5', 'bar', 'position_0x0', 'chord_root_9', 'chord_pc_0', 'chord_pc_4', 'chord_pc_5', 'bar', 'position_0x0', 'chord_root_10', 'chord_pc_2', 'chord_pc_5', 'chord_pc_7', 'bar', 'position_0x0', 'chord_root_0', 'chord_pc_4', 'chord_pc_7', 'chord_pc_10', 'bar', 'position_0x0', 'chord_root_9', 'chord_pc_0', 'chord_pc_4', 'chord_pc_5', 'bar', 'position_0x0', 'chord_root_9', 'chord_pc_0', 'chord_pc_4', 'chord_pc_5', 'bar', 'position_0x0', 'chord_root_9', 'chord_pc_1', 'chord_pc_4', 'chord_pc_8', 'position_2x0', 'chord_root_2', 'chord_pc_5', 'chord_pc_9', 'chord_pc_10', 'bar', 'position_0x0', 'chord_root_2', 'chord_pc_6', 'chord_pc_9', 'chord_pc_0', 'bar', 'position_0x0', 'chord_root_10', 'chord_pc_2', 'chord_pc_5', 'chord_pc_7', 'bar', 'position_0x0', 'chord_root_10', 'chord_pc_1', 'chord_pc_5', 'chord_pc_7', 'position_2x0', 'chord_root_9', 'chord_pc_1', 'chord_pc_4', 'chord_pc_7', 'bar', 'position_0x0', 'chord_root_9', 'chord_pc_0', 'chord_pc_4', 'chord_pc_5', 'position_2x0', 'chord_root_5', 'chord_pc_9', 'chord_pc_0', 'chord_pc_2', 'bar', 'position_0x0', 'chord_root_10', 'chord_pc_2', 'chord_pc_5', 'chord_pc_7', 'position_2x0', 'chord_root_0', 'chord_pc_4', 'chord_pc_7', 'chord_pc_10', 'bar', 'position_0x0', 'chord_root_9', 'chord_pc_0', 'chord_pc_4', 'chord_pc_5', 'bar', 'position_0x0', 'chord_root_9', 'chord_pc_0', 'chord_pc_4', 'chord_pc_5']\n",
      "[5, 7, 33, 37, 40, 42, 5, 7, 23, 39, 42, 45, 5, 7, 32, 35, 39, 40, 5, 7, 32, 35, 39, 40, 5, 7, 33, 37, 40, 42, 5, 7, 23, 39, 42, 45, 5, 7, 32, 35, 39, 40, 5, 7, 32, 35, 39, 40, 5, 7, 30, 46, 37, 39, 5, 7, 32, 36, 39, 42, 5, 7, 28, 44, 35, 37, 5, 7, 30, 46, 37, 40, 5, 7, 27, 42, 46, 35, 5, 7, 28, 44, 35, 37, 11, 30, 46, 37, 40, 5, 7, 33, 37, 40, 42, 7, 23, 39, 42, 45, 7, 28, 44, 35, 5, 7, 23, 39, 42, 45, 5, 7, 33, 37, 40, 42, 5, 7, 23, 39, 42, 45, 5, 7, 32, 35, 39, 40, 5, 7, 32, 35, 39, 40, 5, 7, 33, 37, 40, 42, 5, 7, 23, 39, 42, 45, 5, 7, 32, 35, 39, 40, 5, 7, 32, 35, 39, 40, 5, 7, 32, 36, 39, 43, 11, 25, 40, 44, 45, 5, 7, 25, 41, 44, 35, 5, 7, 33, 37, 40, 42, 5, 7, 33, 36, 40, 42, 11, 32, 36, 39, 42, 5, 7, 32, 35, 39, 40, 11, 28, 44, 35, 37, 5, 7, 33, 37, 40, 42, 11, 23, 39, 42, 45, 5, 7, 32, 35, 39, 40, 5, 7, 32, 35, 39, 40]\n"
     ]
    }
   ],
   "source": [
    "print('GCTRootTypeTokenizer')\n",
    "gctRootPCTokenizer = GCTRootPCTokenizer()\n",
    "print('len(gctRootTypeTokenizer.vocab): ', len(gctRootPCTokenizer.vocab))\n",
    "toks_gct_rpc = gctRootPCTokenizer(gjt_pieces)\n",
    "print('example sentence length: ', len(toks_gct_rpc['tokens'][0]))\n",
    "print(toks_gct_rpc['tokens'][0])\n",
    "print(toks_gct_rpc['ids'][0])"
   ]
  },
  {
   "cell_type": "code",
   "execution_count": 10,
   "metadata": {},
   "outputs": [
    {
     "name": "stdout",
     "output_type": "stream",
     "text": [
      "GCTSymbolTokenizer\n",
      "training\n",
      "len(gctSymbolTokenizer.vocab):  210\n",
      "example sentence length:  110\n",
      "['bar', 'position_0x0', '[10  0  4  7  9]', 'bar', 'position_0x0', '[ 0  0  4  7 10]', 'bar', 'position_0x0', '[9 0 3 7 8]', 'bar', 'position_0x0', '[9 0 3 7 8]', 'bar', 'position_0x0', '[10  0  4  7  9]', 'bar', 'position_0x0', '[ 0  0  4  7 10]', 'bar', 'position_0x0', '[9 0 3 7 8]', 'bar', 'position_0x0', '[9 0 3 7 8]', 'bar', 'position_0x0', '[7 0 4 7 9]', 'bar', 'position_0x0', '[ 9  0  4  7 10]', 'bar', 'position_0x0', '[5 0 4 7 9]', 'bar', 'position_0x0', '[ 7  0  4  7 10]', 'bar', 'position_0x0', '[4 0 3 7 8]', 'bar', 'position_0x0', '[5 0 4 7 9]', 'position_2x0', '[ 7  0  4  7 10]', 'bar', 'position_0x0', '[10  0  4  7  9]', 'position_0x0', '[ 0  0  4  7 10]', 'position_0x0', '[5 0 4 7]', 'bar', 'position_0x0', '[ 0  0  4  7 10]', 'bar', 'position_0x0', '[10  0  4  7  9]', 'bar', 'position_0x0', '[ 0  0  4  7 10]', 'bar', 'position_0x0', '[9 0 3 7 8]', 'bar', 'position_0x0', '[9 0 3 7 8]', 'bar', 'position_0x0', '[10  0  4  7  9]', 'bar', 'position_0x0', '[ 0  0  4  7 10]', 'bar', 'position_0x0', '[9 0 3 7 8]', 'bar', 'position_0x0', '[9 0 3 7 8]', 'bar', 'position_0x0', '[ 9  0  4  7 11]', 'position_2x0', '[2 0 3 7 8]', 'bar', 'position_0x0', '[ 2  0  4  7 10]', 'bar', 'position_0x0', '[10  0  4  7  9]', 'bar', 'position_0x0', '[10  0  3  7  9]', 'position_2x0', '[ 9  0  4  7 10]', 'bar', 'position_0x0', '[9 0 3 7 8]', 'position_2x0', '[5 0 4 7 9]', 'bar', 'position_0x0', '[10  0  4  7  9]', 'position_2x0', '[ 0  0  4  7 10]', 'bar', 'position_0x0', '[9 0 3 7 8]', 'bar', 'position_0x0', '[9 0 3 7 8]']\n",
      "[5, 7, 22, 5, 7, 23, 5, 7, 24, 5, 7, 24, 5, 7, 22, 5, 7, 23, 5, 7, 24, 5, 7, 24, 5, 7, 25, 5, 7, 26, 5, 7, 27, 5, 7, 28, 5, 7, 29, 5, 7, 27, 11, 28, 5, 7, 22, 7, 23, 7, 30, 5, 7, 23, 5, 7, 22, 5, 7, 23, 5, 7, 24, 5, 7, 24, 5, 7, 22, 5, 7, 23, 5, 7, 24, 5, 7, 24, 5, 7, 31, 11, 32, 5, 7, 33, 5, 7, 22, 5, 7, 34, 11, 26, 5, 7, 24, 11, 27, 5, 7, 22, 11, 23, 5, 7, 24, 5, 7, 24]\n"
     ]
    }
   ],
   "source": [
    "print('GCTSymbolTokenizer')\n",
    "gctSymbolTokenizer = GCTSymbolTokenizer()\n",
    "print('training')\n",
    "gctSymbolTokenizer.fit( gjt_pieces )\n",
    "print('len(gctSymbolTokenizer.vocab): ', len(gctSymbolTokenizer.vocab))\n",
    "toks_gct_symb = gctSymbolTokenizer(gjt_pieces)\n",
    "print('example sentence length: ', len(toks_gct_symb['tokens'][0]))\n",
    "print(toks_gct_symb['tokens'][0])\n",
    "print(toks_gct_symb['ids'][0])"
   ]
  },
  {
   "cell_type": "code",
   "execution_count": 11,
   "metadata": {},
   "outputs": [
    {
     "name": "stdout",
     "output_type": "stream",
     "text": [
      "GCTRootTypeTokenizer\n",
      "training\n",
      "len(gctRootTypeTokenizer.vocab):  71\n",
      "example sentence length:  149\n",
      "['bar', 'position_0x0', 'chord_root_10', '[0 4 7 9]', 'bar', 'position_0x0', 'chord_root_0', '[ 0  4  7 10]', 'bar', 'position_0x0', 'chord_root_9', '[0 3 7 8]', 'bar', 'position_0x0', 'chord_root_9', '[0 3 7 8]', 'bar', 'position_0x0', 'chord_root_10', '[0 4 7 9]', 'bar', 'position_0x0', 'chord_root_0', '[ 0  4  7 10]', 'bar', 'position_0x0', 'chord_root_9', '[0 3 7 8]', 'bar', 'position_0x0', 'chord_root_9', '[0 3 7 8]', 'bar', 'position_0x0', 'chord_root_7', '[0 4 7 9]', 'bar', 'position_0x0', 'chord_root_9', '[ 0  4  7 10]', 'bar', 'position_0x0', 'chord_root_5', '[0 4 7 9]', 'bar', 'position_0x0', 'chord_root_7', '[ 0  4  7 10]', 'bar', 'position_0x0', 'chord_root_4', '[0 3 7 8]', 'bar', 'position_0x0', 'chord_root_5', '[0 4 7 9]', 'position_2x0', 'chord_root_7', '[ 0  4  7 10]', 'bar', 'position_0x0', 'chord_root_10', '[0 4 7 9]', 'position_0x0', 'chord_root_0', '[ 0  4  7 10]', 'position_0x0', 'chord_root_5', '[0 4 7]', 'bar', 'position_0x0', 'chord_root_0', '[ 0  4  7 10]', 'bar', 'position_0x0', 'chord_root_10', '[0 4 7 9]', 'bar', 'position_0x0', 'chord_root_0', '[ 0  4  7 10]', 'bar', 'position_0x0', 'chord_root_9', '[0 3 7 8]', 'bar', 'position_0x0', 'chord_root_9', '[0 3 7 8]', 'bar', 'position_0x0', 'chord_root_10', '[0 4 7 9]', 'bar', 'position_0x0', 'chord_root_0', '[ 0  4  7 10]', 'bar', 'position_0x0', 'chord_root_9', '[0 3 7 8]', 'bar', 'position_0x0', 'chord_root_9', '[0 3 7 8]', 'bar', 'position_0x0', 'chord_root_9', '[ 0  4  7 11]', 'position_2x0', 'chord_root_2', '[0 3 7 8]', 'bar', 'position_0x0', 'chord_root_2', '[ 0  4  7 10]', 'bar', 'position_0x0', 'chord_root_10', '[0 4 7 9]', 'bar', 'position_0x0', 'chord_root_10', '[0 3 7 9]', 'position_2x0', 'chord_root_9', '[ 0  4  7 10]', 'bar', 'position_0x0', 'chord_root_9', '[0 3 7 8]', 'position_2x0', 'chord_root_5', '[0 4 7 9]', 'bar', 'position_0x0', 'chord_root_10', '[0 4 7 9]', 'position_2x0', 'chord_root_0', '[ 0  4  7 10]', 'bar', 'position_0x0', 'chord_root_9', '[0 3 7 8]', 'bar', 'position_0x0', 'chord_root_9', '[0 3 7 8]']\n",
      "[5, 7, 33, 34, 5, 7, 23, 35, 5, 7, 32, 36, 5, 7, 32, 36, 5, 7, 33, 34, 5, 7, 23, 35, 5, 7, 32, 36, 5, 7, 32, 36, 5, 7, 30, 34, 5, 7, 32, 35, 5, 7, 28, 34, 5, 7, 30, 35, 5, 7, 27, 36, 5, 7, 28, 34, 11, 30, 35, 5, 7, 33, 34, 7, 23, 35, 7, 28, 37, 5, 7, 23, 35, 5, 7, 33, 34, 5, 7, 23, 35, 5, 7, 32, 36, 5, 7, 32, 36, 5, 7, 33, 34, 5, 7, 23, 35, 5, 7, 32, 36, 5, 7, 32, 36, 5, 7, 32, 38, 11, 25, 36, 5, 7, 25, 35, 5, 7, 33, 34, 5, 7, 33, 39, 11, 32, 35, 5, 7, 32, 36, 11, 28, 34, 5, 7, 33, 34, 11, 23, 35, 5, 7, 32, 36, 5, 7, 32, 36]\n"
     ]
    }
   ],
   "source": [
    "print('GCTRootTypeTokenizer')\n",
    "gctRootTypeTokenizer = GCTRootTypeTokenizer()\n",
    "print('training')\n",
    "gctRootTypeTokenizer.fit( gjt_pieces )\n",
    "print('len(gctRootTypeTokenizer.vocab): ', len(gctRootTypeTokenizer.vocab))\n",
    "toks_gct_rt = gctRootTypeTokenizer(gjt_pieces)\n",
    "print('example sentence length: ', len(toks_gct_rt['tokens'][0]))\n",
    "print(toks_gct_rt['tokens'][0])\n",
    "print(toks_gct_rt['ids'][0])"
   ]
  },
  {
   "cell_type": "code",
   "execution_count": 14,
   "metadata": {},
   "outputs": [
    {
     "name": "stdout",
     "output_type": "stream",
     "text": [
      "Tokenizer             \t vocab size \t sequence length\n",
      "ChordSymbolTokenizer: \t \t370\t\t 110\n"
     ]
    }
   ],
   "source": [
    "# stats\n",
    "print('Tokenizer             \\t', 'vocab size \\t', 'sequence length')\n",
    "print('ChordSymbolTokenizer: \\t', '\\t'+str(len(chordSymbolTokenizer.vocab))+'\\t\\t', len(toks_cs['tokens'][0]))"
   ]
  }
 ],
 "metadata": {
  "kernelspec": {
   "display_name": "midi",
   "language": "python",
   "name": "python3"
  },
  "language_info": {
   "codemirror_mode": {
    "name": "ipython",
    "version": 3
   },
   "file_extension": ".py",
   "mimetype": "text/x-python",
   "name": "python",
   "nbconvert_exporter": "python",
   "pygments_lexer": "ipython3",
   "version": "3.11.7"
  }
 },
 "nbformat": 4,
 "nbformat_minor": 2
}
