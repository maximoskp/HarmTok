{
 "cells": [
  {
   "cell_type": "code",
   "execution_count": 1,
   "metadata": {},
   "outputs": [],
   "source": [
    "# USER OPTIONS\n",
    "# define tokenizer name - should be one among the keys in the cell below\n",
    "tokenizer_name = 'ChordSymbolTokenizer' # or any other name from the keys in tokenizers dictionary\n",
    "# folder to xmls\n",
    "val_dir = '/media/maindisk/maximos/data/gjt_melodies/Library_melodies'\n",
    "# val_dir = '/media/datadisk/datasets/gjt_melodies/Library_melodies'\n",
    "# val_dir = '/media/maximos/9C33-6BBD/data/gjt_melodies/Library_melodies'\n",
    "\n",
    "# define batch size depending on GPU availability / status\n",
    "batchsize = 16\n",
    "# select device name - could be 'cpu', 'cuda', 'coda:0', 'cuda:1'...\n",
    "device_name = 'cpu'"
   ]
  },
  {
   "cell_type": "code",
   "execution_count": 2,
   "metadata": {},
   "outputs": [
    {
     "name": "stderr",
     "output_type": "stream",
     "text": [
      "/home/maximos/miniconda3/envs/torch/lib/python3.12/site-packages/tqdm/auto.py:21: TqdmWarning: IProgress not found. Please update jupyter and ipywidgets. See https://ipywidgets.readthedocs.io/en/stable/user_install.html\n",
      "  from .autonotebook import tqdm as notebook_tqdm\n"
     ]
    }
   ],
   "source": [
    "from data_utils import MergedMelHarmDataset, PureGenCollator\n",
    "import os\n",
    "import numpy as np\n",
    "from harmony_tokenizers_m21 import ChordSymbolTokenizer, RootTypeTokenizer, \\\n",
    "    PitchClassTokenizer, RootPCTokenizer, GCTRootPCTokenizer, \\\n",
    "    GCTSymbolTokenizer, GCTRootTypeTokenizer, MelodyPitchTokenizer, \\\n",
    "    MergedMelHarmTokenizer\n",
    "from torch.utils.data import DataLoader\n",
    "from transformers import RobertaConfig, RobertaForMaskedLM, AutoConfig, GPT2LMHeadModel\n",
    "import torch\n",
    "from tqdm import tqdm"
   ]
  },
  {
   "cell_type": "code",
   "execution_count": 3,
   "metadata": {},
   "outputs": [],
   "source": [
    "tokenizers = {\n",
    "    'ChordSymbolTokenizer': ChordSymbolTokenizer,\n",
    "    'RootTypeTokenizer': RootTypeTokenizer,\n",
    "    'PitchClassTokenizer': PitchClassTokenizer,\n",
    "    'RootPCTokenizer': RootPCTokenizer,\n",
    "    'GCTRootPCTokenizer': GCTRootPCTokenizer,\n",
    "    'GCTSymbolTokenizer': GCTSymbolTokenizer,\n",
    "    'GCTRootTypeTokenizer': GCTRootTypeTokenizer\n",
    "}"
   ]
  },
  {
   "cell_type": "code",
   "execution_count": 4,
   "metadata": {},
   "outputs": [],
   "source": [
    "melody_tokenizer = MelodyPitchTokenizer.from_pretrained('saved_tokenizers/MelodyPitchTokenizer')\n",
    "harmony_tokenizer = tokenizers[tokenizer_name].from_pretrained('saved_tokenizers/' + tokenizer_name)\n",
    "\n",
    "tokenizer = MergedMelHarmTokenizer(melody_tokenizer, harmony_tokenizer)"
   ]
  },
  {
   "cell_type": "code",
   "execution_count": 5,
   "metadata": {},
   "outputs": [],
   "source": [
    "collator = PureGenCollator(tokenizer)\n",
    "val_dataset = MergedMelHarmDataset(val_dir, tokenizer, max_length=None, return_harmonization_labels=True)\n",
    "model_path = 'saved_models/gen/' + tokenizer_name + '/' + tokenizer_name + '.pt'\n",
    "\n",
    "valloader = DataLoader(val_dataset, batch_size=batchsize, shuffle=True, collate_fn=collator)"
   ]
  },
  {
   "cell_type": "code",
   "execution_count": 6,
   "metadata": {},
   "outputs": [
    {
     "data": {
      "text/plain": [
       "GPT2LMHeadModel(\n",
       "  (transformer): GPT2Model(\n",
       "    (wte): Embedding(545, 256)\n",
       "    (wpe): Embedding(2048, 256)\n",
       "    (drop): Dropout(p=0.1, inplace=False)\n",
       "    (h): ModuleList(\n",
       "      (0-3): 4 x GPT2Block(\n",
       "        (ln_1): LayerNorm((256,), eps=1e-05, elementwise_affine=True)\n",
       "        (attn): GPT2SdpaAttention(\n",
       "          (c_attn): Conv1D(nf=768, nx=256)\n",
       "          (c_proj): Conv1D(nf=256, nx=256)\n",
       "          (attn_dropout): Dropout(p=0.1, inplace=False)\n",
       "          (resid_dropout): Dropout(p=0.1, inplace=False)\n",
       "        )\n",
       "        (ln_2): LayerNorm((256,), eps=1e-05, elementwise_affine=True)\n",
       "        (mlp): GPT2MLP(\n",
       "          (c_fc): Conv1D(nf=1024, nx=256)\n",
       "          (c_proj): Conv1D(nf=256, nx=1024)\n",
       "          (act): NewGELUActivation()\n",
       "          (dropout): Dropout(p=0.1, inplace=False)\n",
       "        )\n",
       "      )\n",
       "    )\n",
       "    (ln_f): LayerNorm((256,), eps=1e-05, elementwise_affine=True)\n",
       "  )\n",
       "  (lm_head): Linear(in_features=256, out_features=545, bias=False)\n",
       ")"
      ]
     },
     "execution_count": 6,
     "metadata": {},
     "output_type": "execute_result"
    }
   ],
   "source": [
    "config = AutoConfig.from_pretrained(\n",
    "    \"gpt2\",\n",
    "    vocab_size=len(tokenizer.vocab),\n",
    "    n_positions=2048,\n",
    "    n_layer=4,\n",
    "    n_head=4,\n",
    "    pad_token_id=tokenizer.vocab[tokenizer.pad_token],\n",
    "    bos_token_id=tokenizer.vocab[tokenizer.bos_token],\n",
    "    eos_token_id=tokenizer.vocab[tokenizer.eos_token],\n",
    "    n_embd=256\n",
    ")\n",
    "\n",
    "model = GPT2LMHeadModel(config)\n",
    "\n",
    "checkpoint = torch.load(model_path, map_location=\"cpu\", weights_only=True)\n",
    "model.load_state_dict(checkpoint)\n",
    "\n",
    "model.eval()"
   ]
  },
  {
   "cell_type": "code",
   "execution_count": 7,
   "metadata": {},
   "outputs": [
    {
     "data": {
      "text/plain": [
       "GPT2LMHeadModel(\n",
       "  (transformer): GPT2Model(\n",
       "    (wte): Embedding(545, 256)\n",
       "    (wpe): Embedding(2048, 256)\n",
       "    (drop): Dropout(p=0.1, inplace=False)\n",
       "    (h): ModuleList(\n",
       "      (0-3): 4 x GPT2Block(\n",
       "        (ln_1): LayerNorm((256,), eps=1e-05, elementwise_affine=True)\n",
       "        (attn): GPT2SdpaAttention(\n",
       "          (c_attn): Conv1D(nf=768, nx=256)\n",
       "          (c_proj): Conv1D(nf=256, nx=256)\n",
       "          (attn_dropout): Dropout(p=0.1, inplace=False)\n",
       "          (resid_dropout): Dropout(p=0.1, inplace=False)\n",
       "        )\n",
       "        (ln_2): LayerNorm((256,), eps=1e-05, elementwise_affine=True)\n",
       "        (mlp): GPT2MLP(\n",
       "          (c_fc): Conv1D(nf=1024, nx=256)\n",
       "          (c_proj): Conv1D(nf=256, nx=1024)\n",
       "          (act): NewGELUActivation()\n",
       "          (dropout): Dropout(p=0.1, inplace=False)\n",
       "        )\n",
       "      )\n",
       "    )\n",
       "    (ln_f): LayerNorm((256,), eps=1e-05, elementwise_affine=True)\n",
       "  )\n",
       "  (lm_head): Linear(in_features=256, out_features=545, bias=False)\n",
       ")"
      ]
     },
     "execution_count": 7,
     "metadata": {},
     "output_type": "execute_result"
    }
   ],
   "source": [
    "if device_name == 'cpu':\n",
    "    device = torch.device('cpu')\n",
    "else:\n",
    "    if torch.cuda.is_available():\n",
    "        device = torch.device(device_name)\n",
    "    else:\n",
    "        print('Selected device not available: ' + device_name)\n",
    "model.to(device)"
   ]
  },
  {
   "cell_type": "code",
   "execution_count": 8,
   "metadata": {},
   "outputs": [
    {
     "name": "stderr",
     "output_type": "stream",
     "text": [
      "Running:   0%|          | 0/41 [00:00<?, ?batch/s]"
     ]
    },
    {
     "name": "stdout",
     "output_type": "stream",
     "text": [
      "Running:   0%|          | 0/41 [00:00<?, ?batch/s]\n"
     ]
    },
    {
     "name": "stderr",
     "output_type": "stream",
     "text": [
      "/home/maximos/miniconda3/envs/torch/lib/python3.12/site-packages/music21/stream/base.py:3694: Music21DeprecationWarning: .flat is deprecated.  Call .flatten() instead\n",
      "  return self.iter().getElementsByClass(classFilterList)\n",
      "/home/maximos/miniconda3/envs/torch/lib/python3.12/site-packages/music21/stream/base.py:3694: Music21DeprecationWarning: .flat is deprecated.  Call .flatten() instead\n",
      "  return self.iter().getElementsByClass(classFilterList)\n",
      "In /home/maximos/miniconda3/envs/torch/lib/python3.12/site-packages/matplotlib/mpl-data/stylelib/seaborn-v0_8-muted.mplstyle: .flat is deprecated.  Call .flatten() instead\n",
      "In /home/maximos/miniconda3/envs/torch/lib/python3.12/site-packages/matplotlib/mpl-data/stylelib/dark_background.mplstyle: .flat is deprecated.  Call .flatten() instead\n",
      "In /home/maximos/miniconda3/envs/torch/lib/python3.12/site-packages/matplotlib/mpl-data/stylelib/seaborn-v0_8-dark.mplstyle: .flat is deprecated.  Call .flatten() instead\n",
      "In /home/maximos/miniconda3/envs/torch/lib/python3.12/site-packages/matplotlib/mpl-data/stylelib/bmh.mplstyle: .flat is deprecated.  Call .flatten() instead\n",
      "/home/maximos/miniconda3/envs/torch/lib/python3.12/site-packages/music21/stream/base.py:3694: Music21DeprecationWarning: .flat is deprecated.  Call .flatten() instead\n",
      "  return self.iter().getElementsByClass(classFilterList)\n"
     ]
    },
    {
     "name": "stdout",
     "output_type": "stream",
     "text": [
      "input_tokens:  ['<s>', '<bar>', 'ts_4x4', 'position_0x00', 'P:73', '<bar>', 'position_0x00', 'P:73', 'position_1x00', 'P:72', 'position_1x50', 'P:70', 'position_2x00', 'P:73', 'position_3x00', 'P:72', '<bar>', 'position_0x00', 'P:70', 'position_2x00', 'P:70', '<bar>', 'position_0x00', 'P:70', 'position_1x00', 'P:68', 'position_2x00', 'P:59', 'position_3x00', 'P:60', '<bar>', 'position_0x00', 'P:68', '<bar>', 'position_0x00', 'P:68', 'position_1x00', 'P:59', 'position_1x50', 'P:60', 'position_2x00', 'P:68', 'position_3x00', 'P:67', '<bar>', 'position_0x00', 'P:67', '<bar>', 'position_0x00', 'P:67', 'position_1x00', 'P:65', 'position_2x00', 'P:59', 'position_3x00', 'P:60', '<bar>', 'position_0x00', 'P:67', 'position_1x00', 'P:65', 'position_1x50', 'P:67', 'position_2x00', 'P:65', '<bar>', 'position_0x00', 'P:65', 'position_1x00', 'P:63', 'position_2x00', 'P:62', 'position_3x00', 'P:63', '<bar>', 'position_0x00', 'P:70', 'position_1x00', 'P:68', 'position_1x50', 'P:70', 'position_2x00', 'P:68', '<bar>', 'position_0x00', 'P:68', 'position_1x00', 'P:65', 'position_2x00', 'P:67', 'position_3x00', 'P:68', '<bar>', 'position_0x00', 'P:72', 'position_1x00', 'P:70', 'position_1x50', 'P:72', 'position_2x00', 'P:70', '<bar>', 'position_0x00', 'P:70', 'position_1x00', 'P:68', 'position_2x00', 'P:64', 'position_3x00', 'P:65', '<bar>', 'position_0x00', 'P:70', '<bar>', 'position_0x00', 'P:70', 'position_1x00', 'P:63', 'position_2x00', 'P:64', 'position_3x00', 'P:65', '<bar>', 'position_0x00', 'P:73', '<bar>', 'position_0x00', 'P:73', 'position_1x00', 'P:72', 'position_1x50', 'P:70', 'position_2x00', 'P:73', 'position_3x00', 'P:72', '<bar>', 'position_0x00', 'P:70', 'position_2x00', 'P:70', '<bar>', 'position_0x00', 'P:70', 'position_1x00', 'P:68', 'position_2x00', 'P:59', 'position_3x00', 'P:60', '<bar>', 'position_0x00', 'P:68', '<bar>', 'position_0x00', 'P:68', 'position_1x00', 'P:59', 'position_1x50', 'P:60', 'position_2x00', 'P:68', 'position_3x00', 'P:67', '<bar>', 'position_0x00', 'P:67', '<bar>', 'position_0x00', 'P:67', 'position_2x00', 'P:65', 'position_3x00', 'P:60', '<bar>', 'position_0x00', 'P:61', 'position_1x00', 'P:63', 'position_1x50', 'P:65', 'position_2x00', 'P:75', '<bar>', 'position_0x00', 'P:75', 'position_1x00', 'P:73', 'position_1x50', 'P:72', 'position_2x00', 'P:75', 'position_3x00', 'P:73', '<bar>', 'position_0x00', 'P:73', 'position_1x00', 'P:71', 'position_1x50', 'P:72', 'position_2x00', 'P:67', '<bar>', 'position_0x00', 'P:67', 'position_1x00', 'P:68', 'position_2x00', 'P:60', 'position_3x00', 'P:67', '<bar>', 'position_0x00', 'P:65', '<bar>', 'position_0x00', 'P:65', 'position_1x00', 'P:62', 'position_1x50', 'P:63', 'position_2x00', 'P:73', 'position_3x00', 'P:72', '<bar>', 'position_0x00', 'P:68', '<bar>', 'position_0x00', 'P:68', 'position_1x00', '<rest>', 'position_2x00', '<rest>', '<h>']\n",
      "real_tokens:  ['<s>', '<bar>', 'ts_4x4', 'position_0x00', 'P:73', '<bar>', 'position_0x00', 'P:73', 'position_1x00', 'P:72', 'position_1x50', 'P:70', 'position_2x00', 'P:73', 'position_3x00', 'P:72', '<bar>', 'position_0x00', 'P:70', 'position_2x00', 'P:70', '<bar>', 'position_0x00', 'P:70', 'position_1x00', 'P:68', 'position_2x00', 'P:59', 'position_3x00', 'P:60', '<bar>', 'position_0x00', 'P:68', '<bar>', 'position_0x00', 'P:68', 'position_1x00', 'P:59', 'position_1x50', 'P:60', 'position_2x00', 'P:68', 'position_3x00', 'P:67', '<bar>', 'position_0x00', 'P:67', '<bar>', 'position_0x00', 'P:67', 'position_1x00', 'P:65', 'position_2x00', 'P:59', 'position_3x00', 'P:60', '<bar>', 'position_0x00', 'P:67', 'position_1x00', 'P:65', 'position_1x50', 'P:67', 'position_2x00', 'P:65', '<bar>', 'position_0x00', 'P:65', 'position_1x00', 'P:63', 'position_2x00', 'P:62', 'position_3x00', 'P:63', '<bar>', 'position_0x00', 'P:70', 'position_1x00', 'P:68', 'position_1x50', 'P:70', 'position_2x00', 'P:68', '<bar>', 'position_0x00', 'P:68', 'position_1x00', 'P:65', 'position_2x00', 'P:67', 'position_3x00', 'P:68', '<bar>', 'position_0x00', 'P:72', 'position_1x00', 'P:70', 'position_1x50', 'P:72', 'position_2x00', 'P:70', '<bar>', 'position_0x00', 'P:70', 'position_1x00', 'P:68', 'position_2x00', 'P:64', 'position_3x00', 'P:65', '<bar>', 'position_0x00', 'P:70', '<bar>', 'position_0x00', 'P:70', 'position_1x00', 'P:63', 'position_2x00', 'P:64', 'position_3x00', 'P:65', '<bar>', 'position_0x00', 'P:73', '<bar>', 'position_0x00', 'P:73', 'position_1x00', 'P:72', 'position_1x50', 'P:70', 'position_2x00', 'P:73', 'position_3x00', 'P:72', '<bar>', 'position_0x00', 'P:70', 'position_2x00', 'P:70', '<bar>', 'position_0x00', 'P:70', 'position_1x00', 'P:68', 'position_2x00', 'P:59', 'position_3x00', 'P:60', '<bar>', 'position_0x00', 'P:68', '<bar>', 'position_0x00', 'P:68', 'position_1x00', 'P:59', 'position_1x50', 'P:60', 'position_2x00', 'P:68', 'position_3x00', 'P:67', '<bar>', 'position_0x00', 'P:67', '<bar>', 'position_0x00', 'P:67', 'position_2x00', 'P:65', 'position_3x00', 'P:60', '<bar>', 'position_0x00', 'P:61', 'position_1x00', 'P:63', 'position_1x50', 'P:65', 'position_2x00', 'P:75', '<bar>', 'position_0x00', 'P:75', 'position_1x00', 'P:73', 'position_1x50', 'P:72', 'position_2x00', 'P:75', 'position_3x00', 'P:73', '<bar>', 'position_0x00', 'P:73', 'position_1x00', 'P:71', 'position_1x50', 'P:72', 'position_2x00', 'P:67', '<bar>', 'position_0x00', 'P:67', 'position_1x00', 'P:68', 'position_2x00', 'P:60', 'position_3x00', 'P:67', '<bar>', 'position_0x00', 'P:65', '<bar>', 'position_0x00', 'P:65', 'position_1x00', 'P:62', 'position_1x50', 'P:63', 'position_2x00', 'P:73', 'position_3x00', 'P:72', '<bar>', 'position_0x00', 'P:68', '<bar>', 'position_0x00', 'P:68', 'position_1x00', '<rest>', 'position_2x00', '<rest>', '<h>', '<bar>', 'position_0x00', 'A#:min7', '<bar>', 'position_0x00', 'D#:sus4', 'position_2x00', 'D#:7(b9)', '<bar>', 'position_0x00', 'G#:dim7', '<bar>', 'position_0x00', 'G#:maj7', '<bar>', 'position_0x00', 'C:aug', '<bar>', 'position_0x00', 'C:aug', '<bar>', 'position_0x00', 'F:7', '<bar>', 'position_0x00', 'C:min7', 'position_2x00', 'F:7', '<bar>', 'position_0x00', 'A#:min7', '<bar>', 'position_0x00', 'D#:7', '<bar>', 'position_0x00', 'G:hdim7', 'position_2x00', 'C:7(b13)', '<bar>', 'position_0x00', 'F:min7', '<bar>', 'position_0x00', 'A#:7', '<bar>', 'position_0x00', 'A#:7', '<bar>', 'position_0x00', 'A#:min7', '<bar>', 'position_0x00', 'C:hdim7', 'position_2x00', 'F:7(b9)', '<bar>', 'position_0x00', 'A#:min7', '<bar>', 'position_0x00', 'D#:sus4', 'position_2x00', 'D#:7(b9)', '<bar>', 'position_0x00', 'G#:dim7', '<bar>', 'position_0x00', 'G#:maj7', '<bar>', 'position_0x00', 'C:aug', '<bar>', 'position_0x00', 'C:aug', '<bar>', 'position_0x00', 'F:7', '<bar>', 'position_0x00', 'C:min7', 'position_2x00', 'F:7', '<bar>', 'position_0x00', 'A#:min7', '<bar>', 'position_0x00', 'C#:min7', 'position_2x00', 'F#:7', '<bar>', 'position_0x00', 'C:min7', 'position_2x00', 'C#:7(#11)', '<bar>', 'position_0x00', 'C:min7', 'position_2x00', 'B:dim7', '<bar>', 'position_0x00', 'A#:min7', '<bar>', 'position_0x00', 'D#:7', '<bar>', 'position_0x00', 'G#:maj6', '<bar>', 'position_0x00', 'G#:maj6', '<pad>', '<pad>', '<pad>', '<pad>', '<pad>', '<pad>', '<pad>', '<pad>', '<pad>', '<pad>', '<pad>', '<pad>', '<pad>', '<pad>', '<pad>', '<pad>', '<pad>', '<pad>', '<pad>', '<pad>', '<pad>', '<pad>', '<pad>', '<pad>', '<pad>', '<pad>', '<pad>', '<pad>', '<pad>', '<pad>', '<pad>', '<pad>', '<pad>', '<pad>', '<pad>', '<pad>', '<pad>', '<pad>', '<pad>', '<pad>', '<pad>', '<pad>', '<pad>', '<pad>', '<pad>', '<pad>', '<pad>', '<pad>', '<pad>', '<pad>', '<pad>', '<pad>', '<pad>', '<pad>', '<pad>', '<pad>', '<pad>', '<pad>', '<pad>', '<pad>', '<pad>', '<pad>', '<pad>', '<pad>', '<pad>', '<pad>', '<pad>', '<pad>', '<pad>', '<pad>', '<pad>', '<pad>', '<pad>', '<pad>', '<pad>', '<pad>', '<pad>', '<pad>', '<pad>', '<pad>', '<pad>', '<pad>', '<pad>', '<pad>', '<pad>', '<pad>', '<pad>', '<pad>', '<pad>', '<pad>', '<pad>', '<pad>', '<pad>', '<pad>', '<pad>', '<pad>', '<pad>', '<pad>', '<pad>', '<pad>', '<pad>', '<pad>', '<pad>', '<pad>', '<pad>', '<pad>', '<pad>', '<pad>', '<pad>', '<pad>', '<pad>', '<pad>', '<pad>', '<pad>', '<pad>', '<pad>', '<pad>', '<pad>', '<pad>', '<pad>', '<pad>', '<pad>', '<pad>', '<pad>', '<pad>', '<pad>', '<pad>', '<pad>', '<pad>', '<pad>', '<pad>', '<pad>', '<pad>', '<pad>', '<pad>', '<pad>', '<pad>', '<pad>', '<pad>', '<pad>', '<pad>', '<pad>', '<pad>', '<pad>', '<pad>', '<pad>', '<pad>', '<pad>', '<pad>', '<pad>', '<pad>', '<pad>', '<pad>', '<pad>', '<pad>', '<pad>', '<pad>', '<pad>', '<pad>', '<pad>', '<pad>', '<pad>', '<pad>', '<pad>', '<pad>', '<pad>', '<pad>', '<pad>', '<pad>', '<pad>', '<pad>', '<pad>', '<pad>', '<pad>', '<pad>', '<pad>', '<pad>', '<pad>', '<pad>', '<pad>', '<pad>', '<pad>', '<pad>', '<pad>', '<pad>', '<pad>', '<pad>', '<pad>', '<pad>', '<pad>', '<pad>', '<pad>', '<pad>', '<pad>', '<pad>', '<pad>', '<pad>', '<pad>', '<pad>', '<pad>', '<pad>', '<pad>', '<pad>', '<pad>', '<pad>', '<pad>', '<pad>', '<pad>', '<pad>', '<pad>', '<pad>', '<pad>', '<pad>', '<pad>', '<pad>', '<pad>', '<pad>', '<pad>', '<pad>', '<pad>', '<pad>', '<pad>', '<pad>', '<pad>', '<pad>', '<pad>', '<pad>', '<pad>', '<pad>', '<pad>', '<pad>', '<pad>', '<pad>', '<pad>', '<pad>', '<pad>', '<pad>', '<pad>', '<pad>', '<pad>', '<pad>', '<pad>', '<pad>', '<pad>', '<pad>', '<pad>', '<pad>', '<pad>', '<pad>', '<pad>', '<pad>', '<pad>', '<pad>', '<pad>', '<pad>', '<pad>', '<pad>', '<pad>', '<pad>', '<pad>', '<pad>', '<pad>', '<pad>', '<pad>', '<pad>', '<pad>', '<pad>', '<pad>', '<pad>', '<pad>', '<pad>', '<pad>', '<pad>', '<pad>', '<pad>', '<pad>', '<pad>', '<pad>', '<pad>', '<pad>', '<pad>', '<pad>', '<pad>', '<pad>', '<pad>', '<pad>', '<pad>', '<pad>', '<pad>', '<pad>', '<pad>', '<pad>', '<pad>', '<pad>', '<pad>', '<pad>', '<pad>', '<pad>', '<pad>', '<pad>', '<pad>', '<pad>', '<pad>', '<pad>', '<pad>', '<pad>', '<pad>', '<pad>', '<pad>', '<pad>', '<pad>', '<pad>', '<pad>', '<pad>', '<pad>', '<pad>', '<pad>', '<pad>', '<pad>', '<pad>', '<pad>', '<pad>', '<pad>', '<pad>', '<pad>', '<pad>', '<pad>', '<pad>', '<pad>', '<pad>', '<pad>', '<pad>', '<pad>', '<pad>', '<pad>', '<pad>', '<pad>', '<pad>', '<pad>', '<pad>', '<pad>', '<pad>', '<pad>', '<pad>', '<pad>', '<pad>', '<pad>', '<pad>', '<pad>', '<pad>', '<pad>', '<pad>', '<pad>', '<pad>', '<pad>', '<pad>', '<pad>', '<pad>', '<pad>', '<pad>', '<pad>', '<pad>', '<pad>', '<pad>', '<pad>', '<pad>', '<pad>', '<pad>', '<pad>', '<pad>', '<pad>', '<pad>', '<pad>', '<pad>', '<pad>', '<pad>', '<pad>', '<pad>', '<pad>', '<pad>', '<pad>', '<pad>', '<pad>', '<pad>', '<pad>', '<pad>', '<pad>', '<pad>', '<pad>', '<pad>', '<pad>', '<pad>', '<pad>', '<pad>', '<pad>', '<pad>', '<pad>', '<pad>', '<pad>', '<pad>', '<pad>', '<pad>', '<pad>', '<pad>', '<pad>', '<pad>', '<pad>', '<pad>', '<pad>', '<pad>', '<pad>', '<pad>', '<pad>', '<pad>', '<pad>', '<pad>', '<pad>', '<pad>', '<pad>', '<pad>', '<pad>', '<pad>', '<pad>', '<pad>', '<pad>', '<pad>', '<pad>', '<pad>', '<pad>', '<pad>', '<pad>', '<pad>', '<pad>', '<pad>', '<pad>', '<pad>', '<pad>', '<pad>', '<pad>', '<pad>', '<pad>', '<pad>', '<pad>', '<pad>', '<pad>', '<pad>', '<pad>', '<pad>', '<pad>', '<pad>', '<pad>', '<pad>', '<pad>', '<pad>', '<pad>', '<pad>', '<pad>', '<pad>', '<pad>', '<pad>', '<pad>', '<pad>', '<pad>', '<pad>', '<pad>', '<pad>', '<pad>', '<pad>', '<pad>', '<pad>', '<pad>', '<pad>', '<pad>', '<pad>', '<pad>', '<pad>', '<pad>', '<pad>', '<pad>', '<pad>', '<pad>', '<pad>', '<pad>', '<pad>', '<pad>', '<pad>', '<pad>', '<pad>', '<pad>', '<pad>', '<pad>', '<pad>', '<pad>', '<pad>', '<pad>', '<pad>', '<pad>', '<pad>', '<pad>', '<pad>', '<pad>', '<pad>', '<pad>', '<pad>', '<pad>', '<pad>', '<pad>', '<pad>', '<pad>', '<pad>', '<pad>', '<pad>', '<pad>', '<pad>', '<pad>', '<pad>', '<pad>', '<pad>', '<pad>', '<pad>', '<pad>', '<pad>', '<pad>', '<pad>', '<pad>', '<pad>', '<pad>', '<pad>', '<pad>', '<pad>', '<pad>', '<pad>', '<pad>', '<pad>', '<pad>', '<pad>', '<pad>', '<pad>', '<pad>', '<pad>', '<pad>', '<pad>', '<pad>', '<pad>', '<pad>', '<pad>', '<pad>', '<pad>', '<pad>', '<pad>', '<pad>', '<pad>', '<pad>', '<pad>', '<pad>', '<pad>', '<pad>', '<pad>']\n"
     ]
    },
    {
     "name": "stderr",
     "output_type": "stream",
     "text": [
      "Running:   0%|          | 0/41 [00:04<?, ?batch/s]"
     ]
    },
    {
     "name": "stdout",
     "output_type": "stream",
     "text": [
      "output_tokens:  ['<s>', '<bar>', 'ts_4x4', 'position_0x00', 'P:73', '<bar>', 'position_0x00', 'P:73', 'position_1x00', 'P:72', 'position_1x50', 'P:70', 'position_2x00', 'P:73', 'position_3x00', 'P:72', '<bar>', 'position_0x00', 'P:70', 'position_2x00', 'P:70', '<bar>', 'position_0x00', 'P:70', 'position_1x00', 'P:68', 'position_2x00', 'P:59', 'position_3x00', 'P:60', '<bar>', 'position_0x00', 'P:68', '<bar>', 'position_0x00', 'P:68', 'position_1x00', 'P:59', 'position_1x50', 'P:60', 'position_2x00', 'P:68', 'position_3x00', 'P:67', '<bar>', 'position_0x00', 'P:67', '<bar>', 'position_0x00', 'P:67', 'position_1x00', 'P:65', 'position_2x00', 'P:59', 'position_3x00', 'P:60', '<bar>', 'position_0x00', 'P:67', 'position_1x00', 'P:65', 'position_1x50', 'P:67', 'position_2x00', 'P:65', '<bar>', 'position_0x00', 'P:65', 'position_1x00', 'P:63', 'position_2x00', 'P:62', 'position_3x00', 'P:63', '<bar>', 'position_0x00', 'P:70', 'position_1x00', 'P:68', 'position_1x50', 'P:70', 'position_2x00', 'P:68', '<bar>', 'position_0x00', 'P:68', 'position_1x00', 'P:65', 'position_2x00', 'P:67', 'position_3x00', 'P:68', '<bar>', 'position_0x00', 'P:72', 'position_1x00', 'P:70', 'position_1x50', 'P:72', 'position_2x00', 'P:70', '<bar>', 'position_0x00', 'P:70', 'position_1x00', 'P:68', 'position_2x00', 'P:64', 'position_3x00', 'P:65', '<bar>', 'position_0x00', 'P:70', '<bar>', 'position_0x00', 'P:70', 'position_1x00', 'P:63', 'position_2x00', 'P:64', 'position_3x00', 'P:65', '<bar>', 'position_0x00', 'P:73', '<bar>', 'position_0x00', 'P:73', 'position_1x00', 'P:72', 'position_1x50', 'P:70', 'position_2x00', 'P:73', 'position_3x00', 'P:72', '<bar>', 'position_0x00', 'P:70', 'position_2x00', 'P:70', '<bar>', 'position_0x00', 'P:70', 'position_1x00', 'P:68', 'position_2x00', 'P:59', 'position_3x00', 'P:60', '<bar>', 'position_0x00', 'P:68', '<bar>', 'position_0x00', 'P:68', 'position_1x00', 'P:59', 'position_1x50', 'P:60', 'position_2x00', 'P:68', 'position_3x00', 'P:67', '<bar>', 'position_0x00', 'P:67', '<bar>', 'position_0x00', 'P:67', 'position_2x00', 'P:65', 'position_3x00', 'P:60', '<bar>', 'position_0x00', 'P:61', 'position_1x00', 'P:63', 'position_1x50', 'P:65', 'position_2x00', 'P:75', '<bar>', 'position_0x00', 'P:75', 'position_1x00', 'P:73', 'position_1x50', 'P:72', 'position_2x00', 'P:75', 'position_3x00', 'P:73', '<bar>', 'position_0x00', 'P:73', 'position_1x00', 'P:71', 'position_1x50', 'P:72', 'position_2x00', 'P:67', '<bar>', 'position_0x00', 'P:67', 'position_1x00', 'P:68', 'position_2x00', 'P:60', 'position_3x00', 'P:67', '<bar>', 'position_0x00', 'P:65', '<bar>', 'position_0x00', 'P:65', 'position_1x00', 'P:62', 'position_1x50', 'P:63', 'position_2x00', 'P:73', 'position_3x00', 'P:72', '<bar>', 'position_0x00', 'P:68', '<bar>', 'position_0x00', 'P:68', 'position_1x00', '<rest>', 'position_2x00', '<rest>', '<h>', '<bar>', 'position_0x00', 'F:min', '<bar>', 'position_0x00', 'F:min', '<bar>', 'position_0x00', 'F:min', '<bar>', 'position_0x00', 'F:min', '<bar>', 'position_0x00', 'F:min', '<bar>', 'position_0x00', 'F:min', '<bar>', 'position_0x00', 'F:min', '<bar>', 'position_0x00', 'F:min', '<bar>', 'position_0x00', 'F:min', '<bar>', 'position_0x00', 'F:min', '<bar>', 'position_0x00', 'F:min', '<bar>', 'position_0x00', 'F:min', '<bar>', 'position_0x00', 'F:min', '<bar>', 'position_0x00', 'F:min', '<bar>', 'position_0x00', 'F:min', '<bar>', 'position_0x00', 'F:min', '<bar>', 'position_0x00', 'F:min', '<bar>', 'position_0x00', 'F:min', '<bar>', 'position_0x00', 'F:min', '<bar>', 'position_0x00', 'F:min', '<bar>', 'position_0x00', 'F:min', '<bar>', 'position_0x00', 'F:min', '<bar>', 'position_0x00', 'F:min', '<bar>', 'position_0x00', 'F:min', '<bar>', 'position_0x00', 'F:min', '<bar>', 'position_0x00', 'F:min', '<bar>', 'position_0x00', 'F:min', '<bar>', 'position_0x00', 'F:min', '<bar>', 'position_0x00', 'F:min', '<bar>', 'position_0x00', 'F:min', '<bar>', 'position_0x00', 'F:min', '<bar>', 'position_0x00', 'F:min', '<bar>', 'position_0x00', 'F:min', '<bar>', 'position_0x00', 'F:min', '<bar>', 'position_0x00', 'F:min', '<bar>', 'position_0x00', 'F:min', '<bar>', 'position_0x00', 'F:min', '<bar>', 'position_0x00', 'F:min', '</s>']\n"
     ]
    },
    {
     "name": "stderr",
     "output_type": "stream",
     "text": [
      "\n"
     ]
    }
   ],
   "source": [
    "with torch.no_grad():\n",
    "    with tqdm(valloader, unit='batch') as tepoch:\n",
    "        tepoch.set_description(f'Running')\n",
    "        print(tepoch)\n",
    "        for batch in tepoch:\n",
    "            input_tokens = []\n",
    "            real_tokens = []\n",
    "            output_tokens = []\n",
    "            for b in batch['input_ids']:\n",
    "                # find the start harmony token\n",
    "                start_harmony_position = np.where( b == tokenizer.vocab[tokenizer.harmony_tokenizer.start_harmony_token] )[0][0]\n",
    "                real_ids = b\n",
    "                input_ids = b[:(start_harmony_position+1)].to(device)\n",
    "                for i in input_ids:\n",
    "                    input_tokens.append( tokenizer.ids_to_tokens[ int(i) ].replace(' ','x') )\n",
    "                print('input_tokens: ', input_tokens)\n",
    "\n",
    "                for i in real_ids:\n",
    "                    real_tokens.append( tokenizer.ids_to_tokens[ int(i) ].replace(' ','x') )\n",
    "                print('real_tokens: ', real_tokens)\n",
    "                \n",
    "                outputs = model.generate(input_ids=input_ids.reshape(1, input_ids.shape[0]), eos_token_id=tokenizer.eos_token_id, max_new_tokens=500)\n",
    "                for i in outputs[0]:\n",
    "                    output_tokens.append( tokenizer.ids_to_tokens[ int(i) ].replace(' ','x') )\n",
    "                print('output_tokens: ', output_tokens)\n",
    "                break\n",
    "            break"
   ]
  }
 ],
 "metadata": {
  "kernelspec": {
   "display_name": "torch",
   "language": "python",
   "name": "python3"
  },
  "language_info": {
   "codemirror_mode": {
    "name": "ipython",
    "version": 3
   },
   "file_extension": ".py",
   "mimetype": "text/x-python",
   "name": "python",
   "nbconvert_exporter": "python",
   "pygments_lexer": "ipython3",
   "version": "3.12.2"
  }
 },
 "nbformat": 4,
 "nbformat_minor": 2
}
