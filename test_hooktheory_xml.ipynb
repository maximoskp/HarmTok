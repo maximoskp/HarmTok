{
 "cells": [
  {
   "cell_type": "code",
   "execution_count": 22,
   "metadata": {},
   "outputs": [],
   "source": [
    "import muspy as mp\n",
    "import json\n",
    "import glob\n",
    "from harmony_tokenizers import ChordSymbolTokenizer"
   ]
  },
  {
   "cell_type": "code",
   "execution_count": null,
   "metadata": {},
   "outputs": [
    {
     "name": "stdout",
     "output_type": "stream",
     "text": [
      "Number of bands: 5115\n",
      "./hooktheory_data/xml\\a\\a-day-to-remember: ['Metal', 'Rock']\n",
      "./hooktheory_data/xml\\a\\a-g-cook: ['Singer-Songwriter', 'Pop']\n",
      "./hooktheory_data/xml\\a\\a-great-big-world: ['Singer-Songwriter', 'Pop']\n",
      "./hooktheory_data/xml\\a\\a-ha: ['Pop']\n",
      "./hooktheory_data/xml\\a\\a-love-like-pi: ['Alternative', 'Indie']\n",
      "./hooktheory_data/xml\\a\\a-lovely-war: []\n",
      "./hooktheory_data/xml\\a\\a-perfect-circle: ['Alternative', 'Rock']\n",
      "./hooktheory_data/xml\\a\\a-r-rahman: ['Soundtrack', 'House']\n",
      "./hooktheory_data/xml\\a\\a-sunny-day-in-glasgow: []\n",
      "./hooktheory_data/xml\\a\\a-teens: ['Pop']\n"
     ]
    }
   ],
   "source": [
    "#examining nested dirs\n",
    "letter_dirs = glob.glob('./hooktheory_data/xml/*')\n",
    "theory_band_genres = {}\n",
    "\n",
    "for l_dir in letter_dirs:\n",
    "    #get band dir\n",
    "    band_dir = glob.glob(l_dir+'/*')\n",
    "    #for every band\n",
    "    for b_dir in band_dir:\n",
    "        #create for each band a dict with genres\n",
    "        band_dict = {}\n",
    "        #get track dir\n",
    "        track_dir = glob.glob(b_dir+'/*')\n",
    "        cnt = 0\n",
    "        band_genres = []\n",
    "        for t_dir in track_dir:\n",
    "            #open json\n",
    "            with open (t_dir+'/song_info.json') as f:\n",
    "                md = json.load(f)\n",
    "            #get genres\n",
    "            band_genres.extend(md['genres'])\n",
    "\n",
    "        # Remove duplicates from band_genres\n",
    "        band_genres = list(set(band_genres))\n",
    "\n",
    "        #store them for the band for later reference\n",
    "        theory_band_genres[b_dir] = band_genres\n",
    "\n",
    "print('Number of bands:', len(theory_band_genres))\n",
    "\n",
    "# Print the  genres for the first 10 bands\n",
    "for i, (key, value) in enumerate(theory_band_genres.items()):\n",
    "    if i >= 10: \n",
    "        break\n",
    "    print(f\"{key}: {value}\")"
   ]
  },
  {
   "cell_type": "code",
   "execution_count": 21,
   "metadata": {},
   "outputs": [
    {
     "name": "stdout",
     "output_type": "stream",
     "text": [
      "Total number of excepetions: 0\n"
     ]
    }
   ],
   "source": [
    "all_pieces = []\n",
    "cnt_errs = 0\n",
    "\n",
    "#parse them\n",
    "\n",
    "for b_dir in theory_band_genres:\n",
    "    #replace xml to mid\n",
    "    b_dir = b_dir.replace('xml', 'midis' )\n",
    "    #get track dir\n",
    "    track_dir = glob.glob(b_dir+'/*/*.mid')\n",
    "    for t_dir in track_dir:\n",
    "        try:\n",
    "            g = mp.read_midi(t_dir)\n",
    "            all_pieces.append(g)\n",
    "        except Exception as e:\n",
    "            # Catch and display the error\n",
    "            print(f\"Error parsing file: {t_dir}\")\n",
    "            print(f\"Error details: {e}\")\n",
    "            cnt_errs += 1\n",
    "\n",
    "print('Total number of excepetions:', cnt_errs)"
   ]
  },
  {
   "cell_type": "code",
   "execution_count": 25,
   "metadata": {},
   "outputs": [
    {
     "name": "stdout",
     "output_type": "stream",
     "text": [
      "Music(metadata=Metadata(schema_version='0.2', title='None', source_filename='intro-and-verse.mid', source_format='midi'), resolution=220, tempos=[Tempo(time=0, qpm=129.00007740004645)], key_signatures=[KeySignature(time=0, root=0, mode='major')], time_signatures=[TimeSignature(time=0, numerator=4, denominator=4)], lyrics=[Lyric(time=0, lyric='C'), Lyric(time=440, lyric='C'), Lyric(time=660, lyric='C'), ...], tracks=[Track(program=0, is_drum=False, notes=[Note(time=3300, pitch=41, duration=55, velocity=100), Note(time=3355, pitch=43, duration=55, velocity=100), Note(time=3410, pitch=47, duration=110, velocity=100), ...]), Track(program=0, is_drum=False, notes=[Note(time=0, pitch=48, duration=440, velocity=100), Note(time=0, pitch=52, duration=440, velocity=100), Note(time=0, pitch=55, duration=440, velocity=100), ...])])\n"
     ]
    }
   ],
   "source": [
    "piece = all_pieces[0]\n",
    "print(piece)"
   ]
  },
  {
   "cell_type": "code",
   "execution_count": 24,
   "metadata": {},
   "outputs": [
    {
     "name": "stdout",
     "output_type": "stream",
     "text": [
      "ChordSymbolTokenizer\n",
      "len(chordSymbolTokenizer.vocab):  370\n"
     ]
    },
    {
     "ename": "AttributeError",
     "evalue": "'Track' object has no attribute 'harmony'",
     "output_type": "error",
     "traceback": [
      "\u001b[1;31m---------------------------------------------------------------------------\u001b[0m",
      "\u001b[1;31mAttributeError\u001b[0m                            Traceback (most recent call last)",
      "Cell \u001b[1;32mIn[24], line 12\u001b[0m\n\u001b[0;32m      6\u001b[0m \u001b[38;5;28mprint\u001b[39m(\u001b[38;5;124m'\u001b[39m\u001b[38;5;124mlen(chordSymbolTokenizer.vocab): \u001b[39m\u001b[38;5;124m'\u001b[39m, \u001b[38;5;28mlen\u001b[39m(chordSymbolTokenizer\u001b[38;5;241m.\u001b[39mvocab))\n\u001b[0;32m      7\u001b[0m stats[\u001b[38;5;124m'\u001b[39m\u001b[38;5;124mChordSymbolTokenizer\u001b[39m\u001b[38;5;124m'\u001b[39m] \u001b[38;5;241m=\u001b[39m {\n\u001b[0;32m      8\u001b[0m     \u001b[38;5;124m'\u001b[39m\u001b[38;5;124mvocab_size\u001b[39m\u001b[38;5;124m'\u001b[39m: \u001b[38;5;28mlen\u001b[39m(chordSymbolTokenizer\u001b[38;5;241m.\u001b[39mvocab),\n\u001b[0;32m      9\u001b[0m     \u001b[38;5;124m'\u001b[39m\u001b[38;5;124mseq_lens\u001b[39m\u001b[38;5;124m'\u001b[39m: []\n\u001b[0;32m     10\u001b[0m }\n\u001b[1;32m---> 12\u001b[0m toks_cs \u001b[38;5;241m=\u001b[39m \u001b[43mchordSymbolTokenizer\u001b[49m\u001b[43m(\u001b[49m\u001b[43mall_pieces\u001b[49m\u001b[43m)\u001b[49m\n\u001b[0;32m     13\u001b[0m \u001b[38;5;28mprint\u001b[39m(\u001b[38;5;124m'\u001b[39m\u001b[38;5;124mexample sentence length: \u001b[39m\u001b[38;5;124m'\u001b[39m, \u001b[38;5;28mlen\u001b[39m(toks_cs[\u001b[38;5;124m'\u001b[39m\u001b[38;5;124mtokens\u001b[39m\u001b[38;5;124m'\u001b[39m][\u001b[38;5;241m0\u001b[39m]))\n",
      "File \u001b[1;32mc:\\Users\\dimak\\Desktop\\Kineza_2.0\\HarmTok\\harmony_tokenizers.py:124\u001b[0m, in \u001b[0;36mChordSymbolTokenizer.__call__\u001b[1;34m(self, corpus)\u001b[0m\n\u001b[0;32m    123\u001b[0m \u001b[38;5;28;01mdef\u001b[39;00m \u001b[38;5;21m__call__\u001b[39m(\u001b[38;5;28mself\u001b[39m, corpus):\n\u001b[1;32m--> 124\u001b[0m     \u001b[38;5;28;01mreturn\u001b[39;00m \u001b[38;5;28;43mself\u001b[39;49m\u001b[38;5;241;43m.\u001b[39;49m\u001b[43mtransform\u001b[49m\u001b[43m(\u001b[49m\u001b[43mcorpus\u001b[49m\u001b[43m)\u001b[49m\n",
      "File \u001b[1;32mc:\\Users\\dimak\\Desktop\\Kineza_2.0\\HarmTok\\harmony_tokenizers.py:78\u001b[0m, in \u001b[0;36mChordSymbolTokenizer.transform\u001b[1;34m(self, corpus)\u001b[0m\n\u001b[0;32m     76\u001b[0m barlines \u001b[38;5;241m=\u001b[39m piece\u001b[38;5;241m.\u001b[39mbarlines\n\u001b[0;32m     77\u001b[0m \u001b[38;5;28;01mfor\u001b[39;00m track \u001b[38;5;129;01min\u001b[39;00m piece\u001b[38;5;241m.\u001b[39mtracks:\n\u001b[1;32m---> 78\u001b[0m     \u001b[38;5;28;01mif\u001b[39;00m \u001b[38;5;28mlen\u001b[39m(\u001b[43mtrack\u001b[49m\u001b[38;5;241;43m.\u001b[39;49m\u001b[43mharmony\u001b[49m) \u001b[38;5;241m>\u001b[39m \u001b[38;5;241m0\u001b[39m:\n\u001b[0;32m     79\u001b[0m         harmony \u001b[38;5;241m=\u001b[39m track\u001b[38;5;241m.\u001b[39mharmony\n\u001b[0;32m     80\u001b[0m         \u001b[38;5;66;03m# adjust time in each chord symbol\u001b[39;00m\n",
      "\u001b[1;31mAttributeError\u001b[0m: 'Track' object has no attribute 'harmony'"
     ]
    }
   ],
   "source": [
    "# prepare stats\n",
    "stats = {}\n",
    "\n",
    "print('ChordSymbolTokenizer')\n",
    "chordSymbolTokenizer = ChordSymbolTokenizer()\n",
    "print('len(chordSymbolTokenizer.vocab): ', len(chordSymbolTokenizer.vocab))\n",
    "stats['ChordSymbolTokenizer'] = {\n",
    "    'vocab_size': len(chordSymbolTokenizer.vocab),\n",
    "    'seq_lens': []\n",
    "}\n",
    "\n",
    "toks_cs = chordSymbolTokenizer(all_pieces)\n",
    "print('example sentence length: ', len(toks_cs['tokens'][0]))"
   ]
  }
 ],
 "metadata": {
  "kernelspec": {
   "display_name": "Python 3",
   "language": "python",
   "name": "python3"
  },
  "language_info": {
   "codemirror_mode": {
    "name": "ipython",
    "version": 3
   },
   "file_extension": ".py",
   "mimetype": "text/x-python",
   "name": "python",
   "nbconvert_exporter": "python",
   "pygments_lexer": "ipython3",
   "version": "3.11.4"
  }
 },
 "nbformat": 4,
 "nbformat_minor": 2
}
