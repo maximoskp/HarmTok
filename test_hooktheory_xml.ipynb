{
 "cells": [
  {
   "cell_type": "code",
   "execution_count": 15,
   "metadata": {},
   "outputs": [],
   "source": [
    "import os\n",
    "import csv\n",
    "import zlib\n",
    "import muspy as mp\n",
    "import numpy as np\n",
    "from tqdm import tqdm\n",
    "from harmony_tokenizers import ChordSymbolTokenizer, RootTypeTokenizer, \\\n",
    "    PitchClassTokenizer, RootPCTokenizer, \\\n",
    "    GCTRootPCTokenizer, GCTSymbolTokenizer, GCTRootTypeTokenizer"
   ]
  },
  {
   "cell_type": "code",
   "execution_count": 2,
   "metadata": {},
   "outputs": [
    {
     "name": "stdout",
     "output_type": "stream",
     "text": [
      "Total files from Hook Theory dataset: 17476\n"
     ]
    }
   ],
   "source": [
    "root_dir = './hooktheory_dataset/xmls/'\n",
    "data_files = []\n",
    "\n",
    "# Walk through all subdirectories and files\n",
    "for dirpath, _, filenames in os.walk(root_dir):\n",
    "    for file in filenames:\n",
    "        if file.endswith(\".xml\"):\n",
    "            full_path = os.path.join(dirpath, file)\n",
    "            data_files.append(full_path)\n",
    "\n",
    "print('Total files from Hook Theory dataset:', len(data_files))"
   ]
  },
  {
   "cell_type": "code",
   "execution_count": 3,
   "metadata": {},
   "outputs": [
    {
     "name": "stderr",
     "output_type": "stream",
     "text": [
      " 34%|███▎      | 5864/17476 [00:26<00:59, 195.35it/s]"
     ]
    },
    {
     "name": "stdout",
     "output_type": "stream",
     "text": [
      "Error processing file: ./hooktheory_dataset/xmls/h\\hiroshi-miyagawa\\space-battleship-yamato---autoplanet-goruba\\verse.xml\n",
      "Error: '7(b5)'\n"
     ]
    },
    {
     "name": "stderr",
     "output_type": "stream",
     "text": [
      "100%|██████████| 17476/17476 [02:12<00:00, 131.71it/s]"
     ]
    },
    {
     "name": "stdout",
     "output_type": "stream",
     "text": [
      "Total files processed:  17475\n"
     ]
    },
    {
     "name": "stderr",
     "output_type": "stream",
     "text": [
      "\n"
     ]
    }
   ],
   "source": [
    "#load files\n",
    "hk_pieces = []\n",
    "for i in tqdm(range(len(data_files))):\n",
    "    try:\n",
    "        g = mp.read_musicxml(data_files[i])\n",
    "        hk_pieces.append(g)\n",
    "    except Exception as e:\n",
    "        #catch very rare chord exceptions\n",
    "        print(f\"Error processing file: {data_files[i]}\")\n",
    "        print(f\"Error: {e}\")        \n",
    "\n",
    "print('Total files processed: ', len(hk_pieces))"
   ]
  },
  {
   "cell_type": "code",
   "execution_count": 4,
   "metadata": {},
   "outputs": [],
   "source": [
    "# prepare stats\n",
    "stats = {}\n",
    "\n",
    "def compute_compression_rate(array: np.ndarray, compression_method=zlib.compress) -> float:\n",
    "    \"\"\"\n",
    "    Compute the compression rate of a NumPy array.\n",
    "\n",
    "    Parameters:\n",
    "        array (np.ndarray): The NumPy array to compress.\n",
    "        compression_method (callable): The compression method to use. \n",
    "                                       Default is `zlib.compress`.\n",
    "\n",
    "    Returns:\n",
    "        float: The compression rate (compressed size / original size).\n",
    "    \"\"\"\n",
    "    # Convert the array to bytes\n",
    "    array_bytes = array.tobytes()\n",
    "    \n",
    "    # Compress the byte representation\n",
    "    compressed_bytes = compression_method(array_bytes)\n",
    "    \n",
    "    # Compute sizes\n",
    "    original_size = len(array_bytes)\n",
    "    compressed_size = len(compressed_bytes)\n",
    "    \n",
    "    # Calculate compression rate\n",
    "    compression_rate = compressed_size / original_size\n",
    "\n",
    "    return compression_rate\n",
    "\n",
    "def initialize_stats(key, tokenizer):\n",
    "    stats[key] = {\n",
    "        'vocab_size': len(tokenizer.vocab),\n",
    "        'seq_lens': [],\n",
    "        'compression_rates': []\n",
    "    }\n",
    "# end initialize_stats\n",
    "\n",
    "def update_stats(key, toks):\n",
    "    for t in toks['ids']:\n",
    "        stats[key]['seq_lens'].append( len(t) )\n",
    "        stats[key]['compression_rates'].append( compute_compression_rate(np.array(t)) )\n",
    "    stats[key]['mean_len'] = np.mean(stats[key]['seq_lens'])\n",
    "    stats[key]['std_len'] = np.std(stats[key]['seq_lens'])\n",
    "    stats[key]['mean_compression'] = np.mean(stats[key]['compression_rates'])\n",
    "    stats[key]['std_compression'] = np.std(stats[key]['compression_rates'])\n",
    "# end update_stats\n",
    "\n",
    "def print_stats(key):\n",
    "    print('vocab_size: ', stats[key]['vocab_size'])\n",
    "    print('mean len: ', stats[key]['mean_len'])\n",
    "    print('std len: ', stats[key]['std_len'])\n",
    "    print('mean cr: ', stats[key]['mean_compression'])\n",
    "    print('std cr: ', stats[key]['std_compression'])"
   ]
  },
  {
   "cell_type": "code",
   "execution_count": 5,
   "metadata": {},
   "outputs": [
    {
     "name": "stdout",
     "output_type": "stream",
     "text": [
      "ChordSymbolTokenizer\n",
      "len(chordSymbolTokenizer.vocab):  326\n",
      "example sentence length:  82\n",
      "['bar', 'position_0x0', 'C:maj', 'bar', 'position_0x0', 'C:maj', 'position_0x0', 'C:maj', 'bar', 'position_0x0', 'C:maj', 'position_0x0', 'C:maj', 'position_0x0', 'C:maj', 'position_0x0', 'A:min', 'bar', 'position_0x0', 'A:min', 'position_0x0', 'A:min', 'position_0x0', 'F:maj', 'position_3x0', 'F:maj', 'position_3x0', 'F:maj', 'bar', 'position_0x0', 'C:maj', 'bar', 'position_0x0', 'C:maj', 'position_0x0', 'C:maj', 'bar', 'position_0x0', 'C:maj', 'position_0x0', 'C:maj', 'position_0x0', 'C:maj', 'position_0x0', 'A:min', 'bar', 'position_0x0', 'A:min', 'position_0x0', 'A:min', 'position_0x0', 'F:maj', 'bar', 'position_0x0', 'F:maj', 'position_0x0', 'F:maj', 'position_0x0', 'F:maj', 'position_0x0', 'C:maj', 'bar', 'position_0x0', 'C:maj', 'bar', 'position_0x0', 'A:min', 'bar', 'position_0x0', 'F:maj', 'bar', 'position_0x0', 'C:maj', 'bar', 'position_0x0', 'C:maj', 'bar', 'position_0x0', 'A:min', 'bar', 'position_0x0', 'F:maj']\n",
      "[5, 6, 26, 5, 6, 26, 6, 26, 5, 6, 26, 6, 26, 6, 26, 6, 252, 5, 6, 252, 6, 252, 6, 151, 12, 151, 12, 151, 5, 6, 26, 5, 6, 26, 6, 26, 5, 6, 26, 6, 26, 6, 26, 6, 252, 5, 6, 252, 6, 252, 6, 151, 5, 6, 151, 6, 151, 6, 151, 6, 26, 5, 6, 26, 5, 6, 252, 5, 6, 151, 5, 6, 26, 5, 6, 26, 5, 6, 252, 5, 6, 151]\n",
      "vocab_size:  326\n",
      "mean len:  47.00932814467208\n",
      "std len:  30.55923523521828\n",
      "mean cr:  0.28700821025486484\n",
      "std cr:  0.106001113303193\n"
     ]
    }
   ],
   "source": [
    "print('ChordSymbolTokenizer')\n",
    "chordSymbolTokenizer = ChordSymbolTokenizer()\n",
    "print('len(chordSymbolTokenizer.vocab): ', len(chordSymbolTokenizer.vocab))\n",
    "initialize_stats('ChordSymbolTokenizer', chordSymbolTokenizer)\n",
    "toks_cs = chordSymbolTokenizer(hk_pieces)\n",
    "print('example sentence length: ', len(toks_cs['tokens'][0]))\n",
    "print(toks_cs['tokens'][0])\n",
    "print(toks_cs['ids'][0])\n",
    "update_stats('ChordSymbolTokenizer', toks_cs)\n",
    "print_stats('ChordSymbolTokenizer')"
   ]
  },
  {
   "cell_type": "code",
   "execution_count": 6,
   "metadata": {},
   "outputs": [
    {
     "name": "stdout",
     "output_type": "stream",
     "text": [
      "RootTypeTokenizer\n",
      "len(rootTypeTokenizer.vocab):  63\n",
      "example sentence length:  115\n",
      "['bar', 'position_0x0', 'C', 'maj', 'bar', 'position_0x0', 'C', 'maj', 'position_0x0', 'C', 'maj', 'bar', 'position_0x0', 'C', 'maj', 'position_0x0', 'C', 'maj', 'position_0x0', 'C', 'maj', 'position_0x0', 'A', 'min', 'bar', 'position_0x0', 'A', 'min', 'position_0x0', 'A', 'min', 'position_0x0', 'F', 'maj', 'position_3x0', 'F', 'maj', 'position_3x0', 'F', 'maj', 'bar', 'position_0x0', 'C', 'maj', 'bar', 'position_0x0', 'C', 'maj', 'position_0x0', 'C', 'maj', 'bar', 'position_0x0', 'C', 'maj', 'position_0x0', 'C', 'maj', 'position_0x0', 'C', 'maj', 'position_0x0', 'A', 'min', 'bar', 'position_0x0', 'A', 'min', 'position_0x0', 'A', 'min', 'position_0x0', 'F', 'maj', 'bar', 'position_0x0', 'F', 'maj', 'position_0x0', 'F', 'maj', 'position_0x0', 'F', 'maj', 'position_0x0', 'C', 'maj', 'bar', 'position_0x0', 'C', 'maj', 'bar', 'position_0x0', 'A', 'min', 'bar', 'position_0x0', 'F', 'maj', 'bar', 'position_0x0', 'C', 'maj', 'bar', 'position_0x0', 'C', 'maj', 'bar', 'position_0x0', 'A', 'min', 'bar', 'position_0x0', 'F', 'maj']\n",
      "[5, 6, 26, 38, 5, 6, 26, 38, 6, 26, 38, 5, 6, 26, 38, 6, 26, 38, 6, 26, 38, 6, 35, 39, 5, 6, 35, 39, 6, 35, 39, 6, 31, 38, 12, 31, 38, 12, 31, 38, 5, 6, 26, 38, 5, 6, 26, 38, 6, 26, 38, 5, 6, 26, 38, 6, 26, 38, 6, 26, 38, 6, 35, 39, 5, 6, 35, 39, 6, 35, 39, 6, 31, 38, 5, 6, 31, 38, 6, 31, 38, 6, 31, 38, 6, 26, 38, 5, 6, 26, 38, 5, 6, 35, 39, 5, 6, 31, 38, 5, 6, 26, 38, 5, 6, 26, 38, 5, 6, 35, 39, 5, 6, 31, 38]\n",
      "vocab_size:  63\n",
      "mean len:  64.93830834382511\n",
      "std len:  43.75202835200243\n",
      "mean cr:  0.24066401344151386\n",
      "std cr:  0.0908845094814714\n"
     ]
    }
   ],
   "source": [
    "print('RootTypeTokenizer')\n",
    "rootTypeTokenizer = RootTypeTokenizer()\n",
    "print('len(rootTypeTokenizer.vocab): ', len(rootTypeTokenizer.vocab))\n",
    "initialize_stats('RootTypeTokenizer', rootTypeTokenizer)\n",
    "toks_rt = rootTypeTokenizer(hk_pieces)\n",
    "print('example sentence length: ', len(toks_rt['tokens'][0]))\n",
    "print(toks_rt['tokens'][0])\n",
    "print(toks_rt['ids'][0])\n",
    "update_stats('RootTypeTokenizer', toks_rt)\n",
    "print_stats('RootTypeTokenizer')"
   ]
  },
  {
   "cell_type": "code",
   "execution_count": 8,
   "metadata": {},
   "outputs": [
    {
     "name": "stdout",
     "output_type": "stream",
     "text": [
      "PitchClassTokenizer\n",
      "len(pitchClassTokenizer.vocab):  38\n",
      "example sentence length:  148\n",
      "['bar', 'position_0x0', 'chord_pc_0', 'chord_pc_4', 'chord_pc_7', 'bar', 'position_0x0', 'chord_pc_0', 'chord_pc_4', 'chord_pc_7', 'position_0x0', 'chord_pc_0', 'chord_pc_4', 'chord_pc_7', 'bar', 'position_0x0', 'chord_pc_0', 'chord_pc_4', 'chord_pc_7', 'position_0x0', 'chord_pc_0', 'chord_pc_4', 'chord_pc_7', 'position_0x0', 'chord_pc_0', 'chord_pc_4', 'chord_pc_7', 'position_0x0', 'chord_pc_9', 'chord_pc_0', 'chord_pc_4', 'bar', 'position_0x0', 'chord_pc_9', 'chord_pc_0', 'chord_pc_4', 'position_0x0', 'chord_pc_9', 'chord_pc_0', 'chord_pc_4', 'position_0x0', 'chord_pc_5', 'chord_pc_9', 'chord_pc_0', 'position_3x0', 'chord_pc_5', 'chord_pc_9', 'chord_pc_0', 'position_3x0', 'chord_pc_5', 'chord_pc_9', 'chord_pc_0', 'bar', 'position_0x0', 'chord_pc_0', 'chord_pc_4', 'chord_pc_7', 'bar', 'position_0x0', 'chord_pc_0', 'chord_pc_4', 'chord_pc_7', 'position_0x0', 'chord_pc_0', 'chord_pc_4', 'chord_pc_7', 'bar', 'position_0x0', 'chord_pc_0', 'chord_pc_4', 'chord_pc_7', 'position_0x0', 'chord_pc_0', 'chord_pc_4', 'chord_pc_7', 'position_0x0', 'chord_pc_0', 'chord_pc_4', 'chord_pc_7', 'position_0x0', 'chord_pc_9', 'chord_pc_0', 'chord_pc_4', 'bar', 'position_0x0', 'chord_pc_9', 'chord_pc_0', 'chord_pc_4', 'position_0x0', 'chord_pc_9', 'chord_pc_0', 'chord_pc_4', 'position_0x0', 'chord_pc_5', 'chord_pc_9', 'chord_pc_0', 'bar', 'position_0x0', 'chord_pc_5', 'chord_pc_9', 'chord_pc_0', 'position_0x0', 'chord_pc_5', 'chord_pc_9', 'chord_pc_0', 'position_0x0', 'chord_pc_5', 'chord_pc_9', 'chord_pc_0', 'position_0x0', 'chord_pc_0', 'chord_pc_4', 'chord_pc_7', 'bar', 'position_0x0', 'chord_pc_0', 'chord_pc_4', 'chord_pc_7', 'bar', 'position_0x0', 'chord_pc_9', 'chord_pc_0', 'chord_pc_4', 'bar', 'position_0x0', 'chord_pc_5', 'chord_pc_9', 'chord_pc_0', 'bar', 'position_0x0', 'chord_pc_0', 'chord_pc_4', 'chord_pc_7', 'bar', 'position_0x0', 'chord_pc_0', 'chord_pc_4', 'chord_pc_7', 'bar', 'position_0x0', 'chord_pc_9', 'chord_pc_0', 'chord_pc_4', 'bar', 'position_0x0', 'chord_pc_5', 'chord_pc_9', 'chord_pc_0']\n",
      "[5, 7, 27, 31, 34, 5, 7, 27, 31, 34, 7, 27, 31, 34, 5, 7, 27, 31, 34, 7, 27, 31, 34, 7, 27, 31, 34, 7, 36, 27, 31, 5, 7, 36, 27, 31, 7, 36, 27, 31, 7, 32, 36, 27, 13, 32, 36, 27, 13, 32, 36, 27, 5, 7, 27, 31, 34, 5, 7, 27, 31, 34, 7, 27, 31, 34, 5, 7, 27, 31, 34, 7, 27, 31, 34, 7, 27, 31, 34, 7, 36, 27, 31, 5, 7, 36, 27, 31, 7, 36, 27, 31, 7, 32, 36, 27, 5, 7, 32, 36, 27, 7, 32, 36, 27, 7, 32, 36, 27, 7, 27, 31, 34, 5, 7, 27, 31, 34, 5, 7, 36, 27, 31, 5, 7, 32, 36, 27, 5, 7, 27, 31, 34, 5, 7, 27, 31, 34, 5, 7, 36, 27, 31, 5, 7, 32, 36, 27]\n",
      "vocab_size:  38\n",
      "mean len:  85.9678379306398\n",
      "std len:  59.616243440116556\n",
      "mean cr:  0.21739412754184037\n",
      "std cr:  0.08446957820683093\n"
     ]
    }
   ],
   "source": [
    "print('PitchClassTokenizer')\n",
    "pitchClassTokenizer = PitchClassTokenizer()\n",
    "print('len(pitchClassTokenizer.vocab): ', len(pitchClassTokenizer.vocab))\n",
    "initialize_stats('PitchClassTokenizer', pitchClassTokenizer)\n",
    "toks_pc = pitchClassTokenizer(hk_pieces)\n",
    "print('example sentence length: ', len(toks_pc['tokens'][0]))\n",
    "print(toks_pc['tokens'][0])\n",
    "print(toks_pc['ids'][0])\n",
    "update_stats('PitchClassTokenizer', toks_pc)\n",
    "print_stats('PitchClassTokenizer')"
   ]
  },
  {
   "cell_type": "code",
   "execution_count": 10,
   "metadata": {},
   "outputs": [
    {
     "name": "stdout",
     "output_type": "stream",
     "text": [
      "RootPCTokenizer\n",
      "len(rootPCTokenizer.vocab):  50\n",
      "example sentence length:  148\n",
      "['bar', 'position_0x0', 'chord_root_0', 'chord_pc_4', 'chord_pc_7', 'bar', 'position_0x0', 'chord_root_0', 'chord_pc_4', 'chord_pc_7', 'position_0x0', 'chord_root_0', 'chord_pc_4', 'chord_pc_7', 'bar', 'position_0x0', 'chord_root_0', 'chord_pc_4', 'chord_pc_7', 'position_0x0', 'chord_root_0', 'chord_pc_4', 'chord_pc_7', 'position_0x0', 'chord_root_0', 'chord_pc_4', 'chord_pc_7', 'position_0x0', 'chord_root_9', 'chord_pc_0', 'chord_pc_4', 'bar', 'position_0x0', 'chord_root_9', 'chord_pc_0', 'chord_pc_4', 'position_0x0', 'chord_root_9', 'chord_pc_0', 'chord_pc_4', 'position_0x0', 'chord_root_5', 'chord_pc_9', 'chord_pc_0', 'position_3x0', 'chord_root_5', 'chord_pc_9', 'chord_pc_0', 'position_3x0', 'chord_root_5', 'chord_pc_9', 'chord_pc_0', 'bar', 'position_0x0', 'chord_root_0', 'chord_pc_4', 'chord_pc_7', 'bar', 'position_0x0', 'chord_root_0', 'chord_pc_4', 'chord_pc_7', 'position_0x0', 'chord_root_0', 'chord_pc_4', 'chord_pc_7', 'bar', 'position_0x0', 'chord_root_0', 'chord_pc_4', 'chord_pc_7', 'position_0x0', 'chord_root_0', 'chord_pc_4', 'chord_pc_7', 'position_0x0', 'chord_root_0', 'chord_pc_4', 'chord_pc_7', 'position_0x0', 'chord_root_9', 'chord_pc_0', 'chord_pc_4', 'bar', 'position_0x0', 'chord_root_9', 'chord_pc_0', 'chord_pc_4', 'position_0x0', 'chord_root_9', 'chord_pc_0', 'chord_pc_4', 'position_0x0', 'chord_root_5', 'chord_pc_9', 'chord_pc_0', 'bar', 'position_0x0', 'chord_root_5', 'chord_pc_9', 'chord_pc_0', 'position_0x0', 'chord_root_5', 'chord_pc_9', 'chord_pc_0', 'position_0x0', 'chord_root_5', 'chord_pc_9', 'chord_pc_0', 'position_0x0', 'chord_root_0', 'chord_pc_4', 'chord_pc_7', 'bar', 'position_0x0', 'chord_root_0', 'chord_pc_4', 'chord_pc_7', 'bar', 'position_0x0', 'chord_root_9', 'chord_pc_0', 'chord_pc_4', 'bar', 'position_0x0', 'chord_root_5', 'chord_pc_9', 'chord_pc_0', 'bar', 'position_0x0', 'chord_root_0', 'chord_pc_4', 'chord_pc_7', 'bar', 'position_0x0', 'chord_root_0', 'chord_pc_4', 'chord_pc_7', 'bar', 'position_0x0', 'chord_root_9', 'chord_pc_0', 'chord_pc_4', 'bar', 'position_0x0', 'chord_root_5', 'chord_pc_9', 'chord_pc_0']\n",
      "[5, 7, 27, 43, 46, 5, 7, 27, 43, 46, 7, 27, 43, 46, 5, 7, 27, 43, 46, 7, 27, 43, 46, 7, 27, 43, 46, 7, 36, 39, 43, 5, 7, 36, 39, 43, 7, 36, 39, 43, 7, 32, 48, 39, 13, 32, 48, 39, 13, 32, 48, 39, 5, 7, 27, 43, 46, 5, 7, 27, 43, 46, 7, 27, 43, 46, 5, 7, 27, 43, 46, 7, 27, 43, 46, 7, 27, 43, 46, 7, 36, 39, 43, 5, 7, 36, 39, 43, 7, 36, 39, 43, 7, 32, 48, 39, 5, 7, 32, 48, 39, 7, 32, 48, 39, 7, 32, 48, 39, 7, 27, 43, 46, 5, 7, 27, 43, 46, 5, 7, 36, 39, 43, 5, 7, 32, 48, 39, 5, 7, 27, 43, 46, 5, 7, 27, 43, 46, 5, 7, 36, 39, 43, 5, 7, 32, 48, 39]\n",
      "vocab_size:  50\n",
      "mean len:  85.9678379306398\n",
      "std len:  59.616243440116556\n",
      "mean cr:  0.23377904715767273\n",
      "std cr:  0.09139440588741608\n"
     ]
    }
   ],
   "source": [
    "print('RootPCTokenizer')\n",
    "rootPCTokenizer = RootPCTokenizer()\n",
    "print('len(rootPCTokenizer.vocab): ', len(rootPCTokenizer.vocab))\n",
    "initialize_stats('RootPCTokenizer', rootPCTokenizer)\n",
    "toks_rpc = rootPCTokenizer(hk_pieces)\n",
    "print('example sentence length: ', len(toks_rpc['tokens'][0]))\n",
    "print(toks_rpc['tokens'][0])\n",
    "print(toks_rpc['ids'][0])\n",
    "update_stats('RootPCTokenizer', toks_rpc)\n",
    "print_stats('RootPCTokenizer')"
   ]
  },
  {
   "cell_type": "code",
   "execution_count": 12,
   "metadata": {},
   "outputs": [
    {
     "name": "stdout",
     "output_type": "stream",
     "text": [
      "GCTRootPCTokenizer\n",
      "len(gctRootPCTokenizer.vocab):  50\n",
      "example sentence length:  148\n",
      "['bar', 'position_0x0', 'chord_root_0', 'chord_pc_4', 'chord_pc_7', 'bar', 'position_0x0', 'chord_root_0', 'chord_pc_4', 'chord_pc_7', 'position_0x0', 'chord_root_0', 'chord_pc_4', 'chord_pc_7', 'bar', 'position_0x0', 'chord_root_0', 'chord_pc_4', 'chord_pc_7', 'position_0x0', 'chord_root_0', 'chord_pc_4', 'chord_pc_7', 'position_0x0', 'chord_root_0', 'chord_pc_4', 'chord_pc_7', 'position_0x0', 'chord_root_9', 'chord_pc_0', 'chord_pc_4', 'bar', 'position_0x0', 'chord_root_9', 'chord_pc_0', 'chord_pc_4', 'position_0x0', 'chord_root_9', 'chord_pc_0', 'chord_pc_4', 'position_0x0', 'chord_root_5', 'chord_pc_9', 'chord_pc_0', 'position_3x0', 'chord_root_5', 'chord_pc_9', 'chord_pc_0', 'position_3x0', 'chord_root_5', 'chord_pc_9', 'chord_pc_0', 'bar', 'position_0x0', 'chord_root_0', 'chord_pc_4', 'chord_pc_7', 'bar', 'position_0x0', 'chord_root_0', 'chord_pc_4', 'chord_pc_7', 'position_0x0', 'chord_root_0', 'chord_pc_4', 'chord_pc_7', 'bar', 'position_0x0', 'chord_root_0', 'chord_pc_4', 'chord_pc_7', 'position_0x0', 'chord_root_0', 'chord_pc_4', 'chord_pc_7', 'position_0x0', 'chord_root_0', 'chord_pc_4', 'chord_pc_7', 'position_0x0', 'chord_root_9', 'chord_pc_0', 'chord_pc_4', 'bar', 'position_0x0', 'chord_root_9', 'chord_pc_0', 'chord_pc_4', 'position_0x0', 'chord_root_9', 'chord_pc_0', 'chord_pc_4', 'position_0x0', 'chord_root_5', 'chord_pc_9', 'chord_pc_0', 'bar', 'position_0x0', 'chord_root_5', 'chord_pc_9', 'chord_pc_0', 'position_0x0', 'chord_root_5', 'chord_pc_9', 'chord_pc_0', 'position_0x0', 'chord_root_5', 'chord_pc_9', 'chord_pc_0', 'position_0x0', 'chord_root_0', 'chord_pc_4', 'chord_pc_7', 'bar', 'position_0x0', 'chord_root_0', 'chord_pc_4', 'chord_pc_7', 'bar', 'position_0x0', 'chord_root_9', 'chord_pc_0', 'chord_pc_4', 'bar', 'position_0x0', 'chord_root_5', 'chord_pc_9', 'chord_pc_0', 'bar', 'position_0x0', 'chord_root_0', 'chord_pc_4', 'chord_pc_7', 'bar', 'position_0x0', 'chord_root_0', 'chord_pc_4', 'chord_pc_7', 'bar', 'position_0x0', 'chord_root_9', 'chord_pc_0', 'chord_pc_4', 'bar', 'position_0x0', 'chord_root_5', 'chord_pc_9', 'chord_pc_0']\n",
      "[5, 7, 27, 43, 46, 5, 7, 27, 43, 46, 7, 27, 43, 46, 5, 7, 27, 43, 46, 7, 27, 43, 46, 7, 27, 43, 46, 7, 36, 39, 43, 5, 7, 36, 39, 43, 7, 36, 39, 43, 7, 32, 48, 39, 13, 32, 48, 39, 13, 32, 48, 39, 5, 7, 27, 43, 46, 5, 7, 27, 43, 46, 7, 27, 43, 46, 5, 7, 27, 43, 46, 7, 27, 43, 46, 7, 27, 43, 46, 7, 36, 39, 43, 5, 7, 36, 39, 43, 7, 36, 39, 43, 7, 32, 48, 39, 5, 7, 32, 48, 39, 7, 32, 48, 39, 7, 32, 48, 39, 7, 27, 43, 46, 5, 7, 27, 43, 46, 5, 7, 36, 39, 43, 5, 7, 32, 48, 39, 5, 7, 27, 43, 46, 5, 7, 27, 43, 46, 5, 7, 36, 39, 43, 5, 7, 32, 48, 39]\n",
      "vocab_size:  50\n",
      "mean len:  85.9678379306398\n",
      "std len:  59.616243440116556\n",
      "mean cr:  0.23296399482120062\n",
      "std cr:  0.09112212389042004\n"
     ]
    }
   ],
   "source": [
    "print('GCTRootPCTokenizer')\n",
    "gctRootPCTokenizer = GCTRootPCTokenizer()\n",
    "print('len(gctRootPCTokenizer.vocab): ', len(gctRootPCTokenizer.vocab))\n",
    "initialize_stats('GCTRootPCTokenizer', gctRootPCTokenizer)\n",
    "toks_gct_rpc = gctRootPCTokenizer(hk_pieces)\n",
    "print('example sentence length: ', len(toks_gct_rpc['tokens'][0]))\n",
    "print(toks_gct_rpc['tokens'][0])\n",
    "print(toks_gct_rpc['ids'][0])\n",
    "update_stats('GCTRootPCTokenizer', toks_gct_rpc)\n",
    "print_stats('GCTRootPCTokenizer')"
   ]
  },
  {
   "cell_type": "code",
   "execution_count": 13,
   "metadata": {},
   "outputs": [
    {
     "name": "stdout",
     "output_type": "stream",
     "text": [
      "GCTSymbolTokenizer\n",
      "training\n",
      "len(gctSymbolTokenizer.vocab):  194\n",
      "example sentence length:  82\n",
      "['bar', 'position_0x0', '[0 0 4 7]', 'bar', 'position_0x0', '[0 0 4 7]', 'position_0x0', '[0 0 4 7]', 'bar', 'position_0x0', '[0 0 4 7]', 'position_0x0', '[0 0 4 7]', 'position_0x0', '[0 0 4 7]', 'position_0x0', '[9 0 3 7]', 'bar', 'position_0x0', '[9 0 3 7]', 'position_0x0', '[9 0 3 7]', 'position_0x0', '[5 0 4 7]', 'position_3x0', '[5 0 4 7]', 'position_3x0', '[5 0 4 7]', 'bar', 'position_0x0', '[0 0 4 7]', 'bar', 'position_0x0', '[0 0 4 7]', 'position_0x0', '[0 0 4 7]', 'bar', 'position_0x0', '[0 0 4 7]', 'position_0x0', '[0 0 4 7]', 'position_0x0', '[0 0 4 7]', 'position_0x0', '[9 0 3 7]', 'bar', 'position_0x0', '[9 0 3 7]', 'position_0x0', '[9 0 3 7]', 'position_0x0', '[5 0 4 7]', 'bar', 'position_0x0', '[5 0 4 7]', 'position_0x0', '[5 0 4 7]', 'position_0x0', '[5 0 4 7]', 'position_0x0', '[0 0 4 7]', 'bar', 'position_0x0', '[0 0 4 7]', 'bar', 'position_0x0', '[9 0 3 7]', 'bar', 'position_0x0', '[5 0 4 7]', 'bar', 'position_0x0', '[0 0 4 7]', 'bar', 'position_0x0', '[0 0 4 7]', 'bar', 'position_0x0', '[9 0 3 7]', 'bar', 'position_0x0', '[5 0 4 7]']\n",
      "[5, 7, 26, 5, 7, 26, 7, 26, 5, 7, 26, 7, 26, 7, 26, 7, 27, 5, 7, 27, 7, 27, 7, 28, 13, 28, 13, 28, 5, 7, 26, 5, 7, 26, 7, 26, 5, 7, 26, 7, 26, 7, 26, 7, 27, 5, 7, 27, 7, 27, 7, 28, 5, 7, 28, 7, 28, 7, 28, 7, 26, 5, 7, 26, 5, 7, 27, 5, 7, 28, 5, 7, 26, 5, 7, 26, 5, 7, 27, 5, 7, 28]\n",
      "vocab_size:  194\n",
      "mean len:  47.00932814467208\n",
      "std len:  30.55923523521828\n",
      "mean cr:  0.2771531358302415\n",
      "std cr:  0.1021898224546498\n"
     ]
    }
   ],
   "source": [
    "print('GCTSymbolTokenizer')\n",
    "gctSymbolTokenizer = GCTSymbolTokenizer()\n",
    "print('training')\n",
    "gctSymbolTokenizer.fit( hk_pieces )\n",
    "print('len(gctSymbolTokenizer.vocab): ', len(gctSymbolTokenizer.vocab))\n",
    "initialize_stats('GCTSymbolTokenizer', gctSymbolTokenizer)\n",
    "toks_gct_symb = gctSymbolTokenizer(hk_pieces)\n",
    "print('example sentence length: ', len(toks_gct_symb['tokens'][0]))\n",
    "print(toks_gct_symb['tokens'][0])\n",
    "print(toks_gct_symb['ids'][0])\n",
    "update_stats('GCTSymbolTokenizer', toks_gct_symb)\n",
    "print_stats('GCTSymbolTokenizer')"
   ]
  },
  {
   "cell_type": "code",
   "execution_count": 14,
   "metadata": {},
   "outputs": [
    {
     "name": "stdout",
     "output_type": "stream",
     "text": [
      "GCTRootTypeTokenizer\n",
      "training\n",
      "len(gctRootTypeTokenizer.vocab):  67\n",
      "example sentence length:  115\n",
      "['bar', 'position_0x0', 'chord_root_0', '[0 4 7]', 'bar', 'position_0x0', 'chord_root_0', '[0 4 7]', 'position_0x0', 'chord_root_0', '[0 4 7]', 'bar', 'position_0x0', 'chord_root_0', '[0 4 7]', 'position_0x0', 'chord_root_0', '[0 4 7]', 'position_0x0', 'chord_root_0', '[0 4 7]', 'position_0x0', 'chord_root_9', '[0 3 7]', 'bar', 'position_0x0', 'chord_root_9', '[0 3 7]', 'position_0x0', 'chord_root_9', '[0 3 7]', 'position_0x0', 'chord_root_5', '[0 4 7]', 'position_3x0', 'chord_root_5', '[0 4 7]', 'position_3x0', 'chord_root_5', '[0 4 7]', 'bar', 'position_0x0', 'chord_root_0', '[0 4 7]', 'bar', 'position_0x0', 'chord_root_0', '[0 4 7]', 'position_0x0', 'chord_root_0', '[0 4 7]', 'bar', 'position_0x0', 'chord_root_0', '[0 4 7]', 'position_0x0', 'chord_root_0', '[0 4 7]', 'position_0x0', 'chord_root_0', '[0 4 7]', 'position_0x0', 'chord_root_9', '[0 3 7]', 'bar', 'position_0x0', 'chord_root_9', '[0 3 7]', 'position_0x0', 'chord_root_9', '[0 3 7]', 'position_0x0', 'chord_root_5', '[0 4 7]', 'bar', 'position_0x0', 'chord_root_5', '[0 4 7]', 'position_0x0', 'chord_root_5', '[0 4 7]', 'position_0x0', 'chord_root_5', '[0 4 7]', 'position_0x0', 'chord_root_0', '[0 4 7]', 'bar', 'position_0x0', 'chord_root_0', '[0 4 7]', 'bar', 'position_0x0', 'chord_root_9', '[0 3 7]', 'bar', 'position_0x0', 'chord_root_5', '[0 4 7]', 'bar', 'position_0x0', 'chord_root_0', '[0 4 7]', 'bar', 'position_0x0', 'chord_root_0', '[0 4 7]', 'bar', 'position_0x0', 'chord_root_9', '[0 3 7]', 'bar', 'position_0x0', 'chord_root_5', '[0 4 7]']\n",
      "[5, 7, 27, 38, 5, 7, 27, 38, 7, 27, 38, 5, 7, 27, 38, 7, 27, 38, 7, 27, 38, 7, 36, 39, 5, 7, 36, 39, 7, 36, 39, 7, 32, 38, 13, 32, 38, 13, 32, 38, 5, 7, 27, 38, 5, 7, 27, 38, 7, 27, 38, 5, 7, 27, 38, 7, 27, 38, 7, 27, 38, 7, 36, 39, 5, 7, 36, 39, 7, 36, 39, 7, 32, 38, 5, 7, 32, 38, 7, 32, 38, 7, 32, 38, 7, 27, 38, 5, 7, 27, 38, 5, 7, 36, 39, 5, 7, 32, 38, 5, 7, 27, 38, 5, 7, 27, 38, 5, 7, 36, 39, 5, 7, 32, 38]\n",
      "vocab_size:  326\n",
      "mean len:  64.93830834382511\n",
      "std len:  43.75202835200243\n",
      "mean cr:  0.23884636986348096\n",
      "std cr:  0.09012180708434134\n"
     ]
    }
   ],
   "source": [
    "print('GCTRootTypeTokenizer')\n",
    "gctRootTypeTokenizer = GCTRootTypeTokenizer()\n",
    "print('training')\n",
    "gctRootTypeTokenizer.fit( hk_pieces )\n",
    "print('len(gctRootTypeTokenizer.vocab): ', len(gctRootTypeTokenizer.vocab))\n",
    "initialize_stats('GCTRootTypeTokenizer', chordSymbolTokenizer)\n",
    "toks_gct_rt = gctRootTypeTokenizer(hk_pieces)\n",
    "print('example sentence length: ', len(toks_gct_rt['tokens'][0]))\n",
    "print(toks_gct_rt['tokens'][0])\n",
    "print(toks_gct_rt['ids'][0])\n",
    "update_stats('GCTRootTypeTokenizer', toks_gct_rt)\n",
    "print_stats('GCTRootTypeTokenizer')"
   ]
  },
  {
   "cell_type": "code",
   "execution_count": 16,
   "metadata": {},
   "outputs": [],
   "source": [
    "# print stats\n",
    "tokenizers = ['ChordSymbolTokenizer', 'GCTSymbolTokenizer',\\\n",
    "              'RootTypeTokenizer', 'GCTRootTypeTokenizer',\\\n",
    "              'PitchClassTokenizer', 'RootPCTokenizer', 'GCTRootPCTokenizer'\n",
    "              ]\n",
    "\n",
    "results_path = 'vocab_stats_hk.csv' #for hook theory\n",
    "\n",
    "result_fields = ['Tokenizer', 'vocab_size'] + list( stats['ChordSymbolTokenizer'].keys() )[3:]\n",
    "\n",
    "with open( results_path, 'w' ) as f:\n",
    "    writer = csv.writer(f)\n",
    "    writer.writerow( result_fields )\n",
    "\n",
    "for tok in tokenizers:\n",
    "    with open( results_path, 'a' ) as f:\n",
    "            writer = csv.writer(f)\n",
    "            writer.writerow( [tok] + [stats[tok]['vocab_size']] + list( stats[tok].values() )[3:] )"
   ]
  }
 ],
 "metadata": {
  "kernelspec": {
   "display_name": "Python 3",
   "language": "python",
   "name": "python3"
  },
  "language_info": {
   "codemirror_mode": {
    "name": "ipython",
    "version": 3
   },
   "file_extension": ".py",
   "mimetype": "text/x-python",
   "name": "python",
   "nbconvert_exporter": "python",
   "pygments_lexer": "ipython3",
   "version": "3.11.4"
  }
 },
 "nbformat": 4,
 "nbformat_minor": 2
}
