{
 "cells": [
  {
   "cell_type": "code",
   "execution_count": 1,
   "metadata": {},
   "outputs": [],
   "source": [
    "# USER OPTIONS\n",
    "# define tokenizer name - should be one among the keys in the cell below\n",
    "# tokenizer_name = 'ChordSymbolTokenizer' # or any other name from the keys in tokenizers dictionary\n",
    "tokenizer_name = 'RootTypeTokenizer'\n",
    "# tokenizer_name = 'PitchClassTokenizer'\n",
    "csvs_folder = 'tokenized/gpt/'"
   ]
  },
  {
   "cell_type": "code",
   "execution_count": 2,
   "metadata": {},
   "outputs": [
    {
     "name": "stderr",
     "output_type": "stream",
     "text": [
      "/home/maximos/miniconda3/envs/torch/lib/python3.12/site-packages/tqdm/auto.py:21: TqdmWarning: IProgress not found. Please update jupyter and ipywidgets. See https://ipywidgets.readthedocs.io/en/stable/user_install.html\n",
      "  from .autonotebook import tqdm as notebook_tqdm\n"
     ]
    }
   ],
   "source": [
    "from data_utils import MergedMelHarmDataset, PureGenCollator\n",
    "import os\n",
    "import numpy as np\n",
    "from harmony_tokenizers_m21 import ChordSymbolTokenizer, RootTypeTokenizer, \\\n",
    "    PitchClassTokenizer, RootPCTokenizer, GCTRootPCTokenizer, \\\n",
    "    GCTSymbolTokenizer, GCTRootTypeTokenizer, MelodyPitchTokenizer, \\\n",
    "    MergedMelHarmTokenizer\n",
    "import pandas as pd"
   ]
  },
  {
   "cell_type": "code",
   "execution_count": 3,
   "metadata": {},
   "outputs": [],
   "source": [
    "tokenizers = {\n",
    "    'ChordSymbolTokenizer': ChordSymbolTokenizer,\n",
    "    'RootTypeTokenizer': RootTypeTokenizer,\n",
    "    'PitchClassTokenizer': PitchClassTokenizer,\n",
    "    'RootPCTokenizer': RootPCTokenizer,\n",
    "    'GCTRootPCTokenizer': GCTRootPCTokenizer,\n",
    "    'GCTSymbolTokenizer': GCTSymbolTokenizer,\n",
    "    'GCTRootTypeTokenizer': GCTRootTypeTokenizer\n",
    "}"
   ]
  },
  {
   "cell_type": "code",
   "execution_count": 4,
   "metadata": {},
   "outputs": [],
   "source": [
    "melody_tokenizer = MelodyPitchTokenizer.from_pretrained('saved_tokenizers/MelodyPitchTokenizer')\n",
    "harmony_tokenizer = tokenizers[tokenizer_name].from_pretrained('saved_tokenizers/' + tokenizer_name)\n",
    "\n",
    "tokenizer = MergedMelHarmTokenizer(melody_tokenizer, harmony_tokenizer)"
   ]
  },
  {
   "cell_type": "code",
   "execution_count": 5,
   "metadata": {},
   "outputs": [],
   "source": [
    "c = pd.read_csv( csvs_folder + tokenizer_name + '.csv' )"
   ]
  },
  {
   "cell_type": "code",
   "execution_count": 6,
   "metadata": {},
   "outputs": [
    {
     "name": "stdout",
     "output_type": "stream",
     "text": [
      "['<s>', '<bar>', 'ts_4x4', 'position_0x00', 'P:64', 'position_1x50', 'P:64', 'position_2x50', 'P:60', 'position_3x50', 'P:62', '<bar>', 'position_0x00', 'P:63', 'position_0x50', 'P:62', 'position_1x00', 'P:60', 'position_1x50', 'P:63', 'position_2x00', 'P:62', 'position_2x50', 'P:60', 'position_3x00', 'P:58', 'position_3x50', 'P:63', '<bar>', 'position_0x00', 'P:62', 'position_1x50', 'P:60', 'position_2x50', 'P:58', '<bar>', 'position_0x00', '<rest>', 'position_3x50', 'P:60', '<bar>', 'position_0x00', 'P:67', 'position_0x50', 'P:67', 'position_1x50', 'P:67', 'position_2x50', 'P:67', 'position_3x50', 'P:67', '<bar>', 'position_0x00', 'P:67', 'position_1x50', '<rest>', 'position_3x50', 'P:67', '<bar>', 'position_0x00', 'P:67', 'position_1x50', 'P:67', 'position_2x50', 'P:67', 'position_3x00', 'P:67', 'position_3x50', 'P:69', '<bar>', 'position_0x00', 'P:69', 'position_0x50', 'P:67', 'position_1x50', 'P:60', 'position_2x50', 'P:60', 'position_3x50', 'P:64', '<bar>', 'position_0x00', 'P:64', 'position_0x50', 'P:67', 'position_1x50', 'P:67', 'position_2x50', 'P:67', 'position_3x50', 'P:67', '<h>', '<h>', '<bar>', 'position_0x00', 'C', 'maj', '<bar>', 'position_0x00', 'C', 'min', '<bar>', 'position_0x00', 'A#', 'maj', '<bar>', 'position_0x00', 'C', 'maj', '<bar>', 'position_0x00', 'E', 'min7', '<bar>', 'position_0x00', 'D#', 'maj', '<bar>', 'position_0x00', 'F', 'maj', '<bar>', 'position_0x00', 'C', 'maj', '<bar>', 'position_0x00', 'E', 'min7', '</s>']\n"
     ]
    }
   ],
   "source": [
    "x = c['melody'].iloc[1].split() + c['real'].iloc[1].split()\n",
    "# x = c['melody'].iloc[1].split() + c['generated'].iloc[1].split()\n",
    "# x = c['melody'].iloc[2].split() + c['real'].iloc[2].split()\n",
    "print(x)"
   ]
  },
  {
   "cell_type": "code",
   "execution_count": 7,
   "metadata": {},
   "outputs": [
    {
     "name": "stdout",
     "output_type": "stream",
     "text": [
      "Saved as test.mxl\n"
     ]
    }
   ],
   "source": [
    "tokenizer.decode(x, output_format='file', output_path='test.mxl')\n",
    "# tokenizer.decode(x, output_format='file', output_path='test.midi')"
   ]
  }
 ],
 "metadata": {
  "kernelspec": {
   "display_name": "torch",
   "language": "python",
   "name": "python3"
  },
  "language_info": {
   "codemirror_mode": {
    "name": "ipython",
    "version": 3
   },
   "file_extension": ".py",
   "mimetype": "text/x-python",
   "name": "python",
   "nbconvert_exporter": "python",
   "pygments_lexer": "ipython3",
   "version": "3.12.2"
  }
 },
 "nbformat": 4,
 "nbformat_minor": 2
}
