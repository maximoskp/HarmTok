{
 "cells": [
  {
   "cell_type": "code",
   "execution_count": 1,
   "metadata": {},
   "outputs": [],
   "source": [
    "# USER OPTIONS\n",
    "# define tokenizer name - should be one among the keys in the cell below\n",
    "# tokenizer_name = 'ChordSymbolTokenizer' # or any other name from the keys in tokenizers dictionary\n",
    "# tokenizer_name = 'RootTypeTokenizer'\n",
    "tokenizer_name = 'PitchClassTokenizer'\n",
    "csvs_folder = 'tokenized/gpt/'"
   ]
  },
  {
   "cell_type": "code",
   "execution_count": 2,
   "metadata": {},
   "outputs": [
    {
     "name": "stderr",
     "output_type": "stream",
     "text": [
      "/home/maximos/miniconda3/envs/torch/lib/python3.12/site-packages/tqdm/auto.py:21: TqdmWarning: IProgress not found. Please update jupyter and ipywidgets. See https://ipywidgets.readthedocs.io/en/stable/user_install.html\n",
      "  from .autonotebook import tqdm as notebook_tqdm\n"
     ]
    }
   ],
   "source": [
    "from data_utils import MergedMelHarmDataset, PureGenCollator\n",
    "import os\n",
    "import numpy as np\n",
    "from harmony_tokenizers_m21 import ChordSymbolTokenizer, RootTypeTokenizer, \\\n",
    "    PitchClassTokenizer, RootPCTokenizer, GCTRootPCTokenizer, \\\n",
    "    GCTSymbolTokenizer, GCTRootTypeTokenizer, MelodyPitchTokenizer, \\\n",
    "    MergedMelHarmTokenizer\n",
    "import pandas as pd"
   ]
  },
  {
   "cell_type": "code",
   "execution_count": 3,
   "metadata": {},
   "outputs": [],
   "source": [
    "tokenizers = {\n",
    "    'ChordSymbolTokenizer': ChordSymbolTokenizer,\n",
    "    'RootTypeTokenizer': RootTypeTokenizer,\n",
    "    'PitchClassTokenizer': PitchClassTokenizer,\n",
    "    'RootPCTokenizer': RootPCTokenizer,\n",
    "    'GCTRootPCTokenizer': GCTRootPCTokenizer,\n",
    "    'GCTSymbolTokenizer': GCTSymbolTokenizer,\n",
    "    'GCTRootTypeTokenizer': GCTRootTypeTokenizer\n",
    "}"
   ]
  },
  {
   "cell_type": "code",
   "execution_count": 4,
   "metadata": {},
   "outputs": [],
   "source": [
    "melody_tokenizer = MelodyPitchTokenizer.from_pretrained('saved_tokenizers/MelodyPitchTokenizer')\n",
    "harmony_tokenizer = tokenizers[tokenizer_name].from_pretrained('saved_tokenizers/' + tokenizer_name)\n",
    "\n",
    "tokenizer = MergedMelHarmTokenizer(melody_tokenizer, harmony_tokenizer)"
   ]
  },
  {
   "cell_type": "code",
   "execution_count": 5,
   "metadata": {},
   "outputs": [],
   "source": [
    "c = pd.read_csv( csvs_folder + tokenizer_name + '.csv' )"
   ]
  },
  {
   "cell_type": "code",
   "execution_count": 6,
   "metadata": {},
   "outputs": [
    {
     "name": "stdout",
     "output_type": "stream",
     "text": [
      "['<s>', '<bar>', 'ts_4x4', 'position_0x00', 'P:69', 'position_2x00', 'P:69', 'position_2x25', 'P:71', 'position_2x50', 'P:72', '<bar>', 'position_0x00', 'P:74', 'position_2x00', 'P:74', 'position_2x25', 'P:76', 'position_2x50', 'P:77', '<bar>', 'position_0x00', 'P:69', 'position_2x00', 'P:69', 'position_2x25', 'P:71', 'position_2x50', 'P:72', '<bar>', 'position_0x00', 'P:74', 'position_2x00', 'P:74', 'position_2x25', 'P:72', 'position_2x50', 'P:71', 'position_2x75', 'P:69', 'position_3x00', '<rest>', '<bar>', 'position_0x00', 'P:69', 'position_2x00', 'P:69', 'position_2x25', 'P:71', 'position_2x50', 'P:72', '<bar>', 'position_0x00', 'P:74', 'position_2x00', 'P:74', 'position_2x25', 'P:76', 'position_2x50', 'P:77', '<bar>', 'position_0x00', 'P:69', 'position_2x00', 'P:69', 'position_2x25', 'P:71', 'position_2x50', 'P:72', '<bar>', 'position_0x00', 'P:74', 'position_2x00', 'P:74', 'position_2x25', 'P:72', 'position_2x50', 'P:71', 'position_2x75', 'P:69', 'position_3x00', '<rest>', '<h>', '<h>', '<bar>', 'position_0x00', 'A', 'min', 'position_3x00', 'C', 'maj', '<bar>', 'position_0x00', 'D', 'min', 'position_3x00', 'F', 'maj', '<bar>', 'position_0x00', 'A', 'min', 'position_3x00', 'C', 'maj', '<bar>', 'position_0x00', 'D', 'min', 'position_3x00', 'F', 'maj', '<bar>', 'position_0x00', 'A', 'min', 'position_3x00', 'C', 'maj', '<bar>', 'position_0x00', 'D', 'min', 'position_3x00', 'F', 'maj', '<bar>', 'position_0x00', 'A', 'min', 'position_3x00', 'C', 'maj', '<bar>', 'position_0x00', 'D', 'min', 'position_3x00', 'F', 'maj', '</s>']\n"
     ]
    }
   ],
   "source": [
    "x = c['melody'].iloc[0].split() + c['real'].iloc[0].split()\n",
    "print(x)"
   ]
  },
  {
   "cell_type": "code",
   "execution_count": 7,
   "metadata": {},
   "outputs": [
    {
     "name": "stdout",
     "output_type": "stream",
     "text": [
      "['A', 'min']\n",
      "['C', 'maj']\n",
      "['D', 'min']\n",
      "['F', 'maj']\n",
      "['A', 'min']\n",
      "['C', 'maj']\n",
      "['D', 'min']\n",
      "['F', 'maj']\n",
      "['A', 'min']\n",
      "['C', 'maj']\n",
      "['D', 'min']\n",
      "['F', 'maj']\n",
      "['A', 'min']\n",
      "['C', 'maj']\n",
      "['D', 'min']\n",
      "['F', 'maj']\n",
      "{0.0} <music21.stream.Measure 1 offset=0.0>\n",
      "    {0.0} <music21.meter.TimeSignature 4/4>\n",
      "    {0.0} <music21.note.Note A>\n",
      "    {2.0} <music21.note.Note A>\n",
      "    {2.25} <music21.note.Note B>\n",
      "    {2.5} <music21.note.Note C>\n",
      "{4.0} <music21.stream.Measure 2 offset=4.0>\n",
      "    {0.0} <music21.note.Note D>\n",
      "    {2.0} <music21.note.Note D>\n",
      "    {2.25} <music21.note.Note E>\n",
      "    {2.5} <music21.note.Note F>\n",
      "{8.0} <music21.stream.Measure 3 offset=8.0>\n",
      "    {0.0} <music21.note.Note A>\n",
      "    {2.0} <music21.note.Note A>\n",
      "    {2.25} <music21.note.Note B>\n",
      "    {2.5} <music21.note.Note C>\n",
      "{12.0} <music21.stream.Measure 4 offset=12.0>\n",
      "    {0.0} <music21.note.Note D>\n",
      "    {2.0} <music21.note.Note D>\n",
      "    {2.25} <music21.note.Note C>\n",
      "    {2.5} <music21.note.Note B>\n",
      "    {2.75} <music21.note.Note A>\n",
      "    {3.0} <music21.note.Rest quarter>\n",
      "{16.0} <music21.stream.Measure 5 offset=16.0>\n",
      "    {0.0} <music21.note.Note A>\n",
      "    {2.0} <music21.note.Note A>\n",
      "    {2.25} <music21.note.Note B>\n",
      "    {2.5} <music21.note.Note C>\n",
      "{20.0} <music21.stream.Measure 6 offset=20.0>\n",
      "    {0.0} <music21.note.Note D>\n",
      "    {2.0} <music21.note.Note D>\n",
      "    {2.25} <music21.note.Note E>\n",
      "    {2.5} <music21.note.Note F>\n",
      "{24.0} <music21.stream.Measure 7 offset=24.0>\n",
      "    {0.0} <music21.note.Note A>\n",
      "    {2.0} <music21.note.Note A>\n",
      "    {2.25} <music21.note.Note B>\n",
      "    {2.5} <music21.note.Note C>\n",
      "{28.0} <music21.stream.Measure 8 offset=28.0>\n",
      "    {0.0} <music21.note.Note D>\n",
      "    {2.0} <music21.note.Note D>\n",
      "    {2.25} <music21.note.Note C>\n",
      "    {2.5} <music21.note.Note B>\n",
      "    {2.75} <music21.note.Note A>\n",
      "    {3.0} <music21.note.Rest quarter>\n"
     ]
    }
   ],
   "source": [
    "tokenizer.decode(x)"
   ]
  }
 ],
 "metadata": {
  "kernelspec": {
   "display_name": "torch",
   "language": "python",
   "name": "python3"
  },
  "language_info": {
   "codemirror_mode": {
    "name": "ipython",
    "version": 3
   },
   "file_extension": ".py",
   "mimetype": "text/x-python",
   "name": "python",
   "nbconvert_exporter": "python",
   "pygments_lexer": "ipython3",
   "version": "3.12.2"
  }
 },
 "nbformat": 4,
 "nbformat_minor": 2
}
