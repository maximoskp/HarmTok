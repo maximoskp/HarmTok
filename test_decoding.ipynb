{
 "cells": [
  {
   "cell_type": "code",
   "execution_count": 1,
   "metadata": {},
   "outputs": [],
   "source": [
    "# USER OPTIONS\n",
    "# define tokenizer name - should be one among the keys in the cell below\n",
    "# tokenizer_name = 'ChordSymbolTokenizer' # or any other name from the keys in tokenizers dictionary\n",
    "# tokenizer_name = 'RootTypeTokenizer'\n",
    "tokenizer_name = 'PitchClassTokenizer'\n",
    "csvs_folder = 'tokenized/gpt/'"
   ]
  },
  {
   "cell_type": "code",
   "execution_count": 2,
   "metadata": {},
   "outputs": [
    {
     "name": "stderr",
     "output_type": "stream",
     "text": [
      "/home/maximos/anaconda3/envs/torch/lib/python3.11/site-packages/tqdm/auto.py:21: TqdmWarning: IProgress not found. Please update jupyter and ipywidgets. See https://ipywidgets.readthedocs.io/en/stable/user_install.html\n",
      "  from .autonotebook import tqdm as notebook_tqdm\n"
     ]
    }
   ],
   "source": [
    "from data_utils import MergedMelHarmDataset, PureGenCollator\n",
    "import os\n",
    "import numpy as np\n",
    "from harmony_tokenizers_m21 import ChordSymbolTokenizer, RootTypeTokenizer, \\\n",
    "    PitchClassTokenizer, RootPCTokenizer, GCTRootPCTokenizer, \\\n",
    "    GCTSymbolTokenizer, GCTRootTypeTokenizer, MelodyPitchTokenizer, \\\n",
    "    MergedMelHarmTokenizer\n",
    "import pandas as pd"
   ]
  },
  {
   "cell_type": "code",
   "execution_count": 3,
   "metadata": {},
   "outputs": [],
   "source": [
    "tokenizers = {\n",
    "    'ChordSymbolTokenizer': ChordSymbolTokenizer,\n",
    "    'RootTypeTokenizer': RootTypeTokenizer,\n",
    "    'PitchClassTokenizer': PitchClassTokenizer,\n",
    "    'RootPCTokenizer': RootPCTokenizer,\n",
    "    'GCTRootPCTokenizer': GCTRootPCTokenizer,\n",
    "    'GCTSymbolTokenizer': GCTSymbolTokenizer,\n",
    "    'GCTRootTypeTokenizer': GCTRootTypeTokenizer\n",
    "}"
   ]
  },
  {
   "cell_type": "code",
   "execution_count": 4,
   "metadata": {},
   "outputs": [],
   "source": [
    "melody_tokenizer = MelodyPitchTokenizer.from_pretrained('saved_tokenizers/MelodyPitchTokenizer')\n",
    "harmony_tokenizer = tokenizers[tokenizer_name].from_pretrained('saved_tokenizers/' + tokenizer_name)\n",
    "\n",
    "tokenizer = MergedMelHarmTokenizer(melody_tokenizer, harmony_tokenizer)"
   ]
  },
  {
   "cell_type": "code",
   "execution_count": 5,
   "metadata": {},
   "outputs": [],
   "source": [
    "c = pd.read_csv( csvs_folder + tokenizer_name + '.csv' )"
   ]
  },
  {
   "cell_type": "code",
   "execution_count": 8,
   "metadata": {},
   "outputs": [
    {
     "name": "stdout",
     "output_type": "stream",
     "text": [
      "['<s>', '<bar>', 'ts_4x4', 'position_0x00', 'P:72', '<bar>', 'position_0x00', 'P:71', 'position_1x50', 'P:72', 'position_3x00', 'P:74', '<bar>', 'position_0x00', 'P:72', '<bar>', 'position_0x00', 'P:72', 'position_2x00', 'P:72', 'position_3x00', 'P:74', '<bar>', 'position_0x00', 'P:76', '<bar>', 'position_0x00', 'P:74', 'position_1x50', 'P:72', 'position_3x00', 'P:71', '<bar>', 'position_0x00', 'P:72', '<bar>', 'position_0x00', 'P:72', '<bar>', 'position_0x00', 'P:76', '<h>', '<h>', '<bar>', 'position_0x00', 'chord_pc_9', 'chord_pc_0', 'chord_pc_4', '<bar>', 'position_0x00', 'chord_pc_9', 'chord_pc_0', 'chord_pc_4', '<bar>', 'position_0x00', 'chord_pc_5', 'chord_pc_9', 'chord_pc_0', '<bar>', 'position_0x00', 'chord_pc_5', 'chord_pc_9', 'chord_pc_0', '<bar>', 'position_0x00', 'chord_pc_9', 'chord_pc_0', 'chord_pc_4', '<bar>', 'position_0x00', 'chord_pc_9', 'chord_pc_0', 'chord_pc_4', '<bar>', 'position_0x00', 'chord_pc_5', 'chord_pc_9', 'chord_pc_0', '<bar>', 'position_0x00', 'chord_pc_5', 'chord_pc_9', 'chord_pc_0', '<bar>', 'position_0x00', 'chord_pc_9', 'chord_pc_0', 'chord_pc_4', '</s>']\n"
     ]
    }
   ],
   "source": [
    "x = c['melody'].iloc[1].split() + c['real'].iloc[1].split()\n",
    "# x = c['melody'].iloc[1].split() + c['generated'].iloc[1].split()\n",
    "# x = c['melody'].iloc[2].split() + c['real'].iloc[2].split()\n",
    "print(x)"
   ]
  },
  {
   "cell_type": "code",
   "execution_count": 9,
   "metadata": {},
   "outputs": [
    {
     "name": "stdout",
     "output_type": "stream",
     "text": [
      "['chord_pc_9', 'chord_pc_0', 'chord_pc_4'] <music21.harmony.ChordSymbol Am/C>\n",
      "['chord_pc_9', 'chord_pc_0', 'chord_pc_4'] <music21.harmony.ChordSymbol Am/C>\n",
      "['chord_pc_5', 'chord_pc_9', 'chord_pc_0'] <music21.harmony.ChordSymbol F/C>\n",
      "['chord_pc_5', 'chord_pc_9', 'chord_pc_0'] <music21.harmony.ChordSymbol F/C>\n",
      "['chord_pc_9', 'chord_pc_0', 'chord_pc_4'] <music21.harmony.ChordSymbol Am/C>\n",
      "['chord_pc_9', 'chord_pc_0', 'chord_pc_4'] <music21.harmony.ChordSymbol Am/C>\n",
      "['chord_pc_5', 'chord_pc_9', 'chord_pc_0'] <music21.harmony.ChordSymbol F/C>\n",
      "['chord_pc_5', 'chord_pc_9', 'chord_pc_0'] <music21.harmony.ChordSymbol F/C>\n",
      "['chord_pc_9', 'chord_pc_0', 'chord_pc_4'] <music21.harmony.ChordSymbol Am/C>\n",
      "Saved as test.mxl\n"
     ]
    }
   ],
   "source": [
    "tokenizer.decode(x, output_format='file', output_path='test.mxl')"
   ]
  }
 ],
 "metadata": {
  "kernelspec": {
   "display_name": "torch",
   "language": "python",
   "name": "python3"
  },
  "language_info": {
   "codemirror_mode": {
    "name": "ipython",
    "version": 3
   },
   "file_extension": ".py",
   "mimetype": "text/x-python",
   "name": "python",
   "nbconvert_exporter": "python",
   "pygments_lexer": "ipython3",
   "version": "3.11.5"
  }
 },
 "nbformat": 4,
 "nbformat_minor": 2
}
